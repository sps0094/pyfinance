{
 "cells": [
  {
   "cell_type": "code",
   "execution_count": 2,
   "metadata": {
    "collapsed": true
   },
   "outputs": [
    {
     "data": {
      "text/html": "        <script type=\"text/javascript\">\n        window.PlotlyConfig = {MathJaxConfig: 'local'};\n        if (window.MathJax) {MathJax.Hub.Config({SVG: {font: \"STIX-Web\"}});}\n        if (typeof require !== 'undefined') {\n        require.undef(\"plotly\");\n        requirejs.config({\n            paths: {\n                'plotly': ['https://cdn.plot.ly/plotly-latest.min']\n            }\n        });\n        require(['plotly'], function(Plotly) {\n            window._Plotly = Plotly;\n        });\n        }\n        </script>\n        "
     },
     "metadata": {},
     "output_type": "display_data"
    },
    {
     "name": "stdout",
     "output_type": "stream",
     "text": [
      "The autoreload extension is already loaded. To reload it, use:\n",
      "  %reload_ext autoreload\n"
     ]
    }
   ],
   "source": [
    "import edhec_risk_kit as erk\n",
    "import numpy as np\n",
    "import pandas as pd\n",
    "from pandas.tseries.offsets import MonthBegin\n",
    "import plotly.graph_objs as go\n",
    "import plotly.offline as pyo\n",
    "pyo.init_notebook_mode(connected=True)\n",
    "%load_ext autoreload\n",
    "%autoreload 2\n",
    "\n"
   ]
  },
  {
   "cell_type": "markdown",
   "source": [
    "START LAB 201"
   ],
   "metadata": {
    "collapsed": false,
    "pycharm": {
     "name": "#%% md\n"
    }
   }
  },
  {
   "cell_type": "code",
   "execution_count": 3,
   "outputs": [
    {
     "name": "stdout",
     "output_type": "stream",
     "text": [
      "                            OLS Regression Results                            \n",
      "==============================================================================\n",
      "Dep. Variable:                   BRKA   R-squared:                       0.317\n",
      "Model:                            OLS   Adj. R-squared:                  0.311\n",
      "Method:                 Least Squares   F-statistic:                     53.29\n",
      "Date:                Fri, 22 May 2020   Prob (F-statistic):           2.59e-28\n",
      "Time:                        09:20:09   Log-Likelihood:                 567.01\n",
      "No. Observations:                 348   AIC:                            -1126.\n",
      "Df Residuals:                     344   BIC:                            -1111.\n",
      "Df Model:                           3                                         \n",
      "Covariance Type:            nonrobust                                         \n",
      "==============================================================================\n",
      "                 coef    std err          t      P>|t|      [0.025      0.975]\n",
      "------------------------------------------------------------------------------\n",
      "Mkt-RF         0.7096      0.063     11.350      0.000       0.587       0.833\n",
      "SMB           -0.4829      0.085     -5.696      0.000      -0.650      -0.316\n",
      "HML            0.4053      0.090      4.494      0.000       0.228       0.583\n",
      "Alpha          0.0052      0.003      1.991      0.047    6.18e-05       0.010\n",
      "==============================================================================\n",
      "Omnibus:                       64.922   Durbin-Watson:                   2.162\n",
      "Prob(Omnibus):                  0.000   Jarque-Bera (JB):              138.061\n",
      "Skew:                           0.962   Prob(JB):                     1.05e-30\n",
      "Kurtosis:                       5.413   Cond. No.                         38.1\n",
      "==============================================================================\n",
      "\n",
      "Warnings:\n",
      "[1] Standard Errors assume that the covariance matrix of the errors is correctly specified.\n",
      "                                 OLS Regression Results                                \n",
      "=======================================================================================\n",
      "Dep. Variable:                   BRKA   R-squared (uncentered):                   0.328\n",
      "Model:                            OLS   Adj. R-squared (uncentered):              0.323\n",
      "Method:                 Least Squares   F-statistic:                              56.23\n",
      "Date:                Fri, 22 May 2020   Prob (F-statistic):                    1.29e-29\n",
      "Time:                        09:20:09   Log-Likelihood:                          565.02\n",
      "No. Observations:                 348   AIC:                                     -1124.\n",
      "Df Residuals:                     345   BIC:                                     -1112.\n",
      "Df Model:                           3                                                  \n",
      "Covariance Type:            nonrobust                                                  \n",
      "==============================================================================\n",
      "                 coef    std err          t      P>|t|      [0.025      0.975]\n",
      "------------------------------------------------------------------------------\n",
      "Mkt-RF         0.7281      0.062     11.726      0.000       0.606       0.850\n",
      "SMB           -0.4786      0.085     -5.622      0.000      -0.646      -0.311\n",
      "HML            0.4208      0.090      4.664      0.000       0.243       0.598\n",
      "==============================================================================\n",
      "Omnibus:                       65.225   Durbin-Watson:                   2.143\n",
      "Prob(Omnibus):                  0.000   Jarque-Bera (JB):              139.287\n",
      "Skew:                           0.964   Prob(JB):                     5.68e-31\n",
      "Kurtosis:                       5.426   Cond. No.                         1.70\n",
      "==============================================================================\n",
      "\n",
      "Warnings:\n",
      "[1] Standard Errors assume that the covariance matrix of the errors is correctly specified.\n"
     ]
    }
   ],
   "source": [
    "brka_d = pd.read_csv('data/brka_d_ret.csv', parse_dates=True, index_col=0)\n",
    "brka_m = brka_d.resample('1M').apply(erk.cumulate)\n",
    "brka_m.index -= MonthBegin(1)\n",
    "fff = erk.get_df(filename='data/F-F_Research_Data_Factors_m.csv', start_period=None, end_period=None,\n",
    "                 format='%Y%m', reqd_strategies=None)\n",
    "rr_capm = erk.regress(brka_m, fff[['Mkt-RF', 'RF']], '1990', rfcol='RF')\n",
    "rr_ffm = erk.regress(brka_m, fff, '1990', rfcol='RF')\n",
    "rr_ffm_nint = erk.regress(brka_m, fff, '1990', rfcol='RF', intercept=False)\n",
    "print(rr_ffm.summary())\n",
    "print(rr_ffm_nint.summary())"
   ],
   "metadata": {
    "collapsed": false,
    "pycharm": {
     "name": "#%%\n"
    }
   }
  },
  {
   "cell_type": "markdown",
   "source": [
    "START LAB 202"
   ],
   "metadata": {
    "collapsed": false,
    "pycharm": {
     "name": "#%% md\n"
    }
   }
  },
  {
   "cell_type": "code",
   "execution_count": 4,
   "outputs": [],
   "source": [
    "ind = erk.get_df('data/ind30_m_vw_rets.csv', start_period='2000', format='%Y%m', mode='return', end_period=None, reqd_strategies=None)\n",
    "mgr_r = 0.3*ind[\"Beer\"] + .5*ind[\"Smoke\"] + 0.2*np.random.normal(scale=0.15/(12**.5), size=ind.shape[0])\n",
    "weights = erk.style_analyze(mgr_r, ind, start_period='2000')\n",
    "style_coeff = erk.regress(mgr_r, ind, intercept=False, excess_mkt=False).params\n"
   ],
   "metadata": {
    "collapsed": false,
    "pycharm": {
     "name": "#%%\n"
    }
   }
  },
  {
   "cell_type": "markdown",
   "source": [
    "PLOT FUNCTION"
   ],
   "metadata": {
    "collapsed": false,
    "pycharm": {
     "name": "#%% md\n"
    }
   }
  },
  {
   "cell_type": "code",
   "execution_count": 5,
   "outputs": [],
   "source": [
    "def plot_style(wts_coeff: pd.Series):\n",
    "    wts_coeff.sort_values(ascending=False, inplace=True)\n",
    "    wt_data = [go.Bar(x=wts_coeff.index, y=wts_coeff)]\n",
    "    pyo.iplot(wt_data)"
   ],
   "metadata": {
    "collapsed": false,
    "pycharm": {
     "name": "#%%\n"
    }
   }
  },
  {
   "cell_type": "markdown",
   "source": [
    "STYLE MATCHING PLOT USING QUADRATIC OPTIMIZER - MORE ACCURATE"
   ],
   "metadata": {
    "collapsed": false,
    "pycharm": {
     "name": "#%% md\n"
    }
   }
  },
  {
   "cell_type": "code",
   "execution_count": 6,
   "outputs": [
    {
     "data": {
      "application/vnd.plotly.v1+json": {
       "config": {
        "linkText": "Export to plot.ly",
        "plotlyServerURL": "https://plot.ly",
        "showLink": false
       },
       "data": [
        {
         "type": "bar",
         "x": [
          "Smoke",
          "Beer",
          "Food",
          "Hlth",
          "Hshld",
          "Meals",
          "Rtail",
          "Util",
          "Oil",
          "Servs",
          "Paper",
          "FabPr",
          "Txtls",
          "Other",
          "Carry",
          "Games",
          "Chems",
          "Cnstr",
          "ElcEq",
          "Coal",
          "Fin",
          "Mines",
          "Steel",
          "Telcm",
          "Clths",
          "BusEq",
          "Books",
          "Trans",
          "Whlsl",
          "Autos"
         ],
         "y": [
          0.4970676956241305,
          0.2870309812443729,
          0.08088978013187936,
          0.04563673511454079,
          0.03227114872173659,
          0.017546021165306305,
          0.014473992272638977,
          0.010733945716464488,
          0.009864978428519218,
          0.004484721580410743,
          1.4395494345176285E-16,
          1.1169742334231623E-16,
          6.989108092005611E-17,
          4.62683277108189E-17,
          4.3486596490705376E-17,
          3.9022187296972377E-17,
          3.75479772272416E-17,
          1.2253513845823804E-17,
          9.923525285587406E-18,
          9.174457806602437E-18,
          0.0,
          0.0,
          0.0,
          0.0,
          0.0,
          0.0,
          0.0,
          0.0,
          0.0,
          0.0
         ]
        }
       ],
       "layout": {
        "template": {
         "data": {
          "bar": [
           {
            "error_x": {
             "color": "#2a3f5f"
            },
            "error_y": {
             "color": "#2a3f5f"
            },
            "marker": {
             "line": {
              "color": "#E5ECF6",
              "width": 0.5
             }
            },
            "type": "bar"
           }
          ],
          "barpolar": [
           {
            "marker": {
             "line": {
              "color": "#E5ECF6",
              "width": 0.5
             }
            },
            "type": "barpolar"
           }
          ],
          "carpet": [
           {
            "aaxis": {
             "endlinecolor": "#2a3f5f",
             "gridcolor": "white",
             "linecolor": "white",
             "minorgridcolor": "white",
             "startlinecolor": "#2a3f5f"
            },
            "baxis": {
             "endlinecolor": "#2a3f5f",
             "gridcolor": "white",
             "linecolor": "white",
             "minorgridcolor": "white",
             "startlinecolor": "#2a3f5f"
            },
            "type": "carpet"
           }
          ],
          "choropleth": [
           {
            "colorbar": {
             "outlinewidth": 0,
             "ticks": ""
            },
            "type": "choropleth"
           }
          ],
          "contour": [
           {
            "colorbar": {
             "outlinewidth": 0,
             "ticks": ""
            },
            "colorscale": [
             [
              0.0,
              "#0d0887"
             ],
             [
              0.1111111111111111,
              "#46039f"
             ],
             [
              0.2222222222222222,
              "#7201a8"
             ],
             [
              0.3333333333333333,
              "#9c179e"
             ],
             [
              0.4444444444444444,
              "#bd3786"
             ],
             [
              0.5555555555555556,
              "#d8576b"
             ],
             [
              0.6666666666666666,
              "#ed7953"
             ],
             [
              0.7777777777777778,
              "#fb9f3a"
             ],
             [
              0.8888888888888888,
              "#fdca26"
             ],
             [
              1.0,
              "#f0f921"
             ]
            ],
            "type": "contour"
           }
          ],
          "contourcarpet": [
           {
            "colorbar": {
             "outlinewidth": 0,
             "ticks": ""
            },
            "type": "contourcarpet"
           }
          ],
          "heatmap": [
           {
            "colorbar": {
             "outlinewidth": 0,
             "ticks": ""
            },
            "colorscale": [
             [
              0.0,
              "#0d0887"
             ],
             [
              0.1111111111111111,
              "#46039f"
             ],
             [
              0.2222222222222222,
              "#7201a8"
             ],
             [
              0.3333333333333333,
              "#9c179e"
             ],
             [
              0.4444444444444444,
              "#bd3786"
             ],
             [
              0.5555555555555556,
              "#d8576b"
             ],
             [
              0.6666666666666666,
              "#ed7953"
             ],
             [
              0.7777777777777778,
              "#fb9f3a"
             ],
             [
              0.8888888888888888,
              "#fdca26"
             ],
             [
              1.0,
              "#f0f921"
             ]
            ],
            "type": "heatmap"
           }
          ],
          "heatmapgl": [
           {
            "colorbar": {
             "outlinewidth": 0,
             "ticks": ""
            },
            "colorscale": [
             [
              0.0,
              "#0d0887"
             ],
             [
              0.1111111111111111,
              "#46039f"
             ],
             [
              0.2222222222222222,
              "#7201a8"
             ],
             [
              0.3333333333333333,
              "#9c179e"
             ],
             [
              0.4444444444444444,
              "#bd3786"
             ],
             [
              0.5555555555555556,
              "#d8576b"
             ],
             [
              0.6666666666666666,
              "#ed7953"
             ],
             [
              0.7777777777777778,
              "#fb9f3a"
             ],
             [
              0.8888888888888888,
              "#fdca26"
             ],
             [
              1.0,
              "#f0f921"
             ]
            ],
            "type": "heatmapgl"
           }
          ],
          "histogram": [
           {
            "marker": {
             "colorbar": {
              "outlinewidth": 0,
              "ticks": ""
             }
            },
            "type": "histogram"
           }
          ],
          "histogram2d": [
           {
            "colorbar": {
             "outlinewidth": 0,
             "ticks": ""
            },
            "colorscale": [
             [
              0.0,
              "#0d0887"
             ],
             [
              0.1111111111111111,
              "#46039f"
             ],
             [
              0.2222222222222222,
              "#7201a8"
             ],
             [
              0.3333333333333333,
              "#9c179e"
             ],
             [
              0.4444444444444444,
              "#bd3786"
             ],
             [
              0.5555555555555556,
              "#d8576b"
             ],
             [
              0.6666666666666666,
              "#ed7953"
             ],
             [
              0.7777777777777778,
              "#fb9f3a"
             ],
             [
              0.8888888888888888,
              "#fdca26"
             ],
             [
              1.0,
              "#f0f921"
             ]
            ],
            "type": "histogram2d"
           }
          ],
          "histogram2dcontour": [
           {
            "colorbar": {
             "outlinewidth": 0,
             "ticks": ""
            },
            "colorscale": [
             [
              0.0,
              "#0d0887"
             ],
             [
              0.1111111111111111,
              "#46039f"
             ],
             [
              0.2222222222222222,
              "#7201a8"
             ],
             [
              0.3333333333333333,
              "#9c179e"
             ],
             [
              0.4444444444444444,
              "#bd3786"
             ],
             [
              0.5555555555555556,
              "#d8576b"
             ],
             [
              0.6666666666666666,
              "#ed7953"
             ],
             [
              0.7777777777777778,
              "#fb9f3a"
             ],
             [
              0.8888888888888888,
              "#fdca26"
             ],
             [
              1.0,
              "#f0f921"
             ]
            ],
            "type": "histogram2dcontour"
           }
          ],
          "mesh3d": [
           {
            "colorbar": {
             "outlinewidth": 0,
             "ticks": ""
            },
            "type": "mesh3d"
           }
          ],
          "parcoords": [
           {
            "line": {
             "colorbar": {
              "outlinewidth": 0,
              "ticks": ""
             }
            },
            "type": "parcoords"
           }
          ],
          "pie": [
           {
            "automargin": true,
            "type": "pie"
           }
          ],
          "scatter": [
           {
            "marker": {
             "colorbar": {
              "outlinewidth": 0,
              "ticks": ""
             }
            },
            "type": "scatter"
           }
          ],
          "scatter3d": [
           {
            "line": {
             "colorbar": {
              "outlinewidth": 0,
              "ticks": ""
             }
            },
            "marker": {
             "colorbar": {
              "outlinewidth": 0,
              "ticks": ""
             }
            },
            "type": "scatter3d"
           }
          ],
          "scattercarpet": [
           {
            "marker": {
             "colorbar": {
              "outlinewidth": 0,
              "ticks": ""
             }
            },
            "type": "scattercarpet"
           }
          ],
          "scattergeo": [
           {
            "marker": {
             "colorbar": {
              "outlinewidth": 0,
              "ticks": ""
             }
            },
            "type": "scattergeo"
           }
          ],
          "scattergl": [
           {
            "marker": {
             "colorbar": {
              "outlinewidth": 0,
              "ticks": ""
             }
            },
            "type": "scattergl"
           }
          ],
          "scattermapbox": [
           {
            "marker": {
             "colorbar": {
              "outlinewidth": 0,
              "ticks": ""
             }
            },
            "type": "scattermapbox"
           }
          ],
          "scatterpolar": [
           {
            "marker": {
             "colorbar": {
              "outlinewidth": 0,
              "ticks": ""
             }
            },
            "type": "scatterpolar"
           }
          ],
          "scatterpolargl": [
           {
            "marker": {
             "colorbar": {
              "outlinewidth": 0,
              "ticks": ""
             }
            },
            "type": "scatterpolargl"
           }
          ],
          "scatterternary": [
           {
            "marker": {
             "colorbar": {
              "outlinewidth": 0,
              "ticks": ""
             }
            },
            "type": "scatterternary"
           }
          ],
          "surface": [
           {
            "colorbar": {
             "outlinewidth": 0,
             "ticks": ""
            },
            "colorscale": [
             [
              0.0,
              "#0d0887"
             ],
             [
              0.1111111111111111,
              "#46039f"
             ],
             [
              0.2222222222222222,
              "#7201a8"
             ],
             [
              0.3333333333333333,
              "#9c179e"
             ],
             [
              0.4444444444444444,
              "#bd3786"
             ],
             [
              0.5555555555555556,
              "#d8576b"
             ],
             [
              0.6666666666666666,
              "#ed7953"
             ],
             [
              0.7777777777777778,
              "#fb9f3a"
             ],
             [
              0.8888888888888888,
              "#fdca26"
             ],
             [
              1.0,
              "#f0f921"
             ]
            ],
            "type": "surface"
           }
          ],
          "table": [
           {
            "cells": {
             "fill": {
              "color": "#EBF0F8"
             },
             "line": {
              "color": "white"
             }
            },
            "header": {
             "fill": {
              "color": "#C8D4E3"
             },
             "line": {
              "color": "white"
             }
            },
            "type": "table"
           }
          ]
         },
         "layout": {
          "annotationdefaults": {
           "arrowcolor": "#2a3f5f",
           "arrowhead": 0,
           "arrowwidth": 1
          },
          "coloraxis": {
           "colorbar": {
            "outlinewidth": 0,
            "ticks": ""
           }
          },
          "colorscale": {
           "diverging": [
            [
             0,
             "#8e0152"
            ],
            [
             0.1,
             "#c51b7d"
            ],
            [
             0.2,
             "#de77ae"
            ],
            [
             0.3,
             "#f1b6da"
            ],
            [
             0.4,
             "#fde0ef"
            ],
            [
             0.5,
             "#f7f7f7"
            ],
            [
             0.6,
             "#e6f5d0"
            ],
            [
             0.7,
             "#b8e186"
            ],
            [
             0.8,
             "#7fbc41"
            ],
            [
             0.9,
             "#4d9221"
            ],
            [
             1,
             "#276419"
            ]
           ],
           "sequential": [
            [
             0.0,
             "#0d0887"
            ],
            [
             0.1111111111111111,
             "#46039f"
            ],
            [
             0.2222222222222222,
             "#7201a8"
            ],
            [
             0.3333333333333333,
             "#9c179e"
            ],
            [
             0.4444444444444444,
             "#bd3786"
            ],
            [
             0.5555555555555556,
             "#d8576b"
            ],
            [
             0.6666666666666666,
             "#ed7953"
            ],
            [
             0.7777777777777778,
             "#fb9f3a"
            ],
            [
             0.8888888888888888,
             "#fdca26"
            ],
            [
             1.0,
             "#f0f921"
            ]
           ],
           "sequentialminus": [
            [
             0.0,
             "#0d0887"
            ],
            [
             0.1111111111111111,
             "#46039f"
            ],
            [
             0.2222222222222222,
             "#7201a8"
            ],
            [
             0.3333333333333333,
             "#9c179e"
            ],
            [
             0.4444444444444444,
             "#bd3786"
            ],
            [
             0.5555555555555556,
             "#d8576b"
            ],
            [
             0.6666666666666666,
             "#ed7953"
            ],
            [
             0.7777777777777778,
             "#fb9f3a"
            ],
            [
             0.8888888888888888,
             "#fdca26"
            ],
            [
             1.0,
             "#f0f921"
            ]
           ]
          },
          "colorway": [
           "#636efa",
           "#EF553B",
           "#00cc96",
           "#ab63fa",
           "#FFA15A",
           "#19d3f3",
           "#FF6692",
           "#B6E880",
           "#FF97FF",
           "#FECB52"
          ],
          "font": {
           "color": "#2a3f5f"
          },
          "geo": {
           "bgcolor": "white",
           "lakecolor": "white",
           "landcolor": "#E5ECF6",
           "showlakes": true,
           "showland": true,
           "subunitcolor": "white"
          },
          "hoverlabel": {
           "align": "left"
          },
          "hovermode": "closest",
          "mapbox": {
           "style": "light"
          },
          "paper_bgcolor": "white",
          "plot_bgcolor": "#E5ECF6",
          "polar": {
           "angularaxis": {
            "gridcolor": "white",
            "linecolor": "white",
            "ticks": ""
           },
           "bgcolor": "#E5ECF6",
           "radialaxis": {
            "gridcolor": "white",
            "linecolor": "white",
            "ticks": ""
           }
          },
          "scene": {
           "xaxis": {
            "backgroundcolor": "#E5ECF6",
            "gridcolor": "white",
            "gridwidth": 2,
            "linecolor": "white",
            "showbackground": true,
            "ticks": "",
            "zerolinecolor": "white"
           },
           "yaxis": {
            "backgroundcolor": "#E5ECF6",
            "gridcolor": "white",
            "gridwidth": 2,
            "linecolor": "white",
            "showbackground": true,
            "ticks": "",
            "zerolinecolor": "white"
           },
           "zaxis": {
            "backgroundcolor": "#E5ECF6",
            "gridcolor": "white",
            "gridwidth": 2,
            "linecolor": "white",
            "showbackground": true,
            "ticks": "",
            "zerolinecolor": "white"
           }
          },
          "shapedefaults": {
           "line": {
            "color": "#2a3f5f"
           }
          },
          "ternary": {
           "aaxis": {
            "gridcolor": "white",
            "linecolor": "white",
            "ticks": ""
           },
           "baxis": {
            "gridcolor": "white",
            "linecolor": "white",
            "ticks": ""
           },
           "bgcolor": "#E5ECF6",
           "caxis": {
            "gridcolor": "white",
            "linecolor": "white",
            "ticks": ""
           }
          },
          "title": {
           "x": 0.05
          },
          "xaxis": {
           "automargin": true,
           "gridcolor": "white",
           "linecolor": "white",
           "ticks": "",
           "title": {
            "standoff": 15
           },
           "zerolinecolor": "white",
           "zerolinewidth": 2
          },
          "yaxis": {
           "automargin": true,
           "gridcolor": "white",
           "linecolor": "white",
           "ticks": "",
           "title": {
            "standoff": 15
           },
           "zerolinecolor": "white",
           "zerolinewidth": 2
          }
         }
        }
       }
      },
      "text/html": "<div>\n        \n        \n            <div id=\"dff309b5-6e31-4172-8883-03d2bfcb4dd4\" class=\"plotly-graph-div\" style=\"height:525px; width:100%;\"></div>\n            <script type=\"text/javascript\">\n                require([\"plotly\"], function(Plotly) {\n                    window.PLOTLYENV=window.PLOTLYENV || {};\n                    \n                if (document.getElementById(\"dff309b5-6e31-4172-8883-03d2bfcb4dd4\")) {\n                    Plotly.newPlot(\n                        'dff309b5-6e31-4172-8883-03d2bfcb4dd4',\n                        [{\"type\": \"bar\", \"x\": [\"Smoke\", \"Beer\", \"Food\", \"Hlth\", \"Hshld\", \"Meals\", \"Rtail\", \"Util\", \"Oil\", \"Servs\", \"Paper\", \"FabPr\", \"Txtls\", \"Other\", \"Carry\", \"Games\", \"Chems\", \"Cnstr\", \"ElcEq\", \"Coal\", \"Fin\", \"Mines\", \"Steel\", \"Telcm\", \"Clths\", \"BusEq\", \"Books\", \"Trans\", \"Whlsl\", \"Autos\"], \"y\": [0.4970676956241305, 0.2870309812443729, 0.08088978013187936, 0.04563673511454079, 0.03227114872173659, 0.017546021165306305, 0.014473992272638977, 0.010733945716464488, 0.009864978428519218, 0.004484721580410743, 1.4395494345176285e-16, 1.1169742334231623e-16, 6.989108092005611e-17, 4.62683277108189e-17, 4.3486596490705376e-17, 3.9022187296972377e-17, 3.75479772272416e-17, 1.2253513845823804e-17, 9.923525285587406e-18, 9.174457806602437e-18, 0.0, 0.0, 0.0, 0.0, 0.0, 0.0, 0.0, 0.0, 0.0, 0.0]}],\n                        {\"template\": {\"data\": {\"bar\": [{\"error_x\": {\"color\": \"#2a3f5f\"}, \"error_y\": {\"color\": \"#2a3f5f\"}, \"marker\": {\"line\": {\"color\": \"#E5ECF6\", \"width\": 0.5}}, \"type\": \"bar\"}], \"barpolar\": [{\"marker\": {\"line\": {\"color\": \"#E5ECF6\", \"width\": 0.5}}, \"type\": \"barpolar\"}], \"carpet\": [{\"aaxis\": {\"endlinecolor\": \"#2a3f5f\", \"gridcolor\": \"white\", \"linecolor\": \"white\", \"minorgridcolor\": \"white\", \"startlinecolor\": \"#2a3f5f\"}, \"baxis\": {\"endlinecolor\": \"#2a3f5f\", \"gridcolor\": \"white\", \"linecolor\": \"white\", \"minorgridcolor\": \"white\", \"startlinecolor\": \"#2a3f5f\"}, \"type\": \"carpet\"}], \"choropleth\": [{\"colorbar\": {\"outlinewidth\": 0, \"ticks\": \"\"}, \"type\": \"choropleth\"}], \"contour\": [{\"colorbar\": {\"outlinewidth\": 0, \"ticks\": \"\"}, \"colorscale\": [[0.0, \"#0d0887\"], [0.1111111111111111, \"#46039f\"], [0.2222222222222222, \"#7201a8\"], [0.3333333333333333, \"#9c179e\"], [0.4444444444444444, \"#bd3786\"], [0.5555555555555556, \"#d8576b\"], [0.6666666666666666, \"#ed7953\"], [0.7777777777777778, \"#fb9f3a\"], [0.8888888888888888, \"#fdca26\"], [1.0, \"#f0f921\"]], \"type\": \"contour\"}], \"contourcarpet\": [{\"colorbar\": {\"outlinewidth\": 0, \"ticks\": \"\"}, \"type\": \"contourcarpet\"}], \"heatmap\": [{\"colorbar\": {\"outlinewidth\": 0, \"ticks\": \"\"}, \"colorscale\": [[0.0, \"#0d0887\"], [0.1111111111111111, \"#46039f\"], [0.2222222222222222, \"#7201a8\"], [0.3333333333333333, \"#9c179e\"], [0.4444444444444444, \"#bd3786\"], [0.5555555555555556, \"#d8576b\"], [0.6666666666666666, \"#ed7953\"], [0.7777777777777778, \"#fb9f3a\"], [0.8888888888888888, \"#fdca26\"], [1.0, \"#f0f921\"]], \"type\": \"heatmap\"}], \"heatmapgl\": [{\"colorbar\": {\"outlinewidth\": 0, \"ticks\": \"\"}, \"colorscale\": [[0.0, \"#0d0887\"], [0.1111111111111111, \"#46039f\"], [0.2222222222222222, \"#7201a8\"], [0.3333333333333333, \"#9c179e\"], [0.4444444444444444, \"#bd3786\"], [0.5555555555555556, \"#d8576b\"], [0.6666666666666666, \"#ed7953\"], [0.7777777777777778, \"#fb9f3a\"], [0.8888888888888888, \"#fdca26\"], [1.0, \"#f0f921\"]], \"type\": \"heatmapgl\"}], \"histogram\": [{\"marker\": {\"colorbar\": {\"outlinewidth\": 0, \"ticks\": \"\"}}, \"type\": \"histogram\"}], \"histogram2d\": [{\"colorbar\": {\"outlinewidth\": 0, \"ticks\": \"\"}, \"colorscale\": [[0.0, \"#0d0887\"], [0.1111111111111111, \"#46039f\"], [0.2222222222222222, \"#7201a8\"], [0.3333333333333333, \"#9c179e\"], [0.4444444444444444, \"#bd3786\"], [0.5555555555555556, \"#d8576b\"], [0.6666666666666666, \"#ed7953\"], [0.7777777777777778, \"#fb9f3a\"], [0.8888888888888888, \"#fdca26\"], [1.0, \"#f0f921\"]], \"type\": \"histogram2d\"}], \"histogram2dcontour\": [{\"colorbar\": {\"outlinewidth\": 0, \"ticks\": \"\"}, \"colorscale\": [[0.0, \"#0d0887\"], [0.1111111111111111, \"#46039f\"], [0.2222222222222222, \"#7201a8\"], [0.3333333333333333, \"#9c179e\"], [0.4444444444444444, \"#bd3786\"], [0.5555555555555556, \"#d8576b\"], [0.6666666666666666, \"#ed7953\"], [0.7777777777777778, \"#fb9f3a\"], [0.8888888888888888, \"#fdca26\"], [1.0, \"#f0f921\"]], \"type\": \"histogram2dcontour\"}], \"mesh3d\": [{\"colorbar\": {\"outlinewidth\": 0, \"ticks\": \"\"}, \"type\": \"mesh3d\"}], \"parcoords\": [{\"line\": {\"colorbar\": {\"outlinewidth\": 0, \"ticks\": \"\"}}, \"type\": \"parcoords\"}], \"pie\": [{\"automargin\": true, \"type\": \"pie\"}], \"scatter\": [{\"marker\": {\"colorbar\": {\"outlinewidth\": 0, \"ticks\": \"\"}}, \"type\": \"scatter\"}], \"scatter3d\": [{\"line\": {\"colorbar\": {\"outlinewidth\": 0, \"ticks\": \"\"}}, \"marker\": {\"colorbar\": {\"outlinewidth\": 0, \"ticks\": \"\"}}, \"type\": \"scatter3d\"}], \"scattercarpet\": [{\"marker\": {\"colorbar\": {\"outlinewidth\": 0, \"ticks\": \"\"}}, \"type\": \"scattercarpet\"}], \"scattergeo\": [{\"marker\": {\"colorbar\": {\"outlinewidth\": 0, \"ticks\": \"\"}}, \"type\": \"scattergeo\"}], \"scattergl\": [{\"marker\": {\"colorbar\": {\"outlinewidth\": 0, \"ticks\": \"\"}}, \"type\": \"scattergl\"}], \"scattermapbox\": [{\"marker\": {\"colorbar\": {\"outlinewidth\": 0, \"ticks\": \"\"}}, \"type\": \"scattermapbox\"}], \"scatterpolar\": [{\"marker\": {\"colorbar\": {\"outlinewidth\": 0, \"ticks\": \"\"}}, \"type\": \"scatterpolar\"}], \"scatterpolargl\": [{\"marker\": {\"colorbar\": {\"outlinewidth\": 0, \"ticks\": \"\"}}, \"type\": \"scatterpolargl\"}], \"scatterternary\": [{\"marker\": {\"colorbar\": {\"outlinewidth\": 0, \"ticks\": \"\"}}, \"type\": \"scatterternary\"}], \"surface\": [{\"colorbar\": {\"outlinewidth\": 0, \"ticks\": \"\"}, \"colorscale\": [[0.0, \"#0d0887\"], [0.1111111111111111, \"#46039f\"], [0.2222222222222222, \"#7201a8\"], [0.3333333333333333, \"#9c179e\"], [0.4444444444444444, \"#bd3786\"], [0.5555555555555556, \"#d8576b\"], [0.6666666666666666, \"#ed7953\"], [0.7777777777777778, \"#fb9f3a\"], [0.8888888888888888, \"#fdca26\"], [1.0, \"#f0f921\"]], \"type\": \"surface\"}], \"table\": [{\"cells\": {\"fill\": {\"color\": \"#EBF0F8\"}, \"line\": {\"color\": \"white\"}}, \"header\": {\"fill\": {\"color\": \"#C8D4E3\"}, \"line\": {\"color\": \"white\"}}, \"type\": \"table\"}]}, \"layout\": {\"annotationdefaults\": {\"arrowcolor\": \"#2a3f5f\", \"arrowhead\": 0, \"arrowwidth\": 1}, \"coloraxis\": {\"colorbar\": {\"outlinewidth\": 0, \"ticks\": \"\"}}, \"colorscale\": {\"diverging\": [[0, \"#8e0152\"], [0.1, \"#c51b7d\"], [0.2, \"#de77ae\"], [0.3, \"#f1b6da\"], [0.4, \"#fde0ef\"], [0.5, \"#f7f7f7\"], [0.6, \"#e6f5d0\"], [0.7, \"#b8e186\"], [0.8, \"#7fbc41\"], [0.9, \"#4d9221\"], [1, \"#276419\"]], \"sequential\": [[0.0, \"#0d0887\"], [0.1111111111111111, \"#46039f\"], [0.2222222222222222, \"#7201a8\"], [0.3333333333333333, \"#9c179e\"], [0.4444444444444444, \"#bd3786\"], [0.5555555555555556, \"#d8576b\"], [0.6666666666666666, \"#ed7953\"], [0.7777777777777778, \"#fb9f3a\"], [0.8888888888888888, \"#fdca26\"], [1.0, \"#f0f921\"]], \"sequentialminus\": [[0.0, \"#0d0887\"], [0.1111111111111111, \"#46039f\"], [0.2222222222222222, \"#7201a8\"], [0.3333333333333333, \"#9c179e\"], [0.4444444444444444, \"#bd3786\"], [0.5555555555555556, \"#d8576b\"], [0.6666666666666666, \"#ed7953\"], [0.7777777777777778, \"#fb9f3a\"], [0.8888888888888888, \"#fdca26\"], [1.0, \"#f0f921\"]]}, \"colorway\": [\"#636efa\", \"#EF553B\", \"#00cc96\", \"#ab63fa\", \"#FFA15A\", \"#19d3f3\", \"#FF6692\", \"#B6E880\", \"#FF97FF\", \"#FECB52\"], \"font\": {\"color\": \"#2a3f5f\"}, \"geo\": {\"bgcolor\": \"white\", \"lakecolor\": \"white\", \"landcolor\": \"#E5ECF6\", \"showlakes\": true, \"showland\": true, \"subunitcolor\": \"white\"}, \"hoverlabel\": {\"align\": \"left\"}, \"hovermode\": \"closest\", \"mapbox\": {\"style\": \"light\"}, \"paper_bgcolor\": \"white\", \"plot_bgcolor\": \"#E5ECF6\", \"polar\": {\"angularaxis\": {\"gridcolor\": \"white\", \"linecolor\": \"white\", \"ticks\": \"\"}, \"bgcolor\": \"#E5ECF6\", \"radialaxis\": {\"gridcolor\": \"white\", \"linecolor\": \"white\", \"ticks\": \"\"}}, \"scene\": {\"xaxis\": {\"backgroundcolor\": \"#E5ECF6\", \"gridcolor\": \"white\", \"gridwidth\": 2, \"linecolor\": \"white\", \"showbackground\": true, \"ticks\": \"\", \"zerolinecolor\": \"white\"}, \"yaxis\": {\"backgroundcolor\": \"#E5ECF6\", \"gridcolor\": \"white\", \"gridwidth\": 2, \"linecolor\": \"white\", \"showbackground\": true, \"ticks\": \"\", \"zerolinecolor\": \"white\"}, \"zaxis\": {\"backgroundcolor\": \"#E5ECF6\", \"gridcolor\": \"white\", \"gridwidth\": 2, \"linecolor\": \"white\", \"showbackground\": true, \"ticks\": \"\", \"zerolinecolor\": \"white\"}}, \"shapedefaults\": {\"line\": {\"color\": \"#2a3f5f\"}}, \"ternary\": {\"aaxis\": {\"gridcolor\": \"white\", \"linecolor\": \"white\", \"ticks\": \"\"}, \"baxis\": {\"gridcolor\": \"white\", \"linecolor\": \"white\", \"ticks\": \"\"}, \"bgcolor\": \"#E5ECF6\", \"caxis\": {\"gridcolor\": \"white\", \"linecolor\": \"white\", \"ticks\": \"\"}}, \"title\": {\"x\": 0.05}, \"xaxis\": {\"automargin\": true, \"gridcolor\": \"white\", \"linecolor\": \"white\", \"ticks\": \"\", \"title\": {\"standoff\": 15}, \"zerolinecolor\": \"white\", \"zerolinewidth\": 2}, \"yaxis\": {\"automargin\": true, \"gridcolor\": \"white\", \"linecolor\": \"white\", \"ticks\": \"\", \"title\": {\"standoff\": 15}, \"zerolinecolor\": \"white\", \"zerolinewidth\": 2}}}},\n                        {\"responsive\": true}\n                    ).then(function(){\n                            \nvar gd = document.getElementById('dff309b5-6e31-4172-8883-03d2bfcb4dd4');\nvar x = new MutationObserver(function (mutations, observer) {{\n        var display = window.getComputedStyle(gd).display;\n        if (!display || display === 'none') {{\n            console.log([gd, 'removed!']);\n            Plotly.purge(gd);\n            observer.disconnect();\n        }}\n}});\n\n// Listen for the removal of the full notebook cells\nvar notebookContainer = gd.closest('#notebook-container');\nif (notebookContainer) {{\n    x.observe(notebookContainer, {childList: true});\n}}\n\n// Listen for the clearing of the current output cell\nvar outputEl = gd.closest('.output');\nif (outputEl) {{\n    x.observe(outputEl, {childList: true});\n}}\n\n                        })\n                };\n                });\n            </script>\n        </div>"
     },
     "metadata": {},
     "output_type": "display_data"
    }
   ],
   "source": [
    "plot_style(weights)"
   ],
   "metadata": {
    "collapsed": false,
    "pycharm": {
     "name": "#%%\n"
    }
   }
  },
  {
   "cell_type": "markdown",
   "source": [
    "STYLE MATCHING PLOT USING REGRESSION COEFF"
   ],
   "metadata": {
    "collapsed": false,
    "pycharm": {
     "name": "#%% md\n"
    }
   }
  },
  {
   "cell_type": "code",
   "execution_count": 7,
   "outputs": [
    {
     "data": {
      "application/vnd.plotly.v1+json": {
       "config": {
        "linkText": "Export to plot.ly",
        "plotlyServerURL": "https://plot.ly",
        "showLink": false
       },
       "data": [
        {
         "type": "bar",
         "x": [
          "Smoke",
          "Beer",
          "Meals",
          "Hlth",
          "Food",
          "Oil",
          "Cnstr",
          "Books",
          "Autos",
          "BusEq",
          "Carry",
          "Games",
          "Mines",
          "Servs",
          "Coal",
          "Rtail",
          "Fin",
          "ElcEq",
          "Hshld",
          "Clths",
          "Paper",
          "Trans",
          "Chems",
          "Txtls",
          "Telcm",
          "Steel",
          "Other",
          "FabPr",
          "Whlsl",
          "Util"
         ],
         "y": [
          0.5083990880808443,
          0.2667876619664899,
          0.0437991175528347,
          0.03824574720469197,
          0.028963086622410504,
          0.02707460634433182,
          0.026203793919630652,
          0.02547036611964533,
          0.02416588040923373,
          0.02317136921856784,
          0.015811186441045438,
          0.01153865773717157,
          0.010046303705526838,
          0.008699908310121483,
          0.007641698583253155,
          0.007280080352007154,
          0.006328967202520151,
          0.0051475761559838795,
          0.004362810604738532,
          -0.0028996786589369668,
          -0.01548853854256102,
          -0.019229459547872113,
          -0.01938084213570406,
          -0.02222811409113048,
          -0.02439223486228259,
          -0.026112471312837865,
          -0.026722510609542408,
          -0.03335761807657048,
          -0.04008727138951918,
          -0.051721348681434125
         ]
        }
       ],
       "layout": {
        "template": {
         "data": {
          "bar": [
           {
            "error_x": {
             "color": "#2a3f5f"
            },
            "error_y": {
             "color": "#2a3f5f"
            },
            "marker": {
             "line": {
              "color": "#E5ECF6",
              "width": 0.5
             }
            },
            "type": "bar"
           }
          ],
          "barpolar": [
           {
            "marker": {
             "line": {
              "color": "#E5ECF6",
              "width": 0.5
             }
            },
            "type": "barpolar"
           }
          ],
          "carpet": [
           {
            "aaxis": {
             "endlinecolor": "#2a3f5f",
             "gridcolor": "white",
             "linecolor": "white",
             "minorgridcolor": "white",
             "startlinecolor": "#2a3f5f"
            },
            "baxis": {
             "endlinecolor": "#2a3f5f",
             "gridcolor": "white",
             "linecolor": "white",
             "minorgridcolor": "white",
             "startlinecolor": "#2a3f5f"
            },
            "type": "carpet"
           }
          ],
          "choropleth": [
           {
            "colorbar": {
             "outlinewidth": 0,
             "ticks": ""
            },
            "type": "choropleth"
           }
          ],
          "contour": [
           {
            "colorbar": {
             "outlinewidth": 0,
             "ticks": ""
            },
            "colorscale": [
             [
              0.0,
              "#0d0887"
             ],
             [
              0.1111111111111111,
              "#46039f"
             ],
             [
              0.2222222222222222,
              "#7201a8"
             ],
             [
              0.3333333333333333,
              "#9c179e"
             ],
             [
              0.4444444444444444,
              "#bd3786"
             ],
             [
              0.5555555555555556,
              "#d8576b"
             ],
             [
              0.6666666666666666,
              "#ed7953"
             ],
             [
              0.7777777777777778,
              "#fb9f3a"
             ],
             [
              0.8888888888888888,
              "#fdca26"
             ],
             [
              1.0,
              "#f0f921"
             ]
            ],
            "type": "contour"
           }
          ],
          "contourcarpet": [
           {
            "colorbar": {
             "outlinewidth": 0,
             "ticks": ""
            },
            "type": "contourcarpet"
           }
          ],
          "heatmap": [
           {
            "colorbar": {
             "outlinewidth": 0,
             "ticks": ""
            },
            "colorscale": [
             [
              0.0,
              "#0d0887"
             ],
             [
              0.1111111111111111,
              "#46039f"
             ],
             [
              0.2222222222222222,
              "#7201a8"
             ],
             [
              0.3333333333333333,
              "#9c179e"
             ],
             [
              0.4444444444444444,
              "#bd3786"
             ],
             [
              0.5555555555555556,
              "#d8576b"
             ],
             [
              0.6666666666666666,
              "#ed7953"
             ],
             [
              0.7777777777777778,
              "#fb9f3a"
             ],
             [
              0.8888888888888888,
              "#fdca26"
             ],
             [
              1.0,
              "#f0f921"
             ]
            ],
            "type": "heatmap"
           }
          ],
          "heatmapgl": [
           {
            "colorbar": {
             "outlinewidth": 0,
             "ticks": ""
            },
            "colorscale": [
             [
              0.0,
              "#0d0887"
             ],
             [
              0.1111111111111111,
              "#46039f"
             ],
             [
              0.2222222222222222,
              "#7201a8"
             ],
             [
              0.3333333333333333,
              "#9c179e"
             ],
             [
              0.4444444444444444,
              "#bd3786"
             ],
             [
              0.5555555555555556,
              "#d8576b"
             ],
             [
              0.6666666666666666,
              "#ed7953"
             ],
             [
              0.7777777777777778,
              "#fb9f3a"
             ],
             [
              0.8888888888888888,
              "#fdca26"
             ],
             [
              1.0,
              "#f0f921"
             ]
            ],
            "type": "heatmapgl"
           }
          ],
          "histogram": [
           {
            "marker": {
             "colorbar": {
              "outlinewidth": 0,
              "ticks": ""
             }
            },
            "type": "histogram"
           }
          ],
          "histogram2d": [
           {
            "colorbar": {
             "outlinewidth": 0,
             "ticks": ""
            },
            "colorscale": [
             [
              0.0,
              "#0d0887"
             ],
             [
              0.1111111111111111,
              "#46039f"
             ],
             [
              0.2222222222222222,
              "#7201a8"
             ],
             [
              0.3333333333333333,
              "#9c179e"
             ],
             [
              0.4444444444444444,
              "#bd3786"
             ],
             [
              0.5555555555555556,
              "#d8576b"
             ],
             [
              0.6666666666666666,
              "#ed7953"
             ],
             [
              0.7777777777777778,
              "#fb9f3a"
             ],
             [
              0.8888888888888888,
              "#fdca26"
             ],
             [
              1.0,
              "#f0f921"
             ]
            ],
            "type": "histogram2d"
           }
          ],
          "histogram2dcontour": [
           {
            "colorbar": {
             "outlinewidth": 0,
             "ticks": ""
            },
            "colorscale": [
             [
              0.0,
              "#0d0887"
             ],
             [
              0.1111111111111111,
              "#46039f"
             ],
             [
              0.2222222222222222,
              "#7201a8"
             ],
             [
              0.3333333333333333,
              "#9c179e"
             ],
             [
              0.4444444444444444,
              "#bd3786"
             ],
             [
              0.5555555555555556,
              "#d8576b"
             ],
             [
              0.6666666666666666,
              "#ed7953"
             ],
             [
              0.7777777777777778,
              "#fb9f3a"
             ],
             [
              0.8888888888888888,
              "#fdca26"
             ],
             [
              1.0,
              "#f0f921"
             ]
            ],
            "type": "histogram2dcontour"
           }
          ],
          "mesh3d": [
           {
            "colorbar": {
             "outlinewidth": 0,
             "ticks": ""
            },
            "type": "mesh3d"
           }
          ],
          "parcoords": [
           {
            "line": {
             "colorbar": {
              "outlinewidth": 0,
              "ticks": ""
             }
            },
            "type": "parcoords"
           }
          ],
          "pie": [
           {
            "automargin": true,
            "type": "pie"
           }
          ],
          "scatter": [
           {
            "marker": {
             "colorbar": {
              "outlinewidth": 0,
              "ticks": ""
             }
            },
            "type": "scatter"
           }
          ],
          "scatter3d": [
           {
            "line": {
             "colorbar": {
              "outlinewidth": 0,
              "ticks": ""
             }
            },
            "marker": {
             "colorbar": {
              "outlinewidth": 0,
              "ticks": ""
             }
            },
            "type": "scatter3d"
           }
          ],
          "scattercarpet": [
           {
            "marker": {
             "colorbar": {
              "outlinewidth": 0,
              "ticks": ""
             }
            },
            "type": "scattercarpet"
           }
          ],
          "scattergeo": [
           {
            "marker": {
             "colorbar": {
              "outlinewidth": 0,
              "ticks": ""
             }
            },
            "type": "scattergeo"
           }
          ],
          "scattergl": [
           {
            "marker": {
             "colorbar": {
              "outlinewidth": 0,
              "ticks": ""
             }
            },
            "type": "scattergl"
           }
          ],
          "scattermapbox": [
           {
            "marker": {
             "colorbar": {
              "outlinewidth": 0,
              "ticks": ""
             }
            },
            "type": "scattermapbox"
           }
          ],
          "scatterpolar": [
           {
            "marker": {
             "colorbar": {
              "outlinewidth": 0,
              "ticks": ""
             }
            },
            "type": "scatterpolar"
           }
          ],
          "scatterpolargl": [
           {
            "marker": {
             "colorbar": {
              "outlinewidth": 0,
              "ticks": ""
             }
            },
            "type": "scatterpolargl"
           }
          ],
          "scatterternary": [
           {
            "marker": {
             "colorbar": {
              "outlinewidth": 0,
              "ticks": ""
             }
            },
            "type": "scatterternary"
           }
          ],
          "surface": [
           {
            "colorbar": {
             "outlinewidth": 0,
             "ticks": ""
            },
            "colorscale": [
             [
              0.0,
              "#0d0887"
             ],
             [
              0.1111111111111111,
              "#46039f"
             ],
             [
              0.2222222222222222,
              "#7201a8"
             ],
             [
              0.3333333333333333,
              "#9c179e"
             ],
             [
              0.4444444444444444,
              "#bd3786"
             ],
             [
              0.5555555555555556,
              "#d8576b"
             ],
             [
              0.6666666666666666,
              "#ed7953"
             ],
             [
              0.7777777777777778,
              "#fb9f3a"
             ],
             [
              0.8888888888888888,
              "#fdca26"
             ],
             [
              1.0,
              "#f0f921"
             ]
            ],
            "type": "surface"
           }
          ],
          "table": [
           {
            "cells": {
             "fill": {
              "color": "#EBF0F8"
             },
             "line": {
              "color": "white"
             }
            },
            "header": {
             "fill": {
              "color": "#C8D4E3"
             },
             "line": {
              "color": "white"
             }
            },
            "type": "table"
           }
          ]
         },
         "layout": {
          "annotationdefaults": {
           "arrowcolor": "#2a3f5f",
           "arrowhead": 0,
           "arrowwidth": 1
          },
          "coloraxis": {
           "colorbar": {
            "outlinewidth": 0,
            "ticks": ""
           }
          },
          "colorscale": {
           "diverging": [
            [
             0,
             "#8e0152"
            ],
            [
             0.1,
             "#c51b7d"
            ],
            [
             0.2,
             "#de77ae"
            ],
            [
             0.3,
             "#f1b6da"
            ],
            [
             0.4,
             "#fde0ef"
            ],
            [
             0.5,
             "#f7f7f7"
            ],
            [
             0.6,
             "#e6f5d0"
            ],
            [
             0.7,
             "#b8e186"
            ],
            [
             0.8,
             "#7fbc41"
            ],
            [
             0.9,
             "#4d9221"
            ],
            [
             1,
             "#276419"
            ]
           ],
           "sequential": [
            [
             0.0,
             "#0d0887"
            ],
            [
             0.1111111111111111,
             "#46039f"
            ],
            [
             0.2222222222222222,
             "#7201a8"
            ],
            [
             0.3333333333333333,
             "#9c179e"
            ],
            [
             0.4444444444444444,
             "#bd3786"
            ],
            [
             0.5555555555555556,
             "#d8576b"
            ],
            [
             0.6666666666666666,
             "#ed7953"
            ],
            [
             0.7777777777777778,
             "#fb9f3a"
            ],
            [
             0.8888888888888888,
             "#fdca26"
            ],
            [
             1.0,
             "#f0f921"
            ]
           ],
           "sequentialminus": [
            [
             0.0,
             "#0d0887"
            ],
            [
             0.1111111111111111,
             "#46039f"
            ],
            [
             0.2222222222222222,
             "#7201a8"
            ],
            [
             0.3333333333333333,
             "#9c179e"
            ],
            [
             0.4444444444444444,
             "#bd3786"
            ],
            [
             0.5555555555555556,
             "#d8576b"
            ],
            [
             0.6666666666666666,
             "#ed7953"
            ],
            [
             0.7777777777777778,
             "#fb9f3a"
            ],
            [
             0.8888888888888888,
             "#fdca26"
            ],
            [
             1.0,
             "#f0f921"
            ]
           ]
          },
          "colorway": [
           "#636efa",
           "#EF553B",
           "#00cc96",
           "#ab63fa",
           "#FFA15A",
           "#19d3f3",
           "#FF6692",
           "#B6E880",
           "#FF97FF",
           "#FECB52"
          ],
          "font": {
           "color": "#2a3f5f"
          },
          "geo": {
           "bgcolor": "white",
           "lakecolor": "white",
           "landcolor": "#E5ECF6",
           "showlakes": true,
           "showland": true,
           "subunitcolor": "white"
          },
          "hoverlabel": {
           "align": "left"
          },
          "hovermode": "closest",
          "mapbox": {
           "style": "light"
          },
          "paper_bgcolor": "white",
          "plot_bgcolor": "#E5ECF6",
          "polar": {
           "angularaxis": {
            "gridcolor": "white",
            "linecolor": "white",
            "ticks": ""
           },
           "bgcolor": "#E5ECF6",
           "radialaxis": {
            "gridcolor": "white",
            "linecolor": "white",
            "ticks": ""
           }
          },
          "scene": {
           "xaxis": {
            "backgroundcolor": "#E5ECF6",
            "gridcolor": "white",
            "gridwidth": 2,
            "linecolor": "white",
            "showbackground": true,
            "ticks": "",
            "zerolinecolor": "white"
           },
           "yaxis": {
            "backgroundcolor": "#E5ECF6",
            "gridcolor": "white",
            "gridwidth": 2,
            "linecolor": "white",
            "showbackground": true,
            "ticks": "",
            "zerolinecolor": "white"
           },
           "zaxis": {
            "backgroundcolor": "#E5ECF6",
            "gridcolor": "white",
            "gridwidth": 2,
            "linecolor": "white",
            "showbackground": true,
            "ticks": "",
            "zerolinecolor": "white"
           }
          },
          "shapedefaults": {
           "line": {
            "color": "#2a3f5f"
           }
          },
          "ternary": {
           "aaxis": {
            "gridcolor": "white",
            "linecolor": "white",
            "ticks": ""
           },
           "baxis": {
            "gridcolor": "white",
            "linecolor": "white",
            "ticks": ""
           },
           "bgcolor": "#E5ECF6",
           "caxis": {
            "gridcolor": "white",
            "linecolor": "white",
            "ticks": ""
           }
          },
          "title": {
           "x": 0.05
          },
          "xaxis": {
           "automargin": true,
           "gridcolor": "white",
           "linecolor": "white",
           "ticks": "",
           "title": {
            "standoff": 15
           },
           "zerolinecolor": "white",
           "zerolinewidth": 2
          },
          "yaxis": {
           "automargin": true,
           "gridcolor": "white",
           "linecolor": "white",
           "ticks": "",
           "title": {
            "standoff": 15
           },
           "zerolinecolor": "white",
           "zerolinewidth": 2
          }
         }
        }
       }
      },
      "text/html": "<div>\n        \n        \n            <div id=\"e2685fe7-66b6-413b-8746-da4495920890\" class=\"plotly-graph-div\" style=\"height:525px; width:100%;\"></div>\n            <script type=\"text/javascript\">\n                require([\"plotly\"], function(Plotly) {\n                    window.PLOTLYENV=window.PLOTLYENV || {};\n                    \n                if (document.getElementById(\"e2685fe7-66b6-413b-8746-da4495920890\")) {\n                    Plotly.newPlot(\n                        'e2685fe7-66b6-413b-8746-da4495920890',\n                        [{\"type\": \"bar\", \"x\": [\"Smoke\", \"Beer\", \"Meals\", \"Hlth\", \"Food\", \"Oil\", \"Cnstr\", \"Books\", \"Autos\", \"BusEq\", \"Carry\", \"Games\", \"Mines\", \"Servs\", \"Coal\", \"Rtail\", \"Fin\", \"ElcEq\", \"Hshld\", \"Clths\", \"Paper\", \"Trans\", \"Chems\", \"Txtls\", \"Telcm\", \"Steel\", \"Other\", \"FabPr\", \"Whlsl\", \"Util\"], \"y\": [0.5083990880808443, 0.2667876619664899, 0.0437991175528347, 0.03824574720469197, 0.028963086622410504, 0.02707460634433182, 0.026203793919630652, 0.02547036611964533, 0.02416588040923373, 0.02317136921856784, 0.015811186441045438, 0.01153865773717157, 0.010046303705526838, 0.008699908310121483, 0.007641698583253155, 0.007280080352007154, 0.006328967202520151, 0.0051475761559838795, 0.004362810604738532, -0.0028996786589369668, -0.01548853854256102, -0.019229459547872113, -0.01938084213570406, -0.02222811409113048, -0.02439223486228259, -0.026112471312837865, -0.026722510609542408, -0.03335761807657048, -0.04008727138951918, -0.051721348681434125]}],\n                        {\"template\": {\"data\": {\"bar\": [{\"error_x\": {\"color\": \"#2a3f5f\"}, \"error_y\": {\"color\": \"#2a3f5f\"}, \"marker\": {\"line\": {\"color\": \"#E5ECF6\", \"width\": 0.5}}, \"type\": \"bar\"}], \"barpolar\": [{\"marker\": {\"line\": {\"color\": \"#E5ECF6\", \"width\": 0.5}}, \"type\": \"barpolar\"}], \"carpet\": [{\"aaxis\": {\"endlinecolor\": \"#2a3f5f\", \"gridcolor\": \"white\", \"linecolor\": \"white\", \"minorgridcolor\": \"white\", \"startlinecolor\": \"#2a3f5f\"}, \"baxis\": {\"endlinecolor\": \"#2a3f5f\", \"gridcolor\": \"white\", \"linecolor\": \"white\", \"minorgridcolor\": \"white\", \"startlinecolor\": \"#2a3f5f\"}, \"type\": \"carpet\"}], \"choropleth\": [{\"colorbar\": {\"outlinewidth\": 0, \"ticks\": \"\"}, \"type\": \"choropleth\"}], \"contour\": [{\"colorbar\": {\"outlinewidth\": 0, \"ticks\": \"\"}, \"colorscale\": [[0.0, \"#0d0887\"], [0.1111111111111111, \"#46039f\"], [0.2222222222222222, \"#7201a8\"], [0.3333333333333333, \"#9c179e\"], [0.4444444444444444, \"#bd3786\"], [0.5555555555555556, \"#d8576b\"], [0.6666666666666666, \"#ed7953\"], [0.7777777777777778, \"#fb9f3a\"], [0.8888888888888888, \"#fdca26\"], [1.0, \"#f0f921\"]], \"type\": \"contour\"}], \"contourcarpet\": [{\"colorbar\": {\"outlinewidth\": 0, \"ticks\": \"\"}, \"type\": \"contourcarpet\"}], \"heatmap\": [{\"colorbar\": {\"outlinewidth\": 0, \"ticks\": \"\"}, \"colorscale\": [[0.0, \"#0d0887\"], [0.1111111111111111, \"#46039f\"], [0.2222222222222222, \"#7201a8\"], [0.3333333333333333, \"#9c179e\"], [0.4444444444444444, \"#bd3786\"], [0.5555555555555556, \"#d8576b\"], [0.6666666666666666, \"#ed7953\"], [0.7777777777777778, \"#fb9f3a\"], [0.8888888888888888, \"#fdca26\"], [1.0, \"#f0f921\"]], \"type\": \"heatmap\"}], \"heatmapgl\": [{\"colorbar\": {\"outlinewidth\": 0, \"ticks\": \"\"}, \"colorscale\": [[0.0, \"#0d0887\"], [0.1111111111111111, \"#46039f\"], [0.2222222222222222, \"#7201a8\"], [0.3333333333333333, \"#9c179e\"], [0.4444444444444444, \"#bd3786\"], [0.5555555555555556, \"#d8576b\"], [0.6666666666666666, \"#ed7953\"], [0.7777777777777778, \"#fb9f3a\"], [0.8888888888888888, \"#fdca26\"], [1.0, \"#f0f921\"]], \"type\": \"heatmapgl\"}], \"histogram\": [{\"marker\": {\"colorbar\": {\"outlinewidth\": 0, \"ticks\": \"\"}}, \"type\": \"histogram\"}], \"histogram2d\": [{\"colorbar\": {\"outlinewidth\": 0, \"ticks\": \"\"}, \"colorscale\": [[0.0, \"#0d0887\"], [0.1111111111111111, \"#46039f\"], [0.2222222222222222, \"#7201a8\"], [0.3333333333333333, \"#9c179e\"], [0.4444444444444444, \"#bd3786\"], [0.5555555555555556, \"#d8576b\"], [0.6666666666666666, \"#ed7953\"], [0.7777777777777778, \"#fb9f3a\"], [0.8888888888888888, \"#fdca26\"], [1.0, \"#f0f921\"]], \"type\": \"histogram2d\"}], \"histogram2dcontour\": [{\"colorbar\": {\"outlinewidth\": 0, \"ticks\": \"\"}, \"colorscale\": [[0.0, \"#0d0887\"], [0.1111111111111111, \"#46039f\"], [0.2222222222222222, \"#7201a8\"], [0.3333333333333333, \"#9c179e\"], [0.4444444444444444, \"#bd3786\"], [0.5555555555555556, \"#d8576b\"], [0.6666666666666666, \"#ed7953\"], [0.7777777777777778, \"#fb9f3a\"], [0.8888888888888888, \"#fdca26\"], [1.0, \"#f0f921\"]], \"type\": \"histogram2dcontour\"}], \"mesh3d\": [{\"colorbar\": {\"outlinewidth\": 0, \"ticks\": \"\"}, \"type\": \"mesh3d\"}], \"parcoords\": [{\"line\": {\"colorbar\": {\"outlinewidth\": 0, \"ticks\": \"\"}}, \"type\": \"parcoords\"}], \"pie\": [{\"automargin\": true, \"type\": \"pie\"}], \"scatter\": [{\"marker\": {\"colorbar\": {\"outlinewidth\": 0, \"ticks\": \"\"}}, \"type\": \"scatter\"}], \"scatter3d\": [{\"line\": {\"colorbar\": {\"outlinewidth\": 0, \"ticks\": \"\"}}, \"marker\": {\"colorbar\": {\"outlinewidth\": 0, \"ticks\": \"\"}}, \"type\": \"scatter3d\"}], \"scattercarpet\": [{\"marker\": {\"colorbar\": {\"outlinewidth\": 0, \"ticks\": \"\"}}, \"type\": \"scattercarpet\"}], \"scattergeo\": [{\"marker\": {\"colorbar\": {\"outlinewidth\": 0, \"ticks\": \"\"}}, \"type\": \"scattergeo\"}], \"scattergl\": [{\"marker\": {\"colorbar\": {\"outlinewidth\": 0, \"ticks\": \"\"}}, \"type\": \"scattergl\"}], \"scattermapbox\": [{\"marker\": {\"colorbar\": {\"outlinewidth\": 0, \"ticks\": \"\"}}, \"type\": \"scattermapbox\"}], \"scatterpolar\": [{\"marker\": {\"colorbar\": {\"outlinewidth\": 0, \"ticks\": \"\"}}, \"type\": \"scatterpolar\"}], \"scatterpolargl\": [{\"marker\": {\"colorbar\": {\"outlinewidth\": 0, \"ticks\": \"\"}}, \"type\": \"scatterpolargl\"}], \"scatterternary\": [{\"marker\": {\"colorbar\": {\"outlinewidth\": 0, \"ticks\": \"\"}}, \"type\": \"scatterternary\"}], \"surface\": [{\"colorbar\": {\"outlinewidth\": 0, \"ticks\": \"\"}, \"colorscale\": [[0.0, \"#0d0887\"], [0.1111111111111111, \"#46039f\"], [0.2222222222222222, \"#7201a8\"], [0.3333333333333333, \"#9c179e\"], [0.4444444444444444, \"#bd3786\"], [0.5555555555555556, \"#d8576b\"], [0.6666666666666666, \"#ed7953\"], [0.7777777777777778, \"#fb9f3a\"], [0.8888888888888888, \"#fdca26\"], [1.0, \"#f0f921\"]], \"type\": \"surface\"}], \"table\": [{\"cells\": {\"fill\": {\"color\": \"#EBF0F8\"}, \"line\": {\"color\": \"white\"}}, \"header\": {\"fill\": {\"color\": \"#C8D4E3\"}, \"line\": {\"color\": \"white\"}}, \"type\": \"table\"}]}, \"layout\": {\"annotationdefaults\": {\"arrowcolor\": \"#2a3f5f\", \"arrowhead\": 0, \"arrowwidth\": 1}, \"coloraxis\": {\"colorbar\": {\"outlinewidth\": 0, \"ticks\": \"\"}}, \"colorscale\": {\"diverging\": [[0, \"#8e0152\"], [0.1, \"#c51b7d\"], [0.2, \"#de77ae\"], [0.3, \"#f1b6da\"], [0.4, \"#fde0ef\"], [0.5, \"#f7f7f7\"], [0.6, \"#e6f5d0\"], [0.7, \"#b8e186\"], [0.8, \"#7fbc41\"], [0.9, \"#4d9221\"], [1, \"#276419\"]], \"sequential\": [[0.0, \"#0d0887\"], [0.1111111111111111, \"#46039f\"], [0.2222222222222222, \"#7201a8\"], [0.3333333333333333, \"#9c179e\"], [0.4444444444444444, \"#bd3786\"], [0.5555555555555556, \"#d8576b\"], [0.6666666666666666, \"#ed7953\"], [0.7777777777777778, \"#fb9f3a\"], [0.8888888888888888, \"#fdca26\"], [1.0, \"#f0f921\"]], \"sequentialminus\": [[0.0, \"#0d0887\"], [0.1111111111111111, \"#46039f\"], [0.2222222222222222, \"#7201a8\"], [0.3333333333333333, \"#9c179e\"], [0.4444444444444444, \"#bd3786\"], [0.5555555555555556, \"#d8576b\"], [0.6666666666666666, \"#ed7953\"], [0.7777777777777778, \"#fb9f3a\"], [0.8888888888888888, \"#fdca26\"], [1.0, \"#f0f921\"]]}, \"colorway\": [\"#636efa\", \"#EF553B\", \"#00cc96\", \"#ab63fa\", \"#FFA15A\", \"#19d3f3\", \"#FF6692\", \"#B6E880\", \"#FF97FF\", \"#FECB52\"], \"font\": {\"color\": \"#2a3f5f\"}, \"geo\": {\"bgcolor\": \"white\", \"lakecolor\": \"white\", \"landcolor\": \"#E5ECF6\", \"showlakes\": true, \"showland\": true, \"subunitcolor\": \"white\"}, \"hoverlabel\": {\"align\": \"left\"}, \"hovermode\": \"closest\", \"mapbox\": {\"style\": \"light\"}, \"paper_bgcolor\": \"white\", \"plot_bgcolor\": \"#E5ECF6\", \"polar\": {\"angularaxis\": {\"gridcolor\": \"white\", \"linecolor\": \"white\", \"ticks\": \"\"}, \"bgcolor\": \"#E5ECF6\", \"radialaxis\": {\"gridcolor\": \"white\", \"linecolor\": \"white\", \"ticks\": \"\"}}, \"scene\": {\"xaxis\": {\"backgroundcolor\": \"#E5ECF6\", \"gridcolor\": \"white\", \"gridwidth\": 2, \"linecolor\": \"white\", \"showbackground\": true, \"ticks\": \"\", \"zerolinecolor\": \"white\"}, \"yaxis\": {\"backgroundcolor\": \"#E5ECF6\", \"gridcolor\": \"white\", \"gridwidth\": 2, \"linecolor\": \"white\", \"showbackground\": true, \"ticks\": \"\", \"zerolinecolor\": \"white\"}, \"zaxis\": {\"backgroundcolor\": \"#E5ECF6\", \"gridcolor\": \"white\", \"gridwidth\": 2, \"linecolor\": \"white\", \"showbackground\": true, \"ticks\": \"\", \"zerolinecolor\": \"white\"}}, \"shapedefaults\": {\"line\": {\"color\": \"#2a3f5f\"}}, \"ternary\": {\"aaxis\": {\"gridcolor\": \"white\", \"linecolor\": \"white\", \"ticks\": \"\"}, \"baxis\": {\"gridcolor\": \"white\", \"linecolor\": \"white\", \"ticks\": \"\"}, \"bgcolor\": \"#E5ECF6\", \"caxis\": {\"gridcolor\": \"white\", \"linecolor\": \"white\", \"ticks\": \"\"}}, \"title\": {\"x\": 0.05}, \"xaxis\": {\"automargin\": true, \"gridcolor\": \"white\", \"linecolor\": \"white\", \"ticks\": \"\", \"title\": {\"standoff\": 15}, \"zerolinecolor\": \"white\", \"zerolinewidth\": 2}, \"yaxis\": {\"automargin\": true, \"gridcolor\": \"white\", \"linecolor\": \"white\", \"ticks\": \"\", \"title\": {\"standoff\": 15}, \"zerolinecolor\": \"white\", \"zerolinewidth\": 2}}}},\n                        {\"responsive\": true}\n                    ).then(function(){\n                            \nvar gd = document.getElementById('e2685fe7-66b6-413b-8746-da4495920890');\nvar x = new MutationObserver(function (mutations, observer) {{\n        var display = window.getComputedStyle(gd).display;\n        if (!display || display === 'none') {{\n            console.log([gd, 'removed!']);\n            Plotly.purge(gd);\n            observer.disconnect();\n        }}\n}});\n\n// Listen for the removal of the full notebook cells\nvar notebookContainer = gd.closest('#notebook-container');\nif (notebookContainer) {{\n    x.observe(notebookContainer, {childList: true});\n}}\n\n// Listen for the clearing of the current output cell\nvar outputEl = gd.closest('.output');\nif (outputEl) {{\n    x.observe(outputEl, {childList: true});\n}}\n\n                        })\n                };\n                });\n            </script>\n        </div>"
     },
     "metadata": {},
     "output_type": "display_data"
    }
   ],
   "source": [
    "plot_style(style_coeff)"
   ],
   "metadata": {
    "collapsed": false,
    "pycharm": {
     "name": "#%%\n"
    }
   }
  },
  {
   "cell_type": "markdown",
   "source": [
    "STYLE ANALYZE OF BRKA_M FOR LAST DECADE FROM 2009"
   ],
   "metadata": {
    "collapsed": false,
    "pycharm": {
     "name": "#%% md\n"
    }
   }
  },
  {
   "cell_type": "code",
   "execution_count": 8,
   "outputs": [
    {
     "data": {
      "application/vnd.plotly.v1+json": {
       "config": {
        "linkText": "Export to plot.ly",
        "plotlyServerURL": "https://plot.ly",
        "showLink": false
       },
       "data": [
        {
         "type": "bar",
         "x": [
          "Other",
          "Food",
          "Hlth",
          "Rtail",
          "Meals",
          "Fin",
          "Steel",
          "FabPr",
          "Beer",
          "Smoke",
          "Autos",
          "Util",
          "Carry",
          "Whlsl",
          "Coal",
          "Txtls",
          "Chems",
          "Games",
          "Servs",
          "Clths",
          "Trans",
          "Books",
          "Hshld",
          "Oil",
          "Paper",
          "Cnstr",
          "BusEq",
          "Telcm",
          "Mines",
          "ElcEq"
         ],
         "y": [
          0.43640072285576775,
          0.28325438678204307,
          0.2271861662099123,
          0.05247856153799691,
          6.801626142797796E-4,
          8.185726402265558E-17,
          5.3017486234541167E-17,
          5.0198560586078855E-17,
          4.618701254788249E-17,
          3.65376132127615E-17,
          2.8406096919120216E-17,
          2.4069288229178198E-17,
          2.2768245622195593E-17,
          2.211772431870429E-17,
          2.1358782797964437E-17,
          2.0708261494473135E-17,
          1.8756697583999227E-17,
          1.452830911130576E-17,
          5.7462715141731735E-18,
          4.336808689942018E-18,
          0.0,
          0.0,
          0.0,
          0.0,
          0.0,
          0.0,
          0.0,
          0.0,
          0.0,
          0.0
         ]
        }
       ],
       "layout": {
        "template": {
         "data": {
          "bar": [
           {
            "error_x": {
             "color": "#2a3f5f"
            },
            "error_y": {
             "color": "#2a3f5f"
            },
            "marker": {
             "line": {
              "color": "#E5ECF6",
              "width": 0.5
             }
            },
            "type": "bar"
           }
          ],
          "barpolar": [
           {
            "marker": {
             "line": {
              "color": "#E5ECF6",
              "width": 0.5
             }
            },
            "type": "barpolar"
           }
          ],
          "carpet": [
           {
            "aaxis": {
             "endlinecolor": "#2a3f5f",
             "gridcolor": "white",
             "linecolor": "white",
             "minorgridcolor": "white",
             "startlinecolor": "#2a3f5f"
            },
            "baxis": {
             "endlinecolor": "#2a3f5f",
             "gridcolor": "white",
             "linecolor": "white",
             "minorgridcolor": "white",
             "startlinecolor": "#2a3f5f"
            },
            "type": "carpet"
           }
          ],
          "choropleth": [
           {
            "colorbar": {
             "outlinewidth": 0,
             "ticks": ""
            },
            "type": "choropleth"
           }
          ],
          "contour": [
           {
            "colorbar": {
             "outlinewidth": 0,
             "ticks": ""
            },
            "colorscale": [
             [
              0.0,
              "#0d0887"
             ],
             [
              0.1111111111111111,
              "#46039f"
             ],
             [
              0.2222222222222222,
              "#7201a8"
             ],
             [
              0.3333333333333333,
              "#9c179e"
             ],
             [
              0.4444444444444444,
              "#bd3786"
             ],
             [
              0.5555555555555556,
              "#d8576b"
             ],
             [
              0.6666666666666666,
              "#ed7953"
             ],
             [
              0.7777777777777778,
              "#fb9f3a"
             ],
             [
              0.8888888888888888,
              "#fdca26"
             ],
             [
              1.0,
              "#f0f921"
             ]
            ],
            "type": "contour"
           }
          ],
          "contourcarpet": [
           {
            "colorbar": {
             "outlinewidth": 0,
             "ticks": ""
            },
            "type": "contourcarpet"
           }
          ],
          "heatmap": [
           {
            "colorbar": {
             "outlinewidth": 0,
             "ticks": ""
            },
            "colorscale": [
             [
              0.0,
              "#0d0887"
             ],
             [
              0.1111111111111111,
              "#46039f"
             ],
             [
              0.2222222222222222,
              "#7201a8"
             ],
             [
              0.3333333333333333,
              "#9c179e"
             ],
             [
              0.4444444444444444,
              "#bd3786"
             ],
             [
              0.5555555555555556,
              "#d8576b"
             ],
             [
              0.6666666666666666,
              "#ed7953"
             ],
             [
              0.7777777777777778,
              "#fb9f3a"
             ],
             [
              0.8888888888888888,
              "#fdca26"
             ],
             [
              1.0,
              "#f0f921"
             ]
            ],
            "type": "heatmap"
           }
          ],
          "heatmapgl": [
           {
            "colorbar": {
             "outlinewidth": 0,
             "ticks": ""
            },
            "colorscale": [
             [
              0.0,
              "#0d0887"
             ],
             [
              0.1111111111111111,
              "#46039f"
             ],
             [
              0.2222222222222222,
              "#7201a8"
             ],
             [
              0.3333333333333333,
              "#9c179e"
             ],
             [
              0.4444444444444444,
              "#bd3786"
             ],
             [
              0.5555555555555556,
              "#d8576b"
             ],
             [
              0.6666666666666666,
              "#ed7953"
             ],
             [
              0.7777777777777778,
              "#fb9f3a"
             ],
             [
              0.8888888888888888,
              "#fdca26"
             ],
             [
              1.0,
              "#f0f921"
             ]
            ],
            "type": "heatmapgl"
           }
          ],
          "histogram": [
           {
            "marker": {
             "colorbar": {
              "outlinewidth": 0,
              "ticks": ""
             }
            },
            "type": "histogram"
           }
          ],
          "histogram2d": [
           {
            "colorbar": {
             "outlinewidth": 0,
             "ticks": ""
            },
            "colorscale": [
             [
              0.0,
              "#0d0887"
             ],
             [
              0.1111111111111111,
              "#46039f"
             ],
             [
              0.2222222222222222,
              "#7201a8"
             ],
             [
              0.3333333333333333,
              "#9c179e"
             ],
             [
              0.4444444444444444,
              "#bd3786"
             ],
             [
              0.5555555555555556,
              "#d8576b"
             ],
             [
              0.6666666666666666,
              "#ed7953"
             ],
             [
              0.7777777777777778,
              "#fb9f3a"
             ],
             [
              0.8888888888888888,
              "#fdca26"
             ],
             [
              1.0,
              "#f0f921"
             ]
            ],
            "type": "histogram2d"
           }
          ],
          "histogram2dcontour": [
           {
            "colorbar": {
             "outlinewidth": 0,
             "ticks": ""
            },
            "colorscale": [
             [
              0.0,
              "#0d0887"
             ],
             [
              0.1111111111111111,
              "#46039f"
             ],
             [
              0.2222222222222222,
              "#7201a8"
             ],
             [
              0.3333333333333333,
              "#9c179e"
             ],
             [
              0.4444444444444444,
              "#bd3786"
             ],
             [
              0.5555555555555556,
              "#d8576b"
             ],
             [
              0.6666666666666666,
              "#ed7953"
             ],
             [
              0.7777777777777778,
              "#fb9f3a"
             ],
             [
              0.8888888888888888,
              "#fdca26"
             ],
             [
              1.0,
              "#f0f921"
             ]
            ],
            "type": "histogram2dcontour"
           }
          ],
          "mesh3d": [
           {
            "colorbar": {
             "outlinewidth": 0,
             "ticks": ""
            },
            "type": "mesh3d"
           }
          ],
          "parcoords": [
           {
            "line": {
             "colorbar": {
              "outlinewidth": 0,
              "ticks": ""
             }
            },
            "type": "parcoords"
           }
          ],
          "pie": [
           {
            "automargin": true,
            "type": "pie"
           }
          ],
          "scatter": [
           {
            "marker": {
             "colorbar": {
              "outlinewidth": 0,
              "ticks": ""
             }
            },
            "type": "scatter"
           }
          ],
          "scatter3d": [
           {
            "line": {
             "colorbar": {
              "outlinewidth": 0,
              "ticks": ""
             }
            },
            "marker": {
             "colorbar": {
              "outlinewidth": 0,
              "ticks": ""
             }
            },
            "type": "scatter3d"
           }
          ],
          "scattercarpet": [
           {
            "marker": {
             "colorbar": {
              "outlinewidth": 0,
              "ticks": ""
             }
            },
            "type": "scattercarpet"
           }
          ],
          "scattergeo": [
           {
            "marker": {
             "colorbar": {
              "outlinewidth": 0,
              "ticks": ""
             }
            },
            "type": "scattergeo"
           }
          ],
          "scattergl": [
           {
            "marker": {
             "colorbar": {
              "outlinewidth": 0,
              "ticks": ""
             }
            },
            "type": "scattergl"
           }
          ],
          "scattermapbox": [
           {
            "marker": {
             "colorbar": {
              "outlinewidth": 0,
              "ticks": ""
             }
            },
            "type": "scattermapbox"
           }
          ],
          "scatterpolar": [
           {
            "marker": {
             "colorbar": {
              "outlinewidth": 0,
              "ticks": ""
             }
            },
            "type": "scatterpolar"
           }
          ],
          "scatterpolargl": [
           {
            "marker": {
             "colorbar": {
              "outlinewidth": 0,
              "ticks": ""
             }
            },
            "type": "scatterpolargl"
           }
          ],
          "scatterternary": [
           {
            "marker": {
             "colorbar": {
              "outlinewidth": 0,
              "ticks": ""
             }
            },
            "type": "scatterternary"
           }
          ],
          "surface": [
           {
            "colorbar": {
             "outlinewidth": 0,
             "ticks": ""
            },
            "colorscale": [
             [
              0.0,
              "#0d0887"
             ],
             [
              0.1111111111111111,
              "#46039f"
             ],
             [
              0.2222222222222222,
              "#7201a8"
             ],
             [
              0.3333333333333333,
              "#9c179e"
             ],
             [
              0.4444444444444444,
              "#bd3786"
             ],
             [
              0.5555555555555556,
              "#d8576b"
             ],
             [
              0.6666666666666666,
              "#ed7953"
             ],
             [
              0.7777777777777778,
              "#fb9f3a"
             ],
             [
              0.8888888888888888,
              "#fdca26"
             ],
             [
              1.0,
              "#f0f921"
             ]
            ],
            "type": "surface"
           }
          ],
          "table": [
           {
            "cells": {
             "fill": {
              "color": "#EBF0F8"
             },
             "line": {
              "color": "white"
             }
            },
            "header": {
             "fill": {
              "color": "#C8D4E3"
             },
             "line": {
              "color": "white"
             }
            },
            "type": "table"
           }
          ]
         },
         "layout": {
          "annotationdefaults": {
           "arrowcolor": "#2a3f5f",
           "arrowhead": 0,
           "arrowwidth": 1
          },
          "coloraxis": {
           "colorbar": {
            "outlinewidth": 0,
            "ticks": ""
           }
          },
          "colorscale": {
           "diverging": [
            [
             0,
             "#8e0152"
            ],
            [
             0.1,
             "#c51b7d"
            ],
            [
             0.2,
             "#de77ae"
            ],
            [
             0.3,
             "#f1b6da"
            ],
            [
             0.4,
             "#fde0ef"
            ],
            [
             0.5,
             "#f7f7f7"
            ],
            [
             0.6,
             "#e6f5d0"
            ],
            [
             0.7,
             "#b8e186"
            ],
            [
             0.8,
             "#7fbc41"
            ],
            [
             0.9,
             "#4d9221"
            ],
            [
             1,
             "#276419"
            ]
           ],
           "sequential": [
            [
             0.0,
             "#0d0887"
            ],
            [
             0.1111111111111111,
             "#46039f"
            ],
            [
             0.2222222222222222,
             "#7201a8"
            ],
            [
             0.3333333333333333,
             "#9c179e"
            ],
            [
             0.4444444444444444,
             "#bd3786"
            ],
            [
             0.5555555555555556,
             "#d8576b"
            ],
            [
             0.6666666666666666,
             "#ed7953"
            ],
            [
             0.7777777777777778,
             "#fb9f3a"
            ],
            [
             0.8888888888888888,
             "#fdca26"
            ],
            [
             1.0,
             "#f0f921"
            ]
           ],
           "sequentialminus": [
            [
             0.0,
             "#0d0887"
            ],
            [
             0.1111111111111111,
             "#46039f"
            ],
            [
             0.2222222222222222,
             "#7201a8"
            ],
            [
             0.3333333333333333,
             "#9c179e"
            ],
            [
             0.4444444444444444,
             "#bd3786"
            ],
            [
             0.5555555555555556,
             "#d8576b"
            ],
            [
             0.6666666666666666,
             "#ed7953"
            ],
            [
             0.7777777777777778,
             "#fb9f3a"
            ],
            [
             0.8888888888888888,
             "#fdca26"
            ],
            [
             1.0,
             "#f0f921"
            ]
           ]
          },
          "colorway": [
           "#636efa",
           "#EF553B",
           "#00cc96",
           "#ab63fa",
           "#FFA15A",
           "#19d3f3",
           "#FF6692",
           "#B6E880",
           "#FF97FF",
           "#FECB52"
          ],
          "font": {
           "color": "#2a3f5f"
          },
          "geo": {
           "bgcolor": "white",
           "lakecolor": "white",
           "landcolor": "#E5ECF6",
           "showlakes": true,
           "showland": true,
           "subunitcolor": "white"
          },
          "hoverlabel": {
           "align": "left"
          },
          "hovermode": "closest",
          "mapbox": {
           "style": "light"
          },
          "paper_bgcolor": "white",
          "plot_bgcolor": "#E5ECF6",
          "polar": {
           "angularaxis": {
            "gridcolor": "white",
            "linecolor": "white",
            "ticks": ""
           },
           "bgcolor": "#E5ECF6",
           "radialaxis": {
            "gridcolor": "white",
            "linecolor": "white",
            "ticks": ""
           }
          },
          "scene": {
           "xaxis": {
            "backgroundcolor": "#E5ECF6",
            "gridcolor": "white",
            "gridwidth": 2,
            "linecolor": "white",
            "showbackground": true,
            "ticks": "",
            "zerolinecolor": "white"
           },
           "yaxis": {
            "backgroundcolor": "#E5ECF6",
            "gridcolor": "white",
            "gridwidth": 2,
            "linecolor": "white",
            "showbackground": true,
            "ticks": "",
            "zerolinecolor": "white"
           },
           "zaxis": {
            "backgroundcolor": "#E5ECF6",
            "gridcolor": "white",
            "gridwidth": 2,
            "linecolor": "white",
            "showbackground": true,
            "ticks": "",
            "zerolinecolor": "white"
           }
          },
          "shapedefaults": {
           "line": {
            "color": "#2a3f5f"
           }
          },
          "ternary": {
           "aaxis": {
            "gridcolor": "white",
            "linecolor": "white",
            "ticks": ""
           },
           "baxis": {
            "gridcolor": "white",
            "linecolor": "white",
            "ticks": ""
           },
           "bgcolor": "#E5ECF6",
           "caxis": {
            "gridcolor": "white",
            "linecolor": "white",
            "ticks": ""
           }
          },
          "title": {
           "x": 0.05
          },
          "xaxis": {
           "automargin": true,
           "gridcolor": "white",
           "linecolor": "white",
           "ticks": "",
           "title": {
            "standoff": 15
           },
           "zerolinecolor": "white",
           "zerolinewidth": 2
          },
          "yaxis": {
           "automargin": true,
           "gridcolor": "white",
           "linecolor": "white",
           "ticks": "",
           "title": {
            "standoff": 15
           },
           "zerolinecolor": "white",
           "zerolinewidth": 2
          }
         }
        }
       }
      },
      "text/html": "<div>\n        \n        \n            <div id=\"e6d932d3-4941-43b0-aee2-24eab514e16e\" class=\"plotly-graph-div\" style=\"height:525px; width:100%;\"></div>\n            <script type=\"text/javascript\">\n                require([\"plotly\"], function(Plotly) {\n                    window.PLOTLYENV=window.PLOTLYENV || {};\n                    \n                if (document.getElementById(\"e6d932d3-4941-43b0-aee2-24eab514e16e\")) {\n                    Plotly.newPlot(\n                        'e6d932d3-4941-43b0-aee2-24eab514e16e',\n                        [{\"type\": \"bar\", \"x\": [\"Other\", \"Food\", \"Hlth\", \"Rtail\", \"Meals\", \"Fin\", \"Steel\", \"FabPr\", \"Beer\", \"Smoke\", \"Autos\", \"Util\", \"Carry\", \"Whlsl\", \"Coal\", \"Txtls\", \"Chems\", \"Games\", \"Servs\", \"Clths\", \"Trans\", \"Books\", \"Hshld\", \"Oil\", \"Paper\", \"Cnstr\", \"BusEq\", \"Telcm\", \"Mines\", \"ElcEq\"], \"y\": [0.43640072285576775, 0.28325438678204307, 0.2271861662099123, 0.05247856153799691, 0.0006801626142797796, 8.185726402265558e-17, 5.3017486234541167e-17, 5.0198560586078855e-17, 4.618701254788249e-17, 3.65376132127615e-17, 2.8406096919120216e-17, 2.4069288229178198e-17, 2.2768245622195593e-17, 2.211772431870429e-17, 2.1358782797964437e-17, 2.0708261494473135e-17, 1.8756697583999227e-17, 1.452830911130576e-17, 5.7462715141731735e-18, 4.336808689942018e-18, 0.0, 0.0, 0.0, 0.0, 0.0, 0.0, 0.0, 0.0, 0.0, 0.0]}],\n                        {\"template\": {\"data\": {\"bar\": [{\"error_x\": {\"color\": \"#2a3f5f\"}, \"error_y\": {\"color\": \"#2a3f5f\"}, \"marker\": {\"line\": {\"color\": \"#E5ECF6\", \"width\": 0.5}}, \"type\": \"bar\"}], \"barpolar\": [{\"marker\": {\"line\": {\"color\": \"#E5ECF6\", \"width\": 0.5}}, \"type\": \"barpolar\"}], \"carpet\": [{\"aaxis\": {\"endlinecolor\": \"#2a3f5f\", \"gridcolor\": \"white\", \"linecolor\": \"white\", \"minorgridcolor\": \"white\", \"startlinecolor\": \"#2a3f5f\"}, \"baxis\": {\"endlinecolor\": \"#2a3f5f\", \"gridcolor\": \"white\", \"linecolor\": \"white\", \"minorgridcolor\": \"white\", \"startlinecolor\": \"#2a3f5f\"}, \"type\": \"carpet\"}], \"choropleth\": [{\"colorbar\": {\"outlinewidth\": 0, \"ticks\": \"\"}, \"type\": \"choropleth\"}], \"contour\": [{\"colorbar\": {\"outlinewidth\": 0, \"ticks\": \"\"}, \"colorscale\": [[0.0, \"#0d0887\"], [0.1111111111111111, \"#46039f\"], [0.2222222222222222, \"#7201a8\"], [0.3333333333333333, \"#9c179e\"], [0.4444444444444444, \"#bd3786\"], [0.5555555555555556, \"#d8576b\"], [0.6666666666666666, \"#ed7953\"], [0.7777777777777778, \"#fb9f3a\"], [0.8888888888888888, \"#fdca26\"], [1.0, \"#f0f921\"]], \"type\": \"contour\"}], \"contourcarpet\": [{\"colorbar\": {\"outlinewidth\": 0, \"ticks\": \"\"}, \"type\": \"contourcarpet\"}], \"heatmap\": [{\"colorbar\": {\"outlinewidth\": 0, \"ticks\": \"\"}, \"colorscale\": [[0.0, \"#0d0887\"], [0.1111111111111111, \"#46039f\"], [0.2222222222222222, \"#7201a8\"], [0.3333333333333333, \"#9c179e\"], [0.4444444444444444, \"#bd3786\"], [0.5555555555555556, \"#d8576b\"], [0.6666666666666666, \"#ed7953\"], [0.7777777777777778, \"#fb9f3a\"], [0.8888888888888888, \"#fdca26\"], [1.0, \"#f0f921\"]], \"type\": \"heatmap\"}], \"heatmapgl\": [{\"colorbar\": {\"outlinewidth\": 0, \"ticks\": \"\"}, \"colorscale\": [[0.0, \"#0d0887\"], [0.1111111111111111, \"#46039f\"], [0.2222222222222222, \"#7201a8\"], [0.3333333333333333, \"#9c179e\"], [0.4444444444444444, \"#bd3786\"], [0.5555555555555556, \"#d8576b\"], [0.6666666666666666, \"#ed7953\"], [0.7777777777777778, \"#fb9f3a\"], [0.8888888888888888, \"#fdca26\"], [1.0, \"#f0f921\"]], \"type\": \"heatmapgl\"}], \"histogram\": [{\"marker\": {\"colorbar\": {\"outlinewidth\": 0, \"ticks\": \"\"}}, \"type\": \"histogram\"}], \"histogram2d\": [{\"colorbar\": {\"outlinewidth\": 0, \"ticks\": \"\"}, \"colorscale\": [[0.0, \"#0d0887\"], [0.1111111111111111, \"#46039f\"], [0.2222222222222222, \"#7201a8\"], [0.3333333333333333, \"#9c179e\"], [0.4444444444444444, \"#bd3786\"], [0.5555555555555556, \"#d8576b\"], [0.6666666666666666, \"#ed7953\"], [0.7777777777777778, \"#fb9f3a\"], [0.8888888888888888, \"#fdca26\"], [1.0, \"#f0f921\"]], \"type\": \"histogram2d\"}], \"histogram2dcontour\": [{\"colorbar\": {\"outlinewidth\": 0, \"ticks\": \"\"}, \"colorscale\": [[0.0, \"#0d0887\"], [0.1111111111111111, \"#46039f\"], [0.2222222222222222, \"#7201a8\"], [0.3333333333333333, \"#9c179e\"], [0.4444444444444444, \"#bd3786\"], [0.5555555555555556, \"#d8576b\"], [0.6666666666666666, \"#ed7953\"], [0.7777777777777778, \"#fb9f3a\"], [0.8888888888888888, \"#fdca26\"], [1.0, \"#f0f921\"]], \"type\": \"histogram2dcontour\"}], \"mesh3d\": [{\"colorbar\": {\"outlinewidth\": 0, \"ticks\": \"\"}, \"type\": \"mesh3d\"}], \"parcoords\": [{\"line\": {\"colorbar\": {\"outlinewidth\": 0, \"ticks\": \"\"}}, \"type\": \"parcoords\"}], \"pie\": [{\"automargin\": true, \"type\": \"pie\"}], \"scatter\": [{\"marker\": {\"colorbar\": {\"outlinewidth\": 0, \"ticks\": \"\"}}, \"type\": \"scatter\"}], \"scatter3d\": [{\"line\": {\"colorbar\": {\"outlinewidth\": 0, \"ticks\": \"\"}}, \"marker\": {\"colorbar\": {\"outlinewidth\": 0, \"ticks\": \"\"}}, \"type\": \"scatter3d\"}], \"scattercarpet\": [{\"marker\": {\"colorbar\": {\"outlinewidth\": 0, \"ticks\": \"\"}}, \"type\": \"scattercarpet\"}], \"scattergeo\": [{\"marker\": {\"colorbar\": {\"outlinewidth\": 0, \"ticks\": \"\"}}, \"type\": \"scattergeo\"}], \"scattergl\": [{\"marker\": {\"colorbar\": {\"outlinewidth\": 0, \"ticks\": \"\"}}, \"type\": \"scattergl\"}], \"scattermapbox\": [{\"marker\": {\"colorbar\": {\"outlinewidth\": 0, \"ticks\": \"\"}}, \"type\": \"scattermapbox\"}], \"scatterpolar\": [{\"marker\": {\"colorbar\": {\"outlinewidth\": 0, \"ticks\": \"\"}}, \"type\": \"scatterpolar\"}], \"scatterpolargl\": [{\"marker\": {\"colorbar\": {\"outlinewidth\": 0, \"ticks\": \"\"}}, \"type\": \"scatterpolargl\"}], \"scatterternary\": [{\"marker\": {\"colorbar\": {\"outlinewidth\": 0, \"ticks\": \"\"}}, \"type\": \"scatterternary\"}], \"surface\": [{\"colorbar\": {\"outlinewidth\": 0, \"ticks\": \"\"}, \"colorscale\": [[0.0, \"#0d0887\"], [0.1111111111111111, \"#46039f\"], [0.2222222222222222, \"#7201a8\"], [0.3333333333333333, \"#9c179e\"], [0.4444444444444444, \"#bd3786\"], [0.5555555555555556, \"#d8576b\"], [0.6666666666666666, \"#ed7953\"], [0.7777777777777778, \"#fb9f3a\"], [0.8888888888888888, \"#fdca26\"], [1.0, \"#f0f921\"]], \"type\": \"surface\"}], \"table\": [{\"cells\": {\"fill\": {\"color\": \"#EBF0F8\"}, \"line\": {\"color\": \"white\"}}, \"header\": {\"fill\": {\"color\": \"#C8D4E3\"}, \"line\": {\"color\": \"white\"}}, \"type\": \"table\"}]}, \"layout\": {\"annotationdefaults\": {\"arrowcolor\": \"#2a3f5f\", \"arrowhead\": 0, \"arrowwidth\": 1}, \"coloraxis\": {\"colorbar\": {\"outlinewidth\": 0, \"ticks\": \"\"}}, \"colorscale\": {\"diverging\": [[0, \"#8e0152\"], [0.1, \"#c51b7d\"], [0.2, \"#de77ae\"], [0.3, \"#f1b6da\"], [0.4, \"#fde0ef\"], [0.5, \"#f7f7f7\"], [0.6, \"#e6f5d0\"], [0.7, \"#b8e186\"], [0.8, \"#7fbc41\"], [0.9, \"#4d9221\"], [1, \"#276419\"]], \"sequential\": [[0.0, \"#0d0887\"], [0.1111111111111111, \"#46039f\"], [0.2222222222222222, \"#7201a8\"], [0.3333333333333333, \"#9c179e\"], [0.4444444444444444, \"#bd3786\"], [0.5555555555555556, \"#d8576b\"], [0.6666666666666666, \"#ed7953\"], [0.7777777777777778, \"#fb9f3a\"], [0.8888888888888888, \"#fdca26\"], [1.0, \"#f0f921\"]], \"sequentialminus\": [[0.0, \"#0d0887\"], [0.1111111111111111, \"#46039f\"], [0.2222222222222222, \"#7201a8\"], [0.3333333333333333, \"#9c179e\"], [0.4444444444444444, \"#bd3786\"], [0.5555555555555556, \"#d8576b\"], [0.6666666666666666, \"#ed7953\"], [0.7777777777777778, \"#fb9f3a\"], [0.8888888888888888, \"#fdca26\"], [1.0, \"#f0f921\"]]}, \"colorway\": [\"#636efa\", \"#EF553B\", \"#00cc96\", \"#ab63fa\", \"#FFA15A\", \"#19d3f3\", \"#FF6692\", \"#B6E880\", \"#FF97FF\", \"#FECB52\"], \"font\": {\"color\": \"#2a3f5f\"}, \"geo\": {\"bgcolor\": \"white\", \"lakecolor\": \"white\", \"landcolor\": \"#E5ECF6\", \"showlakes\": true, \"showland\": true, \"subunitcolor\": \"white\"}, \"hoverlabel\": {\"align\": \"left\"}, \"hovermode\": \"closest\", \"mapbox\": {\"style\": \"light\"}, \"paper_bgcolor\": \"white\", \"plot_bgcolor\": \"#E5ECF6\", \"polar\": {\"angularaxis\": {\"gridcolor\": \"white\", \"linecolor\": \"white\", \"ticks\": \"\"}, \"bgcolor\": \"#E5ECF6\", \"radialaxis\": {\"gridcolor\": \"white\", \"linecolor\": \"white\", \"ticks\": \"\"}}, \"scene\": {\"xaxis\": {\"backgroundcolor\": \"#E5ECF6\", \"gridcolor\": \"white\", \"gridwidth\": 2, \"linecolor\": \"white\", \"showbackground\": true, \"ticks\": \"\", \"zerolinecolor\": \"white\"}, \"yaxis\": {\"backgroundcolor\": \"#E5ECF6\", \"gridcolor\": \"white\", \"gridwidth\": 2, \"linecolor\": \"white\", \"showbackground\": true, \"ticks\": \"\", \"zerolinecolor\": \"white\"}, \"zaxis\": {\"backgroundcolor\": \"#E5ECF6\", \"gridcolor\": \"white\", \"gridwidth\": 2, \"linecolor\": \"white\", \"showbackground\": true, \"ticks\": \"\", \"zerolinecolor\": \"white\"}}, \"shapedefaults\": {\"line\": {\"color\": \"#2a3f5f\"}}, \"ternary\": {\"aaxis\": {\"gridcolor\": \"white\", \"linecolor\": \"white\", \"ticks\": \"\"}, \"baxis\": {\"gridcolor\": \"white\", \"linecolor\": \"white\", \"ticks\": \"\"}, \"bgcolor\": \"#E5ECF6\", \"caxis\": {\"gridcolor\": \"white\", \"linecolor\": \"white\", \"ticks\": \"\"}}, \"title\": {\"x\": 0.05}, \"xaxis\": {\"automargin\": true, \"gridcolor\": \"white\", \"linecolor\": \"white\", \"ticks\": \"\", \"title\": {\"standoff\": 15}, \"zerolinecolor\": \"white\", \"zerolinewidth\": 2}, \"yaxis\": {\"automargin\": true, \"gridcolor\": \"white\", \"linecolor\": \"white\", \"ticks\": \"\", \"title\": {\"standoff\": 15}, \"zerolinecolor\": \"white\", \"zerolinewidth\": 2}}}},\n                        {\"responsive\": true}\n                    ).then(function(){\n                            \nvar gd = document.getElementById('e6d932d3-4941-43b0-aee2-24eab514e16e');\nvar x = new MutationObserver(function (mutations, observer) {{\n        var display = window.getComputedStyle(gd).display;\n        if (!display || display === 'none') {{\n            console.log([gd, 'removed!']);\n            Plotly.purge(gd);\n            observer.disconnect();\n        }}\n}});\n\n// Listen for the removal of the full notebook cells\nvar notebookContainer = gd.closest('#notebook-container');\nif (notebookContainer) {{\n    x.observe(notebookContainer, {childList: true});\n}}\n\n// Listen for the clearing of the current output cell\nvar outputEl = gd.closest('.output');\nif (outputEl) {{\n    x.observe(outputEl, {childList: true});\n}}\n\n                        })\n                };\n                });\n            </script>\n        </div>"
     },
     "metadata": {},
     "output_type": "display_data"
    }
   ],
   "source": [
    "wts_09 = erk.style_analyze(brka_m, ind, start_period='2009')\n",
    "plot_style(wts_09)\n",
    "\n"
   ],
   "metadata": {
    "collapsed": false,
    "pycharm": {
     "name": "#%%\n"
    }
   }
  },
  {
   "cell_type": "markdown",
   "source": [
    "PENDING WORK - DOWNLOAD ANY MUTUAL FUND HISTORICAL DATA FROM YF AND ANALYZE USING FFF\n",
    "\n",
    "\n"
   ],
   "metadata": {
    "collapsed": false,
    "pycharm": {
     "name": "#%% md\n"
    }
   }
  },
  {
   "cell_type": "markdown",
   "source": [
    "LAB 203 START\n",
    "\n",
    "\n"
   ],
   "metadata": {
    "collapsed": false,
    "pycharm": {
     "name": "#%% md\n"
    }
   }
  },
  {
   "cell_type": "code",
   "execution_count": 9,
   "outputs": [],
   "source": [
    "# TO_PERIOD ('m') IS THEN CONVERTED TO TIMESTAMP OBJECT WHILE PLOTTING\n",
    "ind_ew = erk.get_df('data/ind30_m_ew_rets.csv', to_per=True)\n",
    "ind_vw = erk.get_df('data/ind30_m_vw_rets.csv', to_per=True)\n",
    "sharpe_ratio_df = pd.DataFrame({'VW': erk.risk_info(ind_vw['1945':], only_sharpe=True),\n",
    "                               'EW': erk.risk_info(ind_ew['1945':], only_sharpe=True)})\n"
   ],
   "metadata": {
    "collapsed": false,
    "pycharm": {
     "name": "#%%\n"
    }
   }
  },
  {
   "cell_type": "markdown",
   "source": [
    "PLOT VW AND EW SHARPE RATIO\n",
    "\n",
    "\n"
   ],
   "metadata": {
    "collapsed": false,
    "pycharm": {
     "name": "#%% md\n"
    }
   }
  },
  {
   "cell_type": "code",
   "execution_count": 10,
   "outputs": [
    {
     "data": {
      "application/vnd.plotly.v1+json": {
       "config": {
        "linkText": "Export to plot.ly",
        "plotlyServerURL": "https://plot.ly",
        "showLink": false
       },
       "data": [
        {
         "type": "bar",
         "x": [
          "Food",
          "Beer",
          "Smoke",
          "Games",
          "Books",
          "Hshld",
          "Clths",
          "Hlth",
          "Chems",
          "Txtls",
          "Cnstr",
          "Steel",
          "FabPr",
          "ElcEq",
          "Autos",
          "Carry",
          "Mines",
          "Coal",
          "Oil",
          "Util",
          "Telcm",
          "Servs",
          "BusEq",
          "Paper",
          "Trans",
          "Whlsl",
          "Rtail",
          "Meals",
          "Fin",
          "Other"
         ],
         "y": [
          0.6238888726110311,
          0.5229416709891993,
          0.5467388021135259,
          0.34914205076698884,
          0.334344143032585,
          0.5171027569793124,
          0.37067256098314916,
          0.6048925342773624,
          0.42270169036616684,
          0.2836968370668817,
          0.361267534815597,
          0.1889286621627789,
          0.3677455304555986,
          0.43673328679963547,
          0.2897316300261826,
          0.4435773506552378,
          0.2021235522478556,
          0.19265809105392265,
          0.478819284363869,
          0.5818587628314476,
          0.4513401949217758,
          0.43936006566556884,
          0.41049516675225334,
          0.4925838510441811,
          0.3694610464591595,
          0.4145433798746313,
          0.5192777227527408,
          0.47949491984811266,
          0.47746547457396393,
          0.27290976947171514
         ]
        },
        {
         "type": "bar",
         "x": [
          "Food",
          "Beer",
          "Smoke",
          "Games",
          "Books",
          "Hshld",
          "Clths",
          "Hlth",
          "Chems",
          "Txtls",
          "Cnstr",
          "Steel",
          "FabPr",
          "ElcEq",
          "Autos",
          "Carry",
          "Mines",
          "Coal",
          "Oil",
          "Util",
          "Telcm",
          "Servs",
          "BusEq",
          "Paper",
          "Trans",
          "Whlsl",
          "Rtail",
          "Meals",
          "Fin",
          "Other"
         ],
         "y": [
          0.6437775874432025,
          0.5432973114391866,
          0.6253167249287916,
          0.31683456650714853,
          0.4311092645122628,
          0.38410283630235725,
          0.3760979927081378,
          0.5404149790992476,
          0.5112122209063144,
          0.25551797742533905,
          0.41457715352816615,
          0.34254221132897117,
          0.47680282948927916,
          0.36721602830330075,
          0.3303445915623,
          0.533479277370071,
          0.24765609219919832,
          0.08714406988804607,
          0.346294840774002,
          0.8316639906024937,
          0.43239269382268825,
          0.4635163147964535,
          0.4104075876356707,
          0.5211499726072866,
          0.4036222047975182,
          0.4241679181070598,
          0.4176131604492976,
          0.3434421952734258,
          0.651270944397564,
          0.4640158335056425
         ]
        }
       ],
       "layout": {
        "template": {
         "data": {
          "bar": [
           {
            "error_x": {
             "color": "#2a3f5f"
            },
            "error_y": {
             "color": "#2a3f5f"
            },
            "marker": {
             "line": {
              "color": "#E5ECF6",
              "width": 0.5
             }
            },
            "type": "bar"
           }
          ],
          "barpolar": [
           {
            "marker": {
             "line": {
              "color": "#E5ECF6",
              "width": 0.5
             }
            },
            "type": "barpolar"
           }
          ],
          "carpet": [
           {
            "aaxis": {
             "endlinecolor": "#2a3f5f",
             "gridcolor": "white",
             "linecolor": "white",
             "minorgridcolor": "white",
             "startlinecolor": "#2a3f5f"
            },
            "baxis": {
             "endlinecolor": "#2a3f5f",
             "gridcolor": "white",
             "linecolor": "white",
             "minorgridcolor": "white",
             "startlinecolor": "#2a3f5f"
            },
            "type": "carpet"
           }
          ],
          "choropleth": [
           {
            "colorbar": {
             "outlinewidth": 0,
             "ticks": ""
            },
            "type": "choropleth"
           }
          ],
          "contour": [
           {
            "colorbar": {
             "outlinewidth": 0,
             "ticks": ""
            },
            "colorscale": [
             [
              0.0,
              "#0d0887"
             ],
             [
              0.1111111111111111,
              "#46039f"
             ],
             [
              0.2222222222222222,
              "#7201a8"
             ],
             [
              0.3333333333333333,
              "#9c179e"
             ],
             [
              0.4444444444444444,
              "#bd3786"
             ],
             [
              0.5555555555555556,
              "#d8576b"
             ],
             [
              0.6666666666666666,
              "#ed7953"
             ],
             [
              0.7777777777777778,
              "#fb9f3a"
             ],
             [
              0.8888888888888888,
              "#fdca26"
             ],
             [
              1.0,
              "#f0f921"
             ]
            ],
            "type": "contour"
           }
          ],
          "contourcarpet": [
           {
            "colorbar": {
             "outlinewidth": 0,
             "ticks": ""
            },
            "type": "contourcarpet"
           }
          ],
          "heatmap": [
           {
            "colorbar": {
             "outlinewidth": 0,
             "ticks": ""
            },
            "colorscale": [
             [
              0.0,
              "#0d0887"
             ],
             [
              0.1111111111111111,
              "#46039f"
             ],
             [
              0.2222222222222222,
              "#7201a8"
             ],
             [
              0.3333333333333333,
              "#9c179e"
             ],
             [
              0.4444444444444444,
              "#bd3786"
             ],
             [
              0.5555555555555556,
              "#d8576b"
             ],
             [
              0.6666666666666666,
              "#ed7953"
             ],
             [
              0.7777777777777778,
              "#fb9f3a"
             ],
             [
              0.8888888888888888,
              "#fdca26"
             ],
             [
              1.0,
              "#f0f921"
             ]
            ],
            "type": "heatmap"
           }
          ],
          "heatmapgl": [
           {
            "colorbar": {
             "outlinewidth": 0,
             "ticks": ""
            },
            "colorscale": [
             [
              0.0,
              "#0d0887"
             ],
             [
              0.1111111111111111,
              "#46039f"
             ],
             [
              0.2222222222222222,
              "#7201a8"
             ],
             [
              0.3333333333333333,
              "#9c179e"
             ],
             [
              0.4444444444444444,
              "#bd3786"
             ],
             [
              0.5555555555555556,
              "#d8576b"
             ],
             [
              0.6666666666666666,
              "#ed7953"
             ],
             [
              0.7777777777777778,
              "#fb9f3a"
             ],
             [
              0.8888888888888888,
              "#fdca26"
             ],
             [
              1.0,
              "#f0f921"
             ]
            ],
            "type": "heatmapgl"
           }
          ],
          "histogram": [
           {
            "marker": {
             "colorbar": {
              "outlinewidth": 0,
              "ticks": ""
             }
            },
            "type": "histogram"
           }
          ],
          "histogram2d": [
           {
            "colorbar": {
             "outlinewidth": 0,
             "ticks": ""
            },
            "colorscale": [
             [
              0.0,
              "#0d0887"
             ],
             [
              0.1111111111111111,
              "#46039f"
             ],
             [
              0.2222222222222222,
              "#7201a8"
             ],
             [
              0.3333333333333333,
              "#9c179e"
             ],
             [
              0.4444444444444444,
              "#bd3786"
             ],
             [
              0.5555555555555556,
              "#d8576b"
             ],
             [
              0.6666666666666666,
              "#ed7953"
             ],
             [
              0.7777777777777778,
              "#fb9f3a"
             ],
             [
              0.8888888888888888,
              "#fdca26"
             ],
             [
              1.0,
              "#f0f921"
             ]
            ],
            "type": "histogram2d"
           }
          ],
          "histogram2dcontour": [
           {
            "colorbar": {
             "outlinewidth": 0,
             "ticks": ""
            },
            "colorscale": [
             [
              0.0,
              "#0d0887"
             ],
             [
              0.1111111111111111,
              "#46039f"
             ],
             [
              0.2222222222222222,
              "#7201a8"
             ],
             [
              0.3333333333333333,
              "#9c179e"
             ],
             [
              0.4444444444444444,
              "#bd3786"
             ],
             [
              0.5555555555555556,
              "#d8576b"
             ],
             [
              0.6666666666666666,
              "#ed7953"
             ],
             [
              0.7777777777777778,
              "#fb9f3a"
             ],
             [
              0.8888888888888888,
              "#fdca26"
             ],
             [
              1.0,
              "#f0f921"
             ]
            ],
            "type": "histogram2dcontour"
           }
          ],
          "mesh3d": [
           {
            "colorbar": {
             "outlinewidth": 0,
             "ticks": ""
            },
            "type": "mesh3d"
           }
          ],
          "parcoords": [
           {
            "line": {
             "colorbar": {
              "outlinewidth": 0,
              "ticks": ""
             }
            },
            "type": "parcoords"
           }
          ],
          "pie": [
           {
            "automargin": true,
            "type": "pie"
           }
          ],
          "scatter": [
           {
            "marker": {
             "colorbar": {
              "outlinewidth": 0,
              "ticks": ""
             }
            },
            "type": "scatter"
           }
          ],
          "scatter3d": [
           {
            "line": {
             "colorbar": {
              "outlinewidth": 0,
              "ticks": ""
             }
            },
            "marker": {
             "colorbar": {
              "outlinewidth": 0,
              "ticks": ""
             }
            },
            "type": "scatter3d"
           }
          ],
          "scattercarpet": [
           {
            "marker": {
             "colorbar": {
              "outlinewidth": 0,
              "ticks": ""
             }
            },
            "type": "scattercarpet"
           }
          ],
          "scattergeo": [
           {
            "marker": {
             "colorbar": {
              "outlinewidth": 0,
              "ticks": ""
             }
            },
            "type": "scattergeo"
           }
          ],
          "scattergl": [
           {
            "marker": {
             "colorbar": {
              "outlinewidth": 0,
              "ticks": ""
             }
            },
            "type": "scattergl"
           }
          ],
          "scattermapbox": [
           {
            "marker": {
             "colorbar": {
              "outlinewidth": 0,
              "ticks": ""
             }
            },
            "type": "scattermapbox"
           }
          ],
          "scatterpolar": [
           {
            "marker": {
             "colorbar": {
              "outlinewidth": 0,
              "ticks": ""
             }
            },
            "type": "scatterpolar"
           }
          ],
          "scatterpolargl": [
           {
            "marker": {
             "colorbar": {
              "outlinewidth": 0,
              "ticks": ""
             }
            },
            "type": "scatterpolargl"
           }
          ],
          "scatterternary": [
           {
            "marker": {
             "colorbar": {
              "outlinewidth": 0,
              "ticks": ""
             }
            },
            "type": "scatterternary"
           }
          ],
          "surface": [
           {
            "colorbar": {
             "outlinewidth": 0,
             "ticks": ""
            },
            "colorscale": [
             [
              0.0,
              "#0d0887"
             ],
             [
              0.1111111111111111,
              "#46039f"
             ],
             [
              0.2222222222222222,
              "#7201a8"
             ],
             [
              0.3333333333333333,
              "#9c179e"
             ],
             [
              0.4444444444444444,
              "#bd3786"
             ],
             [
              0.5555555555555556,
              "#d8576b"
             ],
             [
              0.6666666666666666,
              "#ed7953"
             ],
             [
              0.7777777777777778,
              "#fb9f3a"
             ],
             [
              0.8888888888888888,
              "#fdca26"
             ],
             [
              1.0,
              "#f0f921"
             ]
            ],
            "type": "surface"
           }
          ],
          "table": [
           {
            "cells": {
             "fill": {
              "color": "#EBF0F8"
             },
             "line": {
              "color": "white"
             }
            },
            "header": {
             "fill": {
              "color": "#C8D4E3"
             },
             "line": {
              "color": "white"
             }
            },
            "type": "table"
           }
          ]
         },
         "layout": {
          "annotationdefaults": {
           "arrowcolor": "#2a3f5f",
           "arrowhead": 0,
           "arrowwidth": 1
          },
          "coloraxis": {
           "colorbar": {
            "outlinewidth": 0,
            "ticks": ""
           }
          },
          "colorscale": {
           "diverging": [
            [
             0,
             "#8e0152"
            ],
            [
             0.1,
             "#c51b7d"
            ],
            [
             0.2,
             "#de77ae"
            ],
            [
             0.3,
             "#f1b6da"
            ],
            [
             0.4,
             "#fde0ef"
            ],
            [
             0.5,
             "#f7f7f7"
            ],
            [
             0.6,
             "#e6f5d0"
            ],
            [
             0.7,
             "#b8e186"
            ],
            [
             0.8,
             "#7fbc41"
            ],
            [
             0.9,
             "#4d9221"
            ],
            [
             1,
             "#276419"
            ]
           ],
           "sequential": [
            [
             0.0,
             "#0d0887"
            ],
            [
             0.1111111111111111,
             "#46039f"
            ],
            [
             0.2222222222222222,
             "#7201a8"
            ],
            [
             0.3333333333333333,
             "#9c179e"
            ],
            [
             0.4444444444444444,
             "#bd3786"
            ],
            [
             0.5555555555555556,
             "#d8576b"
            ],
            [
             0.6666666666666666,
             "#ed7953"
            ],
            [
             0.7777777777777778,
             "#fb9f3a"
            ],
            [
             0.8888888888888888,
             "#fdca26"
            ],
            [
             1.0,
             "#f0f921"
            ]
           ],
           "sequentialminus": [
            [
             0.0,
             "#0d0887"
            ],
            [
             0.1111111111111111,
             "#46039f"
            ],
            [
             0.2222222222222222,
             "#7201a8"
            ],
            [
             0.3333333333333333,
             "#9c179e"
            ],
            [
             0.4444444444444444,
             "#bd3786"
            ],
            [
             0.5555555555555556,
             "#d8576b"
            ],
            [
             0.6666666666666666,
             "#ed7953"
            ],
            [
             0.7777777777777778,
             "#fb9f3a"
            ],
            [
             0.8888888888888888,
             "#fdca26"
            ],
            [
             1.0,
             "#f0f921"
            ]
           ]
          },
          "colorway": [
           "#636efa",
           "#EF553B",
           "#00cc96",
           "#ab63fa",
           "#FFA15A",
           "#19d3f3",
           "#FF6692",
           "#B6E880",
           "#FF97FF",
           "#FECB52"
          ],
          "font": {
           "color": "#2a3f5f"
          },
          "geo": {
           "bgcolor": "white",
           "lakecolor": "white",
           "landcolor": "#E5ECF6",
           "showlakes": true,
           "showland": true,
           "subunitcolor": "white"
          },
          "hoverlabel": {
           "align": "left"
          },
          "hovermode": "closest",
          "mapbox": {
           "style": "light"
          },
          "paper_bgcolor": "white",
          "plot_bgcolor": "#E5ECF6",
          "polar": {
           "angularaxis": {
            "gridcolor": "white",
            "linecolor": "white",
            "ticks": ""
           },
           "bgcolor": "#E5ECF6",
           "radialaxis": {
            "gridcolor": "white",
            "linecolor": "white",
            "ticks": ""
           }
          },
          "scene": {
           "xaxis": {
            "backgroundcolor": "#E5ECF6",
            "gridcolor": "white",
            "gridwidth": 2,
            "linecolor": "white",
            "showbackground": true,
            "ticks": "",
            "zerolinecolor": "white"
           },
           "yaxis": {
            "backgroundcolor": "#E5ECF6",
            "gridcolor": "white",
            "gridwidth": 2,
            "linecolor": "white",
            "showbackground": true,
            "ticks": "",
            "zerolinecolor": "white"
           },
           "zaxis": {
            "backgroundcolor": "#E5ECF6",
            "gridcolor": "white",
            "gridwidth": 2,
            "linecolor": "white",
            "showbackground": true,
            "ticks": "",
            "zerolinecolor": "white"
           }
          },
          "shapedefaults": {
           "line": {
            "color": "#2a3f5f"
           }
          },
          "ternary": {
           "aaxis": {
            "gridcolor": "white",
            "linecolor": "white",
            "ticks": ""
           },
           "baxis": {
            "gridcolor": "white",
            "linecolor": "white",
            "ticks": ""
           },
           "bgcolor": "#E5ECF6",
           "caxis": {
            "gridcolor": "white",
            "linecolor": "white",
            "ticks": ""
           }
          },
          "title": {
           "x": 0.05
          },
          "xaxis": {
           "automargin": true,
           "gridcolor": "white",
           "linecolor": "white",
           "ticks": "",
           "title": {
            "standoff": 15
           },
           "zerolinecolor": "white",
           "zerolinewidth": 2
          },
          "yaxis": {
           "automargin": true,
           "gridcolor": "white",
           "linecolor": "white",
           "ticks": "",
           "title": {
            "standoff": 15
           },
           "zerolinecolor": "white",
           "zerolinewidth": 2
          }
         }
        }
       }
      },
      "text/html": "<div>\n        \n        \n            <div id=\"0c11a43d-85e0-4041-ae24-9807452291b6\" class=\"plotly-graph-div\" style=\"height:525px; width:100%;\"></div>\n            <script type=\"text/javascript\">\n                require([\"plotly\"], function(Plotly) {\n                    window.PLOTLYENV=window.PLOTLYENV || {};\n                    \n                if (document.getElementById(\"0c11a43d-85e0-4041-ae24-9807452291b6\")) {\n                    Plotly.newPlot(\n                        '0c11a43d-85e0-4041-ae24-9807452291b6',\n                        [{\"type\": \"bar\", \"x\": [\"Food\", \"Beer\", \"Smoke\", \"Games\", \"Books\", \"Hshld\", \"Clths\", \"Hlth\", \"Chems\", \"Txtls\", \"Cnstr\", \"Steel\", \"FabPr\", \"ElcEq\", \"Autos\", \"Carry\", \"Mines\", \"Coal\", \"Oil\", \"Util\", \"Telcm\", \"Servs\", \"BusEq\", \"Paper\", \"Trans\", \"Whlsl\", \"Rtail\", \"Meals\", \"Fin\", \"Other\"], \"y\": [0.6238888726110311, 0.5229416709891993, 0.5467388021135259, 0.34914205076698884, 0.334344143032585, 0.5171027569793124, 0.37067256098314916, 0.6048925342773624, 0.42270169036616684, 0.2836968370668817, 0.361267534815597, 0.1889286621627789, 0.3677455304555986, 0.43673328679963547, 0.2897316300261826, 0.4435773506552378, 0.2021235522478556, 0.19265809105392265, 0.478819284363869, 0.5818587628314476, 0.4513401949217758, 0.43936006566556884, 0.41049516675225334, 0.4925838510441811, 0.3694610464591595, 0.4145433798746313, 0.5192777227527408, 0.47949491984811266, 0.47746547457396393, 0.27290976947171514]}, {\"type\": \"bar\", \"x\": [\"Food\", \"Beer\", \"Smoke\", \"Games\", \"Books\", \"Hshld\", \"Clths\", \"Hlth\", \"Chems\", \"Txtls\", \"Cnstr\", \"Steel\", \"FabPr\", \"ElcEq\", \"Autos\", \"Carry\", \"Mines\", \"Coal\", \"Oil\", \"Util\", \"Telcm\", \"Servs\", \"BusEq\", \"Paper\", \"Trans\", \"Whlsl\", \"Rtail\", \"Meals\", \"Fin\", \"Other\"], \"y\": [0.6437775874432025, 0.5432973114391866, 0.6253167249287916, 0.31683456650714853, 0.4311092645122628, 0.38410283630235725, 0.3760979927081378, 0.5404149790992476, 0.5112122209063144, 0.25551797742533905, 0.41457715352816615, 0.34254221132897117, 0.47680282948927916, 0.36721602830330075, 0.3303445915623, 0.533479277370071, 0.24765609219919832, 0.08714406988804607, 0.346294840774002, 0.8316639906024937, 0.43239269382268825, 0.4635163147964535, 0.4104075876356707, 0.5211499726072866, 0.4036222047975182, 0.4241679181070598, 0.4176131604492976, 0.3434421952734258, 0.651270944397564, 0.4640158335056425]}],\n                        {\"template\": {\"data\": {\"bar\": [{\"error_x\": {\"color\": \"#2a3f5f\"}, \"error_y\": {\"color\": \"#2a3f5f\"}, \"marker\": {\"line\": {\"color\": \"#E5ECF6\", \"width\": 0.5}}, \"type\": \"bar\"}], \"barpolar\": [{\"marker\": {\"line\": {\"color\": \"#E5ECF6\", \"width\": 0.5}}, \"type\": \"barpolar\"}], \"carpet\": [{\"aaxis\": {\"endlinecolor\": \"#2a3f5f\", \"gridcolor\": \"white\", \"linecolor\": \"white\", \"minorgridcolor\": \"white\", \"startlinecolor\": \"#2a3f5f\"}, \"baxis\": {\"endlinecolor\": \"#2a3f5f\", \"gridcolor\": \"white\", \"linecolor\": \"white\", \"minorgridcolor\": \"white\", \"startlinecolor\": \"#2a3f5f\"}, \"type\": \"carpet\"}], \"choropleth\": [{\"colorbar\": {\"outlinewidth\": 0, \"ticks\": \"\"}, \"type\": \"choropleth\"}], \"contour\": [{\"colorbar\": {\"outlinewidth\": 0, \"ticks\": \"\"}, \"colorscale\": [[0.0, \"#0d0887\"], [0.1111111111111111, \"#46039f\"], [0.2222222222222222, \"#7201a8\"], [0.3333333333333333, \"#9c179e\"], [0.4444444444444444, \"#bd3786\"], [0.5555555555555556, \"#d8576b\"], [0.6666666666666666, \"#ed7953\"], [0.7777777777777778, \"#fb9f3a\"], [0.8888888888888888, \"#fdca26\"], [1.0, \"#f0f921\"]], \"type\": \"contour\"}], \"contourcarpet\": [{\"colorbar\": {\"outlinewidth\": 0, \"ticks\": \"\"}, \"type\": \"contourcarpet\"}], \"heatmap\": [{\"colorbar\": {\"outlinewidth\": 0, \"ticks\": \"\"}, \"colorscale\": [[0.0, \"#0d0887\"], [0.1111111111111111, \"#46039f\"], [0.2222222222222222, \"#7201a8\"], [0.3333333333333333, \"#9c179e\"], [0.4444444444444444, \"#bd3786\"], [0.5555555555555556, \"#d8576b\"], [0.6666666666666666, \"#ed7953\"], [0.7777777777777778, \"#fb9f3a\"], [0.8888888888888888, \"#fdca26\"], [1.0, \"#f0f921\"]], \"type\": \"heatmap\"}], \"heatmapgl\": [{\"colorbar\": {\"outlinewidth\": 0, \"ticks\": \"\"}, \"colorscale\": [[0.0, \"#0d0887\"], [0.1111111111111111, \"#46039f\"], [0.2222222222222222, \"#7201a8\"], [0.3333333333333333, \"#9c179e\"], [0.4444444444444444, \"#bd3786\"], [0.5555555555555556, \"#d8576b\"], [0.6666666666666666, \"#ed7953\"], [0.7777777777777778, \"#fb9f3a\"], [0.8888888888888888, \"#fdca26\"], [1.0, \"#f0f921\"]], \"type\": \"heatmapgl\"}], \"histogram\": [{\"marker\": {\"colorbar\": {\"outlinewidth\": 0, \"ticks\": \"\"}}, \"type\": \"histogram\"}], \"histogram2d\": [{\"colorbar\": {\"outlinewidth\": 0, \"ticks\": \"\"}, \"colorscale\": [[0.0, \"#0d0887\"], [0.1111111111111111, \"#46039f\"], [0.2222222222222222, \"#7201a8\"], [0.3333333333333333, \"#9c179e\"], [0.4444444444444444, \"#bd3786\"], [0.5555555555555556, \"#d8576b\"], [0.6666666666666666, \"#ed7953\"], [0.7777777777777778, \"#fb9f3a\"], [0.8888888888888888, \"#fdca26\"], [1.0, \"#f0f921\"]], \"type\": \"histogram2d\"}], \"histogram2dcontour\": [{\"colorbar\": {\"outlinewidth\": 0, \"ticks\": \"\"}, \"colorscale\": [[0.0, \"#0d0887\"], [0.1111111111111111, \"#46039f\"], [0.2222222222222222, \"#7201a8\"], [0.3333333333333333, \"#9c179e\"], [0.4444444444444444, \"#bd3786\"], [0.5555555555555556, \"#d8576b\"], [0.6666666666666666, \"#ed7953\"], [0.7777777777777778, \"#fb9f3a\"], [0.8888888888888888, \"#fdca26\"], [1.0, \"#f0f921\"]], \"type\": \"histogram2dcontour\"}], \"mesh3d\": [{\"colorbar\": {\"outlinewidth\": 0, \"ticks\": \"\"}, \"type\": \"mesh3d\"}], \"parcoords\": [{\"line\": {\"colorbar\": {\"outlinewidth\": 0, \"ticks\": \"\"}}, \"type\": \"parcoords\"}], \"pie\": [{\"automargin\": true, \"type\": \"pie\"}], \"scatter\": [{\"marker\": {\"colorbar\": {\"outlinewidth\": 0, \"ticks\": \"\"}}, \"type\": \"scatter\"}], \"scatter3d\": [{\"line\": {\"colorbar\": {\"outlinewidth\": 0, \"ticks\": \"\"}}, \"marker\": {\"colorbar\": {\"outlinewidth\": 0, \"ticks\": \"\"}}, \"type\": \"scatter3d\"}], \"scattercarpet\": [{\"marker\": {\"colorbar\": {\"outlinewidth\": 0, \"ticks\": \"\"}}, \"type\": \"scattercarpet\"}], \"scattergeo\": [{\"marker\": {\"colorbar\": {\"outlinewidth\": 0, \"ticks\": \"\"}}, \"type\": \"scattergeo\"}], \"scattergl\": [{\"marker\": {\"colorbar\": {\"outlinewidth\": 0, \"ticks\": \"\"}}, \"type\": \"scattergl\"}], \"scattermapbox\": [{\"marker\": {\"colorbar\": {\"outlinewidth\": 0, \"ticks\": \"\"}}, \"type\": \"scattermapbox\"}], \"scatterpolar\": [{\"marker\": {\"colorbar\": {\"outlinewidth\": 0, \"ticks\": \"\"}}, \"type\": \"scatterpolar\"}], \"scatterpolargl\": [{\"marker\": {\"colorbar\": {\"outlinewidth\": 0, \"ticks\": \"\"}}, \"type\": \"scatterpolargl\"}], \"scatterternary\": [{\"marker\": {\"colorbar\": {\"outlinewidth\": 0, \"ticks\": \"\"}}, \"type\": \"scatterternary\"}], \"surface\": [{\"colorbar\": {\"outlinewidth\": 0, \"ticks\": \"\"}, \"colorscale\": [[0.0, \"#0d0887\"], [0.1111111111111111, \"#46039f\"], [0.2222222222222222, \"#7201a8\"], [0.3333333333333333, \"#9c179e\"], [0.4444444444444444, \"#bd3786\"], [0.5555555555555556, \"#d8576b\"], [0.6666666666666666, \"#ed7953\"], [0.7777777777777778, \"#fb9f3a\"], [0.8888888888888888, \"#fdca26\"], [1.0, \"#f0f921\"]], \"type\": \"surface\"}], \"table\": [{\"cells\": {\"fill\": {\"color\": \"#EBF0F8\"}, \"line\": {\"color\": \"white\"}}, \"header\": {\"fill\": {\"color\": \"#C8D4E3\"}, \"line\": {\"color\": \"white\"}}, \"type\": \"table\"}]}, \"layout\": {\"annotationdefaults\": {\"arrowcolor\": \"#2a3f5f\", \"arrowhead\": 0, \"arrowwidth\": 1}, \"coloraxis\": {\"colorbar\": {\"outlinewidth\": 0, \"ticks\": \"\"}}, \"colorscale\": {\"diverging\": [[0, \"#8e0152\"], [0.1, \"#c51b7d\"], [0.2, \"#de77ae\"], [0.3, \"#f1b6da\"], [0.4, \"#fde0ef\"], [0.5, \"#f7f7f7\"], [0.6, \"#e6f5d0\"], [0.7, \"#b8e186\"], [0.8, \"#7fbc41\"], [0.9, \"#4d9221\"], [1, \"#276419\"]], \"sequential\": [[0.0, \"#0d0887\"], [0.1111111111111111, \"#46039f\"], [0.2222222222222222, \"#7201a8\"], [0.3333333333333333, \"#9c179e\"], [0.4444444444444444, \"#bd3786\"], [0.5555555555555556, \"#d8576b\"], [0.6666666666666666, \"#ed7953\"], [0.7777777777777778, \"#fb9f3a\"], [0.8888888888888888, \"#fdca26\"], [1.0, \"#f0f921\"]], \"sequentialminus\": [[0.0, \"#0d0887\"], [0.1111111111111111, \"#46039f\"], [0.2222222222222222, \"#7201a8\"], [0.3333333333333333, \"#9c179e\"], [0.4444444444444444, \"#bd3786\"], [0.5555555555555556, \"#d8576b\"], [0.6666666666666666, \"#ed7953\"], [0.7777777777777778, \"#fb9f3a\"], [0.8888888888888888, \"#fdca26\"], [1.0, \"#f0f921\"]]}, \"colorway\": [\"#636efa\", \"#EF553B\", \"#00cc96\", \"#ab63fa\", \"#FFA15A\", \"#19d3f3\", \"#FF6692\", \"#B6E880\", \"#FF97FF\", \"#FECB52\"], \"font\": {\"color\": \"#2a3f5f\"}, \"geo\": {\"bgcolor\": \"white\", \"lakecolor\": \"white\", \"landcolor\": \"#E5ECF6\", \"showlakes\": true, \"showland\": true, \"subunitcolor\": \"white\"}, \"hoverlabel\": {\"align\": \"left\"}, \"hovermode\": \"closest\", \"mapbox\": {\"style\": \"light\"}, \"paper_bgcolor\": \"white\", \"plot_bgcolor\": \"#E5ECF6\", \"polar\": {\"angularaxis\": {\"gridcolor\": \"white\", \"linecolor\": \"white\", \"ticks\": \"\"}, \"bgcolor\": \"#E5ECF6\", \"radialaxis\": {\"gridcolor\": \"white\", \"linecolor\": \"white\", \"ticks\": \"\"}}, \"scene\": {\"xaxis\": {\"backgroundcolor\": \"#E5ECF6\", \"gridcolor\": \"white\", \"gridwidth\": 2, \"linecolor\": \"white\", \"showbackground\": true, \"ticks\": \"\", \"zerolinecolor\": \"white\"}, \"yaxis\": {\"backgroundcolor\": \"#E5ECF6\", \"gridcolor\": \"white\", \"gridwidth\": 2, \"linecolor\": \"white\", \"showbackground\": true, \"ticks\": \"\", \"zerolinecolor\": \"white\"}, \"zaxis\": {\"backgroundcolor\": \"#E5ECF6\", \"gridcolor\": \"white\", \"gridwidth\": 2, \"linecolor\": \"white\", \"showbackground\": true, \"ticks\": \"\", \"zerolinecolor\": \"white\"}}, \"shapedefaults\": {\"line\": {\"color\": \"#2a3f5f\"}}, \"ternary\": {\"aaxis\": {\"gridcolor\": \"white\", \"linecolor\": \"white\", \"ticks\": \"\"}, \"baxis\": {\"gridcolor\": \"white\", \"linecolor\": \"white\", \"ticks\": \"\"}, \"bgcolor\": \"#E5ECF6\", \"caxis\": {\"gridcolor\": \"white\", \"linecolor\": \"white\", \"ticks\": \"\"}}, \"title\": {\"x\": 0.05}, \"xaxis\": {\"automargin\": true, \"gridcolor\": \"white\", \"linecolor\": \"white\", \"ticks\": \"\", \"title\": {\"standoff\": 15}, \"zerolinecolor\": \"white\", \"zerolinewidth\": 2}, \"yaxis\": {\"automargin\": true, \"gridcolor\": \"white\", \"linecolor\": \"white\", \"ticks\": \"\", \"title\": {\"standoff\": 15}, \"zerolinecolor\": \"white\", \"zerolinewidth\": 2}}}},\n                        {\"responsive\": true}\n                    ).then(function(){\n                            \nvar gd = document.getElementById('0c11a43d-85e0-4041-ae24-9807452291b6');\nvar x = new MutationObserver(function (mutations, observer) {{\n        var display = window.getComputedStyle(gd).display;\n        if (!display || display === 'none') {{\n            console.log([gd, 'removed!']);\n            Plotly.purge(gd);\n            observer.disconnect();\n        }}\n}});\n\n// Listen for the removal of the full notebook cells\nvar notebookContainer = gd.closest('#notebook-container');\nif (notebookContainer) {{\n    x.observe(notebookContainer, {childList: true});\n}}\n\n// Listen for the clearing of the current output cell\nvar outputEl = gd.closest('.output');\nif (outputEl) {{\n    x.observe(outputEl, {childList: true});\n}}\n\n                        })\n                };\n                });\n            </script>\n        </div>"
     },
     "metadata": {},
     "output_type": "display_data"
    }
   ],
   "source": [
    "sr_data = [go.Bar(x=sharpe_ratio_df.index,\n",
    "                  y=sharpe_ratio_df[col]) for col in sharpe_ratio_df.columns]\n",
    "pyo.iplot(sr_data)"
   ],
   "metadata": {
    "collapsed": false,
    "pycharm": {
     "name": "#%%\n"
    }
   }
  },
  {
   "cell_type": "markdown",
   "source": [
    "% OF CASES WHERE SR(EW) > SR(VW)\n",
    "\n",
    "\n"
   ],
   "metadata": {
    "collapsed": false,
    "pycharm": {
     "name": "#%% md\n"
    }
   }
  },
  {
   "cell_type": "code",
   "execution_count": 11,
   "outputs": [
    {
     "data": {
      "text/plain": "0.6333333333333333"
     },
     "execution_count": 11,
     "metadata": {},
     "output_type": "execute_result"
    }
   ],
   "source": [
    "(sharpe_ratio_df['EW'] > sharpe_ratio_df['VW']).sum()/sharpe_ratio_df.shape[0]"
   ],
   "metadata": {
    "collapsed": false,
    "pycharm": {
     "name": "#%%\n"
    }
   }
  },
  {
   "cell_type": "markdown",
   "source": [
    "ROLLING WINDOW SR CALC FOR VW AND EW MARKET PF\n",
    "\n",
    "\n"
   ],
   "metadata": {
    "collapsed": false,
    "pycharm": {
     "name": "#%% md\n"
    }
   }
  },
  {
   "cell_type": "code",
   "execution_count": 12,
   "outputs": [],
   "source": [
    "sharpe_ratio_rolling_df = pd.DataFrame({\n",
    "    'VW': ind_vw.rolling(window='1825D').apply(erk.risk_info, kwargs={'only_sharpe': True, 'rf': 0.03}, raw=True).mean(axis=1)['1945':].dropna(),\n",
    "    'EW': ind_ew.rolling(window='1825D').apply(erk.risk_info, kwargs={'only_sharpe': True, 'rf': 0.03}, raw=True).mean(axis=1)['1945':].dropna()\n",
    "})\n"
   ],
   "metadata": {
    "collapsed": false,
    "pycharm": {
     "name": "#%%\n"
    }
   }
  },
  {
   "cell_type": "markdown",
   "source": [
    "PLOT ROLLING SR\n",
    "\n",
    "\n"
   ],
   "metadata": {
    "collapsed": false,
    "pycharm": {
     "name": "#%% md\n"
    }
   }
  },
  {
   "cell_type": "code",
   "execution_count": 13,
   "outputs": [
    {
     "data": {
      "application/vnd.plotly.v1+json": {
       "config": {
        "linkText": "Export to plot.ly",
        "plotlyServerURL": "https://plot.ly",
        "showLink": false
       },
       "data": [
        {
         "name": "VW",
         "type": "scatter",
         "x": [
          "1945-01-01T00:00:00",
          "1945-02-01T00:00:00",
          "1945-03-01T00:00:00",
          "1945-04-01T00:00:00",
          "1945-05-01T00:00:00",
          "1945-06-01T00:00:00",
          "1945-07-01T00:00:00",
          "1945-08-01T00:00:00",
          "1945-09-01T00:00:00",
          "1945-10-01T00:00:00",
          "1945-11-01T00:00:00",
          "1945-12-01T00:00:00",
          "1946-01-01T00:00:00",
          "1946-02-01T00:00:00",
          "1946-03-01T00:00:00",
          "1946-04-01T00:00:00",
          "1946-05-01T00:00:00",
          "1946-06-01T00:00:00",
          "1946-07-01T00:00:00",
          "1946-08-01T00:00:00",
          "1946-09-01T00:00:00",
          "1946-10-01T00:00:00",
          "1946-11-01T00:00:00",
          "1946-12-01T00:00:00",
          "1947-01-01T00:00:00",
          "1947-02-01T00:00:00",
          "1947-03-01T00:00:00",
          "1947-04-01T00:00:00",
          "1947-05-01T00:00:00",
          "1947-06-01T00:00:00",
          "1947-07-01T00:00:00",
          "1947-08-01T00:00:00",
          "1947-09-01T00:00:00",
          "1947-10-01T00:00:00",
          "1947-11-01T00:00:00",
          "1947-12-01T00:00:00",
          "1948-01-01T00:00:00",
          "1948-02-01T00:00:00",
          "1948-03-01T00:00:00",
          "1948-04-01T00:00:00",
          "1948-05-01T00:00:00",
          "1948-06-01T00:00:00",
          "1948-07-01T00:00:00",
          "1948-08-01T00:00:00",
          "1948-09-01T00:00:00",
          "1948-10-01T00:00:00",
          "1948-11-01T00:00:00",
          "1948-12-01T00:00:00",
          "1949-01-01T00:00:00",
          "1949-02-01T00:00:00",
          "1949-03-01T00:00:00",
          "1949-04-01T00:00:00",
          "1949-05-01T00:00:00",
          "1949-06-01T00:00:00",
          "1949-07-01T00:00:00",
          "1949-08-01T00:00:00",
          "1949-09-01T00:00:00",
          "1949-10-01T00:00:00",
          "1949-11-01T00:00:00",
          "1949-12-01T00:00:00",
          "1950-01-01T00:00:00",
          "1950-02-01T00:00:00",
          "1950-03-01T00:00:00",
          "1950-04-01T00:00:00",
          "1950-05-01T00:00:00",
          "1950-06-01T00:00:00",
          "1950-07-01T00:00:00",
          "1950-08-01T00:00:00",
          "1950-09-01T00:00:00",
          "1950-10-01T00:00:00",
          "1950-11-01T00:00:00",
          "1950-12-01T00:00:00",
          "1951-01-01T00:00:00",
          "1951-02-01T00:00:00",
          "1951-03-01T00:00:00",
          "1951-04-01T00:00:00",
          "1951-05-01T00:00:00",
          "1951-06-01T00:00:00",
          "1951-07-01T00:00:00",
          "1951-08-01T00:00:00",
          "1951-09-01T00:00:00",
          "1951-10-01T00:00:00",
          "1951-11-01T00:00:00",
          "1951-12-01T00:00:00",
          "1952-01-01T00:00:00",
          "1952-02-01T00:00:00",
          "1952-03-01T00:00:00",
          "1952-04-01T00:00:00",
          "1952-05-01T00:00:00",
          "1952-06-01T00:00:00",
          "1952-07-01T00:00:00",
          "1952-08-01T00:00:00",
          "1952-09-01T00:00:00",
          "1952-10-01T00:00:00",
          "1952-11-01T00:00:00",
          "1952-12-01T00:00:00",
          "1953-01-01T00:00:00",
          "1953-02-01T00:00:00",
          "1953-03-01T00:00:00",
          "1953-04-01T00:00:00",
          "1953-05-01T00:00:00",
          "1953-06-01T00:00:00",
          "1953-07-01T00:00:00",
          "1953-08-01T00:00:00",
          "1953-09-01T00:00:00",
          "1953-10-01T00:00:00",
          "1953-11-01T00:00:00",
          "1953-12-01T00:00:00",
          "1954-01-01T00:00:00",
          "1954-02-01T00:00:00",
          "1954-03-01T00:00:00",
          "1954-04-01T00:00:00",
          "1954-05-01T00:00:00",
          "1954-06-01T00:00:00",
          "1954-07-01T00:00:00",
          "1954-08-01T00:00:00",
          "1954-09-01T00:00:00",
          "1954-10-01T00:00:00",
          "1954-11-01T00:00:00",
          "1954-12-01T00:00:00",
          "1955-01-01T00:00:00",
          "1955-02-01T00:00:00",
          "1955-03-01T00:00:00",
          "1955-04-01T00:00:00",
          "1955-05-01T00:00:00",
          "1955-06-01T00:00:00",
          "1955-07-01T00:00:00",
          "1955-08-01T00:00:00",
          "1955-09-01T00:00:00",
          "1955-10-01T00:00:00",
          "1955-11-01T00:00:00",
          "1955-12-01T00:00:00",
          "1956-01-01T00:00:00",
          "1956-02-01T00:00:00",
          "1956-03-01T00:00:00",
          "1956-04-01T00:00:00",
          "1956-05-01T00:00:00",
          "1956-06-01T00:00:00",
          "1956-07-01T00:00:00",
          "1956-08-01T00:00:00",
          "1956-09-01T00:00:00",
          "1956-10-01T00:00:00",
          "1956-11-01T00:00:00",
          "1956-12-01T00:00:00",
          "1957-01-01T00:00:00",
          "1957-02-01T00:00:00",
          "1957-03-01T00:00:00",
          "1957-04-01T00:00:00",
          "1957-05-01T00:00:00",
          "1957-06-01T00:00:00",
          "1957-07-01T00:00:00",
          "1957-08-01T00:00:00",
          "1957-09-01T00:00:00",
          "1957-10-01T00:00:00",
          "1957-11-01T00:00:00",
          "1957-12-01T00:00:00",
          "1958-01-01T00:00:00",
          "1958-02-01T00:00:00",
          "1958-03-01T00:00:00",
          "1958-04-01T00:00:00",
          "1958-05-01T00:00:00",
          "1958-06-01T00:00:00",
          "1958-07-01T00:00:00",
          "1958-08-01T00:00:00",
          "1958-09-01T00:00:00",
          "1958-10-01T00:00:00",
          "1958-11-01T00:00:00",
          "1958-12-01T00:00:00",
          "1959-01-01T00:00:00",
          "1959-02-01T00:00:00",
          "1959-03-01T00:00:00",
          "1959-04-01T00:00:00",
          "1959-05-01T00:00:00",
          "1959-06-01T00:00:00",
          "1959-07-01T00:00:00",
          "1959-08-01T00:00:00",
          "1959-09-01T00:00:00",
          "1959-10-01T00:00:00",
          "1959-11-01T00:00:00",
          "1959-12-01T00:00:00",
          "1960-01-01T00:00:00",
          "1960-02-01T00:00:00",
          "1960-03-01T00:00:00",
          "1960-04-01T00:00:00",
          "1960-05-01T00:00:00",
          "1960-06-01T00:00:00",
          "1960-07-01T00:00:00",
          "1960-08-01T00:00:00",
          "1960-09-01T00:00:00",
          "1960-10-01T00:00:00",
          "1960-11-01T00:00:00",
          "1960-12-01T00:00:00",
          "1961-01-01T00:00:00",
          "1961-02-01T00:00:00",
          "1961-03-01T00:00:00",
          "1961-04-01T00:00:00",
          "1961-05-01T00:00:00",
          "1961-06-01T00:00:00",
          "1961-07-01T00:00:00",
          "1961-08-01T00:00:00",
          "1961-09-01T00:00:00",
          "1961-10-01T00:00:00",
          "1961-11-01T00:00:00",
          "1961-12-01T00:00:00",
          "1962-01-01T00:00:00",
          "1962-02-01T00:00:00",
          "1962-03-01T00:00:00",
          "1962-04-01T00:00:00",
          "1962-05-01T00:00:00",
          "1962-06-01T00:00:00",
          "1962-07-01T00:00:00",
          "1962-08-01T00:00:00",
          "1962-09-01T00:00:00",
          "1962-10-01T00:00:00",
          "1962-11-01T00:00:00",
          "1962-12-01T00:00:00",
          "1963-01-01T00:00:00",
          "1963-02-01T00:00:00",
          "1963-03-01T00:00:00",
          "1963-04-01T00:00:00",
          "1963-05-01T00:00:00",
          "1963-06-01T00:00:00",
          "1963-07-01T00:00:00",
          "1963-08-01T00:00:00",
          "1963-09-01T00:00:00",
          "1963-10-01T00:00:00",
          "1963-11-01T00:00:00",
          "1963-12-01T00:00:00",
          "1964-01-01T00:00:00",
          "1964-02-01T00:00:00",
          "1964-03-01T00:00:00",
          "1964-04-01T00:00:00",
          "1964-05-01T00:00:00",
          "1964-06-01T00:00:00",
          "1964-07-01T00:00:00",
          "1964-08-01T00:00:00",
          "1964-09-01T00:00:00",
          "1964-10-01T00:00:00",
          "1964-11-01T00:00:00",
          "1964-12-01T00:00:00",
          "1965-01-01T00:00:00",
          "1965-02-01T00:00:00",
          "1965-03-01T00:00:00",
          "1965-04-01T00:00:00",
          "1965-05-01T00:00:00",
          "1965-06-01T00:00:00",
          "1965-07-01T00:00:00",
          "1965-08-01T00:00:00",
          "1965-09-01T00:00:00",
          "1965-10-01T00:00:00",
          "1965-11-01T00:00:00",
          "1965-12-01T00:00:00",
          "1966-01-01T00:00:00",
          "1966-02-01T00:00:00",
          "1966-03-01T00:00:00",
          "1966-04-01T00:00:00",
          "1966-05-01T00:00:00",
          "1966-06-01T00:00:00",
          "1966-07-01T00:00:00",
          "1966-08-01T00:00:00",
          "1966-09-01T00:00:00",
          "1966-10-01T00:00:00",
          "1966-11-01T00:00:00",
          "1966-12-01T00:00:00",
          "1967-01-01T00:00:00",
          "1967-02-01T00:00:00",
          "1967-03-01T00:00:00",
          "1967-04-01T00:00:00",
          "1967-05-01T00:00:00",
          "1967-06-01T00:00:00",
          "1967-07-01T00:00:00",
          "1967-08-01T00:00:00",
          "1967-09-01T00:00:00",
          "1967-10-01T00:00:00",
          "1967-11-01T00:00:00",
          "1967-12-01T00:00:00",
          "1968-01-01T00:00:00",
          "1968-02-01T00:00:00",
          "1968-03-01T00:00:00",
          "1968-04-01T00:00:00",
          "1968-05-01T00:00:00",
          "1968-06-01T00:00:00",
          "1968-07-01T00:00:00",
          "1968-08-01T00:00:00",
          "1968-09-01T00:00:00",
          "1968-10-01T00:00:00",
          "1968-11-01T00:00:00",
          "1968-12-01T00:00:00",
          "1969-01-01T00:00:00",
          "1969-02-01T00:00:00",
          "1969-03-01T00:00:00",
          "1969-04-01T00:00:00",
          "1969-05-01T00:00:00",
          "1969-06-01T00:00:00",
          "1969-07-01T00:00:00",
          "1969-08-01T00:00:00",
          "1969-09-01T00:00:00",
          "1969-10-01T00:00:00",
          "1969-11-01T00:00:00",
          "1969-12-01T00:00:00",
          "1970-01-01T00:00:00",
          "1970-02-01T00:00:00",
          "1970-03-01T00:00:00",
          "1970-04-01T00:00:00",
          "1970-05-01T00:00:00",
          "1970-06-01T00:00:00",
          "1970-07-01T00:00:00",
          "1970-08-01T00:00:00",
          "1970-09-01T00:00:00",
          "1970-10-01T00:00:00",
          "1970-11-01T00:00:00",
          "1970-12-01T00:00:00",
          "1971-01-01T00:00:00",
          "1971-02-01T00:00:00",
          "1971-03-01T00:00:00",
          "1971-04-01T00:00:00",
          "1971-05-01T00:00:00",
          "1971-06-01T00:00:00",
          "1971-07-01T00:00:00",
          "1971-08-01T00:00:00",
          "1971-09-01T00:00:00",
          "1971-10-01T00:00:00",
          "1971-11-01T00:00:00",
          "1971-12-01T00:00:00",
          "1972-01-01T00:00:00",
          "1972-02-01T00:00:00",
          "1972-03-01T00:00:00",
          "1972-04-01T00:00:00",
          "1972-05-01T00:00:00",
          "1972-06-01T00:00:00",
          "1972-07-01T00:00:00",
          "1972-08-01T00:00:00",
          "1972-09-01T00:00:00",
          "1972-10-01T00:00:00",
          "1972-11-01T00:00:00",
          "1972-12-01T00:00:00",
          "1973-01-01T00:00:00",
          "1973-02-01T00:00:00",
          "1973-03-01T00:00:00",
          "1973-04-01T00:00:00",
          "1973-05-01T00:00:00",
          "1973-06-01T00:00:00",
          "1973-07-01T00:00:00",
          "1973-08-01T00:00:00",
          "1973-09-01T00:00:00",
          "1973-10-01T00:00:00",
          "1973-11-01T00:00:00",
          "1973-12-01T00:00:00",
          "1974-01-01T00:00:00",
          "1974-02-01T00:00:00",
          "1974-03-01T00:00:00",
          "1974-04-01T00:00:00",
          "1974-05-01T00:00:00",
          "1974-06-01T00:00:00",
          "1974-07-01T00:00:00",
          "1974-08-01T00:00:00",
          "1974-09-01T00:00:00",
          "1974-10-01T00:00:00",
          "1974-11-01T00:00:00",
          "1974-12-01T00:00:00",
          "1975-01-01T00:00:00",
          "1975-02-01T00:00:00",
          "1975-03-01T00:00:00",
          "1975-04-01T00:00:00",
          "1975-05-01T00:00:00",
          "1975-06-01T00:00:00",
          "1975-07-01T00:00:00",
          "1975-08-01T00:00:00",
          "1975-09-01T00:00:00",
          "1975-10-01T00:00:00",
          "1975-11-01T00:00:00",
          "1975-12-01T00:00:00",
          "1976-01-01T00:00:00",
          "1976-02-01T00:00:00",
          "1976-03-01T00:00:00",
          "1976-04-01T00:00:00",
          "1976-05-01T00:00:00",
          "1976-06-01T00:00:00",
          "1976-07-01T00:00:00",
          "1976-08-01T00:00:00",
          "1976-09-01T00:00:00",
          "1976-10-01T00:00:00",
          "1976-11-01T00:00:00",
          "1976-12-01T00:00:00",
          "1977-01-01T00:00:00",
          "1977-02-01T00:00:00",
          "1977-03-01T00:00:00",
          "1977-04-01T00:00:00",
          "1977-05-01T00:00:00",
          "1977-06-01T00:00:00",
          "1977-07-01T00:00:00",
          "1977-08-01T00:00:00",
          "1977-09-01T00:00:00",
          "1977-10-01T00:00:00",
          "1977-11-01T00:00:00",
          "1977-12-01T00:00:00",
          "1978-01-01T00:00:00",
          "1978-02-01T00:00:00",
          "1978-03-01T00:00:00",
          "1978-04-01T00:00:00",
          "1978-05-01T00:00:00",
          "1978-06-01T00:00:00",
          "1978-07-01T00:00:00",
          "1978-08-01T00:00:00",
          "1978-09-01T00:00:00",
          "1978-10-01T00:00:00",
          "1978-11-01T00:00:00",
          "1978-12-01T00:00:00",
          "1979-01-01T00:00:00",
          "1979-02-01T00:00:00",
          "1979-03-01T00:00:00",
          "1979-04-01T00:00:00",
          "1979-05-01T00:00:00",
          "1979-06-01T00:00:00",
          "1979-07-01T00:00:00",
          "1979-08-01T00:00:00",
          "1979-09-01T00:00:00",
          "1979-10-01T00:00:00",
          "1979-11-01T00:00:00",
          "1979-12-01T00:00:00",
          "1980-01-01T00:00:00",
          "1980-02-01T00:00:00",
          "1980-03-01T00:00:00",
          "1980-04-01T00:00:00",
          "1980-05-01T00:00:00",
          "1980-06-01T00:00:00",
          "1980-07-01T00:00:00",
          "1980-08-01T00:00:00",
          "1980-09-01T00:00:00",
          "1980-10-01T00:00:00",
          "1980-11-01T00:00:00",
          "1980-12-01T00:00:00",
          "1981-01-01T00:00:00",
          "1981-02-01T00:00:00",
          "1981-03-01T00:00:00",
          "1981-04-01T00:00:00",
          "1981-05-01T00:00:00",
          "1981-06-01T00:00:00",
          "1981-07-01T00:00:00",
          "1981-08-01T00:00:00",
          "1981-09-01T00:00:00",
          "1981-10-01T00:00:00",
          "1981-11-01T00:00:00",
          "1981-12-01T00:00:00",
          "1982-01-01T00:00:00",
          "1982-02-01T00:00:00",
          "1982-03-01T00:00:00",
          "1982-04-01T00:00:00",
          "1982-05-01T00:00:00",
          "1982-06-01T00:00:00",
          "1982-07-01T00:00:00",
          "1982-08-01T00:00:00",
          "1982-09-01T00:00:00",
          "1982-10-01T00:00:00",
          "1982-11-01T00:00:00",
          "1982-12-01T00:00:00",
          "1983-01-01T00:00:00",
          "1983-02-01T00:00:00",
          "1983-03-01T00:00:00",
          "1983-04-01T00:00:00",
          "1983-05-01T00:00:00",
          "1983-06-01T00:00:00",
          "1983-07-01T00:00:00",
          "1983-08-01T00:00:00",
          "1983-09-01T00:00:00",
          "1983-10-01T00:00:00",
          "1983-11-01T00:00:00",
          "1983-12-01T00:00:00",
          "1984-01-01T00:00:00",
          "1984-02-01T00:00:00",
          "1984-03-01T00:00:00",
          "1984-04-01T00:00:00",
          "1984-05-01T00:00:00",
          "1984-06-01T00:00:00",
          "1984-07-01T00:00:00",
          "1984-08-01T00:00:00",
          "1984-09-01T00:00:00",
          "1984-10-01T00:00:00",
          "1984-11-01T00:00:00",
          "1984-12-01T00:00:00",
          "1985-01-01T00:00:00",
          "1985-02-01T00:00:00",
          "1985-03-01T00:00:00",
          "1985-04-01T00:00:00",
          "1985-05-01T00:00:00",
          "1985-06-01T00:00:00",
          "1985-07-01T00:00:00",
          "1985-08-01T00:00:00",
          "1985-09-01T00:00:00",
          "1985-10-01T00:00:00",
          "1985-11-01T00:00:00",
          "1985-12-01T00:00:00",
          "1986-01-01T00:00:00",
          "1986-02-01T00:00:00",
          "1986-03-01T00:00:00",
          "1986-04-01T00:00:00",
          "1986-05-01T00:00:00",
          "1986-06-01T00:00:00",
          "1986-07-01T00:00:00",
          "1986-08-01T00:00:00",
          "1986-09-01T00:00:00",
          "1986-10-01T00:00:00",
          "1986-11-01T00:00:00",
          "1986-12-01T00:00:00",
          "1987-01-01T00:00:00",
          "1987-02-01T00:00:00",
          "1987-03-01T00:00:00",
          "1987-04-01T00:00:00",
          "1987-05-01T00:00:00",
          "1987-06-01T00:00:00",
          "1987-07-01T00:00:00",
          "1987-08-01T00:00:00",
          "1987-09-01T00:00:00",
          "1987-10-01T00:00:00",
          "1987-11-01T00:00:00",
          "1987-12-01T00:00:00",
          "1988-01-01T00:00:00",
          "1988-02-01T00:00:00",
          "1988-03-01T00:00:00",
          "1988-04-01T00:00:00",
          "1988-05-01T00:00:00",
          "1988-06-01T00:00:00",
          "1988-07-01T00:00:00",
          "1988-08-01T00:00:00",
          "1988-09-01T00:00:00",
          "1988-10-01T00:00:00",
          "1988-11-01T00:00:00",
          "1988-12-01T00:00:00",
          "1989-01-01T00:00:00",
          "1989-02-01T00:00:00",
          "1989-03-01T00:00:00",
          "1989-04-01T00:00:00",
          "1989-05-01T00:00:00",
          "1989-06-01T00:00:00",
          "1989-07-01T00:00:00",
          "1989-08-01T00:00:00",
          "1989-09-01T00:00:00",
          "1989-10-01T00:00:00",
          "1989-11-01T00:00:00",
          "1989-12-01T00:00:00",
          "1990-01-01T00:00:00",
          "1990-02-01T00:00:00",
          "1990-03-01T00:00:00",
          "1990-04-01T00:00:00",
          "1990-05-01T00:00:00",
          "1990-06-01T00:00:00",
          "1990-07-01T00:00:00",
          "1990-08-01T00:00:00",
          "1990-09-01T00:00:00",
          "1990-10-01T00:00:00",
          "1990-11-01T00:00:00",
          "1990-12-01T00:00:00",
          "1991-01-01T00:00:00",
          "1991-02-01T00:00:00",
          "1991-03-01T00:00:00",
          "1991-04-01T00:00:00",
          "1991-05-01T00:00:00",
          "1991-06-01T00:00:00",
          "1991-07-01T00:00:00",
          "1991-08-01T00:00:00",
          "1991-09-01T00:00:00",
          "1991-10-01T00:00:00",
          "1991-11-01T00:00:00",
          "1991-12-01T00:00:00",
          "1992-01-01T00:00:00",
          "1992-02-01T00:00:00",
          "1992-03-01T00:00:00",
          "1992-04-01T00:00:00",
          "1992-05-01T00:00:00",
          "1992-06-01T00:00:00",
          "1992-07-01T00:00:00",
          "1992-08-01T00:00:00",
          "1992-09-01T00:00:00",
          "1992-10-01T00:00:00",
          "1992-11-01T00:00:00",
          "1992-12-01T00:00:00",
          "1993-01-01T00:00:00",
          "1993-02-01T00:00:00",
          "1993-03-01T00:00:00",
          "1993-04-01T00:00:00",
          "1993-05-01T00:00:00",
          "1993-06-01T00:00:00",
          "1993-07-01T00:00:00",
          "1993-08-01T00:00:00",
          "1993-09-01T00:00:00",
          "1993-10-01T00:00:00",
          "1993-11-01T00:00:00",
          "1993-12-01T00:00:00",
          "1994-01-01T00:00:00",
          "1994-02-01T00:00:00",
          "1994-03-01T00:00:00",
          "1994-04-01T00:00:00",
          "1994-05-01T00:00:00",
          "1994-06-01T00:00:00",
          "1994-07-01T00:00:00",
          "1994-08-01T00:00:00",
          "1994-09-01T00:00:00",
          "1994-10-01T00:00:00",
          "1994-11-01T00:00:00",
          "1994-12-01T00:00:00",
          "1995-01-01T00:00:00",
          "1995-02-01T00:00:00",
          "1995-03-01T00:00:00",
          "1995-04-01T00:00:00",
          "1995-05-01T00:00:00",
          "1995-06-01T00:00:00",
          "1995-07-01T00:00:00",
          "1995-08-01T00:00:00",
          "1995-09-01T00:00:00",
          "1995-10-01T00:00:00",
          "1995-11-01T00:00:00",
          "1995-12-01T00:00:00",
          "1996-01-01T00:00:00",
          "1996-02-01T00:00:00",
          "1996-03-01T00:00:00",
          "1996-04-01T00:00:00",
          "1996-05-01T00:00:00",
          "1996-06-01T00:00:00",
          "1996-07-01T00:00:00",
          "1996-08-01T00:00:00",
          "1996-09-01T00:00:00",
          "1996-10-01T00:00:00",
          "1996-11-01T00:00:00",
          "1996-12-01T00:00:00",
          "1997-01-01T00:00:00",
          "1997-02-01T00:00:00",
          "1997-03-01T00:00:00",
          "1997-04-01T00:00:00",
          "1997-05-01T00:00:00",
          "1997-06-01T00:00:00",
          "1997-07-01T00:00:00",
          "1997-08-01T00:00:00",
          "1997-09-01T00:00:00",
          "1997-10-01T00:00:00",
          "1997-11-01T00:00:00",
          "1997-12-01T00:00:00",
          "1998-01-01T00:00:00",
          "1998-02-01T00:00:00",
          "1998-03-01T00:00:00",
          "1998-04-01T00:00:00",
          "1998-05-01T00:00:00",
          "1998-06-01T00:00:00",
          "1998-07-01T00:00:00",
          "1998-08-01T00:00:00",
          "1998-09-01T00:00:00",
          "1998-10-01T00:00:00",
          "1998-11-01T00:00:00",
          "1998-12-01T00:00:00",
          "1999-01-01T00:00:00",
          "1999-02-01T00:00:00",
          "1999-03-01T00:00:00",
          "1999-04-01T00:00:00",
          "1999-05-01T00:00:00",
          "1999-06-01T00:00:00",
          "1999-07-01T00:00:00",
          "1999-08-01T00:00:00",
          "1999-09-01T00:00:00",
          "1999-10-01T00:00:00",
          "1999-11-01T00:00:00",
          "1999-12-01T00:00:00",
          "2000-01-01T00:00:00",
          "2000-02-01T00:00:00",
          "2000-03-01T00:00:00",
          "2000-04-01T00:00:00",
          "2000-05-01T00:00:00",
          "2000-06-01T00:00:00",
          "2000-07-01T00:00:00",
          "2000-08-01T00:00:00",
          "2000-09-01T00:00:00",
          "2000-10-01T00:00:00",
          "2000-11-01T00:00:00",
          "2000-12-01T00:00:00",
          "2001-01-01T00:00:00",
          "2001-02-01T00:00:00",
          "2001-03-01T00:00:00",
          "2001-04-01T00:00:00",
          "2001-05-01T00:00:00",
          "2001-06-01T00:00:00",
          "2001-07-01T00:00:00",
          "2001-08-01T00:00:00",
          "2001-09-01T00:00:00",
          "2001-10-01T00:00:00",
          "2001-11-01T00:00:00",
          "2001-12-01T00:00:00",
          "2002-01-01T00:00:00",
          "2002-02-01T00:00:00",
          "2002-03-01T00:00:00",
          "2002-04-01T00:00:00",
          "2002-05-01T00:00:00",
          "2002-06-01T00:00:00",
          "2002-07-01T00:00:00",
          "2002-08-01T00:00:00",
          "2002-09-01T00:00:00",
          "2002-10-01T00:00:00",
          "2002-11-01T00:00:00",
          "2002-12-01T00:00:00",
          "2003-01-01T00:00:00",
          "2003-02-01T00:00:00",
          "2003-03-01T00:00:00",
          "2003-04-01T00:00:00",
          "2003-05-01T00:00:00",
          "2003-06-01T00:00:00",
          "2003-07-01T00:00:00",
          "2003-08-01T00:00:00",
          "2003-09-01T00:00:00",
          "2003-10-01T00:00:00",
          "2003-11-01T00:00:00",
          "2003-12-01T00:00:00",
          "2004-01-01T00:00:00",
          "2004-02-01T00:00:00",
          "2004-03-01T00:00:00",
          "2004-04-01T00:00:00",
          "2004-05-01T00:00:00",
          "2004-06-01T00:00:00",
          "2004-07-01T00:00:00",
          "2004-08-01T00:00:00",
          "2004-09-01T00:00:00",
          "2004-10-01T00:00:00",
          "2004-11-01T00:00:00",
          "2004-12-01T00:00:00",
          "2005-01-01T00:00:00",
          "2005-02-01T00:00:00",
          "2005-03-01T00:00:00",
          "2005-04-01T00:00:00",
          "2005-05-01T00:00:00",
          "2005-06-01T00:00:00",
          "2005-07-01T00:00:00",
          "2005-08-01T00:00:00",
          "2005-09-01T00:00:00",
          "2005-10-01T00:00:00",
          "2005-11-01T00:00:00",
          "2005-12-01T00:00:00",
          "2006-01-01T00:00:00",
          "2006-02-01T00:00:00",
          "2006-03-01T00:00:00",
          "2006-04-01T00:00:00",
          "2006-05-01T00:00:00",
          "2006-06-01T00:00:00",
          "2006-07-01T00:00:00",
          "2006-08-01T00:00:00",
          "2006-09-01T00:00:00",
          "2006-10-01T00:00:00",
          "2006-11-01T00:00:00",
          "2006-12-01T00:00:00",
          "2007-01-01T00:00:00",
          "2007-02-01T00:00:00",
          "2007-03-01T00:00:00",
          "2007-04-01T00:00:00",
          "2007-05-01T00:00:00",
          "2007-06-01T00:00:00",
          "2007-07-01T00:00:00",
          "2007-08-01T00:00:00",
          "2007-09-01T00:00:00",
          "2007-10-01T00:00:00",
          "2007-11-01T00:00:00",
          "2007-12-01T00:00:00",
          "2008-01-01T00:00:00",
          "2008-02-01T00:00:00",
          "2008-03-01T00:00:00",
          "2008-04-01T00:00:00",
          "2008-05-01T00:00:00",
          "2008-06-01T00:00:00",
          "2008-07-01T00:00:00",
          "2008-08-01T00:00:00",
          "2008-09-01T00:00:00",
          "2008-10-01T00:00:00",
          "2008-11-01T00:00:00",
          "2008-12-01T00:00:00",
          "2009-01-01T00:00:00",
          "2009-02-01T00:00:00",
          "2009-03-01T00:00:00",
          "2009-04-01T00:00:00",
          "2009-05-01T00:00:00",
          "2009-06-01T00:00:00",
          "2009-07-01T00:00:00",
          "2009-08-01T00:00:00",
          "2009-09-01T00:00:00",
          "2009-10-01T00:00:00",
          "2009-11-01T00:00:00",
          "2009-12-01T00:00:00",
          "2010-01-01T00:00:00",
          "2010-02-01T00:00:00",
          "2010-03-01T00:00:00",
          "2010-04-01T00:00:00",
          "2010-05-01T00:00:00",
          "2010-06-01T00:00:00",
          "2010-07-01T00:00:00",
          "2010-08-01T00:00:00",
          "2010-09-01T00:00:00",
          "2010-10-01T00:00:00",
          "2010-11-01T00:00:00",
          "2010-12-01T00:00:00",
          "2011-01-01T00:00:00",
          "2011-02-01T00:00:00",
          "2011-03-01T00:00:00",
          "2011-04-01T00:00:00",
          "2011-05-01T00:00:00",
          "2011-06-01T00:00:00",
          "2011-07-01T00:00:00",
          "2011-08-01T00:00:00",
          "2011-09-01T00:00:00",
          "2011-10-01T00:00:00",
          "2011-11-01T00:00:00",
          "2011-12-01T00:00:00",
          "2012-01-01T00:00:00",
          "2012-02-01T00:00:00",
          "2012-03-01T00:00:00",
          "2012-04-01T00:00:00",
          "2012-05-01T00:00:00",
          "2012-06-01T00:00:00",
          "2012-07-01T00:00:00",
          "2012-08-01T00:00:00",
          "2012-09-01T00:00:00",
          "2012-10-01T00:00:00",
          "2012-11-01T00:00:00",
          "2012-12-01T00:00:00",
          "2013-01-01T00:00:00",
          "2013-02-01T00:00:00",
          "2013-03-01T00:00:00",
          "2013-04-01T00:00:00",
          "2013-05-01T00:00:00",
          "2013-06-01T00:00:00",
          "2013-07-01T00:00:00",
          "2013-08-01T00:00:00",
          "2013-09-01T00:00:00",
          "2013-10-01T00:00:00",
          "2013-11-01T00:00:00",
          "2013-12-01T00:00:00",
          "2014-01-01T00:00:00",
          "2014-02-01T00:00:00",
          "2014-03-01T00:00:00",
          "2014-04-01T00:00:00",
          "2014-05-01T00:00:00",
          "2014-06-01T00:00:00",
          "2014-07-01T00:00:00",
          "2014-08-01T00:00:00",
          "2014-09-01T00:00:00",
          "2014-10-01T00:00:00",
          "2014-11-01T00:00:00",
          "2014-12-01T00:00:00",
          "2015-01-01T00:00:00",
          "2015-02-01T00:00:00",
          "2015-03-01T00:00:00",
          "2015-04-01T00:00:00",
          "2015-05-01T00:00:00",
          "2015-06-01T00:00:00",
          "2015-07-01T00:00:00",
          "2015-08-01T00:00:00",
          "2015-09-01T00:00:00",
          "2015-10-01T00:00:00",
          "2015-11-01T00:00:00",
          "2015-12-01T00:00:00",
          "2016-01-01T00:00:00",
          "2016-02-01T00:00:00",
          "2016-03-01T00:00:00",
          "2016-04-01T00:00:00",
          "2016-05-01T00:00:00",
          "2016-06-01T00:00:00",
          "2016-07-01T00:00:00",
          "2016-08-01T00:00:00",
          "2016-09-01T00:00:00",
          "2016-10-01T00:00:00",
          "2016-11-01T00:00:00",
          "2016-12-01T00:00:00",
          "2017-01-01T00:00:00",
          "2017-02-01T00:00:00",
          "2017-03-01T00:00:00",
          "2017-04-01T00:00:00",
          "2017-05-01T00:00:00",
          "2017-06-01T00:00:00",
          "2017-07-01T00:00:00",
          "2017-08-01T00:00:00",
          "2017-09-01T00:00:00",
          "2017-10-01T00:00:00",
          "2017-11-01T00:00:00",
          "2017-12-01T00:00:00",
          "2018-01-01T00:00:00",
          "2018-02-01T00:00:00",
          "2018-03-01T00:00:00",
          "2018-04-01T00:00:00",
          "2018-05-01T00:00:00",
          "2018-06-01T00:00:00",
          "2018-07-01T00:00:00",
          "2018-08-01T00:00:00",
          "2018-09-01T00:00:00",
          "2018-10-01T00:00:00",
          "2018-11-01T00:00:00",
          "2018-12-01T00:00:00"
         ],
         "y": [
          0.05825367480525914,
          0.06697818255979542,
          0.059507864661128146,
          0.07100710019126295,
          0.07562210366900307,
          0.07614378304452421,
          0.07192409152495434,
          0.08222639345078434,
          0.0912831059099862,
          0.09873882150945822,
          0.10758564608309266,
          0.1103866172712784,
          0.11992034217220661,
          0.10994849204614014,
          0.11900262247943467,
          0.12700103013182287,
          0.1328557229672309,
          0.12465512315311983,
          0.11963949154322971,
          0.1083835803885433,
          0.0893624955249255,
          0.08669982334921082,
          0.08601257448604069,
          0.09214842169692793,
          0.09323203115758052,
          0.09100700040379331,
          0.0869651778373371,
          0.0764072252783879,
          0.07280167764181772,
          0.08019112180152853,
          0.08681083938221737,
          0.08329558095855101,
          0.08328068637659211,
          0.08584176721255338,
          0.08263915322632867,
          0.0847501060706055,
          0.07896822273996497,
          0.07148153933971749,
          0.08149650125643516,
          0.0849707711468063,
          0.09486078739192996,
          0.09229830616792604,
          0.08542985664642994,
          0.08546782655897582,
          0.08010539988045137,
          0.0862945422250587,
          0.07342301199648654,
          0.07602851629059117,
          0.07746499759107518,
          0.07310077312647247,
          0.07863237968319736,
          0.07532060579892567,
          0.07153139249841363,
          0.07196739839516976,
          0.07915101410609669,
          0.08209166772315564,
          0.08643591339624108,
          0.09015939548481874,
          0.09252225556452943,
          0.09958440475649118,
          0.10202543996678347,
          0.10271156491902719,
          0.1023481091931269,
          0.10640891462620727,
          0.11064315568718923,
          0.10068083546302249,
          0.10164166539587462,
          0.1080705504941447,
          0.11535719297327779,
          0.11381724917470278,
          0.1167284530983417,
          0.1230564170910266,
          0.12988418932513177,
          0.1312844602465,
          0.12701590740755309,
          0.1308704302655914,
          0.1275529770856859,
          0.12253055588918096,
          0.12986478685930405,
          0.1347375817851354,
          0.13611975574436888,
          0.13131157863019444,
          0.13192033082417848,
          0.13440513314739197,
          0.13532536113373522,
          0.13125526235849772,
          0.1346291962607129,
          0.12799485378724848,
          0.13063351638713258,
          0.13408426171268997,
          0.13503099955112294,
          0.13443751583129562,
          0.13146371692829065,
          0.12938446556400562,
          0.13696948872314668,
          0.13923295315535,
          0.13946736374514462,
          0.14003618110334323,
          0.13783336011066974,
          0.1342917081738943,
          0.13458908147773083,
          0.1312118361320693,
          0.13336589616210165,
          0.12727371065714144,
          0.12690637127125184,
          0.13101465445007904,
          0.13391589986850536,
          0.13316693897871917,
          0.13923976000921964,
          0.14064950408030674,
          0.14370079150802592,
          0.14693055129818727,
          0.15108440337434664,
          0.15283065710883106,
          0.15957959583712564,
          0.15709482992823967,
          0.16330337653300628,
          0.16096741925319344,
          0.1713574343855683,
          0.17813862438219036,
          0.17832437213845678,
          0.1817506841374005,
          0.18087181463834634,
          0.18381336888770297,
          0.18455693755051686,
          0.18879625188066979,
          0.18946205826994023,
          0.18939930607607283,
          0.1873905527405962,
          0.18418027982253793,
          0.19041378931661207,
          0.1923589643941182,
          0.1882201577500083,
          0.19224718767812074,
          0.1977082806895146,
          0.19716073385471924,
          0.19141300697168942,
          0.19449301409583264,
          0.1982042648447804,
          0.1951728153358633,
          0.18883566690296832,
          0.18934293121900506,
          0.1887213843190819,
          0.19158346193754067,
          0.18972216326598632,
          0.1870506585056171,
          0.1896137371570286,
          0.1920815827819601,
          0.1946539857103111,
          0.19382323146979843,
          0.19403355368162825,
          0.18817570299711464,
          0.1821850441092387,
          0.1763579505263513,
          0.17867708631115808,
          0.1747987033477635,
          0.18183356577149123,
          0.18104042828497377,
          0.18501493471969618,
          0.1878917761986424,
          0.1909027104490532,
          0.19338416712024203,
          0.1976921526118519,
          0.20050869435618404,
          0.20574446851443967,
          0.20888637945731736,
          0.21309085451967522,
          0.21795932028700346,
          0.21986071309057464,
          0.22218703086978592,
          0.22321386652799002,
          0.22630214889811698,
          0.2267908779520863,
          0.22757882256687204,
          0.23032016575027578,
          0.2285880808189382,
          0.22269177990068995,
          0.2252422993155788,
          0.22744344319588866,
          0.22883961042159467,
          0.22087648857039413,
          0.2230833739156376,
          0.22065712822953917,
          0.21990230571829358,
          0.22351588824061838,
          0.22535861668241433,
          0.22272282484466788,
          0.22623976226187234,
          0.21865831425969567,
          0.21779073878072766,
          0.22398992949670385,
          0.2283572278801363,
          0.23492044131433182,
          0.23998914407692035,
          0.24349344063207917,
          0.24293786260145972,
          0.24579450378064183,
          0.2418973375066092,
          0.2439451943645496,
          0.24742526716977037,
          0.2444549807180439,
          0.2464712416539706,
          0.25102094800318014,
          0.24937403257480267,
          0.24416887652959668,
          0.24488319773709225,
          0.2429676575489746,
          0.23328996893026066,
          0.2209285695750906,
          0.2084359146476171,
          0.21464017806853888,
          0.21658568786309632,
          0.20876859767071437,
          0.20741840834640293,
          0.2192692477804997,
          0.21903736653671638,
          0.22452129725616582,
          0.22135936302958686,
          0.22371766663078663,
          0.22803881351097857,
          0.22943864759243882,
          0.22669163662515024,
          0.22492965270461493,
          0.2300011939706699,
          0.22759937462628047,
          0.23010509079856245,
          0.22880451992005052,
          0.22997959138103904,
          0.23110828246896514,
          0.23337114741452358,
          0.23541263959442837,
          0.23465300173960182,
          0.23540619533344972,
          0.23636748788831946,
          0.23819831920917517,
          0.23661046496566845,
          0.23945658561250313,
          0.2401676863621747,
          0.23974302158958868,
          0.23882237594247385,
          0.24416041397494398,
          0.24589988765016904,
          0.24518301094722666,
          0.2488272314937043,
          0.24750305231095043,
          0.23954295828276131,
          0.24171480320207892,
          0.24561939736658525,
          0.24822794077538043,
          0.25179914018239574,
          0.25334177621150117,
          0.2548049994249703,
          0.25706317325704736,
          0.2565724158877828,
          0.25361441343710855,
          0.2560531463822629,
          0.24856007409809822,
          0.24686145511822657,
          0.24423520688264072,
          0.23464560827128353,
          0.23184929919133776,
          0.23331539963493778,
          0.23612380164447003,
          0.2367847307396235,
          0.2466256231611736,
          0.24795377118225584,
          0.2525143644040071,
          0.25658662417364925,
          0.2525910950585822,
          0.25602991637327416,
          0.26072206105721346,
          0.25978233414760193,
          0.2628820670382369,
          0.25959230285144885,
          0.2594104731307602,
          0.2632979325372629,
          0.2598856690592636,
          0.255193073365713,
          0.2552250129213751,
          0.2648383704144749,
          0.2682559437358897,
          0.26869990665488197,
          0.26448246988120233,
          0.2661984480346776,
          0.27095093313923724,
          0.271287342483673,
          0.2767238545326939,
          0.2736420525321937,
          0.27228314604698056,
          0.2644382995240215,
          0.2657309854041834,
          0.2665885812171347,
          0.26599291778284556,
          0.25657681645864155,
          0.24842357721846545,
          0.25295971434229375,
          0.2510468412824251,
          0.25714151547219843,
          0.2532667037523273,
          0.24994384542168213,
          0.24212147089212857,
          0.24705746914560506,
          0.2455002252563377,
          0.2321829396351167,
          0.22394544154787052,
          0.21824101616241923,
          0.22408521553651753,
          0.22778509937098204,
          0.23316007208444875,
          0.2302581548427395,
          0.2337780459516165,
          0.23988117041498808,
          0.24578602430129845,
          0.24772053433769534,
          0.25153343239449194,
          0.25450007831459937,
          0.25019945678274397,
          0.2496189003134974,
          0.24426728985251508,
          0.24797199804087236,
          0.24682141245258166,
          0.24132291129805813,
          0.23992552977883352,
          0.24862281350468687,
          0.2519304191705866,
          0.25471657037295514,
          0.2545474311042848,
          0.2551243393770505,
          0.2554635263384914,
          0.2523945703936908,
          0.24990086044330667,
          0.2517404865436344,
          0.249115113953196,
          0.248879280693392,
          0.2538210252965759,
          0.2534114145963904,
          0.24925188983275254,
          0.24422994259953984,
          0.2429008102139048,
          0.23623210222975868,
          0.2327728380631922,
          0.22956607125130904,
          0.23567431035748393,
          0.23205834289498872,
          0.23774137849153873,
          0.23649105160416886,
          0.22084896921685898,
          0.220889583865965,
          0.2226407465265822,
          0.22280633458188154,
          0.22067726596546156,
          0.2162524489157831,
          0.21217116022282945,
          0.2096665677312691,
          0.20208081306285777,
          0.19330002065794255,
          0.18154460175513856,
          0.19295658596465634,
          0.18831361526510776,
          0.18468062801702562,
          0.19730937785337369,
          0.2018323448377961,
          0.20642582335978543,
          0.2106825263924553,
          0.21459867150806888,
          0.21860302391400488,
          0.21285894088368368,
          0.20982640604310496,
          0.20620587360127685,
          0.2101717654537155,
          0.21283128225834153,
          0.21150296750456857,
          0.22196294750557385,
          0.22319435413458158,
          0.2241858104347619,
          0.22289144388229767,
          0.22087068961866616,
          0.22382258776950828,
          0.22251865523317588,
          0.22143978597558317,
          0.2228293446688353,
          0.2204631297060962,
          0.2210421274829188,
          0.22568039769711196,
          0.2215566267689762,
          0.2198700053605173,
          0.21881564766525502,
          0.21880998530874282,
          0.21698971289208455,
          0.22064450323241475,
          0.2188533848349476,
          0.2178897216280377,
          0.21738898883445978,
          0.2138025969926839,
          0.2176033650030043,
          0.21771442350593848,
          0.21263749665206894,
          0.2118767904988438,
          0.21486508623579637,
          0.22117633302307313,
          0.2235176105609763,
          0.22219658724104105,
          0.22657187049153601,
          0.22979013156853428,
          0.22849170693585505,
          0.21594965970654773,
          0.21828572441575242,
          0.21896947036571254,
          0.22317668074068261,
          0.219902941735847,
          0.22480122377913114,
          0.22470534689558455,
          0.22320952663464474,
          0.22626060019229305,
          0.2274594103271713,
          0.23235976696396762,
          0.23137105887699505,
          0.22342519601988559,
          0.2277344462225977,
          0.2306272782649485,
          0.23462172434496117,
          0.2319090226200416,
          0.22158670701218516,
          0.22455247383412663,
          0.2296105587111101,
          0.23175905890061285,
          0.23815286384342743,
          0.23955349358085956,
          0.24114864408578285,
          0.2412393617071892,
          0.24578251264187626,
          0.24367867462217932,
          0.2421191462155155,
          0.24355179520191683,
          0.24841315468530512,
          0.24851750932350797,
          0.24959513660288898,
          0.24782871389306915,
          0.246117804211595,
          0.24057572109146716,
          0.2358610385138399,
          0.23982382124981477,
          0.24208601579911798,
          0.2398030316609509,
          0.23754081842877053,
          0.23335091492172438,
          0.23278468175188474,
          0.2359842507413162,
          0.23248333497273643,
          0.23102789361902237,
          0.22918254960716103,
          0.2373179393635817,
          0.23827254112022428,
          0.2469228557489376,
          0.2508848372119126,
          0.2512415916159158,
          0.2540084291088955,
          0.25609503846836446,
          0.2585483262833242,
          0.2630892967707295,
          0.2640481894361543,
          0.2663946556957858,
          0.263311378918621,
          0.262610281601885,
          0.26391356636586544,
          0.2610552442301392,
          0.26360009247216254,
          0.2621346121696338,
          0.26003438683306646,
          0.25548201847013885,
          0.25608013679228386,
          0.2555210224946641,
          0.2511168839396888,
          0.253206870139836,
          0.2507144524134036,
          0.25790712177267844,
          0.2570786322945992,
          0.2566180084808884,
          0.25540351895201113,
          0.25651128099101556,
          0.26240318544369123,
          0.26356337095832905,
          0.2630643406470258,
          0.26155213960784574,
          0.265504812924393,
          0.26648596382610734,
          0.26669694040900427,
          0.2659957855315162,
          0.2624756006549862,
          0.26464168465844184,
          0.2693453667111425,
          0.2721939724142553,
          0.2728318110380132,
          0.2779365441677288,
          0.2818865963336987,
          0.28088281352741223,
          0.28424370606890015,
          0.2849910851612903,
          0.279062447157794,
          0.2828072665592346,
          0.2761789637788939,
          0.2798525631586781,
          0.28083476069289964,
          0.27804815584174036,
          0.2862723611483524,
          0.2895672742823262,
          0.29103275009376284,
          0.2895653629331246,
          0.28990288060577163,
          0.29262555984766137,
          0.2964487363838094,
          0.29837453892783555,
          0.2966937728078761,
          0.2721640571548295,
          0.2664603504632036,
          0.2718348913173308,
          0.2735641669053689,
          0.27790830676968414,
          0.27692280065542774,
          0.2772643092113352,
          0.2766522472118921,
          0.2801327074952005,
          0.2792150139162847,
          0.27670499745821553,
          0.2792411310502931,
          0.2800029765444701,
          0.2782052066105852,
          0.2798041602358107,
          0.28394537974886697,
          0.2827611414801387,
          0.28405092558524997,
          0.28708558490730013,
          0.28945105775110147,
          0.2886677675776068,
          0.29347813258535127,
          0.29500273806056576,
          0.29428349624391786,
          0.29120428033697,
          0.2921700566160047,
          0.2928700026135206,
          0.2868418860310002,
          0.28768287087382355,
          0.2895393535935518,
          0.2871632994350245,
          0.2925289179011189,
          0.291723271974522,
          0.2905930282089438,
          0.28181904844820643,
          0.276620183362739,
          0.27436206195506113,
          0.27837022330742667,
          0.28087459068063114,
          0.2841455635732361,
          0.28898997737401866,
          0.2901401236470299,
          0.2897867816188949,
          0.2923751541198046,
          0.28898770385085054,
          0.2913781676935186,
          0.2926040764247674,
          0.2914650146224114,
          0.291667756313977,
          0.28813814271077826,
          0.29443294150708293,
          0.2948809823193051,
          0.29600269161435455,
          0.293960162098471,
          0.29455701685589036,
          0.2944302927697501,
          0.29196107661930665,
          0.29400761291860705,
          0.29186651900867144,
          0.2928859612698884,
          0.2930241181981293,
          0.29525545356889416,
          0.2959078275881691,
          0.29592023123563266,
          0.2955891219134853,
          0.2968363626178138,
          0.29388504061472476,
          0.29587489833351643,
          0.2949289582210014,
          0.29427551255267603,
          0.2962014942300716,
          0.2950896712968054,
          0.29681688312603416,
          0.29625939644812305,
          0.2975675493868317,
          0.2990962845520653,
          0.2973669296063719,
          0.2935284450419611,
          0.29349398334945415,
          0.2931068538787737,
          0.29102639680278386,
          0.2925945376466489,
          0.2951514758042684,
          0.29348466076474905,
          0.2936594622749911,
          0.29037562617392354,
          0.2911729957663686,
          0.29150905557918516,
          0.29350975715723415,
          0.29508354845846724,
          0.2958523733540372,
          0.2974835468689283,
          0.2988167836732837,
          0.300769188572405,
          0.300676324445314,
          0.30213165090981353,
          0.3002698961024009,
          0.3029419414108168,
          0.3037130916585589,
          0.3048508859565634,
          0.3055772655892988,
          0.3062635272595838,
          0.3073205226933949,
          0.3091137436582815,
          0.308408979728073,
          0.3042031966162604,
          0.3053556910838679,
          0.3077451424583551,
          0.30791424457097755,
          0.3110058777525883,
          0.31042024730682977,
          0.31276046584156103,
          0.31292372689503406,
          0.30947408149758576,
          0.31109708244978834,
          0.3147997371754911,
          0.3168895011670191,
          0.3202592440756645,
          0.31740377207727377,
          0.31997914343574213,
          0.31639996722506475,
          0.31774922872323524,
          0.3180896732347886,
          0.31739270401070657,
          0.3212921909758309,
          0.32403042505233726,
          0.32392964607681124,
          0.3220358005666465,
          0.3223899098983259,
          0.31947982954746024,
          0.3074729676530468,
          0.310134494446935,
          0.3143508543102507,
          0.31702707805922814,
          0.3188702325873223,
          0.318904271926764,
          0.31650940079904394,
          0.31724880420808405,
          0.3214690654784514,
          0.3198311190254934,
          0.3212121611296921,
          0.3184179065142706,
          0.31643438295883125,
          0.31345559512746163,
          0.3144039256810852,
          0.31424969076190945,
          0.31614215680544844,
          0.31283056595200137,
          0.3094653266050587,
          0.3134252334242453,
          0.3126989314592301,
          0.3116056443507104,
          0.3108968717310127,
          0.3103159033668218,
          0.3128940069122075,
          0.3109913638201606,
          0.3113594134317919,
          0.3080808895639663,
          0.31094762302940887,
          0.3114335539854544,
          0.30815597077804907,
          0.30445669768229533,
          0.30803218246456704,
          0.3087476958763317,
          0.3064601192923024,
          0.3053461519186432,
          0.3029587093172702,
          0.2952905191121905,
          0.2964109625451054,
          0.29965358055700425,
          0.30107607703380945,
          0.3009871297720863,
          0.30137819480205363,
          0.3038026735708353,
          0.3019837744131238,
          0.30151449353218734,
          0.29685594383857705,
          0.28992408114850904,
          0.28988456039126115,
          0.28288544664760995,
          0.28534074222895084,
          0.2881343228443811,
          0.28544260155570494,
          0.2826075115516828,
          0.2809458550994947,
          0.2803835535861056,
          0.2844208097551517,
          0.28816559321523383,
          0.28883516144756605,
          0.28944423528185026,
          0.2912334257726726,
          0.2899898364226512,
          0.29360708462893786,
          0.29475538931187806,
          0.29750267764179106,
          0.29720548638178157,
          0.29839103510507686,
          0.29777883757999735,
          0.29657588758923603,
          0.29640325241990145,
          0.29802780237611853,
          0.2954074852920002,
          0.29527745519415477,
          0.2961655314851671,
          0.2966166059522274,
          0.2997149507637132,
          0.30135665335594797,
          0.2998742385450825,
          0.3012049258486578,
          0.29972967536186995,
          0.29689336734605204,
          0.29875973327102684,
          0.29858426231144775,
          0.3010179358433948,
          0.30012465159970786,
          0.3003014838032929,
          0.29818674198426925,
          0.30008620385567514,
          0.30011856990575203,
          0.30195740922882747,
          0.30161621571510366,
          0.30267898484761896,
          0.3034382034277831,
          0.3016765450949645,
          0.3014567114381114,
          0.2999025051601804,
          0.3007460581941673,
          0.3011186375721591,
          0.3034010364523146,
          0.30469054660738204,
          0.30462473196783885,
          0.30580833971426186,
          0.30522921038088696,
          0.3056683678331476,
          0.30773239216265214,
          0.3099352472335559,
          0.30886121721602694,
          0.30674129790014015,
          0.3066476237844547,
          0.3084117833115243,
          0.3095262037986063,
          0.30669307419780983,
          0.3059457162738108,
          0.30210901987274946,
          0.30080245745893797,
          0.30025164869782534,
          0.3020807529847082,
          0.30351165984985984,
          0.29749652801254545,
          0.29594500747472363,
          0.29669666940571804,
          0.28907556407684454,
          0.27474493797742083,
          0.26885905109235453,
          0.26996076411898656,
          0.26410278241892476,
          0.256772673884537,
          0.26113705040395924,
          0.2679061994078237,
          0.27026142074767995,
          0.26937404990116764,
          0.2741400593714683,
          0.2754887416396173,
          0.2779292951403116,
          0.27593851789436186,
          0.2788615386439895,
          0.2805993653449923,
          0.2781303137120993,
          0.28023574969622617,
          0.2835002578067161,
          0.2846892889523565,
          0.279685408147789,
          0.2757321593593043,
          0.27957191327326125,
          0.2766952340493604,
          0.2813708371507418,
          0.283558991176945,
          0.2840069386841311,
          0.2870376098297648,
          0.2872518867546227,
          0.28884456965221517,
          0.28930674085414576,
          0.2906385415073736,
          0.28990928089805557,
          0.2887732352225498,
          0.28684142909708327,
          0.28328456257637796,
          0.2770964138926501,
          0.28279926091341134,
          0.28263247850123036,
          0.28228097187955203,
          0.28458993814176714,
          0.2860575503229778,
          0.2867650564525494,
          0.28620879055370235,
          0.28219186528838663,
          0.2833128881482349,
          0.28317493650332076,
          0.28419983808070415,
          0.28528320610202873,
          0.2848007806550624,
          0.28516866730963464,
          0.28572682808091376,
          0.2882859435187715,
          0.28850246203998736,
          0.2903153433410283,
          0.29061957334201755,
          0.29131448129142146,
          0.29002191475871236,
          0.2925463124109277,
          0.2908673826464153,
          0.29286574549617495,
          0.2950288069804591,
          0.2958755570018939,
          0.2971664071877988,
          0.29452790546143787,
          0.2966190659163828,
          0.2966638426276592,
          0.29669948702100163,
          0.29725572021664415,
          0.2982737501988408,
          0.2962086764341202,
          0.2981880463709771,
          0.29632759497278993,
          0.29711873759645807,
          0.29821166964306584,
          0.2973204093540894,
          0.29535332485467836,
          0.2982129164081446,
          0.29685217793956487,
          0.2968892831790357,
          0.2968047352259416,
          0.29529291433207777,
          0.29476890255238924,
          0.29148969415975545,
          0.28878511715017596,
          0.2917929003292899,
          0.29149576280346406,
          0.28977534748562817,
          0.28676973437989683,
          0.28751503491478064,
          0.29092278220735474,
          0.29157266179156305,
          0.29130665453850585,
          0.2915982584390446,
          0.2933994260915545,
          0.2929386945475206,
          0.2924930480666391,
          0.2907381940357433,
          0.29299975881096607,
          0.29338964916436194,
          0.29433073362087164,
          0.29539748696750123,
          0.2952781239489423,
          0.2953177716749295,
          0.2954563918859343,
          0.29555944241343607,
          0.29606579217926765,
          0.2954883316276734,
          0.29643252479061216,
          0.296944617003046,
          0.29859726606281556,
          0.29948103750527366,
          0.3011413553032329,
          0.2981630835275126,
          0.29704035854215777,
          0.295967865336088,
          0.2967415695992865,
          0.2969539714205925,
          0.29789316749129074,
          0.2980579289443372,
          0.2977904307355695,
          0.2933340081408178,
          0.2940335376878917,
          0.28813426779546847
         ]
        },
        {
         "name": "EW",
         "type": "scatter",
         "x": [
          "1945-01-01T00:00:00",
          "1945-02-01T00:00:00",
          "1945-03-01T00:00:00",
          "1945-04-01T00:00:00",
          "1945-05-01T00:00:00",
          "1945-06-01T00:00:00",
          "1945-07-01T00:00:00",
          "1945-08-01T00:00:00",
          "1945-09-01T00:00:00",
          "1945-10-01T00:00:00",
          "1945-11-01T00:00:00",
          "1945-12-01T00:00:00",
          "1946-01-01T00:00:00",
          "1946-02-01T00:00:00",
          "1946-03-01T00:00:00",
          "1946-04-01T00:00:00",
          "1946-05-01T00:00:00",
          "1946-06-01T00:00:00",
          "1946-07-01T00:00:00",
          "1946-08-01T00:00:00",
          "1946-09-01T00:00:00",
          "1946-10-01T00:00:00",
          "1946-11-01T00:00:00",
          "1946-12-01T00:00:00",
          "1947-01-01T00:00:00",
          "1947-02-01T00:00:00",
          "1947-03-01T00:00:00",
          "1947-04-01T00:00:00",
          "1947-05-01T00:00:00",
          "1947-06-01T00:00:00",
          "1947-07-01T00:00:00",
          "1947-08-01T00:00:00",
          "1947-09-01T00:00:00",
          "1947-10-01T00:00:00",
          "1947-11-01T00:00:00",
          "1947-12-01T00:00:00",
          "1948-01-01T00:00:00",
          "1948-02-01T00:00:00",
          "1948-03-01T00:00:00",
          "1948-04-01T00:00:00",
          "1948-05-01T00:00:00",
          "1948-06-01T00:00:00",
          "1948-07-01T00:00:00",
          "1948-08-01T00:00:00",
          "1948-09-01T00:00:00",
          "1948-10-01T00:00:00",
          "1948-11-01T00:00:00",
          "1948-12-01T00:00:00",
          "1949-01-01T00:00:00",
          "1949-02-01T00:00:00",
          "1949-03-01T00:00:00",
          "1949-04-01T00:00:00",
          "1949-05-01T00:00:00",
          "1949-06-01T00:00:00",
          "1949-07-01T00:00:00",
          "1949-08-01T00:00:00",
          "1949-09-01T00:00:00",
          "1949-10-01T00:00:00",
          "1949-11-01T00:00:00",
          "1949-12-01T00:00:00",
          "1950-01-01T00:00:00",
          "1950-02-01T00:00:00",
          "1950-03-01T00:00:00",
          "1950-04-01T00:00:00",
          "1950-05-01T00:00:00",
          "1950-06-01T00:00:00",
          "1950-07-01T00:00:00",
          "1950-08-01T00:00:00",
          "1950-09-01T00:00:00",
          "1950-10-01T00:00:00",
          "1950-11-01T00:00:00",
          "1950-12-01T00:00:00",
          "1951-01-01T00:00:00",
          "1951-02-01T00:00:00",
          "1951-03-01T00:00:00",
          "1951-04-01T00:00:00",
          "1951-05-01T00:00:00",
          "1951-06-01T00:00:00",
          "1951-07-01T00:00:00",
          "1951-08-01T00:00:00",
          "1951-09-01T00:00:00",
          "1951-10-01T00:00:00",
          "1951-11-01T00:00:00",
          "1951-12-01T00:00:00",
          "1952-01-01T00:00:00",
          "1952-02-01T00:00:00",
          "1952-03-01T00:00:00",
          "1952-04-01T00:00:00",
          "1952-05-01T00:00:00",
          "1952-06-01T00:00:00",
          "1952-07-01T00:00:00",
          "1952-08-01T00:00:00",
          "1952-09-01T00:00:00",
          "1952-10-01T00:00:00",
          "1952-11-01T00:00:00",
          "1952-12-01T00:00:00",
          "1953-01-01T00:00:00",
          "1953-02-01T00:00:00",
          "1953-03-01T00:00:00",
          "1953-04-01T00:00:00",
          "1953-05-01T00:00:00",
          "1953-06-01T00:00:00",
          "1953-07-01T00:00:00",
          "1953-08-01T00:00:00",
          "1953-09-01T00:00:00",
          "1953-10-01T00:00:00",
          "1953-11-01T00:00:00",
          "1953-12-01T00:00:00",
          "1954-01-01T00:00:00",
          "1954-02-01T00:00:00",
          "1954-03-01T00:00:00",
          "1954-04-01T00:00:00",
          "1954-05-01T00:00:00",
          "1954-06-01T00:00:00",
          "1954-07-01T00:00:00",
          "1954-08-01T00:00:00",
          "1954-09-01T00:00:00",
          "1954-10-01T00:00:00",
          "1954-11-01T00:00:00",
          "1954-12-01T00:00:00",
          "1955-01-01T00:00:00",
          "1955-02-01T00:00:00",
          "1955-03-01T00:00:00",
          "1955-04-01T00:00:00",
          "1955-05-01T00:00:00",
          "1955-06-01T00:00:00",
          "1955-07-01T00:00:00",
          "1955-08-01T00:00:00",
          "1955-09-01T00:00:00",
          "1955-10-01T00:00:00",
          "1955-11-01T00:00:00",
          "1955-12-01T00:00:00",
          "1956-01-01T00:00:00",
          "1956-02-01T00:00:00",
          "1956-03-01T00:00:00",
          "1956-04-01T00:00:00",
          "1956-05-01T00:00:00",
          "1956-06-01T00:00:00",
          "1956-07-01T00:00:00",
          "1956-08-01T00:00:00",
          "1956-09-01T00:00:00",
          "1956-10-01T00:00:00",
          "1956-11-01T00:00:00",
          "1956-12-01T00:00:00",
          "1957-01-01T00:00:00",
          "1957-02-01T00:00:00",
          "1957-03-01T00:00:00",
          "1957-04-01T00:00:00",
          "1957-05-01T00:00:00",
          "1957-06-01T00:00:00",
          "1957-07-01T00:00:00",
          "1957-08-01T00:00:00",
          "1957-09-01T00:00:00",
          "1957-10-01T00:00:00",
          "1957-11-01T00:00:00",
          "1957-12-01T00:00:00",
          "1958-01-01T00:00:00",
          "1958-02-01T00:00:00",
          "1958-03-01T00:00:00",
          "1958-04-01T00:00:00",
          "1958-05-01T00:00:00",
          "1958-06-01T00:00:00",
          "1958-07-01T00:00:00",
          "1958-08-01T00:00:00",
          "1958-09-01T00:00:00",
          "1958-10-01T00:00:00",
          "1958-11-01T00:00:00",
          "1958-12-01T00:00:00",
          "1959-01-01T00:00:00",
          "1959-02-01T00:00:00",
          "1959-03-01T00:00:00",
          "1959-04-01T00:00:00",
          "1959-05-01T00:00:00",
          "1959-06-01T00:00:00",
          "1959-07-01T00:00:00",
          "1959-08-01T00:00:00",
          "1959-09-01T00:00:00",
          "1959-10-01T00:00:00",
          "1959-11-01T00:00:00",
          "1959-12-01T00:00:00",
          "1960-01-01T00:00:00",
          "1960-02-01T00:00:00",
          "1960-03-01T00:00:00",
          "1960-04-01T00:00:00",
          "1960-05-01T00:00:00",
          "1960-06-01T00:00:00",
          "1960-07-01T00:00:00",
          "1960-08-01T00:00:00",
          "1960-09-01T00:00:00",
          "1960-10-01T00:00:00",
          "1960-11-01T00:00:00",
          "1960-12-01T00:00:00",
          "1961-01-01T00:00:00",
          "1961-02-01T00:00:00",
          "1961-03-01T00:00:00",
          "1961-04-01T00:00:00",
          "1961-05-01T00:00:00",
          "1961-06-01T00:00:00",
          "1961-07-01T00:00:00",
          "1961-08-01T00:00:00",
          "1961-09-01T00:00:00",
          "1961-10-01T00:00:00",
          "1961-11-01T00:00:00",
          "1961-12-01T00:00:00",
          "1962-01-01T00:00:00",
          "1962-02-01T00:00:00",
          "1962-03-01T00:00:00",
          "1962-04-01T00:00:00",
          "1962-05-01T00:00:00",
          "1962-06-01T00:00:00",
          "1962-07-01T00:00:00",
          "1962-08-01T00:00:00",
          "1962-09-01T00:00:00",
          "1962-10-01T00:00:00",
          "1962-11-01T00:00:00",
          "1962-12-01T00:00:00",
          "1963-01-01T00:00:00",
          "1963-02-01T00:00:00",
          "1963-03-01T00:00:00",
          "1963-04-01T00:00:00",
          "1963-05-01T00:00:00",
          "1963-06-01T00:00:00",
          "1963-07-01T00:00:00",
          "1963-08-01T00:00:00",
          "1963-09-01T00:00:00",
          "1963-10-01T00:00:00",
          "1963-11-01T00:00:00",
          "1963-12-01T00:00:00",
          "1964-01-01T00:00:00",
          "1964-02-01T00:00:00",
          "1964-03-01T00:00:00",
          "1964-04-01T00:00:00",
          "1964-05-01T00:00:00",
          "1964-06-01T00:00:00",
          "1964-07-01T00:00:00",
          "1964-08-01T00:00:00",
          "1964-09-01T00:00:00",
          "1964-10-01T00:00:00",
          "1964-11-01T00:00:00",
          "1964-12-01T00:00:00",
          "1965-01-01T00:00:00",
          "1965-02-01T00:00:00",
          "1965-03-01T00:00:00",
          "1965-04-01T00:00:00",
          "1965-05-01T00:00:00",
          "1965-06-01T00:00:00",
          "1965-07-01T00:00:00",
          "1965-08-01T00:00:00",
          "1965-09-01T00:00:00",
          "1965-10-01T00:00:00",
          "1965-11-01T00:00:00",
          "1965-12-01T00:00:00",
          "1966-01-01T00:00:00",
          "1966-02-01T00:00:00",
          "1966-03-01T00:00:00",
          "1966-04-01T00:00:00",
          "1966-05-01T00:00:00",
          "1966-06-01T00:00:00",
          "1966-07-01T00:00:00",
          "1966-08-01T00:00:00",
          "1966-09-01T00:00:00",
          "1966-10-01T00:00:00",
          "1966-11-01T00:00:00",
          "1966-12-01T00:00:00",
          "1967-01-01T00:00:00",
          "1967-02-01T00:00:00",
          "1967-03-01T00:00:00",
          "1967-04-01T00:00:00",
          "1967-05-01T00:00:00",
          "1967-06-01T00:00:00",
          "1967-07-01T00:00:00",
          "1967-08-01T00:00:00",
          "1967-09-01T00:00:00",
          "1967-10-01T00:00:00",
          "1967-11-01T00:00:00",
          "1967-12-01T00:00:00",
          "1968-01-01T00:00:00",
          "1968-02-01T00:00:00",
          "1968-03-01T00:00:00",
          "1968-04-01T00:00:00",
          "1968-05-01T00:00:00",
          "1968-06-01T00:00:00",
          "1968-07-01T00:00:00",
          "1968-08-01T00:00:00",
          "1968-09-01T00:00:00",
          "1968-10-01T00:00:00",
          "1968-11-01T00:00:00",
          "1968-12-01T00:00:00",
          "1969-01-01T00:00:00",
          "1969-02-01T00:00:00",
          "1969-03-01T00:00:00",
          "1969-04-01T00:00:00",
          "1969-05-01T00:00:00",
          "1969-06-01T00:00:00",
          "1969-07-01T00:00:00",
          "1969-08-01T00:00:00",
          "1969-09-01T00:00:00",
          "1969-10-01T00:00:00",
          "1969-11-01T00:00:00",
          "1969-12-01T00:00:00",
          "1970-01-01T00:00:00",
          "1970-02-01T00:00:00",
          "1970-03-01T00:00:00",
          "1970-04-01T00:00:00",
          "1970-05-01T00:00:00",
          "1970-06-01T00:00:00",
          "1970-07-01T00:00:00",
          "1970-08-01T00:00:00",
          "1970-09-01T00:00:00",
          "1970-10-01T00:00:00",
          "1970-11-01T00:00:00",
          "1970-12-01T00:00:00",
          "1971-01-01T00:00:00",
          "1971-02-01T00:00:00",
          "1971-03-01T00:00:00",
          "1971-04-01T00:00:00",
          "1971-05-01T00:00:00",
          "1971-06-01T00:00:00",
          "1971-07-01T00:00:00",
          "1971-08-01T00:00:00",
          "1971-09-01T00:00:00",
          "1971-10-01T00:00:00",
          "1971-11-01T00:00:00",
          "1971-12-01T00:00:00",
          "1972-01-01T00:00:00",
          "1972-02-01T00:00:00",
          "1972-03-01T00:00:00",
          "1972-04-01T00:00:00",
          "1972-05-01T00:00:00",
          "1972-06-01T00:00:00",
          "1972-07-01T00:00:00",
          "1972-08-01T00:00:00",
          "1972-09-01T00:00:00",
          "1972-10-01T00:00:00",
          "1972-11-01T00:00:00",
          "1972-12-01T00:00:00",
          "1973-01-01T00:00:00",
          "1973-02-01T00:00:00",
          "1973-03-01T00:00:00",
          "1973-04-01T00:00:00",
          "1973-05-01T00:00:00",
          "1973-06-01T00:00:00",
          "1973-07-01T00:00:00",
          "1973-08-01T00:00:00",
          "1973-09-01T00:00:00",
          "1973-10-01T00:00:00",
          "1973-11-01T00:00:00",
          "1973-12-01T00:00:00",
          "1974-01-01T00:00:00",
          "1974-02-01T00:00:00",
          "1974-03-01T00:00:00",
          "1974-04-01T00:00:00",
          "1974-05-01T00:00:00",
          "1974-06-01T00:00:00",
          "1974-07-01T00:00:00",
          "1974-08-01T00:00:00",
          "1974-09-01T00:00:00",
          "1974-10-01T00:00:00",
          "1974-11-01T00:00:00",
          "1974-12-01T00:00:00",
          "1975-01-01T00:00:00",
          "1975-02-01T00:00:00",
          "1975-03-01T00:00:00",
          "1975-04-01T00:00:00",
          "1975-05-01T00:00:00",
          "1975-06-01T00:00:00",
          "1975-07-01T00:00:00",
          "1975-08-01T00:00:00",
          "1975-09-01T00:00:00",
          "1975-10-01T00:00:00",
          "1975-11-01T00:00:00",
          "1975-12-01T00:00:00",
          "1976-01-01T00:00:00",
          "1976-02-01T00:00:00",
          "1976-03-01T00:00:00",
          "1976-04-01T00:00:00",
          "1976-05-01T00:00:00",
          "1976-06-01T00:00:00",
          "1976-07-01T00:00:00",
          "1976-08-01T00:00:00",
          "1976-09-01T00:00:00",
          "1976-10-01T00:00:00",
          "1976-11-01T00:00:00",
          "1976-12-01T00:00:00",
          "1977-01-01T00:00:00",
          "1977-02-01T00:00:00",
          "1977-03-01T00:00:00",
          "1977-04-01T00:00:00",
          "1977-05-01T00:00:00",
          "1977-06-01T00:00:00",
          "1977-07-01T00:00:00",
          "1977-08-01T00:00:00",
          "1977-09-01T00:00:00",
          "1977-10-01T00:00:00",
          "1977-11-01T00:00:00",
          "1977-12-01T00:00:00",
          "1978-01-01T00:00:00",
          "1978-02-01T00:00:00",
          "1978-03-01T00:00:00",
          "1978-04-01T00:00:00",
          "1978-05-01T00:00:00",
          "1978-06-01T00:00:00",
          "1978-07-01T00:00:00",
          "1978-08-01T00:00:00",
          "1978-09-01T00:00:00",
          "1978-10-01T00:00:00",
          "1978-11-01T00:00:00",
          "1978-12-01T00:00:00",
          "1979-01-01T00:00:00",
          "1979-02-01T00:00:00",
          "1979-03-01T00:00:00",
          "1979-04-01T00:00:00",
          "1979-05-01T00:00:00",
          "1979-06-01T00:00:00",
          "1979-07-01T00:00:00",
          "1979-08-01T00:00:00",
          "1979-09-01T00:00:00",
          "1979-10-01T00:00:00",
          "1979-11-01T00:00:00",
          "1979-12-01T00:00:00",
          "1980-01-01T00:00:00",
          "1980-02-01T00:00:00",
          "1980-03-01T00:00:00",
          "1980-04-01T00:00:00",
          "1980-05-01T00:00:00",
          "1980-06-01T00:00:00",
          "1980-07-01T00:00:00",
          "1980-08-01T00:00:00",
          "1980-09-01T00:00:00",
          "1980-10-01T00:00:00",
          "1980-11-01T00:00:00",
          "1980-12-01T00:00:00",
          "1981-01-01T00:00:00",
          "1981-02-01T00:00:00",
          "1981-03-01T00:00:00",
          "1981-04-01T00:00:00",
          "1981-05-01T00:00:00",
          "1981-06-01T00:00:00",
          "1981-07-01T00:00:00",
          "1981-08-01T00:00:00",
          "1981-09-01T00:00:00",
          "1981-10-01T00:00:00",
          "1981-11-01T00:00:00",
          "1981-12-01T00:00:00",
          "1982-01-01T00:00:00",
          "1982-02-01T00:00:00",
          "1982-03-01T00:00:00",
          "1982-04-01T00:00:00",
          "1982-05-01T00:00:00",
          "1982-06-01T00:00:00",
          "1982-07-01T00:00:00",
          "1982-08-01T00:00:00",
          "1982-09-01T00:00:00",
          "1982-10-01T00:00:00",
          "1982-11-01T00:00:00",
          "1982-12-01T00:00:00",
          "1983-01-01T00:00:00",
          "1983-02-01T00:00:00",
          "1983-03-01T00:00:00",
          "1983-04-01T00:00:00",
          "1983-05-01T00:00:00",
          "1983-06-01T00:00:00",
          "1983-07-01T00:00:00",
          "1983-08-01T00:00:00",
          "1983-09-01T00:00:00",
          "1983-10-01T00:00:00",
          "1983-11-01T00:00:00",
          "1983-12-01T00:00:00",
          "1984-01-01T00:00:00",
          "1984-02-01T00:00:00",
          "1984-03-01T00:00:00",
          "1984-04-01T00:00:00",
          "1984-05-01T00:00:00",
          "1984-06-01T00:00:00",
          "1984-07-01T00:00:00",
          "1984-08-01T00:00:00",
          "1984-09-01T00:00:00",
          "1984-10-01T00:00:00",
          "1984-11-01T00:00:00",
          "1984-12-01T00:00:00",
          "1985-01-01T00:00:00",
          "1985-02-01T00:00:00",
          "1985-03-01T00:00:00",
          "1985-04-01T00:00:00",
          "1985-05-01T00:00:00",
          "1985-06-01T00:00:00",
          "1985-07-01T00:00:00",
          "1985-08-01T00:00:00",
          "1985-09-01T00:00:00",
          "1985-10-01T00:00:00",
          "1985-11-01T00:00:00",
          "1985-12-01T00:00:00",
          "1986-01-01T00:00:00",
          "1986-02-01T00:00:00",
          "1986-03-01T00:00:00",
          "1986-04-01T00:00:00",
          "1986-05-01T00:00:00",
          "1986-06-01T00:00:00",
          "1986-07-01T00:00:00",
          "1986-08-01T00:00:00",
          "1986-09-01T00:00:00",
          "1986-10-01T00:00:00",
          "1986-11-01T00:00:00",
          "1986-12-01T00:00:00",
          "1987-01-01T00:00:00",
          "1987-02-01T00:00:00",
          "1987-03-01T00:00:00",
          "1987-04-01T00:00:00",
          "1987-05-01T00:00:00",
          "1987-06-01T00:00:00",
          "1987-07-01T00:00:00",
          "1987-08-01T00:00:00",
          "1987-09-01T00:00:00",
          "1987-10-01T00:00:00",
          "1987-11-01T00:00:00",
          "1987-12-01T00:00:00",
          "1988-01-01T00:00:00",
          "1988-02-01T00:00:00",
          "1988-03-01T00:00:00",
          "1988-04-01T00:00:00",
          "1988-05-01T00:00:00",
          "1988-06-01T00:00:00",
          "1988-07-01T00:00:00",
          "1988-08-01T00:00:00",
          "1988-09-01T00:00:00",
          "1988-10-01T00:00:00",
          "1988-11-01T00:00:00",
          "1988-12-01T00:00:00",
          "1989-01-01T00:00:00",
          "1989-02-01T00:00:00",
          "1989-03-01T00:00:00",
          "1989-04-01T00:00:00",
          "1989-05-01T00:00:00",
          "1989-06-01T00:00:00",
          "1989-07-01T00:00:00",
          "1989-08-01T00:00:00",
          "1989-09-01T00:00:00",
          "1989-10-01T00:00:00",
          "1989-11-01T00:00:00",
          "1989-12-01T00:00:00",
          "1990-01-01T00:00:00",
          "1990-02-01T00:00:00",
          "1990-03-01T00:00:00",
          "1990-04-01T00:00:00",
          "1990-05-01T00:00:00",
          "1990-06-01T00:00:00",
          "1990-07-01T00:00:00",
          "1990-08-01T00:00:00",
          "1990-09-01T00:00:00",
          "1990-10-01T00:00:00",
          "1990-11-01T00:00:00",
          "1990-12-01T00:00:00",
          "1991-01-01T00:00:00",
          "1991-02-01T00:00:00",
          "1991-03-01T00:00:00",
          "1991-04-01T00:00:00",
          "1991-05-01T00:00:00",
          "1991-06-01T00:00:00",
          "1991-07-01T00:00:00",
          "1991-08-01T00:00:00",
          "1991-09-01T00:00:00",
          "1991-10-01T00:00:00",
          "1991-11-01T00:00:00",
          "1991-12-01T00:00:00",
          "1992-01-01T00:00:00",
          "1992-02-01T00:00:00",
          "1992-03-01T00:00:00",
          "1992-04-01T00:00:00",
          "1992-05-01T00:00:00",
          "1992-06-01T00:00:00",
          "1992-07-01T00:00:00",
          "1992-08-01T00:00:00",
          "1992-09-01T00:00:00",
          "1992-10-01T00:00:00",
          "1992-11-01T00:00:00",
          "1992-12-01T00:00:00",
          "1993-01-01T00:00:00",
          "1993-02-01T00:00:00",
          "1993-03-01T00:00:00",
          "1993-04-01T00:00:00",
          "1993-05-01T00:00:00",
          "1993-06-01T00:00:00",
          "1993-07-01T00:00:00",
          "1993-08-01T00:00:00",
          "1993-09-01T00:00:00",
          "1993-10-01T00:00:00",
          "1993-11-01T00:00:00",
          "1993-12-01T00:00:00",
          "1994-01-01T00:00:00",
          "1994-02-01T00:00:00",
          "1994-03-01T00:00:00",
          "1994-04-01T00:00:00",
          "1994-05-01T00:00:00",
          "1994-06-01T00:00:00",
          "1994-07-01T00:00:00",
          "1994-08-01T00:00:00",
          "1994-09-01T00:00:00",
          "1994-10-01T00:00:00",
          "1994-11-01T00:00:00",
          "1994-12-01T00:00:00",
          "1995-01-01T00:00:00",
          "1995-02-01T00:00:00",
          "1995-03-01T00:00:00",
          "1995-04-01T00:00:00",
          "1995-05-01T00:00:00",
          "1995-06-01T00:00:00",
          "1995-07-01T00:00:00",
          "1995-08-01T00:00:00",
          "1995-09-01T00:00:00",
          "1995-10-01T00:00:00",
          "1995-11-01T00:00:00",
          "1995-12-01T00:00:00",
          "1996-01-01T00:00:00",
          "1996-02-01T00:00:00",
          "1996-03-01T00:00:00",
          "1996-04-01T00:00:00",
          "1996-05-01T00:00:00",
          "1996-06-01T00:00:00",
          "1996-07-01T00:00:00",
          "1996-08-01T00:00:00",
          "1996-09-01T00:00:00",
          "1996-10-01T00:00:00",
          "1996-11-01T00:00:00",
          "1996-12-01T00:00:00",
          "1997-01-01T00:00:00",
          "1997-02-01T00:00:00",
          "1997-03-01T00:00:00",
          "1997-04-01T00:00:00",
          "1997-05-01T00:00:00",
          "1997-06-01T00:00:00",
          "1997-07-01T00:00:00",
          "1997-08-01T00:00:00",
          "1997-09-01T00:00:00",
          "1997-10-01T00:00:00",
          "1997-11-01T00:00:00",
          "1997-12-01T00:00:00",
          "1998-01-01T00:00:00",
          "1998-02-01T00:00:00",
          "1998-03-01T00:00:00",
          "1998-04-01T00:00:00",
          "1998-05-01T00:00:00",
          "1998-06-01T00:00:00",
          "1998-07-01T00:00:00",
          "1998-08-01T00:00:00",
          "1998-09-01T00:00:00",
          "1998-10-01T00:00:00",
          "1998-11-01T00:00:00",
          "1998-12-01T00:00:00",
          "1999-01-01T00:00:00",
          "1999-02-01T00:00:00",
          "1999-03-01T00:00:00",
          "1999-04-01T00:00:00",
          "1999-05-01T00:00:00",
          "1999-06-01T00:00:00",
          "1999-07-01T00:00:00",
          "1999-08-01T00:00:00",
          "1999-09-01T00:00:00",
          "1999-10-01T00:00:00",
          "1999-11-01T00:00:00",
          "1999-12-01T00:00:00",
          "2000-01-01T00:00:00",
          "2000-02-01T00:00:00",
          "2000-03-01T00:00:00",
          "2000-04-01T00:00:00",
          "2000-05-01T00:00:00",
          "2000-06-01T00:00:00",
          "2000-07-01T00:00:00",
          "2000-08-01T00:00:00",
          "2000-09-01T00:00:00",
          "2000-10-01T00:00:00",
          "2000-11-01T00:00:00",
          "2000-12-01T00:00:00",
          "2001-01-01T00:00:00",
          "2001-02-01T00:00:00",
          "2001-03-01T00:00:00",
          "2001-04-01T00:00:00",
          "2001-05-01T00:00:00",
          "2001-06-01T00:00:00",
          "2001-07-01T00:00:00",
          "2001-08-01T00:00:00",
          "2001-09-01T00:00:00",
          "2001-10-01T00:00:00",
          "2001-11-01T00:00:00",
          "2001-12-01T00:00:00",
          "2002-01-01T00:00:00",
          "2002-02-01T00:00:00",
          "2002-03-01T00:00:00",
          "2002-04-01T00:00:00",
          "2002-05-01T00:00:00",
          "2002-06-01T00:00:00",
          "2002-07-01T00:00:00",
          "2002-08-01T00:00:00",
          "2002-09-01T00:00:00",
          "2002-10-01T00:00:00",
          "2002-11-01T00:00:00",
          "2002-12-01T00:00:00",
          "2003-01-01T00:00:00",
          "2003-02-01T00:00:00",
          "2003-03-01T00:00:00",
          "2003-04-01T00:00:00",
          "2003-05-01T00:00:00",
          "2003-06-01T00:00:00",
          "2003-07-01T00:00:00",
          "2003-08-01T00:00:00",
          "2003-09-01T00:00:00",
          "2003-10-01T00:00:00",
          "2003-11-01T00:00:00",
          "2003-12-01T00:00:00",
          "2004-01-01T00:00:00",
          "2004-02-01T00:00:00",
          "2004-03-01T00:00:00",
          "2004-04-01T00:00:00",
          "2004-05-01T00:00:00",
          "2004-06-01T00:00:00",
          "2004-07-01T00:00:00",
          "2004-08-01T00:00:00",
          "2004-09-01T00:00:00",
          "2004-10-01T00:00:00",
          "2004-11-01T00:00:00",
          "2004-12-01T00:00:00",
          "2005-01-01T00:00:00",
          "2005-02-01T00:00:00",
          "2005-03-01T00:00:00",
          "2005-04-01T00:00:00",
          "2005-05-01T00:00:00",
          "2005-06-01T00:00:00",
          "2005-07-01T00:00:00",
          "2005-08-01T00:00:00",
          "2005-09-01T00:00:00",
          "2005-10-01T00:00:00",
          "2005-11-01T00:00:00",
          "2005-12-01T00:00:00",
          "2006-01-01T00:00:00",
          "2006-02-01T00:00:00",
          "2006-03-01T00:00:00",
          "2006-04-01T00:00:00",
          "2006-05-01T00:00:00",
          "2006-06-01T00:00:00",
          "2006-07-01T00:00:00",
          "2006-08-01T00:00:00",
          "2006-09-01T00:00:00",
          "2006-10-01T00:00:00",
          "2006-11-01T00:00:00",
          "2006-12-01T00:00:00",
          "2007-01-01T00:00:00",
          "2007-02-01T00:00:00",
          "2007-03-01T00:00:00",
          "2007-04-01T00:00:00",
          "2007-05-01T00:00:00",
          "2007-06-01T00:00:00",
          "2007-07-01T00:00:00",
          "2007-08-01T00:00:00",
          "2007-09-01T00:00:00",
          "2007-10-01T00:00:00",
          "2007-11-01T00:00:00",
          "2007-12-01T00:00:00",
          "2008-01-01T00:00:00",
          "2008-02-01T00:00:00",
          "2008-03-01T00:00:00",
          "2008-04-01T00:00:00",
          "2008-05-01T00:00:00",
          "2008-06-01T00:00:00",
          "2008-07-01T00:00:00",
          "2008-08-01T00:00:00",
          "2008-09-01T00:00:00",
          "2008-10-01T00:00:00",
          "2008-11-01T00:00:00",
          "2008-12-01T00:00:00",
          "2009-01-01T00:00:00",
          "2009-02-01T00:00:00",
          "2009-03-01T00:00:00",
          "2009-04-01T00:00:00",
          "2009-05-01T00:00:00",
          "2009-06-01T00:00:00",
          "2009-07-01T00:00:00",
          "2009-08-01T00:00:00",
          "2009-09-01T00:00:00",
          "2009-10-01T00:00:00",
          "2009-11-01T00:00:00",
          "2009-12-01T00:00:00",
          "2010-01-01T00:00:00",
          "2010-02-01T00:00:00",
          "2010-03-01T00:00:00",
          "2010-04-01T00:00:00",
          "2010-05-01T00:00:00",
          "2010-06-01T00:00:00",
          "2010-07-01T00:00:00",
          "2010-08-01T00:00:00",
          "2010-09-01T00:00:00",
          "2010-10-01T00:00:00",
          "2010-11-01T00:00:00",
          "2010-12-01T00:00:00",
          "2011-01-01T00:00:00",
          "2011-02-01T00:00:00",
          "2011-03-01T00:00:00",
          "2011-04-01T00:00:00",
          "2011-05-01T00:00:00",
          "2011-06-01T00:00:00",
          "2011-07-01T00:00:00",
          "2011-08-01T00:00:00",
          "2011-09-01T00:00:00",
          "2011-10-01T00:00:00",
          "2011-11-01T00:00:00",
          "2011-12-01T00:00:00",
          "2012-01-01T00:00:00",
          "2012-02-01T00:00:00",
          "2012-03-01T00:00:00",
          "2012-04-01T00:00:00",
          "2012-05-01T00:00:00",
          "2012-06-01T00:00:00",
          "2012-07-01T00:00:00",
          "2012-08-01T00:00:00",
          "2012-09-01T00:00:00",
          "2012-10-01T00:00:00",
          "2012-11-01T00:00:00",
          "2012-12-01T00:00:00",
          "2013-01-01T00:00:00",
          "2013-02-01T00:00:00",
          "2013-03-01T00:00:00",
          "2013-04-01T00:00:00",
          "2013-05-01T00:00:00",
          "2013-06-01T00:00:00",
          "2013-07-01T00:00:00",
          "2013-08-01T00:00:00",
          "2013-09-01T00:00:00",
          "2013-10-01T00:00:00",
          "2013-11-01T00:00:00",
          "2013-12-01T00:00:00",
          "2014-01-01T00:00:00",
          "2014-02-01T00:00:00",
          "2014-03-01T00:00:00",
          "2014-04-01T00:00:00",
          "2014-05-01T00:00:00",
          "2014-06-01T00:00:00",
          "2014-07-01T00:00:00",
          "2014-08-01T00:00:00",
          "2014-09-01T00:00:00",
          "2014-10-01T00:00:00",
          "2014-11-01T00:00:00",
          "2014-12-01T00:00:00",
          "2015-01-01T00:00:00",
          "2015-02-01T00:00:00",
          "2015-03-01T00:00:00",
          "2015-04-01T00:00:00",
          "2015-05-01T00:00:00",
          "2015-06-01T00:00:00",
          "2015-07-01T00:00:00",
          "2015-08-01T00:00:00",
          "2015-09-01T00:00:00",
          "2015-10-01T00:00:00",
          "2015-11-01T00:00:00",
          "2015-12-01T00:00:00",
          "2016-01-01T00:00:00",
          "2016-02-01T00:00:00",
          "2016-03-01T00:00:00",
          "2016-04-01T00:00:00",
          "2016-05-01T00:00:00",
          "2016-06-01T00:00:00",
          "2016-07-01T00:00:00",
          "2016-08-01T00:00:00",
          "2016-09-01T00:00:00",
          "2016-10-01T00:00:00",
          "2016-11-01T00:00:00",
          "2016-12-01T00:00:00",
          "2017-01-01T00:00:00",
          "2017-02-01T00:00:00",
          "2017-03-01T00:00:00",
          "2017-04-01T00:00:00",
          "2017-05-01T00:00:00",
          "2017-06-01T00:00:00",
          "2017-07-01T00:00:00",
          "2017-08-01T00:00:00",
          "2017-09-01T00:00:00",
          "2017-10-01T00:00:00",
          "2017-11-01T00:00:00",
          "2017-12-01T00:00:00",
          "2018-01-01T00:00:00",
          "2018-02-01T00:00:00",
          "2018-03-01T00:00:00",
          "2018-04-01T00:00:00",
          "2018-05-01T00:00:00",
          "2018-06-01T00:00:00",
          "2018-07-01T00:00:00",
          "2018-08-01T00:00:00",
          "2018-09-01T00:00:00",
          "2018-10-01T00:00:00",
          "2018-11-01T00:00:00",
          "2018-12-01T00:00:00"
         ],
         "y": [
          0.17543651398844318,
          0.18439994172736174,
          0.17550966750646546,
          0.18548952231513335,
          0.18904241567356247,
          0.19220477651174722,
          0.18704166713760334,
          0.19481519178360884,
          0.2027166351881649,
          0.2110774783913546,
          0.22274905020706173,
          0.22551748313915917,
          0.23542625777760318,
          0.22602773608393736,
          0.2321380872482261,
          0.24007967046551365,
          0.24598090907325218,
          0.23780257423112605,
          0.23190816451900798,
          0.220627286069326,
          0.20073122578767702,
          0.1976137528151428,
          0.19606703554070107,
          0.2009034361370953,
          0.20313132205342527,
          0.2011572179193371,
          0.19609434994222258,
          0.18400218748997677,
          0.17833317974338486,
          0.18451056858867823,
          0.19111401250449955,
          0.187971766163368,
          0.1876830908195662,
          0.19071953334733796,
          0.1858766504378212,
          0.18667697256376756,
          0.18330300192340906,
          0.17518927037607884,
          0.18477623560163095,
          0.18802626965892527,
          0.19763363523337502,
          0.19470508291901575,
          0.1870760221286434,
          0.18600200393858035,
          0.17978736416521263,
          0.18506698306618208,
          0.17117210290043022,
          0.17137289975913023,
          0.1736442698586598,
          0.16800645616065588,
          0.1742696794173438,
          0.1704192866750489,
          0.1646067354835457,
          0.1636981304343782,
          0.17009194883289683,
          0.1728063283574372,
          0.17783719891367822,
          0.18162901001053772,
          0.18169860194283668,
          0.1888442908860097,
          0.19246681673810842,
          0.19349950244779857,
          0.19231738342135205,
          0.1972935056904574,
          0.20004246156994637,
          0.1897778513361144,
          0.1924968554240391,
          0.19828169127310638,
          0.20438521785192557,
          0.20272275259134515,
          0.20471244926183324,
          0.21174383385274698,
          0.21905558000623115,
          0.22036751723968248,
          0.2155238025240841,
          0.21877811163382832,
          0.21501010116851452,
          0.20948185983629228,
          0.21512827728601575,
          0.21962981589169964,
          0.22110208316657812,
          0.21732110120311046,
          0.2174264584214161,
          0.218075888022249,
          0.2195251404338633,
          0.21642471016915213,
          0.21815197380991178,
          0.21219235501167763,
          0.21360872756457372,
          0.21591746834317388,
          0.21612846840587696,
          0.21573945348301496,
          0.2135118082065715,
          0.21151387975791044,
          0.2165635303098635,
          0.2181944060818726,
          0.22065677782296086,
          0.22185674016903523,
          0.22000284401767392,
          0.2169890203342594,
          0.21697429546324187,
          0.2130595833441992,
          0.21433757314889823,
          0.20831858652902843,
          0.206578639693746,
          0.20920856026233706,
          0.2109510926855697,
          0.208961387755168,
          0.21560113280172544,
          0.21636803053365145,
          0.21845395285221428,
          0.21928111649217827,
          0.2229379345824452,
          0.22373329707581055,
          0.23065383696682057,
          0.22958594038852406,
          0.2338948980683813,
          0.23227060954243375,
          0.24046339940694908,
          0.24885387576186432,
          0.24974593767211106,
          0.25331304359883833,
          0.25281679755631925,
          0.2545065579086677,
          0.25434095244356897,
          0.25703073441255486,
          0.2575361054037375,
          0.25705680869373887,
          0.25532425125943037,
          0.25265198324264304,
          0.25660281762283066,
          0.25883355949539566,
          0.2566061771745863,
          0.2591983636907432,
          0.26317231436395133,
          0.26263173144807167,
          0.25801395339341926,
          0.25947000467189735,
          0.2617351550866995,
          0.25958972247225265,
          0.25519511575444337,
          0.25497890100170717,
          0.254569445608924,
          0.25608916783200647,
          0.25664037601610107,
          0.25372943139221876,
          0.2556432485998591,
          0.2573596477225258,
          0.258772290202305,
          0.25769810650562425,
          0.2576075708726051,
          0.2522746399867672,
          0.24689056538271578,
          0.23942312390181078,
          0.2408273475096577,
          0.23583130004421132,
          0.24472103583126498,
          0.24358693296816064,
          0.2472800305610542,
          0.24992431336623097,
          0.25310414401252984,
          0.2558793146173766,
          0.25989969522230566,
          0.26282929747956446,
          0.26765547976312043,
          0.27010319276476247,
          0.2744117643965891,
          0.277310805980943,
          0.2811936036889794,
          0.2835939930713727,
          0.28484042964551837,
          0.2873299020167206,
          0.2868821428962648,
          0.2870308692932195,
          0.28963319503309376,
          0.2878377582932424,
          0.28240918398704107,
          0.2844200745313899,
          0.2854740523632274,
          0.28707858339208664,
          0.28222342213927953,
          0.28257746647966203,
          0.279666525911558,
          0.27765566061181013,
          0.2794580137917071,
          0.28078882439491976,
          0.27839115649877816,
          0.2824651879771754,
          0.27561518858667866,
          0.2729185186998289,
          0.27717039683706907,
          0.28018344081414226,
          0.2866986297915944,
          0.29196078275536597,
          0.2959875624665143,
          0.29657116809570744,
          0.2995732027270994,
          0.2947004588765007,
          0.2950688932938586,
          0.2970354645055127,
          0.2932314195371977,
          0.29496217850907874,
          0.29915348509634454,
          0.2977585727406839,
          0.2959101390288243,
          0.29666682806102096,
          0.29511711405752256,
          0.28675505755761677,
          0.2754719078703493,
          0.2657420362499948,
          0.27094771001988277,
          0.273180209743579,
          0.266071610002497,
          0.2627376134487087,
          0.27339172957638114,
          0.27186087551840216,
          0.278292868481752,
          0.2759686934054964,
          0.2771025192161677,
          0.2800751730695902,
          0.2821198897206324,
          0.27999178624133003,
          0.27863446067038866,
          0.28195900667468926,
          0.2802619333509581,
          0.2812957875898917,
          0.27920893393101637,
          0.2781899512120674,
          0.2806204015034304,
          0.28250266265405005,
          0.2841873610347134,
          0.2838702598091286,
          0.28409118550459583,
          0.2843659722167568,
          0.2865370335028139,
          0.28548012165100883,
          0.28827930030759785,
          0.2895067999474167,
          0.2887785219793613,
          0.2873568016640213,
          0.29324613887915685,
          0.29563517752731355,
          0.296337929542325,
          0.2992174886335151,
          0.2982047324701218,
          0.2895900607052374,
          0.29154559618269277,
          0.2945268597845949,
          0.29611513771136105,
          0.300328446639853,
          0.3034426891744069,
          0.3067359919038416,
          0.3114341941364923,
          0.3131001547699611,
          0.3117945971409933,
          0.31502836298034137,
          0.30615111486830116,
          0.3049779247861048,
          0.3029010405685781,
          0.29233522797511874,
          0.2899773312090886,
          0.28831259771629275,
          0.2912089711570084,
          0.2921786002462666,
          0.30448362011369823,
          0.3078062965071595,
          0.3124998187614662,
          0.31576599910410447,
          0.3144298396507476,
          0.3205836267851926,
          0.32645033559710046,
          0.3264976449796639,
          0.33091618608304285,
          0.328683668909961,
          0.32817523880616306,
          0.3339463549686936,
          0.3351111956235551,
          0.32937684427391395,
          0.3280242856615526,
          0.33791796597123686,
          0.3448434549040643,
          0.3455348398527171,
          0.3421938248285501,
          0.3444944026529313,
          0.34968226850222645,
          0.3497515288068212,
          0.35487193790075294,
          0.35523691027408705,
          0.3541654930557333,
          0.3452161994965664,
          0.3458800412966152,
          0.3454403923800852,
          0.3454042919899959,
          0.33387422514427495,
          0.3243241496870456,
          0.3279369254716185,
          0.3254925847693902,
          0.3322162923779934,
          0.3270686918641911,
          0.3207351181295318,
          0.3166783654665182,
          0.3195349992748983,
          0.31694550102818647,
          0.3006736427686613,
          0.2922690589307833,
          0.28569778508220395,
          0.2898309329552438,
          0.29371961188514034,
          0.3021867517541266,
          0.2972317617374768,
          0.29680094901623094,
          0.3021099232218838,
          0.31114575106345826,
          0.3145442454757191,
          0.3180895675363242,
          0.3194468604448681,
          0.3144587410569352,
          0.3124179804256349,
          0.3070585932037533,
          0.30930133469633814,
          0.30819992899482807,
          0.30244619869166045,
          0.29921960877631026,
          0.30756923383716583,
          0.31478804859838755,
          0.3179251334436485,
          0.31700929188551014,
          0.31676402284383565,
          0.3150483486919754,
          0.3117893092458094,
          0.30876248139644064,
          0.30922194090606,
          0.3056772036140124,
          0.3039587476739604,
          0.307062108382213,
          0.30489863499860165,
          0.30135281298741307,
          0.2950110303502236,
          0.2923103953509482,
          0.2855990228724369,
          0.27814565321893,
          0.27513172636418926,
          0.2820088777150298,
          0.2778545572859284,
          0.28302162622405963,
          0.28249576284624767,
          0.26650844838663434,
          0.26346470703255476,
          0.27209860313106765,
          0.27211928769814997,
          0.2722560288375755,
          0.26766085650944527,
          0.26200161589486926,
          0.25992570340240595,
          0.2557363232928554,
          0.2491978542658924,
          0.2419282501366787,
          0.24850741347408084,
          0.24460183784879247,
          0.23829854564092784,
          0.25423319855464704,
          0.2578990962928482,
          0.2630318318422458,
          0.2657500374390819,
          0.2705048842565455,
          0.2750789691595499,
          0.2736415910517659,
          0.2695222911149414,
          0.26661292353505633,
          0.2672549698551248,
          0.2683498641175607,
          0.267526057219705,
          0.2787805965186827,
          0.2855467672183879,
          0.28600032727725316,
          0.28517318467483127,
          0.2835015010746413,
          0.2853220515479126,
          0.28484202785718377,
          0.2832207234521042,
          0.28405291841214514,
          0.2819242861865175,
          0.28317508961782933,
          0.28913158735699723,
          0.29096470092643123,
          0.29071854889017945,
          0.2909134332955286,
          0.29150864170066865,
          0.2909242717925612,
          0.29430204008135574,
          0.2943167685005868,
          0.2932840778031606,
          0.2937123029765906,
          0.29168043859206744,
          0.29594918983993895,
          0.29684914631156817,
          0.2953711264193039,
          0.2966761348673961,
          0.300793585588871,
          0.3056382691489665,
          0.3099405906769572,
          0.3099309857711435,
          0.31288621681776757,
          0.3179577384853053,
          0.3178236448517483,
          0.3016876992114067,
          0.3044083090272344,
          0.3047797180137445,
          0.31043121131133816,
          0.3085850501027746,
          0.31333601450981236,
          0.31453129974352995,
          0.3136552365845595,
          0.31660065315610414,
          0.3176816406482922,
          0.32215423611355054,
          0.3214851807442935,
          0.31359212444668855,
          0.31755901343255394,
          0.32154933005356223,
          0.3277043649906514,
          0.3262263437873109,
          0.31243902654920386,
          0.31526518638130424,
          0.31965636021088967,
          0.3219288248280964,
          0.3273262560524604,
          0.33101705015881616,
          0.3336125982377591,
          0.3353555839987446,
          0.33875370827204654,
          0.3355847920824003,
          0.33597600957429474,
          0.3360032889695505,
          0.34055837656852894,
          0.34194293604278897,
          0.34319590019078916,
          0.3421379625720285,
          0.3403519683141614,
          0.33436172028645283,
          0.327692002255957,
          0.3315282203118845,
          0.3324594330351245,
          0.3304761788997327,
          0.32892116813459515,
          0.3256746319712904,
          0.3249169412036225,
          0.3281167822222596,
          0.32587849723322504,
          0.32376744109910177,
          0.3227138338628187,
          0.32653748175514796,
          0.3283445354481694,
          0.3354606810912469,
          0.3405370533393992,
          0.3414844125928394,
          0.3474469560652731,
          0.3504747184852517,
          0.3532681776473723,
          0.357734276456058,
          0.3624698411374347,
          0.3652564123710956,
          0.36354180165361927,
          0.36085030650009703,
          0.36072684149475104,
          0.3561981260515893,
          0.3579846883933989,
          0.3562436388748463,
          0.3558070619413246,
          0.35134807436490834,
          0.3514220067034851,
          0.3497558218412128,
          0.345991991642972,
          0.3467155083427957,
          0.3433339365094665,
          0.3483256642410066,
          0.3478496633768977,
          0.34617350668742053,
          0.3436845546947626,
          0.34372208147390154,
          0.3495579819011612,
          0.3517804580129887,
          0.3509663645179708,
          0.3492873882817903,
          0.3502421648938106,
          0.3502291977897809,
          0.35115442749430364,
          0.3506051775226189,
          0.34641928124257587,
          0.34671195596389354,
          0.3497844501077599,
          0.3512810343271701,
          0.3534963421798797,
          0.3565901921030719,
          0.35965452918713053,
          0.35990359045426107,
          0.3616230997411369,
          0.36206782315669245,
          0.3561357764219698,
          0.35695049125073364,
          0.35268843650281495,
          0.35400779243428393,
          0.3527571661839255,
          0.35036929855723464,
          0.35641198817976,
          0.3606018546688483,
          0.3621442000650666,
          0.36044976445861276,
          0.36040213447588587,
          0.36172488304531425,
          0.36412078297670936,
          0.3648087002907038,
          0.36341221251402034,
          0.3386682017464305,
          0.33426993467626503,
          0.33667208318261266,
          0.3400383168170434,
          0.3440011417257481,
          0.34574068208870207,
          0.34684932202243246,
          0.34540894443242853,
          0.3478999095750746,
          0.3478078911404097,
          0.345807781367707,
          0.34672347227499806,
          0.34563413083917016,
          0.34262987908244874,
          0.3438276708161068,
          0.34709396350848043,
          0.3474306961425893,
          0.34860688451924277,
          0.35027976079712736,
          0.35148580000006774,
          0.3504646137227195,
          0.3523268141402084,
          0.3532395714218601,
          0.3526122176661648,
          0.3484225071663254,
          0.3478905152906594,
          0.3468575028917654,
          0.34281411308451887,
          0.3435386452952382,
          0.3450090511658619,
          0.34307974610823444,
          0.34536977046220746,
          0.3451921348422278,
          0.3432988919305345,
          0.33480821556718676,
          0.3292698724568506,
          0.3249546015668637,
          0.3259702721542365,
          0.32607798024515555,
          0.329625585058151,
          0.335859211141253,
          0.3394863384899762,
          0.34061252519571295,
          0.34190716415327865,
          0.33951117892679267,
          0.3410611637725286,
          0.3419916723251795,
          0.3420231452001467,
          0.34266157005314984,
          0.34076879911286184,
          0.34263042169584,
          0.34886700801351544,
          0.35122497804107516,
          0.3502585301805212,
          0.3478896419657618,
          0.3474879671591516,
          0.3442988133068244,
          0.3454545369144808,
          0.3432151189003486,
          0.34361171326513257,
          0.3438979599908627,
          0.3468408569000472,
          0.3480699205657988,
          0.3503269948670948,
          0.34943606632547647,
          0.3504675239567755,
          0.3488640161583506,
          0.35116604546420815,
          0.3510511187306754,
          0.35153566285163246,
          0.3532058020228212,
          0.3537397053036519,
          0.3556514084211767,
          0.35418893833681414,
          0.3546670973662319,
          0.3566642868688677,
          0.35583421968118817,
          0.35236108365771734,
          0.3513935903135132,
          0.35067587172428616,
          0.34846314438752135,
          0.34921149995308454,
          0.35112608961994884,
          0.3511481718911413,
          0.35035893700490345,
          0.3469057097514014,
          0.34598336099531773,
          0.34685489021641835,
          0.34784440971246255,
          0.3483349757577456,
          0.34907759966374824,
          0.349858829082758,
          0.3517674172111856,
          0.35369429099176397,
          0.35477182009471964,
          0.35575466371011205,
          0.35227568776937773,
          0.352517709361849,
          0.352549691570341,
          0.3537274251225539,
          0.35543151588742616,
          0.35642267064953187,
          0.35850245096605227,
          0.3618443456712628,
          0.3599788763924278,
          0.3540882222916571,
          0.35588011355479304,
          0.3567448250116963,
          0.35498958087896215,
          0.35578502002438644,
          0.35465512912226926,
          0.35744035064464286,
          0.35670297864139006,
          0.3537010821216233,
          0.3523261856947327,
          0.3561498006949227,
          0.35791256450082093,
          0.3598159166254412,
          0.36079253716163506,
          0.36449807544713636,
          0.36271458732472855,
          0.36065546778850066,
          0.3582141701056148,
          0.3584111380687086,
          0.3612675575757032,
          0.3633916620813463,
          0.36379265544473693,
          0.36083129592357044,
          0.35857189450388366,
          0.35493744874639016,
          0.3412981724522666,
          0.3423416426938956,
          0.34411874009155763,
          0.34692151992942805,
          0.3477050004382851,
          0.3495880836169028,
          0.3462666432025674,
          0.3450124315526005,
          0.3493303416481222,
          0.350885960819219,
          0.3519447323438379,
          0.35163533908463396,
          0.348923470380348,
          0.3470570539351131,
          0.3453314975608454,
          0.34717189627251827,
          0.3489961849783797,
          0.3506143535627445,
          0.3529824078073162,
          0.35381644213060964,
          0.3502197974165813,
          0.34767635866178637,
          0.34928050086702206,
          0.3484430462840096,
          0.35091942214088273,
          0.34864963092745654,
          0.34565718538029105,
          0.3395895759424596,
          0.33964659767377814,
          0.3465912769124998,
          0.34438656558810565,
          0.34128410920728997,
          0.3442209277843769,
          0.3468909820802482,
          0.34608763604308723,
          0.34438579434377464,
          0.34241681883881353,
          0.3339372843569259,
          0.33585865584572283,
          0.3383914306621815,
          0.34068600597782656,
          0.3410074382598589,
          0.33998293861264206,
          0.3438642199934176,
          0.34440652933079924,
          0.3433381661905521,
          0.3395209509998481,
          0.33166846278648787,
          0.33170341428605077,
          0.32593265520159753,
          0.3267907550538197,
          0.3308568532105873,
          0.32872346450988643,
          0.3276729438155389,
          0.3257492182291308,
          0.3251727553062441,
          0.32907965356088126,
          0.3340335301882055,
          0.33593239457713847,
          0.33779447859355805,
          0.3398507743732918,
          0.34026920638002184,
          0.34370204272465693,
          0.34550608920505527,
          0.3478574766456042,
          0.3499307668260413,
          0.3508399192027066,
          0.35068084701571794,
          0.3491136450485747,
          0.3486092702691503,
          0.3504569492887403,
          0.3476580253605112,
          0.34661452254747543,
          0.3481495574212426,
          0.3483610906601555,
          0.35259617764165624,
          0.3547094099704148,
          0.35313382706153534,
          0.35409139680141827,
          0.35225770915775967,
          0.34837360442856957,
          0.3503493232144954,
          0.35182135231586387,
          0.3546329848130116,
          0.3536241225684782,
          0.3533405998566682,
          0.3507537971908509,
          0.3520713934873378,
          0.3521967845208639,
          0.3556531225375001,
          0.3553644514918376,
          0.35710919787177736,
          0.3578096787527914,
          0.35522837517934797,
          0.35445722938007884,
          0.3521632138654223,
          0.35255607100829767,
          0.35233523173388265,
          0.35477100327693123,
          0.3559511846224355,
          0.35615762954086533,
          0.35698482313027186,
          0.35710284648105517,
          0.3573372097805973,
          0.35848444816951897,
          0.35969245069727107,
          0.3591277157816393,
          0.3560097101378113,
          0.3546569605876214,
          0.35504621307917006,
          0.35564646438521685,
          0.35085645832101353,
          0.3501107914299499,
          0.3470631290819752,
          0.3460722268101015,
          0.3444539332315243,
          0.3453594840203468,
          0.34713438860099916,
          0.34150083856050967,
          0.3407475271345937,
          0.3416209406811443,
          0.3339974092497195,
          0.3189831180216401,
          0.31005680649096595,
          0.3109321958036479,
          0.3076481595527687,
          0.300249495590927,
          0.304944934186047,
          0.3140873652018175,
          0.31820463007427857,
          0.318401379332774,
          0.32275013673549463,
          0.3257076579553102,
          0.3290357856384263,
          0.3260733729620932,
          0.327162858061308,
          0.3299977747571943,
          0.32880063656158526,
          0.33063276772909883,
          0.3343711729673128,
          0.3372661664290851,
          0.3326570938079187,
          0.3283143834166686,
          0.3312237849537242,
          0.32762861761613915,
          0.3320550677201719,
          0.3340293274593216,
          0.3351917703765156,
          0.3383971441505527,
          0.33843380876711654,
          0.33994186657519576,
          0.34053098515917996,
          0.3408081413343966,
          0.3396447179542763,
          0.3381610616890947,
          0.33669926278178336,
          0.3315418847384089,
          0.32474487771799043,
          0.32984942473116236,
          0.328799015247977,
          0.32827568598538526,
          0.3316357376532235,
          0.33306608026825485,
          0.33365540780137304,
          0.33281056572082685,
          0.3285015720328224,
          0.3298108714919231,
          0.3289012129062353,
          0.32972148181265826,
          0.3310632036465774,
          0.33030201672012593,
          0.3301585333497577,
          0.3310024621092888,
          0.33352333418638574,
          0.33358801159809215,
          0.3353315116442878,
          0.33505226187036696,
          0.3367601180054341,
          0.3360957168978847,
          0.33865549584090776,
          0.3375759526307813,
          0.3396689406460526,
          0.34089276561166876,
          0.34197651361773923,
          0.3430626954517274,
          0.3421323029329352,
          0.34411283954169175,
          0.3442388619951523,
          0.3426412076791638,
          0.342294569825548,
          0.3437374052688296,
          0.3413496355918546,
          0.34305018141213256,
          0.34012561673439135,
          0.3407434984000212,
          0.34044599941902093,
          0.340201175430879,
          0.33825760008439276,
          0.34057485169245344,
          0.3399132860986055,
          0.33996041699047463,
          0.33937123726641344,
          0.33803929117048487,
          0.33570345099185595,
          0.33368563711144605,
          0.33012649039045916,
          0.33196708160272886,
          0.3315708343875206,
          0.32890691555936313,
          0.32488645132416416,
          0.32538179926549593,
          0.32848748876402406,
          0.32984034810103685,
          0.32915116362096375,
          0.329498931203971,
          0.33188018441719186,
          0.3323525291725936,
          0.33245809142288374,
          0.3300427609979199,
          0.33352781617440974,
          0.333889449684944,
          0.33420962067627674,
          0.33417564450872855,
          0.33408535263508704,
          0.33385493767247243,
          0.33279117950862397,
          0.3332853738105366,
          0.33295544370849633,
          0.3318167946410219,
          0.33396026125111417,
          0.3336250240319897,
          0.3349609678376891,
          0.3356953523577414,
          0.33620311977527684,
          0.33346084670000614,
          0.33320308965018586,
          0.33305617112654695,
          0.3345268930399123,
          0.3351260119792048,
          0.33499481712974194,
          0.3354004068839814,
          0.33472691552702855,
          0.32989509763921226,
          0.32895802881278885,
          0.3220631183708048
         ]
        }
       ],
       "layout": {
        "template": {
         "data": {
          "bar": [
           {
            "error_x": {
             "color": "#2a3f5f"
            },
            "error_y": {
             "color": "#2a3f5f"
            },
            "marker": {
             "line": {
              "color": "#E5ECF6",
              "width": 0.5
             }
            },
            "type": "bar"
           }
          ],
          "barpolar": [
           {
            "marker": {
             "line": {
              "color": "#E5ECF6",
              "width": 0.5
             }
            },
            "type": "barpolar"
           }
          ],
          "carpet": [
           {
            "aaxis": {
             "endlinecolor": "#2a3f5f",
             "gridcolor": "white",
             "linecolor": "white",
             "minorgridcolor": "white",
             "startlinecolor": "#2a3f5f"
            },
            "baxis": {
             "endlinecolor": "#2a3f5f",
             "gridcolor": "white",
             "linecolor": "white",
             "minorgridcolor": "white",
             "startlinecolor": "#2a3f5f"
            },
            "type": "carpet"
           }
          ],
          "choropleth": [
           {
            "colorbar": {
             "outlinewidth": 0,
             "ticks": ""
            },
            "type": "choropleth"
           }
          ],
          "contour": [
           {
            "colorbar": {
             "outlinewidth": 0,
             "ticks": ""
            },
            "colorscale": [
             [
              0.0,
              "#0d0887"
             ],
             [
              0.1111111111111111,
              "#46039f"
             ],
             [
              0.2222222222222222,
              "#7201a8"
             ],
             [
              0.3333333333333333,
              "#9c179e"
             ],
             [
              0.4444444444444444,
              "#bd3786"
             ],
             [
              0.5555555555555556,
              "#d8576b"
             ],
             [
              0.6666666666666666,
              "#ed7953"
             ],
             [
              0.7777777777777778,
              "#fb9f3a"
             ],
             [
              0.8888888888888888,
              "#fdca26"
             ],
             [
              1.0,
              "#f0f921"
             ]
            ],
            "type": "contour"
           }
          ],
          "contourcarpet": [
           {
            "colorbar": {
             "outlinewidth": 0,
             "ticks": ""
            },
            "type": "contourcarpet"
           }
          ],
          "heatmap": [
           {
            "colorbar": {
             "outlinewidth": 0,
             "ticks": ""
            },
            "colorscale": [
             [
              0.0,
              "#0d0887"
             ],
             [
              0.1111111111111111,
              "#46039f"
             ],
             [
              0.2222222222222222,
              "#7201a8"
             ],
             [
              0.3333333333333333,
              "#9c179e"
             ],
             [
              0.4444444444444444,
              "#bd3786"
             ],
             [
              0.5555555555555556,
              "#d8576b"
             ],
             [
              0.6666666666666666,
              "#ed7953"
             ],
             [
              0.7777777777777778,
              "#fb9f3a"
             ],
             [
              0.8888888888888888,
              "#fdca26"
             ],
             [
              1.0,
              "#f0f921"
             ]
            ],
            "type": "heatmap"
           }
          ],
          "heatmapgl": [
           {
            "colorbar": {
             "outlinewidth": 0,
             "ticks": ""
            },
            "colorscale": [
             [
              0.0,
              "#0d0887"
             ],
             [
              0.1111111111111111,
              "#46039f"
             ],
             [
              0.2222222222222222,
              "#7201a8"
             ],
             [
              0.3333333333333333,
              "#9c179e"
             ],
             [
              0.4444444444444444,
              "#bd3786"
             ],
             [
              0.5555555555555556,
              "#d8576b"
             ],
             [
              0.6666666666666666,
              "#ed7953"
             ],
             [
              0.7777777777777778,
              "#fb9f3a"
             ],
             [
              0.8888888888888888,
              "#fdca26"
             ],
             [
              1.0,
              "#f0f921"
             ]
            ],
            "type": "heatmapgl"
           }
          ],
          "histogram": [
           {
            "marker": {
             "colorbar": {
              "outlinewidth": 0,
              "ticks": ""
             }
            },
            "type": "histogram"
           }
          ],
          "histogram2d": [
           {
            "colorbar": {
             "outlinewidth": 0,
             "ticks": ""
            },
            "colorscale": [
             [
              0.0,
              "#0d0887"
             ],
             [
              0.1111111111111111,
              "#46039f"
             ],
             [
              0.2222222222222222,
              "#7201a8"
             ],
             [
              0.3333333333333333,
              "#9c179e"
             ],
             [
              0.4444444444444444,
              "#bd3786"
             ],
             [
              0.5555555555555556,
              "#d8576b"
             ],
             [
              0.6666666666666666,
              "#ed7953"
             ],
             [
              0.7777777777777778,
              "#fb9f3a"
             ],
             [
              0.8888888888888888,
              "#fdca26"
             ],
             [
              1.0,
              "#f0f921"
             ]
            ],
            "type": "histogram2d"
           }
          ],
          "histogram2dcontour": [
           {
            "colorbar": {
             "outlinewidth": 0,
             "ticks": ""
            },
            "colorscale": [
             [
              0.0,
              "#0d0887"
             ],
             [
              0.1111111111111111,
              "#46039f"
             ],
             [
              0.2222222222222222,
              "#7201a8"
             ],
             [
              0.3333333333333333,
              "#9c179e"
             ],
             [
              0.4444444444444444,
              "#bd3786"
             ],
             [
              0.5555555555555556,
              "#d8576b"
             ],
             [
              0.6666666666666666,
              "#ed7953"
             ],
             [
              0.7777777777777778,
              "#fb9f3a"
             ],
             [
              0.8888888888888888,
              "#fdca26"
             ],
             [
              1.0,
              "#f0f921"
             ]
            ],
            "type": "histogram2dcontour"
           }
          ],
          "mesh3d": [
           {
            "colorbar": {
             "outlinewidth": 0,
             "ticks": ""
            },
            "type": "mesh3d"
           }
          ],
          "parcoords": [
           {
            "line": {
             "colorbar": {
              "outlinewidth": 0,
              "ticks": ""
             }
            },
            "type": "parcoords"
           }
          ],
          "pie": [
           {
            "automargin": true,
            "type": "pie"
           }
          ],
          "scatter": [
           {
            "marker": {
             "colorbar": {
              "outlinewidth": 0,
              "ticks": ""
             }
            },
            "type": "scatter"
           }
          ],
          "scatter3d": [
           {
            "line": {
             "colorbar": {
              "outlinewidth": 0,
              "ticks": ""
             }
            },
            "marker": {
             "colorbar": {
              "outlinewidth": 0,
              "ticks": ""
             }
            },
            "type": "scatter3d"
           }
          ],
          "scattercarpet": [
           {
            "marker": {
             "colorbar": {
              "outlinewidth": 0,
              "ticks": ""
             }
            },
            "type": "scattercarpet"
           }
          ],
          "scattergeo": [
           {
            "marker": {
             "colorbar": {
              "outlinewidth": 0,
              "ticks": ""
             }
            },
            "type": "scattergeo"
           }
          ],
          "scattergl": [
           {
            "marker": {
             "colorbar": {
              "outlinewidth": 0,
              "ticks": ""
             }
            },
            "type": "scattergl"
           }
          ],
          "scattermapbox": [
           {
            "marker": {
             "colorbar": {
              "outlinewidth": 0,
              "ticks": ""
             }
            },
            "type": "scattermapbox"
           }
          ],
          "scatterpolar": [
           {
            "marker": {
             "colorbar": {
              "outlinewidth": 0,
              "ticks": ""
             }
            },
            "type": "scatterpolar"
           }
          ],
          "scatterpolargl": [
           {
            "marker": {
             "colorbar": {
              "outlinewidth": 0,
              "ticks": ""
             }
            },
            "type": "scatterpolargl"
           }
          ],
          "scatterternary": [
           {
            "marker": {
             "colorbar": {
              "outlinewidth": 0,
              "ticks": ""
             }
            },
            "type": "scatterternary"
           }
          ],
          "surface": [
           {
            "colorbar": {
             "outlinewidth": 0,
             "ticks": ""
            },
            "colorscale": [
             [
              0.0,
              "#0d0887"
             ],
             [
              0.1111111111111111,
              "#46039f"
             ],
             [
              0.2222222222222222,
              "#7201a8"
             ],
             [
              0.3333333333333333,
              "#9c179e"
             ],
             [
              0.4444444444444444,
              "#bd3786"
             ],
             [
              0.5555555555555556,
              "#d8576b"
             ],
             [
              0.6666666666666666,
              "#ed7953"
             ],
             [
              0.7777777777777778,
              "#fb9f3a"
             ],
             [
              0.8888888888888888,
              "#fdca26"
             ],
             [
              1.0,
              "#f0f921"
             ]
            ],
            "type": "surface"
           }
          ],
          "table": [
           {
            "cells": {
             "fill": {
              "color": "#EBF0F8"
             },
             "line": {
              "color": "white"
             }
            },
            "header": {
             "fill": {
              "color": "#C8D4E3"
             },
             "line": {
              "color": "white"
             }
            },
            "type": "table"
           }
          ]
         },
         "layout": {
          "annotationdefaults": {
           "arrowcolor": "#2a3f5f",
           "arrowhead": 0,
           "arrowwidth": 1
          },
          "coloraxis": {
           "colorbar": {
            "outlinewidth": 0,
            "ticks": ""
           }
          },
          "colorscale": {
           "diverging": [
            [
             0,
             "#8e0152"
            ],
            [
             0.1,
             "#c51b7d"
            ],
            [
             0.2,
             "#de77ae"
            ],
            [
             0.3,
             "#f1b6da"
            ],
            [
             0.4,
             "#fde0ef"
            ],
            [
             0.5,
             "#f7f7f7"
            ],
            [
             0.6,
             "#e6f5d0"
            ],
            [
             0.7,
             "#b8e186"
            ],
            [
             0.8,
             "#7fbc41"
            ],
            [
             0.9,
             "#4d9221"
            ],
            [
             1,
             "#276419"
            ]
           ],
           "sequential": [
            [
             0.0,
             "#0d0887"
            ],
            [
             0.1111111111111111,
             "#46039f"
            ],
            [
             0.2222222222222222,
             "#7201a8"
            ],
            [
             0.3333333333333333,
             "#9c179e"
            ],
            [
             0.4444444444444444,
             "#bd3786"
            ],
            [
             0.5555555555555556,
             "#d8576b"
            ],
            [
             0.6666666666666666,
             "#ed7953"
            ],
            [
             0.7777777777777778,
             "#fb9f3a"
            ],
            [
             0.8888888888888888,
             "#fdca26"
            ],
            [
             1.0,
             "#f0f921"
            ]
           ],
           "sequentialminus": [
            [
             0.0,
             "#0d0887"
            ],
            [
             0.1111111111111111,
             "#46039f"
            ],
            [
             0.2222222222222222,
             "#7201a8"
            ],
            [
             0.3333333333333333,
             "#9c179e"
            ],
            [
             0.4444444444444444,
             "#bd3786"
            ],
            [
             0.5555555555555556,
             "#d8576b"
            ],
            [
             0.6666666666666666,
             "#ed7953"
            ],
            [
             0.7777777777777778,
             "#fb9f3a"
            ],
            [
             0.8888888888888888,
             "#fdca26"
            ],
            [
             1.0,
             "#f0f921"
            ]
           ]
          },
          "colorway": [
           "#636efa",
           "#EF553B",
           "#00cc96",
           "#ab63fa",
           "#FFA15A",
           "#19d3f3",
           "#FF6692",
           "#B6E880",
           "#FF97FF",
           "#FECB52"
          ],
          "font": {
           "color": "#2a3f5f"
          },
          "geo": {
           "bgcolor": "white",
           "lakecolor": "white",
           "landcolor": "#E5ECF6",
           "showlakes": true,
           "showland": true,
           "subunitcolor": "white"
          },
          "hoverlabel": {
           "align": "left"
          },
          "hovermode": "closest",
          "mapbox": {
           "style": "light"
          },
          "paper_bgcolor": "white",
          "plot_bgcolor": "#E5ECF6",
          "polar": {
           "angularaxis": {
            "gridcolor": "white",
            "linecolor": "white",
            "ticks": ""
           },
           "bgcolor": "#E5ECF6",
           "radialaxis": {
            "gridcolor": "white",
            "linecolor": "white",
            "ticks": ""
           }
          },
          "scene": {
           "xaxis": {
            "backgroundcolor": "#E5ECF6",
            "gridcolor": "white",
            "gridwidth": 2,
            "linecolor": "white",
            "showbackground": true,
            "ticks": "",
            "zerolinecolor": "white"
           },
           "yaxis": {
            "backgroundcolor": "#E5ECF6",
            "gridcolor": "white",
            "gridwidth": 2,
            "linecolor": "white",
            "showbackground": true,
            "ticks": "",
            "zerolinecolor": "white"
           },
           "zaxis": {
            "backgroundcolor": "#E5ECF6",
            "gridcolor": "white",
            "gridwidth": 2,
            "linecolor": "white",
            "showbackground": true,
            "ticks": "",
            "zerolinecolor": "white"
           }
          },
          "shapedefaults": {
           "line": {
            "color": "#2a3f5f"
           }
          },
          "ternary": {
           "aaxis": {
            "gridcolor": "white",
            "linecolor": "white",
            "ticks": ""
           },
           "baxis": {
            "gridcolor": "white",
            "linecolor": "white",
            "ticks": ""
           },
           "bgcolor": "#E5ECF6",
           "caxis": {
            "gridcolor": "white",
            "linecolor": "white",
            "ticks": ""
           }
          },
          "title": {
           "x": 0.05
          },
          "xaxis": {
           "automargin": true,
           "gridcolor": "white",
           "linecolor": "white",
           "ticks": "",
           "title": {
            "standoff": 15
           },
           "zerolinecolor": "white",
           "zerolinewidth": 2
          },
          "yaxis": {
           "automargin": true,
           "gridcolor": "white",
           "linecolor": "white",
           "ticks": "",
           "title": {
            "standoff": 15
           },
           "zerolinecolor": "white",
           "zerolinewidth": 2
          }
         }
        }
       }
      },
      "text/html": "<div>\n        \n        \n            <div id=\"fe06a082-eff5-4538-b82d-b659f40d9e0c\" class=\"plotly-graph-div\" style=\"height:525px; width:100%;\"></div>\n            <script type=\"text/javascript\">\n                require([\"plotly\"], function(Plotly) {\n                    window.PLOTLYENV=window.PLOTLYENV || {};\n                    \n                if (document.getElementById(\"fe06a082-eff5-4538-b82d-b659f40d9e0c\")) {\n                    Plotly.newPlot(\n                        'fe06a082-eff5-4538-b82d-b659f40d9e0c',\n                        [{\"name\": \"VW\", \"type\": \"scatter\", \"x\": [\"1945-01-01T00:00:00\", \"1945-02-01T00:00:00\", \"1945-03-01T00:00:00\", \"1945-04-01T00:00:00\", \"1945-05-01T00:00:00\", \"1945-06-01T00:00:00\", \"1945-07-01T00:00:00\", \"1945-08-01T00:00:00\", \"1945-09-01T00:00:00\", \"1945-10-01T00:00:00\", \"1945-11-01T00:00:00\", \"1945-12-01T00:00:00\", \"1946-01-01T00:00:00\", \"1946-02-01T00:00:00\", \"1946-03-01T00:00:00\", \"1946-04-01T00:00:00\", \"1946-05-01T00:00:00\", \"1946-06-01T00:00:00\", \"1946-07-01T00:00:00\", \"1946-08-01T00:00:00\", \"1946-09-01T00:00:00\", \"1946-10-01T00:00:00\", \"1946-11-01T00:00:00\", \"1946-12-01T00:00:00\", \"1947-01-01T00:00:00\", \"1947-02-01T00:00:00\", \"1947-03-01T00:00:00\", \"1947-04-01T00:00:00\", \"1947-05-01T00:00:00\", \"1947-06-01T00:00:00\", \"1947-07-01T00:00:00\", \"1947-08-01T00:00:00\", \"1947-09-01T00:00:00\", \"1947-10-01T00:00:00\", \"1947-11-01T00:00:00\", \"1947-12-01T00:00:00\", \"1948-01-01T00:00:00\", \"1948-02-01T00:00:00\", \"1948-03-01T00:00:00\", \"1948-04-01T00:00:00\", \"1948-05-01T00:00:00\", \"1948-06-01T00:00:00\", \"1948-07-01T00:00:00\", \"1948-08-01T00:00:00\", \"1948-09-01T00:00:00\", \"1948-10-01T00:00:00\", \"1948-11-01T00:00:00\", \"1948-12-01T00:00:00\", \"1949-01-01T00:00:00\", \"1949-02-01T00:00:00\", \"1949-03-01T00:00:00\", \"1949-04-01T00:00:00\", \"1949-05-01T00:00:00\", \"1949-06-01T00:00:00\", \"1949-07-01T00:00:00\", \"1949-08-01T00:00:00\", \"1949-09-01T00:00:00\", \"1949-10-01T00:00:00\", \"1949-11-01T00:00:00\", \"1949-12-01T00:00:00\", \"1950-01-01T00:00:00\", \"1950-02-01T00:00:00\", \"1950-03-01T00:00:00\", \"1950-04-01T00:00:00\", \"1950-05-01T00:00:00\", \"1950-06-01T00:00:00\", \"1950-07-01T00:00:00\", \"1950-08-01T00:00:00\", \"1950-09-01T00:00:00\", \"1950-10-01T00:00:00\", \"1950-11-01T00:00:00\", \"1950-12-01T00:00:00\", \"1951-01-01T00:00:00\", \"1951-02-01T00:00:00\", \"1951-03-01T00:00:00\", \"1951-04-01T00:00:00\", \"1951-05-01T00:00:00\", \"1951-06-01T00:00:00\", \"1951-07-01T00:00:00\", \"1951-08-01T00:00:00\", \"1951-09-01T00:00:00\", \"1951-10-01T00:00:00\", \"1951-11-01T00:00:00\", \"1951-12-01T00:00:00\", \"1952-01-01T00:00:00\", \"1952-02-01T00:00:00\", \"1952-03-01T00:00:00\", \"1952-04-01T00:00:00\", \"1952-05-01T00:00:00\", \"1952-06-01T00:00:00\", \"1952-07-01T00:00:00\", \"1952-08-01T00:00:00\", \"1952-09-01T00:00:00\", \"1952-10-01T00:00:00\", \"1952-11-01T00:00:00\", \"1952-12-01T00:00:00\", \"1953-01-01T00:00:00\", \"1953-02-01T00:00:00\", \"1953-03-01T00:00:00\", \"1953-04-01T00:00:00\", \"1953-05-01T00:00:00\", \"1953-06-01T00:00:00\", \"1953-07-01T00:00:00\", \"1953-08-01T00:00:00\", \"1953-09-01T00:00:00\", \"1953-10-01T00:00:00\", \"1953-11-01T00:00:00\", \"1953-12-01T00:00:00\", \"1954-01-01T00:00:00\", \"1954-02-01T00:00:00\", \"1954-03-01T00:00:00\", \"1954-04-01T00:00:00\", \"1954-05-01T00:00:00\", \"1954-06-01T00:00:00\", \"1954-07-01T00:00:00\", \"1954-08-01T00:00:00\", \"1954-09-01T00:00:00\", \"1954-10-01T00:00:00\", \"1954-11-01T00:00:00\", \"1954-12-01T00:00:00\", \"1955-01-01T00:00:00\", \"1955-02-01T00:00:00\", \"1955-03-01T00:00:00\", \"1955-04-01T00:00:00\", \"1955-05-01T00:00:00\", \"1955-06-01T00:00:00\", \"1955-07-01T00:00:00\", \"1955-08-01T00:00:00\", \"1955-09-01T00:00:00\", \"1955-10-01T00:00:00\", \"1955-11-01T00:00:00\", \"1955-12-01T00:00:00\", \"1956-01-01T00:00:00\", \"1956-02-01T00:00:00\", \"1956-03-01T00:00:00\", \"1956-04-01T00:00:00\", \"1956-05-01T00:00:00\", \"1956-06-01T00:00:00\", \"1956-07-01T00:00:00\", \"1956-08-01T00:00:00\", \"1956-09-01T00:00:00\", \"1956-10-01T00:00:00\", \"1956-11-01T00:00:00\", \"1956-12-01T00:00:00\", \"1957-01-01T00:00:00\", \"1957-02-01T00:00:00\", \"1957-03-01T00:00:00\", \"1957-04-01T00:00:00\", \"1957-05-01T00:00:00\", \"1957-06-01T00:00:00\", \"1957-07-01T00:00:00\", \"1957-08-01T00:00:00\", \"1957-09-01T00:00:00\", \"1957-10-01T00:00:00\", \"1957-11-01T00:00:00\", \"1957-12-01T00:00:00\", \"1958-01-01T00:00:00\", \"1958-02-01T00:00:00\", \"1958-03-01T00:00:00\", \"1958-04-01T00:00:00\", \"1958-05-01T00:00:00\", \"1958-06-01T00:00:00\", \"1958-07-01T00:00:00\", \"1958-08-01T00:00:00\", \"1958-09-01T00:00:00\", \"1958-10-01T00:00:00\", \"1958-11-01T00:00:00\", \"1958-12-01T00:00:00\", \"1959-01-01T00:00:00\", \"1959-02-01T00:00:00\", \"1959-03-01T00:00:00\", \"1959-04-01T00:00:00\", \"1959-05-01T00:00:00\", \"1959-06-01T00:00:00\", \"1959-07-01T00:00:00\", \"1959-08-01T00:00:00\", \"1959-09-01T00:00:00\", \"1959-10-01T00:00:00\", \"1959-11-01T00:00:00\", \"1959-12-01T00:00:00\", \"1960-01-01T00:00:00\", \"1960-02-01T00:00:00\", \"1960-03-01T00:00:00\", \"1960-04-01T00:00:00\", \"1960-05-01T00:00:00\", \"1960-06-01T00:00:00\", \"1960-07-01T00:00:00\", \"1960-08-01T00:00:00\", \"1960-09-01T00:00:00\", \"1960-10-01T00:00:00\", \"1960-11-01T00:00:00\", \"1960-12-01T00:00:00\", \"1961-01-01T00:00:00\", \"1961-02-01T00:00:00\", \"1961-03-01T00:00:00\", \"1961-04-01T00:00:00\", \"1961-05-01T00:00:00\", \"1961-06-01T00:00:00\", \"1961-07-01T00:00:00\", \"1961-08-01T00:00:00\", \"1961-09-01T00:00:00\", \"1961-10-01T00:00:00\", \"1961-11-01T00:00:00\", \"1961-12-01T00:00:00\", \"1962-01-01T00:00:00\", \"1962-02-01T00:00:00\", \"1962-03-01T00:00:00\", \"1962-04-01T00:00:00\", \"1962-05-01T00:00:00\", \"1962-06-01T00:00:00\", \"1962-07-01T00:00:00\", \"1962-08-01T00:00:00\", \"1962-09-01T00:00:00\", \"1962-10-01T00:00:00\", \"1962-11-01T00:00:00\", \"1962-12-01T00:00:00\", \"1963-01-01T00:00:00\", \"1963-02-01T00:00:00\", \"1963-03-01T00:00:00\", \"1963-04-01T00:00:00\", \"1963-05-01T00:00:00\", \"1963-06-01T00:00:00\", \"1963-07-01T00:00:00\", \"1963-08-01T00:00:00\", \"1963-09-01T00:00:00\", \"1963-10-01T00:00:00\", \"1963-11-01T00:00:00\", \"1963-12-01T00:00:00\", \"1964-01-01T00:00:00\", \"1964-02-01T00:00:00\", \"1964-03-01T00:00:00\", \"1964-04-01T00:00:00\", \"1964-05-01T00:00:00\", \"1964-06-01T00:00:00\", \"1964-07-01T00:00:00\", \"1964-08-01T00:00:00\", \"1964-09-01T00:00:00\", \"1964-10-01T00:00:00\", \"1964-11-01T00:00:00\", \"1964-12-01T00:00:00\", \"1965-01-01T00:00:00\", \"1965-02-01T00:00:00\", \"1965-03-01T00:00:00\", \"1965-04-01T00:00:00\", \"1965-05-01T00:00:00\", \"1965-06-01T00:00:00\", \"1965-07-01T00:00:00\", \"1965-08-01T00:00:00\", \"1965-09-01T00:00:00\", \"1965-10-01T00:00:00\", \"1965-11-01T00:00:00\", \"1965-12-01T00:00:00\", \"1966-01-01T00:00:00\", \"1966-02-01T00:00:00\", \"1966-03-01T00:00:00\", \"1966-04-01T00:00:00\", \"1966-05-01T00:00:00\", \"1966-06-01T00:00:00\", \"1966-07-01T00:00:00\", \"1966-08-01T00:00:00\", \"1966-09-01T00:00:00\", \"1966-10-01T00:00:00\", \"1966-11-01T00:00:00\", \"1966-12-01T00:00:00\", \"1967-01-01T00:00:00\", \"1967-02-01T00:00:00\", \"1967-03-01T00:00:00\", \"1967-04-01T00:00:00\", \"1967-05-01T00:00:00\", \"1967-06-01T00:00:00\", \"1967-07-01T00:00:00\", \"1967-08-01T00:00:00\", \"1967-09-01T00:00:00\", \"1967-10-01T00:00:00\", \"1967-11-01T00:00:00\", \"1967-12-01T00:00:00\", \"1968-01-01T00:00:00\", \"1968-02-01T00:00:00\", \"1968-03-01T00:00:00\", \"1968-04-01T00:00:00\", \"1968-05-01T00:00:00\", \"1968-06-01T00:00:00\", \"1968-07-01T00:00:00\", \"1968-08-01T00:00:00\", \"1968-09-01T00:00:00\", \"1968-10-01T00:00:00\", \"1968-11-01T00:00:00\", \"1968-12-01T00:00:00\", \"1969-01-01T00:00:00\", \"1969-02-01T00:00:00\", \"1969-03-01T00:00:00\", \"1969-04-01T00:00:00\", \"1969-05-01T00:00:00\", \"1969-06-01T00:00:00\", \"1969-07-01T00:00:00\", \"1969-08-01T00:00:00\", \"1969-09-01T00:00:00\", \"1969-10-01T00:00:00\", \"1969-11-01T00:00:00\", \"1969-12-01T00:00:00\", \"1970-01-01T00:00:00\", \"1970-02-01T00:00:00\", \"1970-03-01T00:00:00\", \"1970-04-01T00:00:00\", \"1970-05-01T00:00:00\", \"1970-06-01T00:00:00\", \"1970-07-01T00:00:00\", \"1970-08-01T00:00:00\", \"1970-09-01T00:00:00\", \"1970-10-01T00:00:00\", \"1970-11-01T00:00:00\", \"1970-12-01T00:00:00\", \"1971-01-01T00:00:00\", \"1971-02-01T00:00:00\", \"1971-03-01T00:00:00\", \"1971-04-01T00:00:00\", \"1971-05-01T00:00:00\", \"1971-06-01T00:00:00\", \"1971-07-01T00:00:00\", \"1971-08-01T00:00:00\", \"1971-09-01T00:00:00\", \"1971-10-01T00:00:00\", \"1971-11-01T00:00:00\", \"1971-12-01T00:00:00\", \"1972-01-01T00:00:00\", \"1972-02-01T00:00:00\", \"1972-03-01T00:00:00\", \"1972-04-01T00:00:00\", \"1972-05-01T00:00:00\", \"1972-06-01T00:00:00\", \"1972-07-01T00:00:00\", \"1972-08-01T00:00:00\", \"1972-09-01T00:00:00\", \"1972-10-01T00:00:00\", \"1972-11-01T00:00:00\", \"1972-12-01T00:00:00\", \"1973-01-01T00:00:00\", \"1973-02-01T00:00:00\", \"1973-03-01T00:00:00\", \"1973-04-01T00:00:00\", \"1973-05-01T00:00:00\", \"1973-06-01T00:00:00\", \"1973-07-01T00:00:00\", \"1973-08-01T00:00:00\", \"1973-09-01T00:00:00\", \"1973-10-01T00:00:00\", \"1973-11-01T00:00:00\", \"1973-12-01T00:00:00\", \"1974-01-01T00:00:00\", \"1974-02-01T00:00:00\", \"1974-03-01T00:00:00\", \"1974-04-01T00:00:00\", \"1974-05-01T00:00:00\", \"1974-06-01T00:00:00\", \"1974-07-01T00:00:00\", \"1974-08-01T00:00:00\", \"1974-09-01T00:00:00\", \"1974-10-01T00:00:00\", \"1974-11-01T00:00:00\", \"1974-12-01T00:00:00\", \"1975-01-01T00:00:00\", \"1975-02-01T00:00:00\", \"1975-03-01T00:00:00\", \"1975-04-01T00:00:00\", \"1975-05-01T00:00:00\", \"1975-06-01T00:00:00\", \"1975-07-01T00:00:00\", \"1975-08-01T00:00:00\", \"1975-09-01T00:00:00\", \"1975-10-01T00:00:00\", \"1975-11-01T00:00:00\", \"1975-12-01T00:00:00\", \"1976-01-01T00:00:00\", \"1976-02-01T00:00:00\", \"1976-03-01T00:00:00\", \"1976-04-01T00:00:00\", \"1976-05-01T00:00:00\", \"1976-06-01T00:00:00\", \"1976-07-01T00:00:00\", \"1976-08-01T00:00:00\", \"1976-09-01T00:00:00\", \"1976-10-01T00:00:00\", \"1976-11-01T00:00:00\", \"1976-12-01T00:00:00\", \"1977-01-01T00:00:00\", \"1977-02-01T00:00:00\", \"1977-03-01T00:00:00\", \"1977-04-01T00:00:00\", \"1977-05-01T00:00:00\", \"1977-06-01T00:00:00\", \"1977-07-01T00:00:00\", \"1977-08-01T00:00:00\", \"1977-09-01T00:00:00\", \"1977-10-01T00:00:00\", \"1977-11-01T00:00:00\", \"1977-12-01T00:00:00\", \"1978-01-01T00:00:00\", \"1978-02-01T00:00:00\", \"1978-03-01T00:00:00\", \"1978-04-01T00:00:00\", \"1978-05-01T00:00:00\", \"1978-06-01T00:00:00\", \"1978-07-01T00:00:00\", \"1978-08-01T00:00:00\", \"1978-09-01T00:00:00\", \"1978-10-01T00:00:00\", \"1978-11-01T00:00:00\", \"1978-12-01T00:00:00\", \"1979-01-01T00:00:00\", \"1979-02-01T00:00:00\", \"1979-03-01T00:00:00\", \"1979-04-01T00:00:00\", \"1979-05-01T00:00:00\", \"1979-06-01T00:00:00\", \"1979-07-01T00:00:00\", \"1979-08-01T00:00:00\", \"1979-09-01T00:00:00\", \"1979-10-01T00:00:00\", \"1979-11-01T00:00:00\", \"1979-12-01T00:00:00\", \"1980-01-01T00:00:00\", \"1980-02-01T00:00:00\", \"1980-03-01T00:00:00\", \"1980-04-01T00:00:00\", \"1980-05-01T00:00:00\", \"1980-06-01T00:00:00\", \"1980-07-01T00:00:00\", \"1980-08-01T00:00:00\", \"1980-09-01T00:00:00\", \"1980-10-01T00:00:00\", \"1980-11-01T00:00:00\", \"1980-12-01T00:00:00\", \"1981-01-01T00:00:00\", \"1981-02-01T00:00:00\", \"1981-03-01T00:00:00\", \"1981-04-01T00:00:00\", \"1981-05-01T00:00:00\", \"1981-06-01T00:00:00\", \"1981-07-01T00:00:00\", \"1981-08-01T00:00:00\", \"1981-09-01T00:00:00\", \"1981-10-01T00:00:00\", \"1981-11-01T00:00:00\", \"1981-12-01T00:00:00\", \"1982-01-01T00:00:00\", \"1982-02-01T00:00:00\", \"1982-03-01T00:00:00\", \"1982-04-01T00:00:00\", \"1982-05-01T00:00:00\", \"1982-06-01T00:00:00\", \"1982-07-01T00:00:00\", \"1982-08-01T00:00:00\", \"1982-09-01T00:00:00\", \"1982-10-01T00:00:00\", \"1982-11-01T00:00:00\", \"1982-12-01T00:00:00\", \"1983-01-01T00:00:00\", \"1983-02-01T00:00:00\", \"1983-03-01T00:00:00\", \"1983-04-01T00:00:00\", \"1983-05-01T00:00:00\", \"1983-06-01T00:00:00\", \"1983-07-01T00:00:00\", \"1983-08-01T00:00:00\", \"1983-09-01T00:00:00\", \"1983-10-01T00:00:00\", \"1983-11-01T00:00:00\", \"1983-12-01T00:00:00\", \"1984-01-01T00:00:00\", \"1984-02-01T00:00:00\", \"1984-03-01T00:00:00\", \"1984-04-01T00:00:00\", \"1984-05-01T00:00:00\", \"1984-06-01T00:00:00\", \"1984-07-01T00:00:00\", \"1984-08-01T00:00:00\", \"1984-09-01T00:00:00\", \"1984-10-01T00:00:00\", \"1984-11-01T00:00:00\", \"1984-12-01T00:00:00\", \"1985-01-01T00:00:00\", \"1985-02-01T00:00:00\", \"1985-03-01T00:00:00\", \"1985-04-01T00:00:00\", \"1985-05-01T00:00:00\", \"1985-06-01T00:00:00\", \"1985-07-01T00:00:00\", \"1985-08-01T00:00:00\", \"1985-09-01T00:00:00\", \"1985-10-01T00:00:00\", \"1985-11-01T00:00:00\", \"1985-12-01T00:00:00\", \"1986-01-01T00:00:00\", \"1986-02-01T00:00:00\", \"1986-03-01T00:00:00\", \"1986-04-01T00:00:00\", \"1986-05-01T00:00:00\", \"1986-06-01T00:00:00\", \"1986-07-01T00:00:00\", \"1986-08-01T00:00:00\", \"1986-09-01T00:00:00\", \"1986-10-01T00:00:00\", \"1986-11-01T00:00:00\", \"1986-12-01T00:00:00\", \"1987-01-01T00:00:00\", \"1987-02-01T00:00:00\", \"1987-03-01T00:00:00\", \"1987-04-01T00:00:00\", \"1987-05-01T00:00:00\", \"1987-06-01T00:00:00\", \"1987-07-01T00:00:00\", \"1987-08-01T00:00:00\", \"1987-09-01T00:00:00\", \"1987-10-01T00:00:00\", \"1987-11-01T00:00:00\", \"1987-12-01T00:00:00\", \"1988-01-01T00:00:00\", \"1988-02-01T00:00:00\", \"1988-03-01T00:00:00\", \"1988-04-01T00:00:00\", \"1988-05-01T00:00:00\", \"1988-06-01T00:00:00\", \"1988-07-01T00:00:00\", \"1988-08-01T00:00:00\", \"1988-09-01T00:00:00\", \"1988-10-01T00:00:00\", \"1988-11-01T00:00:00\", \"1988-12-01T00:00:00\", \"1989-01-01T00:00:00\", \"1989-02-01T00:00:00\", \"1989-03-01T00:00:00\", \"1989-04-01T00:00:00\", \"1989-05-01T00:00:00\", \"1989-06-01T00:00:00\", \"1989-07-01T00:00:00\", \"1989-08-01T00:00:00\", \"1989-09-01T00:00:00\", \"1989-10-01T00:00:00\", \"1989-11-01T00:00:00\", \"1989-12-01T00:00:00\", \"1990-01-01T00:00:00\", \"1990-02-01T00:00:00\", \"1990-03-01T00:00:00\", \"1990-04-01T00:00:00\", \"1990-05-01T00:00:00\", \"1990-06-01T00:00:00\", \"1990-07-01T00:00:00\", \"1990-08-01T00:00:00\", \"1990-09-01T00:00:00\", \"1990-10-01T00:00:00\", \"1990-11-01T00:00:00\", \"1990-12-01T00:00:00\", \"1991-01-01T00:00:00\", \"1991-02-01T00:00:00\", \"1991-03-01T00:00:00\", \"1991-04-01T00:00:00\", \"1991-05-01T00:00:00\", \"1991-06-01T00:00:00\", \"1991-07-01T00:00:00\", \"1991-08-01T00:00:00\", \"1991-09-01T00:00:00\", \"1991-10-01T00:00:00\", \"1991-11-01T00:00:00\", \"1991-12-01T00:00:00\", \"1992-01-01T00:00:00\", \"1992-02-01T00:00:00\", \"1992-03-01T00:00:00\", \"1992-04-01T00:00:00\", \"1992-05-01T00:00:00\", \"1992-06-01T00:00:00\", \"1992-07-01T00:00:00\", \"1992-08-01T00:00:00\", \"1992-09-01T00:00:00\", \"1992-10-01T00:00:00\", \"1992-11-01T00:00:00\", \"1992-12-01T00:00:00\", \"1993-01-01T00:00:00\", \"1993-02-01T00:00:00\", \"1993-03-01T00:00:00\", \"1993-04-01T00:00:00\", \"1993-05-01T00:00:00\", \"1993-06-01T00:00:00\", \"1993-07-01T00:00:00\", \"1993-08-01T00:00:00\", \"1993-09-01T00:00:00\", \"1993-10-01T00:00:00\", \"1993-11-01T00:00:00\", \"1993-12-01T00:00:00\", \"1994-01-01T00:00:00\", \"1994-02-01T00:00:00\", \"1994-03-01T00:00:00\", \"1994-04-01T00:00:00\", \"1994-05-01T00:00:00\", \"1994-06-01T00:00:00\", \"1994-07-01T00:00:00\", \"1994-08-01T00:00:00\", \"1994-09-01T00:00:00\", \"1994-10-01T00:00:00\", \"1994-11-01T00:00:00\", \"1994-12-01T00:00:00\", \"1995-01-01T00:00:00\", \"1995-02-01T00:00:00\", \"1995-03-01T00:00:00\", \"1995-04-01T00:00:00\", \"1995-05-01T00:00:00\", \"1995-06-01T00:00:00\", \"1995-07-01T00:00:00\", \"1995-08-01T00:00:00\", \"1995-09-01T00:00:00\", \"1995-10-01T00:00:00\", \"1995-11-01T00:00:00\", \"1995-12-01T00:00:00\", \"1996-01-01T00:00:00\", \"1996-02-01T00:00:00\", \"1996-03-01T00:00:00\", \"1996-04-01T00:00:00\", \"1996-05-01T00:00:00\", \"1996-06-01T00:00:00\", \"1996-07-01T00:00:00\", \"1996-08-01T00:00:00\", \"1996-09-01T00:00:00\", \"1996-10-01T00:00:00\", \"1996-11-01T00:00:00\", \"1996-12-01T00:00:00\", \"1997-01-01T00:00:00\", \"1997-02-01T00:00:00\", \"1997-03-01T00:00:00\", \"1997-04-01T00:00:00\", \"1997-05-01T00:00:00\", \"1997-06-01T00:00:00\", \"1997-07-01T00:00:00\", \"1997-08-01T00:00:00\", \"1997-09-01T00:00:00\", \"1997-10-01T00:00:00\", \"1997-11-01T00:00:00\", \"1997-12-01T00:00:00\", \"1998-01-01T00:00:00\", \"1998-02-01T00:00:00\", \"1998-03-01T00:00:00\", \"1998-04-01T00:00:00\", \"1998-05-01T00:00:00\", \"1998-06-01T00:00:00\", \"1998-07-01T00:00:00\", \"1998-08-01T00:00:00\", \"1998-09-01T00:00:00\", \"1998-10-01T00:00:00\", \"1998-11-01T00:00:00\", \"1998-12-01T00:00:00\", \"1999-01-01T00:00:00\", \"1999-02-01T00:00:00\", \"1999-03-01T00:00:00\", \"1999-04-01T00:00:00\", \"1999-05-01T00:00:00\", \"1999-06-01T00:00:00\", \"1999-07-01T00:00:00\", \"1999-08-01T00:00:00\", \"1999-09-01T00:00:00\", \"1999-10-01T00:00:00\", \"1999-11-01T00:00:00\", \"1999-12-01T00:00:00\", \"2000-01-01T00:00:00\", \"2000-02-01T00:00:00\", \"2000-03-01T00:00:00\", \"2000-04-01T00:00:00\", \"2000-05-01T00:00:00\", \"2000-06-01T00:00:00\", \"2000-07-01T00:00:00\", \"2000-08-01T00:00:00\", \"2000-09-01T00:00:00\", \"2000-10-01T00:00:00\", \"2000-11-01T00:00:00\", \"2000-12-01T00:00:00\", \"2001-01-01T00:00:00\", \"2001-02-01T00:00:00\", \"2001-03-01T00:00:00\", \"2001-04-01T00:00:00\", \"2001-05-01T00:00:00\", \"2001-06-01T00:00:00\", \"2001-07-01T00:00:00\", \"2001-08-01T00:00:00\", \"2001-09-01T00:00:00\", \"2001-10-01T00:00:00\", \"2001-11-01T00:00:00\", \"2001-12-01T00:00:00\", \"2002-01-01T00:00:00\", \"2002-02-01T00:00:00\", \"2002-03-01T00:00:00\", \"2002-04-01T00:00:00\", \"2002-05-01T00:00:00\", \"2002-06-01T00:00:00\", \"2002-07-01T00:00:00\", \"2002-08-01T00:00:00\", \"2002-09-01T00:00:00\", \"2002-10-01T00:00:00\", \"2002-11-01T00:00:00\", \"2002-12-01T00:00:00\", \"2003-01-01T00:00:00\", \"2003-02-01T00:00:00\", \"2003-03-01T00:00:00\", \"2003-04-01T00:00:00\", \"2003-05-01T00:00:00\", \"2003-06-01T00:00:00\", \"2003-07-01T00:00:00\", \"2003-08-01T00:00:00\", \"2003-09-01T00:00:00\", \"2003-10-01T00:00:00\", \"2003-11-01T00:00:00\", \"2003-12-01T00:00:00\", \"2004-01-01T00:00:00\", \"2004-02-01T00:00:00\", \"2004-03-01T00:00:00\", \"2004-04-01T00:00:00\", \"2004-05-01T00:00:00\", \"2004-06-01T00:00:00\", \"2004-07-01T00:00:00\", \"2004-08-01T00:00:00\", \"2004-09-01T00:00:00\", \"2004-10-01T00:00:00\", \"2004-11-01T00:00:00\", \"2004-12-01T00:00:00\", \"2005-01-01T00:00:00\", \"2005-02-01T00:00:00\", \"2005-03-01T00:00:00\", \"2005-04-01T00:00:00\", \"2005-05-01T00:00:00\", \"2005-06-01T00:00:00\", \"2005-07-01T00:00:00\", \"2005-08-01T00:00:00\", \"2005-09-01T00:00:00\", \"2005-10-01T00:00:00\", \"2005-11-01T00:00:00\", \"2005-12-01T00:00:00\", \"2006-01-01T00:00:00\", \"2006-02-01T00:00:00\", \"2006-03-01T00:00:00\", \"2006-04-01T00:00:00\", \"2006-05-01T00:00:00\", \"2006-06-01T00:00:00\", \"2006-07-01T00:00:00\", \"2006-08-01T00:00:00\", \"2006-09-01T00:00:00\", \"2006-10-01T00:00:00\", \"2006-11-01T00:00:00\", \"2006-12-01T00:00:00\", \"2007-01-01T00:00:00\", \"2007-02-01T00:00:00\", \"2007-03-01T00:00:00\", \"2007-04-01T00:00:00\", \"2007-05-01T00:00:00\", \"2007-06-01T00:00:00\", \"2007-07-01T00:00:00\", \"2007-08-01T00:00:00\", \"2007-09-01T00:00:00\", \"2007-10-01T00:00:00\", \"2007-11-01T00:00:00\", \"2007-12-01T00:00:00\", \"2008-01-01T00:00:00\", \"2008-02-01T00:00:00\", \"2008-03-01T00:00:00\", \"2008-04-01T00:00:00\", \"2008-05-01T00:00:00\", \"2008-06-01T00:00:00\", \"2008-07-01T00:00:00\", \"2008-08-01T00:00:00\", \"2008-09-01T00:00:00\", \"2008-10-01T00:00:00\", \"2008-11-01T00:00:00\", \"2008-12-01T00:00:00\", \"2009-01-01T00:00:00\", \"2009-02-01T00:00:00\", \"2009-03-01T00:00:00\", \"2009-04-01T00:00:00\", \"2009-05-01T00:00:00\", \"2009-06-01T00:00:00\", \"2009-07-01T00:00:00\", \"2009-08-01T00:00:00\", \"2009-09-01T00:00:00\", \"2009-10-01T00:00:00\", \"2009-11-01T00:00:00\", \"2009-12-01T00:00:00\", \"2010-01-01T00:00:00\", \"2010-02-01T00:00:00\", \"2010-03-01T00:00:00\", \"2010-04-01T00:00:00\", \"2010-05-01T00:00:00\", \"2010-06-01T00:00:00\", \"2010-07-01T00:00:00\", \"2010-08-01T00:00:00\", \"2010-09-01T00:00:00\", \"2010-10-01T00:00:00\", \"2010-11-01T00:00:00\", \"2010-12-01T00:00:00\", \"2011-01-01T00:00:00\", \"2011-02-01T00:00:00\", \"2011-03-01T00:00:00\", \"2011-04-01T00:00:00\", \"2011-05-01T00:00:00\", \"2011-06-01T00:00:00\", \"2011-07-01T00:00:00\", \"2011-08-01T00:00:00\", \"2011-09-01T00:00:00\", \"2011-10-01T00:00:00\", \"2011-11-01T00:00:00\", \"2011-12-01T00:00:00\", \"2012-01-01T00:00:00\", \"2012-02-01T00:00:00\", \"2012-03-01T00:00:00\", \"2012-04-01T00:00:00\", \"2012-05-01T00:00:00\", \"2012-06-01T00:00:00\", \"2012-07-01T00:00:00\", \"2012-08-01T00:00:00\", \"2012-09-01T00:00:00\", \"2012-10-01T00:00:00\", \"2012-11-01T00:00:00\", \"2012-12-01T00:00:00\", \"2013-01-01T00:00:00\", \"2013-02-01T00:00:00\", \"2013-03-01T00:00:00\", \"2013-04-01T00:00:00\", \"2013-05-01T00:00:00\", \"2013-06-01T00:00:00\", \"2013-07-01T00:00:00\", \"2013-08-01T00:00:00\", \"2013-09-01T00:00:00\", \"2013-10-01T00:00:00\", \"2013-11-01T00:00:00\", \"2013-12-01T00:00:00\", \"2014-01-01T00:00:00\", \"2014-02-01T00:00:00\", \"2014-03-01T00:00:00\", \"2014-04-01T00:00:00\", \"2014-05-01T00:00:00\", \"2014-06-01T00:00:00\", \"2014-07-01T00:00:00\", \"2014-08-01T00:00:00\", \"2014-09-01T00:00:00\", \"2014-10-01T00:00:00\", \"2014-11-01T00:00:00\", \"2014-12-01T00:00:00\", \"2015-01-01T00:00:00\", \"2015-02-01T00:00:00\", \"2015-03-01T00:00:00\", \"2015-04-01T00:00:00\", \"2015-05-01T00:00:00\", \"2015-06-01T00:00:00\", \"2015-07-01T00:00:00\", \"2015-08-01T00:00:00\", \"2015-09-01T00:00:00\", \"2015-10-01T00:00:00\", \"2015-11-01T00:00:00\", \"2015-12-01T00:00:00\", \"2016-01-01T00:00:00\", \"2016-02-01T00:00:00\", \"2016-03-01T00:00:00\", \"2016-04-01T00:00:00\", \"2016-05-01T00:00:00\", \"2016-06-01T00:00:00\", \"2016-07-01T00:00:00\", \"2016-08-01T00:00:00\", \"2016-09-01T00:00:00\", \"2016-10-01T00:00:00\", \"2016-11-01T00:00:00\", \"2016-12-01T00:00:00\", \"2017-01-01T00:00:00\", \"2017-02-01T00:00:00\", \"2017-03-01T00:00:00\", \"2017-04-01T00:00:00\", \"2017-05-01T00:00:00\", \"2017-06-01T00:00:00\", \"2017-07-01T00:00:00\", \"2017-08-01T00:00:00\", \"2017-09-01T00:00:00\", \"2017-10-01T00:00:00\", \"2017-11-01T00:00:00\", \"2017-12-01T00:00:00\", \"2018-01-01T00:00:00\", \"2018-02-01T00:00:00\", \"2018-03-01T00:00:00\", \"2018-04-01T00:00:00\", \"2018-05-01T00:00:00\", \"2018-06-01T00:00:00\", \"2018-07-01T00:00:00\", \"2018-08-01T00:00:00\", \"2018-09-01T00:00:00\", \"2018-10-01T00:00:00\", \"2018-11-01T00:00:00\", \"2018-12-01T00:00:00\"], \"y\": [0.05825367480525914, 0.06697818255979542, 0.059507864661128146, 0.07100710019126295, 0.07562210366900307, 0.07614378304452421, 0.07192409152495434, 0.08222639345078434, 0.0912831059099862, 0.09873882150945822, 0.10758564608309266, 0.1103866172712784, 0.11992034217220661, 0.10994849204614014, 0.11900262247943467, 0.12700103013182287, 0.1328557229672309, 0.12465512315311983, 0.11963949154322971, 0.1083835803885433, 0.0893624955249255, 0.08669982334921082, 0.08601257448604069, 0.09214842169692793, 0.09323203115758052, 0.09100700040379331, 0.0869651778373371, 0.0764072252783879, 0.07280167764181772, 0.08019112180152853, 0.08681083938221737, 0.08329558095855101, 0.08328068637659211, 0.08584176721255338, 0.08263915322632867, 0.0847501060706055, 0.07896822273996497, 0.07148153933971749, 0.08149650125643516, 0.0849707711468063, 0.09486078739192996, 0.09229830616792604, 0.08542985664642994, 0.08546782655897582, 0.08010539988045137, 0.0862945422250587, 0.07342301199648654, 0.07602851629059117, 0.07746499759107518, 0.07310077312647247, 0.07863237968319736, 0.07532060579892567, 0.07153139249841363, 0.07196739839516976, 0.07915101410609669, 0.08209166772315564, 0.08643591339624108, 0.09015939548481874, 0.09252225556452943, 0.09958440475649118, 0.10202543996678347, 0.10271156491902719, 0.1023481091931269, 0.10640891462620727, 0.11064315568718923, 0.10068083546302249, 0.10164166539587462, 0.1080705504941447, 0.11535719297327779, 0.11381724917470278, 0.1167284530983417, 0.1230564170910266, 0.12988418932513177, 0.1312844602465, 0.12701590740755309, 0.1308704302655914, 0.1275529770856859, 0.12253055588918096, 0.12986478685930405, 0.1347375817851354, 0.13611975574436888, 0.13131157863019444, 0.13192033082417848, 0.13440513314739197, 0.13532536113373522, 0.13125526235849772, 0.1346291962607129, 0.12799485378724848, 0.13063351638713258, 0.13408426171268997, 0.13503099955112294, 0.13443751583129562, 0.13146371692829065, 0.12938446556400562, 0.13696948872314668, 0.13923295315535, 0.13946736374514462, 0.14003618110334323, 0.13783336011066974, 0.1342917081738943, 0.13458908147773083, 0.1312118361320693, 0.13336589616210165, 0.12727371065714144, 0.12690637127125184, 0.13101465445007904, 0.13391589986850536, 0.13316693897871917, 0.13923976000921964, 0.14064950408030674, 0.14370079150802592, 0.14693055129818727, 0.15108440337434664, 0.15283065710883106, 0.15957959583712564, 0.15709482992823967, 0.16330337653300628, 0.16096741925319344, 0.1713574343855683, 0.17813862438219036, 0.17832437213845678, 0.1817506841374005, 0.18087181463834634, 0.18381336888770297, 0.18455693755051686, 0.18879625188066979, 0.18946205826994023, 0.18939930607607283, 0.1873905527405962, 0.18418027982253793, 0.19041378931661207, 0.1923589643941182, 0.1882201577500083, 0.19224718767812074, 0.1977082806895146, 0.19716073385471924, 0.19141300697168942, 0.19449301409583264, 0.1982042648447804, 0.1951728153358633, 0.18883566690296832, 0.18934293121900506, 0.1887213843190819, 0.19158346193754067, 0.18972216326598632, 0.1870506585056171, 0.1896137371570286, 0.1920815827819601, 0.1946539857103111, 0.19382323146979843, 0.19403355368162825, 0.18817570299711464, 0.1821850441092387, 0.1763579505263513, 0.17867708631115808, 0.1747987033477635, 0.18183356577149123, 0.18104042828497377, 0.18501493471969618, 0.1878917761986424, 0.1909027104490532, 0.19338416712024203, 0.1976921526118519, 0.20050869435618404, 0.20574446851443967, 0.20888637945731736, 0.21309085451967522, 0.21795932028700346, 0.21986071309057464, 0.22218703086978592, 0.22321386652799002, 0.22630214889811698, 0.2267908779520863, 0.22757882256687204, 0.23032016575027578, 0.2285880808189382, 0.22269177990068995, 0.2252422993155788, 0.22744344319588866, 0.22883961042159467, 0.22087648857039413, 0.2230833739156376, 0.22065712822953917, 0.21990230571829358, 0.22351588824061838, 0.22535861668241433, 0.22272282484466788, 0.22623976226187234, 0.21865831425969567, 0.21779073878072766, 0.22398992949670385, 0.2283572278801363, 0.23492044131433182, 0.23998914407692035, 0.24349344063207917, 0.24293786260145972, 0.24579450378064183, 0.2418973375066092, 0.2439451943645496, 0.24742526716977037, 0.2444549807180439, 0.2464712416539706, 0.25102094800318014, 0.24937403257480267, 0.24416887652959668, 0.24488319773709225, 0.2429676575489746, 0.23328996893026066, 0.2209285695750906, 0.2084359146476171, 0.21464017806853888, 0.21658568786309632, 0.20876859767071437, 0.20741840834640293, 0.2192692477804997, 0.21903736653671638, 0.22452129725616582, 0.22135936302958686, 0.22371766663078663, 0.22803881351097857, 0.22943864759243882, 0.22669163662515024, 0.22492965270461493, 0.2300011939706699, 0.22759937462628047, 0.23010509079856245, 0.22880451992005052, 0.22997959138103904, 0.23110828246896514, 0.23337114741452358, 0.23541263959442837, 0.23465300173960182, 0.23540619533344972, 0.23636748788831946, 0.23819831920917517, 0.23661046496566845, 0.23945658561250313, 0.2401676863621747, 0.23974302158958868, 0.23882237594247385, 0.24416041397494398, 0.24589988765016904, 0.24518301094722666, 0.2488272314937043, 0.24750305231095043, 0.23954295828276131, 0.24171480320207892, 0.24561939736658525, 0.24822794077538043, 0.25179914018239574, 0.25334177621150117, 0.2548049994249703, 0.25706317325704736, 0.2565724158877828, 0.25361441343710855, 0.2560531463822629, 0.24856007409809822, 0.24686145511822657, 0.24423520688264072, 0.23464560827128353, 0.23184929919133776, 0.23331539963493778, 0.23612380164447003, 0.2367847307396235, 0.2466256231611736, 0.24795377118225584, 0.2525143644040071, 0.25658662417364925, 0.2525910950585822, 0.25602991637327416, 0.26072206105721346, 0.25978233414760193, 0.2628820670382369, 0.25959230285144885, 0.2594104731307602, 0.2632979325372629, 0.2598856690592636, 0.255193073365713, 0.2552250129213751, 0.2648383704144749, 0.2682559437358897, 0.26869990665488197, 0.26448246988120233, 0.2661984480346776, 0.27095093313923724, 0.271287342483673, 0.2767238545326939, 0.2736420525321937, 0.27228314604698056, 0.2644382995240215, 0.2657309854041834, 0.2665885812171347, 0.26599291778284556, 0.25657681645864155, 0.24842357721846545, 0.25295971434229375, 0.2510468412824251, 0.25714151547219843, 0.2532667037523273, 0.24994384542168213, 0.24212147089212857, 0.24705746914560506, 0.2455002252563377, 0.2321829396351167, 0.22394544154787052, 0.21824101616241923, 0.22408521553651753, 0.22778509937098204, 0.23316007208444875, 0.2302581548427395, 0.2337780459516165, 0.23988117041498808, 0.24578602430129845, 0.24772053433769534, 0.25153343239449194, 0.25450007831459937, 0.25019945678274397, 0.2496189003134974, 0.24426728985251508, 0.24797199804087236, 0.24682141245258166, 0.24132291129805813, 0.23992552977883352, 0.24862281350468687, 0.2519304191705866, 0.25471657037295514, 0.2545474311042848, 0.2551243393770505, 0.2554635263384914, 0.2523945703936908, 0.24990086044330667, 0.2517404865436344, 0.249115113953196, 0.248879280693392, 0.2538210252965759, 0.2534114145963904, 0.24925188983275254, 0.24422994259953984, 0.2429008102139048, 0.23623210222975868, 0.2327728380631922, 0.22956607125130904, 0.23567431035748393, 0.23205834289498872, 0.23774137849153873, 0.23649105160416886, 0.22084896921685898, 0.220889583865965, 0.2226407465265822, 0.22280633458188154, 0.22067726596546156, 0.2162524489157831, 0.21217116022282945, 0.2096665677312691, 0.20208081306285777, 0.19330002065794255, 0.18154460175513856, 0.19295658596465634, 0.18831361526510776, 0.18468062801702562, 0.19730937785337369, 0.2018323448377961, 0.20642582335978543, 0.2106825263924553, 0.21459867150806888, 0.21860302391400488, 0.21285894088368368, 0.20982640604310496, 0.20620587360127685, 0.2101717654537155, 0.21283128225834153, 0.21150296750456857, 0.22196294750557385, 0.22319435413458158, 0.2241858104347619, 0.22289144388229767, 0.22087068961866616, 0.22382258776950828, 0.22251865523317588, 0.22143978597558317, 0.2228293446688353, 0.2204631297060962, 0.2210421274829188, 0.22568039769711196, 0.2215566267689762, 0.2198700053605173, 0.21881564766525502, 0.21880998530874282, 0.21698971289208455, 0.22064450323241475, 0.2188533848349476, 0.2178897216280377, 0.21738898883445978, 0.2138025969926839, 0.2176033650030043, 0.21771442350593848, 0.21263749665206894, 0.2118767904988438, 0.21486508623579637, 0.22117633302307313, 0.2235176105609763, 0.22219658724104105, 0.22657187049153601, 0.22979013156853428, 0.22849170693585505, 0.21594965970654773, 0.21828572441575242, 0.21896947036571254, 0.22317668074068261, 0.219902941735847, 0.22480122377913114, 0.22470534689558455, 0.22320952663464474, 0.22626060019229305, 0.2274594103271713, 0.23235976696396762, 0.23137105887699505, 0.22342519601988559, 0.2277344462225977, 0.2306272782649485, 0.23462172434496117, 0.2319090226200416, 0.22158670701218516, 0.22455247383412663, 0.2296105587111101, 0.23175905890061285, 0.23815286384342743, 0.23955349358085956, 0.24114864408578285, 0.2412393617071892, 0.24578251264187626, 0.24367867462217932, 0.2421191462155155, 0.24355179520191683, 0.24841315468530512, 0.24851750932350797, 0.24959513660288898, 0.24782871389306915, 0.246117804211595, 0.24057572109146716, 0.2358610385138399, 0.23982382124981477, 0.24208601579911798, 0.2398030316609509, 0.23754081842877053, 0.23335091492172438, 0.23278468175188474, 0.2359842507413162, 0.23248333497273643, 0.23102789361902237, 0.22918254960716103, 0.2373179393635817, 0.23827254112022428, 0.2469228557489376, 0.2508848372119126, 0.2512415916159158, 0.2540084291088955, 0.25609503846836446, 0.2585483262833242, 0.2630892967707295, 0.2640481894361543, 0.2663946556957858, 0.263311378918621, 0.262610281601885, 0.26391356636586544, 0.2610552442301392, 0.26360009247216254, 0.2621346121696338, 0.26003438683306646, 0.25548201847013885, 0.25608013679228386, 0.2555210224946641, 0.2511168839396888, 0.253206870139836, 0.2507144524134036, 0.25790712177267844, 0.2570786322945992, 0.2566180084808884, 0.25540351895201113, 0.25651128099101556, 0.26240318544369123, 0.26356337095832905, 0.2630643406470258, 0.26155213960784574, 0.265504812924393, 0.26648596382610734, 0.26669694040900427, 0.2659957855315162, 0.2624756006549862, 0.26464168465844184, 0.2693453667111425, 0.2721939724142553, 0.2728318110380132, 0.2779365441677288, 0.2818865963336987, 0.28088281352741223, 0.28424370606890015, 0.2849910851612903, 0.279062447157794, 0.2828072665592346, 0.2761789637788939, 0.2798525631586781, 0.28083476069289964, 0.27804815584174036, 0.2862723611483524, 0.2895672742823262, 0.29103275009376284, 0.2895653629331246, 0.28990288060577163, 0.29262555984766137, 0.2964487363838094, 0.29837453892783555, 0.2966937728078761, 0.2721640571548295, 0.2664603504632036, 0.2718348913173308, 0.2735641669053689, 0.27790830676968414, 0.27692280065542774, 0.2772643092113352, 0.2766522472118921, 0.2801327074952005, 0.2792150139162847, 0.27670499745821553, 0.2792411310502931, 0.2800029765444701, 0.2782052066105852, 0.2798041602358107, 0.28394537974886697, 0.2827611414801387, 0.28405092558524997, 0.28708558490730013, 0.28945105775110147, 0.2886677675776068, 0.29347813258535127, 0.29500273806056576, 0.29428349624391786, 0.29120428033697, 0.2921700566160047, 0.2928700026135206, 0.2868418860310002, 0.28768287087382355, 0.2895393535935518, 0.2871632994350245, 0.2925289179011189, 0.291723271974522, 0.2905930282089438, 0.28181904844820643, 0.276620183362739, 0.27436206195506113, 0.27837022330742667, 0.28087459068063114, 0.2841455635732361, 0.28898997737401866, 0.2901401236470299, 0.2897867816188949, 0.2923751541198046, 0.28898770385085054, 0.2913781676935186, 0.2926040764247674, 0.2914650146224114, 0.291667756313977, 0.28813814271077826, 0.29443294150708293, 0.2948809823193051, 0.29600269161435455, 0.293960162098471, 0.29455701685589036, 0.2944302927697501, 0.29196107661930665, 0.29400761291860705, 0.29186651900867144, 0.2928859612698884, 0.2930241181981293, 0.29525545356889416, 0.2959078275881691, 0.29592023123563266, 0.2955891219134853, 0.2968363626178138, 0.29388504061472476, 0.29587489833351643, 0.2949289582210014, 0.29427551255267603, 0.2962014942300716, 0.2950896712968054, 0.29681688312603416, 0.29625939644812305, 0.2975675493868317, 0.2990962845520653, 0.2973669296063719, 0.2935284450419611, 0.29349398334945415, 0.2931068538787737, 0.29102639680278386, 0.2925945376466489, 0.2951514758042684, 0.29348466076474905, 0.2936594622749911, 0.29037562617392354, 0.2911729957663686, 0.29150905557918516, 0.29350975715723415, 0.29508354845846724, 0.2958523733540372, 0.2974835468689283, 0.2988167836732837, 0.300769188572405, 0.300676324445314, 0.30213165090981353, 0.3002698961024009, 0.3029419414108168, 0.3037130916585589, 0.3048508859565634, 0.3055772655892988, 0.3062635272595838, 0.3073205226933949, 0.3091137436582815, 0.308408979728073, 0.3042031966162604, 0.3053556910838679, 0.3077451424583551, 0.30791424457097755, 0.3110058777525883, 0.31042024730682977, 0.31276046584156103, 0.31292372689503406, 0.30947408149758576, 0.31109708244978834, 0.3147997371754911, 0.3168895011670191, 0.3202592440756645, 0.31740377207727377, 0.31997914343574213, 0.31639996722506475, 0.31774922872323524, 0.3180896732347886, 0.31739270401070657, 0.3212921909758309, 0.32403042505233726, 0.32392964607681124, 0.3220358005666465, 0.3223899098983259, 0.31947982954746024, 0.3074729676530468, 0.310134494446935, 0.3143508543102507, 0.31702707805922814, 0.3188702325873223, 0.318904271926764, 0.31650940079904394, 0.31724880420808405, 0.3214690654784514, 0.3198311190254934, 0.3212121611296921, 0.3184179065142706, 0.31643438295883125, 0.31345559512746163, 0.3144039256810852, 0.31424969076190945, 0.31614215680544844, 0.31283056595200137, 0.3094653266050587, 0.3134252334242453, 0.3126989314592301, 0.3116056443507104, 0.3108968717310127, 0.3103159033668218, 0.3128940069122075, 0.3109913638201606, 0.3113594134317919, 0.3080808895639663, 0.31094762302940887, 0.3114335539854544, 0.30815597077804907, 0.30445669768229533, 0.30803218246456704, 0.3087476958763317, 0.3064601192923024, 0.3053461519186432, 0.3029587093172702, 0.2952905191121905, 0.2964109625451054, 0.29965358055700425, 0.30107607703380945, 0.3009871297720863, 0.30137819480205363, 0.3038026735708353, 0.3019837744131238, 0.30151449353218734, 0.29685594383857705, 0.28992408114850904, 0.28988456039126115, 0.28288544664760995, 0.28534074222895084, 0.2881343228443811, 0.28544260155570494, 0.2826075115516828, 0.2809458550994947, 0.2803835535861056, 0.2844208097551517, 0.28816559321523383, 0.28883516144756605, 0.28944423528185026, 0.2912334257726726, 0.2899898364226512, 0.29360708462893786, 0.29475538931187806, 0.29750267764179106, 0.29720548638178157, 0.29839103510507686, 0.29777883757999735, 0.29657588758923603, 0.29640325241990145, 0.29802780237611853, 0.2954074852920002, 0.29527745519415477, 0.2961655314851671, 0.2966166059522274, 0.2997149507637132, 0.30135665335594797, 0.2998742385450825, 0.3012049258486578, 0.29972967536186995, 0.29689336734605204, 0.29875973327102684, 0.29858426231144775, 0.3010179358433948, 0.30012465159970786, 0.3003014838032929, 0.29818674198426925, 0.30008620385567514, 0.30011856990575203, 0.30195740922882747, 0.30161621571510366, 0.30267898484761896, 0.3034382034277831, 0.3016765450949645, 0.3014567114381114, 0.2999025051601804, 0.3007460581941673, 0.3011186375721591, 0.3034010364523146, 0.30469054660738204, 0.30462473196783885, 0.30580833971426186, 0.30522921038088696, 0.3056683678331476, 0.30773239216265214, 0.3099352472335559, 0.30886121721602694, 0.30674129790014015, 0.3066476237844547, 0.3084117833115243, 0.3095262037986063, 0.30669307419780983, 0.3059457162738108, 0.30210901987274946, 0.30080245745893797, 0.30025164869782534, 0.3020807529847082, 0.30351165984985984, 0.29749652801254545, 0.29594500747472363, 0.29669666940571804, 0.28907556407684454, 0.27474493797742083, 0.26885905109235453, 0.26996076411898656, 0.26410278241892476, 0.256772673884537, 0.26113705040395924, 0.2679061994078237, 0.27026142074767995, 0.26937404990116764, 0.2741400593714683, 0.2754887416396173, 0.2779292951403116, 0.27593851789436186, 0.2788615386439895, 0.2805993653449923, 0.2781303137120993, 0.28023574969622617, 0.2835002578067161, 0.2846892889523565, 0.279685408147789, 0.2757321593593043, 0.27957191327326125, 0.2766952340493604, 0.2813708371507418, 0.283558991176945, 0.2840069386841311, 0.2870376098297648, 0.2872518867546227, 0.28884456965221517, 0.28930674085414576, 0.2906385415073736, 0.28990928089805557, 0.2887732352225498, 0.28684142909708327, 0.28328456257637796, 0.2770964138926501, 0.28279926091341134, 0.28263247850123036, 0.28228097187955203, 0.28458993814176714, 0.2860575503229778, 0.2867650564525494, 0.28620879055370235, 0.28219186528838663, 0.2833128881482349, 0.28317493650332076, 0.28419983808070415, 0.28528320610202873, 0.2848007806550624, 0.28516866730963464, 0.28572682808091376, 0.2882859435187715, 0.28850246203998736, 0.2903153433410283, 0.29061957334201755, 0.29131448129142146, 0.29002191475871236, 0.2925463124109277, 0.2908673826464153, 0.29286574549617495, 0.2950288069804591, 0.2958755570018939, 0.2971664071877988, 0.29452790546143787, 0.2966190659163828, 0.2966638426276592, 0.29669948702100163, 0.29725572021664415, 0.2982737501988408, 0.2962086764341202, 0.2981880463709771, 0.29632759497278993, 0.29711873759645807, 0.29821166964306584, 0.2973204093540894, 0.29535332485467836, 0.2982129164081446, 0.29685217793956487, 0.2968892831790357, 0.2968047352259416, 0.29529291433207777, 0.29476890255238924, 0.29148969415975545, 0.28878511715017596, 0.2917929003292899, 0.29149576280346406, 0.28977534748562817, 0.28676973437989683, 0.28751503491478064, 0.29092278220735474, 0.29157266179156305, 0.29130665453850585, 0.2915982584390446, 0.2933994260915545, 0.2929386945475206, 0.2924930480666391, 0.2907381940357433, 0.29299975881096607, 0.29338964916436194, 0.29433073362087164, 0.29539748696750123, 0.2952781239489423, 0.2953177716749295, 0.2954563918859343, 0.29555944241343607, 0.29606579217926765, 0.2954883316276734, 0.29643252479061216, 0.296944617003046, 0.29859726606281556, 0.29948103750527366, 0.3011413553032329, 0.2981630835275126, 0.29704035854215777, 0.295967865336088, 0.2967415695992865, 0.2969539714205925, 0.29789316749129074, 0.2980579289443372, 0.2977904307355695, 0.2933340081408178, 0.2940335376878917, 0.28813426779546847]}, {\"name\": \"EW\", \"type\": \"scatter\", \"x\": [\"1945-01-01T00:00:00\", \"1945-02-01T00:00:00\", \"1945-03-01T00:00:00\", \"1945-04-01T00:00:00\", \"1945-05-01T00:00:00\", \"1945-06-01T00:00:00\", \"1945-07-01T00:00:00\", \"1945-08-01T00:00:00\", \"1945-09-01T00:00:00\", \"1945-10-01T00:00:00\", \"1945-11-01T00:00:00\", \"1945-12-01T00:00:00\", \"1946-01-01T00:00:00\", \"1946-02-01T00:00:00\", \"1946-03-01T00:00:00\", \"1946-04-01T00:00:00\", \"1946-05-01T00:00:00\", \"1946-06-01T00:00:00\", \"1946-07-01T00:00:00\", \"1946-08-01T00:00:00\", \"1946-09-01T00:00:00\", \"1946-10-01T00:00:00\", \"1946-11-01T00:00:00\", \"1946-12-01T00:00:00\", \"1947-01-01T00:00:00\", \"1947-02-01T00:00:00\", \"1947-03-01T00:00:00\", \"1947-04-01T00:00:00\", \"1947-05-01T00:00:00\", \"1947-06-01T00:00:00\", \"1947-07-01T00:00:00\", \"1947-08-01T00:00:00\", \"1947-09-01T00:00:00\", \"1947-10-01T00:00:00\", \"1947-11-01T00:00:00\", \"1947-12-01T00:00:00\", \"1948-01-01T00:00:00\", \"1948-02-01T00:00:00\", \"1948-03-01T00:00:00\", \"1948-04-01T00:00:00\", \"1948-05-01T00:00:00\", \"1948-06-01T00:00:00\", \"1948-07-01T00:00:00\", \"1948-08-01T00:00:00\", \"1948-09-01T00:00:00\", \"1948-10-01T00:00:00\", \"1948-11-01T00:00:00\", \"1948-12-01T00:00:00\", \"1949-01-01T00:00:00\", \"1949-02-01T00:00:00\", \"1949-03-01T00:00:00\", \"1949-04-01T00:00:00\", \"1949-05-01T00:00:00\", \"1949-06-01T00:00:00\", \"1949-07-01T00:00:00\", \"1949-08-01T00:00:00\", \"1949-09-01T00:00:00\", \"1949-10-01T00:00:00\", \"1949-11-01T00:00:00\", \"1949-12-01T00:00:00\", \"1950-01-01T00:00:00\", \"1950-02-01T00:00:00\", \"1950-03-01T00:00:00\", \"1950-04-01T00:00:00\", \"1950-05-01T00:00:00\", \"1950-06-01T00:00:00\", \"1950-07-01T00:00:00\", \"1950-08-01T00:00:00\", \"1950-09-01T00:00:00\", \"1950-10-01T00:00:00\", \"1950-11-01T00:00:00\", \"1950-12-01T00:00:00\", \"1951-01-01T00:00:00\", \"1951-02-01T00:00:00\", \"1951-03-01T00:00:00\", \"1951-04-01T00:00:00\", \"1951-05-01T00:00:00\", \"1951-06-01T00:00:00\", \"1951-07-01T00:00:00\", \"1951-08-01T00:00:00\", \"1951-09-01T00:00:00\", \"1951-10-01T00:00:00\", \"1951-11-01T00:00:00\", \"1951-12-01T00:00:00\", \"1952-01-01T00:00:00\", \"1952-02-01T00:00:00\", \"1952-03-01T00:00:00\", \"1952-04-01T00:00:00\", \"1952-05-01T00:00:00\", \"1952-06-01T00:00:00\", \"1952-07-01T00:00:00\", \"1952-08-01T00:00:00\", \"1952-09-01T00:00:00\", \"1952-10-01T00:00:00\", \"1952-11-01T00:00:00\", \"1952-12-01T00:00:00\", \"1953-01-01T00:00:00\", \"1953-02-01T00:00:00\", \"1953-03-01T00:00:00\", \"1953-04-01T00:00:00\", \"1953-05-01T00:00:00\", \"1953-06-01T00:00:00\", \"1953-07-01T00:00:00\", \"1953-08-01T00:00:00\", \"1953-09-01T00:00:00\", \"1953-10-01T00:00:00\", \"1953-11-01T00:00:00\", \"1953-12-01T00:00:00\", \"1954-01-01T00:00:00\", \"1954-02-01T00:00:00\", \"1954-03-01T00:00:00\", \"1954-04-01T00:00:00\", \"1954-05-01T00:00:00\", \"1954-06-01T00:00:00\", \"1954-07-01T00:00:00\", \"1954-08-01T00:00:00\", \"1954-09-01T00:00:00\", \"1954-10-01T00:00:00\", \"1954-11-01T00:00:00\", \"1954-12-01T00:00:00\", \"1955-01-01T00:00:00\", \"1955-02-01T00:00:00\", \"1955-03-01T00:00:00\", \"1955-04-01T00:00:00\", \"1955-05-01T00:00:00\", \"1955-06-01T00:00:00\", \"1955-07-01T00:00:00\", \"1955-08-01T00:00:00\", \"1955-09-01T00:00:00\", \"1955-10-01T00:00:00\", \"1955-11-01T00:00:00\", \"1955-12-01T00:00:00\", \"1956-01-01T00:00:00\", \"1956-02-01T00:00:00\", \"1956-03-01T00:00:00\", \"1956-04-01T00:00:00\", \"1956-05-01T00:00:00\", \"1956-06-01T00:00:00\", \"1956-07-01T00:00:00\", \"1956-08-01T00:00:00\", \"1956-09-01T00:00:00\", \"1956-10-01T00:00:00\", \"1956-11-01T00:00:00\", \"1956-12-01T00:00:00\", \"1957-01-01T00:00:00\", \"1957-02-01T00:00:00\", \"1957-03-01T00:00:00\", \"1957-04-01T00:00:00\", \"1957-05-01T00:00:00\", \"1957-06-01T00:00:00\", \"1957-07-01T00:00:00\", \"1957-08-01T00:00:00\", \"1957-09-01T00:00:00\", \"1957-10-01T00:00:00\", \"1957-11-01T00:00:00\", \"1957-12-01T00:00:00\", \"1958-01-01T00:00:00\", \"1958-02-01T00:00:00\", \"1958-03-01T00:00:00\", \"1958-04-01T00:00:00\", \"1958-05-01T00:00:00\", \"1958-06-01T00:00:00\", \"1958-07-01T00:00:00\", \"1958-08-01T00:00:00\", \"1958-09-01T00:00:00\", \"1958-10-01T00:00:00\", \"1958-11-01T00:00:00\", \"1958-12-01T00:00:00\", \"1959-01-01T00:00:00\", \"1959-02-01T00:00:00\", \"1959-03-01T00:00:00\", \"1959-04-01T00:00:00\", \"1959-05-01T00:00:00\", \"1959-06-01T00:00:00\", \"1959-07-01T00:00:00\", \"1959-08-01T00:00:00\", \"1959-09-01T00:00:00\", \"1959-10-01T00:00:00\", \"1959-11-01T00:00:00\", \"1959-12-01T00:00:00\", \"1960-01-01T00:00:00\", \"1960-02-01T00:00:00\", \"1960-03-01T00:00:00\", \"1960-04-01T00:00:00\", \"1960-05-01T00:00:00\", \"1960-06-01T00:00:00\", \"1960-07-01T00:00:00\", \"1960-08-01T00:00:00\", \"1960-09-01T00:00:00\", \"1960-10-01T00:00:00\", \"1960-11-01T00:00:00\", \"1960-12-01T00:00:00\", \"1961-01-01T00:00:00\", \"1961-02-01T00:00:00\", \"1961-03-01T00:00:00\", \"1961-04-01T00:00:00\", \"1961-05-01T00:00:00\", \"1961-06-01T00:00:00\", \"1961-07-01T00:00:00\", \"1961-08-01T00:00:00\", \"1961-09-01T00:00:00\", \"1961-10-01T00:00:00\", \"1961-11-01T00:00:00\", \"1961-12-01T00:00:00\", \"1962-01-01T00:00:00\", \"1962-02-01T00:00:00\", \"1962-03-01T00:00:00\", \"1962-04-01T00:00:00\", \"1962-05-01T00:00:00\", \"1962-06-01T00:00:00\", \"1962-07-01T00:00:00\", \"1962-08-01T00:00:00\", \"1962-09-01T00:00:00\", \"1962-10-01T00:00:00\", \"1962-11-01T00:00:00\", \"1962-12-01T00:00:00\", \"1963-01-01T00:00:00\", \"1963-02-01T00:00:00\", \"1963-03-01T00:00:00\", \"1963-04-01T00:00:00\", \"1963-05-01T00:00:00\", \"1963-06-01T00:00:00\", \"1963-07-01T00:00:00\", \"1963-08-01T00:00:00\", \"1963-09-01T00:00:00\", \"1963-10-01T00:00:00\", \"1963-11-01T00:00:00\", \"1963-12-01T00:00:00\", \"1964-01-01T00:00:00\", \"1964-02-01T00:00:00\", \"1964-03-01T00:00:00\", \"1964-04-01T00:00:00\", \"1964-05-01T00:00:00\", \"1964-06-01T00:00:00\", \"1964-07-01T00:00:00\", \"1964-08-01T00:00:00\", \"1964-09-01T00:00:00\", \"1964-10-01T00:00:00\", \"1964-11-01T00:00:00\", \"1964-12-01T00:00:00\", \"1965-01-01T00:00:00\", \"1965-02-01T00:00:00\", \"1965-03-01T00:00:00\", \"1965-04-01T00:00:00\", \"1965-05-01T00:00:00\", \"1965-06-01T00:00:00\", \"1965-07-01T00:00:00\", \"1965-08-01T00:00:00\", \"1965-09-01T00:00:00\", \"1965-10-01T00:00:00\", \"1965-11-01T00:00:00\", \"1965-12-01T00:00:00\", \"1966-01-01T00:00:00\", \"1966-02-01T00:00:00\", \"1966-03-01T00:00:00\", \"1966-04-01T00:00:00\", \"1966-05-01T00:00:00\", \"1966-06-01T00:00:00\", \"1966-07-01T00:00:00\", \"1966-08-01T00:00:00\", \"1966-09-01T00:00:00\", \"1966-10-01T00:00:00\", \"1966-11-01T00:00:00\", \"1966-12-01T00:00:00\", \"1967-01-01T00:00:00\", \"1967-02-01T00:00:00\", \"1967-03-01T00:00:00\", \"1967-04-01T00:00:00\", \"1967-05-01T00:00:00\", \"1967-06-01T00:00:00\", \"1967-07-01T00:00:00\", \"1967-08-01T00:00:00\", \"1967-09-01T00:00:00\", \"1967-10-01T00:00:00\", \"1967-11-01T00:00:00\", \"1967-12-01T00:00:00\", \"1968-01-01T00:00:00\", \"1968-02-01T00:00:00\", \"1968-03-01T00:00:00\", \"1968-04-01T00:00:00\", \"1968-05-01T00:00:00\", \"1968-06-01T00:00:00\", \"1968-07-01T00:00:00\", \"1968-08-01T00:00:00\", \"1968-09-01T00:00:00\", \"1968-10-01T00:00:00\", \"1968-11-01T00:00:00\", \"1968-12-01T00:00:00\", \"1969-01-01T00:00:00\", \"1969-02-01T00:00:00\", \"1969-03-01T00:00:00\", \"1969-04-01T00:00:00\", \"1969-05-01T00:00:00\", \"1969-06-01T00:00:00\", \"1969-07-01T00:00:00\", \"1969-08-01T00:00:00\", \"1969-09-01T00:00:00\", \"1969-10-01T00:00:00\", \"1969-11-01T00:00:00\", \"1969-12-01T00:00:00\", \"1970-01-01T00:00:00\", \"1970-02-01T00:00:00\", \"1970-03-01T00:00:00\", \"1970-04-01T00:00:00\", \"1970-05-01T00:00:00\", \"1970-06-01T00:00:00\", \"1970-07-01T00:00:00\", \"1970-08-01T00:00:00\", \"1970-09-01T00:00:00\", \"1970-10-01T00:00:00\", \"1970-11-01T00:00:00\", \"1970-12-01T00:00:00\", \"1971-01-01T00:00:00\", \"1971-02-01T00:00:00\", \"1971-03-01T00:00:00\", \"1971-04-01T00:00:00\", \"1971-05-01T00:00:00\", \"1971-06-01T00:00:00\", \"1971-07-01T00:00:00\", \"1971-08-01T00:00:00\", \"1971-09-01T00:00:00\", \"1971-10-01T00:00:00\", \"1971-11-01T00:00:00\", \"1971-12-01T00:00:00\", \"1972-01-01T00:00:00\", \"1972-02-01T00:00:00\", \"1972-03-01T00:00:00\", \"1972-04-01T00:00:00\", \"1972-05-01T00:00:00\", \"1972-06-01T00:00:00\", \"1972-07-01T00:00:00\", \"1972-08-01T00:00:00\", \"1972-09-01T00:00:00\", \"1972-10-01T00:00:00\", \"1972-11-01T00:00:00\", \"1972-12-01T00:00:00\", \"1973-01-01T00:00:00\", \"1973-02-01T00:00:00\", \"1973-03-01T00:00:00\", \"1973-04-01T00:00:00\", \"1973-05-01T00:00:00\", \"1973-06-01T00:00:00\", \"1973-07-01T00:00:00\", \"1973-08-01T00:00:00\", \"1973-09-01T00:00:00\", \"1973-10-01T00:00:00\", \"1973-11-01T00:00:00\", \"1973-12-01T00:00:00\", \"1974-01-01T00:00:00\", \"1974-02-01T00:00:00\", \"1974-03-01T00:00:00\", \"1974-04-01T00:00:00\", \"1974-05-01T00:00:00\", \"1974-06-01T00:00:00\", \"1974-07-01T00:00:00\", \"1974-08-01T00:00:00\", \"1974-09-01T00:00:00\", \"1974-10-01T00:00:00\", \"1974-11-01T00:00:00\", \"1974-12-01T00:00:00\", \"1975-01-01T00:00:00\", \"1975-02-01T00:00:00\", \"1975-03-01T00:00:00\", \"1975-04-01T00:00:00\", \"1975-05-01T00:00:00\", \"1975-06-01T00:00:00\", \"1975-07-01T00:00:00\", \"1975-08-01T00:00:00\", \"1975-09-01T00:00:00\", \"1975-10-01T00:00:00\", \"1975-11-01T00:00:00\", \"1975-12-01T00:00:00\", \"1976-01-01T00:00:00\", \"1976-02-01T00:00:00\", \"1976-03-01T00:00:00\", \"1976-04-01T00:00:00\", \"1976-05-01T00:00:00\", \"1976-06-01T00:00:00\", \"1976-07-01T00:00:00\", \"1976-08-01T00:00:00\", \"1976-09-01T00:00:00\", \"1976-10-01T00:00:00\", \"1976-11-01T00:00:00\", \"1976-12-01T00:00:00\", \"1977-01-01T00:00:00\", \"1977-02-01T00:00:00\", \"1977-03-01T00:00:00\", \"1977-04-01T00:00:00\", \"1977-05-01T00:00:00\", \"1977-06-01T00:00:00\", \"1977-07-01T00:00:00\", \"1977-08-01T00:00:00\", \"1977-09-01T00:00:00\", \"1977-10-01T00:00:00\", \"1977-11-01T00:00:00\", \"1977-12-01T00:00:00\", \"1978-01-01T00:00:00\", \"1978-02-01T00:00:00\", \"1978-03-01T00:00:00\", \"1978-04-01T00:00:00\", \"1978-05-01T00:00:00\", \"1978-06-01T00:00:00\", \"1978-07-01T00:00:00\", \"1978-08-01T00:00:00\", \"1978-09-01T00:00:00\", \"1978-10-01T00:00:00\", \"1978-11-01T00:00:00\", \"1978-12-01T00:00:00\", \"1979-01-01T00:00:00\", \"1979-02-01T00:00:00\", \"1979-03-01T00:00:00\", \"1979-04-01T00:00:00\", \"1979-05-01T00:00:00\", \"1979-06-01T00:00:00\", \"1979-07-01T00:00:00\", \"1979-08-01T00:00:00\", \"1979-09-01T00:00:00\", \"1979-10-01T00:00:00\", \"1979-11-01T00:00:00\", \"1979-12-01T00:00:00\", \"1980-01-01T00:00:00\", \"1980-02-01T00:00:00\", \"1980-03-01T00:00:00\", \"1980-04-01T00:00:00\", \"1980-05-01T00:00:00\", \"1980-06-01T00:00:00\", \"1980-07-01T00:00:00\", \"1980-08-01T00:00:00\", \"1980-09-01T00:00:00\", \"1980-10-01T00:00:00\", \"1980-11-01T00:00:00\", \"1980-12-01T00:00:00\", \"1981-01-01T00:00:00\", \"1981-02-01T00:00:00\", \"1981-03-01T00:00:00\", \"1981-04-01T00:00:00\", \"1981-05-01T00:00:00\", \"1981-06-01T00:00:00\", \"1981-07-01T00:00:00\", \"1981-08-01T00:00:00\", \"1981-09-01T00:00:00\", \"1981-10-01T00:00:00\", \"1981-11-01T00:00:00\", \"1981-12-01T00:00:00\", \"1982-01-01T00:00:00\", \"1982-02-01T00:00:00\", \"1982-03-01T00:00:00\", \"1982-04-01T00:00:00\", \"1982-05-01T00:00:00\", \"1982-06-01T00:00:00\", \"1982-07-01T00:00:00\", \"1982-08-01T00:00:00\", \"1982-09-01T00:00:00\", \"1982-10-01T00:00:00\", \"1982-11-01T00:00:00\", \"1982-12-01T00:00:00\", \"1983-01-01T00:00:00\", \"1983-02-01T00:00:00\", \"1983-03-01T00:00:00\", \"1983-04-01T00:00:00\", \"1983-05-01T00:00:00\", \"1983-06-01T00:00:00\", \"1983-07-01T00:00:00\", \"1983-08-01T00:00:00\", \"1983-09-01T00:00:00\", \"1983-10-01T00:00:00\", \"1983-11-01T00:00:00\", \"1983-12-01T00:00:00\", \"1984-01-01T00:00:00\", \"1984-02-01T00:00:00\", \"1984-03-01T00:00:00\", \"1984-04-01T00:00:00\", \"1984-05-01T00:00:00\", \"1984-06-01T00:00:00\", \"1984-07-01T00:00:00\", \"1984-08-01T00:00:00\", \"1984-09-01T00:00:00\", \"1984-10-01T00:00:00\", \"1984-11-01T00:00:00\", \"1984-12-01T00:00:00\", \"1985-01-01T00:00:00\", \"1985-02-01T00:00:00\", \"1985-03-01T00:00:00\", \"1985-04-01T00:00:00\", \"1985-05-01T00:00:00\", \"1985-06-01T00:00:00\", \"1985-07-01T00:00:00\", \"1985-08-01T00:00:00\", \"1985-09-01T00:00:00\", \"1985-10-01T00:00:00\", \"1985-11-01T00:00:00\", \"1985-12-01T00:00:00\", \"1986-01-01T00:00:00\", \"1986-02-01T00:00:00\", \"1986-03-01T00:00:00\", \"1986-04-01T00:00:00\", \"1986-05-01T00:00:00\", \"1986-06-01T00:00:00\", \"1986-07-01T00:00:00\", \"1986-08-01T00:00:00\", \"1986-09-01T00:00:00\", \"1986-10-01T00:00:00\", \"1986-11-01T00:00:00\", \"1986-12-01T00:00:00\", \"1987-01-01T00:00:00\", \"1987-02-01T00:00:00\", \"1987-03-01T00:00:00\", \"1987-04-01T00:00:00\", \"1987-05-01T00:00:00\", \"1987-06-01T00:00:00\", \"1987-07-01T00:00:00\", \"1987-08-01T00:00:00\", \"1987-09-01T00:00:00\", \"1987-10-01T00:00:00\", \"1987-11-01T00:00:00\", \"1987-12-01T00:00:00\", \"1988-01-01T00:00:00\", \"1988-02-01T00:00:00\", \"1988-03-01T00:00:00\", \"1988-04-01T00:00:00\", \"1988-05-01T00:00:00\", \"1988-06-01T00:00:00\", \"1988-07-01T00:00:00\", \"1988-08-01T00:00:00\", \"1988-09-01T00:00:00\", \"1988-10-01T00:00:00\", \"1988-11-01T00:00:00\", \"1988-12-01T00:00:00\", \"1989-01-01T00:00:00\", \"1989-02-01T00:00:00\", \"1989-03-01T00:00:00\", \"1989-04-01T00:00:00\", \"1989-05-01T00:00:00\", \"1989-06-01T00:00:00\", \"1989-07-01T00:00:00\", \"1989-08-01T00:00:00\", \"1989-09-01T00:00:00\", \"1989-10-01T00:00:00\", \"1989-11-01T00:00:00\", \"1989-12-01T00:00:00\", \"1990-01-01T00:00:00\", \"1990-02-01T00:00:00\", \"1990-03-01T00:00:00\", \"1990-04-01T00:00:00\", \"1990-05-01T00:00:00\", \"1990-06-01T00:00:00\", \"1990-07-01T00:00:00\", \"1990-08-01T00:00:00\", \"1990-09-01T00:00:00\", \"1990-10-01T00:00:00\", \"1990-11-01T00:00:00\", \"1990-12-01T00:00:00\", \"1991-01-01T00:00:00\", \"1991-02-01T00:00:00\", \"1991-03-01T00:00:00\", \"1991-04-01T00:00:00\", \"1991-05-01T00:00:00\", \"1991-06-01T00:00:00\", \"1991-07-01T00:00:00\", \"1991-08-01T00:00:00\", \"1991-09-01T00:00:00\", \"1991-10-01T00:00:00\", \"1991-11-01T00:00:00\", \"1991-12-01T00:00:00\", \"1992-01-01T00:00:00\", \"1992-02-01T00:00:00\", \"1992-03-01T00:00:00\", \"1992-04-01T00:00:00\", \"1992-05-01T00:00:00\", \"1992-06-01T00:00:00\", \"1992-07-01T00:00:00\", \"1992-08-01T00:00:00\", \"1992-09-01T00:00:00\", \"1992-10-01T00:00:00\", \"1992-11-01T00:00:00\", \"1992-12-01T00:00:00\", \"1993-01-01T00:00:00\", \"1993-02-01T00:00:00\", \"1993-03-01T00:00:00\", \"1993-04-01T00:00:00\", \"1993-05-01T00:00:00\", \"1993-06-01T00:00:00\", \"1993-07-01T00:00:00\", \"1993-08-01T00:00:00\", \"1993-09-01T00:00:00\", \"1993-10-01T00:00:00\", \"1993-11-01T00:00:00\", \"1993-12-01T00:00:00\", \"1994-01-01T00:00:00\", \"1994-02-01T00:00:00\", \"1994-03-01T00:00:00\", \"1994-04-01T00:00:00\", \"1994-05-01T00:00:00\", \"1994-06-01T00:00:00\", \"1994-07-01T00:00:00\", \"1994-08-01T00:00:00\", \"1994-09-01T00:00:00\", \"1994-10-01T00:00:00\", \"1994-11-01T00:00:00\", \"1994-12-01T00:00:00\", \"1995-01-01T00:00:00\", \"1995-02-01T00:00:00\", \"1995-03-01T00:00:00\", \"1995-04-01T00:00:00\", \"1995-05-01T00:00:00\", \"1995-06-01T00:00:00\", \"1995-07-01T00:00:00\", \"1995-08-01T00:00:00\", \"1995-09-01T00:00:00\", \"1995-10-01T00:00:00\", \"1995-11-01T00:00:00\", \"1995-12-01T00:00:00\", \"1996-01-01T00:00:00\", \"1996-02-01T00:00:00\", \"1996-03-01T00:00:00\", \"1996-04-01T00:00:00\", \"1996-05-01T00:00:00\", \"1996-06-01T00:00:00\", \"1996-07-01T00:00:00\", \"1996-08-01T00:00:00\", \"1996-09-01T00:00:00\", \"1996-10-01T00:00:00\", \"1996-11-01T00:00:00\", \"1996-12-01T00:00:00\", \"1997-01-01T00:00:00\", \"1997-02-01T00:00:00\", \"1997-03-01T00:00:00\", \"1997-04-01T00:00:00\", \"1997-05-01T00:00:00\", \"1997-06-01T00:00:00\", \"1997-07-01T00:00:00\", \"1997-08-01T00:00:00\", \"1997-09-01T00:00:00\", \"1997-10-01T00:00:00\", \"1997-11-01T00:00:00\", \"1997-12-01T00:00:00\", \"1998-01-01T00:00:00\", \"1998-02-01T00:00:00\", \"1998-03-01T00:00:00\", \"1998-04-01T00:00:00\", \"1998-05-01T00:00:00\", \"1998-06-01T00:00:00\", \"1998-07-01T00:00:00\", \"1998-08-01T00:00:00\", \"1998-09-01T00:00:00\", \"1998-10-01T00:00:00\", \"1998-11-01T00:00:00\", \"1998-12-01T00:00:00\", \"1999-01-01T00:00:00\", \"1999-02-01T00:00:00\", \"1999-03-01T00:00:00\", \"1999-04-01T00:00:00\", \"1999-05-01T00:00:00\", \"1999-06-01T00:00:00\", \"1999-07-01T00:00:00\", \"1999-08-01T00:00:00\", \"1999-09-01T00:00:00\", \"1999-10-01T00:00:00\", \"1999-11-01T00:00:00\", \"1999-12-01T00:00:00\", \"2000-01-01T00:00:00\", \"2000-02-01T00:00:00\", \"2000-03-01T00:00:00\", \"2000-04-01T00:00:00\", \"2000-05-01T00:00:00\", \"2000-06-01T00:00:00\", \"2000-07-01T00:00:00\", \"2000-08-01T00:00:00\", \"2000-09-01T00:00:00\", \"2000-10-01T00:00:00\", \"2000-11-01T00:00:00\", \"2000-12-01T00:00:00\", \"2001-01-01T00:00:00\", \"2001-02-01T00:00:00\", \"2001-03-01T00:00:00\", \"2001-04-01T00:00:00\", \"2001-05-01T00:00:00\", \"2001-06-01T00:00:00\", \"2001-07-01T00:00:00\", \"2001-08-01T00:00:00\", \"2001-09-01T00:00:00\", \"2001-10-01T00:00:00\", \"2001-11-01T00:00:00\", \"2001-12-01T00:00:00\", \"2002-01-01T00:00:00\", \"2002-02-01T00:00:00\", \"2002-03-01T00:00:00\", \"2002-04-01T00:00:00\", \"2002-05-01T00:00:00\", \"2002-06-01T00:00:00\", \"2002-07-01T00:00:00\", \"2002-08-01T00:00:00\", \"2002-09-01T00:00:00\", \"2002-10-01T00:00:00\", \"2002-11-01T00:00:00\", \"2002-12-01T00:00:00\", \"2003-01-01T00:00:00\", \"2003-02-01T00:00:00\", \"2003-03-01T00:00:00\", \"2003-04-01T00:00:00\", \"2003-05-01T00:00:00\", \"2003-06-01T00:00:00\", \"2003-07-01T00:00:00\", \"2003-08-01T00:00:00\", \"2003-09-01T00:00:00\", \"2003-10-01T00:00:00\", \"2003-11-01T00:00:00\", \"2003-12-01T00:00:00\", \"2004-01-01T00:00:00\", \"2004-02-01T00:00:00\", \"2004-03-01T00:00:00\", \"2004-04-01T00:00:00\", \"2004-05-01T00:00:00\", \"2004-06-01T00:00:00\", \"2004-07-01T00:00:00\", \"2004-08-01T00:00:00\", \"2004-09-01T00:00:00\", \"2004-10-01T00:00:00\", \"2004-11-01T00:00:00\", \"2004-12-01T00:00:00\", \"2005-01-01T00:00:00\", \"2005-02-01T00:00:00\", \"2005-03-01T00:00:00\", \"2005-04-01T00:00:00\", \"2005-05-01T00:00:00\", \"2005-06-01T00:00:00\", \"2005-07-01T00:00:00\", \"2005-08-01T00:00:00\", \"2005-09-01T00:00:00\", \"2005-10-01T00:00:00\", \"2005-11-01T00:00:00\", \"2005-12-01T00:00:00\", \"2006-01-01T00:00:00\", \"2006-02-01T00:00:00\", \"2006-03-01T00:00:00\", \"2006-04-01T00:00:00\", \"2006-05-01T00:00:00\", \"2006-06-01T00:00:00\", \"2006-07-01T00:00:00\", \"2006-08-01T00:00:00\", \"2006-09-01T00:00:00\", \"2006-10-01T00:00:00\", \"2006-11-01T00:00:00\", \"2006-12-01T00:00:00\", \"2007-01-01T00:00:00\", \"2007-02-01T00:00:00\", \"2007-03-01T00:00:00\", \"2007-04-01T00:00:00\", \"2007-05-01T00:00:00\", \"2007-06-01T00:00:00\", \"2007-07-01T00:00:00\", \"2007-08-01T00:00:00\", \"2007-09-01T00:00:00\", \"2007-10-01T00:00:00\", \"2007-11-01T00:00:00\", \"2007-12-01T00:00:00\", \"2008-01-01T00:00:00\", \"2008-02-01T00:00:00\", \"2008-03-01T00:00:00\", \"2008-04-01T00:00:00\", \"2008-05-01T00:00:00\", \"2008-06-01T00:00:00\", \"2008-07-01T00:00:00\", \"2008-08-01T00:00:00\", \"2008-09-01T00:00:00\", \"2008-10-01T00:00:00\", \"2008-11-01T00:00:00\", \"2008-12-01T00:00:00\", \"2009-01-01T00:00:00\", \"2009-02-01T00:00:00\", \"2009-03-01T00:00:00\", \"2009-04-01T00:00:00\", \"2009-05-01T00:00:00\", \"2009-06-01T00:00:00\", \"2009-07-01T00:00:00\", \"2009-08-01T00:00:00\", \"2009-09-01T00:00:00\", \"2009-10-01T00:00:00\", \"2009-11-01T00:00:00\", \"2009-12-01T00:00:00\", \"2010-01-01T00:00:00\", \"2010-02-01T00:00:00\", \"2010-03-01T00:00:00\", \"2010-04-01T00:00:00\", \"2010-05-01T00:00:00\", \"2010-06-01T00:00:00\", \"2010-07-01T00:00:00\", \"2010-08-01T00:00:00\", \"2010-09-01T00:00:00\", \"2010-10-01T00:00:00\", \"2010-11-01T00:00:00\", \"2010-12-01T00:00:00\", \"2011-01-01T00:00:00\", \"2011-02-01T00:00:00\", \"2011-03-01T00:00:00\", \"2011-04-01T00:00:00\", \"2011-05-01T00:00:00\", \"2011-06-01T00:00:00\", \"2011-07-01T00:00:00\", \"2011-08-01T00:00:00\", \"2011-09-01T00:00:00\", \"2011-10-01T00:00:00\", \"2011-11-01T00:00:00\", \"2011-12-01T00:00:00\", \"2012-01-01T00:00:00\", \"2012-02-01T00:00:00\", \"2012-03-01T00:00:00\", \"2012-04-01T00:00:00\", \"2012-05-01T00:00:00\", \"2012-06-01T00:00:00\", \"2012-07-01T00:00:00\", \"2012-08-01T00:00:00\", \"2012-09-01T00:00:00\", \"2012-10-01T00:00:00\", \"2012-11-01T00:00:00\", \"2012-12-01T00:00:00\", \"2013-01-01T00:00:00\", \"2013-02-01T00:00:00\", \"2013-03-01T00:00:00\", \"2013-04-01T00:00:00\", \"2013-05-01T00:00:00\", \"2013-06-01T00:00:00\", \"2013-07-01T00:00:00\", \"2013-08-01T00:00:00\", \"2013-09-01T00:00:00\", \"2013-10-01T00:00:00\", \"2013-11-01T00:00:00\", \"2013-12-01T00:00:00\", \"2014-01-01T00:00:00\", \"2014-02-01T00:00:00\", \"2014-03-01T00:00:00\", \"2014-04-01T00:00:00\", \"2014-05-01T00:00:00\", \"2014-06-01T00:00:00\", \"2014-07-01T00:00:00\", \"2014-08-01T00:00:00\", \"2014-09-01T00:00:00\", \"2014-10-01T00:00:00\", \"2014-11-01T00:00:00\", \"2014-12-01T00:00:00\", \"2015-01-01T00:00:00\", \"2015-02-01T00:00:00\", \"2015-03-01T00:00:00\", \"2015-04-01T00:00:00\", \"2015-05-01T00:00:00\", \"2015-06-01T00:00:00\", \"2015-07-01T00:00:00\", \"2015-08-01T00:00:00\", \"2015-09-01T00:00:00\", \"2015-10-01T00:00:00\", \"2015-11-01T00:00:00\", \"2015-12-01T00:00:00\", \"2016-01-01T00:00:00\", \"2016-02-01T00:00:00\", \"2016-03-01T00:00:00\", \"2016-04-01T00:00:00\", \"2016-05-01T00:00:00\", \"2016-06-01T00:00:00\", \"2016-07-01T00:00:00\", \"2016-08-01T00:00:00\", \"2016-09-01T00:00:00\", \"2016-10-01T00:00:00\", \"2016-11-01T00:00:00\", \"2016-12-01T00:00:00\", \"2017-01-01T00:00:00\", \"2017-02-01T00:00:00\", \"2017-03-01T00:00:00\", \"2017-04-01T00:00:00\", \"2017-05-01T00:00:00\", \"2017-06-01T00:00:00\", \"2017-07-01T00:00:00\", \"2017-08-01T00:00:00\", \"2017-09-01T00:00:00\", \"2017-10-01T00:00:00\", \"2017-11-01T00:00:00\", \"2017-12-01T00:00:00\", \"2018-01-01T00:00:00\", \"2018-02-01T00:00:00\", \"2018-03-01T00:00:00\", \"2018-04-01T00:00:00\", \"2018-05-01T00:00:00\", \"2018-06-01T00:00:00\", \"2018-07-01T00:00:00\", \"2018-08-01T00:00:00\", \"2018-09-01T00:00:00\", \"2018-10-01T00:00:00\", \"2018-11-01T00:00:00\", \"2018-12-01T00:00:00\"], \"y\": [0.17543651398844318, 0.18439994172736174, 0.17550966750646546, 0.18548952231513335, 0.18904241567356247, 0.19220477651174722, 0.18704166713760334, 0.19481519178360884, 0.2027166351881649, 0.2110774783913546, 0.22274905020706173, 0.22551748313915917, 0.23542625777760318, 0.22602773608393736, 0.2321380872482261, 0.24007967046551365, 0.24598090907325218, 0.23780257423112605, 0.23190816451900798, 0.220627286069326, 0.20073122578767702, 0.1976137528151428, 0.19606703554070107, 0.2009034361370953, 0.20313132205342527, 0.2011572179193371, 0.19609434994222258, 0.18400218748997677, 0.17833317974338486, 0.18451056858867823, 0.19111401250449955, 0.187971766163368, 0.1876830908195662, 0.19071953334733796, 0.1858766504378212, 0.18667697256376756, 0.18330300192340906, 0.17518927037607884, 0.18477623560163095, 0.18802626965892527, 0.19763363523337502, 0.19470508291901575, 0.1870760221286434, 0.18600200393858035, 0.17978736416521263, 0.18506698306618208, 0.17117210290043022, 0.17137289975913023, 0.1736442698586598, 0.16800645616065588, 0.1742696794173438, 0.1704192866750489, 0.1646067354835457, 0.1636981304343782, 0.17009194883289683, 0.1728063283574372, 0.17783719891367822, 0.18162901001053772, 0.18169860194283668, 0.1888442908860097, 0.19246681673810842, 0.19349950244779857, 0.19231738342135205, 0.1972935056904574, 0.20004246156994637, 0.1897778513361144, 0.1924968554240391, 0.19828169127310638, 0.20438521785192557, 0.20272275259134515, 0.20471244926183324, 0.21174383385274698, 0.21905558000623115, 0.22036751723968248, 0.2155238025240841, 0.21877811163382832, 0.21501010116851452, 0.20948185983629228, 0.21512827728601575, 0.21962981589169964, 0.22110208316657812, 0.21732110120311046, 0.2174264584214161, 0.218075888022249, 0.2195251404338633, 0.21642471016915213, 0.21815197380991178, 0.21219235501167763, 0.21360872756457372, 0.21591746834317388, 0.21612846840587696, 0.21573945348301496, 0.2135118082065715, 0.21151387975791044, 0.2165635303098635, 0.2181944060818726, 0.22065677782296086, 0.22185674016903523, 0.22000284401767392, 0.2169890203342594, 0.21697429546324187, 0.2130595833441992, 0.21433757314889823, 0.20831858652902843, 0.206578639693746, 0.20920856026233706, 0.2109510926855697, 0.208961387755168, 0.21560113280172544, 0.21636803053365145, 0.21845395285221428, 0.21928111649217827, 0.2229379345824452, 0.22373329707581055, 0.23065383696682057, 0.22958594038852406, 0.2338948980683813, 0.23227060954243375, 0.24046339940694908, 0.24885387576186432, 0.24974593767211106, 0.25331304359883833, 0.25281679755631925, 0.2545065579086677, 0.25434095244356897, 0.25703073441255486, 0.2575361054037375, 0.25705680869373887, 0.25532425125943037, 0.25265198324264304, 0.25660281762283066, 0.25883355949539566, 0.2566061771745863, 0.2591983636907432, 0.26317231436395133, 0.26263173144807167, 0.25801395339341926, 0.25947000467189735, 0.2617351550866995, 0.25958972247225265, 0.25519511575444337, 0.25497890100170717, 0.254569445608924, 0.25608916783200647, 0.25664037601610107, 0.25372943139221876, 0.2556432485998591, 0.2573596477225258, 0.258772290202305, 0.25769810650562425, 0.2576075708726051, 0.2522746399867672, 0.24689056538271578, 0.23942312390181078, 0.2408273475096577, 0.23583130004421132, 0.24472103583126498, 0.24358693296816064, 0.2472800305610542, 0.24992431336623097, 0.25310414401252984, 0.2558793146173766, 0.25989969522230566, 0.26282929747956446, 0.26765547976312043, 0.27010319276476247, 0.2744117643965891, 0.277310805980943, 0.2811936036889794, 0.2835939930713727, 0.28484042964551837, 0.2873299020167206, 0.2868821428962648, 0.2870308692932195, 0.28963319503309376, 0.2878377582932424, 0.28240918398704107, 0.2844200745313899, 0.2854740523632274, 0.28707858339208664, 0.28222342213927953, 0.28257746647966203, 0.279666525911558, 0.27765566061181013, 0.2794580137917071, 0.28078882439491976, 0.27839115649877816, 0.2824651879771754, 0.27561518858667866, 0.2729185186998289, 0.27717039683706907, 0.28018344081414226, 0.2866986297915944, 0.29196078275536597, 0.2959875624665143, 0.29657116809570744, 0.2995732027270994, 0.2947004588765007, 0.2950688932938586, 0.2970354645055127, 0.2932314195371977, 0.29496217850907874, 0.29915348509634454, 0.2977585727406839, 0.2959101390288243, 0.29666682806102096, 0.29511711405752256, 0.28675505755761677, 0.2754719078703493, 0.2657420362499948, 0.27094771001988277, 0.273180209743579, 0.266071610002497, 0.2627376134487087, 0.27339172957638114, 0.27186087551840216, 0.278292868481752, 0.2759686934054964, 0.2771025192161677, 0.2800751730695902, 0.2821198897206324, 0.27999178624133003, 0.27863446067038866, 0.28195900667468926, 0.2802619333509581, 0.2812957875898917, 0.27920893393101637, 0.2781899512120674, 0.2806204015034304, 0.28250266265405005, 0.2841873610347134, 0.2838702598091286, 0.28409118550459583, 0.2843659722167568, 0.2865370335028139, 0.28548012165100883, 0.28827930030759785, 0.2895067999474167, 0.2887785219793613, 0.2873568016640213, 0.29324613887915685, 0.29563517752731355, 0.296337929542325, 0.2992174886335151, 0.2982047324701218, 0.2895900607052374, 0.29154559618269277, 0.2945268597845949, 0.29611513771136105, 0.300328446639853, 0.3034426891744069, 0.3067359919038416, 0.3114341941364923, 0.3131001547699611, 0.3117945971409933, 0.31502836298034137, 0.30615111486830116, 0.3049779247861048, 0.3029010405685781, 0.29233522797511874, 0.2899773312090886, 0.28831259771629275, 0.2912089711570084, 0.2921786002462666, 0.30448362011369823, 0.3078062965071595, 0.3124998187614662, 0.31576599910410447, 0.3144298396507476, 0.3205836267851926, 0.32645033559710046, 0.3264976449796639, 0.33091618608304285, 0.328683668909961, 0.32817523880616306, 0.3339463549686936, 0.3351111956235551, 0.32937684427391395, 0.3280242856615526, 0.33791796597123686, 0.3448434549040643, 0.3455348398527171, 0.3421938248285501, 0.3444944026529313, 0.34968226850222645, 0.3497515288068212, 0.35487193790075294, 0.35523691027408705, 0.3541654930557333, 0.3452161994965664, 0.3458800412966152, 0.3454403923800852, 0.3454042919899959, 0.33387422514427495, 0.3243241496870456, 0.3279369254716185, 0.3254925847693902, 0.3322162923779934, 0.3270686918641911, 0.3207351181295318, 0.3166783654665182, 0.3195349992748983, 0.31694550102818647, 0.3006736427686613, 0.2922690589307833, 0.28569778508220395, 0.2898309329552438, 0.29371961188514034, 0.3021867517541266, 0.2972317617374768, 0.29680094901623094, 0.3021099232218838, 0.31114575106345826, 0.3145442454757191, 0.3180895675363242, 0.3194468604448681, 0.3144587410569352, 0.3124179804256349, 0.3070585932037533, 0.30930133469633814, 0.30819992899482807, 0.30244619869166045, 0.29921960877631026, 0.30756923383716583, 0.31478804859838755, 0.3179251334436485, 0.31700929188551014, 0.31676402284383565, 0.3150483486919754, 0.3117893092458094, 0.30876248139644064, 0.30922194090606, 0.3056772036140124, 0.3039587476739604, 0.307062108382213, 0.30489863499860165, 0.30135281298741307, 0.2950110303502236, 0.2923103953509482, 0.2855990228724369, 0.27814565321893, 0.27513172636418926, 0.2820088777150298, 0.2778545572859284, 0.28302162622405963, 0.28249576284624767, 0.26650844838663434, 0.26346470703255476, 0.27209860313106765, 0.27211928769814997, 0.2722560288375755, 0.26766085650944527, 0.26200161589486926, 0.25992570340240595, 0.2557363232928554, 0.2491978542658924, 0.2419282501366787, 0.24850741347408084, 0.24460183784879247, 0.23829854564092784, 0.25423319855464704, 0.2578990962928482, 0.2630318318422458, 0.2657500374390819, 0.2705048842565455, 0.2750789691595499, 0.2736415910517659, 0.2695222911149414, 0.26661292353505633, 0.2672549698551248, 0.2683498641175607, 0.267526057219705, 0.2787805965186827, 0.2855467672183879, 0.28600032727725316, 0.28517318467483127, 0.2835015010746413, 0.2853220515479126, 0.28484202785718377, 0.2832207234521042, 0.28405291841214514, 0.2819242861865175, 0.28317508961782933, 0.28913158735699723, 0.29096470092643123, 0.29071854889017945, 0.2909134332955286, 0.29150864170066865, 0.2909242717925612, 0.29430204008135574, 0.2943167685005868, 0.2932840778031606, 0.2937123029765906, 0.29168043859206744, 0.29594918983993895, 0.29684914631156817, 0.2953711264193039, 0.2966761348673961, 0.300793585588871, 0.3056382691489665, 0.3099405906769572, 0.3099309857711435, 0.31288621681776757, 0.3179577384853053, 0.3178236448517483, 0.3016876992114067, 0.3044083090272344, 0.3047797180137445, 0.31043121131133816, 0.3085850501027746, 0.31333601450981236, 0.31453129974352995, 0.3136552365845595, 0.31660065315610414, 0.3176816406482922, 0.32215423611355054, 0.3214851807442935, 0.31359212444668855, 0.31755901343255394, 0.32154933005356223, 0.3277043649906514, 0.3262263437873109, 0.31243902654920386, 0.31526518638130424, 0.31965636021088967, 0.3219288248280964, 0.3273262560524604, 0.33101705015881616, 0.3336125982377591, 0.3353555839987446, 0.33875370827204654, 0.3355847920824003, 0.33597600957429474, 0.3360032889695505, 0.34055837656852894, 0.34194293604278897, 0.34319590019078916, 0.3421379625720285, 0.3403519683141614, 0.33436172028645283, 0.327692002255957, 0.3315282203118845, 0.3324594330351245, 0.3304761788997327, 0.32892116813459515, 0.3256746319712904, 0.3249169412036225, 0.3281167822222596, 0.32587849723322504, 0.32376744109910177, 0.3227138338628187, 0.32653748175514796, 0.3283445354481694, 0.3354606810912469, 0.3405370533393992, 0.3414844125928394, 0.3474469560652731, 0.3504747184852517, 0.3532681776473723, 0.357734276456058, 0.3624698411374347, 0.3652564123710956, 0.36354180165361927, 0.36085030650009703, 0.36072684149475104, 0.3561981260515893, 0.3579846883933989, 0.3562436388748463, 0.3558070619413246, 0.35134807436490834, 0.3514220067034851, 0.3497558218412128, 0.345991991642972, 0.3467155083427957, 0.3433339365094665, 0.3483256642410066, 0.3478496633768977, 0.34617350668742053, 0.3436845546947626, 0.34372208147390154, 0.3495579819011612, 0.3517804580129887, 0.3509663645179708, 0.3492873882817903, 0.3502421648938106, 0.3502291977897809, 0.35115442749430364, 0.3506051775226189, 0.34641928124257587, 0.34671195596389354, 0.3497844501077599, 0.3512810343271701, 0.3534963421798797, 0.3565901921030719, 0.35965452918713053, 0.35990359045426107, 0.3616230997411369, 0.36206782315669245, 0.3561357764219698, 0.35695049125073364, 0.35268843650281495, 0.35400779243428393, 0.3527571661839255, 0.35036929855723464, 0.35641198817976, 0.3606018546688483, 0.3621442000650666, 0.36044976445861276, 0.36040213447588587, 0.36172488304531425, 0.36412078297670936, 0.3648087002907038, 0.36341221251402034, 0.3386682017464305, 0.33426993467626503, 0.33667208318261266, 0.3400383168170434, 0.3440011417257481, 0.34574068208870207, 0.34684932202243246, 0.34540894443242853, 0.3478999095750746, 0.3478078911404097, 0.345807781367707, 0.34672347227499806, 0.34563413083917016, 0.34262987908244874, 0.3438276708161068, 0.34709396350848043, 0.3474306961425893, 0.34860688451924277, 0.35027976079712736, 0.35148580000006774, 0.3504646137227195, 0.3523268141402084, 0.3532395714218601, 0.3526122176661648, 0.3484225071663254, 0.3478905152906594, 0.3468575028917654, 0.34281411308451887, 0.3435386452952382, 0.3450090511658619, 0.34307974610823444, 0.34536977046220746, 0.3451921348422278, 0.3432988919305345, 0.33480821556718676, 0.3292698724568506, 0.3249546015668637, 0.3259702721542365, 0.32607798024515555, 0.329625585058151, 0.335859211141253, 0.3394863384899762, 0.34061252519571295, 0.34190716415327865, 0.33951117892679267, 0.3410611637725286, 0.3419916723251795, 0.3420231452001467, 0.34266157005314984, 0.34076879911286184, 0.34263042169584, 0.34886700801351544, 0.35122497804107516, 0.3502585301805212, 0.3478896419657618, 0.3474879671591516, 0.3442988133068244, 0.3454545369144808, 0.3432151189003486, 0.34361171326513257, 0.3438979599908627, 0.3468408569000472, 0.3480699205657988, 0.3503269948670948, 0.34943606632547647, 0.3504675239567755, 0.3488640161583506, 0.35116604546420815, 0.3510511187306754, 0.35153566285163246, 0.3532058020228212, 0.3537397053036519, 0.3556514084211767, 0.35418893833681414, 0.3546670973662319, 0.3566642868688677, 0.35583421968118817, 0.35236108365771734, 0.3513935903135132, 0.35067587172428616, 0.34846314438752135, 0.34921149995308454, 0.35112608961994884, 0.3511481718911413, 0.35035893700490345, 0.3469057097514014, 0.34598336099531773, 0.34685489021641835, 0.34784440971246255, 0.3483349757577456, 0.34907759966374824, 0.349858829082758, 0.3517674172111856, 0.35369429099176397, 0.35477182009471964, 0.35575466371011205, 0.35227568776937773, 0.352517709361849, 0.352549691570341, 0.3537274251225539, 0.35543151588742616, 0.35642267064953187, 0.35850245096605227, 0.3618443456712628, 0.3599788763924278, 0.3540882222916571, 0.35588011355479304, 0.3567448250116963, 0.35498958087896215, 0.35578502002438644, 0.35465512912226926, 0.35744035064464286, 0.35670297864139006, 0.3537010821216233, 0.3523261856947327, 0.3561498006949227, 0.35791256450082093, 0.3598159166254412, 0.36079253716163506, 0.36449807544713636, 0.36271458732472855, 0.36065546778850066, 0.3582141701056148, 0.3584111380687086, 0.3612675575757032, 0.3633916620813463, 0.36379265544473693, 0.36083129592357044, 0.35857189450388366, 0.35493744874639016, 0.3412981724522666, 0.3423416426938956, 0.34411874009155763, 0.34692151992942805, 0.3477050004382851, 0.3495880836169028, 0.3462666432025674, 0.3450124315526005, 0.3493303416481222, 0.350885960819219, 0.3519447323438379, 0.35163533908463396, 0.348923470380348, 0.3470570539351131, 0.3453314975608454, 0.34717189627251827, 0.3489961849783797, 0.3506143535627445, 0.3529824078073162, 0.35381644213060964, 0.3502197974165813, 0.34767635866178637, 0.34928050086702206, 0.3484430462840096, 0.35091942214088273, 0.34864963092745654, 0.34565718538029105, 0.3395895759424596, 0.33964659767377814, 0.3465912769124998, 0.34438656558810565, 0.34128410920728997, 0.3442209277843769, 0.3468909820802482, 0.34608763604308723, 0.34438579434377464, 0.34241681883881353, 0.3339372843569259, 0.33585865584572283, 0.3383914306621815, 0.34068600597782656, 0.3410074382598589, 0.33998293861264206, 0.3438642199934176, 0.34440652933079924, 0.3433381661905521, 0.3395209509998481, 0.33166846278648787, 0.33170341428605077, 0.32593265520159753, 0.3267907550538197, 0.3308568532105873, 0.32872346450988643, 0.3276729438155389, 0.3257492182291308, 0.3251727553062441, 0.32907965356088126, 0.3340335301882055, 0.33593239457713847, 0.33779447859355805, 0.3398507743732918, 0.34026920638002184, 0.34370204272465693, 0.34550608920505527, 0.3478574766456042, 0.3499307668260413, 0.3508399192027066, 0.35068084701571794, 0.3491136450485747, 0.3486092702691503, 0.3504569492887403, 0.3476580253605112, 0.34661452254747543, 0.3481495574212426, 0.3483610906601555, 0.35259617764165624, 0.3547094099704148, 0.35313382706153534, 0.35409139680141827, 0.35225770915775967, 0.34837360442856957, 0.3503493232144954, 0.35182135231586387, 0.3546329848130116, 0.3536241225684782, 0.3533405998566682, 0.3507537971908509, 0.3520713934873378, 0.3521967845208639, 0.3556531225375001, 0.3553644514918376, 0.35710919787177736, 0.3578096787527914, 0.35522837517934797, 0.35445722938007884, 0.3521632138654223, 0.35255607100829767, 0.35233523173388265, 0.35477100327693123, 0.3559511846224355, 0.35615762954086533, 0.35698482313027186, 0.35710284648105517, 0.3573372097805973, 0.35848444816951897, 0.35969245069727107, 0.3591277157816393, 0.3560097101378113, 0.3546569605876214, 0.35504621307917006, 0.35564646438521685, 0.35085645832101353, 0.3501107914299499, 0.3470631290819752, 0.3460722268101015, 0.3444539332315243, 0.3453594840203468, 0.34713438860099916, 0.34150083856050967, 0.3407475271345937, 0.3416209406811443, 0.3339974092497195, 0.3189831180216401, 0.31005680649096595, 0.3109321958036479, 0.3076481595527687, 0.300249495590927, 0.304944934186047, 0.3140873652018175, 0.31820463007427857, 0.318401379332774, 0.32275013673549463, 0.3257076579553102, 0.3290357856384263, 0.3260733729620932, 0.327162858061308, 0.3299977747571943, 0.32880063656158526, 0.33063276772909883, 0.3343711729673128, 0.3372661664290851, 0.3326570938079187, 0.3283143834166686, 0.3312237849537242, 0.32762861761613915, 0.3320550677201719, 0.3340293274593216, 0.3351917703765156, 0.3383971441505527, 0.33843380876711654, 0.33994186657519576, 0.34053098515917996, 0.3408081413343966, 0.3396447179542763, 0.3381610616890947, 0.33669926278178336, 0.3315418847384089, 0.32474487771799043, 0.32984942473116236, 0.328799015247977, 0.32827568598538526, 0.3316357376532235, 0.33306608026825485, 0.33365540780137304, 0.33281056572082685, 0.3285015720328224, 0.3298108714919231, 0.3289012129062353, 0.32972148181265826, 0.3310632036465774, 0.33030201672012593, 0.3301585333497577, 0.3310024621092888, 0.33352333418638574, 0.33358801159809215, 0.3353315116442878, 0.33505226187036696, 0.3367601180054341, 0.3360957168978847, 0.33865549584090776, 0.3375759526307813, 0.3396689406460526, 0.34089276561166876, 0.34197651361773923, 0.3430626954517274, 0.3421323029329352, 0.34411283954169175, 0.3442388619951523, 0.3426412076791638, 0.342294569825548, 0.3437374052688296, 0.3413496355918546, 0.34305018141213256, 0.34012561673439135, 0.3407434984000212, 0.34044599941902093, 0.340201175430879, 0.33825760008439276, 0.34057485169245344, 0.3399132860986055, 0.33996041699047463, 0.33937123726641344, 0.33803929117048487, 0.33570345099185595, 0.33368563711144605, 0.33012649039045916, 0.33196708160272886, 0.3315708343875206, 0.32890691555936313, 0.32488645132416416, 0.32538179926549593, 0.32848748876402406, 0.32984034810103685, 0.32915116362096375, 0.329498931203971, 0.33188018441719186, 0.3323525291725936, 0.33245809142288374, 0.3300427609979199, 0.33352781617440974, 0.333889449684944, 0.33420962067627674, 0.33417564450872855, 0.33408535263508704, 0.33385493767247243, 0.33279117950862397, 0.3332853738105366, 0.33295544370849633, 0.3318167946410219, 0.33396026125111417, 0.3336250240319897, 0.3349609678376891, 0.3356953523577414, 0.33620311977527684, 0.33346084670000614, 0.33320308965018586, 0.33305617112654695, 0.3345268930399123, 0.3351260119792048, 0.33499481712974194, 0.3354004068839814, 0.33472691552702855, 0.32989509763921226, 0.32895802881278885, 0.3220631183708048]}],\n                        {\"template\": {\"data\": {\"bar\": [{\"error_x\": {\"color\": \"#2a3f5f\"}, \"error_y\": {\"color\": \"#2a3f5f\"}, \"marker\": {\"line\": {\"color\": \"#E5ECF6\", \"width\": 0.5}}, \"type\": \"bar\"}], \"barpolar\": [{\"marker\": {\"line\": {\"color\": \"#E5ECF6\", \"width\": 0.5}}, \"type\": \"barpolar\"}], \"carpet\": [{\"aaxis\": {\"endlinecolor\": \"#2a3f5f\", \"gridcolor\": \"white\", \"linecolor\": \"white\", \"minorgridcolor\": \"white\", \"startlinecolor\": \"#2a3f5f\"}, \"baxis\": {\"endlinecolor\": \"#2a3f5f\", \"gridcolor\": \"white\", \"linecolor\": \"white\", \"minorgridcolor\": \"white\", \"startlinecolor\": \"#2a3f5f\"}, \"type\": \"carpet\"}], \"choropleth\": [{\"colorbar\": {\"outlinewidth\": 0, \"ticks\": \"\"}, \"type\": \"choropleth\"}], \"contour\": [{\"colorbar\": {\"outlinewidth\": 0, \"ticks\": \"\"}, \"colorscale\": [[0.0, \"#0d0887\"], [0.1111111111111111, \"#46039f\"], [0.2222222222222222, \"#7201a8\"], [0.3333333333333333, \"#9c179e\"], [0.4444444444444444, \"#bd3786\"], [0.5555555555555556, \"#d8576b\"], [0.6666666666666666, \"#ed7953\"], [0.7777777777777778, \"#fb9f3a\"], [0.8888888888888888, \"#fdca26\"], [1.0, \"#f0f921\"]], \"type\": \"contour\"}], \"contourcarpet\": [{\"colorbar\": {\"outlinewidth\": 0, \"ticks\": \"\"}, \"type\": \"contourcarpet\"}], \"heatmap\": [{\"colorbar\": {\"outlinewidth\": 0, \"ticks\": \"\"}, \"colorscale\": [[0.0, \"#0d0887\"], [0.1111111111111111, \"#46039f\"], [0.2222222222222222, \"#7201a8\"], [0.3333333333333333, \"#9c179e\"], [0.4444444444444444, \"#bd3786\"], [0.5555555555555556, \"#d8576b\"], [0.6666666666666666, \"#ed7953\"], [0.7777777777777778, \"#fb9f3a\"], [0.8888888888888888, \"#fdca26\"], [1.0, \"#f0f921\"]], \"type\": \"heatmap\"}], \"heatmapgl\": [{\"colorbar\": {\"outlinewidth\": 0, \"ticks\": \"\"}, \"colorscale\": [[0.0, \"#0d0887\"], [0.1111111111111111, \"#46039f\"], [0.2222222222222222, \"#7201a8\"], [0.3333333333333333, \"#9c179e\"], [0.4444444444444444, \"#bd3786\"], [0.5555555555555556, \"#d8576b\"], [0.6666666666666666, \"#ed7953\"], [0.7777777777777778, \"#fb9f3a\"], [0.8888888888888888, \"#fdca26\"], [1.0, \"#f0f921\"]], \"type\": \"heatmapgl\"}], \"histogram\": [{\"marker\": {\"colorbar\": {\"outlinewidth\": 0, \"ticks\": \"\"}}, \"type\": \"histogram\"}], \"histogram2d\": [{\"colorbar\": {\"outlinewidth\": 0, \"ticks\": \"\"}, \"colorscale\": [[0.0, \"#0d0887\"], [0.1111111111111111, \"#46039f\"], [0.2222222222222222, \"#7201a8\"], [0.3333333333333333, \"#9c179e\"], [0.4444444444444444, \"#bd3786\"], [0.5555555555555556, \"#d8576b\"], [0.6666666666666666, \"#ed7953\"], [0.7777777777777778, \"#fb9f3a\"], [0.8888888888888888, \"#fdca26\"], [1.0, \"#f0f921\"]], \"type\": \"histogram2d\"}], \"histogram2dcontour\": [{\"colorbar\": {\"outlinewidth\": 0, \"ticks\": \"\"}, \"colorscale\": [[0.0, \"#0d0887\"], [0.1111111111111111, \"#46039f\"], [0.2222222222222222, \"#7201a8\"], [0.3333333333333333, \"#9c179e\"], [0.4444444444444444, \"#bd3786\"], [0.5555555555555556, \"#d8576b\"], [0.6666666666666666, \"#ed7953\"], [0.7777777777777778, \"#fb9f3a\"], [0.8888888888888888, \"#fdca26\"], [1.0, \"#f0f921\"]], \"type\": \"histogram2dcontour\"}], \"mesh3d\": [{\"colorbar\": {\"outlinewidth\": 0, \"ticks\": \"\"}, \"type\": \"mesh3d\"}], \"parcoords\": [{\"line\": {\"colorbar\": {\"outlinewidth\": 0, \"ticks\": \"\"}}, \"type\": \"parcoords\"}], \"pie\": [{\"automargin\": true, \"type\": \"pie\"}], \"scatter\": [{\"marker\": {\"colorbar\": {\"outlinewidth\": 0, \"ticks\": \"\"}}, \"type\": \"scatter\"}], \"scatter3d\": [{\"line\": {\"colorbar\": {\"outlinewidth\": 0, \"ticks\": \"\"}}, \"marker\": {\"colorbar\": {\"outlinewidth\": 0, \"ticks\": \"\"}}, \"type\": \"scatter3d\"}], \"scattercarpet\": [{\"marker\": {\"colorbar\": {\"outlinewidth\": 0, \"ticks\": \"\"}}, \"type\": \"scattercarpet\"}], \"scattergeo\": [{\"marker\": {\"colorbar\": {\"outlinewidth\": 0, \"ticks\": \"\"}}, \"type\": \"scattergeo\"}], \"scattergl\": [{\"marker\": {\"colorbar\": {\"outlinewidth\": 0, \"ticks\": \"\"}}, \"type\": \"scattergl\"}], \"scattermapbox\": [{\"marker\": {\"colorbar\": {\"outlinewidth\": 0, \"ticks\": \"\"}}, \"type\": \"scattermapbox\"}], \"scatterpolar\": [{\"marker\": {\"colorbar\": {\"outlinewidth\": 0, \"ticks\": \"\"}}, \"type\": \"scatterpolar\"}], \"scatterpolargl\": [{\"marker\": {\"colorbar\": {\"outlinewidth\": 0, \"ticks\": \"\"}}, \"type\": \"scatterpolargl\"}], \"scatterternary\": [{\"marker\": {\"colorbar\": {\"outlinewidth\": 0, \"ticks\": \"\"}}, \"type\": \"scatterternary\"}], \"surface\": [{\"colorbar\": {\"outlinewidth\": 0, \"ticks\": \"\"}, \"colorscale\": [[0.0, \"#0d0887\"], [0.1111111111111111, \"#46039f\"], [0.2222222222222222, \"#7201a8\"], [0.3333333333333333, \"#9c179e\"], [0.4444444444444444, \"#bd3786\"], [0.5555555555555556, \"#d8576b\"], [0.6666666666666666, \"#ed7953\"], [0.7777777777777778, \"#fb9f3a\"], [0.8888888888888888, \"#fdca26\"], [1.0, \"#f0f921\"]], \"type\": \"surface\"}], \"table\": [{\"cells\": {\"fill\": {\"color\": \"#EBF0F8\"}, \"line\": {\"color\": \"white\"}}, \"header\": {\"fill\": {\"color\": \"#C8D4E3\"}, \"line\": {\"color\": \"white\"}}, \"type\": \"table\"}]}, \"layout\": {\"annotationdefaults\": {\"arrowcolor\": \"#2a3f5f\", \"arrowhead\": 0, \"arrowwidth\": 1}, \"coloraxis\": {\"colorbar\": {\"outlinewidth\": 0, \"ticks\": \"\"}}, \"colorscale\": {\"diverging\": [[0, \"#8e0152\"], [0.1, \"#c51b7d\"], [0.2, \"#de77ae\"], [0.3, \"#f1b6da\"], [0.4, \"#fde0ef\"], [0.5, \"#f7f7f7\"], [0.6, \"#e6f5d0\"], [0.7, \"#b8e186\"], [0.8, \"#7fbc41\"], [0.9, \"#4d9221\"], [1, \"#276419\"]], \"sequential\": [[0.0, \"#0d0887\"], [0.1111111111111111, \"#46039f\"], [0.2222222222222222, \"#7201a8\"], [0.3333333333333333, \"#9c179e\"], [0.4444444444444444, \"#bd3786\"], [0.5555555555555556, \"#d8576b\"], [0.6666666666666666, \"#ed7953\"], [0.7777777777777778, \"#fb9f3a\"], [0.8888888888888888, \"#fdca26\"], [1.0, \"#f0f921\"]], \"sequentialminus\": [[0.0, \"#0d0887\"], [0.1111111111111111, \"#46039f\"], [0.2222222222222222, \"#7201a8\"], [0.3333333333333333, \"#9c179e\"], [0.4444444444444444, \"#bd3786\"], [0.5555555555555556, \"#d8576b\"], [0.6666666666666666, \"#ed7953\"], [0.7777777777777778, \"#fb9f3a\"], [0.8888888888888888, \"#fdca26\"], [1.0, \"#f0f921\"]]}, \"colorway\": [\"#636efa\", \"#EF553B\", \"#00cc96\", \"#ab63fa\", \"#FFA15A\", \"#19d3f3\", \"#FF6692\", \"#B6E880\", \"#FF97FF\", \"#FECB52\"], \"font\": {\"color\": \"#2a3f5f\"}, \"geo\": {\"bgcolor\": \"white\", \"lakecolor\": \"white\", \"landcolor\": \"#E5ECF6\", \"showlakes\": true, \"showland\": true, \"subunitcolor\": \"white\"}, \"hoverlabel\": {\"align\": \"left\"}, \"hovermode\": \"closest\", \"mapbox\": {\"style\": \"light\"}, \"paper_bgcolor\": \"white\", \"plot_bgcolor\": \"#E5ECF6\", \"polar\": {\"angularaxis\": {\"gridcolor\": \"white\", \"linecolor\": \"white\", \"ticks\": \"\"}, \"bgcolor\": \"#E5ECF6\", \"radialaxis\": {\"gridcolor\": \"white\", \"linecolor\": \"white\", \"ticks\": \"\"}}, \"scene\": {\"xaxis\": {\"backgroundcolor\": \"#E5ECF6\", \"gridcolor\": \"white\", \"gridwidth\": 2, \"linecolor\": \"white\", \"showbackground\": true, \"ticks\": \"\", \"zerolinecolor\": \"white\"}, \"yaxis\": {\"backgroundcolor\": \"#E5ECF6\", \"gridcolor\": \"white\", \"gridwidth\": 2, \"linecolor\": \"white\", \"showbackground\": true, \"ticks\": \"\", \"zerolinecolor\": \"white\"}, \"zaxis\": {\"backgroundcolor\": \"#E5ECF6\", \"gridcolor\": \"white\", \"gridwidth\": 2, \"linecolor\": \"white\", \"showbackground\": true, \"ticks\": \"\", \"zerolinecolor\": \"white\"}}, \"shapedefaults\": {\"line\": {\"color\": \"#2a3f5f\"}}, \"ternary\": {\"aaxis\": {\"gridcolor\": \"white\", \"linecolor\": \"white\", \"ticks\": \"\"}, \"baxis\": {\"gridcolor\": \"white\", \"linecolor\": \"white\", \"ticks\": \"\"}, \"bgcolor\": \"#E5ECF6\", \"caxis\": {\"gridcolor\": \"white\", \"linecolor\": \"white\", \"ticks\": \"\"}}, \"title\": {\"x\": 0.05}, \"xaxis\": {\"automargin\": true, \"gridcolor\": \"white\", \"linecolor\": \"white\", \"ticks\": \"\", \"title\": {\"standoff\": 15}, \"zerolinecolor\": \"white\", \"zerolinewidth\": 2}, \"yaxis\": {\"automargin\": true, \"gridcolor\": \"white\", \"linecolor\": \"white\", \"ticks\": \"\", \"title\": {\"standoff\": 15}, \"zerolinecolor\": \"white\", \"zerolinewidth\": 2}}}},\n                        {\"responsive\": true}\n                    ).then(function(){\n                            \nvar gd = document.getElementById('fe06a082-eff5-4538-b82d-b659f40d9e0c');\nvar x = new MutationObserver(function (mutations, observer) {{\n        var display = window.getComputedStyle(gd).display;\n        if (!display || display === 'none') {{\n            console.log([gd, 'removed!']);\n            Plotly.purge(gd);\n            observer.disconnect();\n        }}\n}});\n\n// Listen for the removal of the full notebook cells\nvar notebookContainer = gd.closest('#notebook-container');\nif (notebookContainer) {{\n    x.observe(notebookContainer, {childList: true});\n}}\n\n// Listen for the clearing of the current output cell\nvar outputEl = gd.closest('.output');\nif (outputEl) {{\n    x.observe(outputEl, {childList: true});\n}}\n\n                        })\n                };\n                });\n            </script>\n        </div>"
     },
     "metadata": {},
     "output_type": "display_data"
    }
   ],
   "source": [
    "sr_r_data = [go.Scatter(x=sharpe_ratio_rolling_df.index.to_timestamp(),\n",
    "                      y=sharpe_ratio_rolling_df[col],\n",
    "                      name=col) for col in sharpe_ratio_df.columns]\n",
    "pyo.iplot(sr_r_data)"
   ],
   "metadata": {
    "collapsed": false,
    "pycharm": {
     "name": "#%%\n"
    }
   }
  },
  {
   "cell_type": "markdown",
   "source": [
    "LAB START 204\n",
    "CREATE CUSTOM ROLLING WINDOW TO HANDLE MULTI DIMENSION DATAFRAME FOR COMPUTATION\n",
    "ULT - TRYING TO GET ROLLING RETURNS ACCORDING TO SPECIFIED WEIGHTING SCHEMES\n"
   ],
   "metadata": {
    "collapsed": false,
    "pycharm": {
     "name": "#%% md\n"
    }
   }
  },
  {
   "cell_type": "code",
   "execution_count": 3,
   "outputs": [],
   "source": [
    "ind_vw_74 = erk.get_df('data/ind49_m_vw_rets.csv', to_per=True, start_period='1974')\n",
    "ind_mkt_wts_74 = erk.plot_corr_mktret(ind_ret_filename='data/ind49_m_vw_rets.csv',\n",
    "                                       n_firms_filename='data/ind49_m_nfirms.csv',\n",
    "                                       size_filename='data/ind49_m_size.csv',\n",
    "                                       start_period='1974',\n",
    "                                       end_period=None,\n",
    "                                       to_per=True,\n",
    "                                       retrieve_mkt_cap_wts=True,\n",
    "                                       format='%Y%m')"
   ],
   "metadata": {
    "collapsed": false,
    "pycharm": {
     "name": "#%%\n"
    }
   }
  },
  {
   "cell_type": "code",
   "execution_count": 4,
   "outputs": [],
   "source": [
    "mw_pf = erk.bt_roll(ind_vw_74, weighting_scheme=erk.weight_cw, window=60, cap_wts=ind_mkt_wts_74)\n",
    "ew_pf = erk.bt_roll(ind_vw_74, weighting_scheme=erk.weight_ew, window=60, cap_wts=ind_mkt_wts_74)\n",
    "ewt_pf = erk.bt_roll(ind_vw_74, weighting_scheme=erk.weight_ew, window=60, cap_wts=ind_mkt_wts_74, max_cw_mult=5, microcap_threshold=0.005)\n",
    "btr = pd.DataFrame({'EW': ew_pf,\n",
    "                    'MW': mw_pf,\n",
    "                    'EWT': ewt_pf,\n",
    "                    }).dropna()\n",
    "\n",
    "# btr_wealth_index = pd.DataFrame({'EW_wealth_index': erk.drawdown(btr['EW'], retrive_index=True, is1p=False),\n",
    "#                                  'MW_wealth_index': erk.drawdown(btr['MW'], retrive_index=True, is1p=False),\n",
    "#                                  'EWT_wealth_index': erk.drawdown(btr['EWT'], retrive_index=True, is1p=False),\n",
    "#                                  })"
   ],
   "metadata": {
    "collapsed": false,
    "pycharm": {
     "name": "#%%\n"
    }
   }
  },
  {
   "cell_type": "markdown",
   "source": [
    "PLOT INDEX AND DISPLAY RISK INFO\n"
   ],
   "metadata": {
    "collapsed": false,
    "pycharm": {
     "name": "#%% md\n"
    }
   }
  },
  {
   "cell_type": "code",
   "execution_count": 6,
   "outputs": [
    {
     "data": {
      "application/vnd.plotly.v1+json": {
       "config": {
        "linkText": "Export to plot.ly",
        "plotlyServerURL": "https://plot.ly",
        "showLink": false
       },
       "data": [
        {
         "name": "EW_wealth_index",
         "type": "scatter",
         "x": [
          "1978-12-01T00:00:00",
          "1979-01-01T00:00:00",
          "1979-02-01T00:00:00",
          "1979-03-01T00:00:00",
          "1979-04-01T00:00:00",
          "1979-05-01T00:00:00",
          "1979-06-01T00:00:00",
          "1979-07-01T00:00:00",
          "1979-08-01T00:00:00",
          "1979-09-01T00:00:00",
          "1979-10-01T00:00:00",
          "1979-11-01T00:00:00",
          "1979-12-01T00:00:00",
          "1980-01-01T00:00:00",
          "1980-02-01T00:00:00",
          "1980-03-01T00:00:00",
          "1980-04-01T00:00:00",
          "1980-05-01T00:00:00",
          "1980-06-01T00:00:00",
          "1980-07-01T00:00:00",
          "1980-08-01T00:00:00",
          "1980-09-01T00:00:00",
          "1980-10-01T00:00:00",
          "1980-11-01T00:00:00",
          "1980-12-01T00:00:00",
          "1981-01-01T00:00:00",
          "1981-02-01T00:00:00",
          "1981-03-01T00:00:00",
          "1981-04-01T00:00:00",
          "1981-05-01T00:00:00",
          "1981-06-01T00:00:00",
          "1981-07-01T00:00:00",
          "1981-08-01T00:00:00",
          "1981-09-01T00:00:00",
          "1981-10-01T00:00:00",
          "1981-11-01T00:00:00",
          "1981-12-01T00:00:00",
          "1982-01-01T00:00:00",
          "1982-02-01T00:00:00",
          "1982-03-01T00:00:00",
          "1982-04-01T00:00:00",
          "1982-05-01T00:00:00",
          "1982-06-01T00:00:00",
          "1982-07-01T00:00:00",
          "1982-08-01T00:00:00",
          "1982-09-01T00:00:00",
          "1982-10-01T00:00:00",
          "1982-11-01T00:00:00",
          "1982-12-01T00:00:00",
          "1983-01-01T00:00:00",
          "1983-02-01T00:00:00",
          "1983-03-01T00:00:00",
          "1983-04-01T00:00:00",
          "1983-05-01T00:00:00",
          "1983-06-01T00:00:00",
          "1983-07-01T00:00:00",
          "1983-08-01T00:00:00",
          "1983-09-01T00:00:00",
          "1983-10-01T00:00:00",
          "1983-11-01T00:00:00",
          "1983-12-01T00:00:00",
          "1984-01-01T00:00:00",
          "1984-02-01T00:00:00",
          "1984-03-01T00:00:00",
          "1984-04-01T00:00:00",
          "1984-05-01T00:00:00",
          "1984-06-01T00:00:00",
          "1984-07-01T00:00:00",
          "1984-08-01T00:00:00",
          "1984-09-01T00:00:00",
          "1984-10-01T00:00:00",
          "1984-11-01T00:00:00",
          "1984-12-01T00:00:00",
          "1985-01-01T00:00:00",
          "1985-02-01T00:00:00",
          "1985-03-01T00:00:00",
          "1985-04-01T00:00:00",
          "1985-05-01T00:00:00",
          "1985-06-01T00:00:00",
          "1985-07-01T00:00:00",
          "1985-08-01T00:00:00",
          "1985-09-01T00:00:00",
          "1985-10-01T00:00:00",
          "1985-11-01T00:00:00",
          "1985-12-01T00:00:00",
          "1986-01-01T00:00:00",
          "1986-02-01T00:00:00",
          "1986-03-01T00:00:00",
          "1986-04-01T00:00:00",
          "1986-05-01T00:00:00",
          "1986-06-01T00:00:00",
          "1986-07-01T00:00:00",
          "1986-08-01T00:00:00",
          "1986-09-01T00:00:00",
          "1986-10-01T00:00:00",
          "1986-11-01T00:00:00",
          "1986-12-01T00:00:00",
          "1987-01-01T00:00:00",
          "1987-02-01T00:00:00",
          "1987-03-01T00:00:00",
          "1987-04-01T00:00:00",
          "1987-05-01T00:00:00",
          "1987-06-01T00:00:00",
          "1987-07-01T00:00:00",
          "1987-08-01T00:00:00",
          "1987-09-01T00:00:00",
          "1987-10-01T00:00:00",
          "1987-11-01T00:00:00",
          "1987-12-01T00:00:00",
          "1988-01-01T00:00:00",
          "1988-02-01T00:00:00",
          "1988-03-01T00:00:00",
          "1988-04-01T00:00:00",
          "1988-05-01T00:00:00",
          "1988-06-01T00:00:00",
          "1988-07-01T00:00:00",
          "1988-08-01T00:00:00",
          "1988-09-01T00:00:00",
          "1988-10-01T00:00:00",
          "1988-11-01T00:00:00",
          "1988-12-01T00:00:00",
          "1989-01-01T00:00:00",
          "1989-02-01T00:00:00",
          "1989-03-01T00:00:00",
          "1989-04-01T00:00:00",
          "1989-05-01T00:00:00",
          "1989-06-01T00:00:00",
          "1989-07-01T00:00:00",
          "1989-08-01T00:00:00",
          "1989-09-01T00:00:00",
          "1989-10-01T00:00:00",
          "1989-11-01T00:00:00",
          "1989-12-01T00:00:00",
          "1990-01-01T00:00:00",
          "1990-02-01T00:00:00",
          "1990-03-01T00:00:00",
          "1990-04-01T00:00:00",
          "1990-05-01T00:00:00",
          "1990-06-01T00:00:00",
          "1990-07-01T00:00:00",
          "1990-08-01T00:00:00",
          "1990-09-01T00:00:00",
          "1990-10-01T00:00:00",
          "1990-11-01T00:00:00",
          "1990-12-01T00:00:00",
          "1991-01-01T00:00:00",
          "1991-02-01T00:00:00",
          "1991-03-01T00:00:00",
          "1991-04-01T00:00:00",
          "1991-05-01T00:00:00",
          "1991-06-01T00:00:00",
          "1991-07-01T00:00:00",
          "1991-08-01T00:00:00",
          "1991-09-01T00:00:00",
          "1991-10-01T00:00:00",
          "1991-11-01T00:00:00",
          "1991-12-01T00:00:00",
          "1992-01-01T00:00:00",
          "1992-02-01T00:00:00",
          "1992-03-01T00:00:00",
          "1992-04-01T00:00:00",
          "1992-05-01T00:00:00",
          "1992-06-01T00:00:00",
          "1992-07-01T00:00:00",
          "1992-08-01T00:00:00",
          "1992-09-01T00:00:00",
          "1992-10-01T00:00:00",
          "1992-11-01T00:00:00",
          "1992-12-01T00:00:00",
          "1993-01-01T00:00:00",
          "1993-02-01T00:00:00",
          "1993-03-01T00:00:00",
          "1993-04-01T00:00:00",
          "1993-05-01T00:00:00",
          "1993-06-01T00:00:00",
          "1993-07-01T00:00:00",
          "1993-08-01T00:00:00",
          "1993-09-01T00:00:00",
          "1993-10-01T00:00:00",
          "1993-11-01T00:00:00",
          "1993-12-01T00:00:00",
          "1994-01-01T00:00:00",
          "1994-02-01T00:00:00",
          "1994-03-01T00:00:00",
          "1994-04-01T00:00:00",
          "1994-05-01T00:00:00",
          "1994-06-01T00:00:00",
          "1994-07-01T00:00:00",
          "1994-08-01T00:00:00",
          "1994-09-01T00:00:00",
          "1994-10-01T00:00:00",
          "1994-11-01T00:00:00",
          "1994-12-01T00:00:00",
          "1995-01-01T00:00:00",
          "1995-02-01T00:00:00",
          "1995-03-01T00:00:00",
          "1995-04-01T00:00:00",
          "1995-05-01T00:00:00",
          "1995-06-01T00:00:00",
          "1995-07-01T00:00:00",
          "1995-08-01T00:00:00",
          "1995-09-01T00:00:00",
          "1995-10-01T00:00:00",
          "1995-11-01T00:00:00",
          "1995-12-01T00:00:00",
          "1996-01-01T00:00:00",
          "1996-02-01T00:00:00",
          "1996-03-01T00:00:00",
          "1996-04-01T00:00:00",
          "1996-05-01T00:00:00",
          "1996-06-01T00:00:00",
          "1996-07-01T00:00:00",
          "1996-08-01T00:00:00",
          "1996-09-01T00:00:00",
          "1996-10-01T00:00:00",
          "1996-11-01T00:00:00",
          "1996-12-01T00:00:00",
          "1997-01-01T00:00:00",
          "1997-02-01T00:00:00",
          "1997-03-01T00:00:00",
          "1997-04-01T00:00:00",
          "1997-05-01T00:00:00",
          "1997-06-01T00:00:00",
          "1997-07-01T00:00:00",
          "1997-08-01T00:00:00",
          "1997-09-01T00:00:00",
          "1997-10-01T00:00:00",
          "1997-11-01T00:00:00",
          "1997-12-01T00:00:00",
          "1998-01-01T00:00:00",
          "1998-02-01T00:00:00",
          "1998-03-01T00:00:00",
          "1998-04-01T00:00:00",
          "1998-05-01T00:00:00",
          "1998-06-01T00:00:00",
          "1998-07-01T00:00:00",
          "1998-08-01T00:00:00",
          "1998-09-01T00:00:00",
          "1998-10-01T00:00:00",
          "1998-11-01T00:00:00",
          "1998-12-01T00:00:00",
          "1999-01-01T00:00:00",
          "1999-02-01T00:00:00",
          "1999-03-01T00:00:00",
          "1999-04-01T00:00:00",
          "1999-05-01T00:00:00",
          "1999-06-01T00:00:00",
          "1999-07-01T00:00:00",
          "1999-08-01T00:00:00",
          "1999-09-01T00:00:00",
          "1999-10-01T00:00:00",
          "1999-11-01T00:00:00",
          "1999-12-01T00:00:00",
          "2000-01-01T00:00:00",
          "2000-02-01T00:00:00",
          "2000-03-01T00:00:00",
          "2000-04-01T00:00:00",
          "2000-05-01T00:00:00",
          "2000-06-01T00:00:00",
          "2000-07-01T00:00:00",
          "2000-08-01T00:00:00",
          "2000-09-01T00:00:00",
          "2000-10-01T00:00:00",
          "2000-11-01T00:00:00",
          "2000-12-01T00:00:00",
          "2001-01-01T00:00:00",
          "2001-02-01T00:00:00",
          "2001-03-01T00:00:00",
          "2001-04-01T00:00:00",
          "2001-05-01T00:00:00",
          "2001-06-01T00:00:00",
          "2001-07-01T00:00:00",
          "2001-08-01T00:00:00",
          "2001-09-01T00:00:00",
          "2001-10-01T00:00:00",
          "2001-11-01T00:00:00",
          "2001-12-01T00:00:00",
          "2002-01-01T00:00:00",
          "2002-02-01T00:00:00",
          "2002-03-01T00:00:00",
          "2002-04-01T00:00:00",
          "2002-05-01T00:00:00",
          "2002-06-01T00:00:00",
          "2002-07-01T00:00:00",
          "2002-08-01T00:00:00",
          "2002-09-01T00:00:00",
          "2002-10-01T00:00:00",
          "2002-11-01T00:00:00",
          "2002-12-01T00:00:00",
          "2003-01-01T00:00:00",
          "2003-02-01T00:00:00",
          "2003-03-01T00:00:00",
          "2003-04-01T00:00:00",
          "2003-05-01T00:00:00",
          "2003-06-01T00:00:00",
          "2003-07-01T00:00:00",
          "2003-08-01T00:00:00",
          "2003-09-01T00:00:00",
          "2003-10-01T00:00:00",
          "2003-11-01T00:00:00",
          "2003-12-01T00:00:00",
          "2004-01-01T00:00:00",
          "2004-02-01T00:00:00",
          "2004-03-01T00:00:00",
          "2004-04-01T00:00:00",
          "2004-05-01T00:00:00",
          "2004-06-01T00:00:00",
          "2004-07-01T00:00:00",
          "2004-08-01T00:00:00",
          "2004-09-01T00:00:00",
          "2004-10-01T00:00:00",
          "2004-11-01T00:00:00",
          "2004-12-01T00:00:00",
          "2005-01-01T00:00:00",
          "2005-02-01T00:00:00",
          "2005-03-01T00:00:00",
          "2005-04-01T00:00:00",
          "2005-05-01T00:00:00",
          "2005-06-01T00:00:00",
          "2005-07-01T00:00:00",
          "2005-08-01T00:00:00",
          "2005-09-01T00:00:00",
          "2005-10-01T00:00:00",
          "2005-11-01T00:00:00",
          "2005-12-01T00:00:00",
          "2006-01-01T00:00:00",
          "2006-02-01T00:00:00",
          "2006-03-01T00:00:00",
          "2006-04-01T00:00:00",
          "2006-05-01T00:00:00",
          "2006-06-01T00:00:00",
          "2006-07-01T00:00:00",
          "2006-08-01T00:00:00",
          "2006-09-01T00:00:00",
          "2006-10-01T00:00:00",
          "2006-11-01T00:00:00",
          "2006-12-01T00:00:00",
          "2007-01-01T00:00:00",
          "2007-02-01T00:00:00",
          "2007-03-01T00:00:00",
          "2007-04-01T00:00:00",
          "2007-05-01T00:00:00",
          "2007-06-01T00:00:00",
          "2007-07-01T00:00:00",
          "2007-08-01T00:00:00",
          "2007-09-01T00:00:00",
          "2007-10-01T00:00:00",
          "2007-11-01T00:00:00",
          "2007-12-01T00:00:00",
          "2008-01-01T00:00:00",
          "2008-02-01T00:00:00",
          "2008-03-01T00:00:00",
          "2008-04-01T00:00:00",
          "2008-05-01T00:00:00",
          "2008-06-01T00:00:00",
          "2008-07-01T00:00:00",
          "2008-08-01T00:00:00",
          "2008-09-01T00:00:00",
          "2008-10-01T00:00:00",
          "2008-11-01T00:00:00",
          "2008-12-01T00:00:00",
          "2009-01-01T00:00:00",
          "2009-02-01T00:00:00",
          "2009-03-01T00:00:00",
          "2009-04-01T00:00:00",
          "2009-05-01T00:00:00",
          "2009-06-01T00:00:00",
          "2009-07-01T00:00:00",
          "2009-08-01T00:00:00",
          "2009-09-01T00:00:00",
          "2009-10-01T00:00:00",
          "2009-11-01T00:00:00",
          "2009-12-01T00:00:00",
          "2010-01-01T00:00:00",
          "2010-02-01T00:00:00",
          "2010-03-01T00:00:00",
          "2010-04-01T00:00:00",
          "2010-05-01T00:00:00",
          "2010-06-01T00:00:00",
          "2010-07-01T00:00:00",
          "2010-08-01T00:00:00",
          "2010-09-01T00:00:00",
          "2010-10-01T00:00:00",
          "2010-11-01T00:00:00",
          "2010-12-01T00:00:00",
          "2011-01-01T00:00:00",
          "2011-02-01T00:00:00",
          "2011-03-01T00:00:00",
          "2011-04-01T00:00:00",
          "2011-05-01T00:00:00",
          "2011-06-01T00:00:00",
          "2011-07-01T00:00:00",
          "2011-08-01T00:00:00",
          "2011-09-01T00:00:00",
          "2011-10-01T00:00:00",
          "2011-11-01T00:00:00",
          "2011-12-01T00:00:00",
          "2012-01-01T00:00:00",
          "2012-02-01T00:00:00",
          "2012-03-01T00:00:00",
          "2012-04-01T00:00:00",
          "2012-05-01T00:00:00",
          "2012-06-01T00:00:00",
          "2012-07-01T00:00:00",
          "2012-08-01T00:00:00",
          "2012-09-01T00:00:00",
          "2012-10-01T00:00:00",
          "2012-11-01T00:00:00",
          "2012-12-01T00:00:00",
          "2013-01-01T00:00:00",
          "2013-02-01T00:00:00",
          "2013-03-01T00:00:00",
          "2013-04-01T00:00:00",
          "2013-05-01T00:00:00",
          "2013-06-01T00:00:00",
          "2013-07-01T00:00:00",
          "2013-08-01T00:00:00",
          "2013-09-01T00:00:00",
          "2013-10-01T00:00:00",
          "2013-11-01T00:00:00",
          "2013-12-01T00:00:00",
          "2014-01-01T00:00:00",
          "2014-02-01T00:00:00",
          "2014-03-01T00:00:00",
          "2014-04-01T00:00:00",
          "2014-05-01T00:00:00",
          "2014-06-01T00:00:00",
          "2014-07-01T00:00:00",
          "2014-08-01T00:00:00",
          "2014-09-01T00:00:00",
          "2014-10-01T00:00:00",
          "2014-11-01T00:00:00",
          "2014-12-01T00:00:00",
          "2015-01-01T00:00:00",
          "2015-02-01T00:00:00",
          "2015-03-01T00:00:00",
          "2015-04-01T00:00:00",
          "2015-05-01T00:00:00",
          "2015-06-01T00:00:00",
          "2015-07-01T00:00:00",
          "2015-08-01T00:00:00",
          "2015-09-01T00:00:00",
          "2015-10-01T00:00:00",
          "2015-11-01T00:00:00",
          "2015-12-01T00:00:00",
          "2016-01-01T00:00:00",
          "2016-02-01T00:00:00",
          "2016-03-01T00:00:00",
          "2016-04-01T00:00:00",
          "2016-05-01T00:00:00",
          "2016-06-01T00:00:00",
          "2016-07-01T00:00:00",
          "2016-08-01T00:00:00",
          "2016-09-01T00:00:00",
          "2016-10-01T00:00:00",
          "2016-11-01T00:00:00",
          "2016-12-01T00:00:00",
          "2017-01-01T00:00:00",
          "2017-02-01T00:00:00",
          "2017-03-01T00:00:00",
          "2017-04-01T00:00:00",
          "2017-05-01T00:00:00",
          "2017-06-01T00:00:00",
          "2017-07-01T00:00:00",
          "2017-08-01T00:00:00",
          "2017-09-01T00:00:00",
          "2017-10-01T00:00:00",
          "2017-11-01T00:00:00",
          "2017-12-01T00:00:00",
          "2018-01-01T00:00:00",
          "2018-02-01T00:00:00",
          "2018-03-01T00:00:00",
          "2018-04-01T00:00:00",
          "2018-05-01T00:00:00",
          "2018-06-01T00:00:00",
          "2018-07-01T00:00:00",
          "2018-08-01T00:00:00",
          "2018-09-01T00:00:00",
          "2018-10-01T00:00:00",
          "2018-11-01T00:00:00",
          "2018-12-01T00:00:00"
         ],
         "y": [
          1020.3408163265307,
          1079.3331741357767,
          1037.9352401057608,
          1118.1146782863389,
          1128.5952919952556,
          1116.5101093481144,
          1174.6164854674744,
          1200.8200217994026,
          1293.1483775571426,
          1288.5088778678662,
          1177.0633783721153,
          1264.2165139450103,
          1331.5141130261156,
          1424.0624960086534,
          1381.9712773766262,
          1219.6488796253318,
          1271.8174936417956,
          1360.7331097227895,
          1417.1924257509,
          1564.6498515355609,
          1612.3908309851693,
          1667.9426310029073,
          1688.8531852523988,
          1823.730515249301,
          1790.2594774459603,
          1747.227485353392,
          1775.0012708297545,
          1911.4916236534161,
          1930.6143418965773,
          1977.8749929803516,
          1927.3140497924496,
          1889.5347611225386,
          1769.8230935219508,
          1677.6514291881003,
          1788.2292010421577,
          1838.5295338543292,
          1800.2543506403536,
          1758.2827063511388,
          1676.6553287918005,
          1659.6253010950722,
          1746.8403041628237,
          1670.9668302985433,
          1636.4596601846843,
          1609.9790711120222,
          1811.9460170756647,
          1847.5378138396509,
          2106.487205633283,
          2249.8186136394443,
          2270.8153902112267,
          2379.6106189879592,
          2469.1325417439266,
          2567.197416019189,
          2739.445884277276,
          2818.42019562687,
          2912.083776168886,
          2816.020669724001,
          2787.785752274299,
          2845.9822021926943,
          2733.682067744948,
          2855.838603572179,
          2822.681734560501,
          2750.1330534073277,
          2607.182259794502,
          2653.590104018844,
          2641.2157093501028,
          2500.6329605428377,
          2580.688938608216,
          2510.93660329612,
          2802.210373638885,
          2770.5854279935315,
          2771.218704662787,
          2730.408267575345,
          2785.746399218795,
          3060.966773068146,
          3116.307802951025,
          3102.5578897469845,
          3054.082005657386,
          3227.5102338357883,
          3289.6562727260753,
          3345.6274244520287,
          3315.9742409736714,
          3166.173412814094,
          3254.3610347285567,
          3491.431273778834,
          3648.1609111217713,
          3717.0367000784804,
          4006.662131117248,
          4243.455863066278,
          4231.920591209942,
          4422.46065668601,
          4456.459451163023,
          4132.511228324297,
          4379.517328028709,
          4064.335085058088,
          4270.919431238612,
          4332.133037698996,
          4193.911470532903,
          4771.515788061297,
          5073.6111641695115,
          5202.149549867472,
          5113.214025828207,
          5154.912807965369,
          5346.3809979755115,
          5642.057689126816,
          5842.684654790786,
          5765.20350196052,
          4264.120995871489,
          4000.372058845217,
          4366.536726623313,
          4482.722248749262,
          4785.397484667362,
          4784.889646566948,
          4833.881057499247,
          4816.311379614744,
          5108.612334322874,
          5036.591326148378,
          4884.6610069814415,
          5066.779112974388,
          5123.278870266821,
          5007.116363636894,
          5156.2364638298595,
          5486.96167979253,
          5447.253993840399,
          5570.739906827294,
          5839.988546038297,
          6072.420090170621,
          6022.502318490607,
          6460.854451529315,
          6623.971248304559,
          6598.070168892821,
          6309.290142684504,
          6387.177685690828,
          6478.214520296674,
          6014.982519557582,
          6132.851625991851,
          6363.196526654614,
          6189.831886591676,
          6743.063901843273,
          6716.25678249472,
          6618.624339511639,
          5908.526992261707,
          5485.729682201151,
          5292.867100088336,
          5693.8395891136,
          5920.837867426526,
          6325.726510817808,
          6871.546341179803,
          7083.638722534911,
          7095.391780252096,
          7416.0455671539385,
          7107.795362937153,
          7394.16698753941,
          7552.990676404414,
          7473.684274302167,
          7592.51585426357,
          7276.078387374242,
          8073.670220886555,
          8249.593847311873,
          8445.17656511641,
          8219.31117963508,
          8270.723809768919,
          8290.2359663487,
          8061.9161002958945,
          8314.12245111515,
          8105.2513340269315,
          8264.478169417429,
          8378.241241361755,
          8758.544999913527,
          8925.743836503712,
          9017.059660692272,
          8993.3944796236,
          9246.787957553564,
          8974.68706865568,
          9323.399450492692,
          9293.01277922241,
          9297.678250944224,
          9666.85300206743,
          9641.817825619219,
          9891.26542679345,
          9829.656973563711,
          10161.498168781447,
          10499.627204785495,
          10355.053766518784,
          9860.33578963265,
          9838.361327015757,
          9905.041322866817,
          9625.254227050898,
          9850.838756731417,
          10325.267213507139,
          10154.879232510368,
          10227.849293281122,
          9798.613593552485,
          9982.847526281868,
          10130.288072297586,
          10533.204774830256,
          10885.013814309586,
          11069.903548955503,
          11364.046700399176,
          11726.188719229242,
          12224.312429822623,
          12325.125586004078,
          12631.417533475043,
          12344.813247480808,
          12952.404800724675,
          13156.709161346718,
          13501.039035397962,
          13808.036131178384,
          14070.416997336342,
          14439.463934580763,
          14911.398658891605,
          14787.81663857781,
          13951.369442751642,
          14423.4382292023,
          15117.82375537961,
          15152.00854868769,
          16016.631632422093,
          15947.07368933272,
          16670.485023958205,
          16802.590112423568,
          16042.7358383395,
          16554.630072691416,
          17734.603562321663,
          18488.36040678883,
          19720.28891144527,
          19173.594208234917,
          20147.37801530866,
          19181.33179802361,
          19569.303592819968,
          19845.78989643852,
          19723.272520037044,
          21195.312926833525,
          22195.861464202073,
          22387.651826323363,
          21781.58610902504,
          22021.8947916891,
          21079.672293101834,
          17622.47697781501,
          18511.18928107784,
          20095.331526227717,
          21148.162854679384,
          21816.229003307104,
          22032.521330854175,
          21274.19791810957,
          21834.577657964754,
          23883.24032699522,
          23496.3318336979,
          24235.98676948319,
          23245.031677796258,
          22615.423391209093,
          21780.63734452175,
          22053.65096609329,
          22281.16363065166,
          23380.034243505386,
          22592.842804833243,
          22116.733223603223,
          23819.586273249923,
          23724.502373759155,
          23343.506232577292,
          23482.09043590498,
          23660.650168484946,
          25137.31617420421,
          24497.597127893336,
          24665.98061182546,
          23775.085663115082,
          25255.69125293132,
          25955.273900637516,
          25065.908494940155,
          23854.76472039688,
          25533.45859200652,
          26107.54453753333,
          25748.379317681265,
          25482.960819857577,
          24841.050237409614,
          22411.139260002925,
          23276.941027741403,
          24794.645086711414,
          25676.27182415177,
          25880.529186540636,
          26187.820857575924,
          27701.69068127326,
          27377.92010467805,
          27328.02524211994,
          25898.434893076548,
          23232.48171755251,
          23482.918387822127,
          21460.79949301444,
          22261.287314103876,
          23567.161686668365,
          22824.651804793295,
          21980.046526171842,
          21495.812644028934,
          21463.042496998136,
          23121.522452230463,
          24836.101309014644,
          25263.839796661123,
          26044.44088752123,
          27061.609183979384,
          26614.706038026812,
          28550.084008530826,
          29375.938887585766,
          30974.829275610075,
          31259.165565572708,
          31994.52148694895,
          31939.8696206539,
          31389.395745253045,
          31784.19747173874,
          32904.75259689035,
          31494.01169371592,
          31608.09714423908,
          32414.36164669998,
          32882.78224837403,
          35013.18389175542,
          36217.851784063794,
          35586.1089693732,
          36624.787603005796,
          35924.80569300141,
          34601.89305233913,
          36103.12089805275,
          36403.80831924654,
          38055.27822767212,
          37748.73907835656,
          37975.77078052781,
          36882.223585194646,
          38460.85802448503,
          38618.23357619746,
          40347.93637680318,
          40479.273026846044,
          41622.19290914484,
          42271.83889153084,
          40905.5095356858,
          40859.428226984375,
          40087.685353023684,
          40928.135948190255,
          41425.53809017286,
          43338.637072708625,
          44689.82964119795,
          44996.09177984111,
          46321.915398447934,
          46112.71050298516,
          46609.222055258106,
          48646.901146824915,
          50826.08375942248,
          50219.69746216211,
          48694.658486168286,
          48845.11504320515,
          50769.31352418267,
          52412.58150886337,
          50075.62216028041,
          49728.66963531275,
          47095.58732166339,
          46200.96338943881,
          45788.4547877474,
          47919.206514421305,
          49343.09150799269,
          45102.10314297409,
          44836.460959972814,
          45724.58889890648,
          40676.03439154191,
          32117.38169398607,
          29124.959359583532,
          30277.89167937505,
          27859.800383275084,
          24723.412284208545,
          26930.506617980252,
          31636.420288710746,
          33249.29664632765,
          33101.37120410521,
          36342.19810644346,
          37737.44184272594,
          39654.2728427741,
          38101.929451610646,
          40508.2606940791,
          42150.415980665195,
          40453.04453550094,
          42480.98042523573,
          45543.078850989456,
          47024.34425435316,
          43338.499377257365,
          40505.84199040956,
          43600.157658542244,
          41331.88170133498,
          45601.12767796697,
          47564.86113742163,
          48370.16335782173,
          51923.98835995426,
          52735.38015357093,
          54744.8133838716,
          55754.35243231379,
          57192.13201871118,
          56659.77831639008,
          55837.286473197244,
          53954.77224352945,
          50639.96721573515,
          45388.08588110407,
          51612.83028783075,
          51736.27975129471,
          51434.0976438494,
          54875.24871131535,
          56759.93352879033,
          57992.66661575642,
          57447.41719718743,
          53498.7865620828,
          55247.21425188934,
          55042.34856149,
          56833.134522239554,
          58615.955156405544,
          58475.87498602159,
          59146.67680907552,
          60378.617591756,
          63790.502372364426,
          64587.75346732028,
          67546.53163483241,
          67754.27168212568,
          69691.62903016298,
          68273.75994893501,
          72041.63549289238,
          70409.0838183759,
          73550.7658767534,
          76800.50889967526,
          78757.82472648982,
          81309.09605686451,
          78348.78121267172,
          82216.49278155608,
          82485.4581650843,
          82433.10514979997,
          83826.72931931213,
          86397.13056017469,
          83527.33526017997,
          87245.66539085409,
          84328.27717161096,
          85963.38525611597,
          88165.97770895378,
          87552.95426802638,
          85132.56178126174,
          91053.61832310952,
          89554.3926238629,
          89892.87167516784,
          90510.19721228404,
          88544.648215272,
          87994.04506606399,
          83572.07493196859,
          79391.08341180066,
          84679.3396801226,
          85175.66429963548,
          82757.71840084376,
          78103.86344056776,
          80087.0639893995,
          86354.12191105161,
          88813.62828939986,
          89522.32479268874,
          90057.08365935851,
          94450.95039210196,
          94371.53449095596,
          94270.80732250948,
          91789.36880649779,
          97257.95460969798,
          98281.54496055962,
          101003.54260680404,
          103979.4367794866,
          104309.83674492672,
          105494.92421667976,
          106358.90611643797,
          107728.33129743514,
          109441.65147253903,
          109170.05749663989,
          112216.5704889033,
          114296.92829772203,
          118506.08762656366,
          120411.37529660866,
          125877.56026007347,
          121158.43621522134,
          119394.22102665888,
          118663.72332331624,
          121233.39836042582,
          121714.37331228839,
          125543.65653470113,
          127117.82026071992,
          127181.89801909625,
          117199.15724417286,
          119752.90296232805,
          108058.66539753744
         ]
        },
        {
         "name": "MW_wealth_index",
         "type": "scatter",
         "x": [
          "1978-12-01T00:00:00",
          "1979-01-01T00:00:00",
          "1979-02-01T00:00:00",
          "1979-03-01T00:00:00",
          "1979-04-01T00:00:00",
          "1979-05-01T00:00:00",
          "1979-06-01T00:00:00",
          "1979-07-01T00:00:00",
          "1979-08-01T00:00:00",
          "1979-09-01T00:00:00",
          "1979-10-01T00:00:00",
          "1979-11-01T00:00:00",
          "1979-12-01T00:00:00",
          "1980-01-01T00:00:00",
          "1980-02-01T00:00:00",
          "1980-03-01T00:00:00",
          "1980-04-01T00:00:00",
          "1980-05-01T00:00:00",
          "1980-06-01T00:00:00",
          "1980-07-01T00:00:00",
          "1980-08-01T00:00:00",
          "1980-09-01T00:00:00",
          "1980-10-01T00:00:00",
          "1980-11-01T00:00:00",
          "1980-12-01T00:00:00",
          "1981-01-01T00:00:00",
          "1981-02-01T00:00:00",
          "1981-03-01T00:00:00",
          "1981-04-01T00:00:00",
          "1981-05-01T00:00:00",
          "1981-06-01T00:00:00",
          "1981-07-01T00:00:00",
          "1981-08-01T00:00:00",
          "1981-09-01T00:00:00",
          "1981-10-01T00:00:00",
          "1981-11-01T00:00:00",
          "1981-12-01T00:00:00",
          "1982-01-01T00:00:00",
          "1982-02-01T00:00:00",
          "1982-03-01T00:00:00",
          "1982-04-01T00:00:00",
          "1982-05-01T00:00:00",
          "1982-06-01T00:00:00",
          "1982-07-01T00:00:00",
          "1982-08-01T00:00:00",
          "1982-09-01T00:00:00",
          "1982-10-01T00:00:00",
          "1982-11-01T00:00:00",
          "1982-12-01T00:00:00",
          "1983-01-01T00:00:00",
          "1983-02-01T00:00:00",
          "1983-03-01T00:00:00",
          "1983-04-01T00:00:00",
          "1983-05-01T00:00:00",
          "1983-06-01T00:00:00",
          "1983-07-01T00:00:00",
          "1983-08-01T00:00:00",
          "1983-09-01T00:00:00",
          "1983-10-01T00:00:00",
          "1983-11-01T00:00:00",
          "1983-12-01T00:00:00",
          "1984-01-01T00:00:00",
          "1984-02-01T00:00:00",
          "1984-03-01T00:00:00",
          "1984-04-01T00:00:00",
          "1984-05-01T00:00:00",
          "1984-06-01T00:00:00",
          "1984-07-01T00:00:00",
          "1984-08-01T00:00:00",
          "1984-09-01T00:00:00",
          "1984-10-01T00:00:00",
          "1984-11-01T00:00:00",
          "1984-12-01T00:00:00",
          "1985-01-01T00:00:00",
          "1985-02-01T00:00:00",
          "1985-03-01T00:00:00",
          "1985-04-01T00:00:00",
          "1985-05-01T00:00:00",
          "1985-06-01T00:00:00",
          "1985-07-01T00:00:00",
          "1985-08-01T00:00:00",
          "1985-09-01T00:00:00",
          "1985-10-01T00:00:00",
          "1985-11-01T00:00:00",
          "1985-12-01T00:00:00",
          "1986-01-01T00:00:00",
          "1986-02-01T00:00:00",
          "1986-03-01T00:00:00",
          "1986-04-01T00:00:00",
          "1986-05-01T00:00:00",
          "1986-06-01T00:00:00",
          "1986-07-01T00:00:00",
          "1986-08-01T00:00:00",
          "1986-09-01T00:00:00",
          "1986-10-01T00:00:00",
          "1986-11-01T00:00:00",
          "1986-12-01T00:00:00",
          "1987-01-01T00:00:00",
          "1987-02-01T00:00:00",
          "1987-03-01T00:00:00",
          "1987-04-01T00:00:00",
          "1987-05-01T00:00:00",
          "1987-06-01T00:00:00",
          "1987-07-01T00:00:00",
          "1987-08-01T00:00:00",
          "1987-09-01T00:00:00",
          "1987-10-01T00:00:00",
          "1987-11-01T00:00:00",
          "1987-12-01T00:00:00",
          "1988-01-01T00:00:00",
          "1988-02-01T00:00:00",
          "1988-03-01T00:00:00",
          "1988-04-01T00:00:00",
          "1988-05-01T00:00:00",
          "1988-06-01T00:00:00",
          "1988-07-01T00:00:00",
          "1988-08-01T00:00:00",
          "1988-09-01T00:00:00",
          "1988-10-01T00:00:00",
          "1988-11-01T00:00:00",
          "1988-12-01T00:00:00",
          "1989-01-01T00:00:00",
          "1989-02-01T00:00:00",
          "1989-03-01T00:00:00",
          "1989-04-01T00:00:00",
          "1989-05-01T00:00:00",
          "1989-06-01T00:00:00",
          "1989-07-01T00:00:00",
          "1989-08-01T00:00:00",
          "1989-09-01T00:00:00",
          "1989-10-01T00:00:00",
          "1989-11-01T00:00:00",
          "1989-12-01T00:00:00",
          "1990-01-01T00:00:00",
          "1990-02-01T00:00:00",
          "1990-03-01T00:00:00",
          "1990-04-01T00:00:00",
          "1990-05-01T00:00:00",
          "1990-06-01T00:00:00",
          "1990-07-01T00:00:00",
          "1990-08-01T00:00:00",
          "1990-09-01T00:00:00",
          "1990-10-01T00:00:00",
          "1990-11-01T00:00:00",
          "1990-12-01T00:00:00",
          "1991-01-01T00:00:00",
          "1991-02-01T00:00:00",
          "1991-03-01T00:00:00",
          "1991-04-01T00:00:00",
          "1991-05-01T00:00:00",
          "1991-06-01T00:00:00",
          "1991-07-01T00:00:00",
          "1991-08-01T00:00:00",
          "1991-09-01T00:00:00",
          "1991-10-01T00:00:00",
          "1991-11-01T00:00:00",
          "1991-12-01T00:00:00",
          "1992-01-01T00:00:00",
          "1992-02-01T00:00:00",
          "1992-03-01T00:00:00",
          "1992-04-01T00:00:00",
          "1992-05-01T00:00:00",
          "1992-06-01T00:00:00",
          "1992-07-01T00:00:00",
          "1992-08-01T00:00:00",
          "1992-09-01T00:00:00",
          "1992-10-01T00:00:00",
          "1992-11-01T00:00:00",
          "1992-12-01T00:00:00",
          "1993-01-01T00:00:00",
          "1993-02-01T00:00:00",
          "1993-03-01T00:00:00",
          "1993-04-01T00:00:00",
          "1993-05-01T00:00:00",
          "1993-06-01T00:00:00",
          "1993-07-01T00:00:00",
          "1993-08-01T00:00:00",
          "1993-09-01T00:00:00",
          "1993-10-01T00:00:00",
          "1993-11-01T00:00:00",
          "1993-12-01T00:00:00",
          "1994-01-01T00:00:00",
          "1994-02-01T00:00:00",
          "1994-03-01T00:00:00",
          "1994-04-01T00:00:00",
          "1994-05-01T00:00:00",
          "1994-06-01T00:00:00",
          "1994-07-01T00:00:00",
          "1994-08-01T00:00:00",
          "1994-09-01T00:00:00",
          "1994-10-01T00:00:00",
          "1994-11-01T00:00:00",
          "1994-12-01T00:00:00",
          "1995-01-01T00:00:00",
          "1995-02-01T00:00:00",
          "1995-03-01T00:00:00",
          "1995-04-01T00:00:00",
          "1995-05-01T00:00:00",
          "1995-06-01T00:00:00",
          "1995-07-01T00:00:00",
          "1995-08-01T00:00:00",
          "1995-09-01T00:00:00",
          "1995-10-01T00:00:00",
          "1995-11-01T00:00:00",
          "1995-12-01T00:00:00",
          "1996-01-01T00:00:00",
          "1996-02-01T00:00:00",
          "1996-03-01T00:00:00",
          "1996-04-01T00:00:00",
          "1996-05-01T00:00:00",
          "1996-06-01T00:00:00",
          "1996-07-01T00:00:00",
          "1996-08-01T00:00:00",
          "1996-09-01T00:00:00",
          "1996-10-01T00:00:00",
          "1996-11-01T00:00:00",
          "1996-12-01T00:00:00",
          "1997-01-01T00:00:00",
          "1997-02-01T00:00:00",
          "1997-03-01T00:00:00",
          "1997-04-01T00:00:00",
          "1997-05-01T00:00:00",
          "1997-06-01T00:00:00",
          "1997-07-01T00:00:00",
          "1997-08-01T00:00:00",
          "1997-09-01T00:00:00",
          "1997-10-01T00:00:00",
          "1997-11-01T00:00:00",
          "1997-12-01T00:00:00",
          "1998-01-01T00:00:00",
          "1998-02-01T00:00:00",
          "1998-03-01T00:00:00",
          "1998-04-01T00:00:00",
          "1998-05-01T00:00:00",
          "1998-06-01T00:00:00",
          "1998-07-01T00:00:00",
          "1998-08-01T00:00:00",
          "1998-09-01T00:00:00",
          "1998-10-01T00:00:00",
          "1998-11-01T00:00:00",
          "1998-12-01T00:00:00",
          "1999-01-01T00:00:00",
          "1999-02-01T00:00:00",
          "1999-03-01T00:00:00",
          "1999-04-01T00:00:00",
          "1999-05-01T00:00:00",
          "1999-06-01T00:00:00",
          "1999-07-01T00:00:00",
          "1999-08-01T00:00:00",
          "1999-09-01T00:00:00",
          "1999-10-01T00:00:00",
          "1999-11-01T00:00:00",
          "1999-12-01T00:00:00",
          "2000-01-01T00:00:00",
          "2000-02-01T00:00:00",
          "2000-03-01T00:00:00",
          "2000-04-01T00:00:00",
          "2000-05-01T00:00:00",
          "2000-06-01T00:00:00",
          "2000-07-01T00:00:00",
          "2000-08-01T00:00:00",
          "2000-09-01T00:00:00",
          "2000-10-01T00:00:00",
          "2000-11-01T00:00:00",
          "2000-12-01T00:00:00",
          "2001-01-01T00:00:00",
          "2001-02-01T00:00:00",
          "2001-03-01T00:00:00",
          "2001-04-01T00:00:00",
          "2001-05-01T00:00:00",
          "2001-06-01T00:00:00",
          "2001-07-01T00:00:00",
          "2001-08-01T00:00:00",
          "2001-09-01T00:00:00",
          "2001-10-01T00:00:00",
          "2001-11-01T00:00:00",
          "2001-12-01T00:00:00",
          "2002-01-01T00:00:00",
          "2002-02-01T00:00:00",
          "2002-03-01T00:00:00",
          "2002-04-01T00:00:00",
          "2002-05-01T00:00:00",
          "2002-06-01T00:00:00",
          "2002-07-01T00:00:00",
          "2002-08-01T00:00:00",
          "2002-09-01T00:00:00",
          "2002-10-01T00:00:00",
          "2002-11-01T00:00:00",
          "2002-12-01T00:00:00",
          "2003-01-01T00:00:00",
          "2003-02-01T00:00:00",
          "2003-03-01T00:00:00",
          "2003-04-01T00:00:00",
          "2003-05-01T00:00:00",
          "2003-06-01T00:00:00",
          "2003-07-01T00:00:00",
          "2003-08-01T00:00:00",
          "2003-09-01T00:00:00",
          "2003-10-01T00:00:00",
          "2003-11-01T00:00:00",
          "2003-12-01T00:00:00",
          "2004-01-01T00:00:00",
          "2004-02-01T00:00:00",
          "2004-03-01T00:00:00",
          "2004-04-01T00:00:00",
          "2004-05-01T00:00:00",
          "2004-06-01T00:00:00",
          "2004-07-01T00:00:00",
          "2004-08-01T00:00:00",
          "2004-09-01T00:00:00",
          "2004-10-01T00:00:00",
          "2004-11-01T00:00:00",
          "2004-12-01T00:00:00",
          "2005-01-01T00:00:00",
          "2005-02-01T00:00:00",
          "2005-03-01T00:00:00",
          "2005-04-01T00:00:00",
          "2005-05-01T00:00:00",
          "2005-06-01T00:00:00",
          "2005-07-01T00:00:00",
          "2005-08-01T00:00:00",
          "2005-09-01T00:00:00",
          "2005-10-01T00:00:00",
          "2005-11-01T00:00:00",
          "2005-12-01T00:00:00",
          "2006-01-01T00:00:00",
          "2006-02-01T00:00:00",
          "2006-03-01T00:00:00",
          "2006-04-01T00:00:00",
          "2006-05-01T00:00:00",
          "2006-06-01T00:00:00",
          "2006-07-01T00:00:00",
          "2006-08-01T00:00:00",
          "2006-09-01T00:00:00",
          "2006-10-01T00:00:00",
          "2006-11-01T00:00:00",
          "2006-12-01T00:00:00",
          "2007-01-01T00:00:00",
          "2007-02-01T00:00:00",
          "2007-03-01T00:00:00",
          "2007-04-01T00:00:00",
          "2007-05-01T00:00:00",
          "2007-06-01T00:00:00",
          "2007-07-01T00:00:00",
          "2007-08-01T00:00:00",
          "2007-09-01T00:00:00",
          "2007-10-01T00:00:00",
          "2007-11-01T00:00:00",
          "2007-12-01T00:00:00",
          "2008-01-01T00:00:00",
          "2008-02-01T00:00:00",
          "2008-03-01T00:00:00",
          "2008-04-01T00:00:00",
          "2008-05-01T00:00:00",
          "2008-06-01T00:00:00",
          "2008-07-01T00:00:00",
          "2008-08-01T00:00:00",
          "2008-09-01T00:00:00",
          "2008-10-01T00:00:00",
          "2008-11-01T00:00:00",
          "2008-12-01T00:00:00",
          "2009-01-01T00:00:00",
          "2009-02-01T00:00:00",
          "2009-03-01T00:00:00",
          "2009-04-01T00:00:00",
          "2009-05-01T00:00:00",
          "2009-06-01T00:00:00",
          "2009-07-01T00:00:00",
          "2009-08-01T00:00:00",
          "2009-09-01T00:00:00",
          "2009-10-01T00:00:00",
          "2009-11-01T00:00:00",
          "2009-12-01T00:00:00",
          "2010-01-01T00:00:00",
          "2010-02-01T00:00:00",
          "2010-03-01T00:00:00",
          "2010-04-01T00:00:00",
          "2010-05-01T00:00:00",
          "2010-06-01T00:00:00",
          "2010-07-01T00:00:00",
          "2010-08-01T00:00:00",
          "2010-09-01T00:00:00",
          "2010-10-01T00:00:00",
          "2010-11-01T00:00:00",
          "2010-12-01T00:00:00",
          "2011-01-01T00:00:00",
          "2011-02-01T00:00:00",
          "2011-03-01T00:00:00",
          "2011-04-01T00:00:00",
          "2011-05-01T00:00:00",
          "2011-06-01T00:00:00",
          "2011-07-01T00:00:00",
          "2011-08-01T00:00:00",
          "2011-09-01T00:00:00",
          "2011-10-01T00:00:00",
          "2011-11-01T00:00:00",
          "2011-12-01T00:00:00",
          "2012-01-01T00:00:00",
          "2012-02-01T00:00:00",
          "2012-03-01T00:00:00",
          "2012-04-01T00:00:00",
          "2012-05-01T00:00:00",
          "2012-06-01T00:00:00",
          "2012-07-01T00:00:00",
          "2012-08-01T00:00:00",
          "2012-09-01T00:00:00",
          "2012-10-01T00:00:00",
          "2012-11-01T00:00:00",
          "2012-12-01T00:00:00",
          "2013-01-01T00:00:00",
          "2013-02-01T00:00:00",
          "2013-03-01T00:00:00",
          "2013-04-01T00:00:00",
          "2013-05-01T00:00:00",
          "2013-06-01T00:00:00",
          "2013-07-01T00:00:00",
          "2013-08-01T00:00:00",
          "2013-09-01T00:00:00",
          "2013-10-01T00:00:00",
          "2013-11-01T00:00:00",
          "2013-12-01T00:00:00",
          "2014-01-01T00:00:00",
          "2014-02-01T00:00:00",
          "2014-03-01T00:00:00",
          "2014-04-01T00:00:00",
          "2014-05-01T00:00:00",
          "2014-06-01T00:00:00",
          "2014-07-01T00:00:00",
          "2014-08-01T00:00:00",
          "2014-09-01T00:00:00",
          "2014-10-01T00:00:00",
          "2014-11-01T00:00:00",
          "2014-12-01T00:00:00",
          "2015-01-01T00:00:00",
          "2015-02-01T00:00:00",
          "2015-03-01T00:00:00",
          "2015-04-01T00:00:00",
          "2015-05-01T00:00:00",
          "2015-06-01T00:00:00",
          "2015-07-01T00:00:00",
          "2015-08-01T00:00:00",
          "2015-09-01T00:00:00",
          "2015-10-01T00:00:00",
          "2015-11-01T00:00:00",
          "2015-12-01T00:00:00",
          "2016-01-01T00:00:00",
          "2016-02-01T00:00:00",
          "2016-03-01T00:00:00",
          "2016-04-01T00:00:00",
          "2016-05-01T00:00:00",
          "2016-06-01T00:00:00",
          "2016-07-01T00:00:00",
          "2016-08-01T00:00:00",
          "2016-09-01T00:00:00",
          "2016-10-01T00:00:00",
          "2016-11-01T00:00:00",
          "2016-12-01T00:00:00",
          "2017-01-01T00:00:00",
          "2017-02-01T00:00:00",
          "2017-03-01T00:00:00",
          "2017-04-01T00:00:00",
          "2017-05-01T00:00:00",
          "2017-06-01T00:00:00",
          "2017-07-01T00:00:00",
          "2017-08-01T00:00:00",
          "2017-09-01T00:00:00",
          "2017-10-01T00:00:00",
          "2017-11-01T00:00:00",
          "2017-12-01T00:00:00",
          "2018-01-01T00:00:00",
          "2018-02-01T00:00:00",
          "2018-03-01T00:00:00",
          "2018-04-01T00:00:00",
          "2018-05-01T00:00:00",
          "2018-06-01T00:00:00",
          "2018-07-01T00:00:00",
          "2018-08-01T00:00:00",
          "2018-09-01T00:00:00",
          "2018-10-01T00:00:00",
          "2018-11-01T00:00:00",
          "2018-12-01T00:00:00"
         ],
         "y": [
          1018.0627200430265,
          1068.2552168866528,
          1037.1609119230925,
          1104.4733024704578,
          1113.3814183977206,
          1097.0789044475566,
          1145.3442741828103,
          1161.9833262496313,
          1236.0478590219673,
          1234.4851700987292,
          1145.8366854872186,
          1213.606858147408,
          1245.4627612303377,
          1312.8514638429476,
          1293.202484417228,
          1160.949526759824,
          1217.2438630546185,
          1294.1964200210068,
          1335.879577412854,
          1437.368923329077,
          1469.1226786149336,
          1505.5257033556036,
          1523.280491399167,
          1649.8846780447582,
          1620.815457112122,
          1578.7685576942013,
          1618.5215348836123,
          1702.8620170282784,
          1697.5296324469514,
          1720.5659205374347,
          1705.4096340659175,
          1691.7112217756257,
          1596.0260490003805,
          1510.9605468897928,
          1592.1250290827472,
          1661.0481306825488,
          1624.2445970809001,
          1592.5947202758132,
          1517.8503315552182,
          1507.9020845505274,
          1572.5058496045497,
          1529.3612213702988,
          1498.3846507024978,
          1465.968048646183,
          1637.8722403741183,
          1664.5575757423007,
          1859.7912627641313,
          1954.0062415694788,
          1986.1759133414082,
          2073.7699504233447,
          2135.1515262584967,
          2206.3651108276777,
          2371.9144138949155,
          2397.6081679387685,
          2484.03689503451,
          2409.813045595267,
          2424.508135823456,
          2467.6409391500324,
          2411.1421168442344,
          2479.6693518792777,
          2460.6662386718262,
          2447.788062551728,
          2354.0756789960537,
          2381.4756812533883,
          2394.2747582837374,
          2272.676805656777,
          2331.0746195115366,
          2282.0965712592115,
          2536.604874536279,
          2546.4773195139596,
          2535.4199959057923,
          2512.5477381836,
          2565.1136721355506,
          2778.451196793948,
          2835.266143458671,
          2837.7729619729566,
          2838.8886160288353,
          2985.0285090853667,
          3028.825832789725,
          3042.4564012602236,
          3036.3074879509277,
          2927.5211060386464,
          3059.0732650751493,
          3238.281453635077,
          3341.8565570850187,
          3337.27646905063,
          3558.0819190432876,
          3721.7116261400174,
          3701.526209541261,
          3892.7289920999697,
          3921.553902372075,
          3691.420104709217,
          4001.811396446623,
          3727.389983132092,
          3909.301364260402,
          3988.4178190144485,
          3893.8212417419936,
          4407.5607889767425,
          4590.326830827752,
          4736.495429765337,
          4673.129995746055,
          4725.064141026399,
          4939.773363555053,
          5155.958821484675,
          5353.34919062729,
          5241.161012015712,
          4078.5803122439147,
          3772.3221381956087,
          4057.3571596002694,
          4240.22371694955,
          4470.099762123902,
          4401.628743769371,
          4458.813039223186,
          4463.657401087836,
          4694.898989093073,
          4663.907521413343,
          4533.023595973712,
          4686.954037506417,
          4765.695788469582,
          4676.856195711776,
          4790.393570304792,
          5101.287057087711,
          5018.702498238228,
          5112.462665858501,
          5348.711239550247,
          5549.116025807499,
          5517.154426936167,
          5911.723259894468,
          6062.652808287782,
          6032.004929233747,
          5842.052046108842,
          5915.242742078346,
          6013.565234022802,
          5610.018831758759,
          5712.0403104746665,
          5849.671189819644,
          5680.669917077671,
          6167.4337848980695,
          6140.020895605384,
          6059.085419406538,
          5474.19684768001,
          5136.323149255305,
          5028.846577087546,
          5406.284978850496,
          5572.070541926591,
          5912.153743651557,
          6381.534082386081,
          6603.032654426414,
          6615.4686860492975,
          6906.97755500458,
          6588.225656168389,
          6898.330712164959,
          7079.083661844624,
          7029.583802716102,
          7115.596020943272,
          6843.795085342574,
          7549.213471356012,
          7621.559371563696,
          7777.968384126481,
          7629.967429805431,
          7780.9980134891985,
          7844.435296060217,
          7693.881132948872,
          7987.895560043493,
          7780.814666755667,
          7902.466638450538,
          7976.436107265613,
          8324.850241548387,
          8462.183257254308,
          8590.151218324507,
          8673.952680404054,
          8908.021462578421,
          8689.868271272426,
          8960.644184145738,
          8986.135611872463,
          8962.612784045987,
          9312.533221368623,
          9288.506862070222,
          9493.273564830342,
          9388.024294880266,
          9579.791569674757,
          9893.758744547107,
          9647.241494665735,
          9211.214566885843,
          9313.196163667497,
          9386.810967549136,
          9145.925892132227,
          9438.546605446056,
          9847.502660518685,
          9650.535727433205,
          9819.449671753913,
          9461.630492091215,
          9588.530956865614,
          9800.031399462572,
          10173.333695376923,
          10444.534396006107,
          10688.501231510907,
          11048.48948735891,
          11342.293425432728,
          11771.595438397115,
          11866.687049936803,
          12334.154948839725,
          12230.930515942506,
          12787.121510026675,
          13083.914022038229,
          13432.558833193963,
          13640.007826626817,
          13814.77375885767,
          14083.176575790874,
          14465.641483669768,
          14451.46386676022,
          13674.32165595469,
          14101.736111542217,
          14809.209641244308,
          15033.683769617228,
          15949.645807653664,
          15773.068185165588,
          16533.717753790454,
          16625.260360636894,
          15971.652456209213,
          16590.577039666536,
          17710.254277472224,
          18530.513477702694,
          19781.249522539325,
          19068.025101730207,
          20216.587016335572,
          19678.7392611535,
          20458.538883031237,
          20943.18595751661,
          20965.36430781287,
          22434.939035338626,
          23672.313061384782,
          23877.052728428713,
          23431.530259731273,
          24087.025649960593,
          23409.00997126392,
          20076.537648320344,
          21185.71657809679,
          22802.82380565447,
          24055.003841630412,
          25240.299031955125,
          25647.461355654686,
          24979.797684386835,
          25688.19105873484,
          27454.502129796325,
          27053.38850359297,
          28099.487390612434,
          27309.53951468354,
          26752.397996717846,
          25880.066263066954,
          27399.072432751458,
          27792.42071775161,
          28942.06235116882,
          27891.22022850384,
          27076.277483086196,
          29548.407092546036,
          29154.03917827267,
          29185.337652183516,
          29491.448857951065,
          29506.56865130185,
          31139.423700118325,
          30687.857355339154,
          30711.098211693465,
          28851.50918491599,
          29972.488014926545,
          30584.892060071048,
          28682.786881479606,
          27064.978626200565,
          28899.105446322665,
          29321.52155399042,
          28761.23897421853,
          28493.683344974645,
          27123.28679038414,
          24659.76911531074,
          25413.334568323393,
          27407.014864431003,
          27912.245172854426,
          27772.38536530283,
          27526.840847443316,
          28947.74539213281,
          27894.75441869809,
          27651.822779300932,
          25734.143582726007,
          23555.544720888167,
          23697.786920899114,
          21268.004817492874,
          22923.555971984886,
          24464.481572023495,
          23195.192432985055,
          22547.00528779155,
          22110.009789215386,
          22254.014426917216,
          24119.707251367177,
          25737.15894999932,
          26091.673888934398,
          26761.378923366712,
          27451.33480497599,
          27078.667456721978,
          28794.80026635522,
          29272.91481195201,
          30637.542412892042,
          31232.13036686039,
          31593.775651740456,
          31205.20604546806,
          30667.464950825528,
          31066.774701826194,
          31712.96151574679,
          30301.552035295263,
          30233.263955512666,
          30779.66580605516,
          31412.16494173676,
          32925.31745551513,
          34128.449027446404,
          32960.41494026544,
          33419.83390218289,
          32828.57193825839,
          31821.06777668311,
          33316.96673024143,
          33308.623780737194,
          34801.03916143076,
          34433.467095315464,
          34650.64146941677,
          34115.514476388504,
          35503.2692176563,
          35507.208174490734,
          36631.45346989025,
          36776.68869190037,
          37451.547003551015,
          37762.727075306306,
          36639.383254038024,
          36669.618264936864,
          36526.9985185697,
          37545.55241769982,
          38518.92778888159,
          39847.182472786655,
          40525.82664931444,
          41035.71767615967,
          41826.3940069014,
          41136.76093941676,
          41524.57823616243,
          43251.84632664311,
          44721.04966497437,
          43995.94422403496,
          42340.292135047814,
          42931.56056817512,
          44207.473476290026,
          44833.494846299924,
          42868.963455181874,
          42219.09525857296,
          40084.89730973254,
          38522.607029451065,
          38341.6293662904,
          39979.15961176818,
          40490.19717490894,
          36547.347893148304,
          37153.89212016635,
          37860.576970787544,
          34780.68269870979,
          28709.862915114016,
          26167.31078485842,
          26753.537641905634,
          24190.37692526073,
          21699.446764302156,
          23800.640576487764,
          26720.77444847104,
          28116.185877457687,
          28242.524230566363,
          30544.354663268467,
          31847.590823444985,
          33081.282767805234,
          32154.071278125833,
          33972.850518925945,
          34999.894381697304,
          33967.8925341632,
          35052.23787031812,
          37338.21093994338,
          38124.450762013505,
          35108.605831542445,
          33012.97375211176,
          35306.813629905926,
          33528.231090144254,
          36781.54685753021,
          38112.655574800316,
          38339.96082296547,
          41081.82985777135,
          41974.25818503646,
          43437.4180974452,
          43617.78085227264,
          44915.031886302466,
          44395.493643439724,
          43632.819176489735,
          42515.744464072624,
          39957.81108362551,
          36838.787287999854,
          41108.38081573984,
          40967.05518096503,
          41296.594995475105,
          43484.687665615864,
          45405.19160634849,
          46938.20851011078,
          46536.58958627647,
          43541.284738414295,
          45289.02338399328,
          45537.13238639341,
          46757.018751805226,
          48056.68460774227,
          47421.444285176534,
          47790.08891992655,
          48466.66967842353,
          51348.29362306928,
          52010.706223099754,
          54110.02941700036,
          54833.50893067282,
          56437.2734114416,
          55616.88564070361,
          58752.142633078576,
          57133.70447441851,
          59208.11028712247,
          61719.956968568564,
          63509.03023870297,
          65128.257241369894,
          63095.4402105041,
          66048.18495101326,
          66509.97469555281,
          66681.87603394188,
          68053.23849624772,
          69787.1387133775,
          68428.3711603144,
          71318.04636058952,
          69835.89563857658,
          71350.12714278258,
          72974.8152332166,
          72942.63739834927,
          70548.5571958886,
          74880.59514941362,
          73773.7209372577,
          74570.2383748723,
          75354.42416612396,
          74038.49075805035,
          74823.54489924308,
          70444.47503893047,
          68121.5363733767,
          73483.62830864736,
          73753.78473288663,
          71812.93996304303,
          67610.6658950822,
          67925.70662612494,
          72879.2679827724,
          74026.28863134778,
          75175.70039233917,
          75275.10392758991,
          78170.22021326075,
          78646.85763840377,
          79007.76813604406,
          77419.75370333366,
          81285.37816952194,
          82728.33137667117,
          84258.51251765282,
          87262.00080679439,
          87302.51511089361,
          88193.02048597844,
          88738.83904130486,
          89437.04861630208,
          91152.05191513516,
          91009.21693188742,
          93721.03867892984,
          95332.4533101533,
          98588.5556420057,
          100103.6322695136,
          105500.59599277748,
          101164.9846718051,
          99303.69083203061,
          99923.97903901839,
          101954.65023125274,
          102744.5521194432,
          106311.19877822828,
          109615.66460906004,
          109995.78479281408,
          102257.32074504558,
          104398.21417200113,
          94489.92815979144
         ]
        },
        {
         "name": "EWT_wealth_index",
         "type": "scatter",
         "x": [
          "1978-12-01T00:00:00",
          "1979-01-01T00:00:00",
          "1979-02-01T00:00:00",
          "1979-03-01T00:00:00",
          "1979-04-01T00:00:00",
          "1979-05-01T00:00:00",
          "1979-06-01T00:00:00",
          "1979-07-01T00:00:00",
          "1979-08-01T00:00:00",
          "1979-09-01T00:00:00",
          "1979-10-01T00:00:00",
          "1979-11-01T00:00:00",
          "1979-12-01T00:00:00",
          "1980-01-01T00:00:00",
          "1980-02-01T00:00:00",
          "1980-03-01T00:00:00",
          "1980-04-01T00:00:00",
          "1980-05-01T00:00:00",
          "1980-06-01T00:00:00",
          "1980-07-01T00:00:00",
          "1980-08-01T00:00:00",
          "1980-09-01T00:00:00",
          "1980-10-01T00:00:00",
          "1980-11-01T00:00:00",
          "1980-12-01T00:00:00",
          "1981-01-01T00:00:00",
          "1981-02-01T00:00:00",
          "1981-03-01T00:00:00",
          "1981-04-01T00:00:00",
          "1981-05-01T00:00:00",
          "1981-06-01T00:00:00",
          "1981-07-01T00:00:00",
          "1981-08-01T00:00:00",
          "1981-09-01T00:00:00",
          "1981-10-01T00:00:00",
          "1981-11-01T00:00:00",
          "1981-12-01T00:00:00",
          "1982-01-01T00:00:00",
          "1982-02-01T00:00:00",
          "1982-03-01T00:00:00",
          "1982-04-01T00:00:00",
          "1982-05-01T00:00:00",
          "1982-06-01T00:00:00",
          "1982-07-01T00:00:00",
          "1982-08-01T00:00:00",
          "1982-09-01T00:00:00",
          "1982-10-01T00:00:00",
          "1982-11-01T00:00:00",
          "1982-12-01T00:00:00",
          "1983-01-01T00:00:00",
          "1983-02-01T00:00:00",
          "1983-03-01T00:00:00",
          "1983-04-01T00:00:00",
          "1983-05-01T00:00:00",
          "1983-06-01T00:00:00",
          "1983-07-01T00:00:00",
          "1983-08-01T00:00:00",
          "1983-09-01T00:00:00",
          "1983-10-01T00:00:00",
          "1983-11-01T00:00:00",
          "1983-12-01T00:00:00",
          "1984-01-01T00:00:00",
          "1984-02-01T00:00:00",
          "1984-03-01T00:00:00",
          "1984-04-01T00:00:00",
          "1984-05-01T00:00:00",
          "1984-06-01T00:00:00",
          "1984-07-01T00:00:00",
          "1984-08-01T00:00:00",
          "1984-09-01T00:00:00",
          "1984-10-01T00:00:00",
          "1984-11-01T00:00:00",
          "1984-12-01T00:00:00",
          "1985-01-01T00:00:00",
          "1985-02-01T00:00:00",
          "1985-03-01T00:00:00",
          "1985-04-01T00:00:00",
          "1985-05-01T00:00:00",
          "1985-06-01T00:00:00",
          "1985-07-01T00:00:00",
          "1985-08-01T00:00:00",
          "1985-09-01T00:00:00",
          "1985-10-01T00:00:00",
          "1985-11-01T00:00:00",
          "1985-12-01T00:00:00",
          "1986-01-01T00:00:00",
          "1986-02-01T00:00:00",
          "1986-03-01T00:00:00",
          "1986-04-01T00:00:00",
          "1986-05-01T00:00:00",
          "1986-06-01T00:00:00",
          "1986-07-01T00:00:00",
          "1986-08-01T00:00:00",
          "1986-09-01T00:00:00",
          "1986-10-01T00:00:00",
          "1986-11-01T00:00:00",
          "1986-12-01T00:00:00",
          "1987-01-01T00:00:00",
          "1987-02-01T00:00:00",
          "1987-03-01T00:00:00",
          "1987-04-01T00:00:00",
          "1987-05-01T00:00:00",
          "1987-06-01T00:00:00",
          "1987-07-01T00:00:00",
          "1987-08-01T00:00:00",
          "1987-09-01T00:00:00",
          "1987-10-01T00:00:00",
          "1987-11-01T00:00:00",
          "1987-12-01T00:00:00",
          "1988-01-01T00:00:00",
          "1988-02-01T00:00:00",
          "1988-03-01T00:00:00",
          "1988-04-01T00:00:00",
          "1988-05-01T00:00:00",
          "1988-06-01T00:00:00",
          "1988-07-01T00:00:00",
          "1988-08-01T00:00:00",
          "1988-09-01T00:00:00",
          "1988-10-01T00:00:00",
          "1988-11-01T00:00:00",
          "1988-12-01T00:00:00",
          "1989-01-01T00:00:00",
          "1989-02-01T00:00:00",
          "1989-03-01T00:00:00",
          "1989-04-01T00:00:00",
          "1989-05-01T00:00:00",
          "1989-06-01T00:00:00",
          "1989-07-01T00:00:00",
          "1989-08-01T00:00:00",
          "1989-09-01T00:00:00",
          "1989-10-01T00:00:00",
          "1989-11-01T00:00:00",
          "1989-12-01T00:00:00",
          "1990-01-01T00:00:00",
          "1990-02-01T00:00:00",
          "1990-03-01T00:00:00",
          "1990-04-01T00:00:00",
          "1990-05-01T00:00:00",
          "1990-06-01T00:00:00",
          "1990-07-01T00:00:00",
          "1990-08-01T00:00:00",
          "1990-09-01T00:00:00",
          "1990-10-01T00:00:00",
          "1990-11-01T00:00:00",
          "1990-12-01T00:00:00",
          "1991-01-01T00:00:00",
          "1991-02-01T00:00:00",
          "1991-03-01T00:00:00",
          "1991-04-01T00:00:00",
          "1991-05-01T00:00:00",
          "1991-06-01T00:00:00",
          "1991-07-01T00:00:00",
          "1991-08-01T00:00:00",
          "1991-09-01T00:00:00",
          "1991-10-01T00:00:00",
          "1991-11-01T00:00:00",
          "1991-12-01T00:00:00",
          "1992-01-01T00:00:00",
          "1992-02-01T00:00:00",
          "1992-03-01T00:00:00",
          "1992-04-01T00:00:00",
          "1992-05-01T00:00:00",
          "1992-06-01T00:00:00",
          "1992-07-01T00:00:00",
          "1992-08-01T00:00:00",
          "1992-09-01T00:00:00",
          "1992-10-01T00:00:00",
          "1992-11-01T00:00:00",
          "1992-12-01T00:00:00",
          "1993-01-01T00:00:00",
          "1993-02-01T00:00:00",
          "1993-03-01T00:00:00",
          "1993-04-01T00:00:00",
          "1993-05-01T00:00:00",
          "1993-06-01T00:00:00",
          "1993-07-01T00:00:00",
          "1993-08-01T00:00:00",
          "1993-09-01T00:00:00",
          "1993-10-01T00:00:00",
          "1993-11-01T00:00:00",
          "1993-12-01T00:00:00",
          "1994-01-01T00:00:00",
          "1994-02-01T00:00:00",
          "1994-03-01T00:00:00",
          "1994-04-01T00:00:00",
          "1994-05-01T00:00:00",
          "1994-06-01T00:00:00",
          "1994-07-01T00:00:00",
          "1994-08-01T00:00:00",
          "1994-09-01T00:00:00",
          "1994-10-01T00:00:00",
          "1994-11-01T00:00:00",
          "1994-12-01T00:00:00",
          "1995-01-01T00:00:00",
          "1995-02-01T00:00:00",
          "1995-03-01T00:00:00",
          "1995-04-01T00:00:00",
          "1995-05-01T00:00:00",
          "1995-06-01T00:00:00",
          "1995-07-01T00:00:00",
          "1995-08-01T00:00:00",
          "1995-09-01T00:00:00",
          "1995-10-01T00:00:00",
          "1995-11-01T00:00:00",
          "1995-12-01T00:00:00",
          "1996-01-01T00:00:00",
          "1996-02-01T00:00:00",
          "1996-03-01T00:00:00",
          "1996-04-01T00:00:00",
          "1996-05-01T00:00:00",
          "1996-06-01T00:00:00",
          "1996-07-01T00:00:00",
          "1996-08-01T00:00:00",
          "1996-09-01T00:00:00",
          "1996-10-01T00:00:00",
          "1996-11-01T00:00:00",
          "1996-12-01T00:00:00",
          "1997-01-01T00:00:00",
          "1997-02-01T00:00:00",
          "1997-03-01T00:00:00",
          "1997-04-01T00:00:00",
          "1997-05-01T00:00:00",
          "1997-06-01T00:00:00",
          "1997-07-01T00:00:00",
          "1997-08-01T00:00:00",
          "1997-09-01T00:00:00",
          "1997-10-01T00:00:00",
          "1997-11-01T00:00:00",
          "1997-12-01T00:00:00",
          "1998-01-01T00:00:00",
          "1998-02-01T00:00:00",
          "1998-03-01T00:00:00",
          "1998-04-01T00:00:00",
          "1998-05-01T00:00:00",
          "1998-06-01T00:00:00",
          "1998-07-01T00:00:00",
          "1998-08-01T00:00:00",
          "1998-09-01T00:00:00",
          "1998-10-01T00:00:00",
          "1998-11-01T00:00:00",
          "1998-12-01T00:00:00",
          "1999-01-01T00:00:00",
          "1999-02-01T00:00:00",
          "1999-03-01T00:00:00",
          "1999-04-01T00:00:00",
          "1999-05-01T00:00:00",
          "1999-06-01T00:00:00",
          "1999-07-01T00:00:00",
          "1999-08-01T00:00:00",
          "1999-09-01T00:00:00",
          "1999-10-01T00:00:00",
          "1999-11-01T00:00:00",
          "1999-12-01T00:00:00",
          "2000-01-01T00:00:00",
          "2000-02-01T00:00:00",
          "2000-03-01T00:00:00",
          "2000-04-01T00:00:00",
          "2000-05-01T00:00:00",
          "2000-06-01T00:00:00",
          "2000-07-01T00:00:00",
          "2000-08-01T00:00:00",
          "2000-09-01T00:00:00",
          "2000-10-01T00:00:00",
          "2000-11-01T00:00:00",
          "2000-12-01T00:00:00",
          "2001-01-01T00:00:00",
          "2001-02-01T00:00:00",
          "2001-03-01T00:00:00",
          "2001-04-01T00:00:00",
          "2001-05-01T00:00:00",
          "2001-06-01T00:00:00",
          "2001-07-01T00:00:00",
          "2001-08-01T00:00:00",
          "2001-09-01T00:00:00",
          "2001-10-01T00:00:00",
          "2001-11-01T00:00:00",
          "2001-12-01T00:00:00",
          "2002-01-01T00:00:00",
          "2002-02-01T00:00:00",
          "2002-03-01T00:00:00",
          "2002-04-01T00:00:00",
          "2002-05-01T00:00:00",
          "2002-06-01T00:00:00",
          "2002-07-01T00:00:00",
          "2002-08-01T00:00:00",
          "2002-09-01T00:00:00",
          "2002-10-01T00:00:00",
          "2002-11-01T00:00:00",
          "2002-12-01T00:00:00",
          "2003-01-01T00:00:00",
          "2003-02-01T00:00:00",
          "2003-03-01T00:00:00",
          "2003-04-01T00:00:00",
          "2003-05-01T00:00:00",
          "2003-06-01T00:00:00",
          "2003-07-01T00:00:00",
          "2003-08-01T00:00:00",
          "2003-09-01T00:00:00",
          "2003-10-01T00:00:00",
          "2003-11-01T00:00:00",
          "2003-12-01T00:00:00",
          "2004-01-01T00:00:00",
          "2004-02-01T00:00:00",
          "2004-03-01T00:00:00",
          "2004-04-01T00:00:00",
          "2004-05-01T00:00:00",
          "2004-06-01T00:00:00",
          "2004-07-01T00:00:00",
          "2004-08-01T00:00:00",
          "2004-09-01T00:00:00",
          "2004-10-01T00:00:00",
          "2004-11-01T00:00:00",
          "2004-12-01T00:00:00",
          "2005-01-01T00:00:00",
          "2005-02-01T00:00:00",
          "2005-03-01T00:00:00",
          "2005-04-01T00:00:00",
          "2005-05-01T00:00:00",
          "2005-06-01T00:00:00",
          "2005-07-01T00:00:00",
          "2005-08-01T00:00:00",
          "2005-09-01T00:00:00",
          "2005-10-01T00:00:00",
          "2005-11-01T00:00:00",
          "2005-12-01T00:00:00",
          "2006-01-01T00:00:00",
          "2006-02-01T00:00:00",
          "2006-03-01T00:00:00",
          "2006-04-01T00:00:00",
          "2006-05-01T00:00:00",
          "2006-06-01T00:00:00",
          "2006-07-01T00:00:00",
          "2006-08-01T00:00:00",
          "2006-09-01T00:00:00",
          "2006-10-01T00:00:00",
          "2006-11-01T00:00:00",
          "2006-12-01T00:00:00",
          "2007-01-01T00:00:00",
          "2007-02-01T00:00:00",
          "2007-03-01T00:00:00",
          "2007-04-01T00:00:00",
          "2007-05-01T00:00:00",
          "2007-06-01T00:00:00",
          "2007-07-01T00:00:00",
          "2007-08-01T00:00:00",
          "2007-09-01T00:00:00",
          "2007-10-01T00:00:00",
          "2007-11-01T00:00:00",
          "2007-12-01T00:00:00",
          "2008-01-01T00:00:00",
          "2008-02-01T00:00:00",
          "2008-03-01T00:00:00",
          "2008-04-01T00:00:00",
          "2008-05-01T00:00:00",
          "2008-06-01T00:00:00",
          "2008-07-01T00:00:00",
          "2008-08-01T00:00:00",
          "2008-09-01T00:00:00",
          "2008-10-01T00:00:00",
          "2008-11-01T00:00:00",
          "2008-12-01T00:00:00",
          "2009-01-01T00:00:00",
          "2009-02-01T00:00:00",
          "2009-03-01T00:00:00",
          "2009-04-01T00:00:00",
          "2009-05-01T00:00:00",
          "2009-06-01T00:00:00",
          "2009-07-01T00:00:00",
          "2009-08-01T00:00:00",
          "2009-09-01T00:00:00",
          "2009-10-01T00:00:00",
          "2009-11-01T00:00:00",
          "2009-12-01T00:00:00",
          "2010-01-01T00:00:00",
          "2010-02-01T00:00:00",
          "2010-03-01T00:00:00",
          "2010-04-01T00:00:00",
          "2010-05-01T00:00:00",
          "2010-06-01T00:00:00",
          "2010-07-01T00:00:00",
          "2010-08-01T00:00:00",
          "2010-09-01T00:00:00",
          "2010-10-01T00:00:00",
          "2010-11-01T00:00:00",
          "2010-12-01T00:00:00",
          "2011-01-01T00:00:00",
          "2011-02-01T00:00:00",
          "2011-03-01T00:00:00",
          "2011-04-01T00:00:00",
          "2011-05-01T00:00:00",
          "2011-06-01T00:00:00",
          "2011-07-01T00:00:00",
          "2011-08-01T00:00:00",
          "2011-09-01T00:00:00",
          "2011-10-01T00:00:00",
          "2011-11-01T00:00:00",
          "2011-12-01T00:00:00",
          "2012-01-01T00:00:00",
          "2012-02-01T00:00:00",
          "2012-03-01T00:00:00",
          "2012-04-01T00:00:00",
          "2012-05-01T00:00:00",
          "2012-06-01T00:00:00",
          "2012-07-01T00:00:00",
          "2012-08-01T00:00:00",
          "2012-09-01T00:00:00",
          "2012-10-01T00:00:00",
          "2012-11-01T00:00:00",
          "2012-12-01T00:00:00",
          "2013-01-01T00:00:00",
          "2013-02-01T00:00:00",
          "2013-03-01T00:00:00",
          "2013-04-01T00:00:00",
          "2013-05-01T00:00:00",
          "2013-06-01T00:00:00",
          "2013-07-01T00:00:00",
          "2013-08-01T00:00:00",
          "2013-09-01T00:00:00",
          "2013-10-01T00:00:00",
          "2013-11-01T00:00:00",
          "2013-12-01T00:00:00",
          "2014-01-01T00:00:00",
          "2014-02-01T00:00:00",
          "2014-03-01T00:00:00",
          "2014-04-01T00:00:00",
          "2014-05-01T00:00:00",
          "2014-06-01T00:00:00",
          "2014-07-01T00:00:00",
          "2014-08-01T00:00:00",
          "2014-09-01T00:00:00",
          "2014-10-01T00:00:00",
          "2014-11-01T00:00:00",
          "2014-12-01T00:00:00",
          "2015-01-01T00:00:00",
          "2015-02-01T00:00:00",
          "2015-03-01T00:00:00",
          "2015-04-01T00:00:00",
          "2015-05-01T00:00:00",
          "2015-06-01T00:00:00",
          "2015-07-01T00:00:00",
          "2015-08-01T00:00:00",
          "2015-09-01T00:00:00",
          "2015-10-01T00:00:00",
          "2015-11-01T00:00:00",
          "2015-12-01T00:00:00",
          "2016-01-01T00:00:00",
          "2016-02-01T00:00:00",
          "2016-03-01T00:00:00",
          "2016-04-01T00:00:00",
          "2016-05-01T00:00:00",
          "2016-06-01T00:00:00",
          "2016-07-01T00:00:00",
          "2016-08-01T00:00:00",
          "2016-09-01T00:00:00",
          "2016-10-01T00:00:00",
          "2016-11-01T00:00:00",
          "2016-12-01T00:00:00",
          "2017-01-01T00:00:00",
          "2017-02-01T00:00:00",
          "2017-03-01T00:00:00",
          "2017-04-01T00:00:00",
          "2017-05-01T00:00:00",
          "2017-06-01T00:00:00",
          "2017-07-01T00:00:00",
          "2017-08-01T00:00:00",
          "2017-09-01T00:00:00",
          "2017-10-01T00:00:00",
          "2017-11-01T00:00:00",
          "2017-12-01T00:00:00",
          "2018-01-01T00:00:00",
          "2018-02-01T00:00:00",
          "2018-03-01T00:00:00",
          "2018-04-01T00:00:00",
          "2018-05-01T00:00:00",
          "2018-06-01T00:00:00",
          "2018-07-01T00:00:00",
          "2018-08-01T00:00:00",
          "2018-09-01T00:00:00",
          "2018-10-01T00:00:00",
          "2018-11-01T00:00:00",
          "2018-12-01T00:00:00"
         ],
         "y": [
          1015.8522728395021,
          1071.1401207022702,
          1034.2555936815143,
          1104.0929878532454,
          1110.311644202746,
          1095.8265224788224,
          1145.60829219702,
          1167.7862589569545,
          1247.2945670996564,
          1236.9934174207199,
          1134.1835959355885,
          1197.2676614501058,
          1238.8089860894713,
          1303.4339086769792,
          1262.1818192357375,
          1133.721161466344,
          1180.1760663876355,
          1264.1265321908045,
          1299.2903422321804,
          1420.3250961844337,
          1449.1667236712967,
          1485.1016000610039,
          1492.6713907921894,
          1598.5105755267657,
          1583.6674562349406,
          1558.5429225186201,
          1599.562543147858,
          1713.9337924435094,
          1724.6833676725212,
          1762.6665459840385,
          1731.8474315058681,
          1695.1948045132096,
          1591.543056291582,
          1513.8104171898863,
          1603.051746669221,
          1663.3474381674469,
          1626.521279213292,
          1591.329808652691,
          1525.5689903752334,
          1520.383797852842,
          1590.9653487999133,
          1530.666693733786,
          1512.4176396542225,
          1484.4687161124566,
          1669.8076908377498,
          1699.6022518888503,
          1923.9060898210455,
          2049.4511111319584,
          2073.224997026841,
          2153.590522013782,
          2243.4832808399906,
          2324.8537395926387,
          2477.242585080058,
          2523.5090621707604,
          2614.772522654367,
          2513.827876461506,
          2503.9550148201033,
          2562.019957188707,
          2487.061860528149,
          2594.4426559235617,
          2570.057664980327,
          2510.1254611906243,
          2380.8631630149953,
          2429.8164764688463,
          2422.4449623815044,
          2291.305623259547,
          2374.514795537329,
          2325.5171029650364,
          2589.0085713110766,
          2570.9753671301637,
          2574.711569254758,
          2541.42704930389,
          2602.8580810871317,
          2848.3915463371395,
          2908.5890643445086,
          2901.933606227557,
          2870.3161805089817,
          3038.074428347523,
          3100.9794355051163,
          3136.5072143205152,
          3119.0627316334158,
          2984.7172012196006,
          3088.9080944077377,
          3333.181520721555,
          3485.3024174222046,
          3548.1703430201937,
          3842.4288432107055,
          4072.6317349265796,
          4059.489933712532,
          4266.512321789204,
          4319.599938092098,
          4009.6815028640267,
          4264.286931707204,
          3925.715367881976,
          4157.417555029116,
          4209.934708438975,
          4091.5101276751393,
          4652.738331395073,
          4927.440730249447,
          5035.964321197895,
          4944.517032603277,
          4995.615460414209,
          5232.130560344547,
          5520.151873219286,
          5725.690785252983,
          5627.747792291126,
          4234.714691705181,
          3935.183357526305,
          4271.265291282506,
          4426.942514206695,
          4705.931035535833,
          4644.683918377535,
          4681.025294608777,
          4669.336499093709,
          4956.262220233169,
          4897.251861351769,
          4762.1135737311515,
          4964.38058726355,
          5037.839754512987,
          4932.622059251808,
          5081.16149434109,
          5409.351466954687,
          5322.786150374899,
          5448.0484618035425,
          5724.190053556573,
          5974.488681574883,
          5913.533518506091,
          6389.832013684596,
          6554.587823483149,
          6527.703741055002,
          6269.4228466427385,
          6349.630658009924,
          6437.741284362553,
          5949.294761930818,
          6054.173690519493,
          6266.184405173589,
          6111.3359305492695,
          6664.389111894855,
          6661.782159683437,
          6561.5223381802025,
          5866.703681086744,
          5463.289535075818,
          5369.889586912428,
          5785.736742000753,
          6025.493278925896,
          6464.379995122316,
          6986.333792269253,
          7219.929000551802,
          7208.668347588768,
          7575.236388587959,
          7210.640559650838,
          7519.421651611587,
          7709.924947373152,
          7573.43065623804,
          7670.09662492677,
          7339.7461823034055,
          8204.112389210375,
          8319.248680163004,
          8504.879728872167,
          8312.780486230211,
          8416.051838063808,
          8432.089092399674,
          8218.298068895047,
          8469.69561055919,
          8233.190504970655,
          8410.225767118325,
          8540.459718055137,
          8980.513377514277,
          9133.879324440479,
          9238.107324633658,
          9187.422573636344,
          9436.55071061281,
          9112.9025254299,
          9464.29112091722,
          9451.068687811738,
          9410.657403192767,
          9723.959637672497,
          9702.71491921262,
          9985.089823804363,
          9962.840014722775,
          10235.910210955864,
          10654.966818702042,
          10420.99519850202,
          9899.251796734265,
          9972.24594806664,
          10065.269175147638,
          9787.288818942201,
          10105.164389457943,
          10629.031555042047,
          10416.110967309154,
          10575.682210083687,
          10168.813081430486,
          10365.466685889665,
          10531.429010646316,
          10971.009752756465,
          11330.748877857353,
          11612.157358693703,
          11968.671381539674,
          12367.728548327574,
          12937.606448563636,
          13012.278107115833,
          13402.40514994773,
          13234.939225816157,
          13869.742526877928,
          14045.92915504003,
          14435.299223656457,
          14709.711491626147,
          15009.077865713278,
          15416.499118628984,
          15862.265940548883,
          15743.211543288622,
          14825.077285707956,
          15300.090203209433,
          16107.574963816462,
          16193.892615534323,
          17200.200154301998,
          17099.882516343234,
          17928.170649171632,
          17946.62611895755,
          17136.91624158203,
          17817.201413678005,
          19128.337823590427,
          19911.59997877911,
          21266.584357335032,
          20534.576014000053,
          21599.414571949572,
          20636.207737420456,
          21327.277917709478,
          21683.00436791927,
          21656.097597711967,
          23332.269104132214,
          24443.437862736428,
          24843.157942587542,
          24191.50953879965,
          24721.844723143786,
          23825.755177912557,
          19981.495110588075,
          20888.54257275897,
          22625.872611164476,
          23877.945153337205,
          24955.65640929364,
          25513.53059610958,
          24828.598205251034,
          25463.05633893395,
          27491.373022547195,
          27016.042999397512,
          28124.84689753037,
          27222.42941120122,
          26636.4872411777,
          25694.847058888066,
          26829.858530334768,
          27341.495802248093,
          29068.484100739184,
          28092.526897348267,
          27533.88894342134,
          29962.691765915475,
          29819.266629016747,
          29396.004957396013,
          29817.872798890257,
          29842.610060884857,
          31671.091675691925,
          30988.46259253327,
          31157.2760340977,
          29291.051902868763,
          30684.76465421264,
          31353.97759356857,
          29453.12361532856,
          27495.64484970049,
          29586.451546005617,
          30190.646586934046,
          29727.451873551683,
          29375.56505077187,
          28221.269917275466,
          25181.066864965716,
          25962.642743277425,
          28130.141608771333,
          28839.269384444215,
          28868.363117970282,
          28835.92866293773,
          30354.90361103542,
          29445.684968756646,
          29173.13917288406,
          27305.3080993836,
          25026.277200775145,
          25025.841431135694,
          22612.921302749677,
          23922.411443911824,
          25425.878035261267,
          24179.671035313677,
          23366.035976593375,
          22903.740707803583,
          22952.135413589363,
          24817.648185026897,
          26717.04010871652,
          27176.890812872938,
          27975.650781363303,
          28900.087371344547,
          28459.0015259826,
          30501.1343852679,
          31327.69066953517,
          32824.625648729714,
          33300.69213605513,
          33773.67296669423,
          33567.87871941717,
          33186.92964594466,
          33444.124665310206,
          34489.2566178079,
          32885.0611624138,
          32818.124150821925,
          33453.31365051525,
          33911.6343570322,
          35867.33099212198,
          37162.9785453274,
          36260.373499933674,
          37091.79566725197,
          36341.80818180138,
          35048.19686354843,
          36437.70607482962,
          36369.90377217257,
          38184.586273235465,
          37764.763335347045,
          37994.64265217493,
          37217.57885302838,
          38788.85046827682,
          38870.19698548531,
          40296.186403403146,
          40570.779612595594,
          41493.73118443535,
          42034.76403129012,
          40987.18174379231,
          40941.424565914436,
          40343.846537884536,
          41393.99578525227,
          42224.66810311353,
          43913.26481206043,
          44962.95420940953,
          45476.31742819399,
          46489.70202147431,
          46069.93561989752,
          46675.07175362894,
          48566.25865126758,
          50513.25970306473,
          49952.803815637824,
          48488.53246824874,
          48991.027701710955,
          50712.382110789236,
          51568.02930972301,
          49536.47531513113,
          49117.55242590776,
          46039.37928853789,
          44736.62111452161,
          44572.7096080608,
          46246.07495009327,
          47279.527769819746,
          42711.323740383436,
          42880.19894438645,
          43757.67974092201,
          39440.62938950362,
          31664.703652207143,
          28916.9393982249,
          29648.282208423083,
          27192.865315762778,
          24203.23664100969,
          26404.996929585064,
          30520.948953890143,
          31951.297036466447,
          32077.37261875821,
          35025.85197448552,
          36311.55653204265,
          38005.76087894872,
          36722.79497956363,
          38796.05906183842,
          40407.09312585203,
          39233.555692639784,
          40683.40371929293,
          43587.5013150724,
          44950.01281879096,
          41518.56619587193,
          38925.10305884037,
          41768.85987373907,
          39597.11783950392,
          43763.07765672153,
          45713.7276348788,
          46333.12974334511,
          49475.91128538774,
          50452.97724137129,
          52243.04887389515,
          52725.77464548995,
          54310.33641778066,
          53804.31252370997,
          52989.67794182689,
          51273.99452898959,
          48189.91855307146,
          43979.710916288255,
          49319.63193409893,
          49346.10378205286,
          49503.27185501264,
          52475.09090263925,
          54537.286228752644,
          56038.0982683218,
          55575.378080226255,
          52003.028064568454,
          53585.556085382756,
          53576.90171559665,
          54976.907274092184,
          56133.37312033204,
          55655.91578762923,
          56623.73782797128,
          57615.57109968543,
          61218.07390618246,
          61901.414117004286,
          64359.139628020384,
          65114.15324952507,
          67038.951213766,
          65567.83188065806,
          69092.32707462087,
          67396.2822297117,
          70431.50748939045,
          73555.0007709056,
          75697.24930434137,
          77680.71746408292,
          75148.49495952786,
          78377.94777368689,
          79261.31205325188,
          79166.09487184402,
          80914.38698042945,
          82756.15291392647,
          80879.93656449416,
          84434.94193114716,
          82576.54462215348,
          84877.88809222351,
          87465.27543984873,
          87111.5326052798,
          84279.76969740333,
          89442.99489350674,
          88305.88380559736,
          88918.44566823238,
          89930.07411362189,
          88507.6481900908,
          89141.42382657692,
          83982.8072598103,
          80983.90146623451,
          87272.26874909224,
          87375.25768590794,
          85411.63468650694,
          80590.83254904716,
          82053.71440656984,
          88176.36816144032,
          89379.86650877079,
          89926.4171871881,
          90419.81867383429,
          94048.32718142391,
          94323.2804925023,
          94552.43865711363,
          92669.41718223569,
          97216.72221982043,
          98843.38619722088,
          101535.65990290341,
          105037.02858727006,
          105370.07338851105,
          106735.8494224751,
          108245.25718621303,
          109377.14121718289,
          110985.8383590977,
          110825.52434234874,
          113578.04671404557,
          115772.89661047659,
          119792.40325185677,
          121857.12769431605,
          127992.25241728578,
          122800.71563302811,
          120890.44700105592,
          120039.37449811502,
          122934.11743741398,
          124084.93883997393,
          128287.24184511282,
          131372.56726028307,
          131790.14849408582,
          123143.59552135161,
          126492.46714070684,
          114607.06128493443
         ]
        }
       ],
       "layout": {
        "template": {
         "data": {
          "bar": [
           {
            "error_x": {
             "color": "#2a3f5f"
            },
            "error_y": {
             "color": "#2a3f5f"
            },
            "marker": {
             "line": {
              "color": "#E5ECF6",
              "width": 0.5
             }
            },
            "type": "bar"
           }
          ],
          "barpolar": [
           {
            "marker": {
             "line": {
              "color": "#E5ECF6",
              "width": 0.5
             }
            },
            "type": "barpolar"
           }
          ],
          "carpet": [
           {
            "aaxis": {
             "endlinecolor": "#2a3f5f",
             "gridcolor": "white",
             "linecolor": "white",
             "minorgridcolor": "white",
             "startlinecolor": "#2a3f5f"
            },
            "baxis": {
             "endlinecolor": "#2a3f5f",
             "gridcolor": "white",
             "linecolor": "white",
             "minorgridcolor": "white",
             "startlinecolor": "#2a3f5f"
            },
            "type": "carpet"
           }
          ],
          "choropleth": [
           {
            "colorbar": {
             "outlinewidth": 0,
             "ticks": ""
            },
            "type": "choropleth"
           }
          ],
          "contour": [
           {
            "colorbar": {
             "outlinewidth": 0,
             "ticks": ""
            },
            "colorscale": [
             [
              0.0,
              "#0d0887"
             ],
             [
              0.1111111111111111,
              "#46039f"
             ],
             [
              0.2222222222222222,
              "#7201a8"
             ],
             [
              0.3333333333333333,
              "#9c179e"
             ],
             [
              0.4444444444444444,
              "#bd3786"
             ],
             [
              0.5555555555555556,
              "#d8576b"
             ],
             [
              0.6666666666666666,
              "#ed7953"
             ],
             [
              0.7777777777777778,
              "#fb9f3a"
             ],
             [
              0.8888888888888888,
              "#fdca26"
             ],
             [
              1.0,
              "#f0f921"
             ]
            ],
            "type": "contour"
           }
          ],
          "contourcarpet": [
           {
            "colorbar": {
             "outlinewidth": 0,
             "ticks": ""
            },
            "type": "contourcarpet"
           }
          ],
          "heatmap": [
           {
            "colorbar": {
             "outlinewidth": 0,
             "ticks": ""
            },
            "colorscale": [
             [
              0.0,
              "#0d0887"
             ],
             [
              0.1111111111111111,
              "#46039f"
             ],
             [
              0.2222222222222222,
              "#7201a8"
             ],
             [
              0.3333333333333333,
              "#9c179e"
             ],
             [
              0.4444444444444444,
              "#bd3786"
             ],
             [
              0.5555555555555556,
              "#d8576b"
             ],
             [
              0.6666666666666666,
              "#ed7953"
             ],
             [
              0.7777777777777778,
              "#fb9f3a"
             ],
             [
              0.8888888888888888,
              "#fdca26"
             ],
             [
              1.0,
              "#f0f921"
             ]
            ],
            "type": "heatmap"
           }
          ],
          "heatmapgl": [
           {
            "colorbar": {
             "outlinewidth": 0,
             "ticks": ""
            },
            "colorscale": [
             [
              0.0,
              "#0d0887"
             ],
             [
              0.1111111111111111,
              "#46039f"
             ],
             [
              0.2222222222222222,
              "#7201a8"
             ],
             [
              0.3333333333333333,
              "#9c179e"
             ],
             [
              0.4444444444444444,
              "#bd3786"
             ],
             [
              0.5555555555555556,
              "#d8576b"
             ],
             [
              0.6666666666666666,
              "#ed7953"
             ],
             [
              0.7777777777777778,
              "#fb9f3a"
             ],
             [
              0.8888888888888888,
              "#fdca26"
             ],
             [
              1.0,
              "#f0f921"
             ]
            ],
            "type": "heatmapgl"
           }
          ],
          "histogram": [
           {
            "marker": {
             "colorbar": {
              "outlinewidth": 0,
              "ticks": ""
             }
            },
            "type": "histogram"
           }
          ],
          "histogram2d": [
           {
            "colorbar": {
             "outlinewidth": 0,
             "ticks": ""
            },
            "colorscale": [
             [
              0.0,
              "#0d0887"
             ],
             [
              0.1111111111111111,
              "#46039f"
             ],
             [
              0.2222222222222222,
              "#7201a8"
             ],
             [
              0.3333333333333333,
              "#9c179e"
             ],
             [
              0.4444444444444444,
              "#bd3786"
             ],
             [
              0.5555555555555556,
              "#d8576b"
             ],
             [
              0.6666666666666666,
              "#ed7953"
             ],
             [
              0.7777777777777778,
              "#fb9f3a"
             ],
             [
              0.8888888888888888,
              "#fdca26"
             ],
             [
              1.0,
              "#f0f921"
             ]
            ],
            "type": "histogram2d"
           }
          ],
          "histogram2dcontour": [
           {
            "colorbar": {
             "outlinewidth": 0,
             "ticks": ""
            },
            "colorscale": [
             [
              0.0,
              "#0d0887"
             ],
             [
              0.1111111111111111,
              "#46039f"
             ],
             [
              0.2222222222222222,
              "#7201a8"
             ],
             [
              0.3333333333333333,
              "#9c179e"
             ],
             [
              0.4444444444444444,
              "#bd3786"
             ],
             [
              0.5555555555555556,
              "#d8576b"
             ],
             [
              0.6666666666666666,
              "#ed7953"
             ],
             [
              0.7777777777777778,
              "#fb9f3a"
             ],
             [
              0.8888888888888888,
              "#fdca26"
             ],
             [
              1.0,
              "#f0f921"
             ]
            ],
            "type": "histogram2dcontour"
           }
          ],
          "mesh3d": [
           {
            "colorbar": {
             "outlinewidth": 0,
             "ticks": ""
            },
            "type": "mesh3d"
           }
          ],
          "parcoords": [
           {
            "line": {
             "colorbar": {
              "outlinewidth": 0,
              "ticks": ""
             }
            },
            "type": "parcoords"
           }
          ],
          "pie": [
           {
            "automargin": true,
            "type": "pie"
           }
          ],
          "scatter": [
           {
            "marker": {
             "colorbar": {
              "outlinewidth": 0,
              "ticks": ""
             }
            },
            "type": "scatter"
           }
          ],
          "scatter3d": [
           {
            "line": {
             "colorbar": {
              "outlinewidth": 0,
              "ticks": ""
             }
            },
            "marker": {
             "colorbar": {
              "outlinewidth": 0,
              "ticks": ""
             }
            },
            "type": "scatter3d"
           }
          ],
          "scattercarpet": [
           {
            "marker": {
             "colorbar": {
              "outlinewidth": 0,
              "ticks": ""
             }
            },
            "type": "scattercarpet"
           }
          ],
          "scattergeo": [
           {
            "marker": {
             "colorbar": {
              "outlinewidth": 0,
              "ticks": ""
             }
            },
            "type": "scattergeo"
           }
          ],
          "scattergl": [
           {
            "marker": {
             "colorbar": {
              "outlinewidth": 0,
              "ticks": ""
             }
            },
            "type": "scattergl"
           }
          ],
          "scattermapbox": [
           {
            "marker": {
             "colorbar": {
              "outlinewidth": 0,
              "ticks": ""
             }
            },
            "type": "scattermapbox"
           }
          ],
          "scatterpolar": [
           {
            "marker": {
             "colorbar": {
              "outlinewidth": 0,
              "ticks": ""
             }
            },
            "type": "scatterpolar"
           }
          ],
          "scatterpolargl": [
           {
            "marker": {
             "colorbar": {
              "outlinewidth": 0,
              "ticks": ""
             }
            },
            "type": "scatterpolargl"
           }
          ],
          "scatterternary": [
           {
            "marker": {
             "colorbar": {
              "outlinewidth": 0,
              "ticks": ""
             }
            },
            "type": "scatterternary"
           }
          ],
          "surface": [
           {
            "colorbar": {
             "outlinewidth": 0,
             "ticks": ""
            },
            "colorscale": [
             [
              0.0,
              "#0d0887"
             ],
             [
              0.1111111111111111,
              "#46039f"
             ],
             [
              0.2222222222222222,
              "#7201a8"
             ],
             [
              0.3333333333333333,
              "#9c179e"
             ],
             [
              0.4444444444444444,
              "#bd3786"
             ],
             [
              0.5555555555555556,
              "#d8576b"
             ],
             [
              0.6666666666666666,
              "#ed7953"
             ],
             [
              0.7777777777777778,
              "#fb9f3a"
             ],
             [
              0.8888888888888888,
              "#fdca26"
             ],
             [
              1.0,
              "#f0f921"
             ]
            ],
            "type": "surface"
           }
          ],
          "table": [
           {
            "cells": {
             "fill": {
              "color": "#EBF0F8"
             },
             "line": {
              "color": "white"
             }
            },
            "header": {
             "fill": {
              "color": "#C8D4E3"
             },
             "line": {
              "color": "white"
             }
            },
            "type": "table"
           }
          ]
         },
         "layout": {
          "annotationdefaults": {
           "arrowcolor": "#2a3f5f",
           "arrowhead": 0,
           "arrowwidth": 1
          },
          "coloraxis": {
           "colorbar": {
            "outlinewidth": 0,
            "ticks": ""
           }
          },
          "colorscale": {
           "diverging": [
            [
             0,
             "#8e0152"
            ],
            [
             0.1,
             "#c51b7d"
            ],
            [
             0.2,
             "#de77ae"
            ],
            [
             0.3,
             "#f1b6da"
            ],
            [
             0.4,
             "#fde0ef"
            ],
            [
             0.5,
             "#f7f7f7"
            ],
            [
             0.6,
             "#e6f5d0"
            ],
            [
             0.7,
             "#b8e186"
            ],
            [
             0.8,
             "#7fbc41"
            ],
            [
             0.9,
             "#4d9221"
            ],
            [
             1,
             "#276419"
            ]
           ],
           "sequential": [
            [
             0.0,
             "#0d0887"
            ],
            [
             0.1111111111111111,
             "#46039f"
            ],
            [
             0.2222222222222222,
             "#7201a8"
            ],
            [
             0.3333333333333333,
             "#9c179e"
            ],
            [
             0.4444444444444444,
             "#bd3786"
            ],
            [
             0.5555555555555556,
             "#d8576b"
            ],
            [
             0.6666666666666666,
             "#ed7953"
            ],
            [
             0.7777777777777778,
             "#fb9f3a"
            ],
            [
             0.8888888888888888,
             "#fdca26"
            ],
            [
             1.0,
             "#f0f921"
            ]
           ],
           "sequentialminus": [
            [
             0.0,
             "#0d0887"
            ],
            [
             0.1111111111111111,
             "#46039f"
            ],
            [
             0.2222222222222222,
             "#7201a8"
            ],
            [
             0.3333333333333333,
             "#9c179e"
            ],
            [
             0.4444444444444444,
             "#bd3786"
            ],
            [
             0.5555555555555556,
             "#d8576b"
            ],
            [
             0.6666666666666666,
             "#ed7953"
            ],
            [
             0.7777777777777778,
             "#fb9f3a"
            ],
            [
             0.8888888888888888,
             "#fdca26"
            ],
            [
             1.0,
             "#f0f921"
            ]
           ]
          },
          "colorway": [
           "#636efa",
           "#EF553B",
           "#00cc96",
           "#ab63fa",
           "#FFA15A",
           "#19d3f3",
           "#FF6692",
           "#B6E880",
           "#FF97FF",
           "#FECB52"
          ],
          "font": {
           "color": "#2a3f5f"
          },
          "geo": {
           "bgcolor": "white",
           "lakecolor": "white",
           "landcolor": "#E5ECF6",
           "showlakes": true,
           "showland": true,
           "subunitcolor": "white"
          },
          "hoverlabel": {
           "align": "left"
          },
          "hovermode": "closest",
          "mapbox": {
           "style": "light"
          },
          "paper_bgcolor": "white",
          "plot_bgcolor": "#E5ECF6",
          "polar": {
           "angularaxis": {
            "gridcolor": "white",
            "linecolor": "white",
            "ticks": ""
           },
           "bgcolor": "#E5ECF6",
           "radialaxis": {
            "gridcolor": "white",
            "linecolor": "white",
            "ticks": ""
           }
          },
          "scene": {
           "xaxis": {
            "backgroundcolor": "#E5ECF6",
            "gridcolor": "white",
            "gridwidth": 2,
            "linecolor": "white",
            "showbackground": true,
            "ticks": "",
            "zerolinecolor": "white"
           },
           "yaxis": {
            "backgroundcolor": "#E5ECF6",
            "gridcolor": "white",
            "gridwidth": 2,
            "linecolor": "white",
            "showbackground": true,
            "ticks": "",
            "zerolinecolor": "white"
           },
           "zaxis": {
            "backgroundcolor": "#E5ECF6",
            "gridcolor": "white",
            "gridwidth": 2,
            "linecolor": "white",
            "showbackground": true,
            "ticks": "",
            "zerolinecolor": "white"
           }
          },
          "shapedefaults": {
           "line": {
            "color": "#2a3f5f"
           }
          },
          "ternary": {
           "aaxis": {
            "gridcolor": "white",
            "linecolor": "white",
            "ticks": ""
           },
           "baxis": {
            "gridcolor": "white",
            "linecolor": "white",
            "ticks": ""
           },
           "bgcolor": "#E5ECF6",
           "caxis": {
            "gridcolor": "white",
            "linecolor": "white",
            "ticks": ""
           }
          },
          "title": {
           "x": 0.05
          },
          "xaxis": {
           "automargin": true,
           "gridcolor": "white",
           "linecolor": "white",
           "ticks": "",
           "title": {
            "standoff": 15
           },
           "zerolinecolor": "white",
           "zerolinewidth": 2
          },
          "yaxis": {
           "automargin": true,
           "gridcolor": "white",
           "linecolor": "white",
           "ticks": "",
           "title": {
            "standoff": 15
           },
           "zerolinecolor": "white",
           "zerolinewidth": 2
          }
         }
        }
       }
      },
      "text/html": "<div>\n        \n        \n            <div id=\"9d00ef32-32d4-4942-92d5-2c7545f4ec2d\" class=\"plotly-graph-div\" style=\"height:525px; width:100%;\"></div>\n            <script type=\"text/javascript\">\n                require([\"plotly\"], function(Plotly) {\n                    window.PLOTLYENV=window.PLOTLYENV || {};\n                    \n                if (document.getElementById(\"9d00ef32-32d4-4942-92d5-2c7545f4ec2d\")) {\n                    Plotly.newPlot(\n                        '9d00ef32-32d4-4942-92d5-2c7545f4ec2d',\n                        [{\"name\": \"EW_wealth_index\", \"type\": \"scatter\", \"x\": [\"1978-12-01T00:00:00\", \"1979-01-01T00:00:00\", \"1979-02-01T00:00:00\", \"1979-03-01T00:00:00\", \"1979-04-01T00:00:00\", \"1979-05-01T00:00:00\", \"1979-06-01T00:00:00\", \"1979-07-01T00:00:00\", \"1979-08-01T00:00:00\", \"1979-09-01T00:00:00\", \"1979-10-01T00:00:00\", \"1979-11-01T00:00:00\", \"1979-12-01T00:00:00\", \"1980-01-01T00:00:00\", \"1980-02-01T00:00:00\", \"1980-03-01T00:00:00\", \"1980-04-01T00:00:00\", \"1980-05-01T00:00:00\", \"1980-06-01T00:00:00\", \"1980-07-01T00:00:00\", \"1980-08-01T00:00:00\", \"1980-09-01T00:00:00\", \"1980-10-01T00:00:00\", \"1980-11-01T00:00:00\", \"1980-12-01T00:00:00\", \"1981-01-01T00:00:00\", \"1981-02-01T00:00:00\", \"1981-03-01T00:00:00\", \"1981-04-01T00:00:00\", \"1981-05-01T00:00:00\", \"1981-06-01T00:00:00\", \"1981-07-01T00:00:00\", \"1981-08-01T00:00:00\", \"1981-09-01T00:00:00\", \"1981-10-01T00:00:00\", \"1981-11-01T00:00:00\", \"1981-12-01T00:00:00\", \"1982-01-01T00:00:00\", \"1982-02-01T00:00:00\", \"1982-03-01T00:00:00\", \"1982-04-01T00:00:00\", \"1982-05-01T00:00:00\", \"1982-06-01T00:00:00\", \"1982-07-01T00:00:00\", \"1982-08-01T00:00:00\", \"1982-09-01T00:00:00\", \"1982-10-01T00:00:00\", \"1982-11-01T00:00:00\", \"1982-12-01T00:00:00\", \"1983-01-01T00:00:00\", \"1983-02-01T00:00:00\", \"1983-03-01T00:00:00\", \"1983-04-01T00:00:00\", \"1983-05-01T00:00:00\", \"1983-06-01T00:00:00\", \"1983-07-01T00:00:00\", \"1983-08-01T00:00:00\", \"1983-09-01T00:00:00\", \"1983-10-01T00:00:00\", \"1983-11-01T00:00:00\", \"1983-12-01T00:00:00\", \"1984-01-01T00:00:00\", \"1984-02-01T00:00:00\", \"1984-03-01T00:00:00\", \"1984-04-01T00:00:00\", \"1984-05-01T00:00:00\", \"1984-06-01T00:00:00\", \"1984-07-01T00:00:00\", \"1984-08-01T00:00:00\", \"1984-09-01T00:00:00\", \"1984-10-01T00:00:00\", \"1984-11-01T00:00:00\", \"1984-12-01T00:00:00\", \"1985-01-01T00:00:00\", \"1985-02-01T00:00:00\", \"1985-03-01T00:00:00\", \"1985-04-01T00:00:00\", \"1985-05-01T00:00:00\", \"1985-06-01T00:00:00\", \"1985-07-01T00:00:00\", \"1985-08-01T00:00:00\", \"1985-09-01T00:00:00\", \"1985-10-01T00:00:00\", \"1985-11-01T00:00:00\", \"1985-12-01T00:00:00\", \"1986-01-01T00:00:00\", \"1986-02-01T00:00:00\", \"1986-03-01T00:00:00\", \"1986-04-01T00:00:00\", \"1986-05-01T00:00:00\", \"1986-06-01T00:00:00\", \"1986-07-01T00:00:00\", \"1986-08-01T00:00:00\", \"1986-09-01T00:00:00\", \"1986-10-01T00:00:00\", \"1986-11-01T00:00:00\", \"1986-12-01T00:00:00\", \"1987-01-01T00:00:00\", \"1987-02-01T00:00:00\", \"1987-03-01T00:00:00\", \"1987-04-01T00:00:00\", \"1987-05-01T00:00:00\", \"1987-06-01T00:00:00\", \"1987-07-01T00:00:00\", \"1987-08-01T00:00:00\", \"1987-09-01T00:00:00\", \"1987-10-01T00:00:00\", \"1987-11-01T00:00:00\", \"1987-12-01T00:00:00\", \"1988-01-01T00:00:00\", \"1988-02-01T00:00:00\", \"1988-03-01T00:00:00\", \"1988-04-01T00:00:00\", \"1988-05-01T00:00:00\", \"1988-06-01T00:00:00\", \"1988-07-01T00:00:00\", \"1988-08-01T00:00:00\", \"1988-09-01T00:00:00\", \"1988-10-01T00:00:00\", \"1988-11-01T00:00:00\", \"1988-12-01T00:00:00\", \"1989-01-01T00:00:00\", \"1989-02-01T00:00:00\", \"1989-03-01T00:00:00\", \"1989-04-01T00:00:00\", \"1989-05-01T00:00:00\", \"1989-06-01T00:00:00\", \"1989-07-01T00:00:00\", \"1989-08-01T00:00:00\", \"1989-09-01T00:00:00\", \"1989-10-01T00:00:00\", \"1989-11-01T00:00:00\", \"1989-12-01T00:00:00\", \"1990-01-01T00:00:00\", \"1990-02-01T00:00:00\", \"1990-03-01T00:00:00\", \"1990-04-01T00:00:00\", \"1990-05-01T00:00:00\", \"1990-06-01T00:00:00\", \"1990-07-01T00:00:00\", \"1990-08-01T00:00:00\", \"1990-09-01T00:00:00\", \"1990-10-01T00:00:00\", \"1990-11-01T00:00:00\", \"1990-12-01T00:00:00\", \"1991-01-01T00:00:00\", \"1991-02-01T00:00:00\", \"1991-03-01T00:00:00\", \"1991-04-01T00:00:00\", \"1991-05-01T00:00:00\", \"1991-06-01T00:00:00\", \"1991-07-01T00:00:00\", \"1991-08-01T00:00:00\", \"1991-09-01T00:00:00\", \"1991-10-01T00:00:00\", \"1991-11-01T00:00:00\", \"1991-12-01T00:00:00\", \"1992-01-01T00:00:00\", \"1992-02-01T00:00:00\", \"1992-03-01T00:00:00\", \"1992-04-01T00:00:00\", \"1992-05-01T00:00:00\", \"1992-06-01T00:00:00\", \"1992-07-01T00:00:00\", \"1992-08-01T00:00:00\", \"1992-09-01T00:00:00\", \"1992-10-01T00:00:00\", \"1992-11-01T00:00:00\", \"1992-12-01T00:00:00\", \"1993-01-01T00:00:00\", \"1993-02-01T00:00:00\", \"1993-03-01T00:00:00\", \"1993-04-01T00:00:00\", \"1993-05-01T00:00:00\", \"1993-06-01T00:00:00\", \"1993-07-01T00:00:00\", \"1993-08-01T00:00:00\", \"1993-09-01T00:00:00\", \"1993-10-01T00:00:00\", \"1993-11-01T00:00:00\", \"1993-12-01T00:00:00\", \"1994-01-01T00:00:00\", \"1994-02-01T00:00:00\", \"1994-03-01T00:00:00\", \"1994-04-01T00:00:00\", \"1994-05-01T00:00:00\", \"1994-06-01T00:00:00\", \"1994-07-01T00:00:00\", \"1994-08-01T00:00:00\", \"1994-09-01T00:00:00\", \"1994-10-01T00:00:00\", \"1994-11-01T00:00:00\", \"1994-12-01T00:00:00\", \"1995-01-01T00:00:00\", \"1995-02-01T00:00:00\", \"1995-03-01T00:00:00\", \"1995-04-01T00:00:00\", \"1995-05-01T00:00:00\", \"1995-06-01T00:00:00\", \"1995-07-01T00:00:00\", \"1995-08-01T00:00:00\", \"1995-09-01T00:00:00\", \"1995-10-01T00:00:00\", \"1995-11-01T00:00:00\", \"1995-12-01T00:00:00\", \"1996-01-01T00:00:00\", \"1996-02-01T00:00:00\", \"1996-03-01T00:00:00\", \"1996-04-01T00:00:00\", \"1996-05-01T00:00:00\", \"1996-06-01T00:00:00\", \"1996-07-01T00:00:00\", \"1996-08-01T00:00:00\", \"1996-09-01T00:00:00\", \"1996-10-01T00:00:00\", \"1996-11-01T00:00:00\", \"1996-12-01T00:00:00\", \"1997-01-01T00:00:00\", \"1997-02-01T00:00:00\", \"1997-03-01T00:00:00\", \"1997-04-01T00:00:00\", \"1997-05-01T00:00:00\", \"1997-06-01T00:00:00\", \"1997-07-01T00:00:00\", \"1997-08-01T00:00:00\", \"1997-09-01T00:00:00\", \"1997-10-01T00:00:00\", \"1997-11-01T00:00:00\", \"1997-12-01T00:00:00\", \"1998-01-01T00:00:00\", \"1998-02-01T00:00:00\", \"1998-03-01T00:00:00\", \"1998-04-01T00:00:00\", \"1998-05-01T00:00:00\", \"1998-06-01T00:00:00\", \"1998-07-01T00:00:00\", \"1998-08-01T00:00:00\", \"1998-09-01T00:00:00\", \"1998-10-01T00:00:00\", \"1998-11-01T00:00:00\", \"1998-12-01T00:00:00\", \"1999-01-01T00:00:00\", \"1999-02-01T00:00:00\", \"1999-03-01T00:00:00\", \"1999-04-01T00:00:00\", \"1999-05-01T00:00:00\", \"1999-06-01T00:00:00\", \"1999-07-01T00:00:00\", \"1999-08-01T00:00:00\", \"1999-09-01T00:00:00\", \"1999-10-01T00:00:00\", \"1999-11-01T00:00:00\", \"1999-12-01T00:00:00\", \"2000-01-01T00:00:00\", \"2000-02-01T00:00:00\", \"2000-03-01T00:00:00\", \"2000-04-01T00:00:00\", \"2000-05-01T00:00:00\", \"2000-06-01T00:00:00\", \"2000-07-01T00:00:00\", \"2000-08-01T00:00:00\", \"2000-09-01T00:00:00\", \"2000-10-01T00:00:00\", \"2000-11-01T00:00:00\", \"2000-12-01T00:00:00\", \"2001-01-01T00:00:00\", \"2001-02-01T00:00:00\", \"2001-03-01T00:00:00\", \"2001-04-01T00:00:00\", \"2001-05-01T00:00:00\", \"2001-06-01T00:00:00\", \"2001-07-01T00:00:00\", \"2001-08-01T00:00:00\", \"2001-09-01T00:00:00\", \"2001-10-01T00:00:00\", \"2001-11-01T00:00:00\", \"2001-12-01T00:00:00\", \"2002-01-01T00:00:00\", \"2002-02-01T00:00:00\", \"2002-03-01T00:00:00\", \"2002-04-01T00:00:00\", \"2002-05-01T00:00:00\", \"2002-06-01T00:00:00\", \"2002-07-01T00:00:00\", \"2002-08-01T00:00:00\", \"2002-09-01T00:00:00\", \"2002-10-01T00:00:00\", \"2002-11-01T00:00:00\", \"2002-12-01T00:00:00\", \"2003-01-01T00:00:00\", \"2003-02-01T00:00:00\", \"2003-03-01T00:00:00\", \"2003-04-01T00:00:00\", \"2003-05-01T00:00:00\", \"2003-06-01T00:00:00\", \"2003-07-01T00:00:00\", \"2003-08-01T00:00:00\", \"2003-09-01T00:00:00\", \"2003-10-01T00:00:00\", \"2003-11-01T00:00:00\", \"2003-12-01T00:00:00\", \"2004-01-01T00:00:00\", \"2004-02-01T00:00:00\", \"2004-03-01T00:00:00\", \"2004-04-01T00:00:00\", \"2004-05-01T00:00:00\", \"2004-06-01T00:00:00\", \"2004-07-01T00:00:00\", \"2004-08-01T00:00:00\", \"2004-09-01T00:00:00\", \"2004-10-01T00:00:00\", \"2004-11-01T00:00:00\", \"2004-12-01T00:00:00\", \"2005-01-01T00:00:00\", \"2005-02-01T00:00:00\", \"2005-03-01T00:00:00\", \"2005-04-01T00:00:00\", \"2005-05-01T00:00:00\", \"2005-06-01T00:00:00\", \"2005-07-01T00:00:00\", \"2005-08-01T00:00:00\", \"2005-09-01T00:00:00\", \"2005-10-01T00:00:00\", \"2005-11-01T00:00:00\", \"2005-12-01T00:00:00\", \"2006-01-01T00:00:00\", \"2006-02-01T00:00:00\", \"2006-03-01T00:00:00\", \"2006-04-01T00:00:00\", \"2006-05-01T00:00:00\", \"2006-06-01T00:00:00\", \"2006-07-01T00:00:00\", \"2006-08-01T00:00:00\", \"2006-09-01T00:00:00\", \"2006-10-01T00:00:00\", \"2006-11-01T00:00:00\", \"2006-12-01T00:00:00\", \"2007-01-01T00:00:00\", \"2007-02-01T00:00:00\", \"2007-03-01T00:00:00\", \"2007-04-01T00:00:00\", \"2007-05-01T00:00:00\", \"2007-06-01T00:00:00\", \"2007-07-01T00:00:00\", \"2007-08-01T00:00:00\", \"2007-09-01T00:00:00\", \"2007-10-01T00:00:00\", \"2007-11-01T00:00:00\", \"2007-12-01T00:00:00\", \"2008-01-01T00:00:00\", \"2008-02-01T00:00:00\", \"2008-03-01T00:00:00\", \"2008-04-01T00:00:00\", \"2008-05-01T00:00:00\", \"2008-06-01T00:00:00\", \"2008-07-01T00:00:00\", \"2008-08-01T00:00:00\", \"2008-09-01T00:00:00\", \"2008-10-01T00:00:00\", \"2008-11-01T00:00:00\", \"2008-12-01T00:00:00\", \"2009-01-01T00:00:00\", \"2009-02-01T00:00:00\", \"2009-03-01T00:00:00\", \"2009-04-01T00:00:00\", \"2009-05-01T00:00:00\", \"2009-06-01T00:00:00\", \"2009-07-01T00:00:00\", \"2009-08-01T00:00:00\", \"2009-09-01T00:00:00\", \"2009-10-01T00:00:00\", \"2009-11-01T00:00:00\", \"2009-12-01T00:00:00\", \"2010-01-01T00:00:00\", \"2010-02-01T00:00:00\", \"2010-03-01T00:00:00\", \"2010-04-01T00:00:00\", \"2010-05-01T00:00:00\", \"2010-06-01T00:00:00\", \"2010-07-01T00:00:00\", \"2010-08-01T00:00:00\", \"2010-09-01T00:00:00\", \"2010-10-01T00:00:00\", \"2010-11-01T00:00:00\", \"2010-12-01T00:00:00\", \"2011-01-01T00:00:00\", \"2011-02-01T00:00:00\", \"2011-03-01T00:00:00\", \"2011-04-01T00:00:00\", \"2011-05-01T00:00:00\", \"2011-06-01T00:00:00\", \"2011-07-01T00:00:00\", \"2011-08-01T00:00:00\", \"2011-09-01T00:00:00\", \"2011-10-01T00:00:00\", \"2011-11-01T00:00:00\", \"2011-12-01T00:00:00\", \"2012-01-01T00:00:00\", \"2012-02-01T00:00:00\", \"2012-03-01T00:00:00\", \"2012-04-01T00:00:00\", \"2012-05-01T00:00:00\", \"2012-06-01T00:00:00\", \"2012-07-01T00:00:00\", \"2012-08-01T00:00:00\", \"2012-09-01T00:00:00\", \"2012-10-01T00:00:00\", \"2012-11-01T00:00:00\", \"2012-12-01T00:00:00\", \"2013-01-01T00:00:00\", \"2013-02-01T00:00:00\", \"2013-03-01T00:00:00\", \"2013-04-01T00:00:00\", \"2013-05-01T00:00:00\", \"2013-06-01T00:00:00\", \"2013-07-01T00:00:00\", \"2013-08-01T00:00:00\", \"2013-09-01T00:00:00\", \"2013-10-01T00:00:00\", \"2013-11-01T00:00:00\", \"2013-12-01T00:00:00\", \"2014-01-01T00:00:00\", \"2014-02-01T00:00:00\", \"2014-03-01T00:00:00\", \"2014-04-01T00:00:00\", \"2014-05-01T00:00:00\", \"2014-06-01T00:00:00\", \"2014-07-01T00:00:00\", \"2014-08-01T00:00:00\", \"2014-09-01T00:00:00\", \"2014-10-01T00:00:00\", \"2014-11-01T00:00:00\", \"2014-12-01T00:00:00\", \"2015-01-01T00:00:00\", \"2015-02-01T00:00:00\", \"2015-03-01T00:00:00\", \"2015-04-01T00:00:00\", \"2015-05-01T00:00:00\", \"2015-06-01T00:00:00\", \"2015-07-01T00:00:00\", \"2015-08-01T00:00:00\", \"2015-09-01T00:00:00\", \"2015-10-01T00:00:00\", \"2015-11-01T00:00:00\", \"2015-12-01T00:00:00\", \"2016-01-01T00:00:00\", \"2016-02-01T00:00:00\", \"2016-03-01T00:00:00\", \"2016-04-01T00:00:00\", \"2016-05-01T00:00:00\", \"2016-06-01T00:00:00\", \"2016-07-01T00:00:00\", \"2016-08-01T00:00:00\", \"2016-09-01T00:00:00\", \"2016-10-01T00:00:00\", \"2016-11-01T00:00:00\", \"2016-12-01T00:00:00\", \"2017-01-01T00:00:00\", \"2017-02-01T00:00:00\", \"2017-03-01T00:00:00\", \"2017-04-01T00:00:00\", \"2017-05-01T00:00:00\", \"2017-06-01T00:00:00\", \"2017-07-01T00:00:00\", \"2017-08-01T00:00:00\", \"2017-09-01T00:00:00\", \"2017-10-01T00:00:00\", \"2017-11-01T00:00:00\", \"2017-12-01T00:00:00\", \"2018-01-01T00:00:00\", \"2018-02-01T00:00:00\", \"2018-03-01T00:00:00\", \"2018-04-01T00:00:00\", \"2018-05-01T00:00:00\", \"2018-06-01T00:00:00\", \"2018-07-01T00:00:00\", \"2018-08-01T00:00:00\", \"2018-09-01T00:00:00\", \"2018-10-01T00:00:00\", \"2018-11-01T00:00:00\", \"2018-12-01T00:00:00\"], \"y\": [1020.3408163265307, 1079.3331741357767, 1037.9352401057608, 1118.1146782863389, 1128.5952919952556, 1116.5101093481144, 1174.6164854674744, 1200.8200217994026, 1293.1483775571426, 1288.5088778678662, 1177.0633783721153, 1264.2165139450103, 1331.5141130261156, 1424.0624960086534, 1381.9712773766262, 1219.6488796253318, 1271.8174936417956, 1360.7331097227895, 1417.1924257509, 1564.6498515355609, 1612.3908309851693, 1667.9426310029073, 1688.8531852523988, 1823.730515249301, 1790.2594774459603, 1747.227485353392, 1775.0012708297545, 1911.4916236534161, 1930.6143418965773, 1977.8749929803516, 1927.3140497924496, 1889.5347611225386, 1769.8230935219508, 1677.6514291881003, 1788.2292010421577, 1838.5295338543292, 1800.2543506403536, 1758.2827063511388, 1676.6553287918005, 1659.6253010950722, 1746.8403041628237, 1670.9668302985433, 1636.4596601846843, 1609.9790711120222, 1811.9460170756647, 1847.5378138396509, 2106.487205633283, 2249.8186136394443, 2270.8153902112267, 2379.6106189879592, 2469.1325417439266, 2567.197416019189, 2739.445884277276, 2818.42019562687, 2912.083776168886, 2816.020669724001, 2787.785752274299, 2845.9822021926943, 2733.682067744948, 2855.838603572179, 2822.681734560501, 2750.1330534073277, 2607.182259794502, 2653.590104018844, 2641.2157093501028, 2500.6329605428377, 2580.688938608216, 2510.93660329612, 2802.210373638885, 2770.5854279935315, 2771.218704662787, 2730.408267575345, 2785.746399218795, 3060.966773068146, 3116.307802951025, 3102.5578897469845, 3054.082005657386, 3227.5102338357883, 3289.6562727260753, 3345.6274244520287, 3315.9742409736714, 3166.173412814094, 3254.3610347285567, 3491.431273778834, 3648.1609111217713, 3717.0367000784804, 4006.662131117248, 4243.455863066278, 4231.920591209942, 4422.46065668601, 4456.459451163023, 4132.511228324297, 4379.517328028709, 4064.335085058088, 4270.919431238612, 4332.133037698996, 4193.911470532903, 4771.515788061297, 5073.6111641695115, 5202.149549867472, 5113.214025828207, 5154.912807965369, 5346.3809979755115, 5642.057689126816, 5842.684654790786, 5765.20350196052, 4264.120995871489, 4000.372058845217, 4366.536726623313, 4482.722248749262, 4785.397484667362, 4784.889646566948, 4833.881057499247, 4816.311379614744, 5108.612334322874, 5036.591326148378, 4884.6610069814415, 5066.779112974388, 5123.278870266821, 5007.116363636894, 5156.2364638298595, 5486.96167979253, 5447.253993840399, 5570.739906827294, 5839.988546038297, 6072.420090170621, 6022.502318490607, 6460.854451529315, 6623.971248304559, 6598.070168892821, 6309.290142684504, 6387.177685690828, 6478.214520296674, 6014.982519557582, 6132.851625991851, 6363.196526654614, 6189.831886591676, 6743.063901843273, 6716.25678249472, 6618.624339511639, 5908.526992261707, 5485.729682201151, 5292.867100088336, 5693.8395891136, 5920.837867426526, 6325.726510817808, 6871.546341179803, 7083.638722534911, 7095.391780252096, 7416.0455671539385, 7107.795362937153, 7394.16698753941, 7552.990676404414, 7473.684274302167, 7592.51585426357, 7276.078387374242, 8073.670220886555, 8249.593847311873, 8445.17656511641, 8219.31117963508, 8270.723809768919, 8290.2359663487, 8061.9161002958945, 8314.12245111515, 8105.2513340269315, 8264.478169417429, 8378.241241361755, 8758.544999913527, 8925.743836503712, 9017.059660692272, 8993.3944796236, 9246.787957553564, 8974.68706865568, 9323.399450492692, 9293.01277922241, 9297.678250944224, 9666.85300206743, 9641.817825619219, 9891.26542679345, 9829.656973563711, 10161.498168781447, 10499.627204785495, 10355.053766518784, 9860.33578963265, 9838.361327015757, 9905.041322866817, 9625.254227050898, 9850.838756731417, 10325.267213507139, 10154.879232510368, 10227.849293281122, 9798.613593552485, 9982.847526281868, 10130.288072297586, 10533.204774830256, 10885.013814309586, 11069.903548955503, 11364.046700399176, 11726.188719229242, 12224.312429822623, 12325.125586004078, 12631.417533475043, 12344.813247480808, 12952.404800724675, 13156.709161346718, 13501.039035397962, 13808.036131178384, 14070.416997336342, 14439.463934580763, 14911.398658891605, 14787.81663857781, 13951.369442751642, 14423.4382292023, 15117.82375537961, 15152.00854868769, 16016.631632422093, 15947.07368933272, 16670.485023958205, 16802.590112423568, 16042.7358383395, 16554.630072691416, 17734.603562321663, 18488.36040678883, 19720.28891144527, 19173.594208234917, 20147.37801530866, 19181.33179802361, 19569.303592819968, 19845.78989643852, 19723.272520037044, 21195.312926833525, 22195.861464202073, 22387.651826323363, 21781.58610902504, 22021.8947916891, 21079.672293101834, 17622.47697781501, 18511.18928107784, 20095.331526227717, 21148.162854679384, 21816.229003307104, 22032.521330854175, 21274.19791810957, 21834.577657964754, 23883.24032699522, 23496.3318336979, 24235.98676948319, 23245.031677796258, 22615.423391209093, 21780.63734452175, 22053.65096609329, 22281.16363065166, 23380.034243505386, 22592.842804833243, 22116.733223603223, 23819.586273249923, 23724.502373759155, 23343.506232577292, 23482.09043590498, 23660.650168484946, 25137.31617420421, 24497.597127893336, 24665.98061182546, 23775.085663115082, 25255.69125293132, 25955.273900637516, 25065.908494940155, 23854.76472039688, 25533.45859200652, 26107.54453753333, 25748.379317681265, 25482.960819857577, 24841.050237409614, 22411.139260002925, 23276.941027741403, 24794.645086711414, 25676.27182415177, 25880.529186540636, 26187.820857575924, 27701.69068127326, 27377.92010467805, 27328.02524211994, 25898.434893076548, 23232.48171755251, 23482.918387822127, 21460.79949301444, 22261.287314103876, 23567.161686668365, 22824.651804793295, 21980.046526171842, 21495.812644028934, 21463.042496998136, 23121.522452230463, 24836.101309014644, 25263.839796661123, 26044.44088752123, 27061.609183979384, 26614.706038026812, 28550.084008530826, 29375.938887585766, 30974.829275610075, 31259.165565572708, 31994.52148694895, 31939.8696206539, 31389.395745253045, 31784.19747173874, 32904.75259689035, 31494.01169371592, 31608.09714423908, 32414.36164669998, 32882.78224837403, 35013.18389175542, 36217.851784063794, 35586.1089693732, 36624.787603005796, 35924.80569300141, 34601.89305233913, 36103.12089805275, 36403.80831924654, 38055.27822767212, 37748.73907835656, 37975.77078052781, 36882.223585194646, 38460.85802448503, 38618.23357619746, 40347.93637680318, 40479.273026846044, 41622.19290914484, 42271.83889153084, 40905.5095356858, 40859.428226984375, 40087.685353023684, 40928.135948190255, 41425.53809017286, 43338.637072708625, 44689.82964119795, 44996.09177984111, 46321.915398447934, 46112.71050298516, 46609.222055258106, 48646.901146824915, 50826.08375942248, 50219.69746216211, 48694.658486168286, 48845.11504320515, 50769.31352418267, 52412.58150886337, 50075.62216028041, 49728.66963531275, 47095.58732166339, 46200.96338943881, 45788.4547877474, 47919.206514421305, 49343.09150799269, 45102.10314297409, 44836.460959972814, 45724.58889890648, 40676.03439154191, 32117.38169398607, 29124.959359583532, 30277.89167937505, 27859.800383275084, 24723.412284208545, 26930.506617980252, 31636.420288710746, 33249.29664632765, 33101.37120410521, 36342.19810644346, 37737.44184272594, 39654.2728427741, 38101.929451610646, 40508.2606940791, 42150.415980665195, 40453.04453550094, 42480.98042523573, 45543.078850989456, 47024.34425435316, 43338.499377257365, 40505.84199040956, 43600.157658542244, 41331.88170133498, 45601.12767796697, 47564.86113742163, 48370.16335782173, 51923.98835995426, 52735.38015357093, 54744.8133838716, 55754.35243231379, 57192.13201871118, 56659.77831639008, 55837.286473197244, 53954.77224352945, 50639.96721573515, 45388.08588110407, 51612.83028783075, 51736.27975129471, 51434.0976438494, 54875.24871131535, 56759.93352879033, 57992.66661575642, 57447.41719718743, 53498.7865620828, 55247.21425188934, 55042.34856149, 56833.134522239554, 58615.955156405544, 58475.87498602159, 59146.67680907552, 60378.617591756, 63790.502372364426, 64587.75346732028, 67546.53163483241, 67754.27168212568, 69691.62903016298, 68273.75994893501, 72041.63549289238, 70409.0838183759, 73550.7658767534, 76800.50889967526, 78757.82472648982, 81309.09605686451, 78348.78121267172, 82216.49278155608, 82485.4581650843, 82433.10514979997, 83826.72931931213, 86397.13056017469, 83527.33526017997, 87245.66539085409, 84328.27717161096, 85963.38525611597, 88165.97770895378, 87552.95426802638, 85132.56178126174, 91053.61832310952, 89554.3926238629, 89892.87167516784, 90510.19721228404, 88544.648215272, 87994.04506606399, 83572.07493196859, 79391.08341180066, 84679.3396801226, 85175.66429963548, 82757.71840084376, 78103.86344056776, 80087.0639893995, 86354.12191105161, 88813.62828939986, 89522.32479268874, 90057.08365935851, 94450.95039210196, 94371.53449095596, 94270.80732250948, 91789.36880649779, 97257.95460969798, 98281.54496055962, 101003.54260680404, 103979.4367794866, 104309.83674492672, 105494.92421667976, 106358.90611643797, 107728.33129743514, 109441.65147253903, 109170.05749663989, 112216.5704889033, 114296.92829772203, 118506.08762656366, 120411.37529660866, 125877.56026007347, 121158.43621522134, 119394.22102665888, 118663.72332331624, 121233.39836042582, 121714.37331228839, 125543.65653470113, 127117.82026071992, 127181.89801909625, 117199.15724417286, 119752.90296232805, 108058.66539753744]}, {\"name\": \"MW_wealth_index\", \"type\": \"scatter\", \"x\": [\"1978-12-01T00:00:00\", \"1979-01-01T00:00:00\", \"1979-02-01T00:00:00\", \"1979-03-01T00:00:00\", \"1979-04-01T00:00:00\", \"1979-05-01T00:00:00\", \"1979-06-01T00:00:00\", \"1979-07-01T00:00:00\", \"1979-08-01T00:00:00\", \"1979-09-01T00:00:00\", \"1979-10-01T00:00:00\", \"1979-11-01T00:00:00\", \"1979-12-01T00:00:00\", \"1980-01-01T00:00:00\", \"1980-02-01T00:00:00\", \"1980-03-01T00:00:00\", \"1980-04-01T00:00:00\", \"1980-05-01T00:00:00\", \"1980-06-01T00:00:00\", \"1980-07-01T00:00:00\", \"1980-08-01T00:00:00\", \"1980-09-01T00:00:00\", \"1980-10-01T00:00:00\", \"1980-11-01T00:00:00\", \"1980-12-01T00:00:00\", \"1981-01-01T00:00:00\", \"1981-02-01T00:00:00\", \"1981-03-01T00:00:00\", \"1981-04-01T00:00:00\", \"1981-05-01T00:00:00\", \"1981-06-01T00:00:00\", \"1981-07-01T00:00:00\", \"1981-08-01T00:00:00\", \"1981-09-01T00:00:00\", \"1981-10-01T00:00:00\", \"1981-11-01T00:00:00\", \"1981-12-01T00:00:00\", \"1982-01-01T00:00:00\", \"1982-02-01T00:00:00\", \"1982-03-01T00:00:00\", \"1982-04-01T00:00:00\", \"1982-05-01T00:00:00\", \"1982-06-01T00:00:00\", \"1982-07-01T00:00:00\", \"1982-08-01T00:00:00\", \"1982-09-01T00:00:00\", \"1982-10-01T00:00:00\", \"1982-11-01T00:00:00\", \"1982-12-01T00:00:00\", \"1983-01-01T00:00:00\", \"1983-02-01T00:00:00\", \"1983-03-01T00:00:00\", \"1983-04-01T00:00:00\", \"1983-05-01T00:00:00\", \"1983-06-01T00:00:00\", \"1983-07-01T00:00:00\", \"1983-08-01T00:00:00\", \"1983-09-01T00:00:00\", \"1983-10-01T00:00:00\", \"1983-11-01T00:00:00\", \"1983-12-01T00:00:00\", \"1984-01-01T00:00:00\", \"1984-02-01T00:00:00\", \"1984-03-01T00:00:00\", \"1984-04-01T00:00:00\", \"1984-05-01T00:00:00\", \"1984-06-01T00:00:00\", \"1984-07-01T00:00:00\", \"1984-08-01T00:00:00\", \"1984-09-01T00:00:00\", \"1984-10-01T00:00:00\", \"1984-11-01T00:00:00\", \"1984-12-01T00:00:00\", \"1985-01-01T00:00:00\", \"1985-02-01T00:00:00\", \"1985-03-01T00:00:00\", \"1985-04-01T00:00:00\", \"1985-05-01T00:00:00\", \"1985-06-01T00:00:00\", \"1985-07-01T00:00:00\", \"1985-08-01T00:00:00\", \"1985-09-01T00:00:00\", \"1985-10-01T00:00:00\", \"1985-11-01T00:00:00\", \"1985-12-01T00:00:00\", \"1986-01-01T00:00:00\", \"1986-02-01T00:00:00\", \"1986-03-01T00:00:00\", \"1986-04-01T00:00:00\", \"1986-05-01T00:00:00\", \"1986-06-01T00:00:00\", \"1986-07-01T00:00:00\", \"1986-08-01T00:00:00\", \"1986-09-01T00:00:00\", \"1986-10-01T00:00:00\", \"1986-11-01T00:00:00\", \"1986-12-01T00:00:00\", \"1987-01-01T00:00:00\", \"1987-02-01T00:00:00\", \"1987-03-01T00:00:00\", \"1987-04-01T00:00:00\", \"1987-05-01T00:00:00\", \"1987-06-01T00:00:00\", \"1987-07-01T00:00:00\", \"1987-08-01T00:00:00\", \"1987-09-01T00:00:00\", \"1987-10-01T00:00:00\", \"1987-11-01T00:00:00\", \"1987-12-01T00:00:00\", \"1988-01-01T00:00:00\", \"1988-02-01T00:00:00\", \"1988-03-01T00:00:00\", \"1988-04-01T00:00:00\", \"1988-05-01T00:00:00\", \"1988-06-01T00:00:00\", \"1988-07-01T00:00:00\", \"1988-08-01T00:00:00\", \"1988-09-01T00:00:00\", \"1988-10-01T00:00:00\", \"1988-11-01T00:00:00\", \"1988-12-01T00:00:00\", \"1989-01-01T00:00:00\", \"1989-02-01T00:00:00\", \"1989-03-01T00:00:00\", \"1989-04-01T00:00:00\", \"1989-05-01T00:00:00\", \"1989-06-01T00:00:00\", \"1989-07-01T00:00:00\", \"1989-08-01T00:00:00\", \"1989-09-01T00:00:00\", \"1989-10-01T00:00:00\", \"1989-11-01T00:00:00\", \"1989-12-01T00:00:00\", \"1990-01-01T00:00:00\", \"1990-02-01T00:00:00\", \"1990-03-01T00:00:00\", \"1990-04-01T00:00:00\", \"1990-05-01T00:00:00\", \"1990-06-01T00:00:00\", \"1990-07-01T00:00:00\", \"1990-08-01T00:00:00\", \"1990-09-01T00:00:00\", \"1990-10-01T00:00:00\", \"1990-11-01T00:00:00\", \"1990-12-01T00:00:00\", \"1991-01-01T00:00:00\", \"1991-02-01T00:00:00\", \"1991-03-01T00:00:00\", \"1991-04-01T00:00:00\", \"1991-05-01T00:00:00\", \"1991-06-01T00:00:00\", \"1991-07-01T00:00:00\", \"1991-08-01T00:00:00\", \"1991-09-01T00:00:00\", \"1991-10-01T00:00:00\", \"1991-11-01T00:00:00\", \"1991-12-01T00:00:00\", \"1992-01-01T00:00:00\", \"1992-02-01T00:00:00\", \"1992-03-01T00:00:00\", \"1992-04-01T00:00:00\", \"1992-05-01T00:00:00\", \"1992-06-01T00:00:00\", \"1992-07-01T00:00:00\", \"1992-08-01T00:00:00\", \"1992-09-01T00:00:00\", \"1992-10-01T00:00:00\", \"1992-11-01T00:00:00\", \"1992-12-01T00:00:00\", \"1993-01-01T00:00:00\", \"1993-02-01T00:00:00\", \"1993-03-01T00:00:00\", \"1993-04-01T00:00:00\", \"1993-05-01T00:00:00\", \"1993-06-01T00:00:00\", \"1993-07-01T00:00:00\", \"1993-08-01T00:00:00\", \"1993-09-01T00:00:00\", \"1993-10-01T00:00:00\", \"1993-11-01T00:00:00\", \"1993-12-01T00:00:00\", \"1994-01-01T00:00:00\", \"1994-02-01T00:00:00\", \"1994-03-01T00:00:00\", \"1994-04-01T00:00:00\", \"1994-05-01T00:00:00\", \"1994-06-01T00:00:00\", \"1994-07-01T00:00:00\", \"1994-08-01T00:00:00\", \"1994-09-01T00:00:00\", \"1994-10-01T00:00:00\", \"1994-11-01T00:00:00\", \"1994-12-01T00:00:00\", \"1995-01-01T00:00:00\", \"1995-02-01T00:00:00\", \"1995-03-01T00:00:00\", \"1995-04-01T00:00:00\", \"1995-05-01T00:00:00\", \"1995-06-01T00:00:00\", \"1995-07-01T00:00:00\", \"1995-08-01T00:00:00\", \"1995-09-01T00:00:00\", \"1995-10-01T00:00:00\", \"1995-11-01T00:00:00\", \"1995-12-01T00:00:00\", \"1996-01-01T00:00:00\", \"1996-02-01T00:00:00\", \"1996-03-01T00:00:00\", \"1996-04-01T00:00:00\", \"1996-05-01T00:00:00\", \"1996-06-01T00:00:00\", \"1996-07-01T00:00:00\", \"1996-08-01T00:00:00\", \"1996-09-01T00:00:00\", \"1996-10-01T00:00:00\", \"1996-11-01T00:00:00\", \"1996-12-01T00:00:00\", \"1997-01-01T00:00:00\", \"1997-02-01T00:00:00\", \"1997-03-01T00:00:00\", \"1997-04-01T00:00:00\", \"1997-05-01T00:00:00\", \"1997-06-01T00:00:00\", \"1997-07-01T00:00:00\", \"1997-08-01T00:00:00\", \"1997-09-01T00:00:00\", \"1997-10-01T00:00:00\", \"1997-11-01T00:00:00\", \"1997-12-01T00:00:00\", \"1998-01-01T00:00:00\", \"1998-02-01T00:00:00\", \"1998-03-01T00:00:00\", \"1998-04-01T00:00:00\", \"1998-05-01T00:00:00\", \"1998-06-01T00:00:00\", \"1998-07-01T00:00:00\", \"1998-08-01T00:00:00\", \"1998-09-01T00:00:00\", \"1998-10-01T00:00:00\", \"1998-11-01T00:00:00\", \"1998-12-01T00:00:00\", \"1999-01-01T00:00:00\", \"1999-02-01T00:00:00\", \"1999-03-01T00:00:00\", \"1999-04-01T00:00:00\", \"1999-05-01T00:00:00\", \"1999-06-01T00:00:00\", \"1999-07-01T00:00:00\", \"1999-08-01T00:00:00\", \"1999-09-01T00:00:00\", \"1999-10-01T00:00:00\", \"1999-11-01T00:00:00\", \"1999-12-01T00:00:00\", \"2000-01-01T00:00:00\", \"2000-02-01T00:00:00\", \"2000-03-01T00:00:00\", \"2000-04-01T00:00:00\", \"2000-05-01T00:00:00\", \"2000-06-01T00:00:00\", \"2000-07-01T00:00:00\", \"2000-08-01T00:00:00\", \"2000-09-01T00:00:00\", \"2000-10-01T00:00:00\", \"2000-11-01T00:00:00\", \"2000-12-01T00:00:00\", \"2001-01-01T00:00:00\", \"2001-02-01T00:00:00\", \"2001-03-01T00:00:00\", \"2001-04-01T00:00:00\", \"2001-05-01T00:00:00\", \"2001-06-01T00:00:00\", \"2001-07-01T00:00:00\", \"2001-08-01T00:00:00\", \"2001-09-01T00:00:00\", \"2001-10-01T00:00:00\", \"2001-11-01T00:00:00\", \"2001-12-01T00:00:00\", \"2002-01-01T00:00:00\", \"2002-02-01T00:00:00\", \"2002-03-01T00:00:00\", \"2002-04-01T00:00:00\", \"2002-05-01T00:00:00\", \"2002-06-01T00:00:00\", \"2002-07-01T00:00:00\", \"2002-08-01T00:00:00\", \"2002-09-01T00:00:00\", \"2002-10-01T00:00:00\", \"2002-11-01T00:00:00\", \"2002-12-01T00:00:00\", \"2003-01-01T00:00:00\", \"2003-02-01T00:00:00\", \"2003-03-01T00:00:00\", \"2003-04-01T00:00:00\", \"2003-05-01T00:00:00\", \"2003-06-01T00:00:00\", \"2003-07-01T00:00:00\", \"2003-08-01T00:00:00\", \"2003-09-01T00:00:00\", \"2003-10-01T00:00:00\", \"2003-11-01T00:00:00\", \"2003-12-01T00:00:00\", \"2004-01-01T00:00:00\", \"2004-02-01T00:00:00\", \"2004-03-01T00:00:00\", \"2004-04-01T00:00:00\", \"2004-05-01T00:00:00\", \"2004-06-01T00:00:00\", \"2004-07-01T00:00:00\", \"2004-08-01T00:00:00\", \"2004-09-01T00:00:00\", \"2004-10-01T00:00:00\", \"2004-11-01T00:00:00\", \"2004-12-01T00:00:00\", \"2005-01-01T00:00:00\", \"2005-02-01T00:00:00\", \"2005-03-01T00:00:00\", \"2005-04-01T00:00:00\", \"2005-05-01T00:00:00\", \"2005-06-01T00:00:00\", \"2005-07-01T00:00:00\", \"2005-08-01T00:00:00\", \"2005-09-01T00:00:00\", \"2005-10-01T00:00:00\", \"2005-11-01T00:00:00\", \"2005-12-01T00:00:00\", \"2006-01-01T00:00:00\", \"2006-02-01T00:00:00\", \"2006-03-01T00:00:00\", \"2006-04-01T00:00:00\", \"2006-05-01T00:00:00\", \"2006-06-01T00:00:00\", \"2006-07-01T00:00:00\", \"2006-08-01T00:00:00\", \"2006-09-01T00:00:00\", \"2006-10-01T00:00:00\", \"2006-11-01T00:00:00\", \"2006-12-01T00:00:00\", \"2007-01-01T00:00:00\", \"2007-02-01T00:00:00\", \"2007-03-01T00:00:00\", \"2007-04-01T00:00:00\", \"2007-05-01T00:00:00\", \"2007-06-01T00:00:00\", \"2007-07-01T00:00:00\", \"2007-08-01T00:00:00\", \"2007-09-01T00:00:00\", \"2007-10-01T00:00:00\", \"2007-11-01T00:00:00\", \"2007-12-01T00:00:00\", \"2008-01-01T00:00:00\", \"2008-02-01T00:00:00\", \"2008-03-01T00:00:00\", \"2008-04-01T00:00:00\", \"2008-05-01T00:00:00\", \"2008-06-01T00:00:00\", \"2008-07-01T00:00:00\", \"2008-08-01T00:00:00\", \"2008-09-01T00:00:00\", \"2008-10-01T00:00:00\", \"2008-11-01T00:00:00\", \"2008-12-01T00:00:00\", \"2009-01-01T00:00:00\", \"2009-02-01T00:00:00\", \"2009-03-01T00:00:00\", \"2009-04-01T00:00:00\", \"2009-05-01T00:00:00\", \"2009-06-01T00:00:00\", \"2009-07-01T00:00:00\", \"2009-08-01T00:00:00\", \"2009-09-01T00:00:00\", \"2009-10-01T00:00:00\", \"2009-11-01T00:00:00\", \"2009-12-01T00:00:00\", \"2010-01-01T00:00:00\", \"2010-02-01T00:00:00\", \"2010-03-01T00:00:00\", \"2010-04-01T00:00:00\", \"2010-05-01T00:00:00\", \"2010-06-01T00:00:00\", \"2010-07-01T00:00:00\", \"2010-08-01T00:00:00\", \"2010-09-01T00:00:00\", \"2010-10-01T00:00:00\", \"2010-11-01T00:00:00\", \"2010-12-01T00:00:00\", \"2011-01-01T00:00:00\", \"2011-02-01T00:00:00\", \"2011-03-01T00:00:00\", \"2011-04-01T00:00:00\", \"2011-05-01T00:00:00\", \"2011-06-01T00:00:00\", \"2011-07-01T00:00:00\", \"2011-08-01T00:00:00\", \"2011-09-01T00:00:00\", \"2011-10-01T00:00:00\", \"2011-11-01T00:00:00\", \"2011-12-01T00:00:00\", \"2012-01-01T00:00:00\", \"2012-02-01T00:00:00\", \"2012-03-01T00:00:00\", \"2012-04-01T00:00:00\", \"2012-05-01T00:00:00\", \"2012-06-01T00:00:00\", \"2012-07-01T00:00:00\", \"2012-08-01T00:00:00\", \"2012-09-01T00:00:00\", \"2012-10-01T00:00:00\", \"2012-11-01T00:00:00\", \"2012-12-01T00:00:00\", \"2013-01-01T00:00:00\", \"2013-02-01T00:00:00\", \"2013-03-01T00:00:00\", \"2013-04-01T00:00:00\", \"2013-05-01T00:00:00\", \"2013-06-01T00:00:00\", \"2013-07-01T00:00:00\", \"2013-08-01T00:00:00\", \"2013-09-01T00:00:00\", \"2013-10-01T00:00:00\", \"2013-11-01T00:00:00\", \"2013-12-01T00:00:00\", \"2014-01-01T00:00:00\", \"2014-02-01T00:00:00\", \"2014-03-01T00:00:00\", \"2014-04-01T00:00:00\", \"2014-05-01T00:00:00\", \"2014-06-01T00:00:00\", \"2014-07-01T00:00:00\", \"2014-08-01T00:00:00\", \"2014-09-01T00:00:00\", \"2014-10-01T00:00:00\", \"2014-11-01T00:00:00\", \"2014-12-01T00:00:00\", \"2015-01-01T00:00:00\", \"2015-02-01T00:00:00\", \"2015-03-01T00:00:00\", \"2015-04-01T00:00:00\", \"2015-05-01T00:00:00\", \"2015-06-01T00:00:00\", \"2015-07-01T00:00:00\", \"2015-08-01T00:00:00\", \"2015-09-01T00:00:00\", \"2015-10-01T00:00:00\", \"2015-11-01T00:00:00\", \"2015-12-01T00:00:00\", \"2016-01-01T00:00:00\", \"2016-02-01T00:00:00\", \"2016-03-01T00:00:00\", \"2016-04-01T00:00:00\", \"2016-05-01T00:00:00\", \"2016-06-01T00:00:00\", \"2016-07-01T00:00:00\", \"2016-08-01T00:00:00\", \"2016-09-01T00:00:00\", \"2016-10-01T00:00:00\", \"2016-11-01T00:00:00\", \"2016-12-01T00:00:00\", \"2017-01-01T00:00:00\", \"2017-02-01T00:00:00\", \"2017-03-01T00:00:00\", \"2017-04-01T00:00:00\", \"2017-05-01T00:00:00\", \"2017-06-01T00:00:00\", \"2017-07-01T00:00:00\", \"2017-08-01T00:00:00\", \"2017-09-01T00:00:00\", \"2017-10-01T00:00:00\", \"2017-11-01T00:00:00\", \"2017-12-01T00:00:00\", \"2018-01-01T00:00:00\", \"2018-02-01T00:00:00\", \"2018-03-01T00:00:00\", \"2018-04-01T00:00:00\", \"2018-05-01T00:00:00\", \"2018-06-01T00:00:00\", \"2018-07-01T00:00:00\", \"2018-08-01T00:00:00\", \"2018-09-01T00:00:00\", \"2018-10-01T00:00:00\", \"2018-11-01T00:00:00\", \"2018-12-01T00:00:00\"], \"y\": [1018.0627200430265, 1068.2552168866528, 1037.1609119230925, 1104.4733024704578, 1113.3814183977206, 1097.0789044475566, 1145.3442741828103, 1161.9833262496313, 1236.0478590219673, 1234.4851700987292, 1145.8366854872186, 1213.606858147408, 1245.4627612303377, 1312.8514638429476, 1293.202484417228, 1160.949526759824, 1217.2438630546185, 1294.1964200210068, 1335.879577412854, 1437.368923329077, 1469.1226786149336, 1505.5257033556036, 1523.280491399167, 1649.8846780447582, 1620.815457112122, 1578.7685576942013, 1618.5215348836123, 1702.8620170282784, 1697.5296324469514, 1720.5659205374347, 1705.4096340659175, 1691.7112217756257, 1596.0260490003805, 1510.9605468897928, 1592.1250290827472, 1661.0481306825488, 1624.2445970809001, 1592.5947202758132, 1517.8503315552182, 1507.9020845505274, 1572.5058496045497, 1529.3612213702988, 1498.3846507024978, 1465.968048646183, 1637.8722403741183, 1664.5575757423007, 1859.7912627641313, 1954.0062415694788, 1986.1759133414082, 2073.7699504233447, 2135.1515262584967, 2206.3651108276777, 2371.9144138949155, 2397.6081679387685, 2484.03689503451, 2409.813045595267, 2424.508135823456, 2467.6409391500324, 2411.1421168442344, 2479.6693518792777, 2460.6662386718262, 2447.788062551728, 2354.0756789960537, 2381.4756812533883, 2394.2747582837374, 2272.676805656777, 2331.0746195115366, 2282.0965712592115, 2536.604874536279, 2546.4773195139596, 2535.4199959057923, 2512.5477381836, 2565.1136721355506, 2778.451196793948, 2835.266143458671, 2837.7729619729566, 2838.8886160288353, 2985.0285090853667, 3028.825832789725, 3042.4564012602236, 3036.3074879509277, 2927.5211060386464, 3059.0732650751493, 3238.281453635077, 3341.8565570850187, 3337.27646905063, 3558.0819190432876, 3721.7116261400174, 3701.526209541261, 3892.7289920999697, 3921.553902372075, 3691.420104709217, 4001.811396446623, 3727.389983132092, 3909.301364260402, 3988.4178190144485, 3893.8212417419936, 4407.5607889767425, 4590.326830827752, 4736.495429765337, 4673.129995746055, 4725.064141026399, 4939.773363555053, 5155.958821484675, 5353.34919062729, 5241.161012015712, 4078.5803122439147, 3772.3221381956087, 4057.3571596002694, 4240.22371694955, 4470.099762123902, 4401.628743769371, 4458.813039223186, 4463.657401087836, 4694.898989093073, 4663.907521413343, 4533.023595973712, 4686.954037506417, 4765.695788469582, 4676.856195711776, 4790.393570304792, 5101.287057087711, 5018.702498238228, 5112.462665858501, 5348.711239550247, 5549.116025807499, 5517.154426936167, 5911.723259894468, 6062.652808287782, 6032.004929233747, 5842.052046108842, 5915.242742078346, 6013.565234022802, 5610.018831758759, 5712.0403104746665, 5849.671189819644, 5680.669917077671, 6167.4337848980695, 6140.020895605384, 6059.085419406538, 5474.19684768001, 5136.323149255305, 5028.846577087546, 5406.284978850496, 5572.070541926591, 5912.153743651557, 6381.534082386081, 6603.032654426414, 6615.4686860492975, 6906.97755500458, 6588.225656168389, 6898.330712164959, 7079.083661844624, 7029.583802716102, 7115.596020943272, 6843.795085342574, 7549.213471356012, 7621.559371563696, 7777.968384126481, 7629.967429805431, 7780.9980134891985, 7844.435296060217, 7693.881132948872, 7987.895560043493, 7780.814666755667, 7902.466638450538, 7976.436107265613, 8324.850241548387, 8462.183257254308, 8590.151218324507, 8673.952680404054, 8908.021462578421, 8689.868271272426, 8960.644184145738, 8986.135611872463, 8962.612784045987, 9312.533221368623, 9288.506862070222, 9493.273564830342, 9388.024294880266, 9579.791569674757, 9893.758744547107, 9647.241494665735, 9211.214566885843, 9313.196163667497, 9386.810967549136, 9145.925892132227, 9438.546605446056, 9847.502660518685, 9650.535727433205, 9819.449671753913, 9461.630492091215, 9588.530956865614, 9800.031399462572, 10173.333695376923, 10444.534396006107, 10688.501231510907, 11048.48948735891, 11342.293425432728, 11771.595438397115, 11866.687049936803, 12334.154948839725, 12230.930515942506, 12787.121510026675, 13083.914022038229, 13432.558833193963, 13640.007826626817, 13814.77375885767, 14083.176575790874, 14465.641483669768, 14451.46386676022, 13674.32165595469, 14101.736111542217, 14809.209641244308, 15033.683769617228, 15949.645807653664, 15773.068185165588, 16533.717753790454, 16625.260360636894, 15971.652456209213, 16590.577039666536, 17710.254277472224, 18530.513477702694, 19781.249522539325, 19068.025101730207, 20216.587016335572, 19678.7392611535, 20458.538883031237, 20943.18595751661, 20965.36430781287, 22434.939035338626, 23672.313061384782, 23877.052728428713, 23431.530259731273, 24087.025649960593, 23409.00997126392, 20076.537648320344, 21185.71657809679, 22802.82380565447, 24055.003841630412, 25240.299031955125, 25647.461355654686, 24979.797684386835, 25688.19105873484, 27454.502129796325, 27053.38850359297, 28099.487390612434, 27309.53951468354, 26752.397996717846, 25880.066263066954, 27399.072432751458, 27792.42071775161, 28942.06235116882, 27891.22022850384, 27076.277483086196, 29548.407092546036, 29154.03917827267, 29185.337652183516, 29491.448857951065, 29506.56865130185, 31139.423700118325, 30687.857355339154, 30711.098211693465, 28851.50918491599, 29972.488014926545, 30584.892060071048, 28682.786881479606, 27064.978626200565, 28899.105446322665, 29321.52155399042, 28761.23897421853, 28493.683344974645, 27123.28679038414, 24659.76911531074, 25413.334568323393, 27407.014864431003, 27912.245172854426, 27772.38536530283, 27526.840847443316, 28947.74539213281, 27894.75441869809, 27651.822779300932, 25734.143582726007, 23555.544720888167, 23697.786920899114, 21268.004817492874, 22923.555971984886, 24464.481572023495, 23195.192432985055, 22547.00528779155, 22110.009789215386, 22254.014426917216, 24119.707251367177, 25737.15894999932, 26091.673888934398, 26761.378923366712, 27451.33480497599, 27078.667456721978, 28794.80026635522, 29272.91481195201, 30637.542412892042, 31232.13036686039, 31593.775651740456, 31205.20604546806, 30667.464950825528, 31066.774701826194, 31712.96151574679, 30301.552035295263, 30233.263955512666, 30779.66580605516, 31412.16494173676, 32925.31745551513, 34128.449027446404, 32960.41494026544, 33419.83390218289, 32828.57193825839, 31821.06777668311, 33316.96673024143, 33308.623780737194, 34801.03916143076, 34433.467095315464, 34650.64146941677, 34115.514476388504, 35503.2692176563, 35507.208174490734, 36631.45346989025, 36776.68869190037, 37451.547003551015, 37762.727075306306, 36639.383254038024, 36669.618264936864, 36526.9985185697, 37545.55241769982, 38518.92778888159, 39847.182472786655, 40525.82664931444, 41035.71767615967, 41826.3940069014, 41136.76093941676, 41524.57823616243, 43251.84632664311, 44721.04966497437, 43995.94422403496, 42340.292135047814, 42931.56056817512, 44207.473476290026, 44833.494846299924, 42868.963455181874, 42219.09525857296, 40084.89730973254, 38522.607029451065, 38341.6293662904, 39979.15961176818, 40490.19717490894, 36547.347893148304, 37153.89212016635, 37860.576970787544, 34780.68269870979, 28709.862915114016, 26167.31078485842, 26753.537641905634, 24190.37692526073, 21699.446764302156, 23800.640576487764, 26720.77444847104, 28116.185877457687, 28242.524230566363, 30544.354663268467, 31847.590823444985, 33081.282767805234, 32154.071278125833, 33972.850518925945, 34999.894381697304, 33967.8925341632, 35052.23787031812, 37338.21093994338, 38124.450762013505, 35108.605831542445, 33012.97375211176, 35306.813629905926, 33528.231090144254, 36781.54685753021, 38112.655574800316, 38339.96082296547, 41081.82985777135, 41974.25818503646, 43437.4180974452, 43617.78085227264, 44915.031886302466, 44395.493643439724, 43632.819176489735, 42515.744464072624, 39957.81108362551, 36838.787287999854, 41108.38081573984, 40967.05518096503, 41296.594995475105, 43484.687665615864, 45405.19160634849, 46938.20851011078, 46536.58958627647, 43541.284738414295, 45289.02338399328, 45537.13238639341, 46757.018751805226, 48056.68460774227, 47421.444285176534, 47790.08891992655, 48466.66967842353, 51348.29362306928, 52010.706223099754, 54110.02941700036, 54833.50893067282, 56437.2734114416, 55616.88564070361, 58752.142633078576, 57133.70447441851, 59208.11028712247, 61719.956968568564, 63509.03023870297, 65128.257241369894, 63095.4402105041, 66048.18495101326, 66509.97469555281, 66681.87603394188, 68053.23849624772, 69787.1387133775, 68428.3711603144, 71318.04636058952, 69835.89563857658, 71350.12714278258, 72974.8152332166, 72942.63739834927, 70548.5571958886, 74880.59514941362, 73773.7209372577, 74570.2383748723, 75354.42416612396, 74038.49075805035, 74823.54489924308, 70444.47503893047, 68121.5363733767, 73483.62830864736, 73753.78473288663, 71812.93996304303, 67610.6658950822, 67925.70662612494, 72879.2679827724, 74026.28863134778, 75175.70039233917, 75275.10392758991, 78170.22021326075, 78646.85763840377, 79007.76813604406, 77419.75370333366, 81285.37816952194, 82728.33137667117, 84258.51251765282, 87262.00080679439, 87302.51511089361, 88193.02048597844, 88738.83904130486, 89437.04861630208, 91152.05191513516, 91009.21693188742, 93721.03867892984, 95332.4533101533, 98588.5556420057, 100103.6322695136, 105500.59599277748, 101164.9846718051, 99303.69083203061, 99923.97903901839, 101954.65023125274, 102744.5521194432, 106311.19877822828, 109615.66460906004, 109995.78479281408, 102257.32074504558, 104398.21417200113, 94489.92815979144]}, {\"name\": \"EWT_wealth_index\", \"type\": \"scatter\", \"x\": [\"1978-12-01T00:00:00\", \"1979-01-01T00:00:00\", \"1979-02-01T00:00:00\", \"1979-03-01T00:00:00\", \"1979-04-01T00:00:00\", \"1979-05-01T00:00:00\", \"1979-06-01T00:00:00\", \"1979-07-01T00:00:00\", \"1979-08-01T00:00:00\", \"1979-09-01T00:00:00\", \"1979-10-01T00:00:00\", \"1979-11-01T00:00:00\", \"1979-12-01T00:00:00\", \"1980-01-01T00:00:00\", \"1980-02-01T00:00:00\", \"1980-03-01T00:00:00\", \"1980-04-01T00:00:00\", \"1980-05-01T00:00:00\", \"1980-06-01T00:00:00\", \"1980-07-01T00:00:00\", \"1980-08-01T00:00:00\", \"1980-09-01T00:00:00\", \"1980-10-01T00:00:00\", \"1980-11-01T00:00:00\", \"1980-12-01T00:00:00\", \"1981-01-01T00:00:00\", \"1981-02-01T00:00:00\", \"1981-03-01T00:00:00\", \"1981-04-01T00:00:00\", \"1981-05-01T00:00:00\", \"1981-06-01T00:00:00\", \"1981-07-01T00:00:00\", \"1981-08-01T00:00:00\", \"1981-09-01T00:00:00\", \"1981-10-01T00:00:00\", \"1981-11-01T00:00:00\", \"1981-12-01T00:00:00\", \"1982-01-01T00:00:00\", \"1982-02-01T00:00:00\", \"1982-03-01T00:00:00\", \"1982-04-01T00:00:00\", \"1982-05-01T00:00:00\", \"1982-06-01T00:00:00\", \"1982-07-01T00:00:00\", \"1982-08-01T00:00:00\", \"1982-09-01T00:00:00\", \"1982-10-01T00:00:00\", \"1982-11-01T00:00:00\", \"1982-12-01T00:00:00\", \"1983-01-01T00:00:00\", \"1983-02-01T00:00:00\", \"1983-03-01T00:00:00\", \"1983-04-01T00:00:00\", \"1983-05-01T00:00:00\", \"1983-06-01T00:00:00\", \"1983-07-01T00:00:00\", \"1983-08-01T00:00:00\", \"1983-09-01T00:00:00\", \"1983-10-01T00:00:00\", \"1983-11-01T00:00:00\", \"1983-12-01T00:00:00\", \"1984-01-01T00:00:00\", \"1984-02-01T00:00:00\", \"1984-03-01T00:00:00\", \"1984-04-01T00:00:00\", \"1984-05-01T00:00:00\", \"1984-06-01T00:00:00\", \"1984-07-01T00:00:00\", \"1984-08-01T00:00:00\", \"1984-09-01T00:00:00\", \"1984-10-01T00:00:00\", \"1984-11-01T00:00:00\", \"1984-12-01T00:00:00\", \"1985-01-01T00:00:00\", \"1985-02-01T00:00:00\", \"1985-03-01T00:00:00\", \"1985-04-01T00:00:00\", \"1985-05-01T00:00:00\", \"1985-06-01T00:00:00\", \"1985-07-01T00:00:00\", \"1985-08-01T00:00:00\", \"1985-09-01T00:00:00\", \"1985-10-01T00:00:00\", \"1985-11-01T00:00:00\", \"1985-12-01T00:00:00\", \"1986-01-01T00:00:00\", \"1986-02-01T00:00:00\", \"1986-03-01T00:00:00\", \"1986-04-01T00:00:00\", \"1986-05-01T00:00:00\", \"1986-06-01T00:00:00\", \"1986-07-01T00:00:00\", \"1986-08-01T00:00:00\", \"1986-09-01T00:00:00\", \"1986-10-01T00:00:00\", \"1986-11-01T00:00:00\", \"1986-12-01T00:00:00\", \"1987-01-01T00:00:00\", \"1987-02-01T00:00:00\", \"1987-03-01T00:00:00\", \"1987-04-01T00:00:00\", \"1987-05-01T00:00:00\", \"1987-06-01T00:00:00\", \"1987-07-01T00:00:00\", \"1987-08-01T00:00:00\", \"1987-09-01T00:00:00\", \"1987-10-01T00:00:00\", \"1987-11-01T00:00:00\", \"1987-12-01T00:00:00\", \"1988-01-01T00:00:00\", \"1988-02-01T00:00:00\", \"1988-03-01T00:00:00\", \"1988-04-01T00:00:00\", \"1988-05-01T00:00:00\", \"1988-06-01T00:00:00\", \"1988-07-01T00:00:00\", \"1988-08-01T00:00:00\", \"1988-09-01T00:00:00\", \"1988-10-01T00:00:00\", \"1988-11-01T00:00:00\", \"1988-12-01T00:00:00\", \"1989-01-01T00:00:00\", \"1989-02-01T00:00:00\", \"1989-03-01T00:00:00\", \"1989-04-01T00:00:00\", \"1989-05-01T00:00:00\", \"1989-06-01T00:00:00\", \"1989-07-01T00:00:00\", \"1989-08-01T00:00:00\", \"1989-09-01T00:00:00\", \"1989-10-01T00:00:00\", \"1989-11-01T00:00:00\", \"1989-12-01T00:00:00\", \"1990-01-01T00:00:00\", \"1990-02-01T00:00:00\", \"1990-03-01T00:00:00\", \"1990-04-01T00:00:00\", \"1990-05-01T00:00:00\", \"1990-06-01T00:00:00\", \"1990-07-01T00:00:00\", \"1990-08-01T00:00:00\", \"1990-09-01T00:00:00\", \"1990-10-01T00:00:00\", \"1990-11-01T00:00:00\", \"1990-12-01T00:00:00\", \"1991-01-01T00:00:00\", \"1991-02-01T00:00:00\", \"1991-03-01T00:00:00\", \"1991-04-01T00:00:00\", \"1991-05-01T00:00:00\", \"1991-06-01T00:00:00\", \"1991-07-01T00:00:00\", \"1991-08-01T00:00:00\", \"1991-09-01T00:00:00\", \"1991-10-01T00:00:00\", \"1991-11-01T00:00:00\", \"1991-12-01T00:00:00\", \"1992-01-01T00:00:00\", \"1992-02-01T00:00:00\", \"1992-03-01T00:00:00\", \"1992-04-01T00:00:00\", \"1992-05-01T00:00:00\", \"1992-06-01T00:00:00\", \"1992-07-01T00:00:00\", \"1992-08-01T00:00:00\", \"1992-09-01T00:00:00\", \"1992-10-01T00:00:00\", \"1992-11-01T00:00:00\", \"1992-12-01T00:00:00\", \"1993-01-01T00:00:00\", \"1993-02-01T00:00:00\", \"1993-03-01T00:00:00\", \"1993-04-01T00:00:00\", \"1993-05-01T00:00:00\", \"1993-06-01T00:00:00\", \"1993-07-01T00:00:00\", \"1993-08-01T00:00:00\", \"1993-09-01T00:00:00\", \"1993-10-01T00:00:00\", \"1993-11-01T00:00:00\", \"1993-12-01T00:00:00\", \"1994-01-01T00:00:00\", \"1994-02-01T00:00:00\", \"1994-03-01T00:00:00\", \"1994-04-01T00:00:00\", \"1994-05-01T00:00:00\", \"1994-06-01T00:00:00\", \"1994-07-01T00:00:00\", \"1994-08-01T00:00:00\", \"1994-09-01T00:00:00\", \"1994-10-01T00:00:00\", \"1994-11-01T00:00:00\", \"1994-12-01T00:00:00\", \"1995-01-01T00:00:00\", \"1995-02-01T00:00:00\", \"1995-03-01T00:00:00\", \"1995-04-01T00:00:00\", \"1995-05-01T00:00:00\", \"1995-06-01T00:00:00\", \"1995-07-01T00:00:00\", \"1995-08-01T00:00:00\", \"1995-09-01T00:00:00\", \"1995-10-01T00:00:00\", \"1995-11-01T00:00:00\", \"1995-12-01T00:00:00\", \"1996-01-01T00:00:00\", \"1996-02-01T00:00:00\", \"1996-03-01T00:00:00\", \"1996-04-01T00:00:00\", \"1996-05-01T00:00:00\", \"1996-06-01T00:00:00\", \"1996-07-01T00:00:00\", \"1996-08-01T00:00:00\", \"1996-09-01T00:00:00\", \"1996-10-01T00:00:00\", \"1996-11-01T00:00:00\", \"1996-12-01T00:00:00\", \"1997-01-01T00:00:00\", \"1997-02-01T00:00:00\", \"1997-03-01T00:00:00\", \"1997-04-01T00:00:00\", \"1997-05-01T00:00:00\", \"1997-06-01T00:00:00\", \"1997-07-01T00:00:00\", \"1997-08-01T00:00:00\", \"1997-09-01T00:00:00\", \"1997-10-01T00:00:00\", \"1997-11-01T00:00:00\", \"1997-12-01T00:00:00\", \"1998-01-01T00:00:00\", \"1998-02-01T00:00:00\", \"1998-03-01T00:00:00\", \"1998-04-01T00:00:00\", \"1998-05-01T00:00:00\", \"1998-06-01T00:00:00\", \"1998-07-01T00:00:00\", \"1998-08-01T00:00:00\", \"1998-09-01T00:00:00\", \"1998-10-01T00:00:00\", \"1998-11-01T00:00:00\", \"1998-12-01T00:00:00\", \"1999-01-01T00:00:00\", \"1999-02-01T00:00:00\", \"1999-03-01T00:00:00\", \"1999-04-01T00:00:00\", \"1999-05-01T00:00:00\", \"1999-06-01T00:00:00\", \"1999-07-01T00:00:00\", \"1999-08-01T00:00:00\", \"1999-09-01T00:00:00\", \"1999-10-01T00:00:00\", \"1999-11-01T00:00:00\", \"1999-12-01T00:00:00\", \"2000-01-01T00:00:00\", \"2000-02-01T00:00:00\", \"2000-03-01T00:00:00\", \"2000-04-01T00:00:00\", \"2000-05-01T00:00:00\", \"2000-06-01T00:00:00\", \"2000-07-01T00:00:00\", \"2000-08-01T00:00:00\", \"2000-09-01T00:00:00\", \"2000-10-01T00:00:00\", \"2000-11-01T00:00:00\", \"2000-12-01T00:00:00\", \"2001-01-01T00:00:00\", \"2001-02-01T00:00:00\", \"2001-03-01T00:00:00\", \"2001-04-01T00:00:00\", \"2001-05-01T00:00:00\", \"2001-06-01T00:00:00\", \"2001-07-01T00:00:00\", \"2001-08-01T00:00:00\", \"2001-09-01T00:00:00\", \"2001-10-01T00:00:00\", \"2001-11-01T00:00:00\", \"2001-12-01T00:00:00\", \"2002-01-01T00:00:00\", \"2002-02-01T00:00:00\", \"2002-03-01T00:00:00\", \"2002-04-01T00:00:00\", \"2002-05-01T00:00:00\", \"2002-06-01T00:00:00\", \"2002-07-01T00:00:00\", \"2002-08-01T00:00:00\", \"2002-09-01T00:00:00\", \"2002-10-01T00:00:00\", \"2002-11-01T00:00:00\", \"2002-12-01T00:00:00\", \"2003-01-01T00:00:00\", \"2003-02-01T00:00:00\", \"2003-03-01T00:00:00\", \"2003-04-01T00:00:00\", \"2003-05-01T00:00:00\", \"2003-06-01T00:00:00\", \"2003-07-01T00:00:00\", \"2003-08-01T00:00:00\", \"2003-09-01T00:00:00\", \"2003-10-01T00:00:00\", \"2003-11-01T00:00:00\", \"2003-12-01T00:00:00\", \"2004-01-01T00:00:00\", \"2004-02-01T00:00:00\", \"2004-03-01T00:00:00\", \"2004-04-01T00:00:00\", \"2004-05-01T00:00:00\", \"2004-06-01T00:00:00\", \"2004-07-01T00:00:00\", \"2004-08-01T00:00:00\", \"2004-09-01T00:00:00\", \"2004-10-01T00:00:00\", \"2004-11-01T00:00:00\", \"2004-12-01T00:00:00\", \"2005-01-01T00:00:00\", \"2005-02-01T00:00:00\", \"2005-03-01T00:00:00\", \"2005-04-01T00:00:00\", \"2005-05-01T00:00:00\", \"2005-06-01T00:00:00\", \"2005-07-01T00:00:00\", \"2005-08-01T00:00:00\", \"2005-09-01T00:00:00\", \"2005-10-01T00:00:00\", \"2005-11-01T00:00:00\", \"2005-12-01T00:00:00\", \"2006-01-01T00:00:00\", \"2006-02-01T00:00:00\", \"2006-03-01T00:00:00\", \"2006-04-01T00:00:00\", \"2006-05-01T00:00:00\", \"2006-06-01T00:00:00\", \"2006-07-01T00:00:00\", \"2006-08-01T00:00:00\", \"2006-09-01T00:00:00\", \"2006-10-01T00:00:00\", \"2006-11-01T00:00:00\", \"2006-12-01T00:00:00\", \"2007-01-01T00:00:00\", \"2007-02-01T00:00:00\", \"2007-03-01T00:00:00\", \"2007-04-01T00:00:00\", \"2007-05-01T00:00:00\", \"2007-06-01T00:00:00\", \"2007-07-01T00:00:00\", \"2007-08-01T00:00:00\", \"2007-09-01T00:00:00\", \"2007-10-01T00:00:00\", \"2007-11-01T00:00:00\", \"2007-12-01T00:00:00\", \"2008-01-01T00:00:00\", \"2008-02-01T00:00:00\", \"2008-03-01T00:00:00\", \"2008-04-01T00:00:00\", \"2008-05-01T00:00:00\", \"2008-06-01T00:00:00\", \"2008-07-01T00:00:00\", \"2008-08-01T00:00:00\", \"2008-09-01T00:00:00\", \"2008-10-01T00:00:00\", \"2008-11-01T00:00:00\", \"2008-12-01T00:00:00\", \"2009-01-01T00:00:00\", \"2009-02-01T00:00:00\", \"2009-03-01T00:00:00\", \"2009-04-01T00:00:00\", \"2009-05-01T00:00:00\", \"2009-06-01T00:00:00\", \"2009-07-01T00:00:00\", \"2009-08-01T00:00:00\", \"2009-09-01T00:00:00\", \"2009-10-01T00:00:00\", \"2009-11-01T00:00:00\", \"2009-12-01T00:00:00\", \"2010-01-01T00:00:00\", \"2010-02-01T00:00:00\", \"2010-03-01T00:00:00\", \"2010-04-01T00:00:00\", \"2010-05-01T00:00:00\", \"2010-06-01T00:00:00\", \"2010-07-01T00:00:00\", \"2010-08-01T00:00:00\", \"2010-09-01T00:00:00\", \"2010-10-01T00:00:00\", \"2010-11-01T00:00:00\", \"2010-12-01T00:00:00\", \"2011-01-01T00:00:00\", \"2011-02-01T00:00:00\", \"2011-03-01T00:00:00\", \"2011-04-01T00:00:00\", \"2011-05-01T00:00:00\", \"2011-06-01T00:00:00\", \"2011-07-01T00:00:00\", \"2011-08-01T00:00:00\", \"2011-09-01T00:00:00\", \"2011-10-01T00:00:00\", \"2011-11-01T00:00:00\", \"2011-12-01T00:00:00\", \"2012-01-01T00:00:00\", \"2012-02-01T00:00:00\", \"2012-03-01T00:00:00\", \"2012-04-01T00:00:00\", \"2012-05-01T00:00:00\", \"2012-06-01T00:00:00\", \"2012-07-01T00:00:00\", \"2012-08-01T00:00:00\", \"2012-09-01T00:00:00\", \"2012-10-01T00:00:00\", \"2012-11-01T00:00:00\", \"2012-12-01T00:00:00\", \"2013-01-01T00:00:00\", \"2013-02-01T00:00:00\", \"2013-03-01T00:00:00\", \"2013-04-01T00:00:00\", \"2013-05-01T00:00:00\", \"2013-06-01T00:00:00\", \"2013-07-01T00:00:00\", \"2013-08-01T00:00:00\", \"2013-09-01T00:00:00\", \"2013-10-01T00:00:00\", \"2013-11-01T00:00:00\", \"2013-12-01T00:00:00\", \"2014-01-01T00:00:00\", \"2014-02-01T00:00:00\", \"2014-03-01T00:00:00\", \"2014-04-01T00:00:00\", \"2014-05-01T00:00:00\", \"2014-06-01T00:00:00\", \"2014-07-01T00:00:00\", \"2014-08-01T00:00:00\", \"2014-09-01T00:00:00\", \"2014-10-01T00:00:00\", \"2014-11-01T00:00:00\", \"2014-12-01T00:00:00\", \"2015-01-01T00:00:00\", \"2015-02-01T00:00:00\", \"2015-03-01T00:00:00\", \"2015-04-01T00:00:00\", \"2015-05-01T00:00:00\", \"2015-06-01T00:00:00\", \"2015-07-01T00:00:00\", \"2015-08-01T00:00:00\", \"2015-09-01T00:00:00\", \"2015-10-01T00:00:00\", \"2015-11-01T00:00:00\", \"2015-12-01T00:00:00\", \"2016-01-01T00:00:00\", \"2016-02-01T00:00:00\", \"2016-03-01T00:00:00\", \"2016-04-01T00:00:00\", \"2016-05-01T00:00:00\", \"2016-06-01T00:00:00\", \"2016-07-01T00:00:00\", \"2016-08-01T00:00:00\", \"2016-09-01T00:00:00\", \"2016-10-01T00:00:00\", \"2016-11-01T00:00:00\", \"2016-12-01T00:00:00\", \"2017-01-01T00:00:00\", \"2017-02-01T00:00:00\", \"2017-03-01T00:00:00\", \"2017-04-01T00:00:00\", \"2017-05-01T00:00:00\", \"2017-06-01T00:00:00\", \"2017-07-01T00:00:00\", \"2017-08-01T00:00:00\", \"2017-09-01T00:00:00\", \"2017-10-01T00:00:00\", \"2017-11-01T00:00:00\", \"2017-12-01T00:00:00\", \"2018-01-01T00:00:00\", \"2018-02-01T00:00:00\", \"2018-03-01T00:00:00\", \"2018-04-01T00:00:00\", \"2018-05-01T00:00:00\", \"2018-06-01T00:00:00\", \"2018-07-01T00:00:00\", \"2018-08-01T00:00:00\", \"2018-09-01T00:00:00\", \"2018-10-01T00:00:00\", \"2018-11-01T00:00:00\", \"2018-12-01T00:00:00\"], \"y\": [1015.8522728395021, 1071.1401207022702, 1034.2555936815143, 1104.0929878532454, 1110.311644202746, 1095.8265224788224, 1145.60829219702, 1167.7862589569545, 1247.2945670996564, 1236.9934174207199, 1134.1835959355885, 1197.2676614501058, 1238.8089860894713, 1303.4339086769792, 1262.1818192357375, 1133.721161466344, 1180.1760663876355, 1264.1265321908045, 1299.2903422321804, 1420.3250961844337, 1449.1667236712967, 1485.1016000610039, 1492.6713907921894, 1598.5105755267657, 1583.6674562349406, 1558.5429225186201, 1599.562543147858, 1713.9337924435094, 1724.6833676725212, 1762.6665459840385, 1731.8474315058681, 1695.1948045132096, 1591.543056291582, 1513.8104171898863, 1603.051746669221, 1663.3474381674469, 1626.521279213292, 1591.329808652691, 1525.5689903752334, 1520.383797852842, 1590.9653487999133, 1530.666693733786, 1512.4176396542225, 1484.4687161124566, 1669.8076908377498, 1699.6022518888503, 1923.9060898210455, 2049.4511111319584, 2073.224997026841, 2153.590522013782, 2243.4832808399906, 2324.8537395926387, 2477.242585080058, 2523.5090621707604, 2614.772522654367, 2513.827876461506, 2503.9550148201033, 2562.019957188707, 2487.061860528149, 2594.4426559235617, 2570.057664980327, 2510.1254611906243, 2380.8631630149953, 2429.8164764688463, 2422.4449623815044, 2291.305623259547, 2374.514795537329, 2325.5171029650364, 2589.0085713110766, 2570.9753671301637, 2574.711569254758, 2541.42704930389, 2602.8580810871317, 2848.3915463371395, 2908.5890643445086, 2901.933606227557, 2870.3161805089817, 3038.074428347523, 3100.9794355051163, 3136.5072143205152, 3119.0627316334158, 2984.7172012196006, 3088.9080944077377, 3333.181520721555, 3485.3024174222046, 3548.1703430201937, 3842.4288432107055, 4072.6317349265796, 4059.489933712532, 4266.512321789204, 4319.599938092098, 4009.6815028640267, 4264.286931707204, 3925.715367881976, 4157.417555029116, 4209.934708438975, 4091.5101276751393, 4652.738331395073, 4927.440730249447, 5035.964321197895, 4944.517032603277, 4995.615460414209, 5232.130560344547, 5520.151873219286, 5725.690785252983, 5627.747792291126, 4234.714691705181, 3935.183357526305, 4271.265291282506, 4426.942514206695, 4705.931035535833, 4644.683918377535, 4681.025294608777, 4669.336499093709, 4956.262220233169, 4897.251861351769, 4762.1135737311515, 4964.38058726355, 5037.839754512987, 4932.622059251808, 5081.16149434109, 5409.351466954687, 5322.786150374899, 5448.0484618035425, 5724.190053556573, 5974.488681574883, 5913.533518506091, 6389.832013684596, 6554.587823483149, 6527.703741055002, 6269.4228466427385, 6349.630658009924, 6437.741284362553, 5949.294761930818, 6054.173690519493, 6266.184405173589, 6111.3359305492695, 6664.389111894855, 6661.782159683437, 6561.5223381802025, 5866.703681086744, 5463.289535075818, 5369.889586912428, 5785.736742000753, 6025.493278925896, 6464.379995122316, 6986.333792269253, 7219.929000551802, 7208.668347588768, 7575.236388587959, 7210.640559650838, 7519.421651611587, 7709.924947373152, 7573.43065623804, 7670.09662492677, 7339.7461823034055, 8204.112389210375, 8319.248680163004, 8504.879728872167, 8312.780486230211, 8416.051838063808, 8432.089092399674, 8218.298068895047, 8469.69561055919, 8233.190504970655, 8410.225767118325, 8540.459718055137, 8980.513377514277, 9133.879324440479, 9238.107324633658, 9187.422573636344, 9436.55071061281, 9112.9025254299, 9464.29112091722, 9451.068687811738, 9410.657403192767, 9723.959637672497, 9702.71491921262, 9985.089823804363, 9962.840014722775, 10235.910210955864, 10654.966818702042, 10420.99519850202, 9899.251796734265, 9972.24594806664, 10065.269175147638, 9787.288818942201, 10105.164389457943, 10629.031555042047, 10416.110967309154, 10575.682210083687, 10168.813081430486, 10365.466685889665, 10531.429010646316, 10971.009752756465, 11330.748877857353, 11612.157358693703, 11968.671381539674, 12367.728548327574, 12937.606448563636, 13012.278107115833, 13402.40514994773, 13234.939225816157, 13869.742526877928, 14045.92915504003, 14435.299223656457, 14709.711491626147, 15009.077865713278, 15416.499118628984, 15862.265940548883, 15743.211543288622, 14825.077285707956, 15300.090203209433, 16107.574963816462, 16193.892615534323, 17200.200154301998, 17099.882516343234, 17928.170649171632, 17946.62611895755, 17136.91624158203, 17817.201413678005, 19128.337823590427, 19911.59997877911, 21266.584357335032, 20534.576014000053, 21599.414571949572, 20636.207737420456, 21327.277917709478, 21683.00436791927, 21656.097597711967, 23332.269104132214, 24443.437862736428, 24843.157942587542, 24191.50953879965, 24721.844723143786, 23825.755177912557, 19981.495110588075, 20888.54257275897, 22625.872611164476, 23877.945153337205, 24955.65640929364, 25513.53059610958, 24828.598205251034, 25463.05633893395, 27491.373022547195, 27016.042999397512, 28124.84689753037, 27222.42941120122, 26636.4872411777, 25694.847058888066, 26829.858530334768, 27341.495802248093, 29068.484100739184, 28092.526897348267, 27533.88894342134, 29962.691765915475, 29819.266629016747, 29396.004957396013, 29817.872798890257, 29842.610060884857, 31671.091675691925, 30988.46259253327, 31157.2760340977, 29291.051902868763, 30684.76465421264, 31353.97759356857, 29453.12361532856, 27495.64484970049, 29586.451546005617, 30190.646586934046, 29727.451873551683, 29375.56505077187, 28221.269917275466, 25181.066864965716, 25962.642743277425, 28130.141608771333, 28839.269384444215, 28868.363117970282, 28835.92866293773, 30354.90361103542, 29445.684968756646, 29173.13917288406, 27305.3080993836, 25026.277200775145, 25025.841431135694, 22612.921302749677, 23922.411443911824, 25425.878035261267, 24179.671035313677, 23366.035976593375, 22903.740707803583, 22952.135413589363, 24817.648185026897, 26717.04010871652, 27176.890812872938, 27975.650781363303, 28900.087371344547, 28459.0015259826, 30501.1343852679, 31327.69066953517, 32824.625648729714, 33300.69213605513, 33773.67296669423, 33567.87871941717, 33186.92964594466, 33444.124665310206, 34489.2566178079, 32885.0611624138, 32818.124150821925, 33453.31365051525, 33911.6343570322, 35867.33099212198, 37162.9785453274, 36260.373499933674, 37091.79566725197, 36341.80818180138, 35048.19686354843, 36437.70607482962, 36369.90377217257, 38184.586273235465, 37764.763335347045, 37994.64265217493, 37217.57885302838, 38788.85046827682, 38870.19698548531, 40296.186403403146, 40570.779612595594, 41493.73118443535, 42034.76403129012, 40987.18174379231, 40941.424565914436, 40343.846537884536, 41393.99578525227, 42224.66810311353, 43913.26481206043, 44962.95420940953, 45476.31742819399, 46489.70202147431, 46069.93561989752, 46675.07175362894, 48566.25865126758, 50513.25970306473, 49952.803815637824, 48488.53246824874, 48991.027701710955, 50712.382110789236, 51568.02930972301, 49536.47531513113, 49117.55242590776, 46039.37928853789, 44736.62111452161, 44572.7096080608, 46246.07495009327, 47279.527769819746, 42711.323740383436, 42880.19894438645, 43757.67974092201, 39440.62938950362, 31664.703652207143, 28916.9393982249, 29648.282208423083, 27192.865315762778, 24203.23664100969, 26404.996929585064, 30520.948953890143, 31951.297036466447, 32077.37261875821, 35025.85197448552, 36311.55653204265, 38005.76087894872, 36722.79497956363, 38796.05906183842, 40407.09312585203, 39233.555692639784, 40683.40371929293, 43587.5013150724, 44950.01281879096, 41518.56619587193, 38925.10305884037, 41768.85987373907, 39597.11783950392, 43763.07765672153, 45713.7276348788, 46333.12974334511, 49475.91128538774, 50452.97724137129, 52243.04887389515, 52725.77464548995, 54310.33641778066, 53804.31252370997, 52989.67794182689, 51273.99452898959, 48189.91855307146, 43979.710916288255, 49319.63193409893, 49346.10378205286, 49503.27185501264, 52475.09090263925, 54537.286228752644, 56038.0982683218, 55575.378080226255, 52003.028064568454, 53585.556085382756, 53576.90171559665, 54976.907274092184, 56133.37312033204, 55655.91578762923, 56623.73782797128, 57615.57109968543, 61218.07390618246, 61901.414117004286, 64359.139628020384, 65114.15324952507, 67038.951213766, 65567.83188065806, 69092.32707462087, 67396.2822297117, 70431.50748939045, 73555.0007709056, 75697.24930434137, 77680.71746408292, 75148.49495952786, 78377.94777368689, 79261.31205325188, 79166.09487184402, 80914.38698042945, 82756.15291392647, 80879.93656449416, 84434.94193114716, 82576.54462215348, 84877.88809222351, 87465.27543984873, 87111.5326052798, 84279.76969740333, 89442.99489350674, 88305.88380559736, 88918.44566823238, 89930.07411362189, 88507.6481900908, 89141.42382657692, 83982.8072598103, 80983.90146623451, 87272.26874909224, 87375.25768590794, 85411.63468650694, 80590.83254904716, 82053.71440656984, 88176.36816144032, 89379.86650877079, 89926.4171871881, 90419.81867383429, 94048.32718142391, 94323.2804925023, 94552.43865711363, 92669.41718223569, 97216.72221982043, 98843.38619722088, 101535.65990290341, 105037.02858727006, 105370.07338851105, 106735.8494224751, 108245.25718621303, 109377.14121718289, 110985.8383590977, 110825.52434234874, 113578.04671404557, 115772.89661047659, 119792.40325185677, 121857.12769431605, 127992.25241728578, 122800.71563302811, 120890.44700105592, 120039.37449811502, 122934.11743741398, 124084.93883997393, 128287.24184511282, 131372.56726028307, 131790.14849408582, 123143.59552135161, 126492.46714070684, 114607.06128493443]}],\n                        {\"template\": {\"data\": {\"bar\": [{\"error_x\": {\"color\": \"#2a3f5f\"}, \"error_y\": {\"color\": \"#2a3f5f\"}, \"marker\": {\"line\": {\"color\": \"#E5ECF6\", \"width\": 0.5}}, \"type\": \"bar\"}], \"barpolar\": [{\"marker\": {\"line\": {\"color\": \"#E5ECF6\", \"width\": 0.5}}, \"type\": \"barpolar\"}], \"carpet\": [{\"aaxis\": {\"endlinecolor\": \"#2a3f5f\", \"gridcolor\": \"white\", \"linecolor\": \"white\", \"minorgridcolor\": \"white\", \"startlinecolor\": \"#2a3f5f\"}, \"baxis\": {\"endlinecolor\": \"#2a3f5f\", \"gridcolor\": \"white\", \"linecolor\": \"white\", \"minorgridcolor\": \"white\", \"startlinecolor\": \"#2a3f5f\"}, \"type\": \"carpet\"}], \"choropleth\": [{\"colorbar\": {\"outlinewidth\": 0, \"ticks\": \"\"}, \"type\": \"choropleth\"}], \"contour\": [{\"colorbar\": {\"outlinewidth\": 0, \"ticks\": \"\"}, \"colorscale\": [[0.0, \"#0d0887\"], [0.1111111111111111, \"#46039f\"], [0.2222222222222222, \"#7201a8\"], [0.3333333333333333, \"#9c179e\"], [0.4444444444444444, \"#bd3786\"], [0.5555555555555556, \"#d8576b\"], [0.6666666666666666, \"#ed7953\"], [0.7777777777777778, \"#fb9f3a\"], [0.8888888888888888, \"#fdca26\"], [1.0, \"#f0f921\"]], \"type\": \"contour\"}], \"contourcarpet\": [{\"colorbar\": {\"outlinewidth\": 0, \"ticks\": \"\"}, \"type\": \"contourcarpet\"}], \"heatmap\": [{\"colorbar\": {\"outlinewidth\": 0, \"ticks\": \"\"}, \"colorscale\": [[0.0, \"#0d0887\"], [0.1111111111111111, \"#46039f\"], [0.2222222222222222, \"#7201a8\"], [0.3333333333333333, \"#9c179e\"], [0.4444444444444444, \"#bd3786\"], [0.5555555555555556, \"#d8576b\"], [0.6666666666666666, \"#ed7953\"], [0.7777777777777778, \"#fb9f3a\"], [0.8888888888888888, \"#fdca26\"], [1.0, \"#f0f921\"]], \"type\": \"heatmap\"}], \"heatmapgl\": [{\"colorbar\": {\"outlinewidth\": 0, \"ticks\": \"\"}, \"colorscale\": [[0.0, \"#0d0887\"], [0.1111111111111111, \"#46039f\"], [0.2222222222222222, \"#7201a8\"], [0.3333333333333333, \"#9c179e\"], [0.4444444444444444, \"#bd3786\"], [0.5555555555555556, \"#d8576b\"], [0.6666666666666666, \"#ed7953\"], [0.7777777777777778, \"#fb9f3a\"], [0.8888888888888888, \"#fdca26\"], [1.0, \"#f0f921\"]], \"type\": \"heatmapgl\"}], \"histogram\": [{\"marker\": {\"colorbar\": {\"outlinewidth\": 0, \"ticks\": \"\"}}, \"type\": \"histogram\"}], \"histogram2d\": [{\"colorbar\": {\"outlinewidth\": 0, \"ticks\": \"\"}, \"colorscale\": [[0.0, \"#0d0887\"], [0.1111111111111111, \"#46039f\"], [0.2222222222222222, \"#7201a8\"], [0.3333333333333333, \"#9c179e\"], [0.4444444444444444, \"#bd3786\"], [0.5555555555555556, \"#d8576b\"], [0.6666666666666666, \"#ed7953\"], [0.7777777777777778, \"#fb9f3a\"], [0.8888888888888888, \"#fdca26\"], [1.0, \"#f0f921\"]], \"type\": \"histogram2d\"}], \"histogram2dcontour\": [{\"colorbar\": {\"outlinewidth\": 0, \"ticks\": \"\"}, \"colorscale\": [[0.0, \"#0d0887\"], [0.1111111111111111, \"#46039f\"], [0.2222222222222222, \"#7201a8\"], [0.3333333333333333, \"#9c179e\"], [0.4444444444444444, \"#bd3786\"], [0.5555555555555556, \"#d8576b\"], [0.6666666666666666, \"#ed7953\"], [0.7777777777777778, \"#fb9f3a\"], [0.8888888888888888, \"#fdca26\"], [1.0, \"#f0f921\"]], \"type\": \"histogram2dcontour\"}], \"mesh3d\": [{\"colorbar\": {\"outlinewidth\": 0, \"ticks\": \"\"}, \"type\": \"mesh3d\"}], \"parcoords\": [{\"line\": {\"colorbar\": {\"outlinewidth\": 0, \"ticks\": \"\"}}, \"type\": \"parcoords\"}], \"pie\": [{\"automargin\": true, \"type\": \"pie\"}], \"scatter\": [{\"marker\": {\"colorbar\": {\"outlinewidth\": 0, \"ticks\": \"\"}}, \"type\": \"scatter\"}], \"scatter3d\": [{\"line\": {\"colorbar\": {\"outlinewidth\": 0, \"ticks\": \"\"}}, \"marker\": {\"colorbar\": {\"outlinewidth\": 0, \"ticks\": \"\"}}, \"type\": \"scatter3d\"}], \"scattercarpet\": [{\"marker\": {\"colorbar\": {\"outlinewidth\": 0, \"ticks\": \"\"}}, \"type\": \"scattercarpet\"}], \"scattergeo\": [{\"marker\": {\"colorbar\": {\"outlinewidth\": 0, \"ticks\": \"\"}}, \"type\": \"scattergeo\"}], \"scattergl\": [{\"marker\": {\"colorbar\": {\"outlinewidth\": 0, \"ticks\": \"\"}}, \"type\": \"scattergl\"}], \"scattermapbox\": [{\"marker\": {\"colorbar\": {\"outlinewidth\": 0, \"ticks\": \"\"}}, \"type\": \"scattermapbox\"}], \"scatterpolar\": [{\"marker\": {\"colorbar\": {\"outlinewidth\": 0, \"ticks\": \"\"}}, \"type\": \"scatterpolar\"}], \"scatterpolargl\": [{\"marker\": {\"colorbar\": {\"outlinewidth\": 0, \"ticks\": \"\"}}, \"type\": \"scatterpolargl\"}], \"scatterternary\": [{\"marker\": {\"colorbar\": {\"outlinewidth\": 0, \"ticks\": \"\"}}, \"type\": \"scatterternary\"}], \"surface\": [{\"colorbar\": {\"outlinewidth\": 0, \"ticks\": \"\"}, \"colorscale\": [[0.0, \"#0d0887\"], [0.1111111111111111, \"#46039f\"], [0.2222222222222222, \"#7201a8\"], [0.3333333333333333, \"#9c179e\"], [0.4444444444444444, \"#bd3786\"], [0.5555555555555556, \"#d8576b\"], [0.6666666666666666, \"#ed7953\"], [0.7777777777777778, \"#fb9f3a\"], [0.8888888888888888, \"#fdca26\"], [1.0, \"#f0f921\"]], \"type\": \"surface\"}], \"table\": [{\"cells\": {\"fill\": {\"color\": \"#EBF0F8\"}, \"line\": {\"color\": \"white\"}}, \"header\": {\"fill\": {\"color\": \"#C8D4E3\"}, \"line\": {\"color\": \"white\"}}, \"type\": \"table\"}]}, \"layout\": {\"annotationdefaults\": {\"arrowcolor\": \"#2a3f5f\", \"arrowhead\": 0, \"arrowwidth\": 1}, \"coloraxis\": {\"colorbar\": {\"outlinewidth\": 0, \"ticks\": \"\"}}, \"colorscale\": {\"diverging\": [[0, \"#8e0152\"], [0.1, \"#c51b7d\"], [0.2, \"#de77ae\"], [0.3, \"#f1b6da\"], [0.4, \"#fde0ef\"], [0.5, \"#f7f7f7\"], [0.6, \"#e6f5d0\"], [0.7, \"#b8e186\"], [0.8, \"#7fbc41\"], [0.9, \"#4d9221\"], [1, \"#276419\"]], \"sequential\": [[0.0, \"#0d0887\"], [0.1111111111111111, \"#46039f\"], [0.2222222222222222, \"#7201a8\"], [0.3333333333333333, \"#9c179e\"], [0.4444444444444444, \"#bd3786\"], [0.5555555555555556, \"#d8576b\"], [0.6666666666666666, \"#ed7953\"], [0.7777777777777778, \"#fb9f3a\"], [0.8888888888888888, \"#fdca26\"], [1.0, \"#f0f921\"]], \"sequentialminus\": [[0.0, \"#0d0887\"], [0.1111111111111111, \"#46039f\"], [0.2222222222222222, \"#7201a8\"], [0.3333333333333333, \"#9c179e\"], [0.4444444444444444, \"#bd3786\"], [0.5555555555555556, \"#d8576b\"], [0.6666666666666666, \"#ed7953\"], [0.7777777777777778, \"#fb9f3a\"], [0.8888888888888888, \"#fdca26\"], [1.0, \"#f0f921\"]]}, \"colorway\": [\"#636efa\", \"#EF553B\", \"#00cc96\", \"#ab63fa\", \"#FFA15A\", \"#19d3f3\", \"#FF6692\", \"#B6E880\", \"#FF97FF\", \"#FECB52\"], \"font\": {\"color\": \"#2a3f5f\"}, \"geo\": {\"bgcolor\": \"white\", \"lakecolor\": \"white\", \"landcolor\": \"#E5ECF6\", \"showlakes\": true, \"showland\": true, \"subunitcolor\": \"white\"}, \"hoverlabel\": {\"align\": \"left\"}, \"hovermode\": \"closest\", \"mapbox\": {\"style\": \"light\"}, \"paper_bgcolor\": \"white\", \"plot_bgcolor\": \"#E5ECF6\", \"polar\": {\"angularaxis\": {\"gridcolor\": \"white\", \"linecolor\": \"white\", \"ticks\": \"\"}, \"bgcolor\": \"#E5ECF6\", \"radialaxis\": {\"gridcolor\": \"white\", \"linecolor\": \"white\", \"ticks\": \"\"}}, \"scene\": {\"xaxis\": {\"backgroundcolor\": \"#E5ECF6\", \"gridcolor\": \"white\", \"gridwidth\": 2, \"linecolor\": \"white\", \"showbackground\": true, \"ticks\": \"\", \"zerolinecolor\": \"white\"}, \"yaxis\": {\"backgroundcolor\": \"#E5ECF6\", \"gridcolor\": \"white\", \"gridwidth\": 2, \"linecolor\": \"white\", \"showbackground\": true, \"ticks\": \"\", \"zerolinecolor\": \"white\"}, \"zaxis\": {\"backgroundcolor\": \"#E5ECF6\", \"gridcolor\": \"white\", \"gridwidth\": 2, \"linecolor\": \"white\", \"showbackground\": true, \"ticks\": \"\", \"zerolinecolor\": \"white\"}}, \"shapedefaults\": {\"line\": {\"color\": \"#2a3f5f\"}}, \"ternary\": {\"aaxis\": {\"gridcolor\": \"white\", \"linecolor\": \"white\", \"ticks\": \"\"}, \"baxis\": {\"gridcolor\": \"white\", \"linecolor\": \"white\", \"ticks\": \"\"}, \"bgcolor\": \"#E5ECF6\", \"caxis\": {\"gridcolor\": \"white\", \"linecolor\": \"white\", \"ticks\": \"\"}}, \"title\": {\"x\": 0.05}, \"xaxis\": {\"automargin\": true, \"gridcolor\": \"white\", \"linecolor\": \"white\", \"ticks\": \"\", \"title\": {\"standoff\": 15}, \"zerolinecolor\": \"white\", \"zerolinewidth\": 2}, \"yaxis\": {\"automargin\": true, \"gridcolor\": \"white\", \"linecolor\": \"white\", \"ticks\": \"\", \"title\": {\"standoff\": 15}, \"zerolinecolor\": \"white\", \"zerolinewidth\": 2}}}},\n                        {\"responsive\": true}\n                    ).then(function(){\n                            \nvar gd = document.getElementById('9d00ef32-32d4-4942-92d5-2c7545f4ec2d');\nvar x = new MutationObserver(function (mutations, observer) {{\n        var display = window.getComputedStyle(gd).display;\n        if (!display || display === 'none') {{\n            console.log([gd, 'removed!']);\n            Plotly.purge(gd);\n            observer.disconnect();\n        }}\n}});\n\n// Listen for the removal of the full notebook cells\nvar notebookContainer = gd.closest('#notebook-container');\nif (notebookContainer) {{\n    x.observe(notebookContainer, {childList: true});\n}}\n\n// Listen for the clearing of the current output cell\nvar outputEl = gd.closest('.output');\nif (outputEl) {{\n    x.observe(outputEl, {childList: true});\n}}\n\n                        })\n                };\n                });\n            </script>\n        </div>"
     },
     "metadata": {},
     "output_type": "display_data"
    }
   ],
   "source": [
    "btr_wealth_index = pd.DataFrame({key+'_wealth_index': erk.drawdown(btr[key], retrive_index=True, is1p=False) for key in btr})\n",
    "data=[go.Scatter(x=btr_wealth_index.index.to_timestamp(),\n",
    "                 y=btr_wealth_index[str],\n",
    "                 name=str) for str in btr_wealth_index.columns]\n",
    "pyo.iplot(data)\n",
    "risk_info = erk.risk_info(btr)"
   ],
   "metadata": {
    "collapsed": false,
    "pycharm": {
     "name": "#%%\n"
    }
   }
  },
  {
   "cell_type": "code",
   "execution_count": 16,
   "outputs": [],
   "source": [
    "risk_info"
   ],
   "metadata": {
    "collapsed": false,
    "pycharm": {
     "name": "#%%\n"
    }
   }
  },
  {
   "cell_type": "markdown",
   "source": [
    "START QUIZ COURSE 2 WEEK 1\n"
   ],
   "metadata": {
    "collapsed": false,
    "pycharm": {
     "name": "#%% md\n"
    }
   }
  },
  {
   "cell_type": "code",
   "execution_count": 17,
   "outputs": [],
   "source": [
    "ind_vw_91 = erk.get_df('data/ind49_m_vw_rets.csv', to_per=True, start_period='1991')\n",
    "fff_91 = erk.get_df(filename='data/F-F_Research_Data_Factors_m.csv', start_period='1991', end_period=None,\n",
    "                 format='%Y%m', reqd_strategies=None, to_per=True)\n",
    "fff_91_capm = fff_91[['Mkt-RF', 'RF']]\n",
    "rr_capm_beer_1991 = erk.regress(ind_vw_91['Beer'], fff_91_capm, '1991', rfcol='RF')\n",
    "rr_capm_beer_2013 = erk.regress(ind_vw_91['Beer'], fff_91_capm, '2013', rfcol='RF')\n",
    "rr_capm_steel_1991 = erk.regress(ind_vw_91['Steel'], fff_91_capm, '1991', rfcol='RF')\n",
    "rr_capm_steel_2013 = erk.regress(ind_vw_91['Steel'], fff_91_capm, '2013', rfcol='RF')"
   ],
   "metadata": {
    "collapsed": false,
    "pycharm": {
     "name": "#%%\n"
    }
   }
  },
  {
   "cell_type": "code",
   "execution_count": 18,
   "outputs": [
    {
     "name": "stdout",
     "output_type": "stream",
     "text": [
      "                            OLS Regression Results                            \n",
      "==============================================================================\n",
      "Dep. Variable:                  Steel   R-squared:                       0.470\n",
      "Model:                            OLS   Adj. R-squared:                  0.463\n",
      "Method:                 Least Squares   F-statistic:                     62.18\n",
      "Date:                Tue, 19 May 2020   Prob (F-statistic):           2.97e-11\n",
      "Time:                        18:43:00   Log-Likelihood:                 116.15\n",
      "No. Observations:                  72   AIC:                            -228.3\n",
      "Df Residuals:                      70   BIC:                            -223.7\n",
      "Df Model:                           1                                         \n",
      "Covariance Type:            nonrobust                                         \n",
      "==============================================================================\n",
      "                 coef    std err          t      P>|t|      [0.025      0.975]\n",
      "------------------------------------------------------------------------------\n",
      "Mkt-RF         1.4169      0.180      7.885      0.000       1.059       1.775\n",
      "Alpha         -0.0098      0.006     -1.627      0.108      -0.022       0.002\n",
      "==============================================================================\n",
      "Omnibus:                        7.128   Durbin-Watson:                   2.188\n",
      "Prob(Omnibus):                  0.028   Jarque-Bera (JB):                6.420\n",
      "Skew:                           0.635   Prob(JB):                       0.0403\n",
      "Kurtosis:                       3.727   Cond. No.                         31.2\n",
      "==============================================================================\n",
      "\n",
      "Warnings:\n",
      "[1] Standard Errors assume that the covariance matrix of the errors is correctly specified.\n"
     ]
    }
   ],
   "source": [
    "print(rr_capm_steel_2013.summary())"
   ],
   "metadata": {
    "collapsed": false,
    "pycharm": {
     "name": "#%%\n"
    }
   }
  },
  {
   "cell_type": "code",
   "execution_count": 19,
   "outputs": [
    {
     "data": {
      "text/plain": "Oil      0.550604\nCoal     0.529958\nUtil     0.379527\nMines    0.274762\nGold    -0.553289\nName: Mkt-RF, dtype: float64"
     },
     "execution_count": 19,
     "metadata": {},
     "output_type": "execute_result"
    }
   ],
   "source": [
    "regress_results = erk.regress(ind_vw_91, fff_91_capm, '1991', '1993', rfcol='RF').params\n",
    "regress_results.columns = ind_vw_91.columns\n",
    "regress_results.loc['Mkt-RF'].sort_values(ascending=False).tail()"
   ],
   "metadata": {
    "collapsed": false,
    "pycharm": {
     "name": "#%%\n"
    }
   }
  },
  {
   "cell_type": "code",
   "execution_count": 20,
   "outputs": [
    {
     "data": {
      "text/plain": "Insur   -0.251649\nFood    -0.267873\nSmoke   -0.307794\nDrugs   -0.319486\nBeer    -0.358655\nName: SMB, dtype: float64"
     },
     "execution_count": 20,
     "metadata": {},
     "output_type": "execute_result"
    }
   ],
   "source": [
    "regress_results_ff = erk.regress(ind_vw_91, fff_91, '1991', rfcol='RF').params\n",
    "regress_results_ff.columns = ind_vw_91.columns\n",
    "regress_results_ff.loc['SMB'].sort_values(ascending=False).tail()"
   ],
   "metadata": {
    "collapsed": false,
    "pycharm": {
     "name": "#%%\n"
    }
   }
  },
  {
   "cell_type": "code",
   "execution_count": 21,
   "outputs": [
    {
     "data": {
      "text/plain": "Drugs   -0.228132\nLabEq   -0.261102\nChips   -0.600139\nHardw   -0.690417\nSoftw   -0.852422\nName: HML, dtype: float64"
     },
     "execution_count": 21,
     "metadata": {},
     "output_type": "execute_result"
    }
   ],
   "source": [
    "regress_results_ff = erk.regress(ind_vw_91, fff_91, '1991', rfcol='RF').params\n",
    "regress_results_ff.columns = ind_vw_91.columns\n",
    "regress_results_ff.loc['HML'].sort_values(ascending=False).tail()"
   ],
   "metadata": {
    "collapsed": false,
    "pycharm": {
     "name": "#%%\n"
    }
   }
  },
  {
   "cell_type": "markdown",
   "source": [
    "START WEEK 2\n",
    "\n",
    "\n"
   ],
   "metadata": {
    "collapsed": false,
    "pycharm": {
     "name": "#%% md\n"
    }
   }
  }
 ],
 "metadata": {
  "kernelspec": {
   "display_name": "Python 3",
   "language": "python",
   "name": "python3"
  },
  "language_info": {
   "codemirror_mode": {
    "name": "ipython",
    "version": 2
   },
   "file_extension": ".py",
   "mimetype": "text/x-python",
   "name": "python",
   "nbconvert_exporter": "python",
   "pygments_lexer": "ipython2",
   "version": "2.7.6"
  }
 },
 "nbformat": 4,
 "nbformat_minor": 0
}