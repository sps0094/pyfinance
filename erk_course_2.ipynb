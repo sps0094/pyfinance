{
 "cells": [
  {
   "cell_type": "code",
   "execution_count": 1,
   "metadata": {
    "collapsed": true
   },
   "outputs": [
    {
     "data": {
      "text/html": "        <script type=\"text/javascript\">\n        window.PlotlyConfig = {MathJaxConfig: 'local'};\n        if (window.MathJax) {MathJax.Hub.Config({SVG: {font: \"STIX-Web\"}});}\n        if (typeof require !== 'undefined') {\n        require.undef(\"plotly\");\n        requirejs.config({\n            paths: {\n                'plotly': ['https://cdn.plot.ly/plotly-latest.min']\n            }\n        });\n        require(['plotly'], function(Plotly) {\n            window._Plotly = Plotly;\n        });\n        }\n        </script>\n        "
     },
     "metadata": {},
     "output_type": "display_data"
    }
   ],
   "source": [
    "import edhec_risk_kit as erk\n",
    "import numpy as np\n",
    "import pandas as pd\n",
    "from pandas.tseries.offsets import MonthBegin\n",
    "import plotly.graph_objs as go\n",
    "import plotly.offline as pyo\n",
    "pyo.init_notebook_mode(connected=True)\n",
    "from dash_extensions.callback import CallbackGrouper\n",
    "from jupyter_dash import JupyterDash\n",
    "import dash\n",
    "import dash_core_components as dcc\n",
    "import dash_html_components as html\n",
    "import plotly.graph_objs as go\n",
    "from dash.dependencies import Input, Output, State\n",
    "import dash_table as dt\n",
    "%load_ext autoreload\n",
    "%autoreload 2\n",
    "\n"
   ]
  },
  {
   "cell_type": "markdown",
   "source": [
    "START LAB 201"
   ],
   "metadata": {
    "collapsed": false,
    "pycharm": {
     "name": "#%% md\n"
    }
   }
  },
  {
   "cell_type": "code",
   "execution_count": 3,
   "outputs": [
    {
     "name": "stdout",
     "output_type": "stream",
     "text": [
      "                            OLS Regression Results                            \n",
      "==============================================================================\n",
      "Dep. Variable:                   BRKA   R-squared:                       0.317\n",
      "Model:                            OLS   Adj. R-squared:                  0.311\n",
      "Method:                 Least Squares   F-statistic:                     53.29\n",
      "Date:                Fri, 22 May 2020   Prob (F-statistic):           2.59e-28\n",
      "Time:                        09:20:09   Log-Likelihood:                 567.01\n",
      "No. Observations:                 348   AIC:                            -1126.\n",
      "Df Residuals:                     344   BIC:                            -1111.\n",
      "Df Model:                           3                                         \n",
      "Covariance Type:            nonrobust                                         \n",
      "==============================================================================\n",
      "                 coef    std err          t      P>|t|      [0.025      0.975]\n",
      "------------------------------------------------------------------------------\n",
      "Mkt-RF         0.7096      0.063     11.350      0.000       0.587       0.833\n",
      "SMB           -0.4829      0.085     -5.696      0.000      -0.650      -0.316\n",
      "HML            0.4053      0.090      4.494      0.000       0.228       0.583\n",
      "Alpha          0.0052      0.003      1.991      0.047    6.18e-05       0.010\n",
      "==============================================================================\n",
      "Omnibus:                       64.922   Durbin-Watson:                   2.162\n",
      "Prob(Omnibus):                  0.000   Jarque-Bera (JB):              138.061\n",
      "Skew:                           0.962   Prob(JB):                     1.05e-30\n",
      "Kurtosis:                       5.413   Cond. No.                         38.1\n",
      "==============================================================================\n",
      "\n",
      "Warnings:\n",
      "[1] Standard Errors assume that the covariance matrix of the errors is correctly specified.\n",
      "                                 OLS Regression Results                                \n",
      "=======================================================================================\n",
      "Dep. Variable:                   BRKA   R-squared (uncentered):                   0.328\n",
      "Model:                            OLS   Adj. R-squared (uncentered):              0.323\n",
      "Method:                 Least Squares   F-statistic:                              56.23\n",
      "Date:                Fri, 22 May 2020   Prob (F-statistic):                    1.29e-29\n",
      "Time:                        09:20:09   Log-Likelihood:                          565.02\n",
      "No. Observations:                 348   AIC:                                     -1124.\n",
      "Df Residuals:                     345   BIC:                                     -1112.\n",
      "Df Model:                           3                                                  \n",
      "Covariance Type:            nonrobust                                                  \n",
      "==============================================================================\n",
      "                 coef    std err          t      P>|t|      [0.025      0.975]\n",
      "------------------------------------------------------------------------------\n",
      "Mkt-RF         0.7281      0.062     11.726      0.000       0.606       0.850\n",
      "SMB           -0.4786      0.085     -5.622      0.000      -0.646      -0.311\n",
      "HML            0.4208      0.090      4.664      0.000       0.243       0.598\n",
      "==============================================================================\n",
      "Omnibus:                       65.225   Durbin-Watson:                   2.143\n",
      "Prob(Omnibus):                  0.000   Jarque-Bera (JB):              139.287\n",
      "Skew:                           0.964   Prob(JB):                     5.68e-31\n",
      "Kurtosis:                       5.426   Cond. No.                         1.70\n",
      "==============================================================================\n",
      "\n",
      "Warnings:\n",
      "[1] Standard Errors assume that the covariance matrix of the errors is correctly specified.\n"
     ]
    }
   ],
   "source": [
    "brka_d = pd.read_csv('data/brka_d_ret.csv', parse_dates=True, index_col=0)\n",
    "brka_m = brka_d.resample('1M').apply(erk.cumulate)\n",
    "brka_m.index -= MonthBegin(1)\n",
    "fff = erk.get_df(filename='data/F-F_Research_Data_Factors_m.csv', start_period=None, end_period=None,\n",
    "                 format='%Y%m', reqd_strategies=None)\n",
    "rr_capm = erk.regress(brka_m, fff[['Mkt-RF', 'RF']], '1990', rfcol='RF')\n",
    "rr_ffm = erk.regress(brka_m, fff, '1990', rfcol='RF')\n",
    "rr_ffm_nint = erk.regress(brka_m, fff, '1990', rfcol='RF', intercept=False)\n",
    "print(rr_ffm.summary())\n",
    "print(rr_ffm_nint.summary())"
   ],
   "metadata": {
    "collapsed": false,
    "pycharm": {
     "name": "#%%\n"
    }
   }
  },
  {
   "cell_type": "markdown",
   "source": [
    "START LAB 202"
   ],
   "metadata": {
    "collapsed": false,
    "pycharm": {
     "name": "#%% md\n"
    }
   }
  },
  {
   "cell_type": "code",
   "execution_count": 4,
   "outputs": [],
   "source": [
    "ind = erk.get_df('data/ind30_m_vw_rets.csv', start_period='2000', format='%Y%m', mode='return', end_period=None, reqd_strategies=None)\n",
    "mgr_r = 0.3*ind[\"Beer\"] + .5*ind[\"Smoke\"] + 0.2*np.random.normal(scale=0.15/(12**.5), size=ind.shape[0])\n",
    "weights = erk.style_analyze(mgr_r, ind, start_period='2000')\n",
    "style_coeff = erk.regress(mgr_r, ind, intercept=False, excess_mkt=False).params\n"
   ],
   "metadata": {
    "collapsed": false,
    "pycharm": {
     "name": "#%%\n"
    }
   }
  },
  {
   "cell_type": "markdown",
   "source": [
    "PLOT FUNCTION"
   ],
   "metadata": {
    "collapsed": false,
    "pycharm": {
     "name": "#%% md\n"
    }
   }
  },
  {
   "cell_type": "code",
   "execution_count": 5,
   "outputs": [],
   "source": [
    "def plot_style(wts_coeff: pd.Series):\n",
    "    wts_coeff.sort_values(ascending=False, inplace=True)\n",
    "    wt_data = [go.Bar(x=wts_coeff.index, y=wts_coeff)]\n",
    "    pyo.iplot(wt_data)"
   ],
   "metadata": {
    "collapsed": false,
    "pycharm": {
     "name": "#%%\n"
    }
   }
  },
  {
   "cell_type": "markdown",
   "source": [
    "STYLE MATCHING PLOT USING QUADRATIC OPTIMIZER - MORE ACCURATE"
   ],
   "metadata": {
    "collapsed": false,
    "pycharm": {
     "name": "#%% md\n"
    }
   }
  },
  {
   "cell_type": "code",
   "execution_count": 6,
   "outputs": [
    {
     "data": {
      "application/vnd.plotly.v1+json": {
       "config": {
        "linkText": "Export to plot.ly",
        "plotlyServerURL": "https://plot.ly",
        "showLink": false
       },
       "data": [
        {
         "type": "bar",
         "x": [
          "Smoke",
          "Beer",
          "Food",
          "Hlth",
          "Hshld",
          "Meals",
          "Rtail",
          "Util",
          "Oil",
          "Servs",
          "Paper",
          "FabPr",
          "Txtls",
          "Other",
          "Carry",
          "Games",
          "Chems",
          "Cnstr",
          "ElcEq",
          "Coal",
          "Fin",
          "Mines",
          "Steel",
          "Telcm",
          "Clths",
          "BusEq",
          "Books",
          "Trans",
          "Whlsl",
          "Autos"
         ],
         "y": [
          0.4970676956241305,
          0.2870309812443729,
          0.08088978013187936,
          0.04563673511454079,
          0.03227114872173659,
          0.017546021165306305,
          0.014473992272638977,
          0.010733945716464488,
          0.009864978428519218,
          0.004484721580410743,
          1.4395494345176285E-16,
          1.1169742334231623E-16,
          6.989108092005611E-17,
          4.62683277108189E-17,
          4.3486596490705376E-17,
          3.9022187296972377E-17,
          3.75479772272416E-17,
          1.2253513845823804E-17,
          9.923525285587406E-18,
          9.174457806602437E-18,
          0.0,
          0.0,
          0.0,
          0.0,
          0.0,
          0.0,
          0.0,
          0.0,
          0.0,
          0.0
         ]
        }
       ],
       "layout": {
        "template": {
         "data": {
          "bar": [
           {
            "error_x": {
             "color": "#2a3f5f"
            },
            "error_y": {
             "color": "#2a3f5f"
            },
            "marker": {
             "line": {
              "color": "#E5ECF6",
              "width": 0.5
             }
            },
            "type": "bar"
           }
          ],
          "barpolar": [
           {
            "marker": {
             "line": {
              "color": "#E5ECF6",
              "width": 0.5
             }
            },
            "type": "barpolar"
           }
          ],
          "carpet": [
           {
            "aaxis": {
             "endlinecolor": "#2a3f5f",
             "gridcolor": "white",
             "linecolor": "white",
             "minorgridcolor": "white",
             "startlinecolor": "#2a3f5f"
            },
            "baxis": {
             "endlinecolor": "#2a3f5f",
             "gridcolor": "white",
             "linecolor": "white",
             "minorgridcolor": "white",
             "startlinecolor": "#2a3f5f"
            },
            "type": "carpet"
           }
          ],
          "choropleth": [
           {
            "colorbar": {
             "outlinewidth": 0,
             "ticks": ""
            },
            "type": "choropleth"
           }
          ],
          "contour": [
           {
            "colorbar": {
             "outlinewidth": 0,
             "ticks": ""
            },
            "colorscale": [
             [
              0.0,
              "#0d0887"
             ],
             [
              0.1111111111111111,
              "#46039f"
             ],
             [
              0.2222222222222222,
              "#7201a8"
             ],
             [
              0.3333333333333333,
              "#9c179e"
             ],
             [
              0.4444444444444444,
              "#bd3786"
             ],
             [
              0.5555555555555556,
              "#d8576b"
             ],
             [
              0.6666666666666666,
              "#ed7953"
             ],
             [
              0.7777777777777778,
              "#fb9f3a"
             ],
             [
              0.8888888888888888,
              "#fdca26"
             ],
             [
              1.0,
              "#f0f921"
             ]
            ],
            "type": "contour"
           }
          ],
          "contourcarpet": [
           {
            "colorbar": {
             "outlinewidth": 0,
             "ticks": ""
            },
            "type": "contourcarpet"
           }
          ],
          "heatmap": [
           {
            "colorbar": {
             "outlinewidth": 0,
             "ticks": ""
            },
            "colorscale": [
             [
              0.0,
              "#0d0887"
             ],
             [
              0.1111111111111111,
              "#46039f"
             ],
             [
              0.2222222222222222,
              "#7201a8"
             ],
             [
              0.3333333333333333,
              "#9c179e"
             ],
             [
              0.4444444444444444,
              "#bd3786"
             ],
             [
              0.5555555555555556,
              "#d8576b"
             ],
             [
              0.6666666666666666,
              "#ed7953"
             ],
             [
              0.7777777777777778,
              "#fb9f3a"
             ],
             [
              0.8888888888888888,
              "#fdca26"
             ],
             [
              1.0,
              "#f0f921"
             ]
            ],
            "type": "heatmap"
           }
          ],
          "heatmapgl": [
           {
            "colorbar": {
             "outlinewidth": 0,
             "ticks": ""
            },
            "colorscale": [
             [
              0.0,
              "#0d0887"
             ],
             [
              0.1111111111111111,
              "#46039f"
             ],
             [
              0.2222222222222222,
              "#7201a8"
             ],
             [
              0.3333333333333333,
              "#9c179e"
             ],
             [
              0.4444444444444444,
              "#bd3786"
             ],
             [
              0.5555555555555556,
              "#d8576b"
             ],
             [
              0.6666666666666666,
              "#ed7953"
             ],
             [
              0.7777777777777778,
              "#fb9f3a"
             ],
             [
              0.8888888888888888,
              "#fdca26"
             ],
             [
              1.0,
              "#f0f921"
             ]
            ],
            "type": "heatmapgl"
           }
          ],
          "histogram": [
           {
            "marker": {
             "colorbar": {
              "outlinewidth": 0,
              "ticks": ""
             }
            },
            "type": "histogram"
           }
          ],
          "histogram2d": [
           {
            "colorbar": {
             "outlinewidth": 0,
             "ticks": ""
            },
            "colorscale": [
             [
              0.0,
              "#0d0887"
             ],
             [
              0.1111111111111111,
              "#46039f"
             ],
             [
              0.2222222222222222,
              "#7201a8"
             ],
             [
              0.3333333333333333,
              "#9c179e"
             ],
             [
              0.4444444444444444,
              "#bd3786"
             ],
             [
              0.5555555555555556,
              "#d8576b"
             ],
             [
              0.6666666666666666,
              "#ed7953"
             ],
             [
              0.7777777777777778,
              "#fb9f3a"
             ],
             [
              0.8888888888888888,
              "#fdca26"
             ],
             [
              1.0,
              "#f0f921"
             ]
            ],
            "type": "histogram2d"
           }
          ],
          "histogram2dcontour": [
           {
            "colorbar": {
             "outlinewidth": 0,
             "ticks": ""
            },
            "colorscale": [
             [
              0.0,
              "#0d0887"
             ],
             [
              0.1111111111111111,
              "#46039f"
             ],
             [
              0.2222222222222222,
              "#7201a8"
             ],
             [
              0.3333333333333333,
              "#9c179e"
             ],
             [
              0.4444444444444444,
              "#bd3786"
             ],
             [
              0.5555555555555556,
              "#d8576b"
             ],
             [
              0.6666666666666666,
              "#ed7953"
             ],
             [
              0.7777777777777778,
              "#fb9f3a"
             ],
             [
              0.8888888888888888,
              "#fdca26"
             ],
             [
              1.0,
              "#f0f921"
             ]
            ],
            "type": "histogram2dcontour"
           }
          ],
          "mesh3d": [
           {
            "colorbar": {
             "outlinewidth": 0,
             "ticks": ""
            },
            "type": "mesh3d"
           }
          ],
          "parcoords": [
           {
            "line": {
             "colorbar": {
              "outlinewidth": 0,
              "ticks": ""
             }
            },
            "type": "parcoords"
           }
          ],
          "pie": [
           {
            "automargin": true,
            "type": "pie"
           }
          ],
          "scatter": [
           {
            "marker": {
             "colorbar": {
              "outlinewidth": 0,
              "ticks": ""
             }
            },
            "type": "scatter"
           }
          ],
          "scatter3d": [
           {
            "line": {
             "colorbar": {
              "outlinewidth": 0,
              "ticks": ""
             }
            },
            "marker": {
             "colorbar": {
              "outlinewidth": 0,
              "ticks": ""
             }
            },
            "type": "scatter3d"
           }
          ],
          "scattercarpet": [
           {
            "marker": {
             "colorbar": {
              "outlinewidth": 0,
              "ticks": ""
             }
            },
            "type": "scattercarpet"
           }
          ],
          "scattergeo": [
           {
            "marker": {
             "colorbar": {
              "outlinewidth": 0,
              "ticks": ""
             }
            },
            "type": "scattergeo"
           }
          ],
          "scattergl": [
           {
            "marker": {
             "colorbar": {
              "outlinewidth": 0,
              "ticks": ""
             }
            },
            "type": "scattergl"
           }
          ],
          "scattermapbox": [
           {
            "marker": {
             "colorbar": {
              "outlinewidth": 0,
              "ticks": ""
             }
            },
            "type": "scattermapbox"
           }
          ],
          "scatterpolar": [
           {
            "marker": {
             "colorbar": {
              "outlinewidth": 0,
              "ticks": ""
             }
            },
            "type": "scatterpolar"
           }
          ],
          "scatterpolargl": [
           {
            "marker": {
             "colorbar": {
              "outlinewidth": 0,
              "ticks": ""
             }
            },
            "type": "scatterpolargl"
           }
          ],
          "scatterternary": [
           {
            "marker": {
             "colorbar": {
              "outlinewidth": 0,
              "ticks": ""
             }
            },
            "type": "scatterternary"
           }
          ],
          "surface": [
           {
            "colorbar": {
             "outlinewidth": 0,
             "ticks": ""
            },
            "colorscale": [
             [
              0.0,
              "#0d0887"
             ],
             [
              0.1111111111111111,
              "#46039f"
             ],
             [
              0.2222222222222222,
              "#7201a8"
             ],
             [
              0.3333333333333333,
              "#9c179e"
             ],
             [
              0.4444444444444444,
              "#bd3786"
             ],
             [
              0.5555555555555556,
              "#d8576b"
             ],
             [
              0.6666666666666666,
              "#ed7953"
             ],
             [
              0.7777777777777778,
              "#fb9f3a"
             ],
             [
              0.8888888888888888,
              "#fdca26"
             ],
             [
              1.0,
              "#f0f921"
             ]
            ],
            "type": "surface"
           }
          ],
          "table": [
           {
            "cells": {
             "fill": {
              "color": "#EBF0F8"
             },
             "line": {
              "color": "white"
             }
            },
            "header": {
             "fill": {
              "color": "#C8D4E3"
             },
             "line": {
              "color": "white"
             }
            },
            "type": "table"
           }
          ]
         },
         "layout": {
          "annotationdefaults": {
           "arrowcolor": "#2a3f5f",
           "arrowhead": 0,
           "arrowwidth": 1
          },
          "coloraxis": {
           "colorbar": {
            "outlinewidth": 0,
            "ticks": ""
           }
          },
          "colorscale": {
           "diverging": [
            [
             0,
             "#8e0152"
            ],
            [
             0.1,
             "#c51b7d"
            ],
            [
             0.2,
             "#de77ae"
            ],
            [
             0.3,
             "#f1b6da"
            ],
            [
             0.4,
             "#fde0ef"
            ],
            [
             0.5,
             "#f7f7f7"
            ],
            [
             0.6,
             "#e6f5d0"
            ],
            [
             0.7,
             "#b8e186"
            ],
            [
             0.8,
             "#7fbc41"
            ],
            [
             0.9,
             "#4d9221"
            ],
            [
             1,
             "#276419"
            ]
           ],
           "sequential": [
            [
             0.0,
             "#0d0887"
            ],
            [
             0.1111111111111111,
             "#46039f"
            ],
            [
             0.2222222222222222,
             "#7201a8"
            ],
            [
             0.3333333333333333,
             "#9c179e"
            ],
            [
             0.4444444444444444,
             "#bd3786"
            ],
            [
             0.5555555555555556,
             "#d8576b"
            ],
            [
             0.6666666666666666,
             "#ed7953"
            ],
            [
             0.7777777777777778,
             "#fb9f3a"
            ],
            [
             0.8888888888888888,
             "#fdca26"
            ],
            [
             1.0,
             "#f0f921"
            ]
           ],
           "sequentialminus": [
            [
             0.0,
             "#0d0887"
            ],
            [
             0.1111111111111111,
             "#46039f"
            ],
            [
             0.2222222222222222,
             "#7201a8"
            ],
            [
             0.3333333333333333,
             "#9c179e"
            ],
            [
             0.4444444444444444,
             "#bd3786"
            ],
            [
             0.5555555555555556,
             "#d8576b"
            ],
            [
             0.6666666666666666,
             "#ed7953"
            ],
            [
             0.7777777777777778,
             "#fb9f3a"
            ],
            [
             0.8888888888888888,
             "#fdca26"
            ],
            [
             1.0,
             "#f0f921"
            ]
           ]
          },
          "colorway": [
           "#636efa",
           "#EF553B",
           "#00cc96",
           "#ab63fa",
           "#FFA15A",
           "#19d3f3",
           "#FF6692",
           "#B6E880",
           "#FF97FF",
           "#FECB52"
          ],
          "font": {
           "color": "#2a3f5f"
          },
          "geo": {
           "bgcolor": "white",
           "lakecolor": "white",
           "landcolor": "#E5ECF6",
           "showlakes": true,
           "showland": true,
           "subunitcolor": "white"
          },
          "hoverlabel": {
           "align": "left"
          },
          "hovermode": "closest",
          "mapbox": {
           "style": "light"
          },
          "paper_bgcolor": "white",
          "plot_bgcolor": "#E5ECF6",
          "polar": {
           "angularaxis": {
            "gridcolor": "white",
            "linecolor": "white",
            "ticks": ""
           },
           "bgcolor": "#E5ECF6",
           "radialaxis": {
            "gridcolor": "white",
            "linecolor": "white",
            "ticks": ""
           }
          },
          "scene": {
           "xaxis": {
            "backgroundcolor": "#E5ECF6",
            "gridcolor": "white",
            "gridwidth": 2,
            "linecolor": "white",
            "showbackground": true,
            "ticks": "",
            "zerolinecolor": "white"
           },
           "yaxis": {
            "backgroundcolor": "#E5ECF6",
            "gridcolor": "white",
            "gridwidth": 2,
            "linecolor": "white",
            "showbackground": true,
            "ticks": "",
            "zerolinecolor": "white"
           },
           "zaxis": {
            "backgroundcolor": "#E5ECF6",
            "gridcolor": "white",
            "gridwidth": 2,
            "linecolor": "white",
            "showbackground": true,
            "ticks": "",
            "zerolinecolor": "white"
           }
          },
          "shapedefaults": {
           "line": {
            "color": "#2a3f5f"
           }
          },
          "ternary": {
           "aaxis": {
            "gridcolor": "white",
            "linecolor": "white",
            "ticks": ""
           },
           "baxis": {
            "gridcolor": "white",
            "linecolor": "white",
            "ticks": ""
           },
           "bgcolor": "#E5ECF6",
           "caxis": {
            "gridcolor": "white",
            "linecolor": "white",
            "ticks": ""
           }
          },
          "title": {
           "x": 0.05
          },
          "xaxis": {
           "automargin": true,
           "gridcolor": "white",
           "linecolor": "white",
           "ticks": "",
           "title": {
            "standoff": 15
           },
           "zerolinecolor": "white",
           "zerolinewidth": 2
          },
          "yaxis": {
           "automargin": true,
           "gridcolor": "white",
           "linecolor": "white",
           "ticks": "",
           "title": {
            "standoff": 15
           },
           "zerolinecolor": "white",
           "zerolinewidth": 2
          }
         }
        }
       }
      },
      "text/html": "<div>\n        \n        \n            <div id=\"dff309b5-6e31-4172-8883-03d2bfcb4dd4\" class=\"plotly-graph-div\" style=\"height:525px; width:100%;\"></div>\n            <script type=\"text/javascript\">\n                require([\"plotly\"], function(Plotly) {\n                    window.PLOTLYENV=window.PLOTLYENV || {};\n                    \n                if (document.getElementById(\"dff309b5-6e31-4172-8883-03d2bfcb4dd4\")) {\n                    Plotly.newPlot(\n                        'dff309b5-6e31-4172-8883-03d2bfcb4dd4',\n                        [{\"type\": \"bar\", \"x\": [\"Smoke\", \"Beer\", \"Food\", \"Hlth\", \"Hshld\", \"Meals\", \"Rtail\", \"Util\", \"Oil\", \"Servs\", \"Paper\", \"FabPr\", \"Txtls\", \"Other\", \"Carry\", \"Games\", \"Chems\", \"Cnstr\", \"ElcEq\", \"Coal\", \"Fin\", \"Mines\", \"Steel\", \"Telcm\", \"Clths\", \"BusEq\", \"Books\", \"Trans\", \"Whlsl\", \"Autos\"], \"y\": [0.4970676956241305, 0.2870309812443729, 0.08088978013187936, 0.04563673511454079, 0.03227114872173659, 0.017546021165306305, 0.014473992272638977, 0.010733945716464488, 0.009864978428519218, 0.004484721580410743, 1.4395494345176285e-16, 1.1169742334231623e-16, 6.989108092005611e-17, 4.62683277108189e-17, 4.3486596490705376e-17, 3.9022187296972377e-17, 3.75479772272416e-17, 1.2253513845823804e-17, 9.923525285587406e-18, 9.174457806602437e-18, 0.0, 0.0, 0.0, 0.0, 0.0, 0.0, 0.0, 0.0, 0.0, 0.0]}],\n                        {\"template\": {\"data\": {\"bar\": [{\"error_x\": {\"color\": \"#2a3f5f\"}, \"error_y\": {\"color\": \"#2a3f5f\"}, \"marker\": {\"line\": {\"color\": \"#E5ECF6\", \"width\": 0.5}}, \"type\": \"bar\"}], \"barpolar\": [{\"marker\": {\"line\": {\"color\": \"#E5ECF6\", \"width\": 0.5}}, \"type\": \"barpolar\"}], \"carpet\": [{\"aaxis\": {\"endlinecolor\": \"#2a3f5f\", \"gridcolor\": \"white\", \"linecolor\": \"white\", \"minorgridcolor\": \"white\", \"startlinecolor\": \"#2a3f5f\"}, \"baxis\": {\"endlinecolor\": \"#2a3f5f\", \"gridcolor\": \"white\", \"linecolor\": \"white\", \"minorgridcolor\": \"white\", \"startlinecolor\": \"#2a3f5f\"}, \"type\": \"carpet\"}], \"choropleth\": [{\"colorbar\": {\"outlinewidth\": 0, \"ticks\": \"\"}, \"type\": \"choropleth\"}], \"contour\": [{\"colorbar\": {\"outlinewidth\": 0, \"ticks\": \"\"}, \"colorscale\": [[0.0, \"#0d0887\"], [0.1111111111111111, \"#46039f\"], [0.2222222222222222, \"#7201a8\"], [0.3333333333333333, \"#9c179e\"], [0.4444444444444444, \"#bd3786\"], [0.5555555555555556, \"#d8576b\"], [0.6666666666666666, \"#ed7953\"], [0.7777777777777778, \"#fb9f3a\"], [0.8888888888888888, \"#fdca26\"], [1.0, \"#f0f921\"]], \"type\": \"contour\"}], \"contourcarpet\": [{\"colorbar\": {\"outlinewidth\": 0, \"ticks\": \"\"}, \"type\": \"contourcarpet\"}], \"heatmap\": [{\"colorbar\": {\"outlinewidth\": 0, \"ticks\": \"\"}, \"colorscale\": [[0.0, \"#0d0887\"], [0.1111111111111111, \"#46039f\"], [0.2222222222222222, \"#7201a8\"], [0.3333333333333333, \"#9c179e\"], [0.4444444444444444, \"#bd3786\"], [0.5555555555555556, \"#d8576b\"], [0.6666666666666666, \"#ed7953\"], [0.7777777777777778, \"#fb9f3a\"], [0.8888888888888888, \"#fdca26\"], [1.0, \"#f0f921\"]], \"type\": \"heatmap\"}], \"heatmapgl\": [{\"colorbar\": {\"outlinewidth\": 0, \"ticks\": \"\"}, \"colorscale\": [[0.0, \"#0d0887\"], [0.1111111111111111, \"#46039f\"], [0.2222222222222222, \"#7201a8\"], [0.3333333333333333, \"#9c179e\"], [0.4444444444444444, \"#bd3786\"], [0.5555555555555556, \"#d8576b\"], [0.6666666666666666, \"#ed7953\"], [0.7777777777777778, \"#fb9f3a\"], [0.8888888888888888, \"#fdca26\"], [1.0, \"#f0f921\"]], \"type\": \"heatmapgl\"}], \"histogram\": [{\"marker\": {\"colorbar\": {\"outlinewidth\": 0, \"ticks\": \"\"}}, \"type\": \"histogram\"}], \"histogram2d\": [{\"colorbar\": {\"outlinewidth\": 0, \"ticks\": \"\"}, \"colorscale\": [[0.0, \"#0d0887\"], [0.1111111111111111, \"#46039f\"], [0.2222222222222222, \"#7201a8\"], [0.3333333333333333, \"#9c179e\"], [0.4444444444444444, \"#bd3786\"], [0.5555555555555556, \"#d8576b\"], [0.6666666666666666, \"#ed7953\"], [0.7777777777777778, \"#fb9f3a\"], [0.8888888888888888, \"#fdca26\"], [1.0, \"#f0f921\"]], \"type\": \"histogram2d\"}], \"histogram2dcontour\": [{\"colorbar\": {\"outlinewidth\": 0, \"ticks\": \"\"}, \"colorscale\": [[0.0, \"#0d0887\"], [0.1111111111111111, \"#46039f\"], [0.2222222222222222, \"#7201a8\"], [0.3333333333333333, \"#9c179e\"], [0.4444444444444444, \"#bd3786\"], [0.5555555555555556, \"#d8576b\"], [0.6666666666666666, \"#ed7953\"], [0.7777777777777778, \"#fb9f3a\"], [0.8888888888888888, \"#fdca26\"], [1.0, \"#f0f921\"]], \"type\": \"histogram2dcontour\"}], \"mesh3d\": [{\"colorbar\": {\"outlinewidth\": 0, \"ticks\": \"\"}, \"type\": \"mesh3d\"}], \"parcoords\": [{\"line\": {\"colorbar\": {\"outlinewidth\": 0, \"ticks\": \"\"}}, \"type\": \"parcoords\"}], \"pie\": [{\"automargin\": true, \"type\": \"pie\"}], \"scatter\": [{\"marker\": {\"colorbar\": {\"outlinewidth\": 0, \"ticks\": \"\"}}, \"type\": \"scatter\"}], \"scatter3d\": [{\"line\": {\"colorbar\": {\"outlinewidth\": 0, \"ticks\": \"\"}}, \"marker\": {\"colorbar\": {\"outlinewidth\": 0, \"ticks\": \"\"}}, \"type\": \"scatter3d\"}], \"scattercarpet\": [{\"marker\": {\"colorbar\": {\"outlinewidth\": 0, \"ticks\": \"\"}}, \"type\": \"scattercarpet\"}], \"scattergeo\": [{\"marker\": {\"colorbar\": {\"outlinewidth\": 0, \"ticks\": \"\"}}, \"type\": \"scattergeo\"}], \"scattergl\": [{\"marker\": {\"colorbar\": {\"outlinewidth\": 0, \"ticks\": \"\"}}, \"type\": \"scattergl\"}], \"scattermapbox\": [{\"marker\": {\"colorbar\": {\"outlinewidth\": 0, \"ticks\": \"\"}}, \"type\": \"scattermapbox\"}], \"scatterpolar\": [{\"marker\": {\"colorbar\": {\"outlinewidth\": 0, \"ticks\": \"\"}}, \"type\": \"scatterpolar\"}], \"scatterpolargl\": [{\"marker\": {\"colorbar\": {\"outlinewidth\": 0, \"ticks\": \"\"}}, \"type\": \"scatterpolargl\"}], \"scatterternary\": [{\"marker\": {\"colorbar\": {\"outlinewidth\": 0, \"ticks\": \"\"}}, \"type\": \"scatterternary\"}], \"surface\": [{\"colorbar\": {\"outlinewidth\": 0, \"ticks\": \"\"}, \"colorscale\": [[0.0, \"#0d0887\"], [0.1111111111111111, \"#46039f\"], [0.2222222222222222, \"#7201a8\"], [0.3333333333333333, \"#9c179e\"], [0.4444444444444444, \"#bd3786\"], [0.5555555555555556, \"#d8576b\"], [0.6666666666666666, \"#ed7953\"], [0.7777777777777778, \"#fb9f3a\"], [0.8888888888888888, \"#fdca26\"], [1.0, \"#f0f921\"]], \"type\": \"surface\"}], \"table\": [{\"cells\": {\"fill\": {\"color\": \"#EBF0F8\"}, \"line\": {\"color\": \"white\"}}, \"header\": {\"fill\": {\"color\": \"#C8D4E3\"}, \"line\": {\"color\": \"white\"}}, \"type\": \"table\"}]}, \"layout\": {\"annotationdefaults\": {\"arrowcolor\": \"#2a3f5f\", \"arrowhead\": 0, \"arrowwidth\": 1}, \"coloraxis\": {\"colorbar\": {\"outlinewidth\": 0, \"ticks\": \"\"}}, \"colorscale\": {\"diverging\": [[0, \"#8e0152\"], [0.1, \"#c51b7d\"], [0.2, \"#de77ae\"], [0.3, \"#f1b6da\"], [0.4, \"#fde0ef\"], [0.5, \"#f7f7f7\"], [0.6, \"#e6f5d0\"], [0.7, \"#b8e186\"], [0.8, \"#7fbc41\"], [0.9, \"#4d9221\"], [1, \"#276419\"]], \"sequential\": [[0.0, \"#0d0887\"], [0.1111111111111111, \"#46039f\"], [0.2222222222222222, \"#7201a8\"], [0.3333333333333333, \"#9c179e\"], [0.4444444444444444, \"#bd3786\"], [0.5555555555555556, \"#d8576b\"], [0.6666666666666666, \"#ed7953\"], [0.7777777777777778, \"#fb9f3a\"], [0.8888888888888888, \"#fdca26\"], [1.0, \"#f0f921\"]], \"sequentialminus\": [[0.0, \"#0d0887\"], [0.1111111111111111, \"#46039f\"], [0.2222222222222222, \"#7201a8\"], [0.3333333333333333, \"#9c179e\"], [0.4444444444444444, \"#bd3786\"], [0.5555555555555556, \"#d8576b\"], [0.6666666666666666, \"#ed7953\"], [0.7777777777777778, \"#fb9f3a\"], [0.8888888888888888, \"#fdca26\"], [1.0, \"#f0f921\"]]}, \"colorway\": [\"#636efa\", \"#EF553B\", \"#00cc96\", \"#ab63fa\", \"#FFA15A\", \"#19d3f3\", \"#FF6692\", \"#B6E880\", \"#FF97FF\", \"#FECB52\"], \"font\": {\"color\": \"#2a3f5f\"}, \"geo\": {\"bgcolor\": \"white\", \"lakecolor\": \"white\", \"landcolor\": \"#E5ECF6\", \"showlakes\": true, \"showland\": true, \"subunitcolor\": \"white\"}, \"hoverlabel\": {\"align\": \"left\"}, \"hovermode\": \"closest\", \"mapbox\": {\"style\": \"light\"}, \"paper_bgcolor\": \"white\", \"plot_bgcolor\": \"#E5ECF6\", \"polar\": {\"angularaxis\": {\"gridcolor\": \"white\", \"linecolor\": \"white\", \"ticks\": \"\"}, \"bgcolor\": \"#E5ECF6\", \"radialaxis\": {\"gridcolor\": \"white\", \"linecolor\": \"white\", \"ticks\": \"\"}}, \"scene\": {\"xaxis\": {\"backgroundcolor\": \"#E5ECF6\", \"gridcolor\": \"white\", \"gridwidth\": 2, \"linecolor\": \"white\", \"showbackground\": true, \"ticks\": \"\", \"zerolinecolor\": \"white\"}, \"yaxis\": {\"backgroundcolor\": \"#E5ECF6\", \"gridcolor\": \"white\", \"gridwidth\": 2, \"linecolor\": \"white\", \"showbackground\": true, \"ticks\": \"\", \"zerolinecolor\": \"white\"}, \"zaxis\": {\"backgroundcolor\": \"#E5ECF6\", \"gridcolor\": \"white\", \"gridwidth\": 2, \"linecolor\": \"white\", \"showbackground\": true, \"ticks\": \"\", \"zerolinecolor\": \"white\"}}, \"shapedefaults\": {\"line\": {\"color\": \"#2a3f5f\"}}, \"ternary\": {\"aaxis\": {\"gridcolor\": \"white\", \"linecolor\": \"white\", \"ticks\": \"\"}, \"baxis\": {\"gridcolor\": \"white\", \"linecolor\": \"white\", \"ticks\": \"\"}, \"bgcolor\": \"#E5ECF6\", \"caxis\": {\"gridcolor\": \"white\", \"linecolor\": \"white\", \"ticks\": \"\"}}, \"title\": {\"x\": 0.05}, \"xaxis\": {\"automargin\": true, \"gridcolor\": \"white\", \"linecolor\": \"white\", \"ticks\": \"\", \"title\": {\"standoff\": 15}, \"zerolinecolor\": \"white\", \"zerolinewidth\": 2}, \"yaxis\": {\"automargin\": true, \"gridcolor\": \"white\", \"linecolor\": \"white\", \"ticks\": \"\", \"title\": {\"standoff\": 15}, \"zerolinecolor\": \"white\", \"zerolinewidth\": 2}}}},\n                        {\"responsive\": true}\n                    ).then(function(){\n                            \nvar gd = document.getElementById('dff309b5-6e31-4172-8883-03d2bfcb4dd4');\nvar x = new MutationObserver(function (mutations, observer) {{\n        var display = window.getComputedStyle(gd).display;\n        if (!display || display === 'none') {{\n            console.log([gd, 'removed!']);\n            Plotly.purge(gd);\n            observer.disconnect();\n        }}\n}});\n\n// Listen for the removal of the full notebook cells\nvar notebookContainer = gd.closest('#notebook-container');\nif (notebookContainer) {{\n    x.observe(notebookContainer, {childList: true});\n}}\n\n// Listen for the clearing of the current output cell\nvar outputEl = gd.closest('.output');\nif (outputEl) {{\n    x.observe(outputEl, {childList: true});\n}}\n\n                        })\n                };\n                });\n            </script>\n        </div>"
     },
     "metadata": {},
     "output_type": "display_data"
    }
   ],
   "source": [
    "plot_style(weights)"
   ],
   "metadata": {
    "collapsed": false,
    "pycharm": {
     "name": "#%%\n"
    }
   }
  },
  {
   "cell_type": "markdown",
   "source": [
    "STYLE MATCHING PLOT USING REGRESSION COEFF"
   ],
   "metadata": {
    "collapsed": false,
    "pycharm": {
     "name": "#%% md\n"
    }
   }
  },
  {
   "cell_type": "code",
   "execution_count": 7,
   "outputs": [
    {
     "data": {
      "application/vnd.plotly.v1+json": {
       "config": {
        "linkText": "Export to plot.ly",
        "plotlyServerURL": "https://plot.ly",
        "showLink": false
       },
       "data": [
        {
         "type": "bar",
         "x": [
          "Smoke",
          "Beer",
          "Meals",
          "Hlth",
          "Food",
          "Oil",
          "Cnstr",
          "Books",
          "Autos",
          "BusEq",
          "Carry",
          "Games",
          "Mines",
          "Servs",
          "Coal",
          "Rtail",
          "Fin",
          "ElcEq",
          "Hshld",
          "Clths",
          "Paper",
          "Trans",
          "Chems",
          "Txtls",
          "Telcm",
          "Steel",
          "Other",
          "FabPr",
          "Whlsl",
          "Util"
         ],
         "y": [
          0.5083990880808443,
          0.2667876619664899,
          0.0437991175528347,
          0.03824574720469197,
          0.028963086622410504,
          0.02707460634433182,
          0.026203793919630652,
          0.02547036611964533,
          0.02416588040923373,
          0.02317136921856784,
          0.015811186441045438,
          0.01153865773717157,
          0.010046303705526838,
          0.008699908310121483,
          0.007641698583253155,
          0.007280080352007154,
          0.006328967202520151,
          0.0051475761559838795,
          0.004362810604738532,
          -0.0028996786589369668,
          -0.01548853854256102,
          -0.019229459547872113,
          -0.01938084213570406,
          -0.02222811409113048,
          -0.02439223486228259,
          -0.026112471312837865,
          -0.026722510609542408,
          -0.03335761807657048,
          -0.04008727138951918,
          -0.051721348681434125
         ]
        }
       ],
       "layout": {
        "template": {
         "data": {
          "bar": [
           {
            "error_x": {
             "color": "#2a3f5f"
            },
            "error_y": {
             "color": "#2a3f5f"
            },
            "marker": {
             "line": {
              "color": "#E5ECF6",
              "width": 0.5
             }
            },
            "type": "bar"
           }
          ],
          "barpolar": [
           {
            "marker": {
             "line": {
              "color": "#E5ECF6",
              "width": 0.5
             }
            },
            "type": "barpolar"
           }
          ],
          "carpet": [
           {
            "aaxis": {
             "endlinecolor": "#2a3f5f",
             "gridcolor": "white",
             "linecolor": "white",
             "minorgridcolor": "white",
             "startlinecolor": "#2a3f5f"
            },
            "baxis": {
             "endlinecolor": "#2a3f5f",
             "gridcolor": "white",
             "linecolor": "white",
             "minorgridcolor": "white",
             "startlinecolor": "#2a3f5f"
            },
            "type": "carpet"
           }
          ],
          "choropleth": [
           {
            "colorbar": {
             "outlinewidth": 0,
             "ticks": ""
            },
            "type": "choropleth"
           }
          ],
          "contour": [
           {
            "colorbar": {
             "outlinewidth": 0,
             "ticks": ""
            },
            "colorscale": [
             [
              0.0,
              "#0d0887"
             ],
             [
              0.1111111111111111,
              "#46039f"
             ],
             [
              0.2222222222222222,
              "#7201a8"
             ],
             [
              0.3333333333333333,
              "#9c179e"
             ],
             [
              0.4444444444444444,
              "#bd3786"
             ],
             [
              0.5555555555555556,
              "#d8576b"
             ],
             [
              0.6666666666666666,
              "#ed7953"
             ],
             [
              0.7777777777777778,
              "#fb9f3a"
             ],
             [
              0.8888888888888888,
              "#fdca26"
             ],
             [
              1.0,
              "#f0f921"
             ]
            ],
            "type": "contour"
           }
          ],
          "contourcarpet": [
           {
            "colorbar": {
             "outlinewidth": 0,
             "ticks": ""
            },
            "type": "contourcarpet"
           }
          ],
          "heatmap": [
           {
            "colorbar": {
             "outlinewidth": 0,
             "ticks": ""
            },
            "colorscale": [
             [
              0.0,
              "#0d0887"
             ],
             [
              0.1111111111111111,
              "#46039f"
             ],
             [
              0.2222222222222222,
              "#7201a8"
             ],
             [
              0.3333333333333333,
              "#9c179e"
             ],
             [
              0.4444444444444444,
              "#bd3786"
             ],
             [
              0.5555555555555556,
              "#d8576b"
             ],
             [
              0.6666666666666666,
              "#ed7953"
             ],
             [
              0.7777777777777778,
              "#fb9f3a"
             ],
             [
              0.8888888888888888,
              "#fdca26"
             ],
             [
              1.0,
              "#f0f921"
             ]
            ],
            "type": "heatmap"
           }
          ],
          "heatmapgl": [
           {
            "colorbar": {
             "outlinewidth": 0,
             "ticks": ""
            },
            "colorscale": [
             [
              0.0,
              "#0d0887"
             ],
             [
              0.1111111111111111,
              "#46039f"
             ],
             [
              0.2222222222222222,
              "#7201a8"
             ],
             [
              0.3333333333333333,
              "#9c179e"
             ],
             [
              0.4444444444444444,
              "#bd3786"
             ],
             [
              0.5555555555555556,
              "#d8576b"
             ],
             [
              0.6666666666666666,
              "#ed7953"
             ],
             [
              0.7777777777777778,
              "#fb9f3a"
             ],
             [
              0.8888888888888888,
              "#fdca26"
             ],
             [
              1.0,
              "#f0f921"
             ]
            ],
            "type": "heatmapgl"
           }
          ],
          "histogram": [
           {
            "marker": {
             "colorbar": {
              "outlinewidth": 0,
              "ticks": ""
             }
            },
            "type": "histogram"
           }
          ],
          "histogram2d": [
           {
            "colorbar": {
             "outlinewidth": 0,
             "ticks": ""
            },
            "colorscale": [
             [
              0.0,
              "#0d0887"
             ],
             [
              0.1111111111111111,
              "#46039f"
             ],
             [
              0.2222222222222222,
              "#7201a8"
             ],
             [
              0.3333333333333333,
              "#9c179e"
             ],
             [
              0.4444444444444444,
              "#bd3786"
             ],
             [
              0.5555555555555556,
              "#d8576b"
             ],
             [
              0.6666666666666666,
              "#ed7953"
             ],
             [
              0.7777777777777778,
              "#fb9f3a"
             ],
             [
              0.8888888888888888,
              "#fdca26"
             ],
             [
              1.0,
              "#f0f921"
             ]
            ],
            "type": "histogram2d"
           }
          ],
          "histogram2dcontour": [
           {
            "colorbar": {
             "outlinewidth": 0,
             "ticks": ""
            },
            "colorscale": [
             [
              0.0,
              "#0d0887"
             ],
             [
              0.1111111111111111,
              "#46039f"
             ],
             [
              0.2222222222222222,
              "#7201a8"
             ],
             [
              0.3333333333333333,
              "#9c179e"
             ],
             [
              0.4444444444444444,
              "#bd3786"
             ],
             [
              0.5555555555555556,
              "#d8576b"
             ],
             [
              0.6666666666666666,
              "#ed7953"
             ],
             [
              0.7777777777777778,
              "#fb9f3a"
             ],
             [
              0.8888888888888888,
              "#fdca26"
             ],
             [
              1.0,
              "#f0f921"
             ]
            ],
            "type": "histogram2dcontour"
           }
          ],
          "mesh3d": [
           {
            "colorbar": {
             "outlinewidth": 0,
             "ticks": ""
            },
            "type": "mesh3d"
           }
          ],
          "parcoords": [
           {
            "line": {
             "colorbar": {
              "outlinewidth": 0,
              "ticks": ""
             }
            },
            "type": "parcoords"
           }
          ],
          "pie": [
           {
            "automargin": true,
            "type": "pie"
           }
          ],
          "scatter": [
           {
            "marker": {
             "colorbar": {
              "outlinewidth": 0,
              "ticks": ""
             }
            },
            "type": "scatter"
           }
          ],
          "scatter3d": [
           {
            "line": {
             "colorbar": {
              "outlinewidth": 0,
              "ticks": ""
             }
            },
            "marker": {
             "colorbar": {
              "outlinewidth": 0,
              "ticks": ""
             }
            },
            "type": "scatter3d"
           }
          ],
          "scattercarpet": [
           {
            "marker": {
             "colorbar": {
              "outlinewidth": 0,
              "ticks": ""
             }
            },
            "type": "scattercarpet"
           }
          ],
          "scattergeo": [
           {
            "marker": {
             "colorbar": {
              "outlinewidth": 0,
              "ticks": ""
             }
            },
            "type": "scattergeo"
           }
          ],
          "scattergl": [
           {
            "marker": {
             "colorbar": {
              "outlinewidth": 0,
              "ticks": ""
             }
            },
            "type": "scattergl"
           }
          ],
          "scattermapbox": [
           {
            "marker": {
             "colorbar": {
              "outlinewidth": 0,
              "ticks": ""
             }
            },
            "type": "scattermapbox"
           }
          ],
          "scatterpolar": [
           {
            "marker": {
             "colorbar": {
              "outlinewidth": 0,
              "ticks": ""
             }
            },
            "type": "scatterpolar"
           }
          ],
          "scatterpolargl": [
           {
            "marker": {
             "colorbar": {
              "outlinewidth": 0,
              "ticks": ""
             }
            },
            "type": "scatterpolargl"
           }
          ],
          "scatterternary": [
           {
            "marker": {
             "colorbar": {
              "outlinewidth": 0,
              "ticks": ""
             }
            },
            "type": "scatterternary"
           }
          ],
          "surface": [
           {
            "colorbar": {
             "outlinewidth": 0,
             "ticks": ""
            },
            "colorscale": [
             [
              0.0,
              "#0d0887"
             ],
             [
              0.1111111111111111,
              "#46039f"
             ],
             [
              0.2222222222222222,
              "#7201a8"
             ],
             [
              0.3333333333333333,
              "#9c179e"
             ],
             [
              0.4444444444444444,
              "#bd3786"
             ],
             [
              0.5555555555555556,
              "#d8576b"
             ],
             [
              0.6666666666666666,
              "#ed7953"
             ],
             [
              0.7777777777777778,
              "#fb9f3a"
             ],
             [
              0.8888888888888888,
              "#fdca26"
             ],
             [
              1.0,
              "#f0f921"
             ]
            ],
            "type": "surface"
           }
          ],
          "table": [
           {
            "cells": {
             "fill": {
              "color": "#EBF0F8"
             },
             "line": {
              "color": "white"
             }
            },
            "header": {
             "fill": {
              "color": "#C8D4E3"
             },
             "line": {
              "color": "white"
             }
            },
            "type": "table"
           }
          ]
         },
         "layout": {
          "annotationdefaults": {
           "arrowcolor": "#2a3f5f",
           "arrowhead": 0,
           "arrowwidth": 1
          },
          "coloraxis": {
           "colorbar": {
            "outlinewidth": 0,
            "ticks": ""
           }
          },
          "colorscale": {
           "diverging": [
            [
             0,
             "#8e0152"
            ],
            [
             0.1,
             "#c51b7d"
            ],
            [
             0.2,
             "#de77ae"
            ],
            [
             0.3,
             "#f1b6da"
            ],
            [
             0.4,
             "#fde0ef"
            ],
            [
             0.5,
             "#f7f7f7"
            ],
            [
             0.6,
             "#e6f5d0"
            ],
            [
             0.7,
             "#b8e186"
            ],
            [
             0.8,
             "#7fbc41"
            ],
            [
             0.9,
             "#4d9221"
            ],
            [
             1,
             "#276419"
            ]
           ],
           "sequential": [
            [
             0.0,
             "#0d0887"
            ],
            [
             0.1111111111111111,
             "#46039f"
            ],
            [
             0.2222222222222222,
             "#7201a8"
            ],
            [
             0.3333333333333333,
             "#9c179e"
            ],
            [
             0.4444444444444444,
             "#bd3786"
            ],
            [
             0.5555555555555556,
             "#d8576b"
            ],
            [
             0.6666666666666666,
             "#ed7953"
            ],
            [
             0.7777777777777778,
             "#fb9f3a"
            ],
            [
             0.8888888888888888,
             "#fdca26"
            ],
            [
             1.0,
             "#f0f921"
            ]
           ],
           "sequentialminus": [
            [
             0.0,
             "#0d0887"
            ],
            [
             0.1111111111111111,
             "#46039f"
            ],
            [
             0.2222222222222222,
             "#7201a8"
            ],
            [
             0.3333333333333333,
             "#9c179e"
            ],
            [
             0.4444444444444444,
             "#bd3786"
            ],
            [
             0.5555555555555556,
             "#d8576b"
            ],
            [
             0.6666666666666666,
             "#ed7953"
            ],
            [
             0.7777777777777778,
             "#fb9f3a"
            ],
            [
             0.8888888888888888,
             "#fdca26"
            ],
            [
             1.0,
             "#f0f921"
            ]
           ]
          },
          "colorway": [
           "#636efa",
           "#EF553B",
           "#00cc96",
           "#ab63fa",
           "#FFA15A",
           "#19d3f3",
           "#FF6692",
           "#B6E880",
           "#FF97FF",
           "#FECB52"
          ],
          "font": {
           "color": "#2a3f5f"
          },
          "geo": {
           "bgcolor": "white",
           "lakecolor": "white",
           "landcolor": "#E5ECF6",
           "showlakes": true,
           "showland": true,
           "subunitcolor": "white"
          },
          "hoverlabel": {
           "align": "left"
          },
          "hovermode": "closest",
          "mapbox": {
           "style": "light"
          },
          "paper_bgcolor": "white",
          "plot_bgcolor": "#E5ECF6",
          "polar": {
           "angularaxis": {
            "gridcolor": "white",
            "linecolor": "white",
            "ticks": ""
           },
           "bgcolor": "#E5ECF6",
           "radialaxis": {
            "gridcolor": "white",
            "linecolor": "white",
            "ticks": ""
           }
          },
          "scene": {
           "xaxis": {
            "backgroundcolor": "#E5ECF6",
            "gridcolor": "white",
            "gridwidth": 2,
            "linecolor": "white",
            "showbackground": true,
            "ticks": "",
            "zerolinecolor": "white"
           },
           "yaxis": {
            "backgroundcolor": "#E5ECF6",
            "gridcolor": "white",
            "gridwidth": 2,
            "linecolor": "white",
            "showbackground": true,
            "ticks": "",
            "zerolinecolor": "white"
           },
           "zaxis": {
            "backgroundcolor": "#E5ECF6",
            "gridcolor": "white",
            "gridwidth": 2,
            "linecolor": "white",
            "showbackground": true,
            "ticks": "",
            "zerolinecolor": "white"
           }
          },
          "shapedefaults": {
           "line": {
            "color": "#2a3f5f"
           }
          },
          "ternary": {
           "aaxis": {
            "gridcolor": "white",
            "linecolor": "white",
            "ticks": ""
           },
           "baxis": {
            "gridcolor": "white",
            "linecolor": "white",
            "ticks": ""
           },
           "bgcolor": "#E5ECF6",
           "caxis": {
            "gridcolor": "white",
            "linecolor": "white",
            "ticks": ""
           }
          },
          "title": {
           "x": 0.05
          },
          "xaxis": {
           "automargin": true,
           "gridcolor": "white",
           "linecolor": "white",
           "ticks": "",
           "title": {
            "standoff": 15
           },
           "zerolinecolor": "white",
           "zerolinewidth": 2
          },
          "yaxis": {
           "automargin": true,
           "gridcolor": "white",
           "linecolor": "white",
           "ticks": "",
           "title": {
            "standoff": 15
           },
           "zerolinecolor": "white",
           "zerolinewidth": 2
          }
         }
        }
       }
      },
      "text/html": "<div>\n        \n        \n            <div id=\"e2685fe7-66b6-413b-8746-da4495920890\" class=\"plotly-graph-div\" style=\"height:525px; width:100%;\"></div>\n            <script type=\"text/javascript\">\n                require([\"plotly\"], function(Plotly) {\n                    window.PLOTLYENV=window.PLOTLYENV || {};\n                    \n                if (document.getElementById(\"e2685fe7-66b6-413b-8746-da4495920890\")) {\n                    Plotly.newPlot(\n                        'e2685fe7-66b6-413b-8746-da4495920890',\n                        [{\"type\": \"bar\", \"x\": [\"Smoke\", \"Beer\", \"Meals\", \"Hlth\", \"Food\", \"Oil\", \"Cnstr\", \"Books\", \"Autos\", \"BusEq\", \"Carry\", \"Games\", \"Mines\", \"Servs\", \"Coal\", \"Rtail\", \"Fin\", \"ElcEq\", \"Hshld\", \"Clths\", \"Paper\", \"Trans\", \"Chems\", \"Txtls\", \"Telcm\", \"Steel\", \"Other\", \"FabPr\", \"Whlsl\", \"Util\"], \"y\": [0.5083990880808443, 0.2667876619664899, 0.0437991175528347, 0.03824574720469197, 0.028963086622410504, 0.02707460634433182, 0.026203793919630652, 0.02547036611964533, 0.02416588040923373, 0.02317136921856784, 0.015811186441045438, 0.01153865773717157, 0.010046303705526838, 0.008699908310121483, 0.007641698583253155, 0.007280080352007154, 0.006328967202520151, 0.0051475761559838795, 0.004362810604738532, -0.0028996786589369668, -0.01548853854256102, -0.019229459547872113, -0.01938084213570406, -0.02222811409113048, -0.02439223486228259, -0.026112471312837865, -0.026722510609542408, -0.03335761807657048, -0.04008727138951918, -0.051721348681434125]}],\n                        {\"template\": {\"data\": {\"bar\": [{\"error_x\": {\"color\": \"#2a3f5f\"}, \"error_y\": {\"color\": \"#2a3f5f\"}, \"marker\": {\"line\": {\"color\": \"#E5ECF6\", \"width\": 0.5}}, \"type\": \"bar\"}], \"barpolar\": [{\"marker\": {\"line\": {\"color\": \"#E5ECF6\", \"width\": 0.5}}, \"type\": \"barpolar\"}], \"carpet\": [{\"aaxis\": {\"endlinecolor\": \"#2a3f5f\", \"gridcolor\": \"white\", \"linecolor\": \"white\", \"minorgridcolor\": \"white\", \"startlinecolor\": \"#2a3f5f\"}, \"baxis\": {\"endlinecolor\": \"#2a3f5f\", \"gridcolor\": \"white\", \"linecolor\": \"white\", \"minorgridcolor\": \"white\", \"startlinecolor\": \"#2a3f5f\"}, \"type\": \"carpet\"}], \"choropleth\": [{\"colorbar\": {\"outlinewidth\": 0, \"ticks\": \"\"}, \"type\": \"choropleth\"}], \"contour\": [{\"colorbar\": {\"outlinewidth\": 0, \"ticks\": \"\"}, \"colorscale\": [[0.0, \"#0d0887\"], [0.1111111111111111, \"#46039f\"], [0.2222222222222222, \"#7201a8\"], [0.3333333333333333, \"#9c179e\"], [0.4444444444444444, \"#bd3786\"], [0.5555555555555556, \"#d8576b\"], [0.6666666666666666, \"#ed7953\"], [0.7777777777777778, \"#fb9f3a\"], [0.8888888888888888, \"#fdca26\"], [1.0, \"#f0f921\"]], \"type\": \"contour\"}], \"contourcarpet\": [{\"colorbar\": {\"outlinewidth\": 0, \"ticks\": \"\"}, \"type\": \"contourcarpet\"}], \"heatmap\": [{\"colorbar\": {\"outlinewidth\": 0, \"ticks\": \"\"}, \"colorscale\": [[0.0, \"#0d0887\"], [0.1111111111111111, \"#46039f\"], [0.2222222222222222, \"#7201a8\"], [0.3333333333333333, \"#9c179e\"], [0.4444444444444444, \"#bd3786\"], [0.5555555555555556, \"#d8576b\"], [0.6666666666666666, \"#ed7953\"], [0.7777777777777778, \"#fb9f3a\"], [0.8888888888888888, \"#fdca26\"], [1.0, \"#f0f921\"]], \"type\": \"heatmap\"}], \"heatmapgl\": [{\"colorbar\": {\"outlinewidth\": 0, \"ticks\": \"\"}, \"colorscale\": [[0.0, \"#0d0887\"], [0.1111111111111111, \"#46039f\"], [0.2222222222222222, \"#7201a8\"], [0.3333333333333333, \"#9c179e\"], [0.4444444444444444, \"#bd3786\"], [0.5555555555555556, \"#d8576b\"], [0.6666666666666666, \"#ed7953\"], [0.7777777777777778, \"#fb9f3a\"], [0.8888888888888888, \"#fdca26\"], [1.0, \"#f0f921\"]], \"type\": \"heatmapgl\"}], \"histogram\": [{\"marker\": {\"colorbar\": {\"outlinewidth\": 0, \"ticks\": \"\"}}, \"type\": \"histogram\"}], \"histogram2d\": [{\"colorbar\": {\"outlinewidth\": 0, \"ticks\": \"\"}, \"colorscale\": [[0.0, \"#0d0887\"], [0.1111111111111111, \"#46039f\"], [0.2222222222222222, \"#7201a8\"], [0.3333333333333333, \"#9c179e\"], [0.4444444444444444, \"#bd3786\"], [0.5555555555555556, \"#d8576b\"], [0.6666666666666666, \"#ed7953\"], [0.7777777777777778, \"#fb9f3a\"], [0.8888888888888888, \"#fdca26\"], [1.0, \"#f0f921\"]], \"type\": \"histogram2d\"}], \"histogram2dcontour\": [{\"colorbar\": {\"outlinewidth\": 0, \"ticks\": \"\"}, \"colorscale\": [[0.0, \"#0d0887\"], [0.1111111111111111, \"#46039f\"], [0.2222222222222222, \"#7201a8\"], [0.3333333333333333, \"#9c179e\"], [0.4444444444444444, \"#bd3786\"], [0.5555555555555556, \"#d8576b\"], [0.6666666666666666, \"#ed7953\"], [0.7777777777777778, \"#fb9f3a\"], [0.8888888888888888, \"#fdca26\"], [1.0, \"#f0f921\"]], \"type\": \"histogram2dcontour\"}], \"mesh3d\": [{\"colorbar\": {\"outlinewidth\": 0, \"ticks\": \"\"}, \"type\": \"mesh3d\"}], \"parcoords\": [{\"line\": {\"colorbar\": {\"outlinewidth\": 0, \"ticks\": \"\"}}, \"type\": \"parcoords\"}], \"pie\": [{\"automargin\": true, \"type\": \"pie\"}], \"scatter\": [{\"marker\": {\"colorbar\": {\"outlinewidth\": 0, \"ticks\": \"\"}}, \"type\": \"scatter\"}], \"scatter3d\": [{\"line\": {\"colorbar\": {\"outlinewidth\": 0, \"ticks\": \"\"}}, \"marker\": {\"colorbar\": {\"outlinewidth\": 0, \"ticks\": \"\"}}, \"type\": \"scatter3d\"}], \"scattercarpet\": [{\"marker\": {\"colorbar\": {\"outlinewidth\": 0, \"ticks\": \"\"}}, \"type\": \"scattercarpet\"}], \"scattergeo\": [{\"marker\": {\"colorbar\": {\"outlinewidth\": 0, \"ticks\": \"\"}}, \"type\": \"scattergeo\"}], \"scattergl\": [{\"marker\": {\"colorbar\": {\"outlinewidth\": 0, \"ticks\": \"\"}}, \"type\": \"scattergl\"}], \"scattermapbox\": [{\"marker\": {\"colorbar\": {\"outlinewidth\": 0, \"ticks\": \"\"}}, \"type\": \"scattermapbox\"}], \"scatterpolar\": [{\"marker\": {\"colorbar\": {\"outlinewidth\": 0, \"ticks\": \"\"}}, \"type\": \"scatterpolar\"}], \"scatterpolargl\": [{\"marker\": {\"colorbar\": {\"outlinewidth\": 0, \"ticks\": \"\"}}, \"type\": \"scatterpolargl\"}], \"scatterternary\": [{\"marker\": {\"colorbar\": {\"outlinewidth\": 0, \"ticks\": \"\"}}, \"type\": \"scatterternary\"}], \"surface\": [{\"colorbar\": {\"outlinewidth\": 0, \"ticks\": \"\"}, \"colorscale\": [[0.0, \"#0d0887\"], [0.1111111111111111, \"#46039f\"], [0.2222222222222222, \"#7201a8\"], [0.3333333333333333, \"#9c179e\"], [0.4444444444444444, \"#bd3786\"], [0.5555555555555556, \"#d8576b\"], [0.6666666666666666, \"#ed7953\"], [0.7777777777777778, \"#fb9f3a\"], [0.8888888888888888, \"#fdca26\"], [1.0, \"#f0f921\"]], \"type\": \"surface\"}], \"table\": [{\"cells\": {\"fill\": {\"color\": \"#EBF0F8\"}, \"line\": {\"color\": \"white\"}}, \"header\": {\"fill\": {\"color\": \"#C8D4E3\"}, \"line\": {\"color\": \"white\"}}, \"type\": \"table\"}]}, \"layout\": {\"annotationdefaults\": {\"arrowcolor\": \"#2a3f5f\", \"arrowhead\": 0, \"arrowwidth\": 1}, \"coloraxis\": {\"colorbar\": {\"outlinewidth\": 0, \"ticks\": \"\"}}, \"colorscale\": {\"diverging\": [[0, \"#8e0152\"], [0.1, \"#c51b7d\"], [0.2, \"#de77ae\"], [0.3, \"#f1b6da\"], [0.4, \"#fde0ef\"], [0.5, \"#f7f7f7\"], [0.6, \"#e6f5d0\"], [0.7, \"#b8e186\"], [0.8, \"#7fbc41\"], [0.9, \"#4d9221\"], [1, \"#276419\"]], \"sequential\": [[0.0, \"#0d0887\"], [0.1111111111111111, \"#46039f\"], [0.2222222222222222, \"#7201a8\"], [0.3333333333333333, \"#9c179e\"], [0.4444444444444444, \"#bd3786\"], [0.5555555555555556, \"#d8576b\"], [0.6666666666666666, \"#ed7953\"], [0.7777777777777778, \"#fb9f3a\"], [0.8888888888888888, \"#fdca26\"], [1.0, \"#f0f921\"]], \"sequentialminus\": [[0.0, \"#0d0887\"], [0.1111111111111111, \"#46039f\"], [0.2222222222222222, \"#7201a8\"], [0.3333333333333333, \"#9c179e\"], [0.4444444444444444, \"#bd3786\"], [0.5555555555555556, \"#d8576b\"], [0.6666666666666666, \"#ed7953\"], [0.7777777777777778, \"#fb9f3a\"], [0.8888888888888888, \"#fdca26\"], [1.0, \"#f0f921\"]]}, \"colorway\": [\"#636efa\", \"#EF553B\", \"#00cc96\", \"#ab63fa\", \"#FFA15A\", \"#19d3f3\", \"#FF6692\", \"#B6E880\", \"#FF97FF\", \"#FECB52\"], \"font\": {\"color\": \"#2a3f5f\"}, \"geo\": {\"bgcolor\": \"white\", \"lakecolor\": \"white\", \"landcolor\": \"#E5ECF6\", \"showlakes\": true, \"showland\": true, \"subunitcolor\": \"white\"}, \"hoverlabel\": {\"align\": \"left\"}, \"hovermode\": \"closest\", \"mapbox\": {\"style\": \"light\"}, \"paper_bgcolor\": \"white\", \"plot_bgcolor\": \"#E5ECF6\", \"polar\": {\"angularaxis\": {\"gridcolor\": \"white\", \"linecolor\": \"white\", \"ticks\": \"\"}, \"bgcolor\": \"#E5ECF6\", \"radialaxis\": {\"gridcolor\": \"white\", \"linecolor\": \"white\", \"ticks\": \"\"}}, \"scene\": {\"xaxis\": {\"backgroundcolor\": \"#E5ECF6\", \"gridcolor\": \"white\", \"gridwidth\": 2, \"linecolor\": \"white\", \"showbackground\": true, \"ticks\": \"\", \"zerolinecolor\": \"white\"}, \"yaxis\": {\"backgroundcolor\": \"#E5ECF6\", \"gridcolor\": \"white\", \"gridwidth\": 2, \"linecolor\": \"white\", \"showbackground\": true, \"ticks\": \"\", \"zerolinecolor\": \"white\"}, \"zaxis\": {\"backgroundcolor\": \"#E5ECF6\", \"gridcolor\": \"white\", \"gridwidth\": 2, \"linecolor\": \"white\", \"showbackground\": true, \"ticks\": \"\", \"zerolinecolor\": \"white\"}}, \"shapedefaults\": {\"line\": {\"color\": \"#2a3f5f\"}}, \"ternary\": {\"aaxis\": {\"gridcolor\": \"white\", \"linecolor\": \"white\", \"ticks\": \"\"}, \"baxis\": {\"gridcolor\": \"white\", \"linecolor\": \"white\", \"ticks\": \"\"}, \"bgcolor\": \"#E5ECF6\", \"caxis\": {\"gridcolor\": \"white\", \"linecolor\": \"white\", \"ticks\": \"\"}}, \"title\": {\"x\": 0.05}, \"xaxis\": {\"automargin\": true, \"gridcolor\": \"white\", \"linecolor\": \"white\", \"ticks\": \"\", \"title\": {\"standoff\": 15}, \"zerolinecolor\": \"white\", \"zerolinewidth\": 2}, \"yaxis\": {\"automargin\": true, \"gridcolor\": \"white\", \"linecolor\": \"white\", \"ticks\": \"\", \"title\": {\"standoff\": 15}, \"zerolinecolor\": \"white\", \"zerolinewidth\": 2}}}},\n                        {\"responsive\": true}\n                    ).then(function(){\n                            \nvar gd = document.getElementById('e2685fe7-66b6-413b-8746-da4495920890');\nvar x = new MutationObserver(function (mutations, observer) {{\n        var display = window.getComputedStyle(gd).display;\n        if (!display || display === 'none') {{\n            console.log([gd, 'removed!']);\n            Plotly.purge(gd);\n            observer.disconnect();\n        }}\n}});\n\n// Listen for the removal of the full notebook cells\nvar notebookContainer = gd.closest('#notebook-container');\nif (notebookContainer) {{\n    x.observe(notebookContainer, {childList: true});\n}}\n\n// Listen for the clearing of the current output cell\nvar outputEl = gd.closest('.output');\nif (outputEl) {{\n    x.observe(outputEl, {childList: true});\n}}\n\n                        })\n                };\n                });\n            </script>\n        </div>"
     },
     "metadata": {},
     "output_type": "display_data"
    }
   ],
   "source": [
    "plot_style(style_coeff)"
   ],
   "metadata": {
    "collapsed": false,
    "pycharm": {
     "name": "#%%\n"
    }
   }
  },
  {
   "cell_type": "markdown",
   "source": [
    "STYLE ANALYZE OF BRKA_M FOR LAST DECADE FROM 2009"
   ],
   "metadata": {
    "collapsed": false,
    "pycharm": {
     "name": "#%% md\n"
    }
   }
  },
  {
   "cell_type": "code",
   "execution_count": 8,
   "outputs": [
    {
     "data": {
      "application/vnd.plotly.v1+json": {
       "config": {
        "linkText": "Export to plot.ly",
        "plotlyServerURL": "https://plot.ly",
        "showLink": false
       },
       "data": [
        {
         "type": "bar",
         "x": [
          "Other",
          "Food",
          "Hlth",
          "Rtail",
          "Meals",
          "Fin",
          "Steel",
          "FabPr",
          "Beer",
          "Smoke",
          "Autos",
          "Util",
          "Carry",
          "Whlsl",
          "Coal",
          "Txtls",
          "Chems",
          "Games",
          "Servs",
          "Clths",
          "Trans",
          "Books",
          "Hshld",
          "Oil",
          "Paper",
          "Cnstr",
          "BusEq",
          "Telcm",
          "Mines",
          "ElcEq"
         ],
         "y": [
          0.43640072285576775,
          0.28325438678204307,
          0.2271861662099123,
          0.05247856153799691,
          6.801626142797796E-4,
          8.185726402265558E-17,
          5.3017486234541167E-17,
          5.0198560586078855E-17,
          4.618701254788249E-17,
          3.65376132127615E-17,
          2.8406096919120216E-17,
          2.4069288229178198E-17,
          2.2768245622195593E-17,
          2.211772431870429E-17,
          2.1358782797964437E-17,
          2.0708261494473135E-17,
          1.8756697583999227E-17,
          1.452830911130576E-17,
          5.7462715141731735E-18,
          4.336808689942018E-18,
          0.0,
          0.0,
          0.0,
          0.0,
          0.0,
          0.0,
          0.0,
          0.0,
          0.0,
          0.0
         ]
        }
       ],
       "layout": {
        "template": {
         "data": {
          "bar": [
           {
            "error_x": {
             "color": "#2a3f5f"
            },
            "error_y": {
             "color": "#2a3f5f"
            },
            "marker": {
             "line": {
              "color": "#E5ECF6",
              "width": 0.5
             }
            },
            "type": "bar"
           }
          ],
          "barpolar": [
           {
            "marker": {
             "line": {
              "color": "#E5ECF6",
              "width": 0.5
             }
            },
            "type": "barpolar"
           }
          ],
          "carpet": [
           {
            "aaxis": {
             "endlinecolor": "#2a3f5f",
             "gridcolor": "white",
             "linecolor": "white",
             "minorgridcolor": "white",
             "startlinecolor": "#2a3f5f"
            },
            "baxis": {
             "endlinecolor": "#2a3f5f",
             "gridcolor": "white",
             "linecolor": "white",
             "minorgridcolor": "white",
             "startlinecolor": "#2a3f5f"
            },
            "type": "carpet"
           }
          ],
          "choropleth": [
           {
            "colorbar": {
             "outlinewidth": 0,
             "ticks": ""
            },
            "type": "choropleth"
           }
          ],
          "contour": [
           {
            "colorbar": {
             "outlinewidth": 0,
             "ticks": ""
            },
            "colorscale": [
             [
              0.0,
              "#0d0887"
             ],
             [
              0.1111111111111111,
              "#46039f"
             ],
             [
              0.2222222222222222,
              "#7201a8"
             ],
             [
              0.3333333333333333,
              "#9c179e"
             ],
             [
              0.4444444444444444,
              "#bd3786"
             ],
             [
              0.5555555555555556,
              "#d8576b"
             ],
             [
              0.6666666666666666,
              "#ed7953"
             ],
             [
              0.7777777777777778,
              "#fb9f3a"
             ],
             [
              0.8888888888888888,
              "#fdca26"
             ],
             [
              1.0,
              "#f0f921"
             ]
            ],
            "type": "contour"
           }
          ],
          "contourcarpet": [
           {
            "colorbar": {
             "outlinewidth": 0,
             "ticks": ""
            },
            "type": "contourcarpet"
           }
          ],
          "heatmap": [
           {
            "colorbar": {
             "outlinewidth": 0,
             "ticks": ""
            },
            "colorscale": [
             [
              0.0,
              "#0d0887"
             ],
             [
              0.1111111111111111,
              "#46039f"
             ],
             [
              0.2222222222222222,
              "#7201a8"
             ],
             [
              0.3333333333333333,
              "#9c179e"
             ],
             [
              0.4444444444444444,
              "#bd3786"
             ],
             [
              0.5555555555555556,
              "#d8576b"
             ],
             [
              0.6666666666666666,
              "#ed7953"
             ],
             [
              0.7777777777777778,
              "#fb9f3a"
             ],
             [
              0.8888888888888888,
              "#fdca26"
             ],
             [
              1.0,
              "#f0f921"
             ]
            ],
            "type": "heatmap"
           }
          ],
          "heatmapgl": [
           {
            "colorbar": {
             "outlinewidth": 0,
             "ticks": ""
            },
            "colorscale": [
             [
              0.0,
              "#0d0887"
             ],
             [
              0.1111111111111111,
              "#46039f"
             ],
             [
              0.2222222222222222,
              "#7201a8"
             ],
             [
              0.3333333333333333,
              "#9c179e"
             ],
             [
              0.4444444444444444,
              "#bd3786"
             ],
             [
              0.5555555555555556,
              "#d8576b"
             ],
             [
              0.6666666666666666,
              "#ed7953"
             ],
             [
              0.7777777777777778,
              "#fb9f3a"
             ],
             [
              0.8888888888888888,
              "#fdca26"
             ],
             [
              1.0,
              "#f0f921"
             ]
            ],
            "type": "heatmapgl"
           }
          ],
          "histogram": [
           {
            "marker": {
             "colorbar": {
              "outlinewidth": 0,
              "ticks": ""
             }
            },
            "type": "histogram"
           }
          ],
          "histogram2d": [
           {
            "colorbar": {
             "outlinewidth": 0,
             "ticks": ""
            },
            "colorscale": [
             [
              0.0,
              "#0d0887"
             ],
             [
              0.1111111111111111,
              "#46039f"
             ],
             [
              0.2222222222222222,
              "#7201a8"
             ],
             [
              0.3333333333333333,
              "#9c179e"
             ],
             [
              0.4444444444444444,
              "#bd3786"
             ],
             [
              0.5555555555555556,
              "#d8576b"
             ],
             [
              0.6666666666666666,
              "#ed7953"
             ],
             [
              0.7777777777777778,
              "#fb9f3a"
             ],
             [
              0.8888888888888888,
              "#fdca26"
             ],
             [
              1.0,
              "#f0f921"
             ]
            ],
            "type": "histogram2d"
           }
          ],
          "histogram2dcontour": [
           {
            "colorbar": {
             "outlinewidth": 0,
             "ticks": ""
            },
            "colorscale": [
             [
              0.0,
              "#0d0887"
             ],
             [
              0.1111111111111111,
              "#46039f"
             ],
             [
              0.2222222222222222,
              "#7201a8"
             ],
             [
              0.3333333333333333,
              "#9c179e"
             ],
             [
              0.4444444444444444,
              "#bd3786"
             ],
             [
              0.5555555555555556,
              "#d8576b"
             ],
             [
              0.6666666666666666,
              "#ed7953"
             ],
             [
              0.7777777777777778,
              "#fb9f3a"
             ],
             [
              0.8888888888888888,
              "#fdca26"
             ],
             [
              1.0,
              "#f0f921"
             ]
            ],
            "type": "histogram2dcontour"
           }
          ],
          "mesh3d": [
           {
            "colorbar": {
             "outlinewidth": 0,
             "ticks": ""
            },
            "type": "mesh3d"
           }
          ],
          "parcoords": [
           {
            "line": {
             "colorbar": {
              "outlinewidth": 0,
              "ticks": ""
             }
            },
            "type": "parcoords"
           }
          ],
          "pie": [
           {
            "automargin": true,
            "type": "pie"
           }
          ],
          "scatter": [
           {
            "marker": {
             "colorbar": {
              "outlinewidth": 0,
              "ticks": ""
             }
            },
            "type": "scatter"
           }
          ],
          "scatter3d": [
           {
            "line": {
             "colorbar": {
              "outlinewidth": 0,
              "ticks": ""
             }
            },
            "marker": {
             "colorbar": {
              "outlinewidth": 0,
              "ticks": ""
             }
            },
            "type": "scatter3d"
           }
          ],
          "scattercarpet": [
           {
            "marker": {
             "colorbar": {
              "outlinewidth": 0,
              "ticks": ""
             }
            },
            "type": "scattercarpet"
           }
          ],
          "scattergeo": [
           {
            "marker": {
             "colorbar": {
              "outlinewidth": 0,
              "ticks": ""
             }
            },
            "type": "scattergeo"
           }
          ],
          "scattergl": [
           {
            "marker": {
             "colorbar": {
              "outlinewidth": 0,
              "ticks": ""
             }
            },
            "type": "scattergl"
           }
          ],
          "scattermapbox": [
           {
            "marker": {
             "colorbar": {
              "outlinewidth": 0,
              "ticks": ""
             }
            },
            "type": "scattermapbox"
           }
          ],
          "scatterpolar": [
           {
            "marker": {
             "colorbar": {
              "outlinewidth": 0,
              "ticks": ""
             }
            },
            "type": "scatterpolar"
           }
          ],
          "scatterpolargl": [
           {
            "marker": {
             "colorbar": {
              "outlinewidth": 0,
              "ticks": ""
             }
            },
            "type": "scatterpolargl"
           }
          ],
          "scatterternary": [
           {
            "marker": {
             "colorbar": {
              "outlinewidth": 0,
              "ticks": ""
             }
            },
            "type": "scatterternary"
           }
          ],
          "surface": [
           {
            "colorbar": {
             "outlinewidth": 0,
             "ticks": ""
            },
            "colorscale": [
             [
              0.0,
              "#0d0887"
             ],
             [
              0.1111111111111111,
              "#46039f"
             ],
             [
              0.2222222222222222,
              "#7201a8"
             ],
             [
              0.3333333333333333,
              "#9c179e"
             ],
             [
              0.4444444444444444,
              "#bd3786"
             ],
             [
              0.5555555555555556,
              "#d8576b"
             ],
             [
              0.6666666666666666,
              "#ed7953"
             ],
             [
              0.7777777777777778,
              "#fb9f3a"
             ],
             [
              0.8888888888888888,
              "#fdca26"
             ],
             [
              1.0,
              "#f0f921"
             ]
            ],
            "type": "surface"
           }
          ],
          "table": [
           {
            "cells": {
             "fill": {
              "color": "#EBF0F8"
             },
             "line": {
              "color": "white"
             }
            },
            "header": {
             "fill": {
              "color": "#C8D4E3"
             },
             "line": {
              "color": "white"
             }
            },
            "type": "table"
           }
          ]
         },
         "layout": {
          "annotationdefaults": {
           "arrowcolor": "#2a3f5f",
           "arrowhead": 0,
           "arrowwidth": 1
          },
          "coloraxis": {
           "colorbar": {
            "outlinewidth": 0,
            "ticks": ""
           }
          },
          "colorscale": {
           "diverging": [
            [
             0,
             "#8e0152"
            ],
            [
             0.1,
             "#c51b7d"
            ],
            [
             0.2,
             "#de77ae"
            ],
            [
             0.3,
             "#f1b6da"
            ],
            [
             0.4,
             "#fde0ef"
            ],
            [
             0.5,
             "#f7f7f7"
            ],
            [
             0.6,
             "#e6f5d0"
            ],
            [
             0.7,
             "#b8e186"
            ],
            [
             0.8,
             "#7fbc41"
            ],
            [
             0.9,
             "#4d9221"
            ],
            [
             1,
             "#276419"
            ]
           ],
           "sequential": [
            [
             0.0,
             "#0d0887"
            ],
            [
             0.1111111111111111,
             "#46039f"
            ],
            [
             0.2222222222222222,
             "#7201a8"
            ],
            [
             0.3333333333333333,
             "#9c179e"
            ],
            [
             0.4444444444444444,
             "#bd3786"
            ],
            [
             0.5555555555555556,
             "#d8576b"
            ],
            [
             0.6666666666666666,
             "#ed7953"
            ],
            [
             0.7777777777777778,
             "#fb9f3a"
            ],
            [
             0.8888888888888888,
             "#fdca26"
            ],
            [
             1.0,
             "#f0f921"
            ]
           ],
           "sequentialminus": [
            [
             0.0,
             "#0d0887"
            ],
            [
             0.1111111111111111,
             "#46039f"
            ],
            [
             0.2222222222222222,
             "#7201a8"
            ],
            [
             0.3333333333333333,
             "#9c179e"
            ],
            [
             0.4444444444444444,
             "#bd3786"
            ],
            [
             0.5555555555555556,
             "#d8576b"
            ],
            [
             0.6666666666666666,
             "#ed7953"
            ],
            [
             0.7777777777777778,
             "#fb9f3a"
            ],
            [
             0.8888888888888888,
             "#fdca26"
            ],
            [
             1.0,
             "#f0f921"
            ]
           ]
          },
          "colorway": [
           "#636efa",
           "#EF553B",
           "#00cc96",
           "#ab63fa",
           "#FFA15A",
           "#19d3f3",
           "#FF6692",
           "#B6E880",
           "#FF97FF",
           "#FECB52"
          ],
          "font": {
           "color": "#2a3f5f"
          },
          "geo": {
           "bgcolor": "white",
           "lakecolor": "white",
           "landcolor": "#E5ECF6",
           "showlakes": true,
           "showland": true,
           "subunitcolor": "white"
          },
          "hoverlabel": {
           "align": "left"
          },
          "hovermode": "closest",
          "mapbox": {
           "style": "light"
          },
          "paper_bgcolor": "white",
          "plot_bgcolor": "#E5ECF6",
          "polar": {
           "angularaxis": {
            "gridcolor": "white",
            "linecolor": "white",
            "ticks": ""
           },
           "bgcolor": "#E5ECF6",
           "radialaxis": {
            "gridcolor": "white",
            "linecolor": "white",
            "ticks": ""
           }
          },
          "scene": {
           "xaxis": {
            "backgroundcolor": "#E5ECF6",
            "gridcolor": "white",
            "gridwidth": 2,
            "linecolor": "white",
            "showbackground": true,
            "ticks": "",
            "zerolinecolor": "white"
           },
           "yaxis": {
            "backgroundcolor": "#E5ECF6",
            "gridcolor": "white",
            "gridwidth": 2,
            "linecolor": "white",
            "showbackground": true,
            "ticks": "",
            "zerolinecolor": "white"
           },
           "zaxis": {
            "backgroundcolor": "#E5ECF6",
            "gridcolor": "white",
            "gridwidth": 2,
            "linecolor": "white",
            "showbackground": true,
            "ticks": "",
            "zerolinecolor": "white"
           }
          },
          "shapedefaults": {
           "line": {
            "color": "#2a3f5f"
           }
          },
          "ternary": {
           "aaxis": {
            "gridcolor": "white",
            "linecolor": "white",
            "ticks": ""
           },
           "baxis": {
            "gridcolor": "white",
            "linecolor": "white",
            "ticks": ""
           },
           "bgcolor": "#E5ECF6",
           "caxis": {
            "gridcolor": "white",
            "linecolor": "white",
            "ticks": ""
           }
          },
          "title": {
           "x": 0.05
          },
          "xaxis": {
           "automargin": true,
           "gridcolor": "white",
           "linecolor": "white",
           "ticks": "",
           "title": {
            "standoff": 15
           },
           "zerolinecolor": "white",
           "zerolinewidth": 2
          },
          "yaxis": {
           "automargin": true,
           "gridcolor": "white",
           "linecolor": "white",
           "ticks": "",
           "title": {
            "standoff": 15
           },
           "zerolinecolor": "white",
           "zerolinewidth": 2
          }
         }
        }
       }
      },
      "text/html": "<div>\n        \n        \n            <div id=\"e6d932d3-4941-43b0-aee2-24eab514e16e\" class=\"plotly-graph-div\" style=\"height:525px; width:100%;\"></div>\n            <script type=\"text/javascript\">\n                require([\"plotly\"], function(Plotly) {\n                    window.PLOTLYENV=window.PLOTLYENV || {};\n                    \n                if (document.getElementById(\"e6d932d3-4941-43b0-aee2-24eab514e16e\")) {\n                    Plotly.newPlot(\n                        'e6d932d3-4941-43b0-aee2-24eab514e16e',\n                        [{\"type\": \"bar\", \"x\": [\"Other\", \"Food\", \"Hlth\", \"Rtail\", \"Meals\", \"Fin\", \"Steel\", \"FabPr\", \"Beer\", \"Smoke\", \"Autos\", \"Util\", \"Carry\", \"Whlsl\", \"Coal\", \"Txtls\", \"Chems\", \"Games\", \"Servs\", \"Clths\", \"Trans\", \"Books\", \"Hshld\", \"Oil\", \"Paper\", \"Cnstr\", \"BusEq\", \"Telcm\", \"Mines\", \"ElcEq\"], \"y\": [0.43640072285576775, 0.28325438678204307, 0.2271861662099123, 0.05247856153799691, 0.0006801626142797796, 8.185726402265558e-17, 5.3017486234541167e-17, 5.0198560586078855e-17, 4.618701254788249e-17, 3.65376132127615e-17, 2.8406096919120216e-17, 2.4069288229178198e-17, 2.2768245622195593e-17, 2.211772431870429e-17, 2.1358782797964437e-17, 2.0708261494473135e-17, 1.8756697583999227e-17, 1.452830911130576e-17, 5.7462715141731735e-18, 4.336808689942018e-18, 0.0, 0.0, 0.0, 0.0, 0.0, 0.0, 0.0, 0.0, 0.0, 0.0]}],\n                        {\"template\": {\"data\": {\"bar\": [{\"error_x\": {\"color\": \"#2a3f5f\"}, \"error_y\": {\"color\": \"#2a3f5f\"}, \"marker\": {\"line\": {\"color\": \"#E5ECF6\", \"width\": 0.5}}, \"type\": \"bar\"}], \"barpolar\": [{\"marker\": {\"line\": {\"color\": \"#E5ECF6\", \"width\": 0.5}}, \"type\": \"barpolar\"}], \"carpet\": [{\"aaxis\": {\"endlinecolor\": \"#2a3f5f\", \"gridcolor\": \"white\", \"linecolor\": \"white\", \"minorgridcolor\": \"white\", \"startlinecolor\": \"#2a3f5f\"}, \"baxis\": {\"endlinecolor\": \"#2a3f5f\", \"gridcolor\": \"white\", \"linecolor\": \"white\", \"minorgridcolor\": \"white\", \"startlinecolor\": \"#2a3f5f\"}, \"type\": \"carpet\"}], \"choropleth\": [{\"colorbar\": {\"outlinewidth\": 0, \"ticks\": \"\"}, \"type\": \"choropleth\"}], \"contour\": [{\"colorbar\": {\"outlinewidth\": 0, \"ticks\": \"\"}, \"colorscale\": [[0.0, \"#0d0887\"], [0.1111111111111111, \"#46039f\"], [0.2222222222222222, \"#7201a8\"], [0.3333333333333333, \"#9c179e\"], [0.4444444444444444, \"#bd3786\"], [0.5555555555555556, \"#d8576b\"], [0.6666666666666666, \"#ed7953\"], [0.7777777777777778, \"#fb9f3a\"], [0.8888888888888888, \"#fdca26\"], [1.0, \"#f0f921\"]], \"type\": \"contour\"}], \"contourcarpet\": [{\"colorbar\": {\"outlinewidth\": 0, \"ticks\": \"\"}, \"type\": \"contourcarpet\"}], \"heatmap\": [{\"colorbar\": {\"outlinewidth\": 0, \"ticks\": \"\"}, \"colorscale\": [[0.0, \"#0d0887\"], [0.1111111111111111, \"#46039f\"], [0.2222222222222222, \"#7201a8\"], [0.3333333333333333, \"#9c179e\"], [0.4444444444444444, \"#bd3786\"], [0.5555555555555556, \"#d8576b\"], [0.6666666666666666, \"#ed7953\"], [0.7777777777777778, \"#fb9f3a\"], [0.8888888888888888, \"#fdca26\"], [1.0, \"#f0f921\"]], \"type\": \"heatmap\"}], \"heatmapgl\": [{\"colorbar\": {\"outlinewidth\": 0, \"ticks\": \"\"}, \"colorscale\": [[0.0, \"#0d0887\"], [0.1111111111111111, \"#46039f\"], [0.2222222222222222, \"#7201a8\"], [0.3333333333333333, \"#9c179e\"], [0.4444444444444444, \"#bd3786\"], [0.5555555555555556, \"#d8576b\"], [0.6666666666666666, \"#ed7953\"], [0.7777777777777778, \"#fb9f3a\"], [0.8888888888888888, \"#fdca26\"], [1.0, \"#f0f921\"]], \"type\": \"heatmapgl\"}], \"histogram\": [{\"marker\": {\"colorbar\": {\"outlinewidth\": 0, \"ticks\": \"\"}}, \"type\": \"histogram\"}], \"histogram2d\": [{\"colorbar\": {\"outlinewidth\": 0, \"ticks\": \"\"}, \"colorscale\": [[0.0, \"#0d0887\"], [0.1111111111111111, \"#46039f\"], [0.2222222222222222, \"#7201a8\"], [0.3333333333333333, \"#9c179e\"], [0.4444444444444444, \"#bd3786\"], [0.5555555555555556, \"#d8576b\"], [0.6666666666666666, \"#ed7953\"], [0.7777777777777778, \"#fb9f3a\"], [0.8888888888888888, \"#fdca26\"], [1.0, \"#f0f921\"]], \"type\": \"histogram2d\"}], \"histogram2dcontour\": [{\"colorbar\": {\"outlinewidth\": 0, \"ticks\": \"\"}, \"colorscale\": [[0.0, \"#0d0887\"], [0.1111111111111111, \"#46039f\"], [0.2222222222222222, \"#7201a8\"], [0.3333333333333333, \"#9c179e\"], [0.4444444444444444, \"#bd3786\"], [0.5555555555555556, \"#d8576b\"], [0.6666666666666666, \"#ed7953\"], [0.7777777777777778, \"#fb9f3a\"], [0.8888888888888888, \"#fdca26\"], [1.0, \"#f0f921\"]], \"type\": \"histogram2dcontour\"}], \"mesh3d\": [{\"colorbar\": {\"outlinewidth\": 0, \"ticks\": \"\"}, \"type\": \"mesh3d\"}], \"parcoords\": [{\"line\": {\"colorbar\": {\"outlinewidth\": 0, \"ticks\": \"\"}}, \"type\": \"parcoords\"}], \"pie\": [{\"automargin\": true, \"type\": \"pie\"}], \"scatter\": [{\"marker\": {\"colorbar\": {\"outlinewidth\": 0, \"ticks\": \"\"}}, \"type\": \"scatter\"}], \"scatter3d\": [{\"line\": {\"colorbar\": {\"outlinewidth\": 0, \"ticks\": \"\"}}, \"marker\": {\"colorbar\": {\"outlinewidth\": 0, \"ticks\": \"\"}}, \"type\": \"scatter3d\"}], \"scattercarpet\": [{\"marker\": {\"colorbar\": {\"outlinewidth\": 0, \"ticks\": \"\"}}, \"type\": \"scattercarpet\"}], \"scattergeo\": [{\"marker\": {\"colorbar\": {\"outlinewidth\": 0, \"ticks\": \"\"}}, \"type\": \"scattergeo\"}], \"scattergl\": [{\"marker\": {\"colorbar\": {\"outlinewidth\": 0, \"ticks\": \"\"}}, \"type\": \"scattergl\"}], \"scattermapbox\": [{\"marker\": {\"colorbar\": {\"outlinewidth\": 0, \"ticks\": \"\"}}, \"type\": \"scattermapbox\"}], \"scatterpolar\": [{\"marker\": {\"colorbar\": {\"outlinewidth\": 0, \"ticks\": \"\"}}, \"type\": \"scatterpolar\"}], \"scatterpolargl\": [{\"marker\": {\"colorbar\": {\"outlinewidth\": 0, \"ticks\": \"\"}}, \"type\": \"scatterpolargl\"}], \"scatterternary\": [{\"marker\": {\"colorbar\": {\"outlinewidth\": 0, \"ticks\": \"\"}}, \"type\": \"scatterternary\"}], \"surface\": [{\"colorbar\": {\"outlinewidth\": 0, \"ticks\": \"\"}, \"colorscale\": [[0.0, \"#0d0887\"], [0.1111111111111111, \"#46039f\"], [0.2222222222222222, \"#7201a8\"], [0.3333333333333333, \"#9c179e\"], [0.4444444444444444, \"#bd3786\"], [0.5555555555555556, \"#d8576b\"], [0.6666666666666666, \"#ed7953\"], [0.7777777777777778, \"#fb9f3a\"], [0.8888888888888888, \"#fdca26\"], [1.0, \"#f0f921\"]], \"type\": \"surface\"}], \"table\": [{\"cells\": {\"fill\": {\"color\": \"#EBF0F8\"}, \"line\": {\"color\": \"white\"}}, \"header\": {\"fill\": {\"color\": \"#C8D4E3\"}, \"line\": {\"color\": \"white\"}}, \"type\": \"table\"}]}, \"layout\": {\"annotationdefaults\": {\"arrowcolor\": \"#2a3f5f\", \"arrowhead\": 0, \"arrowwidth\": 1}, \"coloraxis\": {\"colorbar\": {\"outlinewidth\": 0, \"ticks\": \"\"}}, \"colorscale\": {\"diverging\": [[0, \"#8e0152\"], [0.1, \"#c51b7d\"], [0.2, \"#de77ae\"], [0.3, \"#f1b6da\"], [0.4, \"#fde0ef\"], [0.5, \"#f7f7f7\"], [0.6, \"#e6f5d0\"], [0.7, \"#b8e186\"], [0.8, \"#7fbc41\"], [0.9, \"#4d9221\"], [1, \"#276419\"]], \"sequential\": [[0.0, \"#0d0887\"], [0.1111111111111111, \"#46039f\"], [0.2222222222222222, \"#7201a8\"], [0.3333333333333333, \"#9c179e\"], [0.4444444444444444, \"#bd3786\"], [0.5555555555555556, \"#d8576b\"], [0.6666666666666666, \"#ed7953\"], [0.7777777777777778, \"#fb9f3a\"], [0.8888888888888888, \"#fdca26\"], [1.0, \"#f0f921\"]], \"sequentialminus\": [[0.0, \"#0d0887\"], [0.1111111111111111, \"#46039f\"], [0.2222222222222222, \"#7201a8\"], [0.3333333333333333, \"#9c179e\"], [0.4444444444444444, \"#bd3786\"], [0.5555555555555556, \"#d8576b\"], [0.6666666666666666, \"#ed7953\"], [0.7777777777777778, \"#fb9f3a\"], [0.8888888888888888, \"#fdca26\"], [1.0, \"#f0f921\"]]}, \"colorway\": [\"#636efa\", \"#EF553B\", \"#00cc96\", \"#ab63fa\", \"#FFA15A\", \"#19d3f3\", \"#FF6692\", \"#B6E880\", \"#FF97FF\", \"#FECB52\"], \"font\": {\"color\": \"#2a3f5f\"}, \"geo\": {\"bgcolor\": \"white\", \"lakecolor\": \"white\", \"landcolor\": \"#E5ECF6\", \"showlakes\": true, \"showland\": true, \"subunitcolor\": \"white\"}, \"hoverlabel\": {\"align\": \"left\"}, \"hovermode\": \"closest\", \"mapbox\": {\"style\": \"light\"}, \"paper_bgcolor\": \"white\", \"plot_bgcolor\": \"#E5ECF6\", \"polar\": {\"angularaxis\": {\"gridcolor\": \"white\", \"linecolor\": \"white\", \"ticks\": \"\"}, \"bgcolor\": \"#E5ECF6\", \"radialaxis\": {\"gridcolor\": \"white\", \"linecolor\": \"white\", \"ticks\": \"\"}}, \"scene\": {\"xaxis\": {\"backgroundcolor\": \"#E5ECF6\", \"gridcolor\": \"white\", \"gridwidth\": 2, \"linecolor\": \"white\", \"showbackground\": true, \"ticks\": \"\", \"zerolinecolor\": \"white\"}, \"yaxis\": {\"backgroundcolor\": \"#E5ECF6\", \"gridcolor\": \"white\", \"gridwidth\": 2, \"linecolor\": \"white\", \"showbackground\": true, \"ticks\": \"\", \"zerolinecolor\": \"white\"}, \"zaxis\": {\"backgroundcolor\": \"#E5ECF6\", \"gridcolor\": \"white\", \"gridwidth\": 2, \"linecolor\": \"white\", \"showbackground\": true, \"ticks\": \"\", \"zerolinecolor\": \"white\"}}, \"shapedefaults\": {\"line\": {\"color\": \"#2a3f5f\"}}, \"ternary\": {\"aaxis\": {\"gridcolor\": \"white\", \"linecolor\": \"white\", \"ticks\": \"\"}, \"baxis\": {\"gridcolor\": \"white\", \"linecolor\": \"white\", \"ticks\": \"\"}, \"bgcolor\": \"#E5ECF6\", \"caxis\": {\"gridcolor\": \"white\", \"linecolor\": \"white\", \"ticks\": \"\"}}, \"title\": {\"x\": 0.05}, \"xaxis\": {\"automargin\": true, \"gridcolor\": \"white\", \"linecolor\": \"white\", \"ticks\": \"\", \"title\": {\"standoff\": 15}, \"zerolinecolor\": \"white\", \"zerolinewidth\": 2}, \"yaxis\": {\"automargin\": true, \"gridcolor\": \"white\", \"linecolor\": \"white\", \"ticks\": \"\", \"title\": {\"standoff\": 15}, \"zerolinecolor\": \"white\", \"zerolinewidth\": 2}}}},\n                        {\"responsive\": true}\n                    ).then(function(){\n                            \nvar gd = document.getElementById('e6d932d3-4941-43b0-aee2-24eab514e16e');\nvar x = new MutationObserver(function (mutations, observer) {{\n        var display = window.getComputedStyle(gd).display;\n        if (!display || display === 'none') {{\n            console.log([gd, 'removed!']);\n            Plotly.purge(gd);\n            observer.disconnect();\n        }}\n}});\n\n// Listen for the removal of the full notebook cells\nvar notebookContainer = gd.closest('#notebook-container');\nif (notebookContainer) {{\n    x.observe(notebookContainer, {childList: true});\n}}\n\n// Listen for the clearing of the current output cell\nvar outputEl = gd.closest('.output');\nif (outputEl) {{\n    x.observe(outputEl, {childList: true});\n}}\n\n                        })\n                };\n                });\n            </script>\n        </div>"
     },
     "metadata": {},
     "output_type": "display_data"
    }
   ],
   "source": [
    "wts_09 = erk.style_analyze(brka_m, ind, start_period='2009')\n",
    "plot_style(wts_09)\n",
    "\n"
   ],
   "metadata": {
    "collapsed": false,
    "pycharm": {
     "name": "#%%\n"
    }
   }
  },
  {
   "cell_type": "markdown",
   "source": [
    "PENDING WORK - DOWNLOAD ANY MUTUAL FUND HISTORICAL DATA FROM YF AND ANALYZE USING FFF\n",
    "\n",
    "\n"
   ],
   "metadata": {
    "collapsed": false,
    "pycharm": {
     "name": "#%% md\n"
    }
   }
  },
  {
   "cell_type": "markdown",
   "source": [
    "LAB 203 START\n",
    "\n",
    "\n"
   ],
   "metadata": {
    "collapsed": false,
    "pycharm": {
     "name": "#%% md\n"
    }
   }
  },
  {
   "cell_type": "code",
   "execution_count": 9,
   "outputs": [],
   "source": [
    "# TO_PERIOD ('m') IS THEN CONVERTED TO TIMESTAMP OBJECT WHILE PLOTTING\n",
    "ind_ew = erk.get_df('data/ind30_m_ew_rets.csv', to_per=True)\n",
    "ind_vw = erk.get_df('data/ind30_m_vw_rets.csv', to_per=True)\n",
    "sharpe_ratio_df = pd.DataFrame({'VW': erk.risk_info(ind_vw['1945':], only_sharpe=True),\n",
    "                               'EW': erk.risk_info(ind_ew['1945':], only_sharpe=True)})\n"
   ],
   "metadata": {
    "collapsed": false,
    "pycharm": {
     "name": "#%%\n"
    }
   }
  },
  {
   "cell_type": "markdown",
   "source": [
    "PLOT VW AND EW SHARPE RATIO\n",
    "\n",
    "\n"
   ],
   "metadata": {
    "collapsed": false,
    "pycharm": {
     "name": "#%% md\n"
    }
   }
  },
  {
   "cell_type": "code",
   "execution_count": 10,
   "outputs": [
    {
     "data": {
      "application/vnd.plotly.v1+json": {
       "config": {
        "linkText": "Export to plot.ly",
        "plotlyServerURL": "https://plot.ly",
        "showLink": false
       },
       "data": [
        {
         "type": "bar",
         "x": [
          "Food",
          "Beer",
          "Smoke",
          "Games",
          "Books",
          "Hshld",
          "Clths",
          "Hlth",
          "Chems",
          "Txtls",
          "Cnstr",
          "Steel",
          "FabPr",
          "ElcEq",
          "Autos",
          "Carry",
          "Mines",
          "Coal",
          "Oil",
          "Util",
          "Telcm",
          "Servs",
          "BusEq",
          "Paper",
          "Trans",
          "Whlsl",
          "Rtail",
          "Meals",
          "Fin",
          "Other"
         ],
         "y": [
          0.6238888726110311,
          0.5229416709891993,
          0.5467388021135259,
          0.34914205076698884,
          0.334344143032585,
          0.5171027569793124,
          0.37067256098314916,
          0.6048925342773624,
          0.42270169036616684,
          0.2836968370668817,
          0.361267534815597,
          0.1889286621627789,
          0.3677455304555986,
          0.43673328679963547,
          0.2897316300261826,
          0.4435773506552378,
          0.2021235522478556,
          0.19265809105392265,
          0.478819284363869,
          0.5818587628314476,
          0.4513401949217758,
          0.43936006566556884,
          0.41049516675225334,
          0.4925838510441811,
          0.3694610464591595,
          0.4145433798746313,
          0.5192777227527408,
          0.47949491984811266,
          0.47746547457396393,
          0.27290976947171514
         ]
        },
        {
         "type": "bar",
         "x": [
          "Food",
          "Beer",
          "Smoke",
          "Games",
          "Books",
          "Hshld",
          "Clths",
          "Hlth",
          "Chems",
          "Txtls",
          "Cnstr",
          "Steel",
          "FabPr",
          "ElcEq",
          "Autos",
          "Carry",
          "Mines",
          "Coal",
          "Oil",
          "Util",
          "Telcm",
          "Servs",
          "BusEq",
          "Paper",
          "Trans",
          "Whlsl",
          "Rtail",
          "Meals",
          "Fin",
          "Other"
         ],
         "y": [
          0.6437775874432025,
          0.5432973114391866,
          0.6253167249287916,
          0.31683456650714853,
          0.4311092645122628,
          0.38410283630235725,
          0.3760979927081378,
          0.5404149790992476,
          0.5112122209063144,
          0.25551797742533905,
          0.41457715352816615,
          0.34254221132897117,
          0.47680282948927916,
          0.36721602830330075,
          0.3303445915623,
          0.533479277370071,
          0.24765609219919832,
          0.08714406988804607,
          0.346294840774002,
          0.8316639906024937,
          0.43239269382268825,
          0.4635163147964535,
          0.4104075876356707,
          0.5211499726072866,
          0.4036222047975182,
          0.4241679181070598,
          0.4176131604492976,
          0.3434421952734258,
          0.651270944397564,
          0.4640158335056425
         ]
        }
       ],
       "layout": {
        "template": {
         "data": {
          "bar": [
           {
            "error_x": {
             "color": "#2a3f5f"
            },
            "error_y": {
             "color": "#2a3f5f"
            },
            "marker": {
             "line": {
              "color": "#E5ECF6",
              "width": 0.5
             }
            },
            "type": "bar"
           }
          ],
          "barpolar": [
           {
            "marker": {
             "line": {
              "color": "#E5ECF6",
              "width": 0.5
             }
            },
            "type": "barpolar"
           }
          ],
          "carpet": [
           {
            "aaxis": {
             "endlinecolor": "#2a3f5f",
             "gridcolor": "white",
             "linecolor": "white",
             "minorgridcolor": "white",
             "startlinecolor": "#2a3f5f"
            },
            "baxis": {
             "endlinecolor": "#2a3f5f",
             "gridcolor": "white",
             "linecolor": "white",
             "minorgridcolor": "white",
             "startlinecolor": "#2a3f5f"
            },
            "type": "carpet"
           }
          ],
          "choropleth": [
           {
            "colorbar": {
             "outlinewidth": 0,
             "ticks": ""
            },
            "type": "choropleth"
           }
          ],
          "contour": [
           {
            "colorbar": {
             "outlinewidth": 0,
             "ticks": ""
            },
            "colorscale": [
             [
              0.0,
              "#0d0887"
             ],
             [
              0.1111111111111111,
              "#46039f"
             ],
             [
              0.2222222222222222,
              "#7201a8"
             ],
             [
              0.3333333333333333,
              "#9c179e"
             ],
             [
              0.4444444444444444,
              "#bd3786"
             ],
             [
              0.5555555555555556,
              "#d8576b"
             ],
             [
              0.6666666666666666,
              "#ed7953"
             ],
             [
              0.7777777777777778,
              "#fb9f3a"
             ],
             [
              0.8888888888888888,
              "#fdca26"
             ],
             [
              1.0,
              "#f0f921"
             ]
            ],
            "type": "contour"
           }
          ],
          "contourcarpet": [
           {
            "colorbar": {
             "outlinewidth": 0,
             "ticks": ""
            },
            "type": "contourcarpet"
           }
          ],
          "heatmap": [
           {
            "colorbar": {
             "outlinewidth": 0,
             "ticks": ""
            },
            "colorscale": [
             [
              0.0,
              "#0d0887"
             ],
             [
              0.1111111111111111,
              "#46039f"
             ],
             [
              0.2222222222222222,
              "#7201a8"
             ],
             [
              0.3333333333333333,
              "#9c179e"
             ],
             [
              0.4444444444444444,
              "#bd3786"
             ],
             [
              0.5555555555555556,
              "#d8576b"
             ],
             [
              0.6666666666666666,
              "#ed7953"
             ],
             [
              0.7777777777777778,
              "#fb9f3a"
             ],
             [
              0.8888888888888888,
              "#fdca26"
             ],
             [
              1.0,
              "#f0f921"
             ]
            ],
            "type": "heatmap"
           }
          ],
          "heatmapgl": [
           {
            "colorbar": {
             "outlinewidth": 0,
             "ticks": ""
            },
            "colorscale": [
             [
              0.0,
              "#0d0887"
             ],
             [
              0.1111111111111111,
              "#46039f"
             ],
             [
              0.2222222222222222,
              "#7201a8"
             ],
             [
              0.3333333333333333,
              "#9c179e"
             ],
             [
              0.4444444444444444,
              "#bd3786"
             ],
             [
              0.5555555555555556,
              "#d8576b"
             ],
             [
              0.6666666666666666,
              "#ed7953"
             ],
             [
              0.7777777777777778,
              "#fb9f3a"
             ],
             [
              0.8888888888888888,
              "#fdca26"
             ],
             [
              1.0,
              "#f0f921"
             ]
            ],
            "type": "heatmapgl"
           }
          ],
          "histogram": [
           {
            "marker": {
             "colorbar": {
              "outlinewidth": 0,
              "ticks": ""
             }
            },
            "type": "histogram"
           }
          ],
          "histogram2d": [
           {
            "colorbar": {
             "outlinewidth": 0,
             "ticks": ""
            },
            "colorscale": [
             [
              0.0,
              "#0d0887"
             ],
             [
              0.1111111111111111,
              "#46039f"
             ],
             [
              0.2222222222222222,
              "#7201a8"
             ],
             [
              0.3333333333333333,
              "#9c179e"
             ],
             [
              0.4444444444444444,
              "#bd3786"
             ],
             [
              0.5555555555555556,
              "#d8576b"
             ],
             [
              0.6666666666666666,
              "#ed7953"
             ],
             [
              0.7777777777777778,
              "#fb9f3a"
             ],
             [
              0.8888888888888888,
              "#fdca26"
             ],
             [
              1.0,
              "#f0f921"
             ]
            ],
            "type": "histogram2d"
           }
          ],
          "histogram2dcontour": [
           {
            "colorbar": {
             "outlinewidth": 0,
             "ticks": ""
            },
            "colorscale": [
             [
              0.0,
              "#0d0887"
             ],
             [
              0.1111111111111111,
              "#46039f"
             ],
             [
              0.2222222222222222,
              "#7201a8"
             ],
             [
              0.3333333333333333,
              "#9c179e"
             ],
             [
              0.4444444444444444,
              "#bd3786"
             ],
             [
              0.5555555555555556,
              "#d8576b"
             ],
             [
              0.6666666666666666,
              "#ed7953"
             ],
             [
              0.7777777777777778,
              "#fb9f3a"
             ],
             [
              0.8888888888888888,
              "#fdca26"
             ],
             [
              1.0,
              "#f0f921"
             ]
            ],
            "type": "histogram2dcontour"
           }
          ],
          "mesh3d": [
           {
            "colorbar": {
             "outlinewidth": 0,
             "ticks": ""
            },
            "type": "mesh3d"
           }
          ],
          "parcoords": [
           {
            "line": {
             "colorbar": {
              "outlinewidth": 0,
              "ticks": ""
             }
            },
            "type": "parcoords"
           }
          ],
          "pie": [
           {
            "automargin": true,
            "type": "pie"
           }
          ],
          "scatter": [
           {
            "marker": {
             "colorbar": {
              "outlinewidth": 0,
              "ticks": ""
             }
            },
            "type": "scatter"
           }
          ],
          "scatter3d": [
           {
            "line": {
             "colorbar": {
              "outlinewidth": 0,
              "ticks": ""
             }
            },
            "marker": {
             "colorbar": {
              "outlinewidth": 0,
              "ticks": ""
             }
            },
            "type": "scatter3d"
           }
          ],
          "scattercarpet": [
           {
            "marker": {
             "colorbar": {
              "outlinewidth": 0,
              "ticks": ""
             }
            },
            "type": "scattercarpet"
           }
          ],
          "scattergeo": [
           {
            "marker": {
             "colorbar": {
              "outlinewidth": 0,
              "ticks": ""
             }
            },
            "type": "scattergeo"
           }
          ],
          "scattergl": [
           {
            "marker": {
             "colorbar": {
              "outlinewidth": 0,
              "ticks": ""
             }
            },
            "type": "scattergl"
           }
          ],
          "scattermapbox": [
           {
            "marker": {
             "colorbar": {
              "outlinewidth": 0,
              "ticks": ""
             }
            },
            "type": "scattermapbox"
           }
          ],
          "scatterpolar": [
           {
            "marker": {
             "colorbar": {
              "outlinewidth": 0,
              "ticks": ""
             }
            },
            "type": "scatterpolar"
           }
          ],
          "scatterpolargl": [
           {
            "marker": {
             "colorbar": {
              "outlinewidth": 0,
              "ticks": ""
             }
            },
            "type": "scatterpolargl"
           }
          ],
          "scatterternary": [
           {
            "marker": {
             "colorbar": {
              "outlinewidth": 0,
              "ticks": ""
             }
            },
            "type": "scatterternary"
           }
          ],
          "surface": [
           {
            "colorbar": {
             "outlinewidth": 0,
             "ticks": ""
            },
            "colorscale": [
             [
              0.0,
              "#0d0887"
             ],
             [
              0.1111111111111111,
              "#46039f"
             ],
             [
              0.2222222222222222,
              "#7201a8"
             ],
             [
              0.3333333333333333,
              "#9c179e"
             ],
             [
              0.4444444444444444,
              "#bd3786"
             ],
             [
              0.5555555555555556,
              "#d8576b"
             ],
             [
              0.6666666666666666,
              "#ed7953"
             ],
             [
              0.7777777777777778,
              "#fb9f3a"
             ],
             [
              0.8888888888888888,
              "#fdca26"
             ],
             [
              1.0,
              "#f0f921"
             ]
            ],
            "type": "surface"
           }
          ],
          "table": [
           {
            "cells": {
             "fill": {
              "color": "#EBF0F8"
             },
             "line": {
              "color": "white"
             }
            },
            "header": {
             "fill": {
              "color": "#C8D4E3"
             },
             "line": {
              "color": "white"
             }
            },
            "type": "table"
           }
          ]
         },
         "layout": {
          "annotationdefaults": {
           "arrowcolor": "#2a3f5f",
           "arrowhead": 0,
           "arrowwidth": 1
          },
          "coloraxis": {
           "colorbar": {
            "outlinewidth": 0,
            "ticks": ""
           }
          },
          "colorscale": {
           "diverging": [
            [
             0,
             "#8e0152"
            ],
            [
             0.1,
             "#c51b7d"
            ],
            [
             0.2,
             "#de77ae"
            ],
            [
             0.3,
             "#f1b6da"
            ],
            [
             0.4,
             "#fde0ef"
            ],
            [
             0.5,
             "#f7f7f7"
            ],
            [
             0.6,
             "#e6f5d0"
            ],
            [
             0.7,
             "#b8e186"
            ],
            [
             0.8,
             "#7fbc41"
            ],
            [
             0.9,
             "#4d9221"
            ],
            [
             1,
             "#276419"
            ]
           ],
           "sequential": [
            [
             0.0,
             "#0d0887"
            ],
            [
             0.1111111111111111,
             "#46039f"
            ],
            [
             0.2222222222222222,
             "#7201a8"
            ],
            [
             0.3333333333333333,
             "#9c179e"
            ],
            [
             0.4444444444444444,
             "#bd3786"
            ],
            [
             0.5555555555555556,
             "#d8576b"
            ],
            [
             0.6666666666666666,
             "#ed7953"
            ],
            [
             0.7777777777777778,
             "#fb9f3a"
            ],
            [
             0.8888888888888888,
             "#fdca26"
            ],
            [
             1.0,
             "#f0f921"
            ]
           ],
           "sequentialminus": [
            [
             0.0,
             "#0d0887"
            ],
            [
             0.1111111111111111,
             "#46039f"
            ],
            [
             0.2222222222222222,
             "#7201a8"
            ],
            [
             0.3333333333333333,
             "#9c179e"
            ],
            [
             0.4444444444444444,
             "#bd3786"
            ],
            [
             0.5555555555555556,
             "#d8576b"
            ],
            [
             0.6666666666666666,
             "#ed7953"
            ],
            [
             0.7777777777777778,
             "#fb9f3a"
            ],
            [
             0.8888888888888888,
             "#fdca26"
            ],
            [
             1.0,
             "#f0f921"
            ]
           ]
          },
          "colorway": [
           "#636efa",
           "#EF553B",
           "#00cc96",
           "#ab63fa",
           "#FFA15A",
           "#19d3f3",
           "#FF6692",
           "#B6E880",
           "#FF97FF",
           "#FECB52"
          ],
          "font": {
           "color": "#2a3f5f"
          },
          "geo": {
           "bgcolor": "white",
           "lakecolor": "white",
           "landcolor": "#E5ECF6",
           "showlakes": true,
           "showland": true,
           "subunitcolor": "white"
          },
          "hoverlabel": {
           "align": "left"
          },
          "hovermode": "closest",
          "mapbox": {
           "style": "light"
          },
          "paper_bgcolor": "white",
          "plot_bgcolor": "#E5ECF6",
          "polar": {
           "angularaxis": {
            "gridcolor": "white",
            "linecolor": "white",
            "ticks": ""
           },
           "bgcolor": "#E5ECF6",
           "radialaxis": {
            "gridcolor": "white",
            "linecolor": "white",
            "ticks": ""
           }
          },
          "scene": {
           "xaxis": {
            "backgroundcolor": "#E5ECF6",
            "gridcolor": "white",
            "gridwidth": 2,
            "linecolor": "white",
            "showbackground": true,
            "ticks": "",
            "zerolinecolor": "white"
           },
           "yaxis": {
            "backgroundcolor": "#E5ECF6",
            "gridcolor": "white",
            "gridwidth": 2,
            "linecolor": "white",
            "showbackground": true,
            "ticks": "",
            "zerolinecolor": "white"
           },
           "zaxis": {
            "backgroundcolor": "#E5ECF6",
            "gridcolor": "white",
            "gridwidth": 2,
            "linecolor": "white",
            "showbackground": true,
            "ticks": "",
            "zerolinecolor": "white"
           }
          },
          "shapedefaults": {
           "line": {
            "color": "#2a3f5f"
           }
          },
          "ternary": {
           "aaxis": {
            "gridcolor": "white",
            "linecolor": "white",
            "ticks": ""
           },
           "baxis": {
            "gridcolor": "white",
            "linecolor": "white",
            "ticks": ""
           },
           "bgcolor": "#E5ECF6",
           "caxis": {
            "gridcolor": "white",
            "linecolor": "white",
            "ticks": ""
           }
          },
          "title": {
           "x": 0.05
          },
          "xaxis": {
           "automargin": true,
           "gridcolor": "white",
           "linecolor": "white",
           "ticks": "",
           "title": {
            "standoff": 15
           },
           "zerolinecolor": "white",
           "zerolinewidth": 2
          },
          "yaxis": {
           "automargin": true,
           "gridcolor": "white",
           "linecolor": "white",
           "ticks": "",
           "title": {
            "standoff": 15
           },
           "zerolinecolor": "white",
           "zerolinewidth": 2
          }
         }
        }
       }
      },
      "text/html": "<div>\n        \n        \n            <div id=\"0c11a43d-85e0-4041-ae24-9807452291b6\" class=\"plotly-graph-div\" style=\"height:525px; width:100%;\"></div>\n            <script type=\"text/javascript\">\n                require([\"plotly\"], function(Plotly) {\n                    window.PLOTLYENV=window.PLOTLYENV || {};\n                    \n                if (document.getElementById(\"0c11a43d-85e0-4041-ae24-9807452291b6\")) {\n                    Plotly.newPlot(\n                        '0c11a43d-85e0-4041-ae24-9807452291b6',\n                        [{\"type\": \"bar\", \"x\": [\"Food\", \"Beer\", \"Smoke\", \"Games\", \"Books\", \"Hshld\", \"Clths\", \"Hlth\", \"Chems\", \"Txtls\", \"Cnstr\", \"Steel\", \"FabPr\", \"ElcEq\", \"Autos\", \"Carry\", \"Mines\", \"Coal\", \"Oil\", \"Util\", \"Telcm\", \"Servs\", \"BusEq\", \"Paper\", \"Trans\", \"Whlsl\", \"Rtail\", \"Meals\", \"Fin\", \"Other\"], \"y\": [0.6238888726110311, 0.5229416709891993, 0.5467388021135259, 0.34914205076698884, 0.334344143032585, 0.5171027569793124, 0.37067256098314916, 0.6048925342773624, 0.42270169036616684, 0.2836968370668817, 0.361267534815597, 0.1889286621627789, 0.3677455304555986, 0.43673328679963547, 0.2897316300261826, 0.4435773506552378, 0.2021235522478556, 0.19265809105392265, 0.478819284363869, 0.5818587628314476, 0.4513401949217758, 0.43936006566556884, 0.41049516675225334, 0.4925838510441811, 0.3694610464591595, 0.4145433798746313, 0.5192777227527408, 0.47949491984811266, 0.47746547457396393, 0.27290976947171514]}, {\"type\": \"bar\", \"x\": [\"Food\", \"Beer\", \"Smoke\", \"Games\", \"Books\", \"Hshld\", \"Clths\", \"Hlth\", \"Chems\", \"Txtls\", \"Cnstr\", \"Steel\", \"FabPr\", \"ElcEq\", \"Autos\", \"Carry\", \"Mines\", \"Coal\", \"Oil\", \"Util\", \"Telcm\", \"Servs\", \"BusEq\", \"Paper\", \"Trans\", \"Whlsl\", \"Rtail\", \"Meals\", \"Fin\", \"Other\"], \"y\": [0.6437775874432025, 0.5432973114391866, 0.6253167249287916, 0.31683456650714853, 0.4311092645122628, 0.38410283630235725, 0.3760979927081378, 0.5404149790992476, 0.5112122209063144, 0.25551797742533905, 0.41457715352816615, 0.34254221132897117, 0.47680282948927916, 0.36721602830330075, 0.3303445915623, 0.533479277370071, 0.24765609219919832, 0.08714406988804607, 0.346294840774002, 0.8316639906024937, 0.43239269382268825, 0.4635163147964535, 0.4104075876356707, 0.5211499726072866, 0.4036222047975182, 0.4241679181070598, 0.4176131604492976, 0.3434421952734258, 0.651270944397564, 0.4640158335056425]}],\n                        {\"template\": {\"data\": {\"bar\": [{\"error_x\": {\"color\": \"#2a3f5f\"}, \"error_y\": {\"color\": \"#2a3f5f\"}, \"marker\": {\"line\": {\"color\": \"#E5ECF6\", \"width\": 0.5}}, \"type\": \"bar\"}], \"barpolar\": [{\"marker\": {\"line\": {\"color\": \"#E5ECF6\", \"width\": 0.5}}, \"type\": \"barpolar\"}], \"carpet\": [{\"aaxis\": {\"endlinecolor\": \"#2a3f5f\", \"gridcolor\": \"white\", \"linecolor\": \"white\", \"minorgridcolor\": \"white\", \"startlinecolor\": \"#2a3f5f\"}, \"baxis\": {\"endlinecolor\": \"#2a3f5f\", \"gridcolor\": \"white\", \"linecolor\": \"white\", \"minorgridcolor\": \"white\", \"startlinecolor\": \"#2a3f5f\"}, \"type\": \"carpet\"}], \"choropleth\": [{\"colorbar\": {\"outlinewidth\": 0, \"ticks\": \"\"}, \"type\": \"choropleth\"}], \"contour\": [{\"colorbar\": {\"outlinewidth\": 0, \"ticks\": \"\"}, \"colorscale\": [[0.0, \"#0d0887\"], [0.1111111111111111, \"#46039f\"], [0.2222222222222222, \"#7201a8\"], [0.3333333333333333, \"#9c179e\"], [0.4444444444444444, \"#bd3786\"], [0.5555555555555556, \"#d8576b\"], [0.6666666666666666, \"#ed7953\"], [0.7777777777777778, \"#fb9f3a\"], [0.8888888888888888, \"#fdca26\"], [1.0, \"#f0f921\"]], \"type\": \"contour\"}], \"contourcarpet\": [{\"colorbar\": {\"outlinewidth\": 0, \"ticks\": \"\"}, \"type\": \"contourcarpet\"}], \"heatmap\": [{\"colorbar\": {\"outlinewidth\": 0, \"ticks\": \"\"}, \"colorscale\": [[0.0, \"#0d0887\"], [0.1111111111111111, \"#46039f\"], [0.2222222222222222, \"#7201a8\"], [0.3333333333333333, \"#9c179e\"], [0.4444444444444444, \"#bd3786\"], [0.5555555555555556, \"#d8576b\"], [0.6666666666666666, \"#ed7953\"], [0.7777777777777778, \"#fb9f3a\"], [0.8888888888888888, \"#fdca26\"], [1.0, \"#f0f921\"]], \"type\": \"heatmap\"}], \"heatmapgl\": [{\"colorbar\": {\"outlinewidth\": 0, \"ticks\": \"\"}, \"colorscale\": [[0.0, \"#0d0887\"], [0.1111111111111111, \"#46039f\"], [0.2222222222222222, \"#7201a8\"], [0.3333333333333333, \"#9c179e\"], [0.4444444444444444, \"#bd3786\"], [0.5555555555555556, \"#d8576b\"], [0.6666666666666666, \"#ed7953\"], [0.7777777777777778, \"#fb9f3a\"], [0.8888888888888888, \"#fdca26\"], [1.0, \"#f0f921\"]], \"type\": \"heatmapgl\"}], \"histogram\": [{\"marker\": {\"colorbar\": {\"outlinewidth\": 0, \"ticks\": \"\"}}, \"type\": \"histogram\"}], \"histogram2d\": [{\"colorbar\": {\"outlinewidth\": 0, \"ticks\": \"\"}, \"colorscale\": [[0.0, \"#0d0887\"], [0.1111111111111111, \"#46039f\"], [0.2222222222222222, \"#7201a8\"], [0.3333333333333333, \"#9c179e\"], [0.4444444444444444, \"#bd3786\"], [0.5555555555555556, \"#d8576b\"], [0.6666666666666666, \"#ed7953\"], [0.7777777777777778, \"#fb9f3a\"], [0.8888888888888888, \"#fdca26\"], [1.0, \"#f0f921\"]], \"type\": \"histogram2d\"}], \"histogram2dcontour\": [{\"colorbar\": {\"outlinewidth\": 0, \"ticks\": \"\"}, \"colorscale\": [[0.0, \"#0d0887\"], [0.1111111111111111, \"#46039f\"], [0.2222222222222222, \"#7201a8\"], [0.3333333333333333, \"#9c179e\"], [0.4444444444444444, \"#bd3786\"], [0.5555555555555556, \"#d8576b\"], [0.6666666666666666, \"#ed7953\"], [0.7777777777777778, \"#fb9f3a\"], [0.8888888888888888, \"#fdca26\"], [1.0, \"#f0f921\"]], \"type\": \"histogram2dcontour\"}], \"mesh3d\": [{\"colorbar\": {\"outlinewidth\": 0, \"ticks\": \"\"}, \"type\": \"mesh3d\"}], \"parcoords\": [{\"line\": {\"colorbar\": {\"outlinewidth\": 0, \"ticks\": \"\"}}, \"type\": \"parcoords\"}], \"pie\": [{\"automargin\": true, \"type\": \"pie\"}], \"scatter\": [{\"marker\": {\"colorbar\": {\"outlinewidth\": 0, \"ticks\": \"\"}}, \"type\": \"scatter\"}], \"scatter3d\": [{\"line\": {\"colorbar\": {\"outlinewidth\": 0, \"ticks\": \"\"}}, \"marker\": {\"colorbar\": {\"outlinewidth\": 0, \"ticks\": \"\"}}, \"type\": \"scatter3d\"}], \"scattercarpet\": [{\"marker\": {\"colorbar\": {\"outlinewidth\": 0, \"ticks\": \"\"}}, \"type\": \"scattercarpet\"}], \"scattergeo\": [{\"marker\": {\"colorbar\": {\"outlinewidth\": 0, \"ticks\": \"\"}}, \"type\": \"scattergeo\"}], \"scattergl\": [{\"marker\": {\"colorbar\": {\"outlinewidth\": 0, \"ticks\": \"\"}}, \"type\": \"scattergl\"}], \"scattermapbox\": [{\"marker\": {\"colorbar\": {\"outlinewidth\": 0, \"ticks\": \"\"}}, \"type\": \"scattermapbox\"}], \"scatterpolar\": [{\"marker\": {\"colorbar\": {\"outlinewidth\": 0, \"ticks\": \"\"}}, \"type\": \"scatterpolar\"}], \"scatterpolargl\": [{\"marker\": {\"colorbar\": {\"outlinewidth\": 0, \"ticks\": \"\"}}, \"type\": \"scatterpolargl\"}], \"scatterternary\": [{\"marker\": {\"colorbar\": {\"outlinewidth\": 0, \"ticks\": \"\"}}, \"type\": \"scatterternary\"}], \"surface\": [{\"colorbar\": {\"outlinewidth\": 0, \"ticks\": \"\"}, \"colorscale\": [[0.0, \"#0d0887\"], [0.1111111111111111, \"#46039f\"], [0.2222222222222222, \"#7201a8\"], [0.3333333333333333, \"#9c179e\"], [0.4444444444444444, \"#bd3786\"], [0.5555555555555556, \"#d8576b\"], [0.6666666666666666, \"#ed7953\"], [0.7777777777777778, \"#fb9f3a\"], [0.8888888888888888, \"#fdca26\"], [1.0, \"#f0f921\"]], \"type\": \"surface\"}], \"table\": [{\"cells\": {\"fill\": {\"color\": \"#EBF0F8\"}, \"line\": {\"color\": \"white\"}}, \"header\": {\"fill\": {\"color\": \"#C8D4E3\"}, \"line\": {\"color\": \"white\"}}, \"type\": \"table\"}]}, \"layout\": {\"annotationdefaults\": {\"arrowcolor\": \"#2a3f5f\", \"arrowhead\": 0, \"arrowwidth\": 1}, \"coloraxis\": {\"colorbar\": {\"outlinewidth\": 0, \"ticks\": \"\"}}, \"colorscale\": {\"diverging\": [[0, \"#8e0152\"], [0.1, \"#c51b7d\"], [0.2, \"#de77ae\"], [0.3, \"#f1b6da\"], [0.4, \"#fde0ef\"], [0.5, \"#f7f7f7\"], [0.6, \"#e6f5d0\"], [0.7, \"#b8e186\"], [0.8, \"#7fbc41\"], [0.9, \"#4d9221\"], [1, \"#276419\"]], \"sequential\": [[0.0, \"#0d0887\"], [0.1111111111111111, \"#46039f\"], [0.2222222222222222, \"#7201a8\"], [0.3333333333333333, \"#9c179e\"], [0.4444444444444444, \"#bd3786\"], [0.5555555555555556, \"#d8576b\"], [0.6666666666666666, \"#ed7953\"], [0.7777777777777778, \"#fb9f3a\"], [0.8888888888888888, \"#fdca26\"], [1.0, \"#f0f921\"]], \"sequentialminus\": [[0.0, \"#0d0887\"], [0.1111111111111111, \"#46039f\"], [0.2222222222222222, \"#7201a8\"], [0.3333333333333333, \"#9c179e\"], [0.4444444444444444, \"#bd3786\"], [0.5555555555555556, \"#d8576b\"], [0.6666666666666666, \"#ed7953\"], [0.7777777777777778, \"#fb9f3a\"], [0.8888888888888888, \"#fdca26\"], [1.0, \"#f0f921\"]]}, \"colorway\": [\"#636efa\", \"#EF553B\", \"#00cc96\", \"#ab63fa\", \"#FFA15A\", \"#19d3f3\", \"#FF6692\", \"#B6E880\", \"#FF97FF\", \"#FECB52\"], \"font\": {\"color\": \"#2a3f5f\"}, \"geo\": {\"bgcolor\": \"white\", \"lakecolor\": \"white\", \"landcolor\": \"#E5ECF6\", \"showlakes\": true, \"showland\": true, \"subunitcolor\": \"white\"}, \"hoverlabel\": {\"align\": \"left\"}, \"hovermode\": \"closest\", \"mapbox\": {\"style\": \"light\"}, \"paper_bgcolor\": \"white\", \"plot_bgcolor\": \"#E5ECF6\", \"polar\": {\"angularaxis\": {\"gridcolor\": \"white\", \"linecolor\": \"white\", \"ticks\": \"\"}, \"bgcolor\": \"#E5ECF6\", \"radialaxis\": {\"gridcolor\": \"white\", \"linecolor\": \"white\", \"ticks\": \"\"}}, \"scene\": {\"xaxis\": {\"backgroundcolor\": \"#E5ECF6\", \"gridcolor\": \"white\", \"gridwidth\": 2, \"linecolor\": \"white\", \"showbackground\": true, \"ticks\": \"\", \"zerolinecolor\": \"white\"}, \"yaxis\": {\"backgroundcolor\": \"#E5ECF6\", \"gridcolor\": \"white\", \"gridwidth\": 2, \"linecolor\": \"white\", \"showbackground\": true, \"ticks\": \"\", \"zerolinecolor\": \"white\"}, \"zaxis\": {\"backgroundcolor\": \"#E5ECF6\", \"gridcolor\": \"white\", \"gridwidth\": 2, \"linecolor\": \"white\", \"showbackground\": true, \"ticks\": \"\", \"zerolinecolor\": \"white\"}}, \"shapedefaults\": {\"line\": {\"color\": \"#2a3f5f\"}}, \"ternary\": {\"aaxis\": {\"gridcolor\": \"white\", \"linecolor\": \"white\", \"ticks\": \"\"}, \"baxis\": {\"gridcolor\": \"white\", \"linecolor\": \"white\", \"ticks\": \"\"}, \"bgcolor\": \"#E5ECF6\", \"caxis\": {\"gridcolor\": \"white\", \"linecolor\": \"white\", \"ticks\": \"\"}}, \"title\": {\"x\": 0.05}, \"xaxis\": {\"automargin\": true, \"gridcolor\": \"white\", \"linecolor\": \"white\", \"ticks\": \"\", \"title\": {\"standoff\": 15}, \"zerolinecolor\": \"white\", \"zerolinewidth\": 2}, \"yaxis\": {\"automargin\": true, \"gridcolor\": \"white\", \"linecolor\": \"white\", \"ticks\": \"\", \"title\": {\"standoff\": 15}, \"zerolinecolor\": \"white\", \"zerolinewidth\": 2}}}},\n                        {\"responsive\": true}\n                    ).then(function(){\n                            \nvar gd = document.getElementById('0c11a43d-85e0-4041-ae24-9807452291b6');\nvar x = new MutationObserver(function (mutations, observer) {{\n        var display = window.getComputedStyle(gd).display;\n        if (!display || display === 'none') {{\n            console.log([gd, 'removed!']);\n            Plotly.purge(gd);\n            observer.disconnect();\n        }}\n}});\n\n// Listen for the removal of the full notebook cells\nvar notebookContainer = gd.closest('#notebook-container');\nif (notebookContainer) {{\n    x.observe(notebookContainer, {childList: true});\n}}\n\n// Listen for the clearing of the current output cell\nvar outputEl = gd.closest('.output');\nif (outputEl) {{\n    x.observe(outputEl, {childList: true});\n}}\n\n                        })\n                };\n                });\n            </script>\n        </div>"
     },
     "metadata": {},
     "output_type": "display_data"
    }
   ],
   "source": [
    "sr_data = [go.Bar(x=sharpe_ratio_df.index,\n",
    "                  y=sharpe_ratio_df[col]) for col in sharpe_ratio_df.columns]\n",
    "pyo.iplot(sr_data)"
   ],
   "metadata": {
    "collapsed": false,
    "pycharm": {
     "name": "#%%\n"
    }
   }
  },
  {
   "cell_type": "markdown",
   "source": [
    "% OF CASES WHERE SR(EW) > SR(VW)\n",
    "\n",
    "\n"
   ],
   "metadata": {
    "collapsed": false,
    "pycharm": {
     "name": "#%% md\n"
    }
   }
  },
  {
   "cell_type": "code",
   "execution_count": 11,
   "outputs": [
    {
     "data": {
      "text/plain": "0.6333333333333333"
     },
     "execution_count": 11,
     "metadata": {},
     "output_type": "execute_result"
    }
   ],
   "source": [
    "(sharpe_ratio_df['EW'] > sharpe_ratio_df['VW']).sum()/sharpe_ratio_df.shape[0]"
   ],
   "metadata": {
    "collapsed": false,
    "pycharm": {
     "name": "#%%\n"
    }
   }
  },
  {
   "cell_type": "markdown",
   "source": [
    "ROLLING WINDOW SR CALC FOR VW AND EW MARKET PF\n",
    "\n",
    "\n"
   ],
   "metadata": {
    "collapsed": false,
    "pycharm": {
     "name": "#%% md\n"
    }
   }
  },
  {
   "cell_type": "code",
   "execution_count": 12,
   "outputs": [],
   "source": [
    "sharpe_ratio_rolling_df = pd.DataFrame({\n",
    "    'VW': ind_vw.rolling(window='1825D').apply(erk.risk_info, kwargs={'only_sharpe': True, 'rf': 0.03}, raw=True).mean(axis=1)['1945':].dropna(),\n",
    "    'EW': ind_ew.rolling(window='1825D').apply(erk.risk_info, kwargs={'only_sharpe': True, 'rf': 0.03}, raw=True).mean(axis=1)['1945':].dropna()\n",
    "})\n"
   ],
   "metadata": {
    "collapsed": false,
    "pycharm": {
     "name": "#%%\n"
    }
   }
  },
  {
   "cell_type": "markdown",
   "source": [
    "PLOT ROLLING SR\n",
    "\n",
    "\n"
   ],
   "metadata": {
    "collapsed": false,
    "pycharm": {
     "name": "#%% md\n"
    }
   }
  },
  {
   "cell_type": "code",
   "execution_count": 13,
   "outputs": [
    {
     "data": {
      "application/vnd.plotly.v1+json": {
       "config": {
        "linkText": "Export to plot.ly",
        "plotlyServerURL": "https://plot.ly",
        "showLink": false
       },
       "data": [
        {
         "name": "VW",
         "type": "scatter",
         "x": [
          "1945-01-01T00:00:00",
          "1945-02-01T00:00:00",
          "1945-03-01T00:00:00",
          "1945-04-01T00:00:00",
          "1945-05-01T00:00:00",
          "1945-06-01T00:00:00",
          "1945-07-01T00:00:00",
          "1945-08-01T00:00:00",
          "1945-09-01T00:00:00",
          "1945-10-01T00:00:00",
          "1945-11-01T00:00:00",
          "1945-12-01T00:00:00",
          "1946-01-01T00:00:00",
          "1946-02-01T00:00:00",
          "1946-03-01T00:00:00",
          "1946-04-01T00:00:00",
          "1946-05-01T00:00:00",
          "1946-06-01T00:00:00",
          "1946-07-01T00:00:00",
          "1946-08-01T00:00:00",
          "1946-09-01T00:00:00",
          "1946-10-01T00:00:00",
          "1946-11-01T00:00:00",
          "1946-12-01T00:00:00",
          "1947-01-01T00:00:00",
          "1947-02-01T00:00:00",
          "1947-03-01T00:00:00",
          "1947-04-01T00:00:00",
          "1947-05-01T00:00:00",
          "1947-06-01T00:00:00",
          "1947-07-01T00:00:00",
          "1947-08-01T00:00:00",
          "1947-09-01T00:00:00",
          "1947-10-01T00:00:00",
          "1947-11-01T00:00:00",
          "1947-12-01T00:00:00",
          "1948-01-01T00:00:00",
          "1948-02-01T00:00:00",
          "1948-03-01T00:00:00",
          "1948-04-01T00:00:00",
          "1948-05-01T00:00:00",
          "1948-06-01T00:00:00",
          "1948-07-01T00:00:00",
          "1948-08-01T00:00:00",
          "1948-09-01T00:00:00",
          "1948-10-01T00:00:00",
          "1948-11-01T00:00:00",
          "1948-12-01T00:00:00",
          "1949-01-01T00:00:00",
          "1949-02-01T00:00:00",
          "1949-03-01T00:00:00",
          "1949-04-01T00:00:00",
          "1949-05-01T00:00:00",
          "1949-06-01T00:00:00",
          "1949-07-01T00:00:00",
          "1949-08-01T00:00:00",
          "1949-09-01T00:00:00",
          "1949-10-01T00:00:00",
          "1949-11-01T00:00:00",
          "1949-12-01T00:00:00",
          "1950-01-01T00:00:00",
          "1950-02-01T00:00:00",
          "1950-03-01T00:00:00",
          "1950-04-01T00:00:00",
          "1950-05-01T00:00:00",
          "1950-06-01T00:00:00",
          "1950-07-01T00:00:00",
          "1950-08-01T00:00:00",
          "1950-09-01T00:00:00",
          "1950-10-01T00:00:00",
          "1950-11-01T00:00:00",
          "1950-12-01T00:00:00",
          "1951-01-01T00:00:00",
          "1951-02-01T00:00:00",
          "1951-03-01T00:00:00",
          "1951-04-01T00:00:00",
          "1951-05-01T00:00:00",
          "1951-06-01T00:00:00",
          "1951-07-01T00:00:00",
          "1951-08-01T00:00:00",
          "1951-09-01T00:00:00",
          "1951-10-01T00:00:00",
          "1951-11-01T00:00:00",
          "1951-12-01T00:00:00",
          "1952-01-01T00:00:00",
          "1952-02-01T00:00:00",
          "1952-03-01T00:00:00",
          "1952-04-01T00:00:00",
          "1952-05-01T00:00:00",
          "1952-06-01T00:00:00",
          "1952-07-01T00:00:00",
          "1952-08-01T00:00:00",
          "1952-09-01T00:00:00",
          "1952-10-01T00:00:00",
          "1952-11-01T00:00:00",
          "1952-12-01T00:00:00",
          "1953-01-01T00:00:00",
          "1953-02-01T00:00:00",
          "1953-03-01T00:00:00",
          "1953-04-01T00:00:00",
          "1953-05-01T00:00:00",
          "1953-06-01T00:00:00",
          "1953-07-01T00:00:00",
          "1953-08-01T00:00:00",
          "1953-09-01T00:00:00",
          "1953-10-01T00:00:00",
          "1953-11-01T00:00:00",
          "1953-12-01T00:00:00",
          "1954-01-01T00:00:00",
          "1954-02-01T00:00:00",
          "1954-03-01T00:00:00",
          "1954-04-01T00:00:00",
          "1954-05-01T00:00:00",
          "1954-06-01T00:00:00",
          "1954-07-01T00:00:00",
          "1954-08-01T00:00:00",
          "1954-09-01T00:00:00",
          "1954-10-01T00:00:00",
          "1954-11-01T00:00:00",
          "1954-12-01T00:00:00",
          "1955-01-01T00:00:00",
          "1955-02-01T00:00:00",
          "1955-03-01T00:00:00",
          "1955-04-01T00:00:00",
          "1955-05-01T00:00:00",
          "1955-06-01T00:00:00",
          "1955-07-01T00:00:00",
          "1955-08-01T00:00:00",
          "1955-09-01T00:00:00",
          "1955-10-01T00:00:00",
          "1955-11-01T00:00:00",
          "1955-12-01T00:00:00",
          "1956-01-01T00:00:00",
          "1956-02-01T00:00:00",
          "1956-03-01T00:00:00",
          "1956-04-01T00:00:00",
          "1956-05-01T00:00:00",
          "1956-06-01T00:00:00",
          "1956-07-01T00:00:00",
          "1956-08-01T00:00:00",
          "1956-09-01T00:00:00",
          "1956-10-01T00:00:00",
          "1956-11-01T00:00:00",
          "1956-12-01T00:00:00",
          "1957-01-01T00:00:00",
          "1957-02-01T00:00:00",
          "1957-03-01T00:00:00",
          "1957-04-01T00:00:00",
          "1957-05-01T00:00:00",
          "1957-06-01T00:00:00",
          "1957-07-01T00:00:00",
          "1957-08-01T00:00:00",
          "1957-09-01T00:00:00",
          "1957-10-01T00:00:00",
          "1957-11-01T00:00:00",
          "1957-12-01T00:00:00",
          "1958-01-01T00:00:00",
          "1958-02-01T00:00:00",
          "1958-03-01T00:00:00",
          "1958-04-01T00:00:00",
          "1958-05-01T00:00:00",
          "1958-06-01T00:00:00",
          "1958-07-01T00:00:00",
          "1958-08-01T00:00:00",
          "1958-09-01T00:00:00",
          "1958-10-01T00:00:00",
          "1958-11-01T00:00:00",
          "1958-12-01T00:00:00",
          "1959-01-01T00:00:00",
          "1959-02-01T00:00:00",
          "1959-03-01T00:00:00",
          "1959-04-01T00:00:00",
          "1959-05-01T00:00:00",
          "1959-06-01T00:00:00",
          "1959-07-01T00:00:00",
          "1959-08-01T00:00:00",
          "1959-09-01T00:00:00",
          "1959-10-01T00:00:00",
          "1959-11-01T00:00:00",
          "1959-12-01T00:00:00",
          "1960-01-01T00:00:00",
          "1960-02-01T00:00:00",
          "1960-03-01T00:00:00",
          "1960-04-01T00:00:00",
          "1960-05-01T00:00:00",
          "1960-06-01T00:00:00",
          "1960-07-01T00:00:00",
          "1960-08-01T00:00:00",
          "1960-09-01T00:00:00",
          "1960-10-01T00:00:00",
          "1960-11-01T00:00:00",
          "1960-12-01T00:00:00",
          "1961-01-01T00:00:00",
          "1961-02-01T00:00:00",
          "1961-03-01T00:00:00",
          "1961-04-01T00:00:00",
          "1961-05-01T00:00:00",
          "1961-06-01T00:00:00",
          "1961-07-01T00:00:00",
          "1961-08-01T00:00:00",
          "1961-09-01T00:00:00",
          "1961-10-01T00:00:00",
          "1961-11-01T00:00:00",
          "1961-12-01T00:00:00",
          "1962-01-01T00:00:00",
          "1962-02-01T00:00:00",
          "1962-03-01T00:00:00",
          "1962-04-01T00:00:00",
          "1962-05-01T00:00:00",
          "1962-06-01T00:00:00",
          "1962-07-01T00:00:00",
          "1962-08-01T00:00:00",
          "1962-09-01T00:00:00",
          "1962-10-01T00:00:00",
          "1962-11-01T00:00:00",
          "1962-12-01T00:00:00",
          "1963-01-01T00:00:00",
          "1963-02-01T00:00:00",
          "1963-03-01T00:00:00",
          "1963-04-01T00:00:00",
          "1963-05-01T00:00:00",
          "1963-06-01T00:00:00",
          "1963-07-01T00:00:00",
          "1963-08-01T00:00:00",
          "1963-09-01T00:00:00",
          "1963-10-01T00:00:00",
          "1963-11-01T00:00:00",
          "1963-12-01T00:00:00",
          "1964-01-01T00:00:00",
          "1964-02-01T00:00:00",
          "1964-03-01T00:00:00",
          "1964-04-01T00:00:00",
          "1964-05-01T00:00:00",
          "1964-06-01T00:00:00",
          "1964-07-01T00:00:00",
          "1964-08-01T00:00:00",
          "1964-09-01T00:00:00",
          "1964-10-01T00:00:00",
          "1964-11-01T00:00:00",
          "1964-12-01T00:00:00",
          "1965-01-01T00:00:00",
          "1965-02-01T00:00:00",
          "1965-03-01T00:00:00",
          "1965-04-01T00:00:00",
          "1965-05-01T00:00:00",
          "1965-06-01T00:00:00",
          "1965-07-01T00:00:00",
          "1965-08-01T00:00:00",
          "1965-09-01T00:00:00",
          "1965-10-01T00:00:00",
          "1965-11-01T00:00:00",
          "1965-12-01T00:00:00",
          "1966-01-01T00:00:00",
          "1966-02-01T00:00:00",
          "1966-03-01T00:00:00",
          "1966-04-01T00:00:00",
          "1966-05-01T00:00:00",
          "1966-06-01T00:00:00",
          "1966-07-01T00:00:00",
          "1966-08-01T00:00:00",
          "1966-09-01T00:00:00",
          "1966-10-01T00:00:00",
          "1966-11-01T00:00:00",
          "1966-12-01T00:00:00",
          "1967-01-01T00:00:00",
          "1967-02-01T00:00:00",
          "1967-03-01T00:00:00",
          "1967-04-01T00:00:00",
          "1967-05-01T00:00:00",
          "1967-06-01T00:00:00",
          "1967-07-01T00:00:00",
          "1967-08-01T00:00:00",
          "1967-09-01T00:00:00",
          "1967-10-01T00:00:00",
          "1967-11-01T00:00:00",
          "1967-12-01T00:00:00",
          "1968-01-01T00:00:00",
          "1968-02-01T00:00:00",
          "1968-03-01T00:00:00",
          "1968-04-01T00:00:00",
          "1968-05-01T00:00:00",
          "1968-06-01T00:00:00",
          "1968-07-01T00:00:00",
          "1968-08-01T00:00:00",
          "1968-09-01T00:00:00",
          "1968-10-01T00:00:00",
          "1968-11-01T00:00:00",
          "1968-12-01T00:00:00",
          "1969-01-01T00:00:00",
          "1969-02-01T00:00:00",
          "1969-03-01T00:00:00",
          "1969-04-01T00:00:00",
          "1969-05-01T00:00:00",
          "1969-06-01T00:00:00",
          "1969-07-01T00:00:00",
          "1969-08-01T00:00:00",
          "1969-09-01T00:00:00",
          "1969-10-01T00:00:00",
          "1969-11-01T00:00:00",
          "1969-12-01T00:00:00",
          "1970-01-01T00:00:00",
          "1970-02-01T00:00:00",
          "1970-03-01T00:00:00",
          "1970-04-01T00:00:00",
          "1970-05-01T00:00:00",
          "1970-06-01T00:00:00",
          "1970-07-01T00:00:00",
          "1970-08-01T00:00:00",
          "1970-09-01T00:00:00",
          "1970-10-01T00:00:00",
          "1970-11-01T00:00:00",
          "1970-12-01T00:00:00",
          "1971-01-01T00:00:00",
          "1971-02-01T00:00:00",
          "1971-03-01T00:00:00",
          "1971-04-01T00:00:00",
          "1971-05-01T00:00:00",
          "1971-06-01T00:00:00",
          "1971-07-01T00:00:00",
          "1971-08-01T00:00:00",
          "1971-09-01T00:00:00",
          "1971-10-01T00:00:00",
          "1971-11-01T00:00:00",
          "1971-12-01T00:00:00",
          "1972-01-01T00:00:00",
          "1972-02-01T00:00:00",
          "1972-03-01T00:00:00",
          "1972-04-01T00:00:00",
          "1972-05-01T00:00:00",
          "1972-06-01T00:00:00",
          "1972-07-01T00:00:00",
          "1972-08-01T00:00:00",
          "1972-09-01T00:00:00",
          "1972-10-01T00:00:00",
          "1972-11-01T00:00:00",
          "1972-12-01T00:00:00",
          "1973-01-01T00:00:00",
          "1973-02-01T00:00:00",
          "1973-03-01T00:00:00",
          "1973-04-01T00:00:00",
          "1973-05-01T00:00:00",
          "1973-06-01T00:00:00",
          "1973-07-01T00:00:00",
          "1973-08-01T00:00:00",
          "1973-09-01T00:00:00",
          "1973-10-01T00:00:00",
          "1973-11-01T00:00:00",
          "1973-12-01T00:00:00",
          "1974-01-01T00:00:00",
          "1974-02-01T00:00:00",
          "1974-03-01T00:00:00",
          "1974-04-01T00:00:00",
          "1974-05-01T00:00:00",
          "1974-06-01T00:00:00",
          "1974-07-01T00:00:00",
          "1974-08-01T00:00:00",
          "1974-09-01T00:00:00",
          "1974-10-01T00:00:00",
          "1974-11-01T00:00:00",
          "1974-12-01T00:00:00",
          "1975-01-01T00:00:00",
          "1975-02-01T00:00:00",
          "1975-03-01T00:00:00",
          "1975-04-01T00:00:00",
          "1975-05-01T00:00:00",
          "1975-06-01T00:00:00",
          "1975-07-01T00:00:00",
          "1975-08-01T00:00:00",
          "1975-09-01T00:00:00",
          "1975-10-01T00:00:00",
          "1975-11-01T00:00:00",
          "1975-12-01T00:00:00",
          "1976-01-01T00:00:00",
          "1976-02-01T00:00:00",
          "1976-03-01T00:00:00",
          "1976-04-01T00:00:00",
          "1976-05-01T00:00:00",
          "1976-06-01T00:00:00",
          "1976-07-01T00:00:00",
          "1976-08-01T00:00:00",
          "1976-09-01T00:00:00",
          "1976-10-01T00:00:00",
          "1976-11-01T00:00:00",
          "1976-12-01T00:00:00",
          "1977-01-01T00:00:00",
          "1977-02-01T00:00:00",
          "1977-03-01T00:00:00",
          "1977-04-01T00:00:00",
          "1977-05-01T00:00:00",
          "1977-06-01T00:00:00",
          "1977-07-01T00:00:00",
          "1977-08-01T00:00:00",
          "1977-09-01T00:00:00",
          "1977-10-01T00:00:00",
          "1977-11-01T00:00:00",
          "1977-12-01T00:00:00",
          "1978-01-01T00:00:00",
          "1978-02-01T00:00:00",
          "1978-03-01T00:00:00",
          "1978-04-01T00:00:00",
          "1978-05-01T00:00:00",
          "1978-06-01T00:00:00",
          "1978-07-01T00:00:00",
          "1978-08-01T00:00:00",
          "1978-09-01T00:00:00",
          "1978-10-01T00:00:00",
          "1978-11-01T00:00:00",
          "1978-12-01T00:00:00",
          "1979-01-01T00:00:00",
          "1979-02-01T00:00:00",
          "1979-03-01T00:00:00",
          "1979-04-01T00:00:00",
          "1979-05-01T00:00:00",
          "1979-06-01T00:00:00",
          "1979-07-01T00:00:00",
          "1979-08-01T00:00:00",
          "1979-09-01T00:00:00",
          "1979-10-01T00:00:00",
          "1979-11-01T00:00:00",
          "1979-12-01T00:00:00",
          "1980-01-01T00:00:00",
          "1980-02-01T00:00:00",
          "1980-03-01T00:00:00",
          "1980-04-01T00:00:00",
          "1980-05-01T00:00:00",
          "1980-06-01T00:00:00",
          "1980-07-01T00:00:00",
          "1980-08-01T00:00:00",
          "1980-09-01T00:00:00",
          "1980-10-01T00:00:00",
          "1980-11-01T00:00:00",
          "1980-12-01T00:00:00",
          "1981-01-01T00:00:00",
          "1981-02-01T00:00:00",
          "1981-03-01T00:00:00",
          "1981-04-01T00:00:00",
          "1981-05-01T00:00:00",
          "1981-06-01T00:00:00",
          "1981-07-01T00:00:00",
          "1981-08-01T00:00:00",
          "1981-09-01T00:00:00",
          "1981-10-01T00:00:00",
          "1981-11-01T00:00:00",
          "1981-12-01T00:00:00",
          "1982-01-01T00:00:00",
          "1982-02-01T00:00:00",
          "1982-03-01T00:00:00",
          "1982-04-01T00:00:00",
          "1982-05-01T00:00:00",
          "1982-06-01T00:00:00",
          "1982-07-01T00:00:00",
          "1982-08-01T00:00:00",
          "1982-09-01T00:00:00",
          "1982-10-01T00:00:00",
          "1982-11-01T00:00:00",
          "1982-12-01T00:00:00",
          "1983-01-01T00:00:00",
          "1983-02-01T00:00:00",
          "1983-03-01T00:00:00",
          "1983-04-01T00:00:00",
          "1983-05-01T00:00:00",
          "1983-06-01T00:00:00",
          "1983-07-01T00:00:00",
          "1983-08-01T00:00:00",
          "1983-09-01T00:00:00",
          "1983-10-01T00:00:00",
          "1983-11-01T00:00:00",
          "1983-12-01T00:00:00",
          "1984-01-01T00:00:00",
          "1984-02-01T00:00:00",
          "1984-03-01T00:00:00",
          "1984-04-01T00:00:00",
          "1984-05-01T00:00:00",
          "1984-06-01T00:00:00",
          "1984-07-01T00:00:00",
          "1984-08-01T00:00:00",
          "1984-09-01T00:00:00",
          "1984-10-01T00:00:00",
          "1984-11-01T00:00:00",
          "1984-12-01T00:00:00",
          "1985-01-01T00:00:00",
          "1985-02-01T00:00:00",
          "1985-03-01T00:00:00",
          "1985-04-01T00:00:00",
          "1985-05-01T00:00:00",
          "1985-06-01T00:00:00",
          "1985-07-01T00:00:00",
          "1985-08-01T00:00:00",
          "1985-09-01T00:00:00",
          "1985-10-01T00:00:00",
          "1985-11-01T00:00:00",
          "1985-12-01T00:00:00",
          "1986-01-01T00:00:00",
          "1986-02-01T00:00:00",
          "1986-03-01T00:00:00",
          "1986-04-01T00:00:00",
          "1986-05-01T00:00:00",
          "1986-06-01T00:00:00",
          "1986-07-01T00:00:00",
          "1986-08-01T00:00:00",
          "1986-09-01T00:00:00",
          "1986-10-01T00:00:00",
          "1986-11-01T00:00:00",
          "1986-12-01T00:00:00",
          "1987-01-01T00:00:00",
          "1987-02-01T00:00:00",
          "1987-03-01T00:00:00",
          "1987-04-01T00:00:00",
          "1987-05-01T00:00:00",
          "1987-06-01T00:00:00",
          "1987-07-01T00:00:00",
          "1987-08-01T00:00:00",
          "1987-09-01T00:00:00",
          "1987-10-01T00:00:00",
          "1987-11-01T00:00:00",
          "1987-12-01T00:00:00",
          "1988-01-01T00:00:00",
          "1988-02-01T00:00:00",
          "1988-03-01T00:00:00",
          "1988-04-01T00:00:00",
          "1988-05-01T00:00:00",
          "1988-06-01T00:00:00",
          "1988-07-01T00:00:00",
          "1988-08-01T00:00:00",
          "1988-09-01T00:00:00",
          "1988-10-01T00:00:00",
          "1988-11-01T00:00:00",
          "1988-12-01T00:00:00",
          "1989-01-01T00:00:00",
          "1989-02-01T00:00:00",
          "1989-03-01T00:00:00",
          "1989-04-01T00:00:00",
          "1989-05-01T00:00:00",
          "1989-06-01T00:00:00",
          "1989-07-01T00:00:00",
          "1989-08-01T00:00:00",
          "1989-09-01T00:00:00",
          "1989-10-01T00:00:00",
          "1989-11-01T00:00:00",
          "1989-12-01T00:00:00",
          "1990-01-01T00:00:00",
          "1990-02-01T00:00:00",
          "1990-03-01T00:00:00",
          "1990-04-01T00:00:00",
          "1990-05-01T00:00:00",
          "1990-06-01T00:00:00",
          "1990-07-01T00:00:00",
          "1990-08-01T00:00:00",
          "1990-09-01T00:00:00",
          "1990-10-01T00:00:00",
          "1990-11-01T00:00:00",
          "1990-12-01T00:00:00",
          "1991-01-01T00:00:00",
          "1991-02-01T00:00:00",
          "1991-03-01T00:00:00",
          "1991-04-01T00:00:00",
          "1991-05-01T00:00:00",
          "1991-06-01T00:00:00",
          "1991-07-01T00:00:00",
          "1991-08-01T00:00:00",
          "1991-09-01T00:00:00",
          "1991-10-01T00:00:00",
          "1991-11-01T00:00:00",
          "1991-12-01T00:00:00",
          "1992-01-01T00:00:00",
          "1992-02-01T00:00:00",
          "1992-03-01T00:00:00",
          "1992-04-01T00:00:00",
          "1992-05-01T00:00:00",
          "1992-06-01T00:00:00",
          "1992-07-01T00:00:00",
          "1992-08-01T00:00:00",
          "1992-09-01T00:00:00",
          "1992-10-01T00:00:00",
          "1992-11-01T00:00:00",
          "1992-12-01T00:00:00",
          "1993-01-01T00:00:00",
          "1993-02-01T00:00:00",
          "1993-03-01T00:00:00",
          "1993-04-01T00:00:00",
          "1993-05-01T00:00:00",
          "1993-06-01T00:00:00",
          "1993-07-01T00:00:00",
          "1993-08-01T00:00:00",
          "1993-09-01T00:00:00",
          "1993-10-01T00:00:00",
          "1993-11-01T00:00:00",
          "1993-12-01T00:00:00",
          "1994-01-01T00:00:00",
          "1994-02-01T00:00:00",
          "1994-03-01T00:00:00",
          "1994-04-01T00:00:00",
          "1994-05-01T00:00:00",
          "1994-06-01T00:00:00",
          "1994-07-01T00:00:00",
          "1994-08-01T00:00:00",
          "1994-09-01T00:00:00",
          "1994-10-01T00:00:00",
          "1994-11-01T00:00:00",
          "1994-12-01T00:00:00",
          "1995-01-01T00:00:00",
          "1995-02-01T00:00:00",
          "1995-03-01T00:00:00",
          "1995-04-01T00:00:00",
          "1995-05-01T00:00:00",
          "1995-06-01T00:00:00",
          "1995-07-01T00:00:00",
          "1995-08-01T00:00:00",
          "1995-09-01T00:00:00",
          "1995-10-01T00:00:00",
          "1995-11-01T00:00:00",
          "1995-12-01T00:00:00",
          "1996-01-01T00:00:00",
          "1996-02-01T00:00:00",
          "1996-03-01T00:00:00",
          "1996-04-01T00:00:00",
          "1996-05-01T00:00:00",
          "1996-06-01T00:00:00",
          "1996-07-01T00:00:00",
          "1996-08-01T00:00:00",
          "1996-09-01T00:00:00",
          "1996-10-01T00:00:00",
          "1996-11-01T00:00:00",
          "1996-12-01T00:00:00",
          "1997-01-01T00:00:00",
          "1997-02-01T00:00:00",
          "1997-03-01T00:00:00",
          "1997-04-01T00:00:00",
          "1997-05-01T00:00:00",
          "1997-06-01T00:00:00",
          "1997-07-01T00:00:00",
          "1997-08-01T00:00:00",
          "1997-09-01T00:00:00",
          "1997-10-01T00:00:00",
          "1997-11-01T00:00:00",
          "1997-12-01T00:00:00",
          "1998-01-01T00:00:00",
          "1998-02-01T00:00:00",
          "1998-03-01T00:00:00",
          "1998-04-01T00:00:00",
          "1998-05-01T00:00:00",
          "1998-06-01T00:00:00",
          "1998-07-01T00:00:00",
          "1998-08-01T00:00:00",
          "1998-09-01T00:00:00",
          "1998-10-01T00:00:00",
          "1998-11-01T00:00:00",
          "1998-12-01T00:00:00",
          "1999-01-01T00:00:00",
          "1999-02-01T00:00:00",
          "1999-03-01T00:00:00",
          "1999-04-01T00:00:00",
          "1999-05-01T00:00:00",
          "1999-06-01T00:00:00",
          "1999-07-01T00:00:00",
          "1999-08-01T00:00:00",
          "1999-09-01T00:00:00",
          "1999-10-01T00:00:00",
          "1999-11-01T00:00:00",
          "1999-12-01T00:00:00",
          "2000-01-01T00:00:00",
          "2000-02-01T00:00:00",
          "2000-03-01T00:00:00",
          "2000-04-01T00:00:00",
          "2000-05-01T00:00:00",
          "2000-06-01T00:00:00",
          "2000-07-01T00:00:00",
          "2000-08-01T00:00:00",
          "2000-09-01T00:00:00",
          "2000-10-01T00:00:00",
          "2000-11-01T00:00:00",
          "2000-12-01T00:00:00",
          "2001-01-01T00:00:00",
          "2001-02-01T00:00:00",
          "2001-03-01T00:00:00",
          "2001-04-01T00:00:00",
          "2001-05-01T00:00:00",
          "2001-06-01T00:00:00",
          "2001-07-01T00:00:00",
          "2001-08-01T00:00:00",
          "2001-09-01T00:00:00",
          "2001-10-01T00:00:00",
          "2001-11-01T00:00:00",
          "2001-12-01T00:00:00",
          "2002-01-01T00:00:00",
          "2002-02-01T00:00:00",
          "2002-03-01T00:00:00",
          "2002-04-01T00:00:00",
          "2002-05-01T00:00:00",
          "2002-06-01T00:00:00",
          "2002-07-01T00:00:00",
          "2002-08-01T00:00:00",
          "2002-09-01T00:00:00",
          "2002-10-01T00:00:00",
          "2002-11-01T00:00:00",
          "2002-12-01T00:00:00",
          "2003-01-01T00:00:00",
          "2003-02-01T00:00:00",
          "2003-03-01T00:00:00",
          "2003-04-01T00:00:00",
          "2003-05-01T00:00:00",
          "2003-06-01T00:00:00",
          "2003-07-01T00:00:00",
          "2003-08-01T00:00:00",
          "2003-09-01T00:00:00",
          "2003-10-01T00:00:00",
          "2003-11-01T00:00:00",
          "2003-12-01T00:00:00",
          "2004-01-01T00:00:00",
          "2004-02-01T00:00:00",
          "2004-03-01T00:00:00",
          "2004-04-01T00:00:00",
          "2004-05-01T00:00:00",
          "2004-06-01T00:00:00",
          "2004-07-01T00:00:00",
          "2004-08-01T00:00:00",
          "2004-09-01T00:00:00",
          "2004-10-01T00:00:00",
          "2004-11-01T00:00:00",
          "2004-12-01T00:00:00",
          "2005-01-01T00:00:00",
          "2005-02-01T00:00:00",
          "2005-03-01T00:00:00",
          "2005-04-01T00:00:00",
          "2005-05-01T00:00:00",
          "2005-06-01T00:00:00",
          "2005-07-01T00:00:00",
          "2005-08-01T00:00:00",
          "2005-09-01T00:00:00",
          "2005-10-01T00:00:00",
          "2005-11-01T00:00:00",
          "2005-12-01T00:00:00",
          "2006-01-01T00:00:00",
          "2006-02-01T00:00:00",
          "2006-03-01T00:00:00",
          "2006-04-01T00:00:00",
          "2006-05-01T00:00:00",
          "2006-06-01T00:00:00",
          "2006-07-01T00:00:00",
          "2006-08-01T00:00:00",
          "2006-09-01T00:00:00",
          "2006-10-01T00:00:00",
          "2006-11-01T00:00:00",
          "2006-12-01T00:00:00",
          "2007-01-01T00:00:00",
          "2007-02-01T00:00:00",
          "2007-03-01T00:00:00",
          "2007-04-01T00:00:00",
          "2007-05-01T00:00:00",
          "2007-06-01T00:00:00",
          "2007-07-01T00:00:00",
          "2007-08-01T00:00:00",
          "2007-09-01T00:00:00",
          "2007-10-01T00:00:00",
          "2007-11-01T00:00:00",
          "2007-12-01T00:00:00",
          "2008-01-01T00:00:00",
          "2008-02-01T00:00:00",
          "2008-03-01T00:00:00",
          "2008-04-01T00:00:00",
          "2008-05-01T00:00:00",
          "2008-06-01T00:00:00",
          "2008-07-01T00:00:00",
          "2008-08-01T00:00:00",
          "2008-09-01T00:00:00",
          "2008-10-01T00:00:00",
          "2008-11-01T00:00:00",
          "2008-12-01T00:00:00",
          "2009-01-01T00:00:00",
          "2009-02-01T00:00:00",
          "2009-03-01T00:00:00",
          "2009-04-01T00:00:00",
          "2009-05-01T00:00:00",
          "2009-06-01T00:00:00",
          "2009-07-01T00:00:00",
          "2009-08-01T00:00:00",
          "2009-09-01T00:00:00",
          "2009-10-01T00:00:00",
          "2009-11-01T00:00:00",
          "2009-12-01T00:00:00",
          "2010-01-01T00:00:00",
          "2010-02-01T00:00:00",
          "2010-03-01T00:00:00",
          "2010-04-01T00:00:00",
          "2010-05-01T00:00:00",
          "2010-06-01T00:00:00",
          "2010-07-01T00:00:00",
          "2010-08-01T00:00:00",
          "2010-09-01T00:00:00",
          "2010-10-01T00:00:00",
          "2010-11-01T00:00:00",
          "2010-12-01T00:00:00",
          "2011-01-01T00:00:00",
          "2011-02-01T00:00:00",
          "2011-03-01T00:00:00",
          "2011-04-01T00:00:00",
          "2011-05-01T00:00:00",
          "2011-06-01T00:00:00",
          "2011-07-01T00:00:00",
          "2011-08-01T00:00:00",
          "2011-09-01T00:00:00",
          "2011-10-01T00:00:00",
          "2011-11-01T00:00:00",
          "2011-12-01T00:00:00",
          "2012-01-01T00:00:00",
          "2012-02-01T00:00:00",
          "2012-03-01T00:00:00",
          "2012-04-01T00:00:00",
          "2012-05-01T00:00:00",
          "2012-06-01T00:00:00",
          "2012-07-01T00:00:00",
          "2012-08-01T00:00:00",
          "2012-09-01T00:00:00",
          "2012-10-01T00:00:00",
          "2012-11-01T00:00:00",
          "2012-12-01T00:00:00",
          "2013-01-01T00:00:00",
          "2013-02-01T00:00:00",
          "2013-03-01T00:00:00",
          "2013-04-01T00:00:00",
          "2013-05-01T00:00:00",
          "2013-06-01T00:00:00",
          "2013-07-01T00:00:00",
          "2013-08-01T00:00:00",
          "2013-09-01T00:00:00",
          "2013-10-01T00:00:00",
          "2013-11-01T00:00:00",
          "2013-12-01T00:00:00",
          "2014-01-01T00:00:00",
          "2014-02-01T00:00:00",
          "2014-03-01T00:00:00",
          "2014-04-01T00:00:00",
          "2014-05-01T00:00:00",
          "2014-06-01T00:00:00",
          "2014-07-01T00:00:00",
          "2014-08-01T00:00:00",
          "2014-09-01T00:00:00",
          "2014-10-01T00:00:00",
          "2014-11-01T00:00:00",
          "2014-12-01T00:00:00",
          "2015-01-01T00:00:00",
          "2015-02-01T00:00:00",
          "2015-03-01T00:00:00",
          "2015-04-01T00:00:00",
          "2015-05-01T00:00:00",
          "2015-06-01T00:00:00",
          "2015-07-01T00:00:00",
          "2015-08-01T00:00:00",
          "2015-09-01T00:00:00",
          "2015-10-01T00:00:00",
          "2015-11-01T00:00:00",
          "2015-12-01T00:00:00",
          "2016-01-01T00:00:00",
          "2016-02-01T00:00:00",
          "2016-03-01T00:00:00",
          "2016-04-01T00:00:00",
          "2016-05-01T00:00:00",
          "2016-06-01T00:00:00",
          "2016-07-01T00:00:00",
          "2016-08-01T00:00:00",
          "2016-09-01T00:00:00",
          "2016-10-01T00:00:00",
          "2016-11-01T00:00:00",
          "2016-12-01T00:00:00",
          "2017-01-01T00:00:00",
          "2017-02-01T00:00:00",
          "2017-03-01T00:00:00",
          "2017-04-01T00:00:00",
          "2017-05-01T00:00:00",
          "2017-06-01T00:00:00",
          "2017-07-01T00:00:00",
          "2017-08-01T00:00:00",
          "2017-09-01T00:00:00",
          "2017-10-01T00:00:00",
          "2017-11-01T00:00:00",
          "2017-12-01T00:00:00",
          "2018-01-01T00:00:00",
          "2018-02-01T00:00:00",
          "2018-03-01T00:00:00",
          "2018-04-01T00:00:00",
          "2018-05-01T00:00:00",
          "2018-06-01T00:00:00",
          "2018-07-01T00:00:00",
          "2018-08-01T00:00:00",
          "2018-09-01T00:00:00",
          "2018-10-01T00:00:00",
          "2018-11-01T00:00:00",
          "2018-12-01T00:00:00"
         ],
         "y": [
          0.05825367480525914,
          0.06697818255979542,
          0.059507864661128146,
          0.07100710019126295,
          0.07562210366900307,
          0.07614378304452421,
          0.07192409152495434,
          0.08222639345078434,
          0.0912831059099862,
          0.09873882150945822,
          0.10758564608309266,
          0.1103866172712784,
          0.11992034217220661,
          0.10994849204614014,
          0.11900262247943467,
          0.12700103013182287,
          0.1328557229672309,
          0.12465512315311983,
          0.11963949154322971,
          0.1083835803885433,
          0.0893624955249255,
          0.08669982334921082,
          0.08601257448604069,
          0.09214842169692793,
          0.09323203115758052,
          0.09100700040379331,
          0.0869651778373371,
          0.0764072252783879,
          0.07280167764181772,
          0.08019112180152853,
          0.08681083938221737,
          0.08329558095855101,
          0.08328068637659211,
          0.08584176721255338,
          0.08263915322632867,
          0.0847501060706055,
          0.07896822273996497,
          0.07148153933971749,
          0.08149650125643516,
          0.0849707711468063,
          0.09486078739192996,
          0.09229830616792604,
          0.08542985664642994,
          0.08546782655897582,
          0.08010539988045137,
          0.0862945422250587,
          0.07342301199648654,
          0.07602851629059117,
          0.07746499759107518,
          0.07310077312647247,
          0.07863237968319736,
          0.07532060579892567,
          0.07153139249841363,
          0.07196739839516976,
          0.07915101410609669,
          0.08209166772315564,
          0.08643591339624108,
          0.09015939548481874,
          0.09252225556452943,
          0.09958440475649118,
          0.10202543996678347,
          0.10271156491902719,
          0.1023481091931269,
          0.10640891462620727,
          0.11064315568718923,
          0.10068083546302249,
          0.10164166539587462,
          0.1080705504941447,
          0.11535719297327779,
          0.11381724917470278,
          0.1167284530983417,
          0.1230564170910266,
          0.12988418932513177,
          0.1312844602465,
          0.12701590740755309,
          0.1308704302655914,
          0.1275529770856859,
          0.12253055588918096,
          0.12986478685930405,
          0.1347375817851354,
          0.13611975574436888,
          0.13131157863019444,
          0.13192033082417848,
          0.13440513314739197,
          0.13532536113373522,
          0.13125526235849772,
          0.1346291962607129,
          0.12799485378724848,
          0.13063351638713258,
          0.13408426171268997,
          0.13503099955112294,
          0.13443751583129562,
          0.13146371692829065,
          0.12938446556400562,
          0.13696948872314668,
          0.13923295315535,
          0.13946736374514462,
          0.14003618110334323,
          0.13783336011066974,
          0.1342917081738943,
          0.13458908147773083,
          0.1312118361320693,
          0.13336589616210165,
          0.12727371065714144,
          0.12690637127125184,
          0.13101465445007904,
          0.13391589986850536,
          0.13316693897871917,
          0.13923976000921964,
          0.14064950408030674,
          0.14370079150802592,
          0.14693055129818727,
          0.15108440337434664,
          0.15283065710883106,
          0.15957959583712564,
          0.15709482992823967,
          0.16330337653300628,
          0.16096741925319344,
          0.1713574343855683,
          0.17813862438219036,
          0.17832437213845678,
          0.1817506841374005,
          0.18087181463834634,
          0.18381336888770297,
          0.18455693755051686,
          0.18879625188066979,
          0.18946205826994023,
          0.18939930607607283,
          0.1873905527405962,
          0.18418027982253793,
          0.19041378931661207,
          0.1923589643941182,
          0.1882201577500083,
          0.19224718767812074,
          0.1977082806895146,
          0.19716073385471924,
          0.19141300697168942,
          0.19449301409583264,
          0.1982042648447804,
          0.1951728153358633,
          0.18883566690296832,
          0.18934293121900506,
          0.1887213843190819,
          0.19158346193754067,
          0.18972216326598632,
          0.1870506585056171,
          0.1896137371570286,
          0.1920815827819601,
          0.1946539857103111,
          0.19382323146979843,
          0.19403355368162825,
          0.18817570299711464,
          0.1821850441092387,
          0.1763579505263513,
          0.17867708631115808,
          0.1747987033477635,
          0.18183356577149123,
          0.18104042828497377,
          0.18501493471969618,
          0.1878917761986424,
          0.1909027104490532,
          0.19338416712024203,
          0.1976921526118519,
          0.20050869435618404,
          0.20574446851443967,
          0.20888637945731736,
          0.21309085451967522,
          0.21795932028700346,
          0.21986071309057464,
          0.22218703086978592,
          0.22321386652799002,
          0.22630214889811698,
          0.2267908779520863,
          0.22757882256687204,
          0.23032016575027578,
          0.2285880808189382,
          0.22269177990068995,
          0.2252422993155788,
          0.22744344319588866,
          0.22883961042159467,
          0.22087648857039413,
          0.2230833739156376,
          0.22065712822953917,
          0.21990230571829358,
          0.22351588824061838,
          0.22535861668241433,
          0.22272282484466788,
          0.22623976226187234,
          0.21865831425969567,
          0.21779073878072766,
          0.22398992949670385,
          0.2283572278801363,
          0.23492044131433182,
          0.23998914407692035,
          0.24349344063207917,
          0.24293786260145972,
          0.24579450378064183,
          0.2418973375066092,
          0.2439451943645496,
          0.24742526716977037,
          0.2444549807180439,
          0.2464712416539706,
          0.25102094800318014,
          0.24937403257480267,
          0.24416887652959668,
          0.24488319773709225,
          0.2429676575489746,
          0.23328996893026066,
          0.2209285695750906,
          0.2084359146476171,
          0.21464017806853888,
          0.21658568786309632,
          0.20876859767071437,
          0.20741840834640293,
          0.2192692477804997,
          0.21903736653671638,
          0.22452129725616582,
          0.22135936302958686,
          0.22371766663078663,
          0.22803881351097857,
          0.22943864759243882,
          0.22669163662515024,
          0.22492965270461493,
          0.2300011939706699,
          0.22759937462628047,
          0.23010509079856245,
          0.22880451992005052,
          0.22997959138103904,
          0.23110828246896514,
          0.23337114741452358,
          0.23541263959442837,
          0.23465300173960182,
          0.23540619533344972,
          0.23636748788831946,
          0.23819831920917517,
          0.23661046496566845,
          0.23945658561250313,
          0.2401676863621747,
          0.23974302158958868,
          0.23882237594247385,
          0.24416041397494398,
          0.24589988765016904,
          0.24518301094722666,
          0.2488272314937043,
          0.24750305231095043,
          0.23954295828276131,
          0.24171480320207892,
          0.24561939736658525,
          0.24822794077538043,
          0.25179914018239574,
          0.25334177621150117,
          0.2548049994249703,
          0.25706317325704736,
          0.2565724158877828,
          0.25361441343710855,
          0.2560531463822629,
          0.24856007409809822,
          0.24686145511822657,
          0.24423520688264072,
          0.23464560827128353,
          0.23184929919133776,
          0.23331539963493778,
          0.23612380164447003,
          0.2367847307396235,
          0.2466256231611736,
          0.24795377118225584,
          0.2525143644040071,
          0.25658662417364925,
          0.2525910950585822,
          0.25602991637327416,
          0.26072206105721346,
          0.25978233414760193,
          0.2628820670382369,
          0.25959230285144885,
          0.2594104731307602,
          0.2632979325372629,
          0.2598856690592636,
          0.255193073365713,
          0.2552250129213751,
          0.2648383704144749,
          0.2682559437358897,
          0.26869990665488197,
          0.26448246988120233,
          0.2661984480346776,
          0.27095093313923724,
          0.271287342483673,
          0.2767238545326939,
          0.2736420525321937,
          0.27228314604698056,
          0.2644382995240215,
          0.2657309854041834,
          0.2665885812171347,
          0.26599291778284556,
          0.25657681645864155,
          0.24842357721846545,
          0.25295971434229375,
          0.2510468412824251,
          0.25714151547219843,
          0.2532667037523273,
          0.24994384542168213,
          0.24212147089212857,
          0.24705746914560506,
          0.2455002252563377,
          0.2321829396351167,
          0.22394544154787052,
          0.21824101616241923,
          0.22408521553651753,
          0.22778509937098204,
          0.23316007208444875,
          0.2302581548427395,
          0.2337780459516165,
          0.23988117041498808,
          0.24578602430129845,
          0.24772053433769534,
          0.25153343239449194,
          0.25450007831459937,
          0.25019945678274397,
          0.2496189003134974,
          0.24426728985251508,
          0.24797199804087236,
          0.24682141245258166,
          0.24132291129805813,
          0.23992552977883352,
          0.24862281350468687,
          0.2519304191705866,
          0.25471657037295514,
          0.2545474311042848,
          0.2551243393770505,
          0.2554635263384914,
          0.2523945703936908,
          0.24990086044330667,
          0.2517404865436344,
          0.249115113953196,
          0.248879280693392,
          0.2538210252965759,
          0.2534114145963904,
          0.24925188983275254,
          0.24422994259953984,
          0.2429008102139048,
          0.23623210222975868,
          0.2327728380631922,
          0.22956607125130904,
          0.23567431035748393,
          0.23205834289498872,
          0.23774137849153873,
          0.23649105160416886,
          0.22084896921685898,
          0.220889583865965,
          0.2226407465265822,
          0.22280633458188154,
          0.22067726596546156,
          0.2162524489157831,
          0.21217116022282945,
          0.2096665677312691,
          0.20208081306285777,
          0.19330002065794255,
          0.18154460175513856,
          0.19295658596465634,
          0.18831361526510776,
          0.18468062801702562,
          0.19730937785337369,
          0.2018323448377961,
          0.20642582335978543,
          0.2106825263924553,
          0.21459867150806888,
          0.21860302391400488,
          0.21285894088368368,
          0.20982640604310496,
          0.20620587360127685,
          0.2101717654537155,
          0.21283128225834153,
          0.21150296750456857,
          0.22196294750557385,
          0.22319435413458158,
          0.2241858104347619,
          0.22289144388229767,
          0.22087068961866616,
          0.22382258776950828,
          0.22251865523317588,
          0.22143978597558317,
          0.2228293446688353,
          0.2204631297060962,
          0.2210421274829188,
          0.22568039769711196,
          0.2215566267689762,
          0.2198700053605173,
          0.21881564766525502,
          0.21880998530874282,
          0.21698971289208455,
          0.22064450323241475,
          0.2188533848349476,
          0.2178897216280377,
          0.21738898883445978,
          0.2138025969926839,
          0.2176033650030043,
          0.21771442350593848,
          0.21263749665206894,
          0.2118767904988438,
          0.21486508623579637,
          0.22117633302307313,
          0.2235176105609763,
          0.22219658724104105,
          0.22657187049153601,
          0.22979013156853428,
          0.22849170693585505,
          0.21594965970654773,
          0.21828572441575242,
          0.21896947036571254,
          0.22317668074068261,
          0.219902941735847,
          0.22480122377913114,
          0.22470534689558455,
          0.22320952663464474,
          0.22626060019229305,
          0.2274594103271713,
          0.23235976696396762,
          0.23137105887699505,
          0.22342519601988559,
          0.2277344462225977,
          0.2306272782649485,
          0.23462172434496117,
          0.2319090226200416,
          0.22158670701218516,
          0.22455247383412663,
          0.2296105587111101,
          0.23175905890061285,
          0.23815286384342743,
          0.23955349358085956,
          0.24114864408578285,
          0.2412393617071892,
          0.24578251264187626,
          0.24367867462217932,
          0.2421191462155155,
          0.24355179520191683,
          0.24841315468530512,
          0.24851750932350797,
          0.24959513660288898,
          0.24782871389306915,
          0.246117804211595,
          0.24057572109146716,
          0.2358610385138399,
          0.23982382124981477,
          0.24208601579911798,
          0.2398030316609509,
          0.23754081842877053,
          0.23335091492172438,
          0.23278468175188474,
          0.2359842507413162,
          0.23248333497273643,
          0.23102789361902237,
          0.22918254960716103,
          0.2373179393635817,
          0.23827254112022428,
          0.2469228557489376,
          0.2508848372119126,
          0.2512415916159158,
          0.2540084291088955,
          0.25609503846836446,
          0.2585483262833242,
          0.2630892967707295,
          0.2640481894361543,
          0.2663946556957858,
          0.263311378918621,
          0.262610281601885,
          0.26391356636586544,
          0.2610552442301392,
          0.26360009247216254,
          0.2621346121696338,
          0.26003438683306646,
          0.25548201847013885,
          0.25608013679228386,
          0.2555210224946641,
          0.2511168839396888,
          0.253206870139836,
          0.2507144524134036,
          0.25790712177267844,
          0.2570786322945992,
          0.2566180084808884,
          0.25540351895201113,
          0.25651128099101556,
          0.26240318544369123,
          0.26356337095832905,
          0.2630643406470258,
          0.26155213960784574,
          0.265504812924393,
          0.26648596382610734,
          0.26669694040900427,
          0.2659957855315162,
          0.2624756006549862,
          0.26464168465844184,
          0.2693453667111425,
          0.2721939724142553,
          0.2728318110380132,
          0.2779365441677288,
          0.2818865963336987,
          0.28088281352741223,
          0.28424370606890015,
          0.2849910851612903,
          0.279062447157794,
          0.2828072665592346,
          0.2761789637788939,
          0.2798525631586781,
          0.28083476069289964,
          0.27804815584174036,
          0.2862723611483524,
          0.2895672742823262,
          0.29103275009376284,
          0.2895653629331246,
          0.28990288060577163,
          0.29262555984766137,
          0.2964487363838094,
          0.29837453892783555,
          0.2966937728078761,
          0.2721640571548295,
          0.2664603504632036,
          0.2718348913173308,
          0.2735641669053689,
          0.27790830676968414,
          0.27692280065542774,
          0.2772643092113352,
          0.2766522472118921,
          0.2801327074952005,
          0.2792150139162847,
          0.27670499745821553,
          0.2792411310502931,
          0.2800029765444701,
          0.2782052066105852,
          0.2798041602358107,
          0.28394537974886697,
          0.2827611414801387,
          0.28405092558524997,
          0.28708558490730013,
          0.28945105775110147,
          0.2886677675776068,
          0.29347813258535127,
          0.29500273806056576,
          0.29428349624391786,
          0.29120428033697,
          0.2921700566160047,
          0.2928700026135206,
          0.2868418860310002,
          0.28768287087382355,
          0.2895393535935518,
          0.2871632994350245,
          0.2925289179011189,
          0.291723271974522,
          0.2905930282089438,
          0.28181904844820643,
          0.276620183362739,
          0.27436206195506113,
          0.27837022330742667,
          0.28087459068063114,
          0.2841455635732361,
          0.28898997737401866,
          0.2901401236470299,
          0.2897867816188949,
          0.2923751541198046,
          0.28898770385085054,
          0.2913781676935186,
          0.2926040764247674,
          0.2914650146224114,
          0.291667756313977,
          0.28813814271077826,
          0.29443294150708293,
          0.2948809823193051,
          0.29600269161435455,
          0.293960162098471,
          0.29455701685589036,
          0.2944302927697501,
          0.29196107661930665,
          0.29400761291860705,
          0.29186651900867144,
          0.2928859612698884,
          0.2930241181981293,
          0.29525545356889416,
          0.2959078275881691,
          0.29592023123563266,
          0.2955891219134853,
          0.2968363626178138,
          0.29388504061472476,
          0.29587489833351643,
          0.2949289582210014,
          0.29427551255267603,
          0.2962014942300716,
          0.2950896712968054,
          0.29681688312603416,
          0.29625939644812305,
          0.2975675493868317,
          0.2990962845520653,
          0.2973669296063719,
          0.2935284450419611,
          0.29349398334945415,
          0.2931068538787737,
          0.29102639680278386,
          0.2925945376466489,
          0.2951514758042684,
          0.29348466076474905,
          0.2936594622749911,
          0.29037562617392354,
          0.2911729957663686,
          0.29150905557918516,
          0.29350975715723415,
          0.29508354845846724,
          0.2958523733540372,
          0.2974835468689283,
          0.2988167836732837,
          0.300769188572405,
          0.300676324445314,
          0.30213165090981353,
          0.3002698961024009,
          0.3029419414108168,
          0.3037130916585589,
          0.3048508859565634,
          0.3055772655892988,
          0.3062635272595838,
          0.3073205226933949,
          0.3091137436582815,
          0.308408979728073,
          0.3042031966162604,
          0.3053556910838679,
          0.3077451424583551,
          0.30791424457097755,
          0.3110058777525883,
          0.31042024730682977,
          0.31276046584156103,
          0.31292372689503406,
          0.30947408149758576,
          0.31109708244978834,
          0.3147997371754911,
          0.3168895011670191,
          0.3202592440756645,
          0.31740377207727377,
          0.31997914343574213,
          0.31639996722506475,
          0.31774922872323524,
          0.3180896732347886,
          0.31739270401070657,
          0.3212921909758309,
          0.32403042505233726,
          0.32392964607681124,
          0.3220358005666465,
          0.3223899098983259,
          0.31947982954746024,
          0.3074729676530468,
          0.310134494446935,
          0.3143508543102507,
          0.31702707805922814,
          0.3188702325873223,
          0.318904271926764,
          0.31650940079904394,
          0.31724880420808405,
          0.3214690654784514,
          0.3198311190254934,
          0.3212121611296921,
          0.3184179065142706,
          0.31643438295883125,
          0.31345559512746163,
          0.3144039256810852,
          0.31424969076190945,
          0.31614215680544844,
          0.31283056595200137,
          0.3094653266050587,
          0.3134252334242453,
          0.3126989314592301,
          0.3116056443507104,
          0.3108968717310127,
          0.3103159033668218,
          0.3128940069122075,
          0.3109913638201606,
          0.3113594134317919,
          0.3080808895639663,
          0.31094762302940887,
          0.3114335539854544,
          0.30815597077804907,
          0.30445669768229533,
          0.30803218246456704,
          0.3087476958763317,
          0.3064601192923024,
          0.3053461519186432,
          0.3029587093172702,
          0.2952905191121905,
          0.2964109625451054,
          0.29965358055700425,
          0.30107607703380945,
          0.3009871297720863,
          0.30137819480205363,
          0.3038026735708353,
          0.3019837744131238,
          0.30151449353218734,
          0.29685594383857705,
          0.28992408114850904,
          0.28988456039126115,
          0.28288544664760995,
          0.28534074222895084,
          0.2881343228443811,
          0.28544260155570494,
          0.2826075115516828,
          0.2809458550994947,
          0.2803835535861056,
          0.2844208097551517,
          0.28816559321523383,
          0.28883516144756605,
          0.28944423528185026,
          0.2912334257726726,
          0.2899898364226512,
          0.29360708462893786,
          0.29475538931187806,
          0.29750267764179106,
          0.29720548638178157,
          0.29839103510507686,
          0.29777883757999735,
          0.29657588758923603,
          0.29640325241990145,
          0.29802780237611853,
          0.2954074852920002,
          0.29527745519415477,
          0.2961655314851671,
          0.2966166059522274,
          0.2997149507637132,
          0.30135665335594797,
          0.2998742385450825,
          0.3012049258486578,
          0.29972967536186995,
          0.29689336734605204,
          0.29875973327102684,
          0.29858426231144775,
          0.3010179358433948,
          0.30012465159970786,
          0.3003014838032929,
          0.29818674198426925,
          0.30008620385567514,
          0.30011856990575203,
          0.30195740922882747,
          0.30161621571510366,
          0.30267898484761896,
          0.3034382034277831,
          0.3016765450949645,
          0.3014567114381114,
          0.2999025051601804,
          0.3007460581941673,
          0.3011186375721591,
          0.3034010364523146,
          0.30469054660738204,
          0.30462473196783885,
          0.30580833971426186,
          0.30522921038088696,
          0.3056683678331476,
          0.30773239216265214,
          0.3099352472335559,
          0.30886121721602694,
          0.30674129790014015,
          0.3066476237844547,
          0.3084117833115243,
          0.3095262037986063,
          0.30669307419780983,
          0.3059457162738108,
          0.30210901987274946,
          0.30080245745893797,
          0.30025164869782534,
          0.3020807529847082,
          0.30351165984985984,
          0.29749652801254545,
          0.29594500747472363,
          0.29669666940571804,
          0.28907556407684454,
          0.27474493797742083,
          0.26885905109235453,
          0.26996076411898656,
          0.26410278241892476,
          0.256772673884537,
          0.26113705040395924,
          0.2679061994078237,
          0.27026142074767995,
          0.26937404990116764,
          0.2741400593714683,
          0.2754887416396173,
          0.2779292951403116,
          0.27593851789436186,
          0.2788615386439895,
          0.2805993653449923,
          0.2781303137120993,
          0.28023574969622617,
          0.2835002578067161,
          0.2846892889523565,
          0.279685408147789,
          0.2757321593593043,
          0.27957191327326125,
          0.2766952340493604,
          0.2813708371507418,
          0.283558991176945,
          0.2840069386841311,
          0.2870376098297648,
          0.2872518867546227,
          0.28884456965221517,
          0.28930674085414576,
          0.2906385415073736,
          0.28990928089805557,
          0.2887732352225498,
          0.28684142909708327,
          0.28328456257637796,
          0.2770964138926501,
          0.28279926091341134,
          0.28263247850123036,
          0.28228097187955203,
          0.28458993814176714,
          0.2860575503229778,
          0.2867650564525494,
          0.28620879055370235,
          0.28219186528838663,
          0.2833128881482349,
          0.28317493650332076,
          0.28419983808070415,
          0.28528320610202873,
          0.2848007806550624,
          0.28516866730963464,
          0.28572682808091376,
          0.2882859435187715,
          0.28850246203998736,
          0.2903153433410283,
          0.29061957334201755,
          0.29131448129142146,
          0.29002191475871236,
          0.2925463124109277,
          0.2908673826464153,
          0.29286574549617495,
          0.2950288069804591,
          0.2958755570018939,
          0.2971664071877988,
          0.29452790546143787,
          0.2966190659163828,
          0.2966638426276592,
          0.29669948702100163,
          0.29725572021664415,
          0.2982737501988408,
          0.2962086764341202,
          0.2981880463709771,
          0.29632759497278993,
          0.29711873759645807,
          0.29821166964306584,
          0.2973204093540894,
          0.29535332485467836,
          0.2982129164081446,
          0.29685217793956487,
          0.2968892831790357,
          0.2968047352259416,
          0.29529291433207777,
          0.29476890255238924,
          0.29148969415975545,
          0.28878511715017596,
          0.2917929003292899,
          0.29149576280346406,
          0.28977534748562817,
          0.28676973437989683,
          0.28751503491478064,
          0.29092278220735474,
          0.29157266179156305,
          0.29130665453850585,
          0.2915982584390446,
          0.2933994260915545,
          0.2929386945475206,
          0.2924930480666391,
          0.2907381940357433,
          0.29299975881096607,
          0.29338964916436194,
          0.29433073362087164,
          0.29539748696750123,
          0.2952781239489423,
          0.2953177716749295,
          0.2954563918859343,
          0.29555944241343607,
          0.29606579217926765,
          0.2954883316276734,
          0.29643252479061216,
          0.296944617003046,
          0.29859726606281556,
          0.29948103750527366,
          0.3011413553032329,
          0.2981630835275126,
          0.29704035854215777,
          0.295967865336088,
          0.2967415695992865,
          0.2969539714205925,
          0.29789316749129074,
          0.2980579289443372,
          0.2977904307355695,
          0.2933340081408178,
          0.2940335376878917,
          0.28813426779546847
         ]
        },
        {
         "name": "EW",
         "type": "scatter",
         "x": [
          "1945-01-01T00:00:00",
          "1945-02-01T00:00:00",
          "1945-03-01T00:00:00",
          "1945-04-01T00:00:00",
          "1945-05-01T00:00:00",
          "1945-06-01T00:00:00",
          "1945-07-01T00:00:00",
          "1945-08-01T00:00:00",
          "1945-09-01T00:00:00",
          "1945-10-01T00:00:00",
          "1945-11-01T00:00:00",
          "1945-12-01T00:00:00",
          "1946-01-01T00:00:00",
          "1946-02-01T00:00:00",
          "1946-03-01T00:00:00",
          "1946-04-01T00:00:00",
          "1946-05-01T00:00:00",
          "1946-06-01T00:00:00",
          "1946-07-01T00:00:00",
          "1946-08-01T00:00:00",
          "1946-09-01T00:00:00",
          "1946-10-01T00:00:00",
          "1946-11-01T00:00:00",
          "1946-12-01T00:00:00",
          "1947-01-01T00:00:00",
          "1947-02-01T00:00:00",
          "1947-03-01T00:00:00",
          "1947-04-01T00:00:00",
          "1947-05-01T00:00:00",
          "1947-06-01T00:00:00",
          "1947-07-01T00:00:00",
          "1947-08-01T00:00:00",
          "1947-09-01T00:00:00",
          "1947-10-01T00:00:00",
          "1947-11-01T00:00:00",
          "1947-12-01T00:00:00",
          "1948-01-01T00:00:00",
          "1948-02-01T00:00:00",
          "1948-03-01T00:00:00",
          "1948-04-01T00:00:00",
          "1948-05-01T00:00:00",
          "1948-06-01T00:00:00",
          "1948-07-01T00:00:00",
          "1948-08-01T00:00:00",
          "1948-09-01T00:00:00",
          "1948-10-01T00:00:00",
          "1948-11-01T00:00:00",
          "1948-12-01T00:00:00",
          "1949-01-01T00:00:00",
          "1949-02-01T00:00:00",
          "1949-03-01T00:00:00",
          "1949-04-01T00:00:00",
          "1949-05-01T00:00:00",
          "1949-06-01T00:00:00",
          "1949-07-01T00:00:00",
          "1949-08-01T00:00:00",
          "1949-09-01T00:00:00",
          "1949-10-01T00:00:00",
          "1949-11-01T00:00:00",
          "1949-12-01T00:00:00",
          "1950-01-01T00:00:00",
          "1950-02-01T00:00:00",
          "1950-03-01T00:00:00",
          "1950-04-01T00:00:00",
          "1950-05-01T00:00:00",
          "1950-06-01T00:00:00",
          "1950-07-01T00:00:00",
          "1950-08-01T00:00:00",
          "1950-09-01T00:00:00",
          "1950-10-01T00:00:00",
          "1950-11-01T00:00:00",
          "1950-12-01T00:00:00",
          "1951-01-01T00:00:00",
          "1951-02-01T00:00:00",
          "1951-03-01T00:00:00",
          "1951-04-01T00:00:00",
          "1951-05-01T00:00:00",
          "1951-06-01T00:00:00",
          "1951-07-01T00:00:00",
          "1951-08-01T00:00:00",
          "1951-09-01T00:00:00",
          "1951-10-01T00:00:00",
          "1951-11-01T00:00:00",
          "1951-12-01T00:00:00",
          "1952-01-01T00:00:00",
          "1952-02-01T00:00:00",
          "1952-03-01T00:00:00",
          "1952-04-01T00:00:00",
          "1952-05-01T00:00:00",
          "1952-06-01T00:00:00",
          "1952-07-01T00:00:00",
          "1952-08-01T00:00:00",
          "1952-09-01T00:00:00",
          "1952-10-01T00:00:00",
          "1952-11-01T00:00:00",
          "1952-12-01T00:00:00",
          "1953-01-01T00:00:00",
          "1953-02-01T00:00:00",
          "1953-03-01T00:00:00",
          "1953-04-01T00:00:00",
          "1953-05-01T00:00:00",
          "1953-06-01T00:00:00",
          "1953-07-01T00:00:00",
          "1953-08-01T00:00:00",
          "1953-09-01T00:00:00",
          "1953-10-01T00:00:00",
          "1953-11-01T00:00:00",
          "1953-12-01T00:00:00",
          "1954-01-01T00:00:00",
          "1954-02-01T00:00:00",
          "1954-03-01T00:00:00",
          "1954-04-01T00:00:00",
          "1954-05-01T00:00:00",
          "1954-06-01T00:00:00",
          "1954-07-01T00:00:00",
          "1954-08-01T00:00:00",
          "1954-09-01T00:00:00",
          "1954-10-01T00:00:00",
          "1954-11-01T00:00:00",
          "1954-12-01T00:00:00",
          "1955-01-01T00:00:00",
          "1955-02-01T00:00:00",
          "1955-03-01T00:00:00",
          "1955-04-01T00:00:00",
          "1955-05-01T00:00:00",
          "1955-06-01T00:00:00",
          "1955-07-01T00:00:00",
          "1955-08-01T00:00:00",
          "1955-09-01T00:00:00",
          "1955-10-01T00:00:00",
          "1955-11-01T00:00:00",
          "1955-12-01T00:00:00",
          "1956-01-01T00:00:00",
          "1956-02-01T00:00:00",
          "1956-03-01T00:00:00",
          "1956-04-01T00:00:00",
          "1956-05-01T00:00:00",
          "1956-06-01T00:00:00",
          "1956-07-01T00:00:00",
          "1956-08-01T00:00:00",
          "1956-09-01T00:00:00",
          "1956-10-01T00:00:00",
          "1956-11-01T00:00:00",
          "1956-12-01T00:00:00",
          "1957-01-01T00:00:00",
          "1957-02-01T00:00:00",
          "1957-03-01T00:00:00",
          "1957-04-01T00:00:00",
          "1957-05-01T00:00:00",
          "1957-06-01T00:00:00",
          "1957-07-01T00:00:00",
          "1957-08-01T00:00:00",
          "1957-09-01T00:00:00",
          "1957-10-01T00:00:00",
          "1957-11-01T00:00:00",
          "1957-12-01T00:00:00",
          "1958-01-01T00:00:00",
          "1958-02-01T00:00:00",
          "1958-03-01T00:00:00",
          "1958-04-01T00:00:00",
          "1958-05-01T00:00:00",
          "1958-06-01T00:00:00",
          "1958-07-01T00:00:00",
          "1958-08-01T00:00:00",
          "1958-09-01T00:00:00",
          "1958-10-01T00:00:00",
          "1958-11-01T00:00:00",
          "1958-12-01T00:00:00",
          "1959-01-01T00:00:00",
          "1959-02-01T00:00:00",
          "1959-03-01T00:00:00",
          "1959-04-01T00:00:00",
          "1959-05-01T00:00:00",
          "1959-06-01T00:00:00",
          "1959-07-01T00:00:00",
          "1959-08-01T00:00:00",
          "1959-09-01T00:00:00",
          "1959-10-01T00:00:00",
          "1959-11-01T00:00:00",
          "1959-12-01T00:00:00",
          "1960-01-01T00:00:00",
          "1960-02-01T00:00:00",
          "1960-03-01T00:00:00",
          "1960-04-01T00:00:00",
          "1960-05-01T00:00:00",
          "1960-06-01T00:00:00",
          "1960-07-01T00:00:00",
          "1960-08-01T00:00:00",
          "1960-09-01T00:00:00",
          "1960-10-01T00:00:00",
          "1960-11-01T00:00:00",
          "1960-12-01T00:00:00",
          "1961-01-01T00:00:00",
          "1961-02-01T00:00:00",
          "1961-03-01T00:00:00",
          "1961-04-01T00:00:00",
          "1961-05-01T00:00:00",
          "1961-06-01T00:00:00",
          "1961-07-01T00:00:00",
          "1961-08-01T00:00:00",
          "1961-09-01T00:00:00",
          "1961-10-01T00:00:00",
          "1961-11-01T00:00:00",
          "1961-12-01T00:00:00",
          "1962-01-01T00:00:00",
          "1962-02-01T00:00:00",
          "1962-03-01T00:00:00",
          "1962-04-01T00:00:00",
          "1962-05-01T00:00:00",
          "1962-06-01T00:00:00",
          "1962-07-01T00:00:00",
          "1962-08-01T00:00:00",
          "1962-09-01T00:00:00",
          "1962-10-01T00:00:00",
          "1962-11-01T00:00:00",
          "1962-12-01T00:00:00",
          "1963-01-01T00:00:00",
          "1963-02-01T00:00:00",
          "1963-03-01T00:00:00",
          "1963-04-01T00:00:00",
          "1963-05-01T00:00:00",
          "1963-06-01T00:00:00",
          "1963-07-01T00:00:00",
          "1963-08-01T00:00:00",
          "1963-09-01T00:00:00",
          "1963-10-01T00:00:00",
          "1963-11-01T00:00:00",
          "1963-12-01T00:00:00",
          "1964-01-01T00:00:00",
          "1964-02-01T00:00:00",
          "1964-03-01T00:00:00",
          "1964-04-01T00:00:00",
          "1964-05-01T00:00:00",
          "1964-06-01T00:00:00",
          "1964-07-01T00:00:00",
          "1964-08-01T00:00:00",
          "1964-09-01T00:00:00",
          "1964-10-01T00:00:00",
          "1964-11-01T00:00:00",
          "1964-12-01T00:00:00",
          "1965-01-01T00:00:00",
          "1965-02-01T00:00:00",
          "1965-03-01T00:00:00",
          "1965-04-01T00:00:00",
          "1965-05-01T00:00:00",
          "1965-06-01T00:00:00",
          "1965-07-01T00:00:00",
          "1965-08-01T00:00:00",
          "1965-09-01T00:00:00",
          "1965-10-01T00:00:00",
          "1965-11-01T00:00:00",
          "1965-12-01T00:00:00",
          "1966-01-01T00:00:00",
          "1966-02-01T00:00:00",
          "1966-03-01T00:00:00",
          "1966-04-01T00:00:00",
          "1966-05-01T00:00:00",
          "1966-06-01T00:00:00",
          "1966-07-01T00:00:00",
          "1966-08-01T00:00:00",
          "1966-09-01T00:00:00",
          "1966-10-01T00:00:00",
          "1966-11-01T00:00:00",
          "1966-12-01T00:00:00",
          "1967-01-01T00:00:00",
          "1967-02-01T00:00:00",
          "1967-03-01T00:00:00",
          "1967-04-01T00:00:00",
          "1967-05-01T00:00:00",
          "1967-06-01T00:00:00",
          "1967-07-01T00:00:00",
          "1967-08-01T00:00:00",
          "1967-09-01T00:00:00",
          "1967-10-01T00:00:00",
          "1967-11-01T00:00:00",
          "1967-12-01T00:00:00",
          "1968-01-01T00:00:00",
          "1968-02-01T00:00:00",
          "1968-03-01T00:00:00",
          "1968-04-01T00:00:00",
          "1968-05-01T00:00:00",
          "1968-06-01T00:00:00",
          "1968-07-01T00:00:00",
          "1968-08-01T00:00:00",
          "1968-09-01T00:00:00",
          "1968-10-01T00:00:00",
          "1968-11-01T00:00:00",
          "1968-12-01T00:00:00",
          "1969-01-01T00:00:00",
          "1969-02-01T00:00:00",
          "1969-03-01T00:00:00",
          "1969-04-01T00:00:00",
          "1969-05-01T00:00:00",
          "1969-06-01T00:00:00",
          "1969-07-01T00:00:00",
          "1969-08-01T00:00:00",
          "1969-09-01T00:00:00",
          "1969-10-01T00:00:00",
          "1969-11-01T00:00:00",
          "1969-12-01T00:00:00",
          "1970-01-01T00:00:00",
          "1970-02-01T00:00:00",
          "1970-03-01T00:00:00",
          "1970-04-01T00:00:00",
          "1970-05-01T00:00:00",
          "1970-06-01T00:00:00",
          "1970-07-01T00:00:00",
          "1970-08-01T00:00:00",
          "1970-09-01T00:00:00",
          "1970-10-01T00:00:00",
          "1970-11-01T00:00:00",
          "1970-12-01T00:00:00",
          "1971-01-01T00:00:00",
          "1971-02-01T00:00:00",
          "1971-03-01T00:00:00",
          "1971-04-01T00:00:00",
          "1971-05-01T00:00:00",
          "1971-06-01T00:00:00",
          "1971-07-01T00:00:00",
          "1971-08-01T00:00:00",
          "1971-09-01T00:00:00",
          "1971-10-01T00:00:00",
          "1971-11-01T00:00:00",
          "1971-12-01T00:00:00",
          "1972-01-01T00:00:00",
          "1972-02-01T00:00:00",
          "1972-03-01T00:00:00",
          "1972-04-01T00:00:00",
          "1972-05-01T00:00:00",
          "1972-06-01T00:00:00",
          "1972-07-01T00:00:00",
          "1972-08-01T00:00:00",
          "1972-09-01T00:00:00",
          "1972-10-01T00:00:00",
          "1972-11-01T00:00:00",
          "1972-12-01T00:00:00",
          "1973-01-01T00:00:00",
          "1973-02-01T00:00:00",
          "1973-03-01T00:00:00",
          "1973-04-01T00:00:00",
          "1973-05-01T00:00:00",
          "1973-06-01T00:00:00",
          "1973-07-01T00:00:00",
          "1973-08-01T00:00:00",
          "1973-09-01T00:00:00",
          "1973-10-01T00:00:00",
          "1973-11-01T00:00:00",
          "1973-12-01T00:00:00",
          "1974-01-01T00:00:00",
          "1974-02-01T00:00:00",
          "1974-03-01T00:00:00",
          "1974-04-01T00:00:00",
          "1974-05-01T00:00:00",
          "1974-06-01T00:00:00",
          "1974-07-01T00:00:00",
          "1974-08-01T00:00:00",
          "1974-09-01T00:00:00",
          "1974-10-01T00:00:00",
          "1974-11-01T00:00:00",
          "1974-12-01T00:00:00",
          "1975-01-01T00:00:00",
          "1975-02-01T00:00:00",
          "1975-03-01T00:00:00",
          "1975-04-01T00:00:00",
          "1975-05-01T00:00:00",
          "1975-06-01T00:00:00",
          "1975-07-01T00:00:00",
          "1975-08-01T00:00:00",
          "1975-09-01T00:00:00",
          "1975-10-01T00:00:00",
          "1975-11-01T00:00:00",
          "1975-12-01T00:00:00",
          "1976-01-01T00:00:00",
          "1976-02-01T00:00:00",
          "1976-03-01T00:00:00",
          "1976-04-01T00:00:00",
          "1976-05-01T00:00:00",
          "1976-06-01T00:00:00",
          "1976-07-01T00:00:00",
          "1976-08-01T00:00:00",
          "1976-09-01T00:00:00",
          "1976-10-01T00:00:00",
          "1976-11-01T00:00:00",
          "1976-12-01T00:00:00",
          "1977-01-01T00:00:00",
          "1977-02-01T00:00:00",
          "1977-03-01T00:00:00",
          "1977-04-01T00:00:00",
          "1977-05-01T00:00:00",
          "1977-06-01T00:00:00",
          "1977-07-01T00:00:00",
          "1977-08-01T00:00:00",
          "1977-09-01T00:00:00",
          "1977-10-01T00:00:00",
          "1977-11-01T00:00:00",
          "1977-12-01T00:00:00",
          "1978-01-01T00:00:00",
          "1978-02-01T00:00:00",
          "1978-03-01T00:00:00",
          "1978-04-01T00:00:00",
          "1978-05-01T00:00:00",
          "1978-06-01T00:00:00",
          "1978-07-01T00:00:00",
          "1978-08-01T00:00:00",
          "1978-09-01T00:00:00",
          "1978-10-01T00:00:00",
          "1978-11-01T00:00:00",
          "1978-12-01T00:00:00",
          "1979-01-01T00:00:00",
          "1979-02-01T00:00:00",
          "1979-03-01T00:00:00",
          "1979-04-01T00:00:00",
          "1979-05-01T00:00:00",
          "1979-06-01T00:00:00",
          "1979-07-01T00:00:00",
          "1979-08-01T00:00:00",
          "1979-09-01T00:00:00",
          "1979-10-01T00:00:00",
          "1979-11-01T00:00:00",
          "1979-12-01T00:00:00",
          "1980-01-01T00:00:00",
          "1980-02-01T00:00:00",
          "1980-03-01T00:00:00",
          "1980-04-01T00:00:00",
          "1980-05-01T00:00:00",
          "1980-06-01T00:00:00",
          "1980-07-01T00:00:00",
          "1980-08-01T00:00:00",
          "1980-09-01T00:00:00",
          "1980-10-01T00:00:00",
          "1980-11-01T00:00:00",
          "1980-12-01T00:00:00",
          "1981-01-01T00:00:00",
          "1981-02-01T00:00:00",
          "1981-03-01T00:00:00",
          "1981-04-01T00:00:00",
          "1981-05-01T00:00:00",
          "1981-06-01T00:00:00",
          "1981-07-01T00:00:00",
          "1981-08-01T00:00:00",
          "1981-09-01T00:00:00",
          "1981-10-01T00:00:00",
          "1981-11-01T00:00:00",
          "1981-12-01T00:00:00",
          "1982-01-01T00:00:00",
          "1982-02-01T00:00:00",
          "1982-03-01T00:00:00",
          "1982-04-01T00:00:00",
          "1982-05-01T00:00:00",
          "1982-06-01T00:00:00",
          "1982-07-01T00:00:00",
          "1982-08-01T00:00:00",
          "1982-09-01T00:00:00",
          "1982-10-01T00:00:00",
          "1982-11-01T00:00:00",
          "1982-12-01T00:00:00",
          "1983-01-01T00:00:00",
          "1983-02-01T00:00:00",
          "1983-03-01T00:00:00",
          "1983-04-01T00:00:00",
          "1983-05-01T00:00:00",
          "1983-06-01T00:00:00",
          "1983-07-01T00:00:00",
          "1983-08-01T00:00:00",
          "1983-09-01T00:00:00",
          "1983-10-01T00:00:00",
          "1983-11-01T00:00:00",
          "1983-12-01T00:00:00",
          "1984-01-01T00:00:00",
          "1984-02-01T00:00:00",
          "1984-03-01T00:00:00",
          "1984-04-01T00:00:00",
          "1984-05-01T00:00:00",
          "1984-06-01T00:00:00",
          "1984-07-01T00:00:00",
          "1984-08-01T00:00:00",
          "1984-09-01T00:00:00",
          "1984-10-01T00:00:00",
          "1984-11-01T00:00:00",
          "1984-12-01T00:00:00",
          "1985-01-01T00:00:00",
          "1985-02-01T00:00:00",
          "1985-03-01T00:00:00",
          "1985-04-01T00:00:00",
          "1985-05-01T00:00:00",
          "1985-06-01T00:00:00",
          "1985-07-01T00:00:00",
          "1985-08-01T00:00:00",
          "1985-09-01T00:00:00",
          "1985-10-01T00:00:00",
          "1985-11-01T00:00:00",
          "1985-12-01T00:00:00",
          "1986-01-01T00:00:00",
          "1986-02-01T00:00:00",
          "1986-03-01T00:00:00",
          "1986-04-01T00:00:00",
          "1986-05-01T00:00:00",
          "1986-06-01T00:00:00",
          "1986-07-01T00:00:00",
          "1986-08-01T00:00:00",
          "1986-09-01T00:00:00",
          "1986-10-01T00:00:00",
          "1986-11-01T00:00:00",
          "1986-12-01T00:00:00",
          "1987-01-01T00:00:00",
          "1987-02-01T00:00:00",
          "1987-03-01T00:00:00",
          "1987-04-01T00:00:00",
          "1987-05-01T00:00:00",
          "1987-06-01T00:00:00",
          "1987-07-01T00:00:00",
          "1987-08-01T00:00:00",
          "1987-09-01T00:00:00",
          "1987-10-01T00:00:00",
          "1987-11-01T00:00:00",
          "1987-12-01T00:00:00",
          "1988-01-01T00:00:00",
          "1988-02-01T00:00:00",
          "1988-03-01T00:00:00",
          "1988-04-01T00:00:00",
          "1988-05-01T00:00:00",
          "1988-06-01T00:00:00",
          "1988-07-01T00:00:00",
          "1988-08-01T00:00:00",
          "1988-09-01T00:00:00",
          "1988-10-01T00:00:00",
          "1988-11-01T00:00:00",
          "1988-12-01T00:00:00",
          "1989-01-01T00:00:00",
          "1989-02-01T00:00:00",
          "1989-03-01T00:00:00",
          "1989-04-01T00:00:00",
          "1989-05-01T00:00:00",
          "1989-06-01T00:00:00",
          "1989-07-01T00:00:00",
          "1989-08-01T00:00:00",
          "1989-09-01T00:00:00",
          "1989-10-01T00:00:00",
          "1989-11-01T00:00:00",
          "1989-12-01T00:00:00",
          "1990-01-01T00:00:00",
          "1990-02-01T00:00:00",
          "1990-03-01T00:00:00",
          "1990-04-01T00:00:00",
          "1990-05-01T00:00:00",
          "1990-06-01T00:00:00",
          "1990-07-01T00:00:00",
          "1990-08-01T00:00:00",
          "1990-09-01T00:00:00",
          "1990-10-01T00:00:00",
          "1990-11-01T00:00:00",
          "1990-12-01T00:00:00",
          "1991-01-01T00:00:00",
          "1991-02-01T00:00:00",
          "1991-03-01T00:00:00",
          "1991-04-01T00:00:00",
          "1991-05-01T00:00:00",
          "1991-06-01T00:00:00",
          "1991-07-01T00:00:00",
          "1991-08-01T00:00:00",
          "1991-09-01T00:00:00",
          "1991-10-01T00:00:00",
          "1991-11-01T00:00:00",
          "1991-12-01T00:00:00",
          "1992-01-01T00:00:00",
          "1992-02-01T00:00:00",
          "1992-03-01T00:00:00",
          "1992-04-01T00:00:00",
          "1992-05-01T00:00:00",
          "1992-06-01T00:00:00",
          "1992-07-01T00:00:00",
          "1992-08-01T00:00:00",
          "1992-09-01T00:00:00",
          "1992-10-01T00:00:00",
          "1992-11-01T00:00:00",
          "1992-12-01T00:00:00",
          "1993-01-01T00:00:00",
          "1993-02-01T00:00:00",
          "1993-03-01T00:00:00",
          "1993-04-01T00:00:00",
          "1993-05-01T00:00:00",
          "1993-06-01T00:00:00",
          "1993-07-01T00:00:00",
          "1993-08-01T00:00:00",
          "1993-09-01T00:00:00",
          "1993-10-01T00:00:00",
          "1993-11-01T00:00:00",
          "1993-12-01T00:00:00",
          "1994-01-01T00:00:00",
          "1994-02-01T00:00:00",
          "1994-03-01T00:00:00",
          "1994-04-01T00:00:00",
          "1994-05-01T00:00:00",
          "1994-06-01T00:00:00",
          "1994-07-01T00:00:00",
          "1994-08-01T00:00:00",
          "1994-09-01T00:00:00",
          "1994-10-01T00:00:00",
          "1994-11-01T00:00:00",
          "1994-12-01T00:00:00",
          "1995-01-01T00:00:00",
          "1995-02-01T00:00:00",
          "1995-03-01T00:00:00",
          "1995-04-01T00:00:00",
          "1995-05-01T00:00:00",
          "1995-06-01T00:00:00",
          "1995-07-01T00:00:00",
          "1995-08-01T00:00:00",
          "1995-09-01T00:00:00",
          "1995-10-01T00:00:00",
          "1995-11-01T00:00:00",
          "1995-12-01T00:00:00",
          "1996-01-01T00:00:00",
          "1996-02-01T00:00:00",
          "1996-03-01T00:00:00",
          "1996-04-01T00:00:00",
          "1996-05-01T00:00:00",
          "1996-06-01T00:00:00",
          "1996-07-01T00:00:00",
          "1996-08-01T00:00:00",
          "1996-09-01T00:00:00",
          "1996-10-01T00:00:00",
          "1996-11-01T00:00:00",
          "1996-12-01T00:00:00",
          "1997-01-01T00:00:00",
          "1997-02-01T00:00:00",
          "1997-03-01T00:00:00",
          "1997-04-01T00:00:00",
          "1997-05-01T00:00:00",
          "1997-06-01T00:00:00",
          "1997-07-01T00:00:00",
          "1997-08-01T00:00:00",
          "1997-09-01T00:00:00",
          "1997-10-01T00:00:00",
          "1997-11-01T00:00:00",
          "1997-12-01T00:00:00",
          "1998-01-01T00:00:00",
          "1998-02-01T00:00:00",
          "1998-03-01T00:00:00",
          "1998-04-01T00:00:00",
          "1998-05-01T00:00:00",
          "1998-06-01T00:00:00",
          "1998-07-01T00:00:00",
          "1998-08-01T00:00:00",
          "1998-09-01T00:00:00",
          "1998-10-01T00:00:00",
          "1998-11-01T00:00:00",
          "1998-12-01T00:00:00",
          "1999-01-01T00:00:00",
          "1999-02-01T00:00:00",
          "1999-03-01T00:00:00",
          "1999-04-01T00:00:00",
          "1999-05-01T00:00:00",
          "1999-06-01T00:00:00",
          "1999-07-01T00:00:00",
          "1999-08-01T00:00:00",
          "1999-09-01T00:00:00",
          "1999-10-01T00:00:00",
          "1999-11-01T00:00:00",
          "1999-12-01T00:00:00",
          "2000-01-01T00:00:00",
          "2000-02-01T00:00:00",
          "2000-03-01T00:00:00",
          "2000-04-01T00:00:00",
          "2000-05-01T00:00:00",
          "2000-06-01T00:00:00",
          "2000-07-01T00:00:00",
          "2000-08-01T00:00:00",
          "2000-09-01T00:00:00",
          "2000-10-01T00:00:00",
          "2000-11-01T00:00:00",
          "2000-12-01T00:00:00",
          "2001-01-01T00:00:00",
          "2001-02-01T00:00:00",
          "2001-03-01T00:00:00",
          "2001-04-01T00:00:00",
          "2001-05-01T00:00:00",
          "2001-06-01T00:00:00",
          "2001-07-01T00:00:00",
          "2001-08-01T00:00:00",
          "2001-09-01T00:00:00",
          "2001-10-01T00:00:00",
          "2001-11-01T00:00:00",
          "2001-12-01T00:00:00",
          "2002-01-01T00:00:00",
          "2002-02-01T00:00:00",
          "2002-03-01T00:00:00",
          "2002-04-01T00:00:00",
          "2002-05-01T00:00:00",
          "2002-06-01T00:00:00",
          "2002-07-01T00:00:00",
          "2002-08-01T00:00:00",
          "2002-09-01T00:00:00",
          "2002-10-01T00:00:00",
          "2002-11-01T00:00:00",
          "2002-12-01T00:00:00",
          "2003-01-01T00:00:00",
          "2003-02-01T00:00:00",
          "2003-03-01T00:00:00",
          "2003-04-01T00:00:00",
          "2003-05-01T00:00:00",
          "2003-06-01T00:00:00",
          "2003-07-01T00:00:00",
          "2003-08-01T00:00:00",
          "2003-09-01T00:00:00",
          "2003-10-01T00:00:00",
          "2003-11-01T00:00:00",
          "2003-12-01T00:00:00",
          "2004-01-01T00:00:00",
          "2004-02-01T00:00:00",
          "2004-03-01T00:00:00",
          "2004-04-01T00:00:00",
          "2004-05-01T00:00:00",
          "2004-06-01T00:00:00",
          "2004-07-01T00:00:00",
          "2004-08-01T00:00:00",
          "2004-09-01T00:00:00",
          "2004-10-01T00:00:00",
          "2004-11-01T00:00:00",
          "2004-12-01T00:00:00",
          "2005-01-01T00:00:00",
          "2005-02-01T00:00:00",
          "2005-03-01T00:00:00",
          "2005-04-01T00:00:00",
          "2005-05-01T00:00:00",
          "2005-06-01T00:00:00",
          "2005-07-01T00:00:00",
          "2005-08-01T00:00:00",
          "2005-09-01T00:00:00",
          "2005-10-01T00:00:00",
          "2005-11-01T00:00:00",
          "2005-12-01T00:00:00",
          "2006-01-01T00:00:00",
          "2006-02-01T00:00:00",
          "2006-03-01T00:00:00",
          "2006-04-01T00:00:00",
          "2006-05-01T00:00:00",
          "2006-06-01T00:00:00",
          "2006-07-01T00:00:00",
          "2006-08-01T00:00:00",
          "2006-09-01T00:00:00",
          "2006-10-01T00:00:00",
          "2006-11-01T00:00:00",
          "2006-12-01T00:00:00",
          "2007-01-01T00:00:00",
          "2007-02-01T00:00:00",
          "2007-03-01T00:00:00",
          "2007-04-01T00:00:00",
          "2007-05-01T00:00:00",
          "2007-06-01T00:00:00",
          "2007-07-01T00:00:00",
          "2007-08-01T00:00:00",
          "2007-09-01T00:00:00",
          "2007-10-01T00:00:00",
          "2007-11-01T00:00:00",
          "2007-12-01T00:00:00",
          "2008-01-01T00:00:00",
          "2008-02-01T00:00:00",
          "2008-03-01T00:00:00",
          "2008-04-01T00:00:00",
          "2008-05-01T00:00:00",
          "2008-06-01T00:00:00",
          "2008-07-01T00:00:00",
          "2008-08-01T00:00:00",
          "2008-09-01T00:00:00",
          "2008-10-01T00:00:00",
          "2008-11-01T00:00:00",
          "2008-12-01T00:00:00",
          "2009-01-01T00:00:00",
          "2009-02-01T00:00:00",
          "2009-03-01T00:00:00",
          "2009-04-01T00:00:00",
          "2009-05-01T00:00:00",
          "2009-06-01T00:00:00",
          "2009-07-01T00:00:00",
          "2009-08-01T00:00:00",
          "2009-09-01T00:00:00",
          "2009-10-01T00:00:00",
          "2009-11-01T00:00:00",
          "2009-12-01T00:00:00",
          "2010-01-01T00:00:00",
          "2010-02-01T00:00:00",
          "2010-03-01T00:00:00",
          "2010-04-01T00:00:00",
          "2010-05-01T00:00:00",
          "2010-06-01T00:00:00",
          "2010-07-01T00:00:00",
          "2010-08-01T00:00:00",
          "2010-09-01T00:00:00",
          "2010-10-01T00:00:00",
          "2010-11-01T00:00:00",
          "2010-12-01T00:00:00",
          "2011-01-01T00:00:00",
          "2011-02-01T00:00:00",
          "2011-03-01T00:00:00",
          "2011-04-01T00:00:00",
          "2011-05-01T00:00:00",
          "2011-06-01T00:00:00",
          "2011-07-01T00:00:00",
          "2011-08-01T00:00:00",
          "2011-09-01T00:00:00",
          "2011-10-01T00:00:00",
          "2011-11-01T00:00:00",
          "2011-12-01T00:00:00",
          "2012-01-01T00:00:00",
          "2012-02-01T00:00:00",
          "2012-03-01T00:00:00",
          "2012-04-01T00:00:00",
          "2012-05-01T00:00:00",
          "2012-06-01T00:00:00",
          "2012-07-01T00:00:00",
          "2012-08-01T00:00:00",
          "2012-09-01T00:00:00",
          "2012-10-01T00:00:00",
          "2012-11-01T00:00:00",
          "2012-12-01T00:00:00",
          "2013-01-01T00:00:00",
          "2013-02-01T00:00:00",
          "2013-03-01T00:00:00",
          "2013-04-01T00:00:00",
          "2013-05-01T00:00:00",
          "2013-06-01T00:00:00",
          "2013-07-01T00:00:00",
          "2013-08-01T00:00:00",
          "2013-09-01T00:00:00",
          "2013-10-01T00:00:00",
          "2013-11-01T00:00:00",
          "2013-12-01T00:00:00",
          "2014-01-01T00:00:00",
          "2014-02-01T00:00:00",
          "2014-03-01T00:00:00",
          "2014-04-01T00:00:00",
          "2014-05-01T00:00:00",
          "2014-06-01T00:00:00",
          "2014-07-01T00:00:00",
          "2014-08-01T00:00:00",
          "2014-09-01T00:00:00",
          "2014-10-01T00:00:00",
          "2014-11-01T00:00:00",
          "2014-12-01T00:00:00",
          "2015-01-01T00:00:00",
          "2015-02-01T00:00:00",
          "2015-03-01T00:00:00",
          "2015-04-01T00:00:00",
          "2015-05-01T00:00:00",
          "2015-06-01T00:00:00",
          "2015-07-01T00:00:00",
          "2015-08-01T00:00:00",
          "2015-09-01T00:00:00",
          "2015-10-01T00:00:00",
          "2015-11-01T00:00:00",
          "2015-12-01T00:00:00",
          "2016-01-01T00:00:00",
          "2016-02-01T00:00:00",
          "2016-03-01T00:00:00",
          "2016-04-01T00:00:00",
          "2016-05-01T00:00:00",
          "2016-06-01T00:00:00",
          "2016-07-01T00:00:00",
          "2016-08-01T00:00:00",
          "2016-09-01T00:00:00",
          "2016-10-01T00:00:00",
          "2016-11-01T00:00:00",
          "2016-12-01T00:00:00",
          "2017-01-01T00:00:00",
          "2017-02-01T00:00:00",
          "2017-03-01T00:00:00",
          "2017-04-01T00:00:00",
          "2017-05-01T00:00:00",
          "2017-06-01T00:00:00",
          "2017-07-01T00:00:00",
          "2017-08-01T00:00:00",
          "2017-09-01T00:00:00",
          "2017-10-01T00:00:00",
          "2017-11-01T00:00:00",
          "2017-12-01T00:00:00",
          "2018-01-01T00:00:00",
          "2018-02-01T00:00:00",
          "2018-03-01T00:00:00",
          "2018-04-01T00:00:00",
          "2018-05-01T00:00:00",
          "2018-06-01T00:00:00",
          "2018-07-01T00:00:00",
          "2018-08-01T00:00:00",
          "2018-09-01T00:00:00",
          "2018-10-01T00:00:00",
          "2018-11-01T00:00:00",
          "2018-12-01T00:00:00"
         ],
         "y": [
          0.17543651398844318,
          0.18439994172736174,
          0.17550966750646546,
          0.18548952231513335,
          0.18904241567356247,
          0.19220477651174722,
          0.18704166713760334,
          0.19481519178360884,
          0.2027166351881649,
          0.2110774783913546,
          0.22274905020706173,
          0.22551748313915917,
          0.23542625777760318,
          0.22602773608393736,
          0.2321380872482261,
          0.24007967046551365,
          0.24598090907325218,
          0.23780257423112605,
          0.23190816451900798,
          0.220627286069326,
          0.20073122578767702,
          0.1976137528151428,
          0.19606703554070107,
          0.2009034361370953,
          0.20313132205342527,
          0.2011572179193371,
          0.19609434994222258,
          0.18400218748997677,
          0.17833317974338486,
          0.18451056858867823,
          0.19111401250449955,
          0.187971766163368,
          0.1876830908195662,
          0.19071953334733796,
          0.1858766504378212,
          0.18667697256376756,
          0.18330300192340906,
          0.17518927037607884,
          0.18477623560163095,
          0.18802626965892527,
          0.19763363523337502,
          0.19470508291901575,
          0.1870760221286434,
          0.18600200393858035,
          0.17978736416521263,
          0.18506698306618208,
          0.17117210290043022,
          0.17137289975913023,
          0.1736442698586598,
          0.16800645616065588,
          0.1742696794173438,
          0.1704192866750489,
          0.1646067354835457,
          0.1636981304343782,
          0.17009194883289683,
          0.1728063283574372,
          0.17783719891367822,
          0.18162901001053772,
          0.18169860194283668,
          0.1888442908860097,
          0.19246681673810842,
          0.19349950244779857,
          0.19231738342135205,
          0.1972935056904574,
          0.20004246156994637,
          0.1897778513361144,
          0.1924968554240391,
          0.19828169127310638,
          0.20438521785192557,
          0.20272275259134515,
          0.20471244926183324,
          0.21174383385274698,
          0.21905558000623115,
          0.22036751723968248,
          0.2155238025240841,
          0.21877811163382832,
          0.21501010116851452,
          0.20948185983629228,
          0.21512827728601575,
          0.21962981589169964,
          0.22110208316657812,
          0.21732110120311046,
          0.2174264584214161,
          0.218075888022249,
          0.2195251404338633,
          0.21642471016915213,
          0.21815197380991178,
          0.21219235501167763,
          0.21360872756457372,
          0.21591746834317388,
          0.21612846840587696,
          0.21573945348301496,
          0.2135118082065715,
          0.21151387975791044,
          0.2165635303098635,
          0.2181944060818726,
          0.22065677782296086,
          0.22185674016903523,
          0.22000284401767392,
          0.2169890203342594,
          0.21697429546324187,
          0.2130595833441992,
          0.21433757314889823,
          0.20831858652902843,
          0.206578639693746,
          0.20920856026233706,
          0.2109510926855697,
          0.208961387755168,
          0.21560113280172544,
          0.21636803053365145,
          0.21845395285221428,
          0.21928111649217827,
          0.2229379345824452,
          0.22373329707581055,
          0.23065383696682057,
          0.22958594038852406,
          0.2338948980683813,
          0.23227060954243375,
          0.24046339940694908,
          0.24885387576186432,
          0.24974593767211106,
          0.25331304359883833,
          0.25281679755631925,
          0.2545065579086677,
          0.25434095244356897,
          0.25703073441255486,
          0.2575361054037375,
          0.25705680869373887,
          0.25532425125943037,
          0.25265198324264304,
          0.25660281762283066,
          0.25883355949539566,
          0.2566061771745863,
          0.2591983636907432,
          0.26317231436395133,
          0.26263173144807167,
          0.25801395339341926,
          0.25947000467189735,
          0.2617351550866995,
          0.25958972247225265,
          0.25519511575444337,
          0.25497890100170717,
          0.254569445608924,
          0.25608916783200647,
          0.25664037601610107,
          0.25372943139221876,
          0.2556432485998591,
          0.2573596477225258,
          0.258772290202305,
          0.25769810650562425,
          0.2576075708726051,
          0.2522746399867672,
          0.24689056538271578,
          0.23942312390181078,
          0.2408273475096577,
          0.23583130004421132,
          0.24472103583126498,
          0.24358693296816064,
          0.2472800305610542,
          0.24992431336623097,
          0.25310414401252984,
          0.2558793146173766,
          0.25989969522230566,
          0.26282929747956446,
          0.26765547976312043,
          0.27010319276476247,
          0.2744117643965891,
          0.277310805980943,
          0.2811936036889794,
          0.2835939930713727,
          0.28484042964551837,
          0.2873299020167206,
          0.2868821428962648,
          0.2870308692932195,
          0.28963319503309376,
          0.2878377582932424,
          0.28240918398704107,
          0.2844200745313899,
          0.2854740523632274,
          0.28707858339208664,
          0.28222342213927953,
          0.28257746647966203,
          0.279666525911558,
          0.27765566061181013,
          0.2794580137917071,
          0.28078882439491976,
          0.27839115649877816,
          0.2824651879771754,
          0.27561518858667866,
          0.2729185186998289,
          0.27717039683706907,
          0.28018344081414226,
          0.2866986297915944,
          0.29196078275536597,
          0.2959875624665143,
          0.29657116809570744,
          0.2995732027270994,
          0.2947004588765007,
          0.2950688932938586,
          0.2970354645055127,
          0.2932314195371977,
          0.29496217850907874,
          0.29915348509634454,
          0.2977585727406839,
          0.2959101390288243,
          0.29666682806102096,
          0.29511711405752256,
          0.28675505755761677,
          0.2754719078703493,
          0.2657420362499948,
          0.27094771001988277,
          0.273180209743579,
          0.266071610002497,
          0.2627376134487087,
          0.27339172957638114,
          0.27186087551840216,
          0.278292868481752,
          0.2759686934054964,
          0.2771025192161677,
          0.2800751730695902,
          0.2821198897206324,
          0.27999178624133003,
          0.27863446067038866,
          0.28195900667468926,
          0.2802619333509581,
          0.2812957875898917,
          0.27920893393101637,
          0.2781899512120674,
          0.2806204015034304,
          0.28250266265405005,
          0.2841873610347134,
          0.2838702598091286,
          0.28409118550459583,
          0.2843659722167568,
          0.2865370335028139,
          0.28548012165100883,
          0.28827930030759785,
          0.2895067999474167,
          0.2887785219793613,
          0.2873568016640213,
          0.29324613887915685,
          0.29563517752731355,
          0.296337929542325,
          0.2992174886335151,
          0.2982047324701218,
          0.2895900607052374,
          0.29154559618269277,
          0.2945268597845949,
          0.29611513771136105,
          0.300328446639853,
          0.3034426891744069,
          0.3067359919038416,
          0.3114341941364923,
          0.3131001547699611,
          0.3117945971409933,
          0.31502836298034137,
          0.30615111486830116,
          0.3049779247861048,
          0.3029010405685781,
          0.29233522797511874,
          0.2899773312090886,
          0.28831259771629275,
          0.2912089711570084,
          0.2921786002462666,
          0.30448362011369823,
          0.3078062965071595,
          0.3124998187614662,
          0.31576599910410447,
          0.3144298396507476,
          0.3205836267851926,
          0.32645033559710046,
          0.3264976449796639,
          0.33091618608304285,
          0.328683668909961,
          0.32817523880616306,
          0.3339463549686936,
          0.3351111956235551,
          0.32937684427391395,
          0.3280242856615526,
          0.33791796597123686,
          0.3448434549040643,
          0.3455348398527171,
          0.3421938248285501,
          0.3444944026529313,
          0.34968226850222645,
          0.3497515288068212,
          0.35487193790075294,
          0.35523691027408705,
          0.3541654930557333,
          0.3452161994965664,
          0.3458800412966152,
          0.3454403923800852,
          0.3454042919899959,
          0.33387422514427495,
          0.3243241496870456,
          0.3279369254716185,
          0.3254925847693902,
          0.3322162923779934,
          0.3270686918641911,
          0.3207351181295318,
          0.3166783654665182,
          0.3195349992748983,
          0.31694550102818647,
          0.3006736427686613,
          0.2922690589307833,
          0.28569778508220395,
          0.2898309329552438,
          0.29371961188514034,
          0.3021867517541266,
          0.2972317617374768,
          0.29680094901623094,
          0.3021099232218838,
          0.31114575106345826,
          0.3145442454757191,
          0.3180895675363242,
          0.3194468604448681,
          0.3144587410569352,
          0.3124179804256349,
          0.3070585932037533,
          0.30930133469633814,
          0.30819992899482807,
          0.30244619869166045,
          0.29921960877631026,
          0.30756923383716583,
          0.31478804859838755,
          0.3179251334436485,
          0.31700929188551014,
          0.31676402284383565,
          0.3150483486919754,
          0.3117893092458094,
          0.30876248139644064,
          0.30922194090606,
          0.3056772036140124,
          0.3039587476739604,
          0.307062108382213,
          0.30489863499860165,
          0.30135281298741307,
          0.2950110303502236,
          0.2923103953509482,
          0.2855990228724369,
          0.27814565321893,
          0.27513172636418926,
          0.2820088777150298,
          0.2778545572859284,
          0.28302162622405963,
          0.28249576284624767,
          0.26650844838663434,
          0.26346470703255476,
          0.27209860313106765,
          0.27211928769814997,
          0.2722560288375755,
          0.26766085650944527,
          0.26200161589486926,
          0.25992570340240595,
          0.2557363232928554,
          0.2491978542658924,
          0.2419282501366787,
          0.24850741347408084,
          0.24460183784879247,
          0.23829854564092784,
          0.25423319855464704,
          0.2578990962928482,
          0.2630318318422458,
          0.2657500374390819,
          0.2705048842565455,
          0.2750789691595499,
          0.2736415910517659,
          0.2695222911149414,
          0.26661292353505633,
          0.2672549698551248,
          0.2683498641175607,
          0.267526057219705,
          0.2787805965186827,
          0.2855467672183879,
          0.28600032727725316,
          0.28517318467483127,
          0.2835015010746413,
          0.2853220515479126,
          0.28484202785718377,
          0.2832207234521042,
          0.28405291841214514,
          0.2819242861865175,
          0.28317508961782933,
          0.28913158735699723,
          0.29096470092643123,
          0.29071854889017945,
          0.2909134332955286,
          0.29150864170066865,
          0.2909242717925612,
          0.29430204008135574,
          0.2943167685005868,
          0.2932840778031606,
          0.2937123029765906,
          0.29168043859206744,
          0.29594918983993895,
          0.29684914631156817,
          0.2953711264193039,
          0.2966761348673961,
          0.300793585588871,
          0.3056382691489665,
          0.3099405906769572,
          0.3099309857711435,
          0.31288621681776757,
          0.3179577384853053,
          0.3178236448517483,
          0.3016876992114067,
          0.3044083090272344,
          0.3047797180137445,
          0.31043121131133816,
          0.3085850501027746,
          0.31333601450981236,
          0.31453129974352995,
          0.3136552365845595,
          0.31660065315610414,
          0.3176816406482922,
          0.32215423611355054,
          0.3214851807442935,
          0.31359212444668855,
          0.31755901343255394,
          0.32154933005356223,
          0.3277043649906514,
          0.3262263437873109,
          0.31243902654920386,
          0.31526518638130424,
          0.31965636021088967,
          0.3219288248280964,
          0.3273262560524604,
          0.33101705015881616,
          0.3336125982377591,
          0.3353555839987446,
          0.33875370827204654,
          0.3355847920824003,
          0.33597600957429474,
          0.3360032889695505,
          0.34055837656852894,
          0.34194293604278897,
          0.34319590019078916,
          0.3421379625720285,
          0.3403519683141614,
          0.33436172028645283,
          0.327692002255957,
          0.3315282203118845,
          0.3324594330351245,
          0.3304761788997327,
          0.32892116813459515,
          0.3256746319712904,
          0.3249169412036225,
          0.3281167822222596,
          0.32587849723322504,
          0.32376744109910177,
          0.3227138338628187,
          0.32653748175514796,
          0.3283445354481694,
          0.3354606810912469,
          0.3405370533393992,
          0.3414844125928394,
          0.3474469560652731,
          0.3504747184852517,
          0.3532681776473723,
          0.357734276456058,
          0.3624698411374347,
          0.3652564123710956,
          0.36354180165361927,
          0.36085030650009703,
          0.36072684149475104,
          0.3561981260515893,
          0.3579846883933989,
          0.3562436388748463,
          0.3558070619413246,
          0.35134807436490834,
          0.3514220067034851,
          0.3497558218412128,
          0.345991991642972,
          0.3467155083427957,
          0.3433339365094665,
          0.3483256642410066,
          0.3478496633768977,
          0.34617350668742053,
          0.3436845546947626,
          0.34372208147390154,
          0.3495579819011612,
          0.3517804580129887,
          0.3509663645179708,
          0.3492873882817903,
          0.3502421648938106,
          0.3502291977897809,
          0.35115442749430364,
          0.3506051775226189,
          0.34641928124257587,
          0.34671195596389354,
          0.3497844501077599,
          0.3512810343271701,
          0.3534963421798797,
          0.3565901921030719,
          0.35965452918713053,
          0.35990359045426107,
          0.3616230997411369,
          0.36206782315669245,
          0.3561357764219698,
          0.35695049125073364,
          0.35268843650281495,
          0.35400779243428393,
          0.3527571661839255,
          0.35036929855723464,
          0.35641198817976,
          0.3606018546688483,
          0.3621442000650666,
          0.36044976445861276,
          0.36040213447588587,
          0.36172488304531425,
          0.36412078297670936,
          0.3648087002907038,
          0.36341221251402034,
          0.3386682017464305,
          0.33426993467626503,
          0.33667208318261266,
          0.3400383168170434,
          0.3440011417257481,
          0.34574068208870207,
          0.34684932202243246,
          0.34540894443242853,
          0.3478999095750746,
          0.3478078911404097,
          0.345807781367707,
          0.34672347227499806,
          0.34563413083917016,
          0.34262987908244874,
          0.3438276708161068,
          0.34709396350848043,
          0.3474306961425893,
          0.34860688451924277,
          0.35027976079712736,
          0.35148580000006774,
          0.3504646137227195,
          0.3523268141402084,
          0.3532395714218601,
          0.3526122176661648,
          0.3484225071663254,
          0.3478905152906594,
          0.3468575028917654,
          0.34281411308451887,
          0.3435386452952382,
          0.3450090511658619,
          0.34307974610823444,
          0.34536977046220746,
          0.3451921348422278,
          0.3432988919305345,
          0.33480821556718676,
          0.3292698724568506,
          0.3249546015668637,
          0.3259702721542365,
          0.32607798024515555,
          0.329625585058151,
          0.335859211141253,
          0.3394863384899762,
          0.34061252519571295,
          0.34190716415327865,
          0.33951117892679267,
          0.3410611637725286,
          0.3419916723251795,
          0.3420231452001467,
          0.34266157005314984,
          0.34076879911286184,
          0.34263042169584,
          0.34886700801351544,
          0.35122497804107516,
          0.3502585301805212,
          0.3478896419657618,
          0.3474879671591516,
          0.3442988133068244,
          0.3454545369144808,
          0.3432151189003486,
          0.34361171326513257,
          0.3438979599908627,
          0.3468408569000472,
          0.3480699205657988,
          0.3503269948670948,
          0.34943606632547647,
          0.3504675239567755,
          0.3488640161583506,
          0.35116604546420815,
          0.3510511187306754,
          0.35153566285163246,
          0.3532058020228212,
          0.3537397053036519,
          0.3556514084211767,
          0.35418893833681414,
          0.3546670973662319,
          0.3566642868688677,
          0.35583421968118817,
          0.35236108365771734,
          0.3513935903135132,
          0.35067587172428616,
          0.34846314438752135,
          0.34921149995308454,
          0.35112608961994884,
          0.3511481718911413,
          0.35035893700490345,
          0.3469057097514014,
          0.34598336099531773,
          0.34685489021641835,
          0.34784440971246255,
          0.3483349757577456,
          0.34907759966374824,
          0.349858829082758,
          0.3517674172111856,
          0.35369429099176397,
          0.35477182009471964,
          0.35575466371011205,
          0.35227568776937773,
          0.352517709361849,
          0.352549691570341,
          0.3537274251225539,
          0.35543151588742616,
          0.35642267064953187,
          0.35850245096605227,
          0.3618443456712628,
          0.3599788763924278,
          0.3540882222916571,
          0.35588011355479304,
          0.3567448250116963,
          0.35498958087896215,
          0.35578502002438644,
          0.35465512912226926,
          0.35744035064464286,
          0.35670297864139006,
          0.3537010821216233,
          0.3523261856947327,
          0.3561498006949227,
          0.35791256450082093,
          0.3598159166254412,
          0.36079253716163506,
          0.36449807544713636,
          0.36271458732472855,
          0.36065546778850066,
          0.3582141701056148,
          0.3584111380687086,
          0.3612675575757032,
          0.3633916620813463,
          0.36379265544473693,
          0.36083129592357044,
          0.35857189450388366,
          0.35493744874639016,
          0.3412981724522666,
          0.3423416426938956,
          0.34411874009155763,
          0.34692151992942805,
          0.3477050004382851,
          0.3495880836169028,
          0.3462666432025674,
          0.3450124315526005,
          0.3493303416481222,
          0.350885960819219,
          0.3519447323438379,
          0.35163533908463396,
          0.348923470380348,
          0.3470570539351131,
          0.3453314975608454,
          0.34717189627251827,
          0.3489961849783797,
          0.3506143535627445,
          0.3529824078073162,
          0.35381644213060964,
          0.3502197974165813,
          0.34767635866178637,
          0.34928050086702206,
          0.3484430462840096,
          0.35091942214088273,
          0.34864963092745654,
          0.34565718538029105,
          0.3395895759424596,
          0.33964659767377814,
          0.3465912769124998,
          0.34438656558810565,
          0.34128410920728997,
          0.3442209277843769,
          0.3468909820802482,
          0.34608763604308723,
          0.34438579434377464,
          0.34241681883881353,
          0.3339372843569259,
          0.33585865584572283,
          0.3383914306621815,
          0.34068600597782656,
          0.3410074382598589,
          0.33998293861264206,
          0.3438642199934176,
          0.34440652933079924,
          0.3433381661905521,
          0.3395209509998481,
          0.33166846278648787,
          0.33170341428605077,
          0.32593265520159753,
          0.3267907550538197,
          0.3308568532105873,
          0.32872346450988643,
          0.3276729438155389,
          0.3257492182291308,
          0.3251727553062441,
          0.32907965356088126,
          0.3340335301882055,
          0.33593239457713847,
          0.33779447859355805,
          0.3398507743732918,
          0.34026920638002184,
          0.34370204272465693,
          0.34550608920505527,
          0.3478574766456042,
          0.3499307668260413,
          0.3508399192027066,
          0.35068084701571794,
          0.3491136450485747,
          0.3486092702691503,
          0.3504569492887403,
          0.3476580253605112,
          0.34661452254747543,
          0.3481495574212426,
          0.3483610906601555,
          0.35259617764165624,
          0.3547094099704148,
          0.35313382706153534,
          0.35409139680141827,
          0.35225770915775967,
          0.34837360442856957,
          0.3503493232144954,
          0.35182135231586387,
          0.3546329848130116,
          0.3536241225684782,
          0.3533405998566682,
          0.3507537971908509,
          0.3520713934873378,
          0.3521967845208639,
          0.3556531225375001,
          0.3553644514918376,
          0.35710919787177736,
          0.3578096787527914,
          0.35522837517934797,
          0.35445722938007884,
          0.3521632138654223,
          0.35255607100829767,
          0.35233523173388265,
          0.35477100327693123,
          0.3559511846224355,
          0.35615762954086533,
          0.35698482313027186,
          0.35710284648105517,
          0.3573372097805973,
          0.35848444816951897,
          0.35969245069727107,
          0.3591277157816393,
          0.3560097101378113,
          0.3546569605876214,
          0.35504621307917006,
          0.35564646438521685,
          0.35085645832101353,
          0.3501107914299499,
          0.3470631290819752,
          0.3460722268101015,
          0.3444539332315243,
          0.3453594840203468,
          0.34713438860099916,
          0.34150083856050967,
          0.3407475271345937,
          0.3416209406811443,
          0.3339974092497195,
          0.3189831180216401,
          0.31005680649096595,
          0.3109321958036479,
          0.3076481595527687,
          0.300249495590927,
          0.304944934186047,
          0.3140873652018175,
          0.31820463007427857,
          0.318401379332774,
          0.32275013673549463,
          0.3257076579553102,
          0.3290357856384263,
          0.3260733729620932,
          0.327162858061308,
          0.3299977747571943,
          0.32880063656158526,
          0.33063276772909883,
          0.3343711729673128,
          0.3372661664290851,
          0.3326570938079187,
          0.3283143834166686,
          0.3312237849537242,
          0.32762861761613915,
          0.3320550677201719,
          0.3340293274593216,
          0.3351917703765156,
          0.3383971441505527,
          0.33843380876711654,
          0.33994186657519576,
          0.34053098515917996,
          0.3408081413343966,
          0.3396447179542763,
          0.3381610616890947,
          0.33669926278178336,
          0.3315418847384089,
          0.32474487771799043,
          0.32984942473116236,
          0.328799015247977,
          0.32827568598538526,
          0.3316357376532235,
          0.33306608026825485,
          0.33365540780137304,
          0.33281056572082685,
          0.3285015720328224,
          0.3298108714919231,
          0.3289012129062353,
          0.32972148181265826,
          0.3310632036465774,
          0.33030201672012593,
          0.3301585333497577,
          0.3310024621092888,
          0.33352333418638574,
          0.33358801159809215,
          0.3353315116442878,
          0.33505226187036696,
          0.3367601180054341,
          0.3360957168978847,
          0.33865549584090776,
          0.3375759526307813,
          0.3396689406460526,
          0.34089276561166876,
          0.34197651361773923,
          0.3430626954517274,
          0.3421323029329352,
          0.34411283954169175,
          0.3442388619951523,
          0.3426412076791638,
          0.342294569825548,
          0.3437374052688296,
          0.3413496355918546,
          0.34305018141213256,
          0.34012561673439135,
          0.3407434984000212,
          0.34044599941902093,
          0.340201175430879,
          0.33825760008439276,
          0.34057485169245344,
          0.3399132860986055,
          0.33996041699047463,
          0.33937123726641344,
          0.33803929117048487,
          0.33570345099185595,
          0.33368563711144605,
          0.33012649039045916,
          0.33196708160272886,
          0.3315708343875206,
          0.32890691555936313,
          0.32488645132416416,
          0.32538179926549593,
          0.32848748876402406,
          0.32984034810103685,
          0.32915116362096375,
          0.329498931203971,
          0.33188018441719186,
          0.3323525291725936,
          0.33245809142288374,
          0.3300427609979199,
          0.33352781617440974,
          0.333889449684944,
          0.33420962067627674,
          0.33417564450872855,
          0.33408535263508704,
          0.33385493767247243,
          0.33279117950862397,
          0.3332853738105366,
          0.33295544370849633,
          0.3318167946410219,
          0.33396026125111417,
          0.3336250240319897,
          0.3349609678376891,
          0.3356953523577414,
          0.33620311977527684,
          0.33346084670000614,
          0.33320308965018586,
          0.33305617112654695,
          0.3345268930399123,
          0.3351260119792048,
          0.33499481712974194,
          0.3354004068839814,
          0.33472691552702855,
          0.32989509763921226,
          0.32895802881278885,
          0.3220631183708048
         ]
        }
       ],
       "layout": {
        "template": {
         "data": {
          "bar": [
           {
            "error_x": {
             "color": "#2a3f5f"
            },
            "error_y": {
             "color": "#2a3f5f"
            },
            "marker": {
             "line": {
              "color": "#E5ECF6",
              "width": 0.5
             }
            },
            "type": "bar"
           }
          ],
          "barpolar": [
           {
            "marker": {
             "line": {
              "color": "#E5ECF6",
              "width": 0.5
             }
            },
            "type": "barpolar"
           }
          ],
          "carpet": [
           {
            "aaxis": {
             "endlinecolor": "#2a3f5f",
             "gridcolor": "white",
             "linecolor": "white",
             "minorgridcolor": "white",
             "startlinecolor": "#2a3f5f"
            },
            "baxis": {
             "endlinecolor": "#2a3f5f",
             "gridcolor": "white",
             "linecolor": "white",
             "minorgridcolor": "white",
             "startlinecolor": "#2a3f5f"
            },
            "type": "carpet"
           }
          ],
          "choropleth": [
           {
            "colorbar": {
             "outlinewidth": 0,
             "ticks": ""
            },
            "type": "choropleth"
           }
          ],
          "contour": [
           {
            "colorbar": {
             "outlinewidth": 0,
             "ticks": ""
            },
            "colorscale": [
             [
              0.0,
              "#0d0887"
             ],
             [
              0.1111111111111111,
              "#46039f"
             ],
             [
              0.2222222222222222,
              "#7201a8"
             ],
             [
              0.3333333333333333,
              "#9c179e"
             ],
             [
              0.4444444444444444,
              "#bd3786"
             ],
             [
              0.5555555555555556,
              "#d8576b"
             ],
             [
              0.6666666666666666,
              "#ed7953"
             ],
             [
              0.7777777777777778,
              "#fb9f3a"
             ],
             [
              0.8888888888888888,
              "#fdca26"
             ],
             [
              1.0,
              "#f0f921"
             ]
            ],
            "type": "contour"
           }
          ],
          "contourcarpet": [
           {
            "colorbar": {
             "outlinewidth": 0,
             "ticks": ""
            },
            "type": "contourcarpet"
           }
          ],
          "heatmap": [
           {
            "colorbar": {
             "outlinewidth": 0,
             "ticks": ""
            },
            "colorscale": [
             [
              0.0,
              "#0d0887"
             ],
             [
              0.1111111111111111,
              "#46039f"
             ],
             [
              0.2222222222222222,
              "#7201a8"
             ],
             [
              0.3333333333333333,
              "#9c179e"
             ],
             [
              0.4444444444444444,
              "#bd3786"
             ],
             [
              0.5555555555555556,
              "#d8576b"
             ],
             [
              0.6666666666666666,
              "#ed7953"
             ],
             [
              0.7777777777777778,
              "#fb9f3a"
             ],
             [
              0.8888888888888888,
              "#fdca26"
             ],
             [
              1.0,
              "#f0f921"
             ]
            ],
            "type": "heatmap"
           }
          ],
          "heatmapgl": [
           {
            "colorbar": {
             "outlinewidth": 0,
             "ticks": ""
            },
            "colorscale": [
             [
              0.0,
              "#0d0887"
             ],
             [
              0.1111111111111111,
              "#46039f"
             ],
             [
              0.2222222222222222,
              "#7201a8"
             ],
             [
              0.3333333333333333,
              "#9c179e"
             ],
             [
              0.4444444444444444,
              "#bd3786"
             ],
             [
              0.5555555555555556,
              "#d8576b"
             ],
             [
              0.6666666666666666,
              "#ed7953"
             ],
             [
              0.7777777777777778,
              "#fb9f3a"
             ],
             [
              0.8888888888888888,
              "#fdca26"
             ],
             [
              1.0,
              "#f0f921"
             ]
            ],
            "type": "heatmapgl"
           }
          ],
          "histogram": [
           {
            "marker": {
             "colorbar": {
              "outlinewidth": 0,
              "ticks": ""
             }
            },
            "type": "histogram"
           }
          ],
          "histogram2d": [
           {
            "colorbar": {
             "outlinewidth": 0,
             "ticks": ""
            },
            "colorscale": [
             [
              0.0,
              "#0d0887"
             ],
             [
              0.1111111111111111,
              "#46039f"
             ],
             [
              0.2222222222222222,
              "#7201a8"
             ],
             [
              0.3333333333333333,
              "#9c179e"
             ],
             [
              0.4444444444444444,
              "#bd3786"
             ],
             [
              0.5555555555555556,
              "#d8576b"
             ],
             [
              0.6666666666666666,
              "#ed7953"
             ],
             [
              0.7777777777777778,
              "#fb9f3a"
             ],
             [
              0.8888888888888888,
              "#fdca26"
             ],
             [
              1.0,
              "#f0f921"
             ]
            ],
            "type": "histogram2d"
           }
          ],
          "histogram2dcontour": [
           {
            "colorbar": {
             "outlinewidth": 0,
             "ticks": ""
            },
            "colorscale": [
             [
              0.0,
              "#0d0887"
             ],
             [
              0.1111111111111111,
              "#46039f"
             ],
             [
              0.2222222222222222,
              "#7201a8"
             ],
             [
              0.3333333333333333,
              "#9c179e"
             ],
             [
              0.4444444444444444,
              "#bd3786"
             ],
             [
              0.5555555555555556,
              "#d8576b"
             ],
             [
              0.6666666666666666,
              "#ed7953"
             ],
             [
              0.7777777777777778,
              "#fb9f3a"
             ],
             [
              0.8888888888888888,
              "#fdca26"
             ],
             [
              1.0,
              "#f0f921"
             ]
            ],
            "type": "histogram2dcontour"
           }
          ],
          "mesh3d": [
           {
            "colorbar": {
             "outlinewidth": 0,
             "ticks": ""
            },
            "type": "mesh3d"
           }
          ],
          "parcoords": [
           {
            "line": {
             "colorbar": {
              "outlinewidth": 0,
              "ticks": ""
             }
            },
            "type": "parcoords"
           }
          ],
          "pie": [
           {
            "automargin": true,
            "type": "pie"
           }
          ],
          "scatter": [
           {
            "marker": {
             "colorbar": {
              "outlinewidth": 0,
              "ticks": ""
             }
            },
            "type": "scatter"
           }
          ],
          "scatter3d": [
           {
            "line": {
             "colorbar": {
              "outlinewidth": 0,
              "ticks": ""
             }
            },
            "marker": {
             "colorbar": {
              "outlinewidth": 0,
              "ticks": ""
             }
            },
            "type": "scatter3d"
           }
          ],
          "scattercarpet": [
           {
            "marker": {
             "colorbar": {
              "outlinewidth": 0,
              "ticks": ""
             }
            },
            "type": "scattercarpet"
           }
          ],
          "scattergeo": [
           {
            "marker": {
             "colorbar": {
              "outlinewidth": 0,
              "ticks": ""
             }
            },
            "type": "scattergeo"
           }
          ],
          "scattergl": [
           {
            "marker": {
             "colorbar": {
              "outlinewidth": 0,
              "ticks": ""
             }
            },
            "type": "scattergl"
           }
          ],
          "scattermapbox": [
           {
            "marker": {
             "colorbar": {
              "outlinewidth": 0,
              "ticks": ""
             }
            },
            "type": "scattermapbox"
           }
          ],
          "scatterpolar": [
           {
            "marker": {
             "colorbar": {
              "outlinewidth": 0,
              "ticks": ""
             }
            },
            "type": "scatterpolar"
           }
          ],
          "scatterpolargl": [
           {
            "marker": {
             "colorbar": {
              "outlinewidth": 0,
              "ticks": ""
             }
            },
            "type": "scatterpolargl"
           }
          ],
          "scatterternary": [
           {
            "marker": {
             "colorbar": {
              "outlinewidth": 0,
              "ticks": ""
             }
            },
            "type": "scatterternary"
           }
          ],
          "surface": [
           {
            "colorbar": {
             "outlinewidth": 0,
             "ticks": ""
            },
            "colorscale": [
             [
              0.0,
              "#0d0887"
             ],
             [
              0.1111111111111111,
              "#46039f"
             ],
             [
              0.2222222222222222,
              "#7201a8"
             ],
             [
              0.3333333333333333,
              "#9c179e"
             ],
             [
              0.4444444444444444,
              "#bd3786"
             ],
             [
              0.5555555555555556,
              "#d8576b"
             ],
             [
              0.6666666666666666,
              "#ed7953"
             ],
             [
              0.7777777777777778,
              "#fb9f3a"
             ],
             [
              0.8888888888888888,
              "#fdca26"
             ],
             [
              1.0,
              "#f0f921"
             ]
            ],
            "type": "surface"
           }
          ],
          "table": [
           {
            "cells": {
             "fill": {
              "color": "#EBF0F8"
             },
             "line": {
              "color": "white"
             }
            },
            "header": {
             "fill": {
              "color": "#C8D4E3"
             },
             "line": {
              "color": "white"
             }
            },
            "type": "table"
           }
          ]
         },
         "layout": {
          "annotationdefaults": {
           "arrowcolor": "#2a3f5f",
           "arrowhead": 0,
           "arrowwidth": 1
          },
          "coloraxis": {
           "colorbar": {
            "outlinewidth": 0,
            "ticks": ""
           }
          },
          "colorscale": {
           "diverging": [
            [
             0,
             "#8e0152"
            ],
            [
             0.1,
             "#c51b7d"
            ],
            [
             0.2,
             "#de77ae"
            ],
            [
             0.3,
             "#f1b6da"
            ],
            [
             0.4,
             "#fde0ef"
            ],
            [
             0.5,
             "#f7f7f7"
            ],
            [
             0.6,
             "#e6f5d0"
            ],
            [
             0.7,
             "#b8e186"
            ],
            [
             0.8,
             "#7fbc41"
            ],
            [
             0.9,
             "#4d9221"
            ],
            [
             1,
             "#276419"
            ]
           ],
           "sequential": [
            [
             0.0,
             "#0d0887"
            ],
            [
             0.1111111111111111,
             "#46039f"
            ],
            [
             0.2222222222222222,
             "#7201a8"
            ],
            [
             0.3333333333333333,
             "#9c179e"
            ],
            [
             0.4444444444444444,
             "#bd3786"
            ],
            [
             0.5555555555555556,
             "#d8576b"
            ],
            [
             0.6666666666666666,
             "#ed7953"
            ],
            [
             0.7777777777777778,
             "#fb9f3a"
            ],
            [
             0.8888888888888888,
             "#fdca26"
            ],
            [
             1.0,
             "#f0f921"
            ]
           ],
           "sequentialminus": [
            [
             0.0,
             "#0d0887"
            ],
            [
             0.1111111111111111,
             "#46039f"
            ],
            [
             0.2222222222222222,
             "#7201a8"
            ],
            [
             0.3333333333333333,
             "#9c179e"
            ],
            [
             0.4444444444444444,
             "#bd3786"
            ],
            [
             0.5555555555555556,
             "#d8576b"
            ],
            [
             0.6666666666666666,
             "#ed7953"
            ],
            [
             0.7777777777777778,
             "#fb9f3a"
            ],
            [
             0.8888888888888888,
             "#fdca26"
            ],
            [
             1.0,
             "#f0f921"
            ]
           ]
          },
          "colorway": [
           "#636efa",
           "#EF553B",
           "#00cc96",
           "#ab63fa",
           "#FFA15A",
           "#19d3f3",
           "#FF6692",
           "#B6E880",
           "#FF97FF",
           "#FECB52"
          ],
          "font": {
           "color": "#2a3f5f"
          },
          "geo": {
           "bgcolor": "white",
           "lakecolor": "white",
           "landcolor": "#E5ECF6",
           "showlakes": true,
           "showland": true,
           "subunitcolor": "white"
          },
          "hoverlabel": {
           "align": "left"
          },
          "hovermode": "closest",
          "mapbox": {
           "style": "light"
          },
          "paper_bgcolor": "white",
          "plot_bgcolor": "#E5ECF6",
          "polar": {
           "angularaxis": {
            "gridcolor": "white",
            "linecolor": "white",
            "ticks": ""
           },
           "bgcolor": "#E5ECF6",
           "radialaxis": {
            "gridcolor": "white",
            "linecolor": "white",
            "ticks": ""
           }
          },
          "scene": {
           "xaxis": {
            "backgroundcolor": "#E5ECF6",
            "gridcolor": "white",
            "gridwidth": 2,
            "linecolor": "white",
            "showbackground": true,
            "ticks": "",
            "zerolinecolor": "white"
           },
           "yaxis": {
            "backgroundcolor": "#E5ECF6",
            "gridcolor": "white",
            "gridwidth": 2,
            "linecolor": "white",
            "showbackground": true,
            "ticks": "",
            "zerolinecolor": "white"
           },
           "zaxis": {
            "backgroundcolor": "#E5ECF6",
            "gridcolor": "white",
            "gridwidth": 2,
            "linecolor": "white",
            "showbackground": true,
            "ticks": "",
            "zerolinecolor": "white"
           }
          },
          "shapedefaults": {
           "line": {
            "color": "#2a3f5f"
           }
          },
          "ternary": {
           "aaxis": {
            "gridcolor": "white",
            "linecolor": "white",
            "ticks": ""
           },
           "baxis": {
            "gridcolor": "white",
            "linecolor": "white",
            "ticks": ""
           },
           "bgcolor": "#E5ECF6",
           "caxis": {
            "gridcolor": "white",
            "linecolor": "white",
            "ticks": ""
           }
          },
          "title": {
           "x": 0.05
          },
          "xaxis": {
           "automargin": true,
           "gridcolor": "white",
           "linecolor": "white",
           "ticks": "",
           "title": {
            "standoff": 15
           },
           "zerolinecolor": "white",
           "zerolinewidth": 2
          },
          "yaxis": {
           "automargin": true,
           "gridcolor": "white",
           "linecolor": "white",
           "ticks": "",
           "title": {
            "standoff": 15
           },
           "zerolinecolor": "white",
           "zerolinewidth": 2
          }
         }
        }
       }
      },
      "text/html": "<div>\n        \n        \n            <div id=\"fe06a082-eff5-4538-b82d-b659f40d9e0c\" class=\"plotly-graph-div\" style=\"height:525px; width:100%;\"></div>\n            <script type=\"text/javascript\">\n                require([\"plotly\"], function(Plotly) {\n                    window.PLOTLYENV=window.PLOTLYENV || {};\n                    \n                if (document.getElementById(\"fe06a082-eff5-4538-b82d-b659f40d9e0c\")) {\n                    Plotly.newPlot(\n                        'fe06a082-eff5-4538-b82d-b659f40d9e0c',\n                        [{\"name\": \"VW\", \"type\": \"scatter\", \"x\": [\"1945-01-01T00:00:00\", \"1945-02-01T00:00:00\", \"1945-03-01T00:00:00\", \"1945-04-01T00:00:00\", \"1945-05-01T00:00:00\", \"1945-06-01T00:00:00\", \"1945-07-01T00:00:00\", \"1945-08-01T00:00:00\", \"1945-09-01T00:00:00\", \"1945-10-01T00:00:00\", \"1945-11-01T00:00:00\", \"1945-12-01T00:00:00\", \"1946-01-01T00:00:00\", \"1946-02-01T00:00:00\", \"1946-03-01T00:00:00\", \"1946-04-01T00:00:00\", \"1946-05-01T00:00:00\", \"1946-06-01T00:00:00\", \"1946-07-01T00:00:00\", \"1946-08-01T00:00:00\", \"1946-09-01T00:00:00\", \"1946-10-01T00:00:00\", \"1946-11-01T00:00:00\", \"1946-12-01T00:00:00\", \"1947-01-01T00:00:00\", \"1947-02-01T00:00:00\", \"1947-03-01T00:00:00\", \"1947-04-01T00:00:00\", \"1947-05-01T00:00:00\", \"1947-06-01T00:00:00\", \"1947-07-01T00:00:00\", \"1947-08-01T00:00:00\", \"1947-09-01T00:00:00\", \"1947-10-01T00:00:00\", \"1947-11-01T00:00:00\", \"1947-12-01T00:00:00\", \"1948-01-01T00:00:00\", \"1948-02-01T00:00:00\", \"1948-03-01T00:00:00\", \"1948-04-01T00:00:00\", \"1948-05-01T00:00:00\", \"1948-06-01T00:00:00\", \"1948-07-01T00:00:00\", \"1948-08-01T00:00:00\", \"1948-09-01T00:00:00\", \"1948-10-01T00:00:00\", \"1948-11-01T00:00:00\", \"1948-12-01T00:00:00\", \"1949-01-01T00:00:00\", \"1949-02-01T00:00:00\", \"1949-03-01T00:00:00\", \"1949-04-01T00:00:00\", \"1949-05-01T00:00:00\", \"1949-06-01T00:00:00\", \"1949-07-01T00:00:00\", \"1949-08-01T00:00:00\", \"1949-09-01T00:00:00\", \"1949-10-01T00:00:00\", \"1949-11-01T00:00:00\", \"1949-12-01T00:00:00\", \"1950-01-01T00:00:00\", \"1950-02-01T00:00:00\", \"1950-03-01T00:00:00\", \"1950-04-01T00:00:00\", \"1950-05-01T00:00:00\", \"1950-06-01T00:00:00\", \"1950-07-01T00:00:00\", \"1950-08-01T00:00:00\", \"1950-09-01T00:00:00\", \"1950-10-01T00:00:00\", \"1950-11-01T00:00:00\", \"1950-12-01T00:00:00\", \"1951-01-01T00:00:00\", \"1951-02-01T00:00:00\", \"1951-03-01T00:00:00\", \"1951-04-01T00:00:00\", \"1951-05-01T00:00:00\", \"1951-06-01T00:00:00\", \"1951-07-01T00:00:00\", \"1951-08-01T00:00:00\", \"1951-09-01T00:00:00\", \"1951-10-01T00:00:00\", \"1951-11-01T00:00:00\", \"1951-12-01T00:00:00\", \"1952-01-01T00:00:00\", \"1952-02-01T00:00:00\", \"1952-03-01T00:00:00\", \"1952-04-01T00:00:00\", \"1952-05-01T00:00:00\", \"1952-06-01T00:00:00\", \"1952-07-01T00:00:00\", \"1952-08-01T00:00:00\", \"1952-09-01T00:00:00\", \"1952-10-01T00:00:00\", \"1952-11-01T00:00:00\", \"1952-12-01T00:00:00\", \"1953-01-01T00:00:00\", \"1953-02-01T00:00:00\", \"1953-03-01T00:00:00\", \"1953-04-01T00:00:00\", \"1953-05-01T00:00:00\", \"1953-06-01T00:00:00\", \"1953-07-01T00:00:00\", \"1953-08-01T00:00:00\", \"1953-09-01T00:00:00\", \"1953-10-01T00:00:00\", \"1953-11-01T00:00:00\", \"1953-12-01T00:00:00\", \"1954-01-01T00:00:00\", \"1954-02-01T00:00:00\", \"1954-03-01T00:00:00\", \"1954-04-01T00:00:00\", \"1954-05-01T00:00:00\", \"1954-06-01T00:00:00\", \"1954-07-01T00:00:00\", \"1954-08-01T00:00:00\", \"1954-09-01T00:00:00\", \"1954-10-01T00:00:00\", \"1954-11-01T00:00:00\", \"1954-12-01T00:00:00\", \"1955-01-01T00:00:00\", \"1955-02-01T00:00:00\", \"1955-03-01T00:00:00\", \"1955-04-01T00:00:00\", \"1955-05-01T00:00:00\", \"1955-06-01T00:00:00\", \"1955-07-01T00:00:00\", \"1955-08-01T00:00:00\", \"1955-09-01T00:00:00\", \"1955-10-01T00:00:00\", \"1955-11-01T00:00:00\", \"1955-12-01T00:00:00\", \"1956-01-01T00:00:00\", \"1956-02-01T00:00:00\", \"1956-03-01T00:00:00\", \"1956-04-01T00:00:00\", \"1956-05-01T00:00:00\", \"1956-06-01T00:00:00\", \"1956-07-01T00:00:00\", \"1956-08-01T00:00:00\", \"1956-09-01T00:00:00\", \"1956-10-01T00:00:00\", \"1956-11-01T00:00:00\", \"1956-12-01T00:00:00\", \"1957-01-01T00:00:00\", \"1957-02-01T00:00:00\", \"1957-03-01T00:00:00\", \"1957-04-01T00:00:00\", \"1957-05-01T00:00:00\", \"1957-06-01T00:00:00\", \"1957-07-01T00:00:00\", \"1957-08-01T00:00:00\", \"1957-09-01T00:00:00\", \"1957-10-01T00:00:00\", \"1957-11-01T00:00:00\", \"1957-12-01T00:00:00\", \"1958-01-01T00:00:00\", \"1958-02-01T00:00:00\", \"1958-03-01T00:00:00\", \"1958-04-01T00:00:00\", \"1958-05-01T00:00:00\", \"1958-06-01T00:00:00\", \"1958-07-01T00:00:00\", \"1958-08-01T00:00:00\", \"1958-09-01T00:00:00\", \"1958-10-01T00:00:00\", \"1958-11-01T00:00:00\", \"1958-12-01T00:00:00\", \"1959-01-01T00:00:00\", \"1959-02-01T00:00:00\", \"1959-03-01T00:00:00\", \"1959-04-01T00:00:00\", \"1959-05-01T00:00:00\", \"1959-06-01T00:00:00\", \"1959-07-01T00:00:00\", \"1959-08-01T00:00:00\", \"1959-09-01T00:00:00\", \"1959-10-01T00:00:00\", \"1959-11-01T00:00:00\", \"1959-12-01T00:00:00\", \"1960-01-01T00:00:00\", \"1960-02-01T00:00:00\", \"1960-03-01T00:00:00\", \"1960-04-01T00:00:00\", \"1960-05-01T00:00:00\", \"1960-06-01T00:00:00\", \"1960-07-01T00:00:00\", \"1960-08-01T00:00:00\", \"1960-09-01T00:00:00\", \"1960-10-01T00:00:00\", \"1960-11-01T00:00:00\", \"1960-12-01T00:00:00\", \"1961-01-01T00:00:00\", \"1961-02-01T00:00:00\", \"1961-03-01T00:00:00\", \"1961-04-01T00:00:00\", \"1961-05-01T00:00:00\", \"1961-06-01T00:00:00\", \"1961-07-01T00:00:00\", \"1961-08-01T00:00:00\", \"1961-09-01T00:00:00\", \"1961-10-01T00:00:00\", \"1961-11-01T00:00:00\", \"1961-12-01T00:00:00\", \"1962-01-01T00:00:00\", \"1962-02-01T00:00:00\", \"1962-03-01T00:00:00\", \"1962-04-01T00:00:00\", \"1962-05-01T00:00:00\", \"1962-06-01T00:00:00\", \"1962-07-01T00:00:00\", \"1962-08-01T00:00:00\", \"1962-09-01T00:00:00\", \"1962-10-01T00:00:00\", \"1962-11-01T00:00:00\", \"1962-12-01T00:00:00\", \"1963-01-01T00:00:00\", \"1963-02-01T00:00:00\", \"1963-03-01T00:00:00\", \"1963-04-01T00:00:00\", \"1963-05-01T00:00:00\", \"1963-06-01T00:00:00\", \"1963-07-01T00:00:00\", \"1963-08-01T00:00:00\", \"1963-09-01T00:00:00\", \"1963-10-01T00:00:00\", \"1963-11-01T00:00:00\", \"1963-12-01T00:00:00\", \"1964-01-01T00:00:00\", \"1964-02-01T00:00:00\", \"1964-03-01T00:00:00\", \"1964-04-01T00:00:00\", \"1964-05-01T00:00:00\", \"1964-06-01T00:00:00\", \"1964-07-01T00:00:00\", \"1964-08-01T00:00:00\", \"1964-09-01T00:00:00\", \"1964-10-01T00:00:00\", \"1964-11-01T00:00:00\", \"1964-12-01T00:00:00\", \"1965-01-01T00:00:00\", \"1965-02-01T00:00:00\", \"1965-03-01T00:00:00\", \"1965-04-01T00:00:00\", \"1965-05-01T00:00:00\", \"1965-06-01T00:00:00\", \"1965-07-01T00:00:00\", \"1965-08-01T00:00:00\", \"1965-09-01T00:00:00\", \"1965-10-01T00:00:00\", \"1965-11-01T00:00:00\", \"1965-12-01T00:00:00\", \"1966-01-01T00:00:00\", \"1966-02-01T00:00:00\", \"1966-03-01T00:00:00\", \"1966-04-01T00:00:00\", \"1966-05-01T00:00:00\", \"1966-06-01T00:00:00\", \"1966-07-01T00:00:00\", \"1966-08-01T00:00:00\", \"1966-09-01T00:00:00\", \"1966-10-01T00:00:00\", \"1966-11-01T00:00:00\", \"1966-12-01T00:00:00\", \"1967-01-01T00:00:00\", \"1967-02-01T00:00:00\", \"1967-03-01T00:00:00\", \"1967-04-01T00:00:00\", \"1967-05-01T00:00:00\", \"1967-06-01T00:00:00\", \"1967-07-01T00:00:00\", \"1967-08-01T00:00:00\", \"1967-09-01T00:00:00\", \"1967-10-01T00:00:00\", \"1967-11-01T00:00:00\", \"1967-12-01T00:00:00\", \"1968-01-01T00:00:00\", \"1968-02-01T00:00:00\", \"1968-03-01T00:00:00\", \"1968-04-01T00:00:00\", \"1968-05-01T00:00:00\", \"1968-06-01T00:00:00\", \"1968-07-01T00:00:00\", \"1968-08-01T00:00:00\", \"1968-09-01T00:00:00\", \"1968-10-01T00:00:00\", \"1968-11-01T00:00:00\", \"1968-12-01T00:00:00\", \"1969-01-01T00:00:00\", \"1969-02-01T00:00:00\", \"1969-03-01T00:00:00\", \"1969-04-01T00:00:00\", \"1969-05-01T00:00:00\", \"1969-06-01T00:00:00\", \"1969-07-01T00:00:00\", \"1969-08-01T00:00:00\", \"1969-09-01T00:00:00\", \"1969-10-01T00:00:00\", \"1969-11-01T00:00:00\", \"1969-12-01T00:00:00\", \"1970-01-01T00:00:00\", \"1970-02-01T00:00:00\", \"1970-03-01T00:00:00\", \"1970-04-01T00:00:00\", \"1970-05-01T00:00:00\", \"1970-06-01T00:00:00\", \"1970-07-01T00:00:00\", \"1970-08-01T00:00:00\", \"1970-09-01T00:00:00\", \"1970-10-01T00:00:00\", \"1970-11-01T00:00:00\", \"1970-12-01T00:00:00\", \"1971-01-01T00:00:00\", \"1971-02-01T00:00:00\", \"1971-03-01T00:00:00\", \"1971-04-01T00:00:00\", \"1971-05-01T00:00:00\", \"1971-06-01T00:00:00\", \"1971-07-01T00:00:00\", \"1971-08-01T00:00:00\", \"1971-09-01T00:00:00\", \"1971-10-01T00:00:00\", \"1971-11-01T00:00:00\", \"1971-12-01T00:00:00\", \"1972-01-01T00:00:00\", \"1972-02-01T00:00:00\", \"1972-03-01T00:00:00\", \"1972-04-01T00:00:00\", \"1972-05-01T00:00:00\", \"1972-06-01T00:00:00\", \"1972-07-01T00:00:00\", \"1972-08-01T00:00:00\", \"1972-09-01T00:00:00\", \"1972-10-01T00:00:00\", \"1972-11-01T00:00:00\", \"1972-12-01T00:00:00\", \"1973-01-01T00:00:00\", \"1973-02-01T00:00:00\", \"1973-03-01T00:00:00\", \"1973-04-01T00:00:00\", \"1973-05-01T00:00:00\", \"1973-06-01T00:00:00\", \"1973-07-01T00:00:00\", \"1973-08-01T00:00:00\", \"1973-09-01T00:00:00\", \"1973-10-01T00:00:00\", \"1973-11-01T00:00:00\", \"1973-12-01T00:00:00\", \"1974-01-01T00:00:00\", \"1974-02-01T00:00:00\", \"1974-03-01T00:00:00\", \"1974-04-01T00:00:00\", \"1974-05-01T00:00:00\", \"1974-06-01T00:00:00\", \"1974-07-01T00:00:00\", \"1974-08-01T00:00:00\", \"1974-09-01T00:00:00\", \"1974-10-01T00:00:00\", \"1974-11-01T00:00:00\", \"1974-12-01T00:00:00\", \"1975-01-01T00:00:00\", \"1975-02-01T00:00:00\", \"1975-03-01T00:00:00\", \"1975-04-01T00:00:00\", \"1975-05-01T00:00:00\", \"1975-06-01T00:00:00\", \"1975-07-01T00:00:00\", \"1975-08-01T00:00:00\", \"1975-09-01T00:00:00\", \"1975-10-01T00:00:00\", \"1975-11-01T00:00:00\", \"1975-12-01T00:00:00\", \"1976-01-01T00:00:00\", \"1976-02-01T00:00:00\", \"1976-03-01T00:00:00\", \"1976-04-01T00:00:00\", \"1976-05-01T00:00:00\", \"1976-06-01T00:00:00\", \"1976-07-01T00:00:00\", \"1976-08-01T00:00:00\", \"1976-09-01T00:00:00\", \"1976-10-01T00:00:00\", \"1976-11-01T00:00:00\", \"1976-12-01T00:00:00\", \"1977-01-01T00:00:00\", \"1977-02-01T00:00:00\", \"1977-03-01T00:00:00\", \"1977-04-01T00:00:00\", \"1977-05-01T00:00:00\", \"1977-06-01T00:00:00\", \"1977-07-01T00:00:00\", \"1977-08-01T00:00:00\", \"1977-09-01T00:00:00\", \"1977-10-01T00:00:00\", \"1977-11-01T00:00:00\", \"1977-12-01T00:00:00\", \"1978-01-01T00:00:00\", \"1978-02-01T00:00:00\", \"1978-03-01T00:00:00\", \"1978-04-01T00:00:00\", \"1978-05-01T00:00:00\", \"1978-06-01T00:00:00\", \"1978-07-01T00:00:00\", \"1978-08-01T00:00:00\", \"1978-09-01T00:00:00\", \"1978-10-01T00:00:00\", \"1978-11-01T00:00:00\", \"1978-12-01T00:00:00\", \"1979-01-01T00:00:00\", \"1979-02-01T00:00:00\", \"1979-03-01T00:00:00\", \"1979-04-01T00:00:00\", \"1979-05-01T00:00:00\", \"1979-06-01T00:00:00\", \"1979-07-01T00:00:00\", \"1979-08-01T00:00:00\", \"1979-09-01T00:00:00\", \"1979-10-01T00:00:00\", \"1979-11-01T00:00:00\", \"1979-12-01T00:00:00\", \"1980-01-01T00:00:00\", \"1980-02-01T00:00:00\", \"1980-03-01T00:00:00\", \"1980-04-01T00:00:00\", \"1980-05-01T00:00:00\", \"1980-06-01T00:00:00\", \"1980-07-01T00:00:00\", \"1980-08-01T00:00:00\", \"1980-09-01T00:00:00\", \"1980-10-01T00:00:00\", \"1980-11-01T00:00:00\", \"1980-12-01T00:00:00\", \"1981-01-01T00:00:00\", \"1981-02-01T00:00:00\", \"1981-03-01T00:00:00\", \"1981-04-01T00:00:00\", \"1981-05-01T00:00:00\", \"1981-06-01T00:00:00\", \"1981-07-01T00:00:00\", \"1981-08-01T00:00:00\", \"1981-09-01T00:00:00\", \"1981-10-01T00:00:00\", \"1981-11-01T00:00:00\", \"1981-12-01T00:00:00\", \"1982-01-01T00:00:00\", \"1982-02-01T00:00:00\", \"1982-03-01T00:00:00\", \"1982-04-01T00:00:00\", \"1982-05-01T00:00:00\", \"1982-06-01T00:00:00\", \"1982-07-01T00:00:00\", \"1982-08-01T00:00:00\", \"1982-09-01T00:00:00\", \"1982-10-01T00:00:00\", \"1982-11-01T00:00:00\", \"1982-12-01T00:00:00\", \"1983-01-01T00:00:00\", \"1983-02-01T00:00:00\", \"1983-03-01T00:00:00\", \"1983-04-01T00:00:00\", \"1983-05-01T00:00:00\", \"1983-06-01T00:00:00\", \"1983-07-01T00:00:00\", \"1983-08-01T00:00:00\", \"1983-09-01T00:00:00\", \"1983-10-01T00:00:00\", \"1983-11-01T00:00:00\", \"1983-12-01T00:00:00\", \"1984-01-01T00:00:00\", \"1984-02-01T00:00:00\", \"1984-03-01T00:00:00\", \"1984-04-01T00:00:00\", \"1984-05-01T00:00:00\", \"1984-06-01T00:00:00\", \"1984-07-01T00:00:00\", \"1984-08-01T00:00:00\", \"1984-09-01T00:00:00\", \"1984-10-01T00:00:00\", \"1984-11-01T00:00:00\", \"1984-12-01T00:00:00\", \"1985-01-01T00:00:00\", \"1985-02-01T00:00:00\", \"1985-03-01T00:00:00\", \"1985-04-01T00:00:00\", \"1985-05-01T00:00:00\", \"1985-06-01T00:00:00\", \"1985-07-01T00:00:00\", \"1985-08-01T00:00:00\", \"1985-09-01T00:00:00\", \"1985-10-01T00:00:00\", \"1985-11-01T00:00:00\", \"1985-12-01T00:00:00\", \"1986-01-01T00:00:00\", \"1986-02-01T00:00:00\", \"1986-03-01T00:00:00\", \"1986-04-01T00:00:00\", \"1986-05-01T00:00:00\", \"1986-06-01T00:00:00\", \"1986-07-01T00:00:00\", \"1986-08-01T00:00:00\", \"1986-09-01T00:00:00\", \"1986-10-01T00:00:00\", \"1986-11-01T00:00:00\", \"1986-12-01T00:00:00\", \"1987-01-01T00:00:00\", \"1987-02-01T00:00:00\", \"1987-03-01T00:00:00\", \"1987-04-01T00:00:00\", \"1987-05-01T00:00:00\", \"1987-06-01T00:00:00\", \"1987-07-01T00:00:00\", \"1987-08-01T00:00:00\", \"1987-09-01T00:00:00\", \"1987-10-01T00:00:00\", \"1987-11-01T00:00:00\", \"1987-12-01T00:00:00\", \"1988-01-01T00:00:00\", \"1988-02-01T00:00:00\", \"1988-03-01T00:00:00\", \"1988-04-01T00:00:00\", \"1988-05-01T00:00:00\", \"1988-06-01T00:00:00\", \"1988-07-01T00:00:00\", \"1988-08-01T00:00:00\", \"1988-09-01T00:00:00\", \"1988-10-01T00:00:00\", \"1988-11-01T00:00:00\", \"1988-12-01T00:00:00\", \"1989-01-01T00:00:00\", \"1989-02-01T00:00:00\", \"1989-03-01T00:00:00\", \"1989-04-01T00:00:00\", \"1989-05-01T00:00:00\", \"1989-06-01T00:00:00\", \"1989-07-01T00:00:00\", \"1989-08-01T00:00:00\", \"1989-09-01T00:00:00\", \"1989-10-01T00:00:00\", \"1989-11-01T00:00:00\", \"1989-12-01T00:00:00\", \"1990-01-01T00:00:00\", \"1990-02-01T00:00:00\", \"1990-03-01T00:00:00\", \"1990-04-01T00:00:00\", \"1990-05-01T00:00:00\", \"1990-06-01T00:00:00\", \"1990-07-01T00:00:00\", \"1990-08-01T00:00:00\", \"1990-09-01T00:00:00\", \"1990-10-01T00:00:00\", \"1990-11-01T00:00:00\", \"1990-12-01T00:00:00\", \"1991-01-01T00:00:00\", \"1991-02-01T00:00:00\", \"1991-03-01T00:00:00\", \"1991-04-01T00:00:00\", \"1991-05-01T00:00:00\", \"1991-06-01T00:00:00\", \"1991-07-01T00:00:00\", \"1991-08-01T00:00:00\", \"1991-09-01T00:00:00\", \"1991-10-01T00:00:00\", \"1991-11-01T00:00:00\", \"1991-12-01T00:00:00\", \"1992-01-01T00:00:00\", \"1992-02-01T00:00:00\", \"1992-03-01T00:00:00\", \"1992-04-01T00:00:00\", \"1992-05-01T00:00:00\", \"1992-06-01T00:00:00\", \"1992-07-01T00:00:00\", \"1992-08-01T00:00:00\", \"1992-09-01T00:00:00\", \"1992-10-01T00:00:00\", \"1992-11-01T00:00:00\", \"1992-12-01T00:00:00\", \"1993-01-01T00:00:00\", \"1993-02-01T00:00:00\", \"1993-03-01T00:00:00\", \"1993-04-01T00:00:00\", \"1993-05-01T00:00:00\", \"1993-06-01T00:00:00\", \"1993-07-01T00:00:00\", \"1993-08-01T00:00:00\", \"1993-09-01T00:00:00\", \"1993-10-01T00:00:00\", \"1993-11-01T00:00:00\", \"1993-12-01T00:00:00\", \"1994-01-01T00:00:00\", \"1994-02-01T00:00:00\", \"1994-03-01T00:00:00\", \"1994-04-01T00:00:00\", \"1994-05-01T00:00:00\", \"1994-06-01T00:00:00\", \"1994-07-01T00:00:00\", \"1994-08-01T00:00:00\", \"1994-09-01T00:00:00\", \"1994-10-01T00:00:00\", \"1994-11-01T00:00:00\", \"1994-12-01T00:00:00\", \"1995-01-01T00:00:00\", \"1995-02-01T00:00:00\", \"1995-03-01T00:00:00\", \"1995-04-01T00:00:00\", \"1995-05-01T00:00:00\", \"1995-06-01T00:00:00\", \"1995-07-01T00:00:00\", \"1995-08-01T00:00:00\", \"1995-09-01T00:00:00\", \"1995-10-01T00:00:00\", \"1995-11-01T00:00:00\", \"1995-12-01T00:00:00\", \"1996-01-01T00:00:00\", \"1996-02-01T00:00:00\", \"1996-03-01T00:00:00\", \"1996-04-01T00:00:00\", \"1996-05-01T00:00:00\", \"1996-06-01T00:00:00\", \"1996-07-01T00:00:00\", \"1996-08-01T00:00:00\", \"1996-09-01T00:00:00\", \"1996-10-01T00:00:00\", \"1996-11-01T00:00:00\", \"1996-12-01T00:00:00\", \"1997-01-01T00:00:00\", \"1997-02-01T00:00:00\", \"1997-03-01T00:00:00\", \"1997-04-01T00:00:00\", \"1997-05-01T00:00:00\", \"1997-06-01T00:00:00\", \"1997-07-01T00:00:00\", \"1997-08-01T00:00:00\", \"1997-09-01T00:00:00\", \"1997-10-01T00:00:00\", \"1997-11-01T00:00:00\", \"1997-12-01T00:00:00\", \"1998-01-01T00:00:00\", \"1998-02-01T00:00:00\", \"1998-03-01T00:00:00\", \"1998-04-01T00:00:00\", \"1998-05-01T00:00:00\", \"1998-06-01T00:00:00\", \"1998-07-01T00:00:00\", \"1998-08-01T00:00:00\", \"1998-09-01T00:00:00\", \"1998-10-01T00:00:00\", \"1998-11-01T00:00:00\", \"1998-12-01T00:00:00\", \"1999-01-01T00:00:00\", \"1999-02-01T00:00:00\", \"1999-03-01T00:00:00\", \"1999-04-01T00:00:00\", \"1999-05-01T00:00:00\", \"1999-06-01T00:00:00\", \"1999-07-01T00:00:00\", \"1999-08-01T00:00:00\", \"1999-09-01T00:00:00\", \"1999-10-01T00:00:00\", \"1999-11-01T00:00:00\", \"1999-12-01T00:00:00\", \"2000-01-01T00:00:00\", \"2000-02-01T00:00:00\", \"2000-03-01T00:00:00\", \"2000-04-01T00:00:00\", \"2000-05-01T00:00:00\", \"2000-06-01T00:00:00\", \"2000-07-01T00:00:00\", \"2000-08-01T00:00:00\", \"2000-09-01T00:00:00\", \"2000-10-01T00:00:00\", \"2000-11-01T00:00:00\", \"2000-12-01T00:00:00\", \"2001-01-01T00:00:00\", \"2001-02-01T00:00:00\", \"2001-03-01T00:00:00\", \"2001-04-01T00:00:00\", \"2001-05-01T00:00:00\", \"2001-06-01T00:00:00\", \"2001-07-01T00:00:00\", \"2001-08-01T00:00:00\", \"2001-09-01T00:00:00\", \"2001-10-01T00:00:00\", \"2001-11-01T00:00:00\", \"2001-12-01T00:00:00\", \"2002-01-01T00:00:00\", \"2002-02-01T00:00:00\", \"2002-03-01T00:00:00\", \"2002-04-01T00:00:00\", \"2002-05-01T00:00:00\", \"2002-06-01T00:00:00\", \"2002-07-01T00:00:00\", \"2002-08-01T00:00:00\", \"2002-09-01T00:00:00\", \"2002-10-01T00:00:00\", \"2002-11-01T00:00:00\", \"2002-12-01T00:00:00\", \"2003-01-01T00:00:00\", \"2003-02-01T00:00:00\", \"2003-03-01T00:00:00\", \"2003-04-01T00:00:00\", \"2003-05-01T00:00:00\", \"2003-06-01T00:00:00\", \"2003-07-01T00:00:00\", \"2003-08-01T00:00:00\", \"2003-09-01T00:00:00\", \"2003-10-01T00:00:00\", \"2003-11-01T00:00:00\", \"2003-12-01T00:00:00\", \"2004-01-01T00:00:00\", \"2004-02-01T00:00:00\", \"2004-03-01T00:00:00\", \"2004-04-01T00:00:00\", \"2004-05-01T00:00:00\", \"2004-06-01T00:00:00\", \"2004-07-01T00:00:00\", \"2004-08-01T00:00:00\", \"2004-09-01T00:00:00\", \"2004-10-01T00:00:00\", \"2004-11-01T00:00:00\", \"2004-12-01T00:00:00\", \"2005-01-01T00:00:00\", \"2005-02-01T00:00:00\", \"2005-03-01T00:00:00\", \"2005-04-01T00:00:00\", \"2005-05-01T00:00:00\", \"2005-06-01T00:00:00\", \"2005-07-01T00:00:00\", \"2005-08-01T00:00:00\", \"2005-09-01T00:00:00\", \"2005-10-01T00:00:00\", \"2005-11-01T00:00:00\", \"2005-12-01T00:00:00\", \"2006-01-01T00:00:00\", \"2006-02-01T00:00:00\", \"2006-03-01T00:00:00\", \"2006-04-01T00:00:00\", \"2006-05-01T00:00:00\", \"2006-06-01T00:00:00\", \"2006-07-01T00:00:00\", \"2006-08-01T00:00:00\", \"2006-09-01T00:00:00\", \"2006-10-01T00:00:00\", \"2006-11-01T00:00:00\", \"2006-12-01T00:00:00\", \"2007-01-01T00:00:00\", \"2007-02-01T00:00:00\", \"2007-03-01T00:00:00\", \"2007-04-01T00:00:00\", \"2007-05-01T00:00:00\", \"2007-06-01T00:00:00\", \"2007-07-01T00:00:00\", \"2007-08-01T00:00:00\", \"2007-09-01T00:00:00\", \"2007-10-01T00:00:00\", \"2007-11-01T00:00:00\", \"2007-12-01T00:00:00\", \"2008-01-01T00:00:00\", \"2008-02-01T00:00:00\", \"2008-03-01T00:00:00\", \"2008-04-01T00:00:00\", \"2008-05-01T00:00:00\", \"2008-06-01T00:00:00\", \"2008-07-01T00:00:00\", \"2008-08-01T00:00:00\", \"2008-09-01T00:00:00\", \"2008-10-01T00:00:00\", \"2008-11-01T00:00:00\", \"2008-12-01T00:00:00\", \"2009-01-01T00:00:00\", \"2009-02-01T00:00:00\", \"2009-03-01T00:00:00\", \"2009-04-01T00:00:00\", \"2009-05-01T00:00:00\", \"2009-06-01T00:00:00\", \"2009-07-01T00:00:00\", \"2009-08-01T00:00:00\", \"2009-09-01T00:00:00\", \"2009-10-01T00:00:00\", \"2009-11-01T00:00:00\", \"2009-12-01T00:00:00\", \"2010-01-01T00:00:00\", \"2010-02-01T00:00:00\", \"2010-03-01T00:00:00\", \"2010-04-01T00:00:00\", \"2010-05-01T00:00:00\", \"2010-06-01T00:00:00\", \"2010-07-01T00:00:00\", \"2010-08-01T00:00:00\", \"2010-09-01T00:00:00\", \"2010-10-01T00:00:00\", \"2010-11-01T00:00:00\", \"2010-12-01T00:00:00\", \"2011-01-01T00:00:00\", \"2011-02-01T00:00:00\", \"2011-03-01T00:00:00\", \"2011-04-01T00:00:00\", \"2011-05-01T00:00:00\", \"2011-06-01T00:00:00\", \"2011-07-01T00:00:00\", \"2011-08-01T00:00:00\", \"2011-09-01T00:00:00\", \"2011-10-01T00:00:00\", \"2011-11-01T00:00:00\", \"2011-12-01T00:00:00\", \"2012-01-01T00:00:00\", \"2012-02-01T00:00:00\", \"2012-03-01T00:00:00\", \"2012-04-01T00:00:00\", \"2012-05-01T00:00:00\", \"2012-06-01T00:00:00\", \"2012-07-01T00:00:00\", \"2012-08-01T00:00:00\", \"2012-09-01T00:00:00\", \"2012-10-01T00:00:00\", \"2012-11-01T00:00:00\", \"2012-12-01T00:00:00\", \"2013-01-01T00:00:00\", \"2013-02-01T00:00:00\", \"2013-03-01T00:00:00\", \"2013-04-01T00:00:00\", \"2013-05-01T00:00:00\", \"2013-06-01T00:00:00\", \"2013-07-01T00:00:00\", \"2013-08-01T00:00:00\", \"2013-09-01T00:00:00\", \"2013-10-01T00:00:00\", \"2013-11-01T00:00:00\", \"2013-12-01T00:00:00\", \"2014-01-01T00:00:00\", \"2014-02-01T00:00:00\", \"2014-03-01T00:00:00\", \"2014-04-01T00:00:00\", \"2014-05-01T00:00:00\", \"2014-06-01T00:00:00\", \"2014-07-01T00:00:00\", \"2014-08-01T00:00:00\", \"2014-09-01T00:00:00\", \"2014-10-01T00:00:00\", \"2014-11-01T00:00:00\", \"2014-12-01T00:00:00\", \"2015-01-01T00:00:00\", \"2015-02-01T00:00:00\", \"2015-03-01T00:00:00\", \"2015-04-01T00:00:00\", \"2015-05-01T00:00:00\", \"2015-06-01T00:00:00\", \"2015-07-01T00:00:00\", \"2015-08-01T00:00:00\", \"2015-09-01T00:00:00\", \"2015-10-01T00:00:00\", \"2015-11-01T00:00:00\", \"2015-12-01T00:00:00\", \"2016-01-01T00:00:00\", \"2016-02-01T00:00:00\", \"2016-03-01T00:00:00\", \"2016-04-01T00:00:00\", \"2016-05-01T00:00:00\", \"2016-06-01T00:00:00\", \"2016-07-01T00:00:00\", \"2016-08-01T00:00:00\", \"2016-09-01T00:00:00\", \"2016-10-01T00:00:00\", \"2016-11-01T00:00:00\", \"2016-12-01T00:00:00\", \"2017-01-01T00:00:00\", \"2017-02-01T00:00:00\", \"2017-03-01T00:00:00\", \"2017-04-01T00:00:00\", \"2017-05-01T00:00:00\", \"2017-06-01T00:00:00\", \"2017-07-01T00:00:00\", \"2017-08-01T00:00:00\", \"2017-09-01T00:00:00\", \"2017-10-01T00:00:00\", \"2017-11-01T00:00:00\", \"2017-12-01T00:00:00\", \"2018-01-01T00:00:00\", \"2018-02-01T00:00:00\", \"2018-03-01T00:00:00\", \"2018-04-01T00:00:00\", \"2018-05-01T00:00:00\", \"2018-06-01T00:00:00\", \"2018-07-01T00:00:00\", \"2018-08-01T00:00:00\", \"2018-09-01T00:00:00\", \"2018-10-01T00:00:00\", \"2018-11-01T00:00:00\", \"2018-12-01T00:00:00\"], \"y\": [0.05825367480525914, 0.06697818255979542, 0.059507864661128146, 0.07100710019126295, 0.07562210366900307, 0.07614378304452421, 0.07192409152495434, 0.08222639345078434, 0.0912831059099862, 0.09873882150945822, 0.10758564608309266, 0.1103866172712784, 0.11992034217220661, 0.10994849204614014, 0.11900262247943467, 0.12700103013182287, 0.1328557229672309, 0.12465512315311983, 0.11963949154322971, 0.1083835803885433, 0.0893624955249255, 0.08669982334921082, 0.08601257448604069, 0.09214842169692793, 0.09323203115758052, 0.09100700040379331, 0.0869651778373371, 0.0764072252783879, 0.07280167764181772, 0.08019112180152853, 0.08681083938221737, 0.08329558095855101, 0.08328068637659211, 0.08584176721255338, 0.08263915322632867, 0.0847501060706055, 0.07896822273996497, 0.07148153933971749, 0.08149650125643516, 0.0849707711468063, 0.09486078739192996, 0.09229830616792604, 0.08542985664642994, 0.08546782655897582, 0.08010539988045137, 0.0862945422250587, 0.07342301199648654, 0.07602851629059117, 0.07746499759107518, 0.07310077312647247, 0.07863237968319736, 0.07532060579892567, 0.07153139249841363, 0.07196739839516976, 0.07915101410609669, 0.08209166772315564, 0.08643591339624108, 0.09015939548481874, 0.09252225556452943, 0.09958440475649118, 0.10202543996678347, 0.10271156491902719, 0.1023481091931269, 0.10640891462620727, 0.11064315568718923, 0.10068083546302249, 0.10164166539587462, 0.1080705504941447, 0.11535719297327779, 0.11381724917470278, 0.1167284530983417, 0.1230564170910266, 0.12988418932513177, 0.1312844602465, 0.12701590740755309, 0.1308704302655914, 0.1275529770856859, 0.12253055588918096, 0.12986478685930405, 0.1347375817851354, 0.13611975574436888, 0.13131157863019444, 0.13192033082417848, 0.13440513314739197, 0.13532536113373522, 0.13125526235849772, 0.1346291962607129, 0.12799485378724848, 0.13063351638713258, 0.13408426171268997, 0.13503099955112294, 0.13443751583129562, 0.13146371692829065, 0.12938446556400562, 0.13696948872314668, 0.13923295315535, 0.13946736374514462, 0.14003618110334323, 0.13783336011066974, 0.1342917081738943, 0.13458908147773083, 0.1312118361320693, 0.13336589616210165, 0.12727371065714144, 0.12690637127125184, 0.13101465445007904, 0.13391589986850536, 0.13316693897871917, 0.13923976000921964, 0.14064950408030674, 0.14370079150802592, 0.14693055129818727, 0.15108440337434664, 0.15283065710883106, 0.15957959583712564, 0.15709482992823967, 0.16330337653300628, 0.16096741925319344, 0.1713574343855683, 0.17813862438219036, 0.17832437213845678, 0.1817506841374005, 0.18087181463834634, 0.18381336888770297, 0.18455693755051686, 0.18879625188066979, 0.18946205826994023, 0.18939930607607283, 0.1873905527405962, 0.18418027982253793, 0.19041378931661207, 0.1923589643941182, 0.1882201577500083, 0.19224718767812074, 0.1977082806895146, 0.19716073385471924, 0.19141300697168942, 0.19449301409583264, 0.1982042648447804, 0.1951728153358633, 0.18883566690296832, 0.18934293121900506, 0.1887213843190819, 0.19158346193754067, 0.18972216326598632, 0.1870506585056171, 0.1896137371570286, 0.1920815827819601, 0.1946539857103111, 0.19382323146979843, 0.19403355368162825, 0.18817570299711464, 0.1821850441092387, 0.1763579505263513, 0.17867708631115808, 0.1747987033477635, 0.18183356577149123, 0.18104042828497377, 0.18501493471969618, 0.1878917761986424, 0.1909027104490532, 0.19338416712024203, 0.1976921526118519, 0.20050869435618404, 0.20574446851443967, 0.20888637945731736, 0.21309085451967522, 0.21795932028700346, 0.21986071309057464, 0.22218703086978592, 0.22321386652799002, 0.22630214889811698, 0.2267908779520863, 0.22757882256687204, 0.23032016575027578, 0.2285880808189382, 0.22269177990068995, 0.2252422993155788, 0.22744344319588866, 0.22883961042159467, 0.22087648857039413, 0.2230833739156376, 0.22065712822953917, 0.21990230571829358, 0.22351588824061838, 0.22535861668241433, 0.22272282484466788, 0.22623976226187234, 0.21865831425969567, 0.21779073878072766, 0.22398992949670385, 0.2283572278801363, 0.23492044131433182, 0.23998914407692035, 0.24349344063207917, 0.24293786260145972, 0.24579450378064183, 0.2418973375066092, 0.2439451943645496, 0.24742526716977037, 0.2444549807180439, 0.2464712416539706, 0.25102094800318014, 0.24937403257480267, 0.24416887652959668, 0.24488319773709225, 0.2429676575489746, 0.23328996893026066, 0.2209285695750906, 0.2084359146476171, 0.21464017806853888, 0.21658568786309632, 0.20876859767071437, 0.20741840834640293, 0.2192692477804997, 0.21903736653671638, 0.22452129725616582, 0.22135936302958686, 0.22371766663078663, 0.22803881351097857, 0.22943864759243882, 0.22669163662515024, 0.22492965270461493, 0.2300011939706699, 0.22759937462628047, 0.23010509079856245, 0.22880451992005052, 0.22997959138103904, 0.23110828246896514, 0.23337114741452358, 0.23541263959442837, 0.23465300173960182, 0.23540619533344972, 0.23636748788831946, 0.23819831920917517, 0.23661046496566845, 0.23945658561250313, 0.2401676863621747, 0.23974302158958868, 0.23882237594247385, 0.24416041397494398, 0.24589988765016904, 0.24518301094722666, 0.2488272314937043, 0.24750305231095043, 0.23954295828276131, 0.24171480320207892, 0.24561939736658525, 0.24822794077538043, 0.25179914018239574, 0.25334177621150117, 0.2548049994249703, 0.25706317325704736, 0.2565724158877828, 0.25361441343710855, 0.2560531463822629, 0.24856007409809822, 0.24686145511822657, 0.24423520688264072, 0.23464560827128353, 0.23184929919133776, 0.23331539963493778, 0.23612380164447003, 0.2367847307396235, 0.2466256231611736, 0.24795377118225584, 0.2525143644040071, 0.25658662417364925, 0.2525910950585822, 0.25602991637327416, 0.26072206105721346, 0.25978233414760193, 0.2628820670382369, 0.25959230285144885, 0.2594104731307602, 0.2632979325372629, 0.2598856690592636, 0.255193073365713, 0.2552250129213751, 0.2648383704144749, 0.2682559437358897, 0.26869990665488197, 0.26448246988120233, 0.2661984480346776, 0.27095093313923724, 0.271287342483673, 0.2767238545326939, 0.2736420525321937, 0.27228314604698056, 0.2644382995240215, 0.2657309854041834, 0.2665885812171347, 0.26599291778284556, 0.25657681645864155, 0.24842357721846545, 0.25295971434229375, 0.2510468412824251, 0.25714151547219843, 0.2532667037523273, 0.24994384542168213, 0.24212147089212857, 0.24705746914560506, 0.2455002252563377, 0.2321829396351167, 0.22394544154787052, 0.21824101616241923, 0.22408521553651753, 0.22778509937098204, 0.23316007208444875, 0.2302581548427395, 0.2337780459516165, 0.23988117041498808, 0.24578602430129845, 0.24772053433769534, 0.25153343239449194, 0.25450007831459937, 0.25019945678274397, 0.2496189003134974, 0.24426728985251508, 0.24797199804087236, 0.24682141245258166, 0.24132291129805813, 0.23992552977883352, 0.24862281350468687, 0.2519304191705866, 0.25471657037295514, 0.2545474311042848, 0.2551243393770505, 0.2554635263384914, 0.2523945703936908, 0.24990086044330667, 0.2517404865436344, 0.249115113953196, 0.248879280693392, 0.2538210252965759, 0.2534114145963904, 0.24925188983275254, 0.24422994259953984, 0.2429008102139048, 0.23623210222975868, 0.2327728380631922, 0.22956607125130904, 0.23567431035748393, 0.23205834289498872, 0.23774137849153873, 0.23649105160416886, 0.22084896921685898, 0.220889583865965, 0.2226407465265822, 0.22280633458188154, 0.22067726596546156, 0.2162524489157831, 0.21217116022282945, 0.2096665677312691, 0.20208081306285777, 0.19330002065794255, 0.18154460175513856, 0.19295658596465634, 0.18831361526510776, 0.18468062801702562, 0.19730937785337369, 0.2018323448377961, 0.20642582335978543, 0.2106825263924553, 0.21459867150806888, 0.21860302391400488, 0.21285894088368368, 0.20982640604310496, 0.20620587360127685, 0.2101717654537155, 0.21283128225834153, 0.21150296750456857, 0.22196294750557385, 0.22319435413458158, 0.2241858104347619, 0.22289144388229767, 0.22087068961866616, 0.22382258776950828, 0.22251865523317588, 0.22143978597558317, 0.2228293446688353, 0.2204631297060962, 0.2210421274829188, 0.22568039769711196, 0.2215566267689762, 0.2198700053605173, 0.21881564766525502, 0.21880998530874282, 0.21698971289208455, 0.22064450323241475, 0.2188533848349476, 0.2178897216280377, 0.21738898883445978, 0.2138025969926839, 0.2176033650030043, 0.21771442350593848, 0.21263749665206894, 0.2118767904988438, 0.21486508623579637, 0.22117633302307313, 0.2235176105609763, 0.22219658724104105, 0.22657187049153601, 0.22979013156853428, 0.22849170693585505, 0.21594965970654773, 0.21828572441575242, 0.21896947036571254, 0.22317668074068261, 0.219902941735847, 0.22480122377913114, 0.22470534689558455, 0.22320952663464474, 0.22626060019229305, 0.2274594103271713, 0.23235976696396762, 0.23137105887699505, 0.22342519601988559, 0.2277344462225977, 0.2306272782649485, 0.23462172434496117, 0.2319090226200416, 0.22158670701218516, 0.22455247383412663, 0.2296105587111101, 0.23175905890061285, 0.23815286384342743, 0.23955349358085956, 0.24114864408578285, 0.2412393617071892, 0.24578251264187626, 0.24367867462217932, 0.2421191462155155, 0.24355179520191683, 0.24841315468530512, 0.24851750932350797, 0.24959513660288898, 0.24782871389306915, 0.246117804211595, 0.24057572109146716, 0.2358610385138399, 0.23982382124981477, 0.24208601579911798, 0.2398030316609509, 0.23754081842877053, 0.23335091492172438, 0.23278468175188474, 0.2359842507413162, 0.23248333497273643, 0.23102789361902237, 0.22918254960716103, 0.2373179393635817, 0.23827254112022428, 0.2469228557489376, 0.2508848372119126, 0.2512415916159158, 0.2540084291088955, 0.25609503846836446, 0.2585483262833242, 0.2630892967707295, 0.2640481894361543, 0.2663946556957858, 0.263311378918621, 0.262610281601885, 0.26391356636586544, 0.2610552442301392, 0.26360009247216254, 0.2621346121696338, 0.26003438683306646, 0.25548201847013885, 0.25608013679228386, 0.2555210224946641, 0.2511168839396888, 0.253206870139836, 0.2507144524134036, 0.25790712177267844, 0.2570786322945992, 0.2566180084808884, 0.25540351895201113, 0.25651128099101556, 0.26240318544369123, 0.26356337095832905, 0.2630643406470258, 0.26155213960784574, 0.265504812924393, 0.26648596382610734, 0.26669694040900427, 0.2659957855315162, 0.2624756006549862, 0.26464168465844184, 0.2693453667111425, 0.2721939724142553, 0.2728318110380132, 0.2779365441677288, 0.2818865963336987, 0.28088281352741223, 0.28424370606890015, 0.2849910851612903, 0.279062447157794, 0.2828072665592346, 0.2761789637788939, 0.2798525631586781, 0.28083476069289964, 0.27804815584174036, 0.2862723611483524, 0.2895672742823262, 0.29103275009376284, 0.2895653629331246, 0.28990288060577163, 0.29262555984766137, 0.2964487363838094, 0.29837453892783555, 0.2966937728078761, 0.2721640571548295, 0.2664603504632036, 0.2718348913173308, 0.2735641669053689, 0.27790830676968414, 0.27692280065542774, 0.2772643092113352, 0.2766522472118921, 0.2801327074952005, 0.2792150139162847, 0.27670499745821553, 0.2792411310502931, 0.2800029765444701, 0.2782052066105852, 0.2798041602358107, 0.28394537974886697, 0.2827611414801387, 0.28405092558524997, 0.28708558490730013, 0.28945105775110147, 0.2886677675776068, 0.29347813258535127, 0.29500273806056576, 0.29428349624391786, 0.29120428033697, 0.2921700566160047, 0.2928700026135206, 0.2868418860310002, 0.28768287087382355, 0.2895393535935518, 0.2871632994350245, 0.2925289179011189, 0.291723271974522, 0.2905930282089438, 0.28181904844820643, 0.276620183362739, 0.27436206195506113, 0.27837022330742667, 0.28087459068063114, 0.2841455635732361, 0.28898997737401866, 0.2901401236470299, 0.2897867816188949, 0.2923751541198046, 0.28898770385085054, 0.2913781676935186, 0.2926040764247674, 0.2914650146224114, 0.291667756313977, 0.28813814271077826, 0.29443294150708293, 0.2948809823193051, 0.29600269161435455, 0.293960162098471, 0.29455701685589036, 0.2944302927697501, 0.29196107661930665, 0.29400761291860705, 0.29186651900867144, 0.2928859612698884, 0.2930241181981293, 0.29525545356889416, 0.2959078275881691, 0.29592023123563266, 0.2955891219134853, 0.2968363626178138, 0.29388504061472476, 0.29587489833351643, 0.2949289582210014, 0.29427551255267603, 0.2962014942300716, 0.2950896712968054, 0.29681688312603416, 0.29625939644812305, 0.2975675493868317, 0.2990962845520653, 0.2973669296063719, 0.2935284450419611, 0.29349398334945415, 0.2931068538787737, 0.29102639680278386, 0.2925945376466489, 0.2951514758042684, 0.29348466076474905, 0.2936594622749911, 0.29037562617392354, 0.2911729957663686, 0.29150905557918516, 0.29350975715723415, 0.29508354845846724, 0.2958523733540372, 0.2974835468689283, 0.2988167836732837, 0.300769188572405, 0.300676324445314, 0.30213165090981353, 0.3002698961024009, 0.3029419414108168, 0.3037130916585589, 0.3048508859565634, 0.3055772655892988, 0.3062635272595838, 0.3073205226933949, 0.3091137436582815, 0.308408979728073, 0.3042031966162604, 0.3053556910838679, 0.3077451424583551, 0.30791424457097755, 0.3110058777525883, 0.31042024730682977, 0.31276046584156103, 0.31292372689503406, 0.30947408149758576, 0.31109708244978834, 0.3147997371754911, 0.3168895011670191, 0.3202592440756645, 0.31740377207727377, 0.31997914343574213, 0.31639996722506475, 0.31774922872323524, 0.3180896732347886, 0.31739270401070657, 0.3212921909758309, 0.32403042505233726, 0.32392964607681124, 0.3220358005666465, 0.3223899098983259, 0.31947982954746024, 0.3074729676530468, 0.310134494446935, 0.3143508543102507, 0.31702707805922814, 0.3188702325873223, 0.318904271926764, 0.31650940079904394, 0.31724880420808405, 0.3214690654784514, 0.3198311190254934, 0.3212121611296921, 0.3184179065142706, 0.31643438295883125, 0.31345559512746163, 0.3144039256810852, 0.31424969076190945, 0.31614215680544844, 0.31283056595200137, 0.3094653266050587, 0.3134252334242453, 0.3126989314592301, 0.3116056443507104, 0.3108968717310127, 0.3103159033668218, 0.3128940069122075, 0.3109913638201606, 0.3113594134317919, 0.3080808895639663, 0.31094762302940887, 0.3114335539854544, 0.30815597077804907, 0.30445669768229533, 0.30803218246456704, 0.3087476958763317, 0.3064601192923024, 0.3053461519186432, 0.3029587093172702, 0.2952905191121905, 0.2964109625451054, 0.29965358055700425, 0.30107607703380945, 0.3009871297720863, 0.30137819480205363, 0.3038026735708353, 0.3019837744131238, 0.30151449353218734, 0.29685594383857705, 0.28992408114850904, 0.28988456039126115, 0.28288544664760995, 0.28534074222895084, 0.2881343228443811, 0.28544260155570494, 0.2826075115516828, 0.2809458550994947, 0.2803835535861056, 0.2844208097551517, 0.28816559321523383, 0.28883516144756605, 0.28944423528185026, 0.2912334257726726, 0.2899898364226512, 0.29360708462893786, 0.29475538931187806, 0.29750267764179106, 0.29720548638178157, 0.29839103510507686, 0.29777883757999735, 0.29657588758923603, 0.29640325241990145, 0.29802780237611853, 0.2954074852920002, 0.29527745519415477, 0.2961655314851671, 0.2966166059522274, 0.2997149507637132, 0.30135665335594797, 0.2998742385450825, 0.3012049258486578, 0.29972967536186995, 0.29689336734605204, 0.29875973327102684, 0.29858426231144775, 0.3010179358433948, 0.30012465159970786, 0.3003014838032929, 0.29818674198426925, 0.30008620385567514, 0.30011856990575203, 0.30195740922882747, 0.30161621571510366, 0.30267898484761896, 0.3034382034277831, 0.3016765450949645, 0.3014567114381114, 0.2999025051601804, 0.3007460581941673, 0.3011186375721591, 0.3034010364523146, 0.30469054660738204, 0.30462473196783885, 0.30580833971426186, 0.30522921038088696, 0.3056683678331476, 0.30773239216265214, 0.3099352472335559, 0.30886121721602694, 0.30674129790014015, 0.3066476237844547, 0.3084117833115243, 0.3095262037986063, 0.30669307419780983, 0.3059457162738108, 0.30210901987274946, 0.30080245745893797, 0.30025164869782534, 0.3020807529847082, 0.30351165984985984, 0.29749652801254545, 0.29594500747472363, 0.29669666940571804, 0.28907556407684454, 0.27474493797742083, 0.26885905109235453, 0.26996076411898656, 0.26410278241892476, 0.256772673884537, 0.26113705040395924, 0.2679061994078237, 0.27026142074767995, 0.26937404990116764, 0.2741400593714683, 0.2754887416396173, 0.2779292951403116, 0.27593851789436186, 0.2788615386439895, 0.2805993653449923, 0.2781303137120993, 0.28023574969622617, 0.2835002578067161, 0.2846892889523565, 0.279685408147789, 0.2757321593593043, 0.27957191327326125, 0.2766952340493604, 0.2813708371507418, 0.283558991176945, 0.2840069386841311, 0.2870376098297648, 0.2872518867546227, 0.28884456965221517, 0.28930674085414576, 0.2906385415073736, 0.28990928089805557, 0.2887732352225498, 0.28684142909708327, 0.28328456257637796, 0.2770964138926501, 0.28279926091341134, 0.28263247850123036, 0.28228097187955203, 0.28458993814176714, 0.2860575503229778, 0.2867650564525494, 0.28620879055370235, 0.28219186528838663, 0.2833128881482349, 0.28317493650332076, 0.28419983808070415, 0.28528320610202873, 0.2848007806550624, 0.28516866730963464, 0.28572682808091376, 0.2882859435187715, 0.28850246203998736, 0.2903153433410283, 0.29061957334201755, 0.29131448129142146, 0.29002191475871236, 0.2925463124109277, 0.2908673826464153, 0.29286574549617495, 0.2950288069804591, 0.2958755570018939, 0.2971664071877988, 0.29452790546143787, 0.2966190659163828, 0.2966638426276592, 0.29669948702100163, 0.29725572021664415, 0.2982737501988408, 0.2962086764341202, 0.2981880463709771, 0.29632759497278993, 0.29711873759645807, 0.29821166964306584, 0.2973204093540894, 0.29535332485467836, 0.2982129164081446, 0.29685217793956487, 0.2968892831790357, 0.2968047352259416, 0.29529291433207777, 0.29476890255238924, 0.29148969415975545, 0.28878511715017596, 0.2917929003292899, 0.29149576280346406, 0.28977534748562817, 0.28676973437989683, 0.28751503491478064, 0.29092278220735474, 0.29157266179156305, 0.29130665453850585, 0.2915982584390446, 0.2933994260915545, 0.2929386945475206, 0.2924930480666391, 0.2907381940357433, 0.29299975881096607, 0.29338964916436194, 0.29433073362087164, 0.29539748696750123, 0.2952781239489423, 0.2953177716749295, 0.2954563918859343, 0.29555944241343607, 0.29606579217926765, 0.2954883316276734, 0.29643252479061216, 0.296944617003046, 0.29859726606281556, 0.29948103750527366, 0.3011413553032329, 0.2981630835275126, 0.29704035854215777, 0.295967865336088, 0.2967415695992865, 0.2969539714205925, 0.29789316749129074, 0.2980579289443372, 0.2977904307355695, 0.2933340081408178, 0.2940335376878917, 0.28813426779546847]}, {\"name\": \"EW\", \"type\": \"scatter\", \"x\": [\"1945-01-01T00:00:00\", \"1945-02-01T00:00:00\", \"1945-03-01T00:00:00\", \"1945-04-01T00:00:00\", \"1945-05-01T00:00:00\", \"1945-06-01T00:00:00\", \"1945-07-01T00:00:00\", \"1945-08-01T00:00:00\", \"1945-09-01T00:00:00\", \"1945-10-01T00:00:00\", \"1945-11-01T00:00:00\", \"1945-12-01T00:00:00\", \"1946-01-01T00:00:00\", \"1946-02-01T00:00:00\", \"1946-03-01T00:00:00\", \"1946-04-01T00:00:00\", \"1946-05-01T00:00:00\", \"1946-06-01T00:00:00\", \"1946-07-01T00:00:00\", \"1946-08-01T00:00:00\", \"1946-09-01T00:00:00\", \"1946-10-01T00:00:00\", \"1946-11-01T00:00:00\", \"1946-12-01T00:00:00\", \"1947-01-01T00:00:00\", \"1947-02-01T00:00:00\", \"1947-03-01T00:00:00\", \"1947-04-01T00:00:00\", \"1947-05-01T00:00:00\", \"1947-06-01T00:00:00\", \"1947-07-01T00:00:00\", \"1947-08-01T00:00:00\", \"1947-09-01T00:00:00\", \"1947-10-01T00:00:00\", \"1947-11-01T00:00:00\", \"1947-12-01T00:00:00\", \"1948-01-01T00:00:00\", \"1948-02-01T00:00:00\", \"1948-03-01T00:00:00\", \"1948-04-01T00:00:00\", \"1948-05-01T00:00:00\", \"1948-06-01T00:00:00\", \"1948-07-01T00:00:00\", \"1948-08-01T00:00:00\", \"1948-09-01T00:00:00\", \"1948-10-01T00:00:00\", \"1948-11-01T00:00:00\", \"1948-12-01T00:00:00\", \"1949-01-01T00:00:00\", \"1949-02-01T00:00:00\", \"1949-03-01T00:00:00\", \"1949-04-01T00:00:00\", \"1949-05-01T00:00:00\", \"1949-06-01T00:00:00\", \"1949-07-01T00:00:00\", \"1949-08-01T00:00:00\", \"1949-09-01T00:00:00\", \"1949-10-01T00:00:00\", \"1949-11-01T00:00:00\", \"1949-12-01T00:00:00\", \"1950-01-01T00:00:00\", \"1950-02-01T00:00:00\", \"1950-03-01T00:00:00\", \"1950-04-01T00:00:00\", \"1950-05-01T00:00:00\", \"1950-06-01T00:00:00\", \"1950-07-01T00:00:00\", \"1950-08-01T00:00:00\", \"1950-09-01T00:00:00\", \"1950-10-01T00:00:00\", \"1950-11-01T00:00:00\", \"1950-12-01T00:00:00\", \"1951-01-01T00:00:00\", \"1951-02-01T00:00:00\", \"1951-03-01T00:00:00\", \"1951-04-01T00:00:00\", \"1951-05-01T00:00:00\", \"1951-06-01T00:00:00\", \"1951-07-01T00:00:00\", \"1951-08-01T00:00:00\", \"1951-09-01T00:00:00\", \"1951-10-01T00:00:00\", \"1951-11-01T00:00:00\", \"1951-12-01T00:00:00\", \"1952-01-01T00:00:00\", \"1952-02-01T00:00:00\", \"1952-03-01T00:00:00\", \"1952-04-01T00:00:00\", \"1952-05-01T00:00:00\", \"1952-06-01T00:00:00\", \"1952-07-01T00:00:00\", \"1952-08-01T00:00:00\", \"1952-09-01T00:00:00\", \"1952-10-01T00:00:00\", \"1952-11-01T00:00:00\", \"1952-12-01T00:00:00\", \"1953-01-01T00:00:00\", \"1953-02-01T00:00:00\", \"1953-03-01T00:00:00\", \"1953-04-01T00:00:00\", \"1953-05-01T00:00:00\", \"1953-06-01T00:00:00\", \"1953-07-01T00:00:00\", \"1953-08-01T00:00:00\", \"1953-09-01T00:00:00\", \"1953-10-01T00:00:00\", \"1953-11-01T00:00:00\", \"1953-12-01T00:00:00\", \"1954-01-01T00:00:00\", \"1954-02-01T00:00:00\", \"1954-03-01T00:00:00\", \"1954-04-01T00:00:00\", \"1954-05-01T00:00:00\", \"1954-06-01T00:00:00\", \"1954-07-01T00:00:00\", \"1954-08-01T00:00:00\", \"1954-09-01T00:00:00\", \"1954-10-01T00:00:00\", \"1954-11-01T00:00:00\", \"1954-12-01T00:00:00\", \"1955-01-01T00:00:00\", \"1955-02-01T00:00:00\", \"1955-03-01T00:00:00\", \"1955-04-01T00:00:00\", \"1955-05-01T00:00:00\", \"1955-06-01T00:00:00\", \"1955-07-01T00:00:00\", \"1955-08-01T00:00:00\", \"1955-09-01T00:00:00\", \"1955-10-01T00:00:00\", \"1955-11-01T00:00:00\", \"1955-12-01T00:00:00\", \"1956-01-01T00:00:00\", \"1956-02-01T00:00:00\", \"1956-03-01T00:00:00\", \"1956-04-01T00:00:00\", \"1956-05-01T00:00:00\", \"1956-06-01T00:00:00\", \"1956-07-01T00:00:00\", \"1956-08-01T00:00:00\", \"1956-09-01T00:00:00\", \"1956-10-01T00:00:00\", \"1956-11-01T00:00:00\", \"1956-12-01T00:00:00\", \"1957-01-01T00:00:00\", \"1957-02-01T00:00:00\", \"1957-03-01T00:00:00\", \"1957-04-01T00:00:00\", \"1957-05-01T00:00:00\", \"1957-06-01T00:00:00\", \"1957-07-01T00:00:00\", \"1957-08-01T00:00:00\", \"1957-09-01T00:00:00\", \"1957-10-01T00:00:00\", \"1957-11-01T00:00:00\", \"1957-12-01T00:00:00\", \"1958-01-01T00:00:00\", \"1958-02-01T00:00:00\", \"1958-03-01T00:00:00\", \"1958-04-01T00:00:00\", \"1958-05-01T00:00:00\", \"1958-06-01T00:00:00\", \"1958-07-01T00:00:00\", \"1958-08-01T00:00:00\", \"1958-09-01T00:00:00\", \"1958-10-01T00:00:00\", \"1958-11-01T00:00:00\", \"1958-12-01T00:00:00\", \"1959-01-01T00:00:00\", \"1959-02-01T00:00:00\", \"1959-03-01T00:00:00\", \"1959-04-01T00:00:00\", \"1959-05-01T00:00:00\", \"1959-06-01T00:00:00\", \"1959-07-01T00:00:00\", \"1959-08-01T00:00:00\", \"1959-09-01T00:00:00\", \"1959-10-01T00:00:00\", \"1959-11-01T00:00:00\", \"1959-12-01T00:00:00\", \"1960-01-01T00:00:00\", \"1960-02-01T00:00:00\", \"1960-03-01T00:00:00\", \"1960-04-01T00:00:00\", \"1960-05-01T00:00:00\", \"1960-06-01T00:00:00\", \"1960-07-01T00:00:00\", \"1960-08-01T00:00:00\", \"1960-09-01T00:00:00\", \"1960-10-01T00:00:00\", \"1960-11-01T00:00:00\", \"1960-12-01T00:00:00\", \"1961-01-01T00:00:00\", \"1961-02-01T00:00:00\", \"1961-03-01T00:00:00\", \"1961-04-01T00:00:00\", \"1961-05-01T00:00:00\", \"1961-06-01T00:00:00\", \"1961-07-01T00:00:00\", \"1961-08-01T00:00:00\", \"1961-09-01T00:00:00\", \"1961-10-01T00:00:00\", \"1961-11-01T00:00:00\", \"1961-12-01T00:00:00\", \"1962-01-01T00:00:00\", \"1962-02-01T00:00:00\", \"1962-03-01T00:00:00\", \"1962-04-01T00:00:00\", \"1962-05-01T00:00:00\", \"1962-06-01T00:00:00\", \"1962-07-01T00:00:00\", \"1962-08-01T00:00:00\", \"1962-09-01T00:00:00\", \"1962-10-01T00:00:00\", \"1962-11-01T00:00:00\", \"1962-12-01T00:00:00\", \"1963-01-01T00:00:00\", \"1963-02-01T00:00:00\", \"1963-03-01T00:00:00\", \"1963-04-01T00:00:00\", \"1963-05-01T00:00:00\", \"1963-06-01T00:00:00\", \"1963-07-01T00:00:00\", \"1963-08-01T00:00:00\", \"1963-09-01T00:00:00\", \"1963-10-01T00:00:00\", \"1963-11-01T00:00:00\", \"1963-12-01T00:00:00\", \"1964-01-01T00:00:00\", \"1964-02-01T00:00:00\", \"1964-03-01T00:00:00\", \"1964-04-01T00:00:00\", \"1964-05-01T00:00:00\", \"1964-06-01T00:00:00\", \"1964-07-01T00:00:00\", \"1964-08-01T00:00:00\", \"1964-09-01T00:00:00\", \"1964-10-01T00:00:00\", \"1964-11-01T00:00:00\", \"1964-12-01T00:00:00\", \"1965-01-01T00:00:00\", \"1965-02-01T00:00:00\", \"1965-03-01T00:00:00\", \"1965-04-01T00:00:00\", \"1965-05-01T00:00:00\", \"1965-06-01T00:00:00\", \"1965-07-01T00:00:00\", \"1965-08-01T00:00:00\", \"1965-09-01T00:00:00\", \"1965-10-01T00:00:00\", \"1965-11-01T00:00:00\", \"1965-12-01T00:00:00\", \"1966-01-01T00:00:00\", \"1966-02-01T00:00:00\", \"1966-03-01T00:00:00\", \"1966-04-01T00:00:00\", \"1966-05-01T00:00:00\", \"1966-06-01T00:00:00\", \"1966-07-01T00:00:00\", \"1966-08-01T00:00:00\", \"1966-09-01T00:00:00\", \"1966-10-01T00:00:00\", \"1966-11-01T00:00:00\", \"1966-12-01T00:00:00\", \"1967-01-01T00:00:00\", \"1967-02-01T00:00:00\", \"1967-03-01T00:00:00\", \"1967-04-01T00:00:00\", \"1967-05-01T00:00:00\", \"1967-06-01T00:00:00\", \"1967-07-01T00:00:00\", \"1967-08-01T00:00:00\", \"1967-09-01T00:00:00\", \"1967-10-01T00:00:00\", \"1967-11-01T00:00:00\", \"1967-12-01T00:00:00\", \"1968-01-01T00:00:00\", \"1968-02-01T00:00:00\", \"1968-03-01T00:00:00\", \"1968-04-01T00:00:00\", \"1968-05-01T00:00:00\", \"1968-06-01T00:00:00\", \"1968-07-01T00:00:00\", \"1968-08-01T00:00:00\", \"1968-09-01T00:00:00\", \"1968-10-01T00:00:00\", \"1968-11-01T00:00:00\", \"1968-12-01T00:00:00\", \"1969-01-01T00:00:00\", \"1969-02-01T00:00:00\", \"1969-03-01T00:00:00\", \"1969-04-01T00:00:00\", \"1969-05-01T00:00:00\", \"1969-06-01T00:00:00\", \"1969-07-01T00:00:00\", \"1969-08-01T00:00:00\", \"1969-09-01T00:00:00\", \"1969-10-01T00:00:00\", \"1969-11-01T00:00:00\", \"1969-12-01T00:00:00\", \"1970-01-01T00:00:00\", \"1970-02-01T00:00:00\", \"1970-03-01T00:00:00\", \"1970-04-01T00:00:00\", \"1970-05-01T00:00:00\", \"1970-06-01T00:00:00\", \"1970-07-01T00:00:00\", \"1970-08-01T00:00:00\", \"1970-09-01T00:00:00\", \"1970-10-01T00:00:00\", \"1970-11-01T00:00:00\", \"1970-12-01T00:00:00\", \"1971-01-01T00:00:00\", \"1971-02-01T00:00:00\", \"1971-03-01T00:00:00\", \"1971-04-01T00:00:00\", \"1971-05-01T00:00:00\", \"1971-06-01T00:00:00\", \"1971-07-01T00:00:00\", \"1971-08-01T00:00:00\", \"1971-09-01T00:00:00\", \"1971-10-01T00:00:00\", \"1971-11-01T00:00:00\", \"1971-12-01T00:00:00\", \"1972-01-01T00:00:00\", \"1972-02-01T00:00:00\", \"1972-03-01T00:00:00\", \"1972-04-01T00:00:00\", \"1972-05-01T00:00:00\", \"1972-06-01T00:00:00\", \"1972-07-01T00:00:00\", \"1972-08-01T00:00:00\", \"1972-09-01T00:00:00\", \"1972-10-01T00:00:00\", \"1972-11-01T00:00:00\", \"1972-12-01T00:00:00\", \"1973-01-01T00:00:00\", \"1973-02-01T00:00:00\", \"1973-03-01T00:00:00\", \"1973-04-01T00:00:00\", \"1973-05-01T00:00:00\", \"1973-06-01T00:00:00\", \"1973-07-01T00:00:00\", \"1973-08-01T00:00:00\", \"1973-09-01T00:00:00\", \"1973-10-01T00:00:00\", \"1973-11-01T00:00:00\", \"1973-12-01T00:00:00\", \"1974-01-01T00:00:00\", \"1974-02-01T00:00:00\", \"1974-03-01T00:00:00\", \"1974-04-01T00:00:00\", \"1974-05-01T00:00:00\", \"1974-06-01T00:00:00\", \"1974-07-01T00:00:00\", \"1974-08-01T00:00:00\", \"1974-09-01T00:00:00\", \"1974-10-01T00:00:00\", \"1974-11-01T00:00:00\", \"1974-12-01T00:00:00\", \"1975-01-01T00:00:00\", \"1975-02-01T00:00:00\", \"1975-03-01T00:00:00\", \"1975-04-01T00:00:00\", \"1975-05-01T00:00:00\", \"1975-06-01T00:00:00\", \"1975-07-01T00:00:00\", \"1975-08-01T00:00:00\", \"1975-09-01T00:00:00\", \"1975-10-01T00:00:00\", \"1975-11-01T00:00:00\", \"1975-12-01T00:00:00\", \"1976-01-01T00:00:00\", \"1976-02-01T00:00:00\", \"1976-03-01T00:00:00\", \"1976-04-01T00:00:00\", \"1976-05-01T00:00:00\", \"1976-06-01T00:00:00\", \"1976-07-01T00:00:00\", \"1976-08-01T00:00:00\", \"1976-09-01T00:00:00\", \"1976-10-01T00:00:00\", \"1976-11-01T00:00:00\", \"1976-12-01T00:00:00\", \"1977-01-01T00:00:00\", \"1977-02-01T00:00:00\", \"1977-03-01T00:00:00\", \"1977-04-01T00:00:00\", \"1977-05-01T00:00:00\", \"1977-06-01T00:00:00\", \"1977-07-01T00:00:00\", \"1977-08-01T00:00:00\", \"1977-09-01T00:00:00\", \"1977-10-01T00:00:00\", \"1977-11-01T00:00:00\", \"1977-12-01T00:00:00\", \"1978-01-01T00:00:00\", \"1978-02-01T00:00:00\", \"1978-03-01T00:00:00\", \"1978-04-01T00:00:00\", \"1978-05-01T00:00:00\", \"1978-06-01T00:00:00\", \"1978-07-01T00:00:00\", \"1978-08-01T00:00:00\", \"1978-09-01T00:00:00\", \"1978-10-01T00:00:00\", \"1978-11-01T00:00:00\", \"1978-12-01T00:00:00\", \"1979-01-01T00:00:00\", \"1979-02-01T00:00:00\", \"1979-03-01T00:00:00\", \"1979-04-01T00:00:00\", \"1979-05-01T00:00:00\", \"1979-06-01T00:00:00\", \"1979-07-01T00:00:00\", \"1979-08-01T00:00:00\", \"1979-09-01T00:00:00\", \"1979-10-01T00:00:00\", \"1979-11-01T00:00:00\", \"1979-12-01T00:00:00\", \"1980-01-01T00:00:00\", \"1980-02-01T00:00:00\", \"1980-03-01T00:00:00\", \"1980-04-01T00:00:00\", \"1980-05-01T00:00:00\", \"1980-06-01T00:00:00\", \"1980-07-01T00:00:00\", \"1980-08-01T00:00:00\", \"1980-09-01T00:00:00\", \"1980-10-01T00:00:00\", \"1980-11-01T00:00:00\", \"1980-12-01T00:00:00\", \"1981-01-01T00:00:00\", \"1981-02-01T00:00:00\", \"1981-03-01T00:00:00\", \"1981-04-01T00:00:00\", \"1981-05-01T00:00:00\", \"1981-06-01T00:00:00\", \"1981-07-01T00:00:00\", \"1981-08-01T00:00:00\", \"1981-09-01T00:00:00\", \"1981-10-01T00:00:00\", \"1981-11-01T00:00:00\", \"1981-12-01T00:00:00\", \"1982-01-01T00:00:00\", \"1982-02-01T00:00:00\", \"1982-03-01T00:00:00\", \"1982-04-01T00:00:00\", \"1982-05-01T00:00:00\", \"1982-06-01T00:00:00\", \"1982-07-01T00:00:00\", \"1982-08-01T00:00:00\", \"1982-09-01T00:00:00\", \"1982-10-01T00:00:00\", \"1982-11-01T00:00:00\", \"1982-12-01T00:00:00\", \"1983-01-01T00:00:00\", \"1983-02-01T00:00:00\", \"1983-03-01T00:00:00\", \"1983-04-01T00:00:00\", \"1983-05-01T00:00:00\", \"1983-06-01T00:00:00\", \"1983-07-01T00:00:00\", \"1983-08-01T00:00:00\", \"1983-09-01T00:00:00\", \"1983-10-01T00:00:00\", \"1983-11-01T00:00:00\", \"1983-12-01T00:00:00\", \"1984-01-01T00:00:00\", \"1984-02-01T00:00:00\", \"1984-03-01T00:00:00\", \"1984-04-01T00:00:00\", \"1984-05-01T00:00:00\", \"1984-06-01T00:00:00\", \"1984-07-01T00:00:00\", \"1984-08-01T00:00:00\", \"1984-09-01T00:00:00\", \"1984-10-01T00:00:00\", \"1984-11-01T00:00:00\", \"1984-12-01T00:00:00\", \"1985-01-01T00:00:00\", \"1985-02-01T00:00:00\", \"1985-03-01T00:00:00\", \"1985-04-01T00:00:00\", \"1985-05-01T00:00:00\", \"1985-06-01T00:00:00\", \"1985-07-01T00:00:00\", \"1985-08-01T00:00:00\", \"1985-09-01T00:00:00\", \"1985-10-01T00:00:00\", \"1985-11-01T00:00:00\", \"1985-12-01T00:00:00\", \"1986-01-01T00:00:00\", \"1986-02-01T00:00:00\", \"1986-03-01T00:00:00\", \"1986-04-01T00:00:00\", \"1986-05-01T00:00:00\", \"1986-06-01T00:00:00\", \"1986-07-01T00:00:00\", \"1986-08-01T00:00:00\", \"1986-09-01T00:00:00\", \"1986-10-01T00:00:00\", \"1986-11-01T00:00:00\", \"1986-12-01T00:00:00\", \"1987-01-01T00:00:00\", \"1987-02-01T00:00:00\", \"1987-03-01T00:00:00\", \"1987-04-01T00:00:00\", \"1987-05-01T00:00:00\", \"1987-06-01T00:00:00\", \"1987-07-01T00:00:00\", \"1987-08-01T00:00:00\", \"1987-09-01T00:00:00\", \"1987-10-01T00:00:00\", \"1987-11-01T00:00:00\", \"1987-12-01T00:00:00\", \"1988-01-01T00:00:00\", \"1988-02-01T00:00:00\", \"1988-03-01T00:00:00\", \"1988-04-01T00:00:00\", \"1988-05-01T00:00:00\", \"1988-06-01T00:00:00\", \"1988-07-01T00:00:00\", \"1988-08-01T00:00:00\", \"1988-09-01T00:00:00\", \"1988-10-01T00:00:00\", \"1988-11-01T00:00:00\", \"1988-12-01T00:00:00\", \"1989-01-01T00:00:00\", \"1989-02-01T00:00:00\", \"1989-03-01T00:00:00\", \"1989-04-01T00:00:00\", \"1989-05-01T00:00:00\", \"1989-06-01T00:00:00\", \"1989-07-01T00:00:00\", \"1989-08-01T00:00:00\", \"1989-09-01T00:00:00\", \"1989-10-01T00:00:00\", \"1989-11-01T00:00:00\", \"1989-12-01T00:00:00\", \"1990-01-01T00:00:00\", \"1990-02-01T00:00:00\", \"1990-03-01T00:00:00\", \"1990-04-01T00:00:00\", \"1990-05-01T00:00:00\", \"1990-06-01T00:00:00\", \"1990-07-01T00:00:00\", \"1990-08-01T00:00:00\", \"1990-09-01T00:00:00\", \"1990-10-01T00:00:00\", \"1990-11-01T00:00:00\", \"1990-12-01T00:00:00\", \"1991-01-01T00:00:00\", \"1991-02-01T00:00:00\", \"1991-03-01T00:00:00\", \"1991-04-01T00:00:00\", \"1991-05-01T00:00:00\", \"1991-06-01T00:00:00\", \"1991-07-01T00:00:00\", \"1991-08-01T00:00:00\", \"1991-09-01T00:00:00\", \"1991-10-01T00:00:00\", \"1991-11-01T00:00:00\", \"1991-12-01T00:00:00\", \"1992-01-01T00:00:00\", \"1992-02-01T00:00:00\", \"1992-03-01T00:00:00\", \"1992-04-01T00:00:00\", \"1992-05-01T00:00:00\", \"1992-06-01T00:00:00\", \"1992-07-01T00:00:00\", \"1992-08-01T00:00:00\", \"1992-09-01T00:00:00\", \"1992-10-01T00:00:00\", \"1992-11-01T00:00:00\", \"1992-12-01T00:00:00\", \"1993-01-01T00:00:00\", \"1993-02-01T00:00:00\", \"1993-03-01T00:00:00\", \"1993-04-01T00:00:00\", \"1993-05-01T00:00:00\", \"1993-06-01T00:00:00\", \"1993-07-01T00:00:00\", \"1993-08-01T00:00:00\", \"1993-09-01T00:00:00\", \"1993-10-01T00:00:00\", \"1993-11-01T00:00:00\", \"1993-12-01T00:00:00\", \"1994-01-01T00:00:00\", \"1994-02-01T00:00:00\", \"1994-03-01T00:00:00\", \"1994-04-01T00:00:00\", \"1994-05-01T00:00:00\", \"1994-06-01T00:00:00\", \"1994-07-01T00:00:00\", \"1994-08-01T00:00:00\", \"1994-09-01T00:00:00\", \"1994-10-01T00:00:00\", \"1994-11-01T00:00:00\", \"1994-12-01T00:00:00\", \"1995-01-01T00:00:00\", \"1995-02-01T00:00:00\", \"1995-03-01T00:00:00\", \"1995-04-01T00:00:00\", \"1995-05-01T00:00:00\", \"1995-06-01T00:00:00\", \"1995-07-01T00:00:00\", \"1995-08-01T00:00:00\", \"1995-09-01T00:00:00\", \"1995-10-01T00:00:00\", \"1995-11-01T00:00:00\", \"1995-12-01T00:00:00\", \"1996-01-01T00:00:00\", \"1996-02-01T00:00:00\", \"1996-03-01T00:00:00\", \"1996-04-01T00:00:00\", \"1996-05-01T00:00:00\", \"1996-06-01T00:00:00\", \"1996-07-01T00:00:00\", \"1996-08-01T00:00:00\", \"1996-09-01T00:00:00\", \"1996-10-01T00:00:00\", \"1996-11-01T00:00:00\", \"1996-12-01T00:00:00\", \"1997-01-01T00:00:00\", \"1997-02-01T00:00:00\", \"1997-03-01T00:00:00\", \"1997-04-01T00:00:00\", \"1997-05-01T00:00:00\", \"1997-06-01T00:00:00\", \"1997-07-01T00:00:00\", \"1997-08-01T00:00:00\", \"1997-09-01T00:00:00\", \"1997-10-01T00:00:00\", \"1997-11-01T00:00:00\", \"1997-12-01T00:00:00\", \"1998-01-01T00:00:00\", \"1998-02-01T00:00:00\", \"1998-03-01T00:00:00\", \"1998-04-01T00:00:00\", \"1998-05-01T00:00:00\", \"1998-06-01T00:00:00\", \"1998-07-01T00:00:00\", \"1998-08-01T00:00:00\", \"1998-09-01T00:00:00\", \"1998-10-01T00:00:00\", \"1998-11-01T00:00:00\", \"1998-12-01T00:00:00\", \"1999-01-01T00:00:00\", \"1999-02-01T00:00:00\", \"1999-03-01T00:00:00\", \"1999-04-01T00:00:00\", \"1999-05-01T00:00:00\", \"1999-06-01T00:00:00\", \"1999-07-01T00:00:00\", \"1999-08-01T00:00:00\", \"1999-09-01T00:00:00\", \"1999-10-01T00:00:00\", \"1999-11-01T00:00:00\", \"1999-12-01T00:00:00\", \"2000-01-01T00:00:00\", \"2000-02-01T00:00:00\", \"2000-03-01T00:00:00\", \"2000-04-01T00:00:00\", \"2000-05-01T00:00:00\", \"2000-06-01T00:00:00\", \"2000-07-01T00:00:00\", \"2000-08-01T00:00:00\", \"2000-09-01T00:00:00\", \"2000-10-01T00:00:00\", \"2000-11-01T00:00:00\", \"2000-12-01T00:00:00\", \"2001-01-01T00:00:00\", \"2001-02-01T00:00:00\", \"2001-03-01T00:00:00\", \"2001-04-01T00:00:00\", \"2001-05-01T00:00:00\", \"2001-06-01T00:00:00\", \"2001-07-01T00:00:00\", \"2001-08-01T00:00:00\", \"2001-09-01T00:00:00\", \"2001-10-01T00:00:00\", \"2001-11-01T00:00:00\", \"2001-12-01T00:00:00\", \"2002-01-01T00:00:00\", \"2002-02-01T00:00:00\", \"2002-03-01T00:00:00\", \"2002-04-01T00:00:00\", \"2002-05-01T00:00:00\", \"2002-06-01T00:00:00\", \"2002-07-01T00:00:00\", \"2002-08-01T00:00:00\", \"2002-09-01T00:00:00\", \"2002-10-01T00:00:00\", \"2002-11-01T00:00:00\", \"2002-12-01T00:00:00\", \"2003-01-01T00:00:00\", \"2003-02-01T00:00:00\", \"2003-03-01T00:00:00\", \"2003-04-01T00:00:00\", \"2003-05-01T00:00:00\", \"2003-06-01T00:00:00\", \"2003-07-01T00:00:00\", \"2003-08-01T00:00:00\", \"2003-09-01T00:00:00\", \"2003-10-01T00:00:00\", \"2003-11-01T00:00:00\", \"2003-12-01T00:00:00\", \"2004-01-01T00:00:00\", \"2004-02-01T00:00:00\", \"2004-03-01T00:00:00\", \"2004-04-01T00:00:00\", \"2004-05-01T00:00:00\", \"2004-06-01T00:00:00\", \"2004-07-01T00:00:00\", \"2004-08-01T00:00:00\", \"2004-09-01T00:00:00\", \"2004-10-01T00:00:00\", \"2004-11-01T00:00:00\", \"2004-12-01T00:00:00\", \"2005-01-01T00:00:00\", \"2005-02-01T00:00:00\", \"2005-03-01T00:00:00\", \"2005-04-01T00:00:00\", \"2005-05-01T00:00:00\", \"2005-06-01T00:00:00\", \"2005-07-01T00:00:00\", \"2005-08-01T00:00:00\", \"2005-09-01T00:00:00\", \"2005-10-01T00:00:00\", \"2005-11-01T00:00:00\", \"2005-12-01T00:00:00\", \"2006-01-01T00:00:00\", \"2006-02-01T00:00:00\", \"2006-03-01T00:00:00\", \"2006-04-01T00:00:00\", \"2006-05-01T00:00:00\", \"2006-06-01T00:00:00\", \"2006-07-01T00:00:00\", \"2006-08-01T00:00:00\", \"2006-09-01T00:00:00\", \"2006-10-01T00:00:00\", \"2006-11-01T00:00:00\", \"2006-12-01T00:00:00\", \"2007-01-01T00:00:00\", \"2007-02-01T00:00:00\", \"2007-03-01T00:00:00\", \"2007-04-01T00:00:00\", \"2007-05-01T00:00:00\", \"2007-06-01T00:00:00\", \"2007-07-01T00:00:00\", \"2007-08-01T00:00:00\", \"2007-09-01T00:00:00\", \"2007-10-01T00:00:00\", \"2007-11-01T00:00:00\", \"2007-12-01T00:00:00\", \"2008-01-01T00:00:00\", \"2008-02-01T00:00:00\", \"2008-03-01T00:00:00\", \"2008-04-01T00:00:00\", \"2008-05-01T00:00:00\", \"2008-06-01T00:00:00\", \"2008-07-01T00:00:00\", \"2008-08-01T00:00:00\", \"2008-09-01T00:00:00\", \"2008-10-01T00:00:00\", \"2008-11-01T00:00:00\", \"2008-12-01T00:00:00\", \"2009-01-01T00:00:00\", \"2009-02-01T00:00:00\", \"2009-03-01T00:00:00\", \"2009-04-01T00:00:00\", \"2009-05-01T00:00:00\", \"2009-06-01T00:00:00\", \"2009-07-01T00:00:00\", \"2009-08-01T00:00:00\", \"2009-09-01T00:00:00\", \"2009-10-01T00:00:00\", \"2009-11-01T00:00:00\", \"2009-12-01T00:00:00\", \"2010-01-01T00:00:00\", \"2010-02-01T00:00:00\", \"2010-03-01T00:00:00\", \"2010-04-01T00:00:00\", \"2010-05-01T00:00:00\", \"2010-06-01T00:00:00\", \"2010-07-01T00:00:00\", \"2010-08-01T00:00:00\", \"2010-09-01T00:00:00\", \"2010-10-01T00:00:00\", \"2010-11-01T00:00:00\", \"2010-12-01T00:00:00\", \"2011-01-01T00:00:00\", \"2011-02-01T00:00:00\", \"2011-03-01T00:00:00\", \"2011-04-01T00:00:00\", \"2011-05-01T00:00:00\", \"2011-06-01T00:00:00\", \"2011-07-01T00:00:00\", \"2011-08-01T00:00:00\", \"2011-09-01T00:00:00\", \"2011-10-01T00:00:00\", \"2011-11-01T00:00:00\", \"2011-12-01T00:00:00\", \"2012-01-01T00:00:00\", \"2012-02-01T00:00:00\", \"2012-03-01T00:00:00\", \"2012-04-01T00:00:00\", \"2012-05-01T00:00:00\", \"2012-06-01T00:00:00\", \"2012-07-01T00:00:00\", \"2012-08-01T00:00:00\", \"2012-09-01T00:00:00\", \"2012-10-01T00:00:00\", \"2012-11-01T00:00:00\", \"2012-12-01T00:00:00\", \"2013-01-01T00:00:00\", \"2013-02-01T00:00:00\", \"2013-03-01T00:00:00\", \"2013-04-01T00:00:00\", \"2013-05-01T00:00:00\", \"2013-06-01T00:00:00\", \"2013-07-01T00:00:00\", \"2013-08-01T00:00:00\", \"2013-09-01T00:00:00\", \"2013-10-01T00:00:00\", \"2013-11-01T00:00:00\", \"2013-12-01T00:00:00\", \"2014-01-01T00:00:00\", \"2014-02-01T00:00:00\", \"2014-03-01T00:00:00\", \"2014-04-01T00:00:00\", \"2014-05-01T00:00:00\", \"2014-06-01T00:00:00\", \"2014-07-01T00:00:00\", \"2014-08-01T00:00:00\", \"2014-09-01T00:00:00\", \"2014-10-01T00:00:00\", \"2014-11-01T00:00:00\", \"2014-12-01T00:00:00\", \"2015-01-01T00:00:00\", \"2015-02-01T00:00:00\", \"2015-03-01T00:00:00\", \"2015-04-01T00:00:00\", \"2015-05-01T00:00:00\", \"2015-06-01T00:00:00\", \"2015-07-01T00:00:00\", \"2015-08-01T00:00:00\", \"2015-09-01T00:00:00\", \"2015-10-01T00:00:00\", \"2015-11-01T00:00:00\", \"2015-12-01T00:00:00\", \"2016-01-01T00:00:00\", \"2016-02-01T00:00:00\", \"2016-03-01T00:00:00\", \"2016-04-01T00:00:00\", \"2016-05-01T00:00:00\", \"2016-06-01T00:00:00\", \"2016-07-01T00:00:00\", \"2016-08-01T00:00:00\", \"2016-09-01T00:00:00\", \"2016-10-01T00:00:00\", \"2016-11-01T00:00:00\", \"2016-12-01T00:00:00\", \"2017-01-01T00:00:00\", \"2017-02-01T00:00:00\", \"2017-03-01T00:00:00\", \"2017-04-01T00:00:00\", \"2017-05-01T00:00:00\", \"2017-06-01T00:00:00\", \"2017-07-01T00:00:00\", \"2017-08-01T00:00:00\", \"2017-09-01T00:00:00\", \"2017-10-01T00:00:00\", \"2017-11-01T00:00:00\", \"2017-12-01T00:00:00\", \"2018-01-01T00:00:00\", \"2018-02-01T00:00:00\", \"2018-03-01T00:00:00\", \"2018-04-01T00:00:00\", \"2018-05-01T00:00:00\", \"2018-06-01T00:00:00\", \"2018-07-01T00:00:00\", \"2018-08-01T00:00:00\", \"2018-09-01T00:00:00\", \"2018-10-01T00:00:00\", \"2018-11-01T00:00:00\", \"2018-12-01T00:00:00\"], \"y\": [0.17543651398844318, 0.18439994172736174, 0.17550966750646546, 0.18548952231513335, 0.18904241567356247, 0.19220477651174722, 0.18704166713760334, 0.19481519178360884, 0.2027166351881649, 0.2110774783913546, 0.22274905020706173, 0.22551748313915917, 0.23542625777760318, 0.22602773608393736, 0.2321380872482261, 0.24007967046551365, 0.24598090907325218, 0.23780257423112605, 0.23190816451900798, 0.220627286069326, 0.20073122578767702, 0.1976137528151428, 0.19606703554070107, 0.2009034361370953, 0.20313132205342527, 0.2011572179193371, 0.19609434994222258, 0.18400218748997677, 0.17833317974338486, 0.18451056858867823, 0.19111401250449955, 0.187971766163368, 0.1876830908195662, 0.19071953334733796, 0.1858766504378212, 0.18667697256376756, 0.18330300192340906, 0.17518927037607884, 0.18477623560163095, 0.18802626965892527, 0.19763363523337502, 0.19470508291901575, 0.1870760221286434, 0.18600200393858035, 0.17978736416521263, 0.18506698306618208, 0.17117210290043022, 0.17137289975913023, 0.1736442698586598, 0.16800645616065588, 0.1742696794173438, 0.1704192866750489, 0.1646067354835457, 0.1636981304343782, 0.17009194883289683, 0.1728063283574372, 0.17783719891367822, 0.18162901001053772, 0.18169860194283668, 0.1888442908860097, 0.19246681673810842, 0.19349950244779857, 0.19231738342135205, 0.1972935056904574, 0.20004246156994637, 0.1897778513361144, 0.1924968554240391, 0.19828169127310638, 0.20438521785192557, 0.20272275259134515, 0.20471244926183324, 0.21174383385274698, 0.21905558000623115, 0.22036751723968248, 0.2155238025240841, 0.21877811163382832, 0.21501010116851452, 0.20948185983629228, 0.21512827728601575, 0.21962981589169964, 0.22110208316657812, 0.21732110120311046, 0.2174264584214161, 0.218075888022249, 0.2195251404338633, 0.21642471016915213, 0.21815197380991178, 0.21219235501167763, 0.21360872756457372, 0.21591746834317388, 0.21612846840587696, 0.21573945348301496, 0.2135118082065715, 0.21151387975791044, 0.2165635303098635, 0.2181944060818726, 0.22065677782296086, 0.22185674016903523, 0.22000284401767392, 0.2169890203342594, 0.21697429546324187, 0.2130595833441992, 0.21433757314889823, 0.20831858652902843, 0.206578639693746, 0.20920856026233706, 0.2109510926855697, 0.208961387755168, 0.21560113280172544, 0.21636803053365145, 0.21845395285221428, 0.21928111649217827, 0.2229379345824452, 0.22373329707581055, 0.23065383696682057, 0.22958594038852406, 0.2338948980683813, 0.23227060954243375, 0.24046339940694908, 0.24885387576186432, 0.24974593767211106, 0.25331304359883833, 0.25281679755631925, 0.2545065579086677, 0.25434095244356897, 0.25703073441255486, 0.2575361054037375, 0.25705680869373887, 0.25532425125943037, 0.25265198324264304, 0.25660281762283066, 0.25883355949539566, 0.2566061771745863, 0.2591983636907432, 0.26317231436395133, 0.26263173144807167, 0.25801395339341926, 0.25947000467189735, 0.2617351550866995, 0.25958972247225265, 0.25519511575444337, 0.25497890100170717, 0.254569445608924, 0.25608916783200647, 0.25664037601610107, 0.25372943139221876, 0.2556432485998591, 0.2573596477225258, 0.258772290202305, 0.25769810650562425, 0.2576075708726051, 0.2522746399867672, 0.24689056538271578, 0.23942312390181078, 0.2408273475096577, 0.23583130004421132, 0.24472103583126498, 0.24358693296816064, 0.2472800305610542, 0.24992431336623097, 0.25310414401252984, 0.2558793146173766, 0.25989969522230566, 0.26282929747956446, 0.26765547976312043, 0.27010319276476247, 0.2744117643965891, 0.277310805980943, 0.2811936036889794, 0.2835939930713727, 0.28484042964551837, 0.2873299020167206, 0.2868821428962648, 0.2870308692932195, 0.28963319503309376, 0.2878377582932424, 0.28240918398704107, 0.2844200745313899, 0.2854740523632274, 0.28707858339208664, 0.28222342213927953, 0.28257746647966203, 0.279666525911558, 0.27765566061181013, 0.2794580137917071, 0.28078882439491976, 0.27839115649877816, 0.2824651879771754, 0.27561518858667866, 0.2729185186998289, 0.27717039683706907, 0.28018344081414226, 0.2866986297915944, 0.29196078275536597, 0.2959875624665143, 0.29657116809570744, 0.2995732027270994, 0.2947004588765007, 0.2950688932938586, 0.2970354645055127, 0.2932314195371977, 0.29496217850907874, 0.29915348509634454, 0.2977585727406839, 0.2959101390288243, 0.29666682806102096, 0.29511711405752256, 0.28675505755761677, 0.2754719078703493, 0.2657420362499948, 0.27094771001988277, 0.273180209743579, 0.266071610002497, 0.2627376134487087, 0.27339172957638114, 0.27186087551840216, 0.278292868481752, 0.2759686934054964, 0.2771025192161677, 0.2800751730695902, 0.2821198897206324, 0.27999178624133003, 0.27863446067038866, 0.28195900667468926, 0.2802619333509581, 0.2812957875898917, 0.27920893393101637, 0.2781899512120674, 0.2806204015034304, 0.28250266265405005, 0.2841873610347134, 0.2838702598091286, 0.28409118550459583, 0.2843659722167568, 0.2865370335028139, 0.28548012165100883, 0.28827930030759785, 0.2895067999474167, 0.2887785219793613, 0.2873568016640213, 0.29324613887915685, 0.29563517752731355, 0.296337929542325, 0.2992174886335151, 0.2982047324701218, 0.2895900607052374, 0.29154559618269277, 0.2945268597845949, 0.29611513771136105, 0.300328446639853, 0.3034426891744069, 0.3067359919038416, 0.3114341941364923, 0.3131001547699611, 0.3117945971409933, 0.31502836298034137, 0.30615111486830116, 0.3049779247861048, 0.3029010405685781, 0.29233522797511874, 0.2899773312090886, 0.28831259771629275, 0.2912089711570084, 0.2921786002462666, 0.30448362011369823, 0.3078062965071595, 0.3124998187614662, 0.31576599910410447, 0.3144298396507476, 0.3205836267851926, 0.32645033559710046, 0.3264976449796639, 0.33091618608304285, 0.328683668909961, 0.32817523880616306, 0.3339463549686936, 0.3351111956235551, 0.32937684427391395, 0.3280242856615526, 0.33791796597123686, 0.3448434549040643, 0.3455348398527171, 0.3421938248285501, 0.3444944026529313, 0.34968226850222645, 0.3497515288068212, 0.35487193790075294, 0.35523691027408705, 0.3541654930557333, 0.3452161994965664, 0.3458800412966152, 0.3454403923800852, 0.3454042919899959, 0.33387422514427495, 0.3243241496870456, 0.3279369254716185, 0.3254925847693902, 0.3322162923779934, 0.3270686918641911, 0.3207351181295318, 0.3166783654665182, 0.3195349992748983, 0.31694550102818647, 0.3006736427686613, 0.2922690589307833, 0.28569778508220395, 0.2898309329552438, 0.29371961188514034, 0.3021867517541266, 0.2972317617374768, 0.29680094901623094, 0.3021099232218838, 0.31114575106345826, 0.3145442454757191, 0.3180895675363242, 0.3194468604448681, 0.3144587410569352, 0.3124179804256349, 0.3070585932037533, 0.30930133469633814, 0.30819992899482807, 0.30244619869166045, 0.29921960877631026, 0.30756923383716583, 0.31478804859838755, 0.3179251334436485, 0.31700929188551014, 0.31676402284383565, 0.3150483486919754, 0.3117893092458094, 0.30876248139644064, 0.30922194090606, 0.3056772036140124, 0.3039587476739604, 0.307062108382213, 0.30489863499860165, 0.30135281298741307, 0.2950110303502236, 0.2923103953509482, 0.2855990228724369, 0.27814565321893, 0.27513172636418926, 0.2820088777150298, 0.2778545572859284, 0.28302162622405963, 0.28249576284624767, 0.26650844838663434, 0.26346470703255476, 0.27209860313106765, 0.27211928769814997, 0.2722560288375755, 0.26766085650944527, 0.26200161589486926, 0.25992570340240595, 0.2557363232928554, 0.2491978542658924, 0.2419282501366787, 0.24850741347408084, 0.24460183784879247, 0.23829854564092784, 0.25423319855464704, 0.2578990962928482, 0.2630318318422458, 0.2657500374390819, 0.2705048842565455, 0.2750789691595499, 0.2736415910517659, 0.2695222911149414, 0.26661292353505633, 0.2672549698551248, 0.2683498641175607, 0.267526057219705, 0.2787805965186827, 0.2855467672183879, 0.28600032727725316, 0.28517318467483127, 0.2835015010746413, 0.2853220515479126, 0.28484202785718377, 0.2832207234521042, 0.28405291841214514, 0.2819242861865175, 0.28317508961782933, 0.28913158735699723, 0.29096470092643123, 0.29071854889017945, 0.2909134332955286, 0.29150864170066865, 0.2909242717925612, 0.29430204008135574, 0.2943167685005868, 0.2932840778031606, 0.2937123029765906, 0.29168043859206744, 0.29594918983993895, 0.29684914631156817, 0.2953711264193039, 0.2966761348673961, 0.300793585588871, 0.3056382691489665, 0.3099405906769572, 0.3099309857711435, 0.31288621681776757, 0.3179577384853053, 0.3178236448517483, 0.3016876992114067, 0.3044083090272344, 0.3047797180137445, 0.31043121131133816, 0.3085850501027746, 0.31333601450981236, 0.31453129974352995, 0.3136552365845595, 0.31660065315610414, 0.3176816406482922, 0.32215423611355054, 0.3214851807442935, 0.31359212444668855, 0.31755901343255394, 0.32154933005356223, 0.3277043649906514, 0.3262263437873109, 0.31243902654920386, 0.31526518638130424, 0.31965636021088967, 0.3219288248280964, 0.3273262560524604, 0.33101705015881616, 0.3336125982377591, 0.3353555839987446, 0.33875370827204654, 0.3355847920824003, 0.33597600957429474, 0.3360032889695505, 0.34055837656852894, 0.34194293604278897, 0.34319590019078916, 0.3421379625720285, 0.3403519683141614, 0.33436172028645283, 0.327692002255957, 0.3315282203118845, 0.3324594330351245, 0.3304761788997327, 0.32892116813459515, 0.3256746319712904, 0.3249169412036225, 0.3281167822222596, 0.32587849723322504, 0.32376744109910177, 0.3227138338628187, 0.32653748175514796, 0.3283445354481694, 0.3354606810912469, 0.3405370533393992, 0.3414844125928394, 0.3474469560652731, 0.3504747184852517, 0.3532681776473723, 0.357734276456058, 0.3624698411374347, 0.3652564123710956, 0.36354180165361927, 0.36085030650009703, 0.36072684149475104, 0.3561981260515893, 0.3579846883933989, 0.3562436388748463, 0.3558070619413246, 0.35134807436490834, 0.3514220067034851, 0.3497558218412128, 0.345991991642972, 0.3467155083427957, 0.3433339365094665, 0.3483256642410066, 0.3478496633768977, 0.34617350668742053, 0.3436845546947626, 0.34372208147390154, 0.3495579819011612, 0.3517804580129887, 0.3509663645179708, 0.3492873882817903, 0.3502421648938106, 0.3502291977897809, 0.35115442749430364, 0.3506051775226189, 0.34641928124257587, 0.34671195596389354, 0.3497844501077599, 0.3512810343271701, 0.3534963421798797, 0.3565901921030719, 0.35965452918713053, 0.35990359045426107, 0.3616230997411369, 0.36206782315669245, 0.3561357764219698, 0.35695049125073364, 0.35268843650281495, 0.35400779243428393, 0.3527571661839255, 0.35036929855723464, 0.35641198817976, 0.3606018546688483, 0.3621442000650666, 0.36044976445861276, 0.36040213447588587, 0.36172488304531425, 0.36412078297670936, 0.3648087002907038, 0.36341221251402034, 0.3386682017464305, 0.33426993467626503, 0.33667208318261266, 0.3400383168170434, 0.3440011417257481, 0.34574068208870207, 0.34684932202243246, 0.34540894443242853, 0.3478999095750746, 0.3478078911404097, 0.345807781367707, 0.34672347227499806, 0.34563413083917016, 0.34262987908244874, 0.3438276708161068, 0.34709396350848043, 0.3474306961425893, 0.34860688451924277, 0.35027976079712736, 0.35148580000006774, 0.3504646137227195, 0.3523268141402084, 0.3532395714218601, 0.3526122176661648, 0.3484225071663254, 0.3478905152906594, 0.3468575028917654, 0.34281411308451887, 0.3435386452952382, 0.3450090511658619, 0.34307974610823444, 0.34536977046220746, 0.3451921348422278, 0.3432988919305345, 0.33480821556718676, 0.3292698724568506, 0.3249546015668637, 0.3259702721542365, 0.32607798024515555, 0.329625585058151, 0.335859211141253, 0.3394863384899762, 0.34061252519571295, 0.34190716415327865, 0.33951117892679267, 0.3410611637725286, 0.3419916723251795, 0.3420231452001467, 0.34266157005314984, 0.34076879911286184, 0.34263042169584, 0.34886700801351544, 0.35122497804107516, 0.3502585301805212, 0.3478896419657618, 0.3474879671591516, 0.3442988133068244, 0.3454545369144808, 0.3432151189003486, 0.34361171326513257, 0.3438979599908627, 0.3468408569000472, 0.3480699205657988, 0.3503269948670948, 0.34943606632547647, 0.3504675239567755, 0.3488640161583506, 0.35116604546420815, 0.3510511187306754, 0.35153566285163246, 0.3532058020228212, 0.3537397053036519, 0.3556514084211767, 0.35418893833681414, 0.3546670973662319, 0.3566642868688677, 0.35583421968118817, 0.35236108365771734, 0.3513935903135132, 0.35067587172428616, 0.34846314438752135, 0.34921149995308454, 0.35112608961994884, 0.3511481718911413, 0.35035893700490345, 0.3469057097514014, 0.34598336099531773, 0.34685489021641835, 0.34784440971246255, 0.3483349757577456, 0.34907759966374824, 0.349858829082758, 0.3517674172111856, 0.35369429099176397, 0.35477182009471964, 0.35575466371011205, 0.35227568776937773, 0.352517709361849, 0.352549691570341, 0.3537274251225539, 0.35543151588742616, 0.35642267064953187, 0.35850245096605227, 0.3618443456712628, 0.3599788763924278, 0.3540882222916571, 0.35588011355479304, 0.3567448250116963, 0.35498958087896215, 0.35578502002438644, 0.35465512912226926, 0.35744035064464286, 0.35670297864139006, 0.3537010821216233, 0.3523261856947327, 0.3561498006949227, 0.35791256450082093, 0.3598159166254412, 0.36079253716163506, 0.36449807544713636, 0.36271458732472855, 0.36065546778850066, 0.3582141701056148, 0.3584111380687086, 0.3612675575757032, 0.3633916620813463, 0.36379265544473693, 0.36083129592357044, 0.35857189450388366, 0.35493744874639016, 0.3412981724522666, 0.3423416426938956, 0.34411874009155763, 0.34692151992942805, 0.3477050004382851, 0.3495880836169028, 0.3462666432025674, 0.3450124315526005, 0.3493303416481222, 0.350885960819219, 0.3519447323438379, 0.35163533908463396, 0.348923470380348, 0.3470570539351131, 0.3453314975608454, 0.34717189627251827, 0.3489961849783797, 0.3506143535627445, 0.3529824078073162, 0.35381644213060964, 0.3502197974165813, 0.34767635866178637, 0.34928050086702206, 0.3484430462840096, 0.35091942214088273, 0.34864963092745654, 0.34565718538029105, 0.3395895759424596, 0.33964659767377814, 0.3465912769124998, 0.34438656558810565, 0.34128410920728997, 0.3442209277843769, 0.3468909820802482, 0.34608763604308723, 0.34438579434377464, 0.34241681883881353, 0.3339372843569259, 0.33585865584572283, 0.3383914306621815, 0.34068600597782656, 0.3410074382598589, 0.33998293861264206, 0.3438642199934176, 0.34440652933079924, 0.3433381661905521, 0.3395209509998481, 0.33166846278648787, 0.33170341428605077, 0.32593265520159753, 0.3267907550538197, 0.3308568532105873, 0.32872346450988643, 0.3276729438155389, 0.3257492182291308, 0.3251727553062441, 0.32907965356088126, 0.3340335301882055, 0.33593239457713847, 0.33779447859355805, 0.3398507743732918, 0.34026920638002184, 0.34370204272465693, 0.34550608920505527, 0.3478574766456042, 0.3499307668260413, 0.3508399192027066, 0.35068084701571794, 0.3491136450485747, 0.3486092702691503, 0.3504569492887403, 0.3476580253605112, 0.34661452254747543, 0.3481495574212426, 0.3483610906601555, 0.35259617764165624, 0.3547094099704148, 0.35313382706153534, 0.35409139680141827, 0.35225770915775967, 0.34837360442856957, 0.3503493232144954, 0.35182135231586387, 0.3546329848130116, 0.3536241225684782, 0.3533405998566682, 0.3507537971908509, 0.3520713934873378, 0.3521967845208639, 0.3556531225375001, 0.3553644514918376, 0.35710919787177736, 0.3578096787527914, 0.35522837517934797, 0.35445722938007884, 0.3521632138654223, 0.35255607100829767, 0.35233523173388265, 0.35477100327693123, 0.3559511846224355, 0.35615762954086533, 0.35698482313027186, 0.35710284648105517, 0.3573372097805973, 0.35848444816951897, 0.35969245069727107, 0.3591277157816393, 0.3560097101378113, 0.3546569605876214, 0.35504621307917006, 0.35564646438521685, 0.35085645832101353, 0.3501107914299499, 0.3470631290819752, 0.3460722268101015, 0.3444539332315243, 0.3453594840203468, 0.34713438860099916, 0.34150083856050967, 0.3407475271345937, 0.3416209406811443, 0.3339974092497195, 0.3189831180216401, 0.31005680649096595, 0.3109321958036479, 0.3076481595527687, 0.300249495590927, 0.304944934186047, 0.3140873652018175, 0.31820463007427857, 0.318401379332774, 0.32275013673549463, 0.3257076579553102, 0.3290357856384263, 0.3260733729620932, 0.327162858061308, 0.3299977747571943, 0.32880063656158526, 0.33063276772909883, 0.3343711729673128, 0.3372661664290851, 0.3326570938079187, 0.3283143834166686, 0.3312237849537242, 0.32762861761613915, 0.3320550677201719, 0.3340293274593216, 0.3351917703765156, 0.3383971441505527, 0.33843380876711654, 0.33994186657519576, 0.34053098515917996, 0.3408081413343966, 0.3396447179542763, 0.3381610616890947, 0.33669926278178336, 0.3315418847384089, 0.32474487771799043, 0.32984942473116236, 0.328799015247977, 0.32827568598538526, 0.3316357376532235, 0.33306608026825485, 0.33365540780137304, 0.33281056572082685, 0.3285015720328224, 0.3298108714919231, 0.3289012129062353, 0.32972148181265826, 0.3310632036465774, 0.33030201672012593, 0.3301585333497577, 0.3310024621092888, 0.33352333418638574, 0.33358801159809215, 0.3353315116442878, 0.33505226187036696, 0.3367601180054341, 0.3360957168978847, 0.33865549584090776, 0.3375759526307813, 0.3396689406460526, 0.34089276561166876, 0.34197651361773923, 0.3430626954517274, 0.3421323029329352, 0.34411283954169175, 0.3442388619951523, 0.3426412076791638, 0.342294569825548, 0.3437374052688296, 0.3413496355918546, 0.34305018141213256, 0.34012561673439135, 0.3407434984000212, 0.34044599941902093, 0.340201175430879, 0.33825760008439276, 0.34057485169245344, 0.3399132860986055, 0.33996041699047463, 0.33937123726641344, 0.33803929117048487, 0.33570345099185595, 0.33368563711144605, 0.33012649039045916, 0.33196708160272886, 0.3315708343875206, 0.32890691555936313, 0.32488645132416416, 0.32538179926549593, 0.32848748876402406, 0.32984034810103685, 0.32915116362096375, 0.329498931203971, 0.33188018441719186, 0.3323525291725936, 0.33245809142288374, 0.3300427609979199, 0.33352781617440974, 0.333889449684944, 0.33420962067627674, 0.33417564450872855, 0.33408535263508704, 0.33385493767247243, 0.33279117950862397, 0.3332853738105366, 0.33295544370849633, 0.3318167946410219, 0.33396026125111417, 0.3336250240319897, 0.3349609678376891, 0.3356953523577414, 0.33620311977527684, 0.33346084670000614, 0.33320308965018586, 0.33305617112654695, 0.3345268930399123, 0.3351260119792048, 0.33499481712974194, 0.3354004068839814, 0.33472691552702855, 0.32989509763921226, 0.32895802881278885, 0.3220631183708048]}],\n                        {\"template\": {\"data\": {\"bar\": [{\"error_x\": {\"color\": \"#2a3f5f\"}, \"error_y\": {\"color\": \"#2a3f5f\"}, \"marker\": {\"line\": {\"color\": \"#E5ECF6\", \"width\": 0.5}}, \"type\": \"bar\"}], \"barpolar\": [{\"marker\": {\"line\": {\"color\": \"#E5ECF6\", \"width\": 0.5}}, \"type\": \"barpolar\"}], \"carpet\": [{\"aaxis\": {\"endlinecolor\": \"#2a3f5f\", \"gridcolor\": \"white\", \"linecolor\": \"white\", \"minorgridcolor\": \"white\", \"startlinecolor\": \"#2a3f5f\"}, \"baxis\": {\"endlinecolor\": \"#2a3f5f\", \"gridcolor\": \"white\", \"linecolor\": \"white\", \"minorgridcolor\": \"white\", \"startlinecolor\": \"#2a3f5f\"}, \"type\": \"carpet\"}], \"choropleth\": [{\"colorbar\": {\"outlinewidth\": 0, \"ticks\": \"\"}, \"type\": \"choropleth\"}], \"contour\": [{\"colorbar\": {\"outlinewidth\": 0, \"ticks\": \"\"}, \"colorscale\": [[0.0, \"#0d0887\"], [0.1111111111111111, \"#46039f\"], [0.2222222222222222, \"#7201a8\"], [0.3333333333333333, \"#9c179e\"], [0.4444444444444444, \"#bd3786\"], [0.5555555555555556, \"#d8576b\"], [0.6666666666666666, \"#ed7953\"], [0.7777777777777778, \"#fb9f3a\"], [0.8888888888888888, \"#fdca26\"], [1.0, \"#f0f921\"]], \"type\": \"contour\"}], \"contourcarpet\": [{\"colorbar\": {\"outlinewidth\": 0, \"ticks\": \"\"}, \"type\": \"contourcarpet\"}], \"heatmap\": [{\"colorbar\": {\"outlinewidth\": 0, \"ticks\": \"\"}, \"colorscale\": [[0.0, \"#0d0887\"], [0.1111111111111111, \"#46039f\"], [0.2222222222222222, \"#7201a8\"], [0.3333333333333333, \"#9c179e\"], [0.4444444444444444, \"#bd3786\"], [0.5555555555555556, \"#d8576b\"], [0.6666666666666666, \"#ed7953\"], [0.7777777777777778, \"#fb9f3a\"], [0.8888888888888888, \"#fdca26\"], [1.0, \"#f0f921\"]], \"type\": \"heatmap\"}], \"heatmapgl\": [{\"colorbar\": {\"outlinewidth\": 0, \"ticks\": \"\"}, \"colorscale\": [[0.0, \"#0d0887\"], [0.1111111111111111, \"#46039f\"], [0.2222222222222222, \"#7201a8\"], [0.3333333333333333, \"#9c179e\"], [0.4444444444444444, \"#bd3786\"], [0.5555555555555556, \"#d8576b\"], [0.6666666666666666, \"#ed7953\"], [0.7777777777777778, \"#fb9f3a\"], [0.8888888888888888, \"#fdca26\"], [1.0, \"#f0f921\"]], \"type\": \"heatmapgl\"}], \"histogram\": [{\"marker\": {\"colorbar\": {\"outlinewidth\": 0, \"ticks\": \"\"}}, \"type\": \"histogram\"}], \"histogram2d\": [{\"colorbar\": {\"outlinewidth\": 0, \"ticks\": \"\"}, \"colorscale\": [[0.0, \"#0d0887\"], [0.1111111111111111, \"#46039f\"], [0.2222222222222222, \"#7201a8\"], [0.3333333333333333, \"#9c179e\"], [0.4444444444444444, \"#bd3786\"], [0.5555555555555556, \"#d8576b\"], [0.6666666666666666, \"#ed7953\"], [0.7777777777777778, \"#fb9f3a\"], [0.8888888888888888, \"#fdca26\"], [1.0, \"#f0f921\"]], \"type\": \"histogram2d\"}], \"histogram2dcontour\": [{\"colorbar\": {\"outlinewidth\": 0, \"ticks\": \"\"}, \"colorscale\": [[0.0, \"#0d0887\"], [0.1111111111111111, \"#46039f\"], [0.2222222222222222, \"#7201a8\"], [0.3333333333333333, \"#9c179e\"], [0.4444444444444444, \"#bd3786\"], [0.5555555555555556, \"#d8576b\"], [0.6666666666666666, \"#ed7953\"], [0.7777777777777778, \"#fb9f3a\"], [0.8888888888888888, \"#fdca26\"], [1.0, \"#f0f921\"]], \"type\": \"histogram2dcontour\"}], \"mesh3d\": [{\"colorbar\": {\"outlinewidth\": 0, \"ticks\": \"\"}, \"type\": \"mesh3d\"}], \"parcoords\": [{\"line\": {\"colorbar\": {\"outlinewidth\": 0, \"ticks\": \"\"}}, \"type\": \"parcoords\"}], \"pie\": [{\"automargin\": true, \"type\": \"pie\"}], \"scatter\": [{\"marker\": {\"colorbar\": {\"outlinewidth\": 0, \"ticks\": \"\"}}, \"type\": \"scatter\"}], \"scatter3d\": [{\"line\": {\"colorbar\": {\"outlinewidth\": 0, \"ticks\": \"\"}}, \"marker\": {\"colorbar\": {\"outlinewidth\": 0, \"ticks\": \"\"}}, \"type\": \"scatter3d\"}], \"scattercarpet\": [{\"marker\": {\"colorbar\": {\"outlinewidth\": 0, \"ticks\": \"\"}}, \"type\": \"scattercarpet\"}], \"scattergeo\": [{\"marker\": {\"colorbar\": {\"outlinewidth\": 0, \"ticks\": \"\"}}, \"type\": \"scattergeo\"}], \"scattergl\": [{\"marker\": {\"colorbar\": {\"outlinewidth\": 0, \"ticks\": \"\"}}, \"type\": \"scattergl\"}], \"scattermapbox\": [{\"marker\": {\"colorbar\": {\"outlinewidth\": 0, \"ticks\": \"\"}}, \"type\": \"scattermapbox\"}], \"scatterpolar\": [{\"marker\": {\"colorbar\": {\"outlinewidth\": 0, \"ticks\": \"\"}}, \"type\": \"scatterpolar\"}], \"scatterpolargl\": [{\"marker\": {\"colorbar\": {\"outlinewidth\": 0, \"ticks\": \"\"}}, \"type\": \"scatterpolargl\"}], \"scatterternary\": [{\"marker\": {\"colorbar\": {\"outlinewidth\": 0, \"ticks\": \"\"}}, \"type\": \"scatterternary\"}], \"surface\": [{\"colorbar\": {\"outlinewidth\": 0, \"ticks\": \"\"}, \"colorscale\": [[0.0, \"#0d0887\"], [0.1111111111111111, \"#46039f\"], [0.2222222222222222, \"#7201a8\"], [0.3333333333333333, \"#9c179e\"], [0.4444444444444444, \"#bd3786\"], [0.5555555555555556, \"#d8576b\"], [0.6666666666666666, \"#ed7953\"], [0.7777777777777778, \"#fb9f3a\"], [0.8888888888888888, \"#fdca26\"], [1.0, \"#f0f921\"]], \"type\": \"surface\"}], \"table\": [{\"cells\": {\"fill\": {\"color\": \"#EBF0F8\"}, \"line\": {\"color\": \"white\"}}, \"header\": {\"fill\": {\"color\": \"#C8D4E3\"}, \"line\": {\"color\": \"white\"}}, \"type\": \"table\"}]}, \"layout\": {\"annotationdefaults\": {\"arrowcolor\": \"#2a3f5f\", \"arrowhead\": 0, \"arrowwidth\": 1}, \"coloraxis\": {\"colorbar\": {\"outlinewidth\": 0, \"ticks\": \"\"}}, \"colorscale\": {\"diverging\": [[0, \"#8e0152\"], [0.1, \"#c51b7d\"], [0.2, \"#de77ae\"], [0.3, \"#f1b6da\"], [0.4, \"#fde0ef\"], [0.5, \"#f7f7f7\"], [0.6, \"#e6f5d0\"], [0.7, \"#b8e186\"], [0.8, \"#7fbc41\"], [0.9, \"#4d9221\"], [1, \"#276419\"]], \"sequential\": [[0.0, \"#0d0887\"], [0.1111111111111111, \"#46039f\"], [0.2222222222222222, \"#7201a8\"], [0.3333333333333333, \"#9c179e\"], [0.4444444444444444, \"#bd3786\"], [0.5555555555555556, \"#d8576b\"], [0.6666666666666666, \"#ed7953\"], [0.7777777777777778, \"#fb9f3a\"], [0.8888888888888888, \"#fdca26\"], [1.0, \"#f0f921\"]], \"sequentialminus\": [[0.0, \"#0d0887\"], [0.1111111111111111, \"#46039f\"], [0.2222222222222222, \"#7201a8\"], [0.3333333333333333, \"#9c179e\"], [0.4444444444444444, \"#bd3786\"], [0.5555555555555556, \"#d8576b\"], [0.6666666666666666, \"#ed7953\"], [0.7777777777777778, \"#fb9f3a\"], [0.8888888888888888, \"#fdca26\"], [1.0, \"#f0f921\"]]}, \"colorway\": [\"#636efa\", \"#EF553B\", \"#00cc96\", \"#ab63fa\", \"#FFA15A\", \"#19d3f3\", \"#FF6692\", \"#B6E880\", \"#FF97FF\", \"#FECB52\"], \"font\": {\"color\": \"#2a3f5f\"}, \"geo\": {\"bgcolor\": \"white\", \"lakecolor\": \"white\", \"landcolor\": \"#E5ECF6\", \"showlakes\": true, \"showland\": true, \"subunitcolor\": \"white\"}, \"hoverlabel\": {\"align\": \"left\"}, \"hovermode\": \"closest\", \"mapbox\": {\"style\": \"light\"}, \"paper_bgcolor\": \"white\", \"plot_bgcolor\": \"#E5ECF6\", \"polar\": {\"angularaxis\": {\"gridcolor\": \"white\", \"linecolor\": \"white\", \"ticks\": \"\"}, \"bgcolor\": \"#E5ECF6\", \"radialaxis\": {\"gridcolor\": \"white\", \"linecolor\": \"white\", \"ticks\": \"\"}}, \"scene\": {\"xaxis\": {\"backgroundcolor\": \"#E5ECF6\", \"gridcolor\": \"white\", \"gridwidth\": 2, \"linecolor\": \"white\", \"showbackground\": true, \"ticks\": \"\", \"zerolinecolor\": \"white\"}, \"yaxis\": {\"backgroundcolor\": \"#E5ECF6\", \"gridcolor\": \"white\", \"gridwidth\": 2, \"linecolor\": \"white\", \"showbackground\": true, \"ticks\": \"\", \"zerolinecolor\": \"white\"}, \"zaxis\": {\"backgroundcolor\": \"#E5ECF6\", \"gridcolor\": \"white\", \"gridwidth\": 2, \"linecolor\": \"white\", \"showbackground\": true, \"ticks\": \"\", \"zerolinecolor\": \"white\"}}, \"shapedefaults\": {\"line\": {\"color\": \"#2a3f5f\"}}, \"ternary\": {\"aaxis\": {\"gridcolor\": \"white\", \"linecolor\": \"white\", \"ticks\": \"\"}, \"baxis\": {\"gridcolor\": \"white\", \"linecolor\": \"white\", \"ticks\": \"\"}, \"bgcolor\": \"#E5ECF6\", \"caxis\": {\"gridcolor\": \"white\", \"linecolor\": \"white\", \"ticks\": \"\"}}, \"title\": {\"x\": 0.05}, \"xaxis\": {\"automargin\": true, \"gridcolor\": \"white\", \"linecolor\": \"white\", \"ticks\": \"\", \"title\": {\"standoff\": 15}, \"zerolinecolor\": \"white\", \"zerolinewidth\": 2}, \"yaxis\": {\"automargin\": true, \"gridcolor\": \"white\", \"linecolor\": \"white\", \"ticks\": \"\", \"title\": {\"standoff\": 15}, \"zerolinecolor\": \"white\", \"zerolinewidth\": 2}}}},\n                        {\"responsive\": true}\n                    ).then(function(){\n                            \nvar gd = document.getElementById('fe06a082-eff5-4538-b82d-b659f40d9e0c');\nvar x = new MutationObserver(function (mutations, observer) {{\n        var display = window.getComputedStyle(gd).display;\n        if (!display || display === 'none') {{\n            console.log([gd, 'removed!']);\n            Plotly.purge(gd);\n            observer.disconnect();\n        }}\n}});\n\n// Listen for the removal of the full notebook cells\nvar notebookContainer = gd.closest('#notebook-container');\nif (notebookContainer) {{\n    x.observe(notebookContainer, {childList: true});\n}}\n\n// Listen for the clearing of the current output cell\nvar outputEl = gd.closest('.output');\nif (outputEl) {{\n    x.observe(outputEl, {childList: true});\n}}\n\n                        })\n                };\n                });\n            </script>\n        </div>"
     },
     "metadata": {},
     "output_type": "display_data"
    }
   ],
   "source": [
    "sr_r_data = [go.Scatter(x=sharpe_ratio_rolling_df.index.to_timestamp(),\n",
    "                      y=sharpe_ratio_rolling_df[col],\n",
    "                      name=col) for col in sharpe_ratio_df.columns]\n",
    "pyo.iplot(sr_r_data)"
   ],
   "metadata": {
    "collapsed": false,
    "pycharm": {
     "name": "#%%\n"
    }
   }
  },
  {
   "cell_type": "markdown",
   "source": [
    "LAB START 204\n",
    "CREATE CUSTOM ROLLING WINDOW TO HANDLE MULTI DIMENSION DATAFRAME FOR COMPUTATION\n",
    "ULT - TRYING TO GET ROLLING RETURNS ACCORDING TO SPECIFIED WEIGHTING SCHEMES\n"
   ],
   "metadata": {
    "collapsed": false,
    "pycharm": {
     "name": "#%% md\n"
    }
   }
  },
  {
   "cell_type": "code",
   "execution_count": 2,
   "outputs": [],
   "source": [
    "ind_vw_74 = erk.get_df('data/ind49_m_vw_rets.csv', to_per=True, start_period='1974')\n",
    "ind_ew_74 = erk.get_df('data/ind49_m_ew_rets.csv', to_per=True, start_period='1974')\n",
    "ind_mkt_wts_74 = erk.plot_corr_mktret(ind_ret_filename='data/ind49_m_vw_rets.csv',\n",
    "                                       n_firms_filename='data/ind49_m_nfirms.csv',\n",
    "                                       size_filename='data/ind49_m_size.csv',\n",
    "                                       start_period='1974',\n",
    "                                       end_period=None,\n",
    "                                       to_per=True,\n",
    "                                       retrieve_mkt_cap_wts=True,\n",
    "                                       format='%Y%m')"
   ],
   "metadata": {
    "collapsed": false,
    "pycharm": {
     "name": "#%%\n"
    }
   }
  },
  {
   "cell_type": "code",
   "execution_count": 3,
   "outputs": [],
   "source": [
    "mw_pf = erk.bt_roll(ind_ew_74, weighting_scheme=erk.weight_cw, window=36, cap_wts=ind_mkt_wts_74)\n",
    "ew_pf = erk.bt_roll(ind_ew_74, weighting_scheme=erk.weight_ew, window=36, cap_wts=ind_mkt_wts_74)\n",
    "ewt_pf = erk.bt_roll(ind_ew_74, weighting_scheme=erk.weight_ew, window=36, cap_wts=ind_mkt_wts_74, max_cw_mult=5, microcap_threshold=0.005)\n",
    "btr = {'EW': ew_pf,\n",
    "       'MW': mw_pf,\n",
    "       'EWT': ewt_pf}\n"
   ],
   "metadata": {
    "collapsed": false,
    "pycharm": {
     "name": "#%%\n"
    }
   }
  },
  {
   "cell_type": "markdown",
   "source": [
    "PLOT INDEX AND DISPLAY RISK INFO\n"
   ],
   "metadata": {
    "collapsed": false,
    "pycharm": {
     "name": "#%% md\n"
    }
   }
  },
  {
   "cell_type": "code",
   "execution_count": 9,
   "outputs": [],
   "source": [
    "def plot_wealth_index(btr: dict):\n",
    "    btr_df = pd.DataFrame(btr)\n",
    "    btr_df.dropna(inplace=True)\n",
    "    btr_wealth_index = pd.DataFrame({key+'_wealth_index': erk.drawdown(btr[key], retrive_index=True, is1p=False) for key in btr_df.columns})\n",
    "    wealth_data=[go.Scatter(x=btr_wealth_index.index.to_timestamp(),\n",
    "                     y=btr_wealth_index[str],\n",
    "                     name=str) for str in btr_wealth_index.columns]\n",
    "    pyo.iplot(wealth_data)\n",
    "    return erk.risk_info(btr_df)"
   ],
   "metadata": {
    "collapsed": false,
    "pycharm": {
     "name": "#%%\n"
    }
   }
  },
  {
   "cell_type": "code",
   "execution_count": 16,
   "outputs": [],
   "source": [],
   "metadata": {
    "collapsed": false,
    "pycharm": {
     "name": "#%%\n"
    }
   }
  },
  {
   "cell_type": "markdown",
   "source": [
    "START QUIZ COURSE 2 WEEK 1\n"
   ],
   "metadata": {
    "collapsed": false,
    "pycharm": {
     "name": "#%% md\n"
    }
   }
  },
  {
   "cell_type": "code",
   "execution_count": 17,
   "outputs": [],
   "source": [
    "ind_vw_91 = erk.get_df('data/ind49_m_vw_rets.csv', to_per=True, start_period='1991')\n",
    "fff_91 = erk.get_df(filename='data/F-F_Research_Data_Factors_m.csv', start_period='1991', end_period=None,\n",
    "                 format='%Y%m', reqd_strategies=None, to_per=True)\n",
    "fff_91_capm = fff_91[['Mkt-RF', 'RF']]\n",
    "rr_capm_beer_1991 = erk.regress(ind_vw_91['Beer'], fff_91_capm, '1991', rfcol='RF')\n",
    "rr_capm_beer_2013 = erk.regress(ind_vw_91['Beer'], fff_91_capm, '2013', rfcol='RF')\n",
    "rr_capm_steel_1991 = erk.regress(ind_vw_91['Steel'], fff_91_capm, '1991', rfcol='RF')\n",
    "rr_capm_steel_2013 = erk.regress(ind_vw_91['Steel'], fff_91_capm, '2013', rfcol='RF')"
   ],
   "metadata": {
    "collapsed": false,
    "pycharm": {
     "name": "#%%\n"
    }
   }
  },
  {
   "cell_type": "code",
   "execution_count": 18,
   "outputs": [
    {
     "name": "stdout",
     "output_type": "stream",
     "text": [
      "                            OLS Regression Results                            \n",
      "==============================================================================\n",
      "Dep. Variable:                  Steel   R-squared:                       0.470\n",
      "Model:                            OLS   Adj. R-squared:                  0.463\n",
      "Method:                 Least Squares   F-statistic:                     62.18\n",
      "Date:                Tue, 19 May 2020   Prob (F-statistic):           2.97e-11\n",
      "Time:                        18:43:00   Log-Likelihood:                 116.15\n",
      "No. Observations:                  72   AIC:                            -228.3\n",
      "Df Residuals:                      70   BIC:                            -223.7\n",
      "Df Model:                           1                                         \n",
      "Covariance Type:            nonrobust                                         \n",
      "==============================================================================\n",
      "                 coef    std err          t      P>|t|      [0.025      0.975]\n",
      "------------------------------------------------------------------------------\n",
      "Mkt-RF         1.4169      0.180      7.885      0.000       1.059       1.775\n",
      "Alpha         -0.0098      0.006     -1.627      0.108      -0.022       0.002\n",
      "==============================================================================\n",
      "Omnibus:                        7.128   Durbin-Watson:                   2.188\n",
      "Prob(Omnibus):                  0.028   Jarque-Bera (JB):                6.420\n",
      "Skew:                           0.635   Prob(JB):                       0.0403\n",
      "Kurtosis:                       3.727   Cond. No.                         31.2\n",
      "==============================================================================\n",
      "\n",
      "Warnings:\n",
      "[1] Standard Errors assume that the covariance matrix of the errors is correctly specified.\n"
     ]
    }
   ],
   "source": [
    "print(rr_capm_steel_2013.summary())"
   ],
   "metadata": {
    "collapsed": false,
    "pycharm": {
     "name": "#%%\n"
    }
   }
  },
  {
   "cell_type": "code",
   "execution_count": 19,
   "outputs": [
    {
     "data": {
      "text/plain": "Oil      0.550604\nCoal     0.529958\nUtil     0.379527\nMines    0.274762\nGold    -0.553289\nName: Mkt-RF, dtype: float64"
     },
     "execution_count": 19,
     "metadata": {},
     "output_type": "execute_result"
    }
   ],
   "source": [
    "regress_results = erk.regress(ind_vw_91, fff_91_capm, '1991', '1993', rfcol='RF').params\n",
    "regress_results.columns = ind_vw_91.columns\n",
    "regress_results.loc['Mkt-RF'].sort_values(ascending=False).tail()"
   ],
   "metadata": {
    "collapsed": false,
    "pycharm": {
     "name": "#%%\n"
    }
   }
  },
  {
   "cell_type": "code",
   "execution_count": 20,
   "outputs": [
    {
     "data": {
      "text/plain": "Insur   -0.251649\nFood    -0.267873\nSmoke   -0.307794\nDrugs   -0.319486\nBeer    -0.358655\nName: SMB, dtype: float64"
     },
     "execution_count": 20,
     "metadata": {},
     "output_type": "execute_result"
    }
   ],
   "source": [
    "regress_results_ff = erk.regress(ind_vw_91, fff_91, '1991', rfcol='RF').params\n",
    "regress_results_ff.columns = ind_vw_91.columns\n",
    "regress_results_ff.loc['SMB'].sort_values(ascending=False).tail()"
   ],
   "metadata": {
    "collapsed": false,
    "pycharm": {
     "name": "#%%\n"
    }
   }
  },
  {
   "cell_type": "code",
   "execution_count": 21,
   "outputs": [
    {
     "data": {
      "text/plain": "Drugs   -0.228132\nLabEq   -0.261102\nChips   -0.600139\nHardw   -0.690417\nSoftw   -0.852422\nName: HML, dtype: float64"
     },
     "execution_count": 21,
     "metadata": {},
     "output_type": "execute_result"
    }
   ],
   "source": [
    "regress_results_ff = erk.regress(ind_vw_91, fff_91, '1991', rfcol='RF').params\n",
    "regress_results_ff.columns = ind_vw_91.columns\n",
    "regress_results_ff.loc['HML'].sort_values(ascending=False).tail()"
   ],
   "metadata": {
    "collapsed": false,
    "pycharm": {
     "name": "#%%\n"
    }
   }
  },
  {
   "cell_type": "markdown",
   "source": [
    "START WEEK 2 - FOCUS ON COV ESTIMATORS\n",
    "USING GMV PF:\n",
    "    1. SAMPLE COV MATRIX USING COV FN\n",
    "    2. CONST CORR MATRIX\n",
    "    3. STAT SHRINKAGE BET SAMPLE AND EQ DELTA 0.5\n"
   ],
   "metadata": {
    "collapsed": false,
    "pycharm": {
     "name": "#%% md\n"
    }
   }
  },
  {
   "cell_type": "code",
   "execution_count": 3,
   "outputs": [],
   "source": [
    "gmv_sample_cov = erk.bt_roll(ind_ew_74, weighting_scheme=erk.weight_gmv, window=36)\n",
    "gmv_const_cov = erk.bt_roll(ind_ew_74, weighting_scheme=erk.weight_gmv, window=36, cov_estimator=erk.cc_cov)\n",
    "gmv_stat_cov = erk.bt_roll(ind_ew_74, weighting_scheme=erk.weight_gmv, window=36, cov_estimator=erk.stat_shrinkage_cov, delta=0.5)"
   ],
   "metadata": {
    "collapsed": false,
    "pycharm": {
     "name": "#%%\n"
    }
   }
  },
  {
   "cell_type": "code",
   "execution_count": 4,
   "outputs": [],
   "source": [
    "btr={}\n",
    "btr.update(GMV_Sample_Cov=gmv_sample_cov,\n",
    "           GMV_Const_Cov=gmv_const_cov,\n",
    "           GMV_Stat_Cov=gmv_stat_cov)\n"
   ],
   "metadata": {
    "collapsed": false,
    "pycharm": {
     "name": "#%%\n"
    }
   }
  },
  {
   "cell_type": "markdown",
   "source": [
    "PLOT WEALTH INDEX AND RISK INFO DETAILS"
   ],
   "metadata": {
    "collapsed": false,
    "pycharm": {
     "name": "#%% md\n"
    }
   }
  },
  {
   "cell_type": "code",
   "execution_count": 7,
   "outputs": [
    {
     "data": {
      "application/vnd.plotly.v1+json": {
       "config": {
        "linkText": "Export to plot.ly",
        "plotlyServerURL": "https://plot.ly",
        "showLink": false
       },
       "data": [
        {
         "name": "GMV_Sample_Cov_wealth_index",
         "type": "scatter",
         "x": [
          "1974-01-01T00:00:00",
          "1974-02-01T00:00:00",
          "1974-03-01T00:00:00",
          "1974-04-01T00:00:00",
          "1974-05-01T00:00:00",
          "1974-06-01T00:00:00",
          "1974-07-01T00:00:00",
          "1974-08-01T00:00:00",
          "1974-09-01T00:00:00",
          "1974-10-01T00:00:00",
          "1974-11-01T00:00:00",
          "1974-12-01T00:00:00",
          "1975-01-01T00:00:00",
          "1975-02-01T00:00:00",
          "1975-03-01T00:00:00",
          "1975-04-01T00:00:00",
          "1975-05-01T00:00:00",
          "1975-06-01T00:00:00",
          "1975-07-01T00:00:00",
          "1975-08-01T00:00:00",
          "1975-09-01T00:00:00",
          "1975-10-01T00:00:00",
          "1975-11-01T00:00:00",
          "1975-12-01T00:00:00",
          "1976-01-01T00:00:00",
          "1976-02-01T00:00:00",
          "1976-03-01T00:00:00",
          "1976-04-01T00:00:00",
          "1976-05-01T00:00:00",
          "1976-06-01T00:00:00",
          "1976-07-01T00:00:00",
          "1976-08-01T00:00:00",
          "1976-09-01T00:00:00",
          "1976-10-01T00:00:00",
          "1976-11-01T00:00:00",
          "1976-12-01T00:00:00",
          "1977-01-01T00:00:00",
          "1977-02-01T00:00:00",
          "1977-03-01T00:00:00",
          "1977-04-01T00:00:00",
          "1977-05-01T00:00:00",
          "1977-06-01T00:00:00",
          "1977-07-01T00:00:00",
          "1977-08-01T00:00:00",
          "1977-09-01T00:00:00",
          "1977-10-01T00:00:00",
          "1977-11-01T00:00:00",
          "1977-12-01T00:00:00",
          "1978-01-01T00:00:00",
          "1978-02-01T00:00:00",
          "1978-03-01T00:00:00",
          "1978-04-01T00:00:00",
          "1978-05-01T00:00:00",
          "1978-06-01T00:00:00",
          "1978-07-01T00:00:00",
          "1978-08-01T00:00:00",
          "1978-09-01T00:00:00",
          "1978-10-01T00:00:00",
          "1978-11-01T00:00:00",
          "1978-12-01T00:00:00",
          "1979-01-01T00:00:00",
          "1979-02-01T00:00:00",
          "1979-03-01T00:00:00",
          "1979-04-01T00:00:00",
          "1979-05-01T00:00:00",
          "1979-06-01T00:00:00",
          "1979-07-01T00:00:00",
          "1979-08-01T00:00:00",
          "1979-09-01T00:00:00",
          "1979-10-01T00:00:00",
          "1979-11-01T00:00:00",
          "1979-12-01T00:00:00",
          "1980-01-01T00:00:00",
          "1980-02-01T00:00:00",
          "1980-03-01T00:00:00",
          "1980-04-01T00:00:00",
          "1980-05-01T00:00:00",
          "1980-06-01T00:00:00",
          "1980-07-01T00:00:00",
          "1980-08-01T00:00:00",
          "1980-09-01T00:00:00",
          "1980-10-01T00:00:00",
          "1980-11-01T00:00:00",
          "1980-12-01T00:00:00",
          "1981-01-01T00:00:00",
          "1981-02-01T00:00:00",
          "1981-03-01T00:00:00",
          "1981-04-01T00:00:00",
          "1981-05-01T00:00:00",
          "1981-06-01T00:00:00",
          "1981-07-01T00:00:00",
          "1981-08-01T00:00:00",
          "1981-09-01T00:00:00",
          "1981-10-01T00:00:00",
          "1981-11-01T00:00:00",
          "1981-12-01T00:00:00",
          "1982-01-01T00:00:00",
          "1982-02-01T00:00:00",
          "1982-03-01T00:00:00",
          "1982-04-01T00:00:00",
          "1982-05-01T00:00:00",
          "1982-06-01T00:00:00",
          "1982-07-01T00:00:00",
          "1982-08-01T00:00:00",
          "1982-09-01T00:00:00",
          "1982-10-01T00:00:00",
          "1982-11-01T00:00:00",
          "1982-12-01T00:00:00",
          "1983-01-01T00:00:00",
          "1983-02-01T00:00:00",
          "1983-03-01T00:00:00",
          "1983-04-01T00:00:00",
          "1983-05-01T00:00:00",
          "1983-06-01T00:00:00",
          "1983-07-01T00:00:00",
          "1983-08-01T00:00:00",
          "1983-09-01T00:00:00",
          "1983-10-01T00:00:00",
          "1983-11-01T00:00:00",
          "1983-12-01T00:00:00",
          "1984-01-01T00:00:00",
          "1984-02-01T00:00:00",
          "1984-03-01T00:00:00",
          "1984-04-01T00:00:00",
          "1984-05-01T00:00:00",
          "1984-06-01T00:00:00",
          "1984-07-01T00:00:00",
          "1984-08-01T00:00:00",
          "1984-09-01T00:00:00",
          "1984-10-01T00:00:00",
          "1984-11-01T00:00:00",
          "1984-12-01T00:00:00",
          "1985-01-01T00:00:00",
          "1985-02-01T00:00:00",
          "1985-03-01T00:00:00",
          "1985-04-01T00:00:00",
          "1985-05-01T00:00:00",
          "1985-06-01T00:00:00",
          "1985-07-01T00:00:00",
          "1985-08-01T00:00:00",
          "1985-09-01T00:00:00",
          "1985-10-01T00:00:00",
          "1985-11-01T00:00:00",
          "1985-12-01T00:00:00",
          "1986-01-01T00:00:00",
          "1986-02-01T00:00:00",
          "1986-03-01T00:00:00",
          "1986-04-01T00:00:00",
          "1986-05-01T00:00:00",
          "1986-06-01T00:00:00",
          "1986-07-01T00:00:00",
          "1986-08-01T00:00:00",
          "1986-09-01T00:00:00",
          "1986-10-01T00:00:00",
          "1986-11-01T00:00:00",
          "1986-12-01T00:00:00",
          "1987-01-01T00:00:00",
          "1987-02-01T00:00:00",
          "1987-03-01T00:00:00",
          "1987-04-01T00:00:00",
          "1987-05-01T00:00:00",
          "1987-06-01T00:00:00",
          "1987-07-01T00:00:00",
          "1987-08-01T00:00:00",
          "1987-09-01T00:00:00",
          "1987-10-01T00:00:00",
          "1987-11-01T00:00:00",
          "1987-12-01T00:00:00",
          "1988-01-01T00:00:00",
          "1988-02-01T00:00:00",
          "1988-03-01T00:00:00",
          "1988-04-01T00:00:00",
          "1988-05-01T00:00:00",
          "1988-06-01T00:00:00",
          "1988-07-01T00:00:00",
          "1988-08-01T00:00:00",
          "1988-09-01T00:00:00",
          "1988-10-01T00:00:00",
          "1988-11-01T00:00:00",
          "1988-12-01T00:00:00",
          "1989-01-01T00:00:00",
          "1989-02-01T00:00:00",
          "1989-03-01T00:00:00",
          "1989-04-01T00:00:00",
          "1989-05-01T00:00:00",
          "1989-06-01T00:00:00",
          "1989-07-01T00:00:00",
          "1989-08-01T00:00:00",
          "1989-09-01T00:00:00",
          "1989-10-01T00:00:00",
          "1989-11-01T00:00:00",
          "1989-12-01T00:00:00",
          "1990-01-01T00:00:00",
          "1990-02-01T00:00:00",
          "1990-03-01T00:00:00",
          "1990-04-01T00:00:00",
          "1990-05-01T00:00:00",
          "1990-06-01T00:00:00",
          "1990-07-01T00:00:00",
          "1990-08-01T00:00:00",
          "1990-09-01T00:00:00",
          "1990-10-01T00:00:00",
          "1990-11-01T00:00:00",
          "1990-12-01T00:00:00",
          "1991-01-01T00:00:00",
          "1991-02-01T00:00:00",
          "1991-03-01T00:00:00",
          "1991-04-01T00:00:00",
          "1991-05-01T00:00:00",
          "1991-06-01T00:00:00",
          "1991-07-01T00:00:00",
          "1991-08-01T00:00:00",
          "1991-09-01T00:00:00",
          "1991-10-01T00:00:00",
          "1991-11-01T00:00:00",
          "1991-12-01T00:00:00",
          "1992-01-01T00:00:00",
          "1992-02-01T00:00:00",
          "1992-03-01T00:00:00",
          "1992-04-01T00:00:00",
          "1992-05-01T00:00:00",
          "1992-06-01T00:00:00",
          "1992-07-01T00:00:00",
          "1992-08-01T00:00:00",
          "1992-09-01T00:00:00",
          "1992-10-01T00:00:00",
          "1992-11-01T00:00:00",
          "1992-12-01T00:00:00",
          "1993-01-01T00:00:00",
          "1993-02-01T00:00:00",
          "1993-03-01T00:00:00",
          "1993-04-01T00:00:00",
          "1993-05-01T00:00:00",
          "1993-06-01T00:00:00",
          "1993-07-01T00:00:00",
          "1993-08-01T00:00:00",
          "1993-09-01T00:00:00",
          "1993-10-01T00:00:00",
          "1993-11-01T00:00:00",
          "1993-12-01T00:00:00",
          "1994-01-01T00:00:00",
          "1994-02-01T00:00:00",
          "1994-03-01T00:00:00",
          "1994-04-01T00:00:00",
          "1994-05-01T00:00:00",
          "1994-06-01T00:00:00",
          "1994-07-01T00:00:00",
          "1994-08-01T00:00:00",
          "1994-09-01T00:00:00",
          "1994-10-01T00:00:00",
          "1994-11-01T00:00:00",
          "1994-12-01T00:00:00",
          "1995-01-01T00:00:00",
          "1995-02-01T00:00:00",
          "1995-03-01T00:00:00",
          "1995-04-01T00:00:00",
          "1995-05-01T00:00:00",
          "1995-06-01T00:00:00",
          "1995-07-01T00:00:00",
          "1995-08-01T00:00:00",
          "1995-09-01T00:00:00",
          "1995-10-01T00:00:00",
          "1995-11-01T00:00:00",
          "1995-12-01T00:00:00",
          "1996-01-01T00:00:00",
          "1996-02-01T00:00:00",
          "1996-03-01T00:00:00",
          "1996-04-01T00:00:00",
          "1996-05-01T00:00:00",
          "1996-06-01T00:00:00",
          "1996-07-01T00:00:00",
          "1996-08-01T00:00:00",
          "1996-09-01T00:00:00",
          "1996-10-01T00:00:00",
          "1996-11-01T00:00:00",
          "1996-12-01T00:00:00",
          "1997-01-01T00:00:00",
          "1997-02-01T00:00:00",
          "1997-03-01T00:00:00",
          "1997-04-01T00:00:00",
          "1997-05-01T00:00:00",
          "1997-06-01T00:00:00",
          "1997-07-01T00:00:00",
          "1997-08-01T00:00:00",
          "1997-09-01T00:00:00",
          "1997-10-01T00:00:00",
          "1997-11-01T00:00:00",
          "1997-12-01T00:00:00",
          "1998-01-01T00:00:00",
          "1998-02-01T00:00:00",
          "1998-03-01T00:00:00",
          "1998-04-01T00:00:00",
          "1998-05-01T00:00:00",
          "1998-06-01T00:00:00",
          "1998-07-01T00:00:00",
          "1998-08-01T00:00:00",
          "1998-09-01T00:00:00",
          "1998-10-01T00:00:00",
          "1998-11-01T00:00:00",
          "1998-12-01T00:00:00",
          "1999-01-01T00:00:00",
          "1999-02-01T00:00:00",
          "1999-03-01T00:00:00",
          "1999-04-01T00:00:00",
          "1999-05-01T00:00:00",
          "1999-06-01T00:00:00",
          "1999-07-01T00:00:00",
          "1999-08-01T00:00:00",
          "1999-09-01T00:00:00",
          "1999-10-01T00:00:00",
          "1999-11-01T00:00:00",
          "1999-12-01T00:00:00",
          "2000-01-01T00:00:00",
          "2000-02-01T00:00:00",
          "2000-03-01T00:00:00",
          "2000-04-01T00:00:00",
          "2000-05-01T00:00:00",
          "2000-06-01T00:00:00",
          "2000-07-01T00:00:00",
          "2000-08-01T00:00:00",
          "2000-09-01T00:00:00",
          "2000-10-01T00:00:00",
          "2000-11-01T00:00:00",
          "2000-12-01T00:00:00",
          "2001-01-01T00:00:00",
          "2001-02-01T00:00:00",
          "2001-03-01T00:00:00",
          "2001-04-01T00:00:00",
          "2001-05-01T00:00:00",
          "2001-06-01T00:00:00",
          "2001-07-01T00:00:00",
          "2001-08-01T00:00:00",
          "2001-09-01T00:00:00",
          "2001-10-01T00:00:00",
          "2001-11-01T00:00:00",
          "2001-12-01T00:00:00",
          "2002-01-01T00:00:00",
          "2002-02-01T00:00:00",
          "2002-03-01T00:00:00",
          "2002-04-01T00:00:00",
          "2002-05-01T00:00:00",
          "2002-06-01T00:00:00",
          "2002-07-01T00:00:00",
          "2002-08-01T00:00:00",
          "2002-09-01T00:00:00",
          "2002-10-01T00:00:00",
          "2002-11-01T00:00:00",
          "2002-12-01T00:00:00",
          "2003-01-01T00:00:00",
          "2003-02-01T00:00:00",
          "2003-03-01T00:00:00",
          "2003-04-01T00:00:00",
          "2003-05-01T00:00:00",
          "2003-06-01T00:00:00",
          "2003-07-01T00:00:00",
          "2003-08-01T00:00:00",
          "2003-09-01T00:00:00",
          "2003-10-01T00:00:00",
          "2003-11-01T00:00:00",
          "2003-12-01T00:00:00",
          "2004-01-01T00:00:00",
          "2004-02-01T00:00:00",
          "2004-03-01T00:00:00",
          "2004-04-01T00:00:00",
          "2004-05-01T00:00:00",
          "2004-06-01T00:00:00",
          "2004-07-01T00:00:00",
          "2004-08-01T00:00:00",
          "2004-09-01T00:00:00",
          "2004-10-01T00:00:00",
          "2004-11-01T00:00:00",
          "2004-12-01T00:00:00",
          "2005-01-01T00:00:00",
          "2005-02-01T00:00:00",
          "2005-03-01T00:00:00",
          "2005-04-01T00:00:00",
          "2005-05-01T00:00:00",
          "2005-06-01T00:00:00",
          "2005-07-01T00:00:00",
          "2005-08-01T00:00:00",
          "2005-09-01T00:00:00",
          "2005-10-01T00:00:00",
          "2005-11-01T00:00:00",
          "2005-12-01T00:00:00",
          "2006-01-01T00:00:00",
          "2006-02-01T00:00:00",
          "2006-03-01T00:00:00",
          "2006-04-01T00:00:00",
          "2006-05-01T00:00:00",
          "2006-06-01T00:00:00",
          "2006-07-01T00:00:00",
          "2006-08-01T00:00:00",
          "2006-09-01T00:00:00",
          "2006-10-01T00:00:00",
          "2006-11-01T00:00:00",
          "2006-12-01T00:00:00",
          "2007-01-01T00:00:00",
          "2007-02-01T00:00:00",
          "2007-03-01T00:00:00",
          "2007-04-01T00:00:00",
          "2007-05-01T00:00:00",
          "2007-06-01T00:00:00",
          "2007-07-01T00:00:00",
          "2007-08-01T00:00:00",
          "2007-09-01T00:00:00",
          "2007-10-01T00:00:00",
          "2007-11-01T00:00:00",
          "2007-12-01T00:00:00",
          "2008-01-01T00:00:00",
          "2008-02-01T00:00:00",
          "2008-03-01T00:00:00",
          "2008-04-01T00:00:00",
          "2008-05-01T00:00:00",
          "2008-06-01T00:00:00",
          "2008-07-01T00:00:00",
          "2008-08-01T00:00:00",
          "2008-09-01T00:00:00",
          "2008-10-01T00:00:00",
          "2008-11-01T00:00:00",
          "2008-12-01T00:00:00",
          "2009-01-01T00:00:00",
          "2009-02-01T00:00:00",
          "2009-03-01T00:00:00",
          "2009-04-01T00:00:00",
          "2009-05-01T00:00:00",
          "2009-06-01T00:00:00",
          "2009-07-01T00:00:00",
          "2009-08-01T00:00:00",
          "2009-09-01T00:00:00",
          "2009-10-01T00:00:00",
          "2009-11-01T00:00:00",
          "2009-12-01T00:00:00",
          "2010-01-01T00:00:00",
          "2010-02-01T00:00:00",
          "2010-03-01T00:00:00",
          "2010-04-01T00:00:00",
          "2010-05-01T00:00:00",
          "2010-06-01T00:00:00",
          "2010-07-01T00:00:00",
          "2010-08-01T00:00:00",
          "2010-09-01T00:00:00",
          "2010-10-01T00:00:00",
          "2010-11-01T00:00:00",
          "2010-12-01T00:00:00",
          "2011-01-01T00:00:00",
          "2011-02-01T00:00:00",
          "2011-03-01T00:00:00",
          "2011-04-01T00:00:00",
          "2011-05-01T00:00:00",
          "2011-06-01T00:00:00",
          "2011-07-01T00:00:00",
          "2011-08-01T00:00:00",
          "2011-09-01T00:00:00",
          "2011-10-01T00:00:00",
          "2011-11-01T00:00:00",
          "2011-12-01T00:00:00",
          "2012-01-01T00:00:00",
          "2012-02-01T00:00:00",
          "2012-03-01T00:00:00",
          "2012-04-01T00:00:00",
          "2012-05-01T00:00:00",
          "2012-06-01T00:00:00",
          "2012-07-01T00:00:00",
          "2012-08-01T00:00:00",
          "2012-09-01T00:00:00",
          "2012-10-01T00:00:00",
          "2012-11-01T00:00:00",
          "2012-12-01T00:00:00",
          "2013-01-01T00:00:00",
          "2013-02-01T00:00:00",
          "2013-03-01T00:00:00",
          "2013-04-01T00:00:00",
          "2013-05-01T00:00:00",
          "2013-06-01T00:00:00",
          "2013-07-01T00:00:00",
          "2013-08-01T00:00:00",
          "2013-09-01T00:00:00",
          "2013-10-01T00:00:00",
          "2013-11-01T00:00:00",
          "2013-12-01T00:00:00",
          "2014-01-01T00:00:00",
          "2014-02-01T00:00:00",
          "2014-03-01T00:00:00",
          "2014-04-01T00:00:00",
          "2014-05-01T00:00:00",
          "2014-06-01T00:00:00",
          "2014-07-01T00:00:00",
          "2014-08-01T00:00:00",
          "2014-09-01T00:00:00",
          "2014-10-01T00:00:00",
          "2014-11-01T00:00:00",
          "2014-12-01T00:00:00",
          "2015-01-01T00:00:00",
          "2015-02-01T00:00:00",
          "2015-03-01T00:00:00",
          "2015-04-01T00:00:00",
          "2015-05-01T00:00:00",
          "2015-06-01T00:00:00",
          "2015-07-01T00:00:00",
          "2015-08-01T00:00:00",
          "2015-09-01T00:00:00",
          "2015-10-01T00:00:00",
          "2015-11-01T00:00:00",
          "2015-12-01T00:00:00",
          "2016-01-01T00:00:00",
          "2016-02-01T00:00:00",
          "2016-03-01T00:00:00",
          "2016-04-01T00:00:00",
          "2016-05-01T00:00:00",
          "2016-06-01T00:00:00",
          "2016-07-01T00:00:00",
          "2016-08-01T00:00:00",
          "2016-09-01T00:00:00",
          "2016-10-01T00:00:00",
          "2016-11-01T00:00:00",
          "2016-12-01T00:00:00",
          "2017-01-01T00:00:00",
          "2017-02-01T00:00:00",
          "2017-03-01T00:00:00",
          "2017-04-01T00:00:00",
          "2017-05-01T00:00:00",
          "2017-06-01T00:00:00",
          "2017-07-01T00:00:00",
          "2017-08-01T00:00:00",
          "2017-09-01T00:00:00",
          "2017-10-01T00:00:00",
          "2017-11-01T00:00:00",
          "2017-12-01T00:00:00",
          "2018-01-01T00:00:00",
          "2018-02-01T00:00:00",
          "2018-03-01T00:00:00",
          "2018-04-01T00:00:00",
          "2018-05-01T00:00:00",
          "2018-06-01T00:00:00",
          "2018-07-01T00:00:00",
          "2018-08-01T00:00:00",
          "2018-09-01T00:00:00",
          "2018-10-01T00:00:00",
          "2018-11-01T00:00:00",
          "2018-12-01T00:00:00"
         ],
         "y": [
          null,
          null,
          null,
          null,
          null,
          null,
          null,
          null,
          null,
          null,
          null,
          null,
          null,
          null,
          null,
          null,
          null,
          null,
          null,
          null,
          null,
          null,
          null,
          null,
          null,
          null,
          null,
          null,
          null,
          null,
          null,
          null,
          null,
          null,
          null,
          1082.406877254759,
          1125.1987276413208,
          1112.3184027011885,
          1119.4697003388712,
          1147.9196831040156,
          1156.2342761259647,
          1220.8051366081493,
          1250.222259984318,
          1248.3663853325506,
          1269.9948212261634,
          1242.895647076754,
          1305.011828901605,
          1310.728351357417,
          1277.4665105828656,
          1295.4234721756732,
          1344.4713448992732,
          1391.095225537904,
          1430.5858122545724,
          1446.7581663995375,
          1500.4559677673028,
          1535.0364507222316,
          1536.1391900190015,
          1410.4201791538567,
          1424.334564142241,
          1423.4472119634283,
          1507.7676699869587,
          1517.5273638234596,
          1555.0169051816677,
          1569.7062117751063,
          1573.1981856741138,
          1644.5960735535805,
          1708.8211080646543,
          1778.593925244747,
          1778.6194817062367,
          1679.725039953567,
          1802.1130448104545,
          1851.7098576003873,
          1902.1125651727614,
          1841.5826957294278,
          1713.6468129173113,
          1918.4922724573512,
          2034.6140834673486,
          2136.828610865186,
          2189.6359431109677,
          2188.1453085465355,
          2214.1594090135773,
          2254.866798847391,
          2309.171304911492,
          2300.424321698333,
          2321.884563437452,
          2323.682909809701,
          2403.8400312229746,
          2381.458917082446,
          2432.0308194682057,
          2496.997721108808,
          2523.1378652309995,
          2505.213879873836,
          2397.5533235886573,
          2516.040451691012,
          2657.9171836938385,
          2593.256668706097,
          2606.3361440794697,
          2596.8934849108264,
          2635.71142138648,
          2751.102002732003,
          2735.874274784352,
          2695.950130564493,
          2651.2739641488256,
          2860.891226802231,
          2937.020383244533,
          3157.101661542558,
          3270.4864689434035,
          3356.5873928190053,
          3516.032811631832,
          3642.2340296612406,
          3762.5892204015076,
          3942.6593439898447,
          4104.231341697808,
          4151.170879538958,
          4208.164570203421,
          4273.24889076374,
          4444.230147574111,
          4494.996116036864,
          4528.377578050858,
          4446.035686284256,
          4576.8685260400935,
          4467.759654619961,
          4487.165609099831,
          4458.960358957676,
          4475.188152916999,
          4524.943385989333,
          4487.254221434665,
          4787.826995427868,
          4955.478035899235,
          5050.482413475379,
          5139.205221820661,
          5229.18325610821,
          5457.162899983501,
          5566.110498660188,
          5836.055139177867,
          5910.537771938475,
          6220.313556561961,
          6409.995973015694,
          6341.2371107064455,
          6443.59065766685,
          6233.639928959589,
          6412.594821080281,
          6777.83053541109,
          7062.40092198522,
          7242.0063122434185,
          7609.87046228314,
          7952.438947503216,
          7914.24337594873,
          8102.863405399916,
          8346.404956933846,
          8238.72656627271,
          8682.033264403026,
          8384.433778181037,
          8584.731411881698,
          8447.059641112015,
          8348.190720891367,
          9051.536983953198,
          9352.414068122305,
          9315.617413492475,
          9097.614411030423,
          9114.419270372284,
          9322.276724813953,
          9662.598650297672,
          9886.175156345014,
          9711.066908394598,
          8519.067827238257,
          8394.119412893635,
          8530.091426507135,
          9132.87349763445,
          9351.573242429258,
          9393.973740794396,
          9424.392998285042,
          9577.055294041735,
          9868.533346131138,
          9920.794104678713,
          9864.375027491518,
          9996.622349471754,
          10148.8772006535,
          10126.250646882949,
          10198.950568009845,
          10481.77890075201,
          10437.495295203495,
          10497.253210182686,
          10715.766583805005,
          11023.585271151518,
          11282.763900270276,
          11748.33364433374,
          11819.800769881022,
          11855.678051540248,
          11861.524277066103,
          12330.987996577454,
          12748.73544304716,
          12253.117153597015,
          12386.99733616862,
          12276.243142907872,
          11688.151643455523,
          12070.969040059377,
          12020.615472488218,
          12183.273684166166,
          11534.05287789361,
          11552.943392766263,
          11245.48797290538,
          11493.646336057152,
          11657.053849397516,
          11816.428877822127,
          12553.969389806833,
          12914.978158604754,
          13037.070127019968,
          13460.562245869078,
          13225.862429280722,
          13658.715053918879,
          13936.967939276228,
          14196.750196359339,
          14471.007186329165,
          14577.65777427633,
          14848.672411591666,
          15065.05038625059,
          15209.01665963836,
          15030.910730761687,
          15083.728220611163,
          15613.114699755295,
          15609.022417906508,
          16463.40920814036,
          16610.976400164964,
          16874.0111310661,
          16733.8702005267,
          16903.068419852738,
          17360.686993041152,
          17842.18702246476,
          18644.563008815006,
          19116.64356532325,
          19370.243738620797,
          19820.716431300105,
          20218.574066962596,
          20719.447543881477,
          21258.664106107306,
          21258.160069763064,
          21446.005787276827,
          20984.01624901521,
          21375.17287293763,
          21757.25479273551,
          21407.966316004557,
          20702.414484621713,
          20781.312547424637,
          20637.13571006703,
          20188.39150186489,
          20682.211178117013,
          21193.22115313663,
          21384.60825426872,
          21295.029430783947,
          20928.968363416352,
          21131.496510422785,
          21498.464299042094,
          22233.864123769457,
          22350.695780511847,
          22544.86262282057,
          23210.19146712361,
          23704.17864089407,
          24060.27031091977,
          24520.07956286175,
          25159.261468014105,
          24838.90520524114,
          25386.725874750337,
          25679.091791026287,
          26387.229880629275,
          26603.514165184813,
          26847.20008441858,
          27151.783849414787,
          28212.242196971605,
          28228.32965957985,
          27017.532520037777,
          28069.1765187027,
          28683.701497809045,
          28970.76985577421,
          29555.70288674083,
          29642.26251656532,
          30455.876166998532,
          30894.673140098625,
          30173.609630181247,
          29974.140236420717,
          31399.04287304631,
          32373.908733047258,
          33333.796928651325,
          33577.867597097844,
          35007.62811257986,
          35236.7007641594,
          36270.64694900454,
          38064.647140642555,
          38124.10974133735,
          39251.91282321992,
          41255.34472835145,
          41346.10412932298,
          41055.186826351965,
          40944.07586438314,
          39471.68703373765,
          37948.65378832058,
          40447.73251869701,
          41273.26224537849,
          41897.57555413346,
          43042.915509275685,
          41607.674664999344,
          40155.118498315656,
          40272.616927433504,
          42823.86132657527,
          44710.54992641627,
          45146.67686682703,
          46119.8994619775,
          45534.165910568954,
          44666.631785021826,
          44927.57828618638,
          44237.943813412974,
          43992.09618266619,
          45448.371690469954,
          44820.77212615707,
          46382.0489375962,
          46768.90616310145,
          47197.32895410222,
          47041.94318998373,
          49207.51084668591,
          51255.796327708595,
          52739.823390443955,
          52684.6795575263,
          53023.45129430796,
          55379.040078870676,
          56500.934612568126,
          57213.03704186155,
          57192.58663450785,
          59208.64925976864,
          60375.49702104475,
          59422.97816867453,
          58154.94170837362,
          58801.7609461841,
          56821.4329259743,
          58013.439071295994,
          58773.09761556273,
          61047.92836255852,
          61519.2244516364,
          62515.30260046828,
          66687.30446866255,
          68429.31637977193,
          68884.50081392209,
          66812.36794554222,
          61939.63986083898,
          64067.49403598978,
          61479.54132616389,
          63552.78923520766,
          65685.14278123912,
          65927.19337327313,
          66573.39237223996,
          65749.1799131398,
          65906.27126577591,
          70174.51218363103,
          73777.6253521586,
          74890.32959709073,
          78059.93020668693,
          80175.41591501441,
          81247.83734517242,
          85544.55091757195,
          89139.09716217803,
          91380.84535567061,
          94055.86412323047,
          96766.91056049522,
          97981.66439489154,
          95245.08808890583,
          98320.96197801603,
          99943.80164093572,
          98420.67070393646,
          100304.18274664631,
          102747.04426596142,
          105890.05661296652,
          111333.14374481642,
          114338.8429405766,
          113105.85239378382,
          114346.38984201955,
          112936.79482136379,
          109662.20294322447,
          113568.23698179102,
          116371.64802424028,
          120473.48644790954,
          118903.57558975714,
          119038.06099512652,
          117006.3018260496,
          119678.5043538408,
          120559.12758822093,
          124223.68562939158,
          125159.53100189046,
          128073.68484199105,
          129879.53427588409,
          128957.30521708493,
          130924.99564049795,
          133263.98603090405,
          135393.48570498702,
          135642.86562736036,
          139441.21356314898,
          141836.9057908093,
          144247.7712600196,
          145243.27760650427,
          145111.83432320517,
          146287.26702550115,
          146196.37879625385,
          148008.91672071477,
          145583.35768387027,
          138073.967597363,
          141085.10273330184,
          142255.3424355391,
          142110.15638978322,
          136623.0719230511,
          135523.2767779312,
          134705.65891515545,
          133554.0635725955,
          134099.49584284573,
          135176.8334806502,
          137694.32866175196,
          127498.88063114946,
          129399.95411237072,
          132194.07241709778,
          126101.87855022955,
          113684.25677951382,
          108227.7847388497,
          107703.01607643925,
          104666.60006063267,
          98856.38153493976,
          101919.47042171008,
          109605.33995906461,
          115440.94176432525,
          117287.90629502849,
          124174.81670780158,
          126727.95764009607,
          130453.18325741126,
          127111.63924366815,
          129318.68927087927,
          135925.4354796551,
          132188.41120318463,
          133955.76061963427,
          143949.553275746,
          149588.83848726374,
          141149.80130610566,
          140665.80847866434,
          149429.99572229892,
          147229.54815181697,
          155843.9621813997,
          159889.09891006976,
          159741.96711169873,
          167053.26928622738,
          167967.05195783012,
          173552.1310731115,
          177130.56152552075,
          182580.88099790667,
          182387.02264710452,
          181024.05328639125,
          178688.20354647143,
          176132.99299743076,
          168874.72149796676,
          181174.93931368963,
          181443.76934272342,
          185211.26523214992,
          184626.6852887393,
          186125.17655935202,
          187304.5507736418,
          189173.03350230586,
          186038.86490960777,
          195147.34696965106,
          199614.39002358037,
          199088.77292274503,
          204025.25182834352,
          203757.97950913158,
          201902.93271389857,
          202987.5346184993,
          212733.7906229096,
          216914.08005712548,
          228491.65336116037,
          237401.65525770644,
          231682.50645782895,
          232460.22383029,
          245602.47701231035,
          237861.51957145002,
          243446.25070623582,
          252620.35951133113,
          255677.30262673608,
          260980.278222788,
          262003.00736489292,
          273919.9291269324,
          278183.9551853027,
          281184.02712242276,
          281648.7788713152,
          292088.9871726765,
          277582.76668983256,
          292887.13065875496,
          291851.10102190427,
          303240.7252823957,
          309513.6394281054,
          309787.20377737517,
          312552.1323132605,
          323048.54730092984,
          320124.80720428494,
          324897.9664243139,
          329219.77822854056,
          330703.0791174023,
          337885.228797358,
          335296.3034366557,
          334329.3450566513,
          347903.27304569463,
          351432.6640399802,
          347576.99733804626,
          340254.211045773,
          347161.7816512899,
          361589.9117751423,
          370704.7339869611,
          370539.5441024014,
          384616.96113017364,
          400648.0044184533,
          409613.7325840832,
          406467.46760912694,
          408195.8082051777,
          431056.97838721605,
          440099.102068375,
          445861.5548635682,
          461155.15403002745,
          470900.3297557679,
          473278.80912292,
          480830.2777026683,
          484987.60210103355,
          486816.6017778322,
          484046.9265569155,
          495064.8901980803,
          499849.08445290255,
          511884.67131128866,
          517156.19679617987,
          518157.8772608757,
          496818.0630800203,
          503102.43969745265,
          503026.2281666352,
          520636.3280264959,
          537063.1574053405,
          542338.7358737533,
          551523.2072492868,
          559617.0810737081,
          550513.6663823226,
          547967.0570560276,
          506448.98845558864
         ]
        },
        {
         "name": "GMV_Const_Cov_wealth_index",
         "type": "scatter",
         "x": [
          "1974-01-01T00:00:00",
          "1974-02-01T00:00:00",
          "1974-03-01T00:00:00",
          "1974-04-01T00:00:00",
          "1974-05-01T00:00:00",
          "1974-06-01T00:00:00",
          "1974-07-01T00:00:00",
          "1974-08-01T00:00:00",
          "1974-09-01T00:00:00",
          "1974-10-01T00:00:00",
          "1974-11-01T00:00:00",
          "1974-12-01T00:00:00",
          "1975-01-01T00:00:00",
          "1975-02-01T00:00:00",
          "1975-03-01T00:00:00",
          "1975-04-01T00:00:00",
          "1975-05-01T00:00:00",
          "1975-06-01T00:00:00",
          "1975-07-01T00:00:00",
          "1975-08-01T00:00:00",
          "1975-09-01T00:00:00",
          "1975-10-01T00:00:00",
          "1975-11-01T00:00:00",
          "1975-12-01T00:00:00",
          "1976-01-01T00:00:00",
          "1976-02-01T00:00:00",
          "1976-03-01T00:00:00",
          "1976-04-01T00:00:00",
          "1976-05-01T00:00:00",
          "1976-06-01T00:00:00",
          "1976-07-01T00:00:00",
          "1976-08-01T00:00:00",
          "1976-09-01T00:00:00",
          "1976-10-01T00:00:00",
          "1976-11-01T00:00:00",
          "1976-12-01T00:00:00",
          "1977-01-01T00:00:00",
          "1977-02-01T00:00:00",
          "1977-03-01T00:00:00",
          "1977-04-01T00:00:00",
          "1977-05-01T00:00:00",
          "1977-06-01T00:00:00",
          "1977-07-01T00:00:00",
          "1977-08-01T00:00:00",
          "1977-09-01T00:00:00",
          "1977-10-01T00:00:00",
          "1977-11-01T00:00:00",
          "1977-12-01T00:00:00",
          "1978-01-01T00:00:00",
          "1978-02-01T00:00:00",
          "1978-03-01T00:00:00",
          "1978-04-01T00:00:00",
          "1978-05-01T00:00:00",
          "1978-06-01T00:00:00",
          "1978-07-01T00:00:00",
          "1978-08-01T00:00:00",
          "1978-09-01T00:00:00",
          "1978-10-01T00:00:00",
          "1978-11-01T00:00:00",
          "1978-12-01T00:00:00",
          "1979-01-01T00:00:00",
          "1979-02-01T00:00:00",
          "1979-03-01T00:00:00",
          "1979-04-01T00:00:00",
          "1979-05-01T00:00:00",
          "1979-06-01T00:00:00",
          "1979-07-01T00:00:00",
          "1979-08-01T00:00:00",
          "1979-09-01T00:00:00",
          "1979-10-01T00:00:00",
          "1979-11-01T00:00:00",
          "1979-12-01T00:00:00",
          "1980-01-01T00:00:00",
          "1980-02-01T00:00:00",
          "1980-03-01T00:00:00",
          "1980-04-01T00:00:00",
          "1980-05-01T00:00:00",
          "1980-06-01T00:00:00",
          "1980-07-01T00:00:00",
          "1980-08-01T00:00:00",
          "1980-09-01T00:00:00",
          "1980-10-01T00:00:00",
          "1980-11-01T00:00:00",
          "1980-12-01T00:00:00",
          "1981-01-01T00:00:00",
          "1981-02-01T00:00:00",
          "1981-03-01T00:00:00",
          "1981-04-01T00:00:00",
          "1981-05-01T00:00:00",
          "1981-06-01T00:00:00",
          "1981-07-01T00:00:00",
          "1981-08-01T00:00:00",
          "1981-09-01T00:00:00",
          "1981-10-01T00:00:00",
          "1981-11-01T00:00:00",
          "1981-12-01T00:00:00",
          "1982-01-01T00:00:00",
          "1982-02-01T00:00:00",
          "1982-03-01T00:00:00",
          "1982-04-01T00:00:00",
          "1982-05-01T00:00:00",
          "1982-06-01T00:00:00",
          "1982-07-01T00:00:00",
          "1982-08-01T00:00:00",
          "1982-09-01T00:00:00",
          "1982-10-01T00:00:00",
          "1982-11-01T00:00:00",
          "1982-12-01T00:00:00",
          "1983-01-01T00:00:00",
          "1983-02-01T00:00:00",
          "1983-03-01T00:00:00",
          "1983-04-01T00:00:00",
          "1983-05-01T00:00:00",
          "1983-06-01T00:00:00",
          "1983-07-01T00:00:00",
          "1983-08-01T00:00:00",
          "1983-09-01T00:00:00",
          "1983-10-01T00:00:00",
          "1983-11-01T00:00:00",
          "1983-12-01T00:00:00",
          "1984-01-01T00:00:00",
          "1984-02-01T00:00:00",
          "1984-03-01T00:00:00",
          "1984-04-01T00:00:00",
          "1984-05-01T00:00:00",
          "1984-06-01T00:00:00",
          "1984-07-01T00:00:00",
          "1984-08-01T00:00:00",
          "1984-09-01T00:00:00",
          "1984-10-01T00:00:00",
          "1984-11-01T00:00:00",
          "1984-12-01T00:00:00",
          "1985-01-01T00:00:00",
          "1985-02-01T00:00:00",
          "1985-03-01T00:00:00",
          "1985-04-01T00:00:00",
          "1985-05-01T00:00:00",
          "1985-06-01T00:00:00",
          "1985-07-01T00:00:00",
          "1985-08-01T00:00:00",
          "1985-09-01T00:00:00",
          "1985-10-01T00:00:00",
          "1985-11-01T00:00:00",
          "1985-12-01T00:00:00",
          "1986-01-01T00:00:00",
          "1986-02-01T00:00:00",
          "1986-03-01T00:00:00",
          "1986-04-01T00:00:00",
          "1986-05-01T00:00:00",
          "1986-06-01T00:00:00",
          "1986-07-01T00:00:00",
          "1986-08-01T00:00:00",
          "1986-09-01T00:00:00",
          "1986-10-01T00:00:00",
          "1986-11-01T00:00:00",
          "1986-12-01T00:00:00",
          "1987-01-01T00:00:00",
          "1987-02-01T00:00:00",
          "1987-03-01T00:00:00",
          "1987-04-01T00:00:00",
          "1987-05-01T00:00:00",
          "1987-06-01T00:00:00",
          "1987-07-01T00:00:00",
          "1987-08-01T00:00:00",
          "1987-09-01T00:00:00",
          "1987-10-01T00:00:00",
          "1987-11-01T00:00:00",
          "1987-12-01T00:00:00",
          "1988-01-01T00:00:00",
          "1988-02-01T00:00:00",
          "1988-03-01T00:00:00",
          "1988-04-01T00:00:00",
          "1988-05-01T00:00:00",
          "1988-06-01T00:00:00",
          "1988-07-01T00:00:00",
          "1988-08-01T00:00:00",
          "1988-09-01T00:00:00",
          "1988-10-01T00:00:00",
          "1988-11-01T00:00:00",
          "1988-12-01T00:00:00",
          "1989-01-01T00:00:00",
          "1989-02-01T00:00:00",
          "1989-03-01T00:00:00",
          "1989-04-01T00:00:00",
          "1989-05-01T00:00:00",
          "1989-06-01T00:00:00",
          "1989-07-01T00:00:00",
          "1989-08-01T00:00:00",
          "1989-09-01T00:00:00",
          "1989-10-01T00:00:00",
          "1989-11-01T00:00:00",
          "1989-12-01T00:00:00",
          "1990-01-01T00:00:00",
          "1990-02-01T00:00:00",
          "1990-03-01T00:00:00",
          "1990-04-01T00:00:00",
          "1990-05-01T00:00:00",
          "1990-06-01T00:00:00",
          "1990-07-01T00:00:00",
          "1990-08-01T00:00:00",
          "1990-09-01T00:00:00",
          "1990-10-01T00:00:00",
          "1990-11-01T00:00:00",
          "1990-12-01T00:00:00",
          "1991-01-01T00:00:00",
          "1991-02-01T00:00:00",
          "1991-03-01T00:00:00",
          "1991-04-01T00:00:00",
          "1991-05-01T00:00:00",
          "1991-06-01T00:00:00",
          "1991-07-01T00:00:00",
          "1991-08-01T00:00:00",
          "1991-09-01T00:00:00",
          "1991-10-01T00:00:00",
          "1991-11-01T00:00:00",
          "1991-12-01T00:00:00",
          "1992-01-01T00:00:00",
          "1992-02-01T00:00:00",
          "1992-03-01T00:00:00",
          "1992-04-01T00:00:00",
          "1992-05-01T00:00:00",
          "1992-06-01T00:00:00",
          "1992-07-01T00:00:00",
          "1992-08-01T00:00:00",
          "1992-09-01T00:00:00",
          "1992-10-01T00:00:00",
          "1992-11-01T00:00:00",
          "1992-12-01T00:00:00",
          "1993-01-01T00:00:00",
          "1993-02-01T00:00:00",
          "1993-03-01T00:00:00",
          "1993-04-01T00:00:00",
          "1993-05-01T00:00:00",
          "1993-06-01T00:00:00",
          "1993-07-01T00:00:00",
          "1993-08-01T00:00:00",
          "1993-09-01T00:00:00",
          "1993-10-01T00:00:00",
          "1993-11-01T00:00:00",
          "1993-12-01T00:00:00",
          "1994-01-01T00:00:00",
          "1994-02-01T00:00:00",
          "1994-03-01T00:00:00",
          "1994-04-01T00:00:00",
          "1994-05-01T00:00:00",
          "1994-06-01T00:00:00",
          "1994-07-01T00:00:00",
          "1994-08-01T00:00:00",
          "1994-09-01T00:00:00",
          "1994-10-01T00:00:00",
          "1994-11-01T00:00:00",
          "1994-12-01T00:00:00",
          "1995-01-01T00:00:00",
          "1995-02-01T00:00:00",
          "1995-03-01T00:00:00",
          "1995-04-01T00:00:00",
          "1995-05-01T00:00:00",
          "1995-06-01T00:00:00",
          "1995-07-01T00:00:00",
          "1995-08-01T00:00:00",
          "1995-09-01T00:00:00",
          "1995-10-01T00:00:00",
          "1995-11-01T00:00:00",
          "1995-12-01T00:00:00",
          "1996-01-01T00:00:00",
          "1996-02-01T00:00:00",
          "1996-03-01T00:00:00",
          "1996-04-01T00:00:00",
          "1996-05-01T00:00:00",
          "1996-06-01T00:00:00",
          "1996-07-01T00:00:00",
          "1996-08-01T00:00:00",
          "1996-09-01T00:00:00",
          "1996-10-01T00:00:00",
          "1996-11-01T00:00:00",
          "1996-12-01T00:00:00",
          "1997-01-01T00:00:00",
          "1997-02-01T00:00:00",
          "1997-03-01T00:00:00",
          "1997-04-01T00:00:00",
          "1997-05-01T00:00:00",
          "1997-06-01T00:00:00",
          "1997-07-01T00:00:00",
          "1997-08-01T00:00:00",
          "1997-09-01T00:00:00",
          "1997-10-01T00:00:00",
          "1997-11-01T00:00:00",
          "1997-12-01T00:00:00",
          "1998-01-01T00:00:00",
          "1998-02-01T00:00:00",
          "1998-03-01T00:00:00",
          "1998-04-01T00:00:00",
          "1998-05-01T00:00:00",
          "1998-06-01T00:00:00",
          "1998-07-01T00:00:00",
          "1998-08-01T00:00:00",
          "1998-09-01T00:00:00",
          "1998-10-01T00:00:00",
          "1998-11-01T00:00:00",
          "1998-12-01T00:00:00",
          "1999-01-01T00:00:00",
          "1999-02-01T00:00:00",
          "1999-03-01T00:00:00",
          "1999-04-01T00:00:00",
          "1999-05-01T00:00:00",
          "1999-06-01T00:00:00",
          "1999-07-01T00:00:00",
          "1999-08-01T00:00:00",
          "1999-09-01T00:00:00",
          "1999-10-01T00:00:00",
          "1999-11-01T00:00:00",
          "1999-12-01T00:00:00",
          "2000-01-01T00:00:00",
          "2000-02-01T00:00:00",
          "2000-03-01T00:00:00",
          "2000-04-01T00:00:00",
          "2000-05-01T00:00:00",
          "2000-06-01T00:00:00",
          "2000-07-01T00:00:00",
          "2000-08-01T00:00:00",
          "2000-09-01T00:00:00",
          "2000-10-01T00:00:00",
          "2000-11-01T00:00:00",
          "2000-12-01T00:00:00",
          "2001-01-01T00:00:00",
          "2001-02-01T00:00:00",
          "2001-03-01T00:00:00",
          "2001-04-01T00:00:00",
          "2001-05-01T00:00:00",
          "2001-06-01T00:00:00",
          "2001-07-01T00:00:00",
          "2001-08-01T00:00:00",
          "2001-09-01T00:00:00",
          "2001-10-01T00:00:00",
          "2001-11-01T00:00:00",
          "2001-12-01T00:00:00",
          "2002-01-01T00:00:00",
          "2002-02-01T00:00:00",
          "2002-03-01T00:00:00",
          "2002-04-01T00:00:00",
          "2002-05-01T00:00:00",
          "2002-06-01T00:00:00",
          "2002-07-01T00:00:00",
          "2002-08-01T00:00:00",
          "2002-09-01T00:00:00",
          "2002-10-01T00:00:00",
          "2002-11-01T00:00:00",
          "2002-12-01T00:00:00",
          "2003-01-01T00:00:00",
          "2003-02-01T00:00:00",
          "2003-03-01T00:00:00",
          "2003-04-01T00:00:00",
          "2003-05-01T00:00:00",
          "2003-06-01T00:00:00",
          "2003-07-01T00:00:00",
          "2003-08-01T00:00:00",
          "2003-09-01T00:00:00",
          "2003-10-01T00:00:00",
          "2003-11-01T00:00:00",
          "2003-12-01T00:00:00",
          "2004-01-01T00:00:00",
          "2004-02-01T00:00:00",
          "2004-03-01T00:00:00",
          "2004-04-01T00:00:00",
          "2004-05-01T00:00:00",
          "2004-06-01T00:00:00",
          "2004-07-01T00:00:00",
          "2004-08-01T00:00:00",
          "2004-09-01T00:00:00",
          "2004-10-01T00:00:00",
          "2004-11-01T00:00:00",
          "2004-12-01T00:00:00",
          "2005-01-01T00:00:00",
          "2005-02-01T00:00:00",
          "2005-03-01T00:00:00",
          "2005-04-01T00:00:00",
          "2005-05-01T00:00:00",
          "2005-06-01T00:00:00",
          "2005-07-01T00:00:00",
          "2005-08-01T00:00:00",
          "2005-09-01T00:00:00",
          "2005-10-01T00:00:00",
          "2005-11-01T00:00:00",
          "2005-12-01T00:00:00",
          "2006-01-01T00:00:00",
          "2006-02-01T00:00:00",
          "2006-03-01T00:00:00",
          "2006-04-01T00:00:00",
          "2006-05-01T00:00:00",
          "2006-06-01T00:00:00",
          "2006-07-01T00:00:00",
          "2006-08-01T00:00:00",
          "2006-09-01T00:00:00",
          "2006-10-01T00:00:00",
          "2006-11-01T00:00:00",
          "2006-12-01T00:00:00",
          "2007-01-01T00:00:00",
          "2007-02-01T00:00:00",
          "2007-03-01T00:00:00",
          "2007-04-01T00:00:00",
          "2007-05-01T00:00:00",
          "2007-06-01T00:00:00",
          "2007-07-01T00:00:00",
          "2007-08-01T00:00:00",
          "2007-09-01T00:00:00",
          "2007-10-01T00:00:00",
          "2007-11-01T00:00:00",
          "2007-12-01T00:00:00",
          "2008-01-01T00:00:00",
          "2008-02-01T00:00:00",
          "2008-03-01T00:00:00",
          "2008-04-01T00:00:00",
          "2008-05-01T00:00:00",
          "2008-06-01T00:00:00",
          "2008-07-01T00:00:00",
          "2008-08-01T00:00:00",
          "2008-09-01T00:00:00",
          "2008-10-01T00:00:00",
          "2008-11-01T00:00:00",
          "2008-12-01T00:00:00",
          "2009-01-01T00:00:00",
          "2009-02-01T00:00:00",
          "2009-03-01T00:00:00",
          "2009-04-01T00:00:00",
          "2009-05-01T00:00:00",
          "2009-06-01T00:00:00",
          "2009-07-01T00:00:00",
          "2009-08-01T00:00:00",
          "2009-09-01T00:00:00",
          "2009-10-01T00:00:00",
          "2009-11-01T00:00:00",
          "2009-12-01T00:00:00",
          "2010-01-01T00:00:00",
          "2010-02-01T00:00:00",
          "2010-03-01T00:00:00",
          "2010-04-01T00:00:00",
          "2010-05-01T00:00:00",
          "2010-06-01T00:00:00",
          "2010-07-01T00:00:00",
          "2010-08-01T00:00:00",
          "2010-09-01T00:00:00",
          "2010-10-01T00:00:00",
          "2010-11-01T00:00:00",
          "2010-12-01T00:00:00",
          "2011-01-01T00:00:00",
          "2011-02-01T00:00:00",
          "2011-03-01T00:00:00",
          "2011-04-01T00:00:00",
          "2011-05-01T00:00:00",
          "2011-06-01T00:00:00",
          "2011-07-01T00:00:00",
          "2011-08-01T00:00:00",
          "2011-09-01T00:00:00",
          "2011-10-01T00:00:00",
          "2011-11-01T00:00:00",
          "2011-12-01T00:00:00",
          "2012-01-01T00:00:00",
          "2012-02-01T00:00:00",
          "2012-03-01T00:00:00",
          "2012-04-01T00:00:00",
          "2012-05-01T00:00:00",
          "2012-06-01T00:00:00",
          "2012-07-01T00:00:00",
          "2012-08-01T00:00:00",
          "2012-09-01T00:00:00",
          "2012-10-01T00:00:00",
          "2012-11-01T00:00:00",
          "2012-12-01T00:00:00",
          "2013-01-01T00:00:00",
          "2013-02-01T00:00:00",
          "2013-03-01T00:00:00",
          "2013-04-01T00:00:00",
          "2013-05-01T00:00:00",
          "2013-06-01T00:00:00",
          "2013-07-01T00:00:00",
          "2013-08-01T00:00:00",
          "2013-09-01T00:00:00",
          "2013-10-01T00:00:00",
          "2013-11-01T00:00:00",
          "2013-12-01T00:00:00",
          "2014-01-01T00:00:00",
          "2014-02-01T00:00:00",
          "2014-03-01T00:00:00",
          "2014-04-01T00:00:00",
          "2014-05-01T00:00:00",
          "2014-06-01T00:00:00",
          "2014-07-01T00:00:00",
          "2014-08-01T00:00:00",
          "2014-09-01T00:00:00",
          "2014-10-01T00:00:00",
          "2014-11-01T00:00:00",
          "2014-12-01T00:00:00",
          "2015-01-01T00:00:00",
          "2015-02-01T00:00:00",
          "2015-03-01T00:00:00",
          "2015-04-01T00:00:00",
          "2015-05-01T00:00:00",
          "2015-06-01T00:00:00",
          "2015-07-01T00:00:00",
          "2015-08-01T00:00:00",
          "2015-09-01T00:00:00",
          "2015-10-01T00:00:00",
          "2015-11-01T00:00:00",
          "2015-12-01T00:00:00",
          "2016-01-01T00:00:00",
          "2016-02-01T00:00:00",
          "2016-03-01T00:00:00",
          "2016-04-01T00:00:00",
          "2016-05-01T00:00:00",
          "2016-06-01T00:00:00",
          "2016-07-01T00:00:00",
          "2016-08-01T00:00:00",
          "2016-09-01T00:00:00",
          "2016-10-01T00:00:00",
          "2016-11-01T00:00:00",
          "2016-12-01T00:00:00",
          "2017-01-01T00:00:00",
          "2017-02-01T00:00:00",
          "2017-03-01T00:00:00",
          "2017-04-01T00:00:00",
          "2017-05-01T00:00:00",
          "2017-06-01T00:00:00",
          "2017-07-01T00:00:00",
          "2017-08-01T00:00:00",
          "2017-09-01T00:00:00",
          "2017-10-01T00:00:00",
          "2017-11-01T00:00:00",
          "2017-12-01T00:00:00",
          "2018-01-01T00:00:00",
          "2018-02-01T00:00:00",
          "2018-03-01T00:00:00",
          "2018-04-01T00:00:00",
          "2018-05-01T00:00:00",
          "2018-06-01T00:00:00",
          "2018-07-01T00:00:00",
          "2018-08-01T00:00:00",
          "2018-09-01T00:00:00",
          "2018-10-01T00:00:00",
          "2018-11-01T00:00:00",
          "2018-12-01T00:00:00"
         ],
         "y": [
          null,
          null,
          null,
          null,
          null,
          null,
          null,
          null,
          null,
          null,
          null,
          null,
          null,
          null,
          null,
          null,
          null,
          null,
          null,
          null,
          null,
          null,
          null,
          null,
          null,
          null,
          null,
          null,
          null,
          null,
          null,
          null,
          null,
          null,
          null,
          1075.6927385457268,
          1100.5527811487564,
          1090.932585808656,
          1101.5465517933742,
          1119.1614244468367,
          1129.2269567043154,
          1185.4512390220063,
          1211.0849807523448,
          1208.3213454993142,
          1226.52645519579,
          1206.9147869799203,
          1273.4505236019204,
          1277.2585570369704,
          1243.8594740390852,
          1266.7646270317043,
          1312.5481621865922,
          1367.9536014518667,
          1407.7649255537851,
          1428.9621114121426,
          1469.4823835158327,
          1508.6471371145965,
          1515.8654317227522,
          1405.5104282801797,
          1437.27496396037,
          1427.6452217021765,
          1512.0731511217052,
          1503.2516695175107,
          1540.8116592944104,
          1531.9995873328496,
          1536.474297324208,
          1617.7393017700392,
          1680.0756851301132,
          1728.0996199572937,
          1700.7056057253815,
          1592.8921831775888,
          1703.0799924326323,
          1698.7802338160673,
          1721.5447157831748,
          1656.9481807037591,
          1544.9864803319197,
          1737.7672430581656,
          1837.5084100021038,
          1923.8533906677526,
          1936.7432083865979,
          1910.984523717524,
          1913.277705147143,
          1935.2803987568702,
          1981.9206563675307,
          1986.4790738768907,
          1993.8290464509046,
          1988.4457080249324,
          2043.1279649974301,
          2009.2120407788489,
          2050.400887615021,
          2118.0641169001283,
          2146.234369654164,
          2137.8640556121236,
          2048.073765272418,
          2146.0832984828553,
          2292.8726790735354,
          2241.3150603568292,
          2249.89237568803,
          2253.16091000084,
          2285.7864924744376,
          2378.2027084703873,
          2372.579057735934,
          2335.8097501983425,
          2289.3999309329593,
          2475.7711702161873,
          2544.160221074723,
          2710.1216446451863,
          2787.6184152968785,
          2853.654106119491,
          2971.2869164449817,
          3051.9969934711803,
          3141.520217516902,
          3282.3922614745466,
          3414.191606572038,
          3423.773639031308,
          3481.321457236558,
          3543.2389772172132,
          3682.064711722326,
          3749.5392107381545,
          3770.7213886357736,
          3687.2560684057407,
          3779.9489118732454,
          3704.334285626213,
          3707.022803423646,
          3671.8201822746373,
          3706.807595730386,
          3742.8333691771354,
          3725.990619007838,
          3980.90549394113,
          4129.813654301522,
          4225.888719966954,
          4323.5548792551945,
          4407.691946474199,
          4605.494031694121,
          4665.238679641433,
          4894.2629320024225,
          4982.200315057729,
          5252.177311043914,
          5433.481572067097,
          5298.820331923599,
          5398.438154163896,
          5211.524735636973,
          5472.126596102103,
          5717.840656745538,
          5948.907365121659,
          6143.478998514698,
          6503.963264238473,
          6845.158599466134,
          6821.422143007735,
          7087.079145754204,
          7389.9027157959235,
          7520.224374659624,
          7969.737661140552,
          7419.875528165539,
          7716.1658327583145,
          7713.479467597894,
          7461.107834027388,
          8080.172573747991,
          8185.871866140843,
          8220.968143992479,
          7960.079870804493,
          7879.059248406809,
          8069.248137878198,
          8195.447025863166,
          8354.979668923823,
          8170.536771862777,
          7316.715679193414,
          7201.111571461824,
          7282.484132221144,
          7876.734837410576,
          8051.598350802155,
          7992.016523006731,
          8018.3901775327995,
          8169.937751887982,
          8468.95747360884,
          8465.56989061939,
          8451.178421804409,
          8662.457882349705,
          8820.11461580821,
          8802.474386574982,
          8911.6250689687,
          9181.647308559086,
          9099.930647512934,
          9109.030578163172,
          9374.103367988557,
          9816.561046957871,
          10055.10348039868,
          10530.70987502464,
          10572.832714525213,
          10603.49392939713,
          10588.64903789356,
          10903.131914320507,
          11381.779405354926,
          10820.657680670742,
          10942.93111246292,
          10926.516715799386,
          10417.341036840944,
          10812.158262137833,
          10846.75716857798,
          10886.890170099405,
          10333.836149441815,
          10408.239769710623,
          10622.487539155729,
          11002.222336018265,
          11080.354903849891,
          11027.16920033511,
          11633.663506412286,
          11858.193212111048,
          11893.76779175253,
          12135.211277927317,
          11788.144235360664,
          12142.967376853176,
          12569.18553177949,
          12918.608889562263,
          13050.37870024039,
          13231.778964169425,
          13690.921694248356,
          13449.961472498515,
          13449.961472500934,
          13369.261703665146,
          13501.617394475601,
          13893.164298916006,
          13927.89720965335,
          14880.565378806956,
          15087.405237571664,
          15215.64818209249,
          15170.001237556466,
          15259.504244947808,
          15648.621603194244,
          16041.402005484955,
          16864.32592836712,
          17370.255706217344,
          17510.95477739959,
          17715.832948321193,
          18213.647854167823,
          18541.493515537513,
          19199.716535394236,
          19235.359609210624,
          19074.852088650536,
          18334.404875436237,
          18530.516398248325,
          18713.02939981812,
          18331.691219229197,
          17697.619155284523,
          17880.215554475635,
          17658.848238750616,
          17405.075120983307,
          17876.988965767927,
          18314.798647309013,
          18207.26063383975,
          18143.346089503582,
          17848.169811400458,
          18026.129759831725,
          18446.334308908838,
          19075.899516043934,
          19240.44838676439,
          19609.334767158394,
          19992.81440657927,
          20401.952238033635,
          20710.027209596556,
          21151.312416191697,
          21744.94392256862,
          21421.644976193576,
          21897.511341773745,
          22116.508275657245,
          22685.903239974014,
          23008.71077456388,
          23236.058718973956,
          23396.177065655735,
          24206.32711228515,
          24136.579758941603,
          23287.534489101126,
          24051.25107112378,
          24640.891632700957,
          25127.934667857633,
          25818.368521690998,
          25924.864989788508,
          26849.2777865125,
          27138.88650182523,
          26569.438530384148,
          26407.630114576205,
          27632.71182257833,
          28817.572700471774,
          29774.160741258303,
          30023.107788160396,
          31638.248368786994,
          32050.530296220175,
          33453.971503803004,
          35582.069311212486,
          34865.54016384469,
          36186.40972020588,
          38000.899980587,
          38719.25122448046,
          38017.13171288849,
          38211.406128317874,
          36811.1095618974,
          36347.289581069475,
          39376.419701805775,
          39670.170063566125,
          40397.559572346094,
          41422.107000262826,
          39535.473766909054,
          38317.38620683766,
          37842.518407637726,
          40138.081575503405,
          42365.12866785288,
          42909.8885465014,
          43596.842582565805,
          43457.24317092406,
          42293.59955638424,
          43008.96772770631,
          42325.96239478915,
          41821.62048768978,
          42226.2465363755,
          41219.602148132835,
          43063.16486010683,
          43827.088601235635,
          44497.667994975476,
          44249.22383607244,
          45653.11164052199,
          48002.83157889958,
          49112.47639850301,
          48691.259138728696,
          48455.1472051777,
          51074.56510724443,
          52289.572586086004,
          52977.11054358134,
          53076.07502726248,
          54655.85995718833,
          56833.943117863026,
          57558.22347842345,
          57974.38863585066,
          58388.682360458675,
          55303.64823918803,
          56175.78820348711,
          58232.4668545845,
          60147.30252417422,
          61122.50360965324,
          61584.087069506204,
          64693.03194918551,
          67643.46389604086,
          68250.03280655347,
          66846.76085149708,
          62188.69110017397,
          63001.8054854352,
          60180.6280356712,
          61302.11489831061,
          63333.261000220074,
          63703.21465600334,
          64146.859199483086,
          63800.61822234299,
          64413.49684264337,
          68846.80418525945,
          72614.5970552479,
          74789.0847336632,
          78676.79162897341,
          80821.73794075931,
          82190.01854828428,
          86962.2611804102,
          90381.67037514453,
          92627.40037736803,
          95654.89214024087,
          97691.35796017009,
          98248.05336838985,
          94994.69884026458,
          95578.530638972,
          97308.28883664132,
          96024.24000910993,
          97445.02513885035,
          99775.4630615448,
          102156.5318182607,
          107254.45508536717,
          110051.6230048572,
          107956.62199618925,
          107375.01144910458,
          104873.51275071315,
          102213.53642840555,
          105427.3926841435,
          108013.21501663496,
          112466.1413415593,
          111082.67581799309,
          111131.45013744877,
          109675.50313791112,
          111906.74721882145,
          111880.95440126934,
          115298.95025272212,
          116148.69342361299,
          118784.50217203339,
          119299.86923001257,
          118583.83144988658,
          120143.73568199655,
          122405.14225808762,
          124500.83450925461,
          124746.60883563329,
          127940.05478208665,
          130011.63224862384,
          131682.32242742606,
          131528.20698501007,
          130821.39059303475,
          130893.76399960389,
          130188.92439780876,
          131510.05569429483,
          129506.86995660908,
          122125.21285658132,
          124656.01864959867,
          125537.55772676048,
          123612.98241457767,
          117894.28357863448,
          116704.88143423677,
          113937.60552036052,
          110467.21108022671,
          109560.78197072868,
          110884.49528566419,
          111521.61076407485,
          102718.83924704266,
          104620.6022334081,
          106976.70989289474,
          99834.68128425659,
          88689.15325019708,
          85341.90634138731,
          84576.82728190413,
          82827.80083423432,
          76194.68975177698,
          77591.22892026568,
          81689.58995542112,
          84651.09742447478,
          89578.60190658375,
          94106.55683430634,
          95087.24410805102,
          97977.20044730545,
          95372.14297541557,
          98821.01434646013,
          104442.85699457904,
          100591.7441574671,
          100832.64191627373,
          105453.9619545858,
          109350.55818019126,
          102470.1777938603,
          101363.49987364373,
          107212.173816503,
          106279.42790424539,
          111540.25958558352,
          114328.76607524106,
          114214.43730917411,
          118520.32159576289,
          120712.94754527987,
          124962.04329888722,
          127723.70445579382,
          131887.49722107046,
          132256.78221328495,
          131793.8834755305,
          130357.33014561766,
          130279.11574752591,
          126110.18404360012,
          134710.89859543197,
          136111.89194081663,
          139065.5199959468,
          135769.6671722825,
          137005.17114363477,
          136621.55666447143,
          138179.042410441,
          136241.07640608886,
          142246.8081862657,
          146268.88031183297,
          144243.7451658062,
          148042.51563899103,
          148630.07519194367,
          145413.15703879722,
          146303.98014998596,
          153780.11353570723,
          157163.276033585,
          165414.34802587665,
          172626.41359985527,
          164668.2749768319,
          164971.67847582325,
          174704.00032225213,
          166050.9324692314,
          170178.0100562355,
          176296.45406553854,
          177060.68375439738,
          180094.64633659954,
          180523.1846207068,
          187367.67750945746,
          192236.4930895043,
          194117.76502655612,
          196867.85800440042,
          205236.75637986898,
          193210.396419857,
          202206.3957885839,
          200378.09952770115,
          209322.923228044,
          212383.62301941944,
          216264.66689055046,
          213562.39304794066,
          223227.05375491214,
          224443.32223399656,
          224275.63040079767,
          226428.79814345067,
          227531.16774476063,
          225743.29515864048,
          215828.48728373347,
          210675.2370281229,
          218597.81806576517,
          222295.81705428456,
          219259.40265601827,
          209838.697585062,
          211864.92120866448,
          222225.25509267207,
          227311.8638185251,
          228467.7982264092,
          233746.4392661983,
          241944.00459652435,
          246183.0138399766,
          244537.87648420827,
          241624.4944131855,
          248852.30771695427,
          258033.27930338855,
          257239.23696607535,
          261248.02892614593,
          262465.81246299023,
          265713.17345578654,
          263027.355951911,
          262373.3535920446,
          263595.8827098451,
          259227.97722227528,
          265029.4250563649,
          268080.2372995368,
          277770.0084966801,
          277039.6079392679,
          277036.95239090273,
          264163.4530823494,
          264764.64394747186,
          263877.59168307646,
          267652.3271918378,
          279569.11000211677,
          281561.1716460683,
          289348.5601325082,
          285937.35355698195,
          282627.8025820051,
          287633.35778260743,
          265145.1062820969
         ]
        },
        {
         "name": "GMV_Stat_Cov_wealth_index",
         "type": "scatter",
         "x": [
          "1974-01-01T00:00:00",
          "1974-02-01T00:00:00",
          "1974-03-01T00:00:00",
          "1974-04-01T00:00:00",
          "1974-05-01T00:00:00",
          "1974-06-01T00:00:00",
          "1974-07-01T00:00:00",
          "1974-08-01T00:00:00",
          "1974-09-01T00:00:00",
          "1974-10-01T00:00:00",
          "1974-11-01T00:00:00",
          "1974-12-01T00:00:00",
          "1975-01-01T00:00:00",
          "1975-02-01T00:00:00",
          "1975-03-01T00:00:00",
          "1975-04-01T00:00:00",
          "1975-05-01T00:00:00",
          "1975-06-01T00:00:00",
          "1975-07-01T00:00:00",
          "1975-08-01T00:00:00",
          "1975-09-01T00:00:00",
          "1975-10-01T00:00:00",
          "1975-11-01T00:00:00",
          "1975-12-01T00:00:00",
          "1976-01-01T00:00:00",
          "1976-02-01T00:00:00",
          "1976-03-01T00:00:00",
          "1976-04-01T00:00:00",
          "1976-05-01T00:00:00",
          "1976-06-01T00:00:00",
          "1976-07-01T00:00:00",
          "1976-08-01T00:00:00",
          "1976-09-01T00:00:00",
          "1976-10-01T00:00:00",
          "1976-11-01T00:00:00",
          "1976-12-01T00:00:00",
          "1977-01-01T00:00:00",
          "1977-02-01T00:00:00",
          "1977-03-01T00:00:00",
          "1977-04-01T00:00:00",
          "1977-05-01T00:00:00",
          "1977-06-01T00:00:00",
          "1977-07-01T00:00:00",
          "1977-08-01T00:00:00",
          "1977-09-01T00:00:00",
          "1977-10-01T00:00:00",
          "1977-11-01T00:00:00",
          "1977-12-01T00:00:00",
          "1978-01-01T00:00:00",
          "1978-02-01T00:00:00",
          "1978-03-01T00:00:00",
          "1978-04-01T00:00:00",
          "1978-05-01T00:00:00",
          "1978-06-01T00:00:00",
          "1978-07-01T00:00:00",
          "1978-08-01T00:00:00",
          "1978-09-01T00:00:00",
          "1978-10-01T00:00:00",
          "1978-11-01T00:00:00",
          "1978-12-01T00:00:00",
          "1979-01-01T00:00:00",
          "1979-02-01T00:00:00",
          "1979-03-01T00:00:00",
          "1979-04-01T00:00:00",
          "1979-05-01T00:00:00",
          "1979-06-01T00:00:00",
          "1979-07-01T00:00:00",
          "1979-08-01T00:00:00",
          "1979-09-01T00:00:00",
          "1979-10-01T00:00:00",
          "1979-11-01T00:00:00",
          "1979-12-01T00:00:00",
          "1980-01-01T00:00:00",
          "1980-02-01T00:00:00",
          "1980-03-01T00:00:00",
          "1980-04-01T00:00:00",
          "1980-05-01T00:00:00",
          "1980-06-01T00:00:00",
          "1980-07-01T00:00:00",
          "1980-08-01T00:00:00",
          "1980-09-01T00:00:00",
          "1980-10-01T00:00:00",
          "1980-11-01T00:00:00",
          "1980-12-01T00:00:00",
          "1981-01-01T00:00:00",
          "1981-02-01T00:00:00",
          "1981-03-01T00:00:00",
          "1981-04-01T00:00:00",
          "1981-05-01T00:00:00",
          "1981-06-01T00:00:00",
          "1981-07-01T00:00:00",
          "1981-08-01T00:00:00",
          "1981-09-01T00:00:00",
          "1981-10-01T00:00:00",
          "1981-11-01T00:00:00",
          "1981-12-01T00:00:00",
          "1982-01-01T00:00:00",
          "1982-02-01T00:00:00",
          "1982-03-01T00:00:00",
          "1982-04-01T00:00:00",
          "1982-05-01T00:00:00",
          "1982-06-01T00:00:00",
          "1982-07-01T00:00:00",
          "1982-08-01T00:00:00",
          "1982-09-01T00:00:00",
          "1982-10-01T00:00:00",
          "1982-11-01T00:00:00",
          "1982-12-01T00:00:00",
          "1983-01-01T00:00:00",
          "1983-02-01T00:00:00",
          "1983-03-01T00:00:00",
          "1983-04-01T00:00:00",
          "1983-05-01T00:00:00",
          "1983-06-01T00:00:00",
          "1983-07-01T00:00:00",
          "1983-08-01T00:00:00",
          "1983-09-01T00:00:00",
          "1983-10-01T00:00:00",
          "1983-11-01T00:00:00",
          "1983-12-01T00:00:00",
          "1984-01-01T00:00:00",
          "1984-02-01T00:00:00",
          "1984-03-01T00:00:00",
          "1984-04-01T00:00:00",
          "1984-05-01T00:00:00",
          "1984-06-01T00:00:00",
          "1984-07-01T00:00:00",
          "1984-08-01T00:00:00",
          "1984-09-01T00:00:00",
          "1984-10-01T00:00:00",
          "1984-11-01T00:00:00",
          "1984-12-01T00:00:00",
          "1985-01-01T00:00:00",
          "1985-02-01T00:00:00",
          "1985-03-01T00:00:00",
          "1985-04-01T00:00:00",
          "1985-05-01T00:00:00",
          "1985-06-01T00:00:00",
          "1985-07-01T00:00:00",
          "1985-08-01T00:00:00",
          "1985-09-01T00:00:00",
          "1985-10-01T00:00:00",
          "1985-11-01T00:00:00",
          "1985-12-01T00:00:00",
          "1986-01-01T00:00:00",
          "1986-02-01T00:00:00",
          "1986-03-01T00:00:00",
          "1986-04-01T00:00:00",
          "1986-05-01T00:00:00",
          "1986-06-01T00:00:00",
          "1986-07-01T00:00:00",
          "1986-08-01T00:00:00",
          "1986-09-01T00:00:00",
          "1986-10-01T00:00:00",
          "1986-11-01T00:00:00",
          "1986-12-01T00:00:00",
          "1987-01-01T00:00:00",
          "1987-02-01T00:00:00",
          "1987-03-01T00:00:00",
          "1987-04-01T00:00:00",
          "1987-05-01T00:00:00",
          "1987-06-01T00:00:00",
          "1987-07-01T00:00:00",
          "1987-08-01T00:00:00",
          "1987-09-01T00:00:00",
          "1987-10-01T00:00:00",
          "1987-11-01T00:00:00",
          "1987-12-01T00:00:00",
          "1988-01-01T00:00:00",
          "1988-02-01T00:00:00",
          "1988-03-01T00:00:00",
          "1988-04-01T00:00:00",
          "1988-05-01T00:00:00",
          "1988-06-01T00:00:00",
          "1988-07-01T00:00:00",
          "1988-08-01T00:00:00",
          "1988-09-01T00:00:00",
          "1988-10-01T00:00:00",
          "1988-11-01T00:00:00",
          "1988-12-01T00:00:00",
          "1989-01-01T00:00:00",
          "1989-02-01T00:00:00",
          "1989-03-01T00:00:00",
          "1989-04-01T00:00:00",
          "1989-05-01T00:00:00",
          "1989-06-01T00:00:00",
          "1989-07-01T00:00:00",
          "1989-08-01T00:00:00",
          "1989-09-01T00:00:00",
          "1989-10-01T00:00:00",
          "1989-11-01T00:00:00",
          "1989-12-01T00:00:00",
          "1990-01-01T00:00:00",
          "1990-02-01T00:00:00",
          "1990-03-01T00:00:00",
          "1990-04-01T00:00:00",
          "1990-05-01T00:00:00",
          "1990-06-01T00:00:00",
          "1990-07-01T00:00:00",
          "1990-08-01T00:00:00",
          "1990-09-01T00:00:00",
          "1990-10-01T00:00:00",
          "1990-11-01T00:00:00",
          "1990-12-01T00:00:00",
          "1991-01-01T00:00:00",
          "1991-02-01T00:00:00",
          "1991-03-01T00:00:00",
          "1991-04-01T00:00:00",
          "1991-05-01T00:00:00",
          "1991-06-01T00:00:00",
          "1991-07-01T00:00:00",
          "1991-08-01T00:00:00",
          "1991-09-01T00:00:00",
          "1991-10-01T00:00:00",
          "1991-11-01T00:00:00",
          "1991-12-01T00:00:00",
          "1992-01-01T00:00:00",
          "1992-02-01T00:00:00",
          "1992-03-01T00:00:00",
          "1992-04-01T00:00:00",
          "1992-05-01T00:00:00",
          "1992-06-01T00:00:00",
          "1992-07-01T00:00:00",
          "1992-08-01T00:00:00",
          "1992-09-01T00:00:00",
          "1992-10-01T00:00:00",
          "1992-11-01T00:00:00",
          "1992-12-01T00:00:00",
          "1993-01-01T00:00:00",
          "1993-02-01T00:00:00",
          "1993-03-01T00:00:00",
          "1993-04-01T00:00:00",
          "1993-05-01T00:00:00",
          "1993-06-01T00:00:00",
          "1993-07-01T00:00:00",
          "1993-08-01T00:00:00",
          "1993-09-01T00:00:00",
          "1993-10-01T00:00:00",
          "1993-11-01T00:00:00",
          "1993-12-01T00:00:00",
          "1994-01-01T00:00:00",
          "1994-02-01T00:00:00",
          "1994-03-01T00:00:00",
          "1994-04-01T00:00:00",
          "1994-05-01T00:00:00",
          "1994-06-01T00:00:00",
          "1994-07-01T00:00:00",
          "1994-08-01T00:00:00",
          "1994-09-01T00:00:00",
          "1994-10-01T00:00:00",
          "1994-11-01T00:00:00",
          "1994-12-01T00:00:00",
          "1995-01-01T00:00:00",
          "1995-02-01T00:00:00",
          "1995-03-01T00:00:00",
          "1995-04-01T00:00:00",
          "1995-05-01T00:00:00",
          "1995-06-01T00:00:00",
          "1995-07-01T00:00:00",
          "1995-08-01T00:00:00",
          "1995-09-01T00:00:00",
          "1995-10-01T00:00:00",
          "1995-11-01T00:00:00",
          "1995-12-01T00:00:00",
          "1996-01-01T00:00:00",
          "1996-02-01T00:00:00",
          "1996-03-01T00:00:00",
          "1996-04-01T00:00:00",
          "1996-05-01T00:00:00",
          "1996-06-01T00:00:00",
          "1996-07-01T00:00:00",
          "1996-08-01T00:00:00",
          "1996-09-01T00:00:00",
          "1996-10-01T00:00:00",
          "1996-11-01T00:00:00",
          "1996-12-01T00:00:00",
          "1997-01-01T00:00:00",
          "1997-02-01T00:00:00",
          "1997-03-01T00:00:00",
          "1997-04-01T00:00:00",
          "1997-05-01T00:00:00",
          "1997-06-01T00:00:00",
          "1997-07-01T00:00:00",
          "1997-08-01T00:00:00",
          "1997-09-01T00:00:00",
          "1997-10-01T00:00:00",
          "1997-11-01T00:00:00",
          "1997-12-01T00:00:00",
          "1998-01-01T00:00:00",
          "1998-02-01T00:00:00",
          "1998-03-01T00:00:00",
          "1998-04-01T00:00:00",
          "1998-05-01T00:00:00",
          "1998-06-01T00:00:00",
          "1998-07-01T00:00:00",
          "1998-08-01T00:00:00",
          "1998-09-01T00:00:00",
          "1998-10-01T00:00:00",
          "1998-11-01T00:00:00",
          "1998-12-01T00:00:00",
          "1999-01-01T00:00:00",
          "1999-02-01T00:00:00",
          "1999-03-01T00:00:00",
          "1999-04-01T00:00:00",
          "1999-05-01T00:00:00",
          "1999-06-01T00:00:00",
          "1999-07-01T00:00:00",
          "1999-08-01T00:00:00",
          "1999-09-01T00:00:00",
          "1999-10-01T00:00:00",
          "1999-11-01T00:00:00",
          "1999-12-01T00:00:00",
          "2000-01-01T00:00:00",
          "2000-02-01T00:00:00",
          "2000-03-01T00:00:00",
          "2000-04-01T00:00:00",
          "2000-05-01T00:00:00",
          "2000-06-01T00:00:00",
          "2000-07-01T00:00:00",
          "2000-08-01T00:00:00",
          "2000-09-01T00:00:00",
          "2000-10-01T00:00:00",
          "2000-11-01T00:00:00",
          "2000-12-01T00:00:00",
          "2001-01-01T00:00:00",
          "2001-02-01T00:00:00",
          "2001-03-01T00:00:00",
          "2001-04-01T00:00:00",
          "2001-05-01T00:00:00",
          "2001-06-01T00:00:00",
          "2001-07-01T00:00:00",
          "2001-08-01T00:00:00",
          "2001-09-01T00:00:00",
          "2001-10-01T00:00:00",
          "2001-11-01T00:00:00",
          "2001-12-01T00:00:00",
          "2002-01-01T00:00:00",
          "2002-02-01T00:00:00",
          "2002-03-01T00:00:00",
          "2002-04-01T00:00:00",
          "2002-05-01T00:00:00",
          "2002-06-01T00:00:00",
          "2002-07-01T00:00:00",
          "2002-08-01T00:00:00",
          "2002-09-01T00:00:00",
          "2002-10-01T00:00:00",
          "2002-11-01T00:00:00",
          "2002-12-01T00:00:00",
          "2003-01-01T00:00:00",
          "2003-02-01T00:00:00",
          "2003-03-01T00:00:00",
          "2003-04-01T00:00:00",
          "2003-05-01T00:00:00",
          "2003-06-01T00:00:00",
          "2003-07-01T00:00:00",
          "2003-08-01T00:00:00",
          "2003-09-01T00:00:00",
          "2003-10-01T00:00:00",
          "2003-11-01T00:00:00",
          "2003-12-01T00:00:00",
          "2004-01-01T00:00:00",
          "2004-02-01T00:00:00",
          "2004-03-01T00:00:00",
          "2004-04-01T00:00:00",
          "2004-05-01T00:00:00",
          "2004-06-01T00:00:00",
          "2004-07-01T00:00:00",
          "2004-08-01T00:00:00",
          "2004-09-01T00:00:00",
          "2004-10-01T00:00:00",
          "2004-11-01T00:00:00",
          "2004-12-01T00:00:00",
          "2005-01-01T00:00:00",
          "2005-02-01T00:00:00",
          "2005-03-01T00:00:00",
          "2005-04-01T00:00:00",
          "2005-05-01T00:00:00",
          "2005-06-01T00:00:00",
          "2005-07-01T00:00:00",
          "2005-08-01T00:00:00",
          "2005-09-01T00:00:00",
          "2005-10-01T00:00:00",
          "2005-11-01T00:00:00",
          "2005-12-01T00:00:00",
          "2006-01-01T00:00:00",
          "2006-02-01T00:00:00",
          "2006-03-01T00:00:00",
          "2006-04-01T00:00:00",
          "2006-05-01T00:00:00",
          "2006-06-01T00:00:00",
          "2006-07-01T00:00:00",
          "2006-08-01T00:00:00",
          "2006-09-01T00:00:00",
          "2006-10-01T00:00:00",
          "2006-11-01T00:00:00",
          "2006-12-01T00:00:00",
          "2007-01-01T00:00:00",
          "2007-02-01T00:00:00",
          "2007-03-01T00:00:00",
          "2007-04-01T00:00:00",
          "2007-05-01T00:00:00",
          "2007-06-01T00:00:00",
          "2007-07-01T00:00:00",
          "2007-08-01T00:00:00",
          "2007-09-01T00:00:00",
          "2007-10-01T00:00:00",
          "2007-11-01T00:00:00",
          "2007-12-01T00:00:00",
          "2008-01-01T00:00:00",
          "2008-02-01T00:00:00",
          "2008-03-01T00:00:00",
          "2008-04-01T00:00:00",
          "2008-05-01T00:00:00",
          "2008-06-01T00:00:00",
          "2008-07-01T00:00:00",
          "2008-08-01T00:00:00",
          "2008-09-01T00:00:00",
          "2008-10-01T00:00:00",
          "2008-11-01T00:00:00",
          "2008-12-01T00:00:00",
          "2009-01-01T00:00:00",
          "2009-02-01T00:00:00",
          "2009-03-01T00:00:00",
          "2009-04-01T00:00:00",
          "2009-05-01T00:00:00",
          "2009-06-01T00:00:00",
          "2009-07-01T00:00:00",
          "2009-08-01T00:00:00",
          "2009-09-01T00:00:00",
          "2009-10-01T00:00:00",
          "2009-11-01T00:00:00",
          "2009-12-01T00:00:00",
          "2010-01-01T00:00:00",
          "2010-02-01T00:00:00",
          "2010-03-01T00:00:00",
          "2010-04-01T00:00:00",
          "2010-05-01T00:00:00",
          "2010-06-01T00:00:00",
          "2010-07-01T00:00:00",
          "2010-08-01T00:00:00",
          "2010-09-01T00:00:00",
          "2010-10-01T00:00:00",
          "2010-11-01T00:00:00",
          "2010-12-01T00:00:00",
          "2011-01-01T00:00:00",
          "2011-02-01T00:00:00",
          "2011-03-01T00:00:00",
          "2011-04-01T00:00:00",
          "2011-05-01T00:00:00",
          "2011-06-01T00:00:00",
          "2011-07-01T00:00:00",
          "2011-08-01T00:00:00",
          "2011-09-01T00:00:00",
          "2011-10-01T00:00:00",
          "2011-11-01T00:00:00",
          "2011-12-01T00:00:00",
          "2012-01-01T00:00:00",
          "2012-02-01T00:00:00",
          "2012-03-01T00:00:00",
          "2012-04-01T00:00:00",
          "2012-05-01T00:00:00",
          "2012-06-01T00:00:00",
          "2012-07-01T00:00:00",
          "2012-08-01T00:00:00",
          "2012-09-01T00:00:00",
          "2012-10-01T00:00:00",
          "2012-11-01T00:00:00",
          "2012-12-01T00:00:00",
          "2013-01-01T00:00:00",
          "2013-02-01T00:00:00",
          "2013-03-01T00:00:00",
          "2013-04-01T00:00:00",
          "2013-05-01T00:00:00",
          "2013-06-01T00:00:00",
          "2013-07-01T00:00:00",
          "2013-08-01T00:00:00",
          "2013-09-01T00:00:00",
          "2013-10-01T00:00:00",
          "2013-11-01T00:00:00",
          "2013-12-01T00:00:00",
          "2014-01-01T00:00:00",
          "2014-02-01T00:00:00",
          "2014-03-01T00:00:00",
          "2014-04-01T00:00:00",
          "2014-05-01T00:00:00",
          "2014-06-01T00:00:00",
          "2014-07-01T00:00:00",
          "2014-08-01T00:00:00",
          "2014-09-01T00:00:00",
          "2014-10-01T00:00:00",
          "2014-11-01T00:00:00",
          "2014-12-01T00:00:00",
          "2015-01-01T00:00:00",
          "2015-02-01T00:00:00",
          "2015-03-01T00:00:00",
          "2015-04-01T00:00:00",
          "2015-05-01T00:00:00",
          "2015-06-01T00:00:00",
          "2015-07-01T00:00:00",
          "2015-08-01T00:00:00",
          "2015-09-01T00:00:00",
          "2015-10-01T00:00:00",
          "2015-11-01T00:00:00",
          "2015-12-01T00:00:00",
          "2016-01-01T00:00:00",
          "2016-02-01T00:00:00",
          "2016-03-01T00:00:00",
          "2016-04-01T00:00:00",
          "2016-05-01T00:00:00",
          "2016-06-01T00:00:00",
          "2016-07-01T00:00:00",
          "2016-08-01T00:00:00",
          "2016-09-01T00:00:00",
          "2016-10-01T00:00:00",
          "2016-11-01T00:00:00",
          "2016-12-01T00:00:00",
          "2017-01-01T00:00:00",
          "2017-02-01T00:00:00",
          "2017-03-01T00:00:00",
          "2017-04-01T00:00:00",
          "2017-05-01T00:00:00",
          "2017-06-01T00:00:00",
          "2017-07-01T00:00:00",
          "2017-08-01T00:00:00",
          "2017-09-01T00:00:00",
          "2017-10-01T00:00:00",
          "2017-11-01T00:00:00",
          "2017-12-01T00:00:00",
          "2018-01-01T00:00:00",
          "2018-02-01T00:00:00",
          "2018-03-01T00:00:00",
          "2018-04-01T00:00:00",
          "2018-05-01T00:00:00",
          "2018-06-01T00:00:00",
          "2018-07-01T00:00:00",
          "2018-08-01T00:00:00",
          "2018-09-01T00:00:00",
          "2018-10-01T00:00:00",
          "2018-11-01T00:00:00",
          "2018-12-01T00:00:00"
         ],
         "y": [
          null,
          null,
          null,
          null,
          null,
          null,
          null,
          null,
          null,
          null,
          null,
          null,
          null,
          null,
          null,
          null,
          null,
          null,
          null,
          null,
          null,
          null,
          null,
          null,
          null,
          null,
          null,
          null,
          null,
          null,
          null,
          null,
          null,
          null,
          null,
          1077.465999980909,
          1103.9717227381625,
          1092.7449742762135,
          1102.9509858928802,
          1121.1992842087648,
          1132.083217729525,
          1189.1425136842572,
          1216.1348934781986,
          1214.5508268520541,
          1233.6687978323228,
          1213.2568691178767,
          1282.0710455345545,
          1286.0620850405387,
          1252.011308197328,
          1275.9056623741546,
          1320.9070745476672,
          1378.5678008664672,
          1416.1700812828876,
          1437.6017860277793,
          1476.896101032608,
          1516.9001681606242,
          1521.0848785125959,
          1403.9070138412656,
          1438.8019135849293,
          1432.0797805799043,
          1510.396074134783,
          1504.4212305605497,
          1541.467452721359,
          1534.959141509852,
          1535.1040274035772,
          1614.1504601568452,
          1676.554463460196,
          1730.973922947007,
          1699.5779050260105,
          1595.661780272124,
          1706.390314903634,
          1707.9903534379944,
          1732.6100059046037,
          1670.5364367558195,
          1555.6861504657793,
          1748.9926514874746,
          1854.3116349991699,
          1939.9334893633813,
          1965.5800997139377,
          1946.7307662382077,
          1950.7255473719795,
          1976.1704161638954,
          2024.0710881589732,
          2027.8772704412024,
          2039.2932291391346,
          2036.4079380576543,
          2093.273989279514,
          2063.666218211439,
          2106.7429650504496,
          2175.038120325761,
          2201.6891726116714,
          2193.1025848383047,
          2100.992276273465,
          2204.8148046222686,
          2347.294331916959,
          2293.5071843052406,
          2300.2151424692183,
          2297.026820784079,
          2332.0038166519894,
          2427.2515269950854,
          2422.9204681062115,
          2386.714664184188,
          2340.9874401322772,
          2528.3186999384584,
          2605.8070242769263,
          2782.258857453107,
          2882.799131578493,
          2947.5384778244265,
          3071.878947262301,
          3171.0913359686683,
          3262.2813990582554,
          3414.5212167963227,
          3553.0898832554903,
          3582.296048464634,
          3635.3983852322453,
          3685.34239079017,
          3832.009902140887,
          3886.13331615601,
          3912.0462778678047,
          3835.256129719449,
          3942.959413126682,
          3854.7212530239444,
          3864.062862224577,
          3835.1659645505783,
          3857.891185812467,
          3898.6442724398935,
          3872.0682501300616,
          4135.0534220444215,
          4283.618366421524,
          4372.071313918371,
          4457.727127710213,
          4535.890671756442,
          4745.502261376248,
          4814.96865225472,
          5037.034173572719,
          5106.182497931894,
          5391.850305528554,
          5563.931000803299,
          5454.498210805875,
          5554.71581699531,
          5374.314545899268,
          5575.982890783418,
          5868.620008150361,
          6109.43091161402,
          6291.0343653748205,
          6658.5271079770055,
          7015.0118076161225,
          6980.797508075307,
          7186.542591949299,
          7479.955057892137,
          7540.562451957758,
          7964.51204133337,
          7569.9864301023745,
          7804.731705512872,
          7802.481933813563,
          7597.8087639055175,
          8189.711065212999,
          8339.289582973683,
          8331.6771231817,
          8116.308522142541,
          8078.838484716016,
          8302.50052190015,
          8487.65447213853,
          8625.960876176292,
          8435.182632567365,
          7510.713085316261,
          7386.646462460838,
          7493.657691624208,
          8092.7449706311045,
          8299.294504091205,
          8253.036963538998,
          8279.82502614117,
          8416.506230331004,
          8733.162321219268,
          8728.807735592389,
          8713.3057114874,
          8931.13835427449,
          9093.685072322236,
          9075.497702176923,
          9188.033873684897,
          9466.431300060221,
          9382.180061489702,
          9391.562241551297,
          9664.856702780891,
          10121.03793915306,
          10366.9791610743,
          10857.337275395032,
          10900.766624496835,
          10932.37884770785,
          10917.073517320823,
          11241.310600785222,
          11734.804136159553,
          11156.278292244297,
          11282.344236947696,
          11265.420720595328,
          10740.452115016524,
          11147.515250177294,
          11183.187298977953,
          11224.565091981975,
          10654.35718530813,
          10731.068557041786,
          10725.313277400708,
          11028.349355110247,
          11010.692896521505,
          10989.028014252794,
          11638.418178502247,
          11858.812556411036,
          11917.332007712635,
          12145.644115197578,
          11780.860589987069,
          12162.340962136816,
          12584.752649968992,
          12912.21516970722,
          13042.6369062725,
          13174.164851407484,
          13552.431620080748,
          13453.464485583963,
          13500.625298978039,
          13372.087515074081,
          13469.109570553646,
          13846.809616608723,
          13828.532471019424,
          14717.90574759902,
          14904.780781387522,
          15067.375502697949,
          15035.708571116827,
          15181.258257659108,
          15536.743463355147,
          15970.209040856938,
          16755.95242224241,
          17221.92408779158,
          17364.69516424595,
          17596.660905217414,
          18060.066286561298,
          18399.957006901284,
          19016.646328400093,
          19073.309728224507,
          19075.02533617335,
          18574.141446455807,
          18831.818822587546,
          19106.71800931181,
          18745.074913469292,
          18087.660959839766,
          18259.54690561835,
          18048.23435598485,
          17732.24451509108,
          18249.818879771665,
          18741.800207009197,
          18712.114796550624,
          18642.223414377844,
          18379.253752516568,
          18587.097077925133,
          18993.73424078317,
          19686.818948213317,
          19788.363083105654,
          20107.63466597437,
          20556.633920156666,
          20910.710080500514,
          21165.2147967027,
          21543.1236089271,
          22176.91899599407,
          21942.903731026883,
          22443.97821576466,
          22653.72122239948,
          23175.07464415891,
          23417.18507362548,
          23575.015310343777,
          23823.823899912135,
          24807.849958107716,
          24760.041307009964,
          23775.45133116144,
          24592.91262763279,
          25159.601578334954,
          25580.905007810365,
          26258.104679268414,
          26350.37552518808,
          27258.965270297835,
          27505.143514282212,
          26950.398521906158,
          26791.33259246291,
          28014.643174167348,
          29212.059549817277,
          30157.0016108845,
          30419.145291170003,
          31997.33914540273,
          32391.709390302614,
          33766.573188065246,
          35683.73516377193,
          35270.29478259364,
          36512.93844295558,
          38306.80007339555,
          38749.124525261075,
          38329.0910249106,
          38470.611285279076,
          36829.69615416408,
          35963.5047789672,
          38581.62669728583,
          39076.158680686756,
          39885.22783575508,
          40879.980158392085,
          39365.174006033674,
          38151.61545446957,
          37916.97145947557,
          40098.70943700262,
          42224.27699831011,
          42829.83022517035,
          43673.250563458074,
          43534.05422395551,
          42466.96176818943,
          43103.25785663201,
          42342.062450993224,
          41947.69391384668,
          42662.328241193,
          41729.37340500845,
          43347.32460215185,
          44466.074171778775,
          44856.38758291697,
          44616.88809264881,
          46227.616687237496,
          48427.61236523228,
          49438.22749216682,
          48907.65542330975,
          48894.361120359696,
          51281.16676152691,
          52066.91732673042,
          52848.32432111016,
          52959.602791802936,
          54494.74149004307,
          56111.2983488794,
          56116.68406681111,
          56203.77891310258,
          56784.33778586806,
          53939.70165445545,
          55001.11333594564,
          56242.38507587846,
          58300.30298068039,
          58658.36338126702,
          59560.47632941757,
          62857.4464203541,
          65134.0120765568,
          65612.67013526293,
          64069.025334133614,
          59433.866789320826,
          60901.16970093447,
          58286.51826799462,
          59965.48222277653,
          61781.46504745483,
          62135.59837749411,
          62658.05548963166,
          62092.53207248361,
          62418.57172360005,
          66433.23192028991,
          69778.51086623088,
          71253.70671739952,
          74751.95424725987,
          76764.20648163815,
          77839.92360528695,
          82169.49340238738,
          85608.20047493058,
          87633.91106556766,
          90018.8454900525,
          92246.95452549982,
          92981.47419326687,
          89906.56234673236,
          91240.34573483795,
          92773.26010873372,
          91738.30553563092,
          93284.78932385682,
          95577.55140070863,
          98098.15103060575,
          102966.19961926248,
          105676.8198240127,
          103927.48613027834,
          104125.0326407172,
          102028.6582706611,
          99353.38469332227,
          102521.92600247891,
          105187.799429785,
          109211.06592696003,
          107746.42891196889,
          107711.50076454946,
          105993.00146096073,
          108083.0054477498,
          108570.3655310071,
          111981.13828068733,
          112991.43309544383,
          115669.78489982877,
          116649.06606165708,
          115950.57770824422,
          117640.85837249245,
          120118.00593210083,
          122071.18198067634,
          122034.38457072983,
          125209.88811621568,
          127214.55786823791,
          128889.36037167034,
          129016.00972206691,
          128641.4078838892,
          129222.38561908256,
          128584.93187545286,
          129733.78263766889,
          127604.99347018395,
          120842.53137885962,
          123483.37933926238,
          124355.76928261605,
          123476.86855062348,
          118207.46810839864,
          117322.71177626854,
          114827.741974897,
          111956.66735034352,
          112307.62550355651,
          113839.16456758848,
          114824.81554631825,
          105544.0921755353,
          107027.31524365174,
          108501.81260976828,
          102150.48879771988,
          91062.69149994738,
          86689.3234716102,
          85522.46562422925,
          82115.45115935306,
          76663.58507697165,
          78265.08505884353,
          83583.44870515943,
          87503.73606118138,
          91232.69761397557,
          96280.33445764262,
          97582.01717393652,
          100562.8582963817,
          97819.75011163503,
          100598.66655883698,
          105774.749146997,
          102449.83082585801,
          103046.31766473083,
          108273.08394161434,
          113558.25968875166,
          106394.94938283923,
          104780.75805660797,
          110473.66160378451,
          109101.57181353845,
          114697.39573847823,
          117768.82084408286,
          117807.08771966831,
          122766.0953611044,
          124144.03857941841,
          128356.05348271724,
          131015.27080296153,
          135211.93117983543,
          135392.73400225723,
          134786.36062220953,
          133185.43420626034,
          132588.73436994056,
          128345.8948700799,
          137320.22362283108,
          138651.15393391965,
          141629.7865801111,
          139481.68016572777,
          140750.96345532744,
          140356.86075770253,
          141964.2853784406,
          139937.21757093462,
          146148.25444404013,
          149814.62697825953,
          148792.97030985774,
          152443.37909721828,
          152837.066973244,
          150654.9258022341,
          151408.58930951654,
          159348.50658397068,
          162964.8649104206,
          171832.75423991846,
          178699.93327720635,
          172902.19333681476,
          173532.55266170044,
          183611.3431916454,
          175206.55343991515,
          179524.10346395057,
          186051.69703306223,
          187621.62882091766,
          190910.97466051736,
          190873.60460889956,
          198624.34861558193,
          203178.66878398333,
          204153.12310266675,
          206920.97611902386,
          214810.16754607888,
          202880.73007355674,
          212718.40316201694,
          211327.6658937901,
          221907.38105666428,
          225888.70121813624,
          229418.53587025605,
          229700.61207209958,
          238572.4548340906,
          238432.02483920852,
          239620.20973991806,
          243164.0714973739,
          244319.69835872878,
          247500.33742062774,
          237804.03652286058,
          236432.73861586646,
          246946.51595699834,
          251057.40222661826,
          250495.91775045556,
          245611.41397626206,
          246343.91364449987,
          257600.83176724397,
          261469.2500480619,
          263116.064854231,
          270874.51808510936,
          279126.4690640674,
          283391.36039945873,
          280920.28702004603,
          280499.27924662974,
          290459.53765464784,
          299914.6281014986,
          301888.67408178205,
          309598.64019579464,
          313182.0604971759,
          316088.28616527043,
          316620.7162640052,
          317689.6682992717,
          317849.95070509904,
          314526.96844853886,
          321169.0253445922,
          324697.7894795953,
          336009.94459695905,
          337692.0577745527,
          337930.9412785644,
          323315.1903763289,
          325691.7411299814,
          325777.91187372064,
          331960.96827457513,
          344776.5863208329,
          348194.56220533047,
          357170.2317532901,
          356169.4415932574,
          352424.67923271196,
          356831.6129664414,
          329336.00012312096
         ]
        }
       ],
       "layout": {
        "template": {
         "data": {
          "bar": [
           {
            "error_x": {
             "color": "#2a3f5f"
            },
            "error_y": {
             "color": "#2a3f5f"
            },
            "marker": {
             "line": {
              "color": "#E5ECF6",
              "width": 0.5
             }
            },
            "type": "bar"
           }
          ],
          "barpolar": [
           {
            "marker": {
             "line": {
              "color": "#E5ECF6",
              "width": 0.5
             }
            },
            "type": "barpolar"
           }
          ],
          "carpet": [
           {
            "aaxis": {
             "endlinecolor": "#2a3f5f",
             "gridcolor": "white",
             "linecolor": "white",
             "minorgridcolor": "white",
             "startlinecolor": "#2a3f5f"
            },
            "baxis": {
             "endlinecolor": "#2a3f5f",
             "gridcolor": "white",
             "linecolor": "white",
             "minorgridcolor": "white",
             "startlinecolor": "#2a3f5f"
            },
            "type": "carpet"
           }
          ],
          "choropleth": [
           {
            "colorbar": {
             "outlinewidth": 0,
             "ticks": ""
            },
            "type": "choropleth"
           }
          ],
          "contour": [
           {
            "colorbar": {
             "outlinewidth": 0,
             "ticks": ""
            },
            "colorscale": [
             [
              0.0,
              "#0d0887"
             ],
             [
              0.1111111111111111,
              "#46039f"
             ],
             [
              0.2222222222222222,
              "#7201a8"
             ],
             [
              0.3333333333333333,
              "#9c179e"
             ],
             [
              0.4444444444444444,
              "#bd3786"
             ],
             [
              0.5555555555555556,
              "#d8576b"
             ],
             [
              0.6666666666666666,
              "#ed7953"
             ],
             [
              0.7777777777777778,
              "#fb9f3a"
             ],
             [
              0.8888888888888888,
              "#fdca26"
             ],
             [
              1.0,
              "#f0f921"
             ]
            ],
            "type": "contour"
           }
          ],
          "contourcarpet": [
           {
            "colorbar": {
             "outlinewidth": 0,
             "ticks": ""
            },
            "type": "contourcarpet"
           }
          ],
          "heatmap": [
           {
            "colorbar": {
             "outlinewidth": 0,
             "ticks": ""
            },
            "colorscale": [
             [
              0.0,
              "#0d0887"
             ],
             [
              0.1111111111111111,
              "#46039f"
             ],
             [
              0.2222222222222222,
              "#7201a8"
             ],
             [
              0.3333333333333333,
              "#9c179e"
             ],
             [
              0.4444444444444444,
              "#bd3786"
             ],
             [
              0.5555555555555556,
              "#d8576b"
             ],
             [
              0.6666666666666666,
              "#ed7953"
             ],
             [
              0.7777777777777778,
              "#fb9f3a"
             ],
             [
              0.8888888888888888,
              "#fdca26"
             ],
             [
              1.0,
              "#f0f921"
             ]
            ],
            "type": "heatmap"
           }
          ],
          "heatmapgl": [
           {
            "colorbar": {
             "outlinewidth": 0,
             "ticks": ""
            },
            "colorscale": [
             [
              0.0,
              "#0d0887"
             ],
             [
              0.1111111111111111,
              "#46039f"
             ],
             [
              0.2222222222222222,
              "#7201a8"
             ],
             [
              0.3333333333333333,
              "#9c179e"
             ],
             [
              0.4444444444444444,
              "#bd3786"
             ],
             [
              0.5555555555555556,
              "#d8576b"
             ],
             [
              0.6666666666666666,
              "#ed7953"
             ],
             [
              0.7777777777777778,
              "#fb9f3a"
             ],
             [
              0.8888888888888888,
              "#fdca26"
             ],
             [
              1.0,
              "#f0f921"
             ]
            ],
            "type": "heatmapgl"
           }
          ],
          "histogram": [
           {
            "marker": {
             "colorbar": {
              "outlinewidth": 0,
              "ticks": ""
             }
            },
            "type": "histogram"
           }
          ],
          "histogram2d": [
           {
            "colorbar": {
             "outlinewidth": 0,
             "ticks": ""
            },
            "colorscale": [
             [
              0.0,
              "#0d0887"
             ],
             [
              0.1111111111111111,
              "#46039f"
             ],
             [
              0.2222222222222222,
              "#7201a8"
             ],
             [
              0.3333333333333333,
              "#9c179e"
             ],
             [
              0.4444444444444444,
              "#bd3786"
             ],
             [
              0.5555555555555556,
              "#d8576b"
             ],
             [
              0.6666666666666666,
              "#ed7953"
             ],
             [
              0.7777777777777778,
              "#fb9f3a"
             ],
             [
              0.8888888888888888,
              "#fdca26"
             ],
             [
              1.0,
              "#f0f921"
             ]
            ],
            "type": "histogram2d"
           }
          ],
          "histogram2dcontour": [
           {
            "colorbar": {
             "outlinewidth": 0,
             "ticks": ""
            },
            "colorscale": [
             [
              0.0,
              "#0d0887"
             ],
             [
              0.1111111111111111,
              "#46039f"
             ],
             [
              0.2222222222222222,
              "#7201a8"
             ],
             [
              0.3333333333333333,
              "#9c179e"
             ],
             [
              0.4444444444444444,
              "#bd3786"
             ],
             [
              0.5555555555555556,
              "#d8576b"
             ],
             [
              0.6666666666666666,
              "#ed7953"
             ],
             [
              0.7777777777777778,
              "#fb9f3a"
             ],
             [
              0.8888888888888888,
              "#fdca26"
             ],
             [
              1.0,
              "#f0f921"
             ]
            ],
            "type": "histogram2dcontour"
           }
          ],
          "mesh3d": [
           {
            "colorbar": {
             "outlinewidth": 0,
             "ticks": ""
            },
            "type": "mesh3d"
           }
          ],
          "parcoords": [
           {
            "line": {
             "colorbar": {
              "outlinewidth": 0,
              "ticks": ""
             }
            },
            "type": "parcoords"
           }
          ],
          "pie": [
           {
            "automargin": true,
            "type": "pie"
           }
          ],
          "scatter": [
           {
            "marker": {
             "colorbar": {
              "outlinewidth": 0,
              "ticks": ""
             }
            },
            "type": "scatter"
           }
          ],
          "scatter3d": [
           {
            "line": {
             "colorbar": {
              "outlinewidth": 0,
              "ticks": ""
             }
            },
            "marker": {
             "colorbar": {
              "outlinewidth": 0,
              "ticks": ""
             }
            },
            "type": "scatter3d"
           }
          ],
          "scattercarpet": [
           {
            "marker": {
             "colorbar": {
              "outlinewidth": 0,
              "ticks": ""
             }
            },
            "type": "scattercarpet"
           }
          ],
          "scattergeo": [
           {
            "marker": {
             "colorbar": {
              "outlinewidth": 0,
              "ticks": ""
             }
            },
            "type": "scattergeo"
           }
          ],
          "scattergl": [
           {
            "marker": {
             "colorbar": {
              "outlinewidth": 0,
              "ticks": ""
             }
            },
            "type": "scattergl"
           }
          ],
          "scattermapbox": [
           {
            "marker": {
             "colorbar": {
              "outlinewidth": 0,
              "ticks": ""
             }
            },
            "type": "scattermapbox"
           }
          ],
          "scatterpolar": [
           {
            "marker": {
             "colorbar": {
              "outlinewidth": 0,
              "ticks": ""
             }
            },
            "type": "scatterpolar"
           }
          ],
          "scatterpolargl": [
           {
            "marker": {
             "colorbar": {
              "outlinewidth": 0,
              "ticks": ""
             }
            },
            "type": "scatterpolargl"
           }
          ],
          "scatterternary": [
           {
            "marker": {
             "colorbar": {
              "outlinewidth": 0,
              "ticks": ""
             }
            },
            "type": "scatterternary"
           }
          ],
          "surface": [
           {
            "colorbar": {
             "outlinewidth": 0,
             "ticks": ""
            },
            "colorscale": [
             [
              0.0,
              "#0d0887"
             ],
             [
              0.1111111111111111,
              "#46039f"
             ],
             [
              0.2222222222222222,
              "#7201a8"
             ],
             [
              0.3333333333333333,
              "#9c179e"
             ],
             [
              0.4444444444444444,
              "#bd3786"
             ],
             [
              0.5555555555555556,
              "#d8576b"
             ],
             [
              0.6666666666666666,
              "#ed7953"
             ],
             [
              0.7777777777777778,
              "#fb9f3a"
             ],
             [
              0.8888888888888888,
              "#fdca26"
             ],
             [
              1.0,
              "#f0f921"
             ]
            ],
            "type": "surface"
           }
          ],
          "table": [
           {
            "cells": {
             "fill": {
              "color": "#EBF0F8"
             },
             "line": {
              "color": "white"
             }
            },
            "header": {
             "fill": {
              "color": "#C8D4E3"
             },
             "line": {
              "color": "white"
             }
            },
            "type": "table"
           }
          ]
         },
         "layout": {
          "annotationdefaults": {
           "arrowcolor": "#2a3f5f",
           "arrowhead": 0,
           "arrowwidth": 1
          },
          "coloraxis": {
           "colorbar": {
            "outlinewidth": 0,
            "ticks": ""
           }
          },
          "colorscale": {
           "diverging": [
            [
             0,
             "#8e0152"
            ],
            [
             0.1,
             "#c51b7d"
            ],
            [
             0.2,
             "#de77ae"
            ],
            [
             0.3,
             "#f1b6da"
            ],
            [
             0.4,
             "#fde0ef"
            ],
            [
             0.5,
             "#f7f7f7"
            ],
            [
             0.6,
             "#e6f5d0"
            ],
            [
             0.7,
             "#b8e186"
            ],
            [
             0.8,
             "#7fbc41"
            ],
            [
             0.9,
             "#4d9221"
            ],
            [
             1,
             "#276419"
            ]
           ],
           "sequential": [
            [
             0.0,
             "#0d0887"
            ],
            [
             0.1111111111111111,
             "#46039f"
            ],
            [
             0.2222222222222222,
             "#7201a8"
            ],
            [
             0.3333333333333333,
             "#9c179e"
            ],
            [
             0.4444444444444444,
             "#bd3786"
            ],
            [
             0.5555555555555556,
             "#d8576b"
            ],
            [
             0.6666666666666666,
             "#ed7953"
            ],
            [
             0.7777777777777778,
             "#fb9f3a"
            ],
            [
             0.8888888888888888,
             "#fdca26"
            ],
            [
             1.0,
             "#f0f921"
            ]
           ],
           "sequentialminus": [
            [
             0.0,
             "#0d0887"
            ],
            [
             0.1111111111111111,
             "#46039f"
            ],
            [
             0.2222222222222222,
             "#7201a8"
            ],
            [
             0.3333333333333333,
             "#9c179e"
            ],
            [
             0.4444444444444444,
             "#bd3786"
            ],
            [
             0.5555555555555556,
             "#d8576b"
            ],
            [
             0.6666666666666666,
             "#ed7953"
            ],
            [
             0.7777777777777778,
             "#fb9f3a"
            ],
            [
             0.8888888888888888,
             "#fdca26"
            ],
            [
             1.0,
             "#f0f921"
            ]
           ]
          },
          "colorway": [
           "#636efa",
           "#EF553B",
           "#00cc96",
           "#ab63fa",
           "#FFA15A",
           "#19d3f3",
           "#FF6692",
           "#B6E880",
           "#FF97FF",
           "#FECB52"
          ],
          "font": {
           "color": "#2a3f5f"
          },
          "geo": {
           "bgcolor": "white",
           "lakecolor": "white",
           "landcolor": "#E5ECF6",
           "showlakes": true,
           "showland": true,
           "subunitcolor": "white"
          },
          "hoverlabel": {
           "align": "left"
          },
          "hovermode": "closest",
          "mapbox": {
           "style": "light"
          },
          "paper_bgcolor": "white",
          "plot_bgcolor": "#E5ECF6",
          "polar": {
           "angularaxis": {
            "gridcolor": "white",
            "linecolor": "white",
            "ticks": ""
           },
           "bgcolor": "#E5ECF6",
           "radialaxis": {
            "gridcolor": "white",
            "linecolor": "white",
            "ticks": ""
           }
          },
          "scene": {
           "xaxis": {
            "backgroundcolor": "#E5ECF6",
            "gridcolor": "white",
            "gridwidth": 2,
            "linecolor": "white",
            "showbackground": true,
            "ticks": "",
            "zerolinecolor": "white"
           },
           "yaxis": {
            "backgroundcolor": "#E5ECF6",
            "gridcolor": "white",
            "gridwidth": 2,
            "linecolor": "white",
            "showbackground": true,
            "ticks": "",
            "zerolinecolor": "white"
           },
           "zaxis": {
            "backgroundcolor": "#E5ECF6",
            "gridcolor": "white",
            "gridwidth": 2,
            "linecolor": "white",
            "showbackground": true,
            "ticks": "",
            "zerolinecolor": "white"
           }
          },
          "shapedefaults": {
           "line": {
            "color": "#2a3f5f"
           }
          },
          "ternary": {
           "aaxis": {
            "gridcolor": "white",
            "linecolor": "white",
            "ticks": ""
           },
           "baxis": {
            "gridcolor": "white",
            "linecolor": "white",
            "ticks": ""
           },
           "bgcolor": "#E5ECF6",
           "caxis": {
            "gridcolor": "white",
            "linecolor": "white",
            "ticks": ""
           }
          },
          "title": {
           "x": 0.05
          },
          "xaxis": {
           "automargin": true,
           "gridcolor": "white",
           "linecolor": "white",
           "ticks": "",
           "title": {
            "standoff": 15
           },
           "zerolinecolor": "white",
           "zerolinewidth": 2
          },
          "yaxis": {
           "automargin": true,
           "gridcolor": "white",
           "linecolor": "white",
           "ticks": "",
           "title": {
            "standoff": 15
           },
           "zerolinecolor": "white",
           "zerolinewidth": 2
          }
         }
        }
       }
      },
      "text/html": "<div>\n        \n        \n            <div id=\"ec5989fb-653f-451c-aba9-4245a65c8344\" class=\"plotly-graph-div\" style=\"height:525px; width:100%;\"></div>\n            <script type=\"text/javascript\">\n                require([\"plotly\"], function(Plotly) {\n                    window.PLOTLYENV=window.PLOTLYENV || {};\n                    \n                if (document.getElementById(\"ec5989fb-653f-451c-aba9-4245a65c8344\")) {\n                    Plotly.newPlot(\n                        'ec5989fb-653f-451c-aba9-4245a65c8344',\n                        [{\"name\": \"GMV_Sample_Cov_wealth_index\", \"type\": \"scatter\", \"x\": [\"1974-01-01T00:00:00\", \"1974-02-01T00:00:00\", \"1974-03-01T00:00:00\", \"1974-04-01T00:00:00\", \"1974-05-01T00:00:00\", \"1974-06-01T00:00:00\", \"1974-07-01T00:00:00\", \"1974-08-01T00:00:00\", \"1974-09-01T00:00:00\", \"1974-10-01T00:00:00\", \"1974-11-01T00:00:00\", \"1974-12-01T00:00:00\", \"1975-01-01T00:00:00\", \"1975-02-01T00:00:00\", \"1975-03-01T00:00:00\", \"1975-04-01T00:00:00\", \"1975-05-01T00:00:00\", \"1975-06-01T00:00:00\", \"1975-07-01T00:00:00\", \"1975-08-01T00:00:00\", \"1975-09-01T00:00:00\", \"1975-10-01T00:00:00\", \"1975-11-01T00:00:00\", \"1975-12-01T00:00:00\", \"1976-01-01T00:00:00\", \"1976-02-01T00:00:00\", \"1976-03-01T00:00:00\", \"1976-04-01T00:00:00\", \"1976-05-01T00:00:00\", \"1976-06-01T00:00:00\", \"1976-07-01T00:00:00\", \"1976-08-01T00:00:00\", \"1976-09-01T00:00:00\", \"1976-10-01T00:00:00\", \"1976-11-01T00:00:00\", \"1976-12-01T00:00:00\", \"1977-01-01T00:00:00\", \"1977-02-01T00:00:00\", \"1977-03-01T00:00:00\", \"1977-04-01T00:00:00\", \"1977-05-01T00:00:00\", \"1977-06-01T00:00:00\", \"1977-07-01T00:00:00\", \"1977-08-01T00:00:00\", \"1977-09-01T00:00:00\", \"1977-10-01T00:00:00\", \"1977-11-01T00:00:00\", \"1977-12-01T00:00:00\", \"1978-01-01T00:00:00\", \"1978-02-01T00:00:00\", \"1978-03-01T00:00:00\", \"1978-04-01T00:00:00\", \"1978-05-01T00:00:00\", \"1978-06-01T00:00:00\", \"1978-07-01T00:00:00\", \"1978-08-01T00:00:00\", \"1978-09-01T00:00:00\", \"1978-10-01T00:00:00\", \"1978-11-01T00:00:00\", \"1978-12-01T00:00:00\", \"1979-01-01T00:00:00\", \"1979-02-01T00:00:00\", \"1979-03-01T00:00:00\", \"1979-04-01T00:00:00\", \"1979-05-01T00:00:00\", \"1979-06-01T00:00:00\", \"1979-07-01T00:00:00\", \"1979-08-01T00:00:00\", \"1979-09-01T00:00:00\", \"1979-10-01T00:00:00\", \"1979-11-01T00:00:00\", \"1979-12-01T00:00:00\", \"1980-01-01T00:00:00\", \"1980-02-01T00:00:00\", \"1980-03-01T00:00:00\", \"1980-04-01T00:00:00\", \"1980-05-01T00:00:00\", \"1980-06-01T00:00:00\", \"1980-07-01T00:00:00\", \"1980-08-01T00:00:00\", \"1980-09-01T00:00:00\", \"1980-10-01T00:00:00\", \"1980-11-01T00:00:00\", \"1980-12-01T00:00:00\", \"1981-01-01T00:00:00\", \"1981-02-01T00:00:00\", \"1981-03-01T00:00:00\", \"1981-04-01T00:00:00\", \"1981-05-01T00:00:00\", \"1981-06-01T00:00:00\", \"1981-07-01T00:00:00\", \"1981-08-01T00:00:00\", \"1981-09-01T00:00:00\", \"1981-10-01T00:00:00\", \"1981-11-01T00:00:00\", \"1981-12-01T00:00:00\", \"1982-01-01T00:00:00\", \"1982-02-01T00:00:00\", \"1982-03-01T00:00:00\", \"1982-04-01T00:00:00\", \"1982-05-01T00:00:00\", \"1982-06-01T00:00:00\", \"1982-07-01T00:00:00\", \"1982-08-01T00:00:00\", \"1982-09-01T00:00:00\", \"1982-10-01T00:00:00\", \"1982-11-01T00:00:00\", \"1982-12-01T00:00:00\", \"1983-01-01T00:00:00\", \"1983-02-01T00:00:00\", \"1983-03-01T00:00:00\", \"1983-04-01T00:00:00\", \"1983-05-01T00:00:00\", \"1983-06-01T00:00:00\", \"1983-07-01T00:00:00\", \"1983-08-01T00:00:00\", \"1983-09-01T00:00:00\", \"1983-10-01T00:00:00\", \"1983-11-01T00:00:00\", \"1983-12-01T00:00:00\", \"1984-01-01T00:00:00\", \"1984-02-01T00:00:00\", \"1984-03-01T00:00:00\", \"1984-04-01T00:00:00\", \"1984-05-01T00:00:00\", \"1984-06-01T00:00:00\", \"1984-07-01T00:00:00\", \"1984-08-01T00:00:00\", \"1984-09-01T00:00:00\", \"1984-10-01T00:00:00\", \"1984-11-01T00:00:00\", \"1984-12-01T00:00:00\", \"1985-01-01T00:00:00\", \"1985-02-01T00:00:00\", \"1985-03-01T00:00:00\", \"1985-04-01T00:00:00\", \"1985-05-01T00:00:00\", \"1985-06-01T00:00:00\", \"1985-07-01T00:00:00\", \"1985-08-01T00:00:00\", \"1985-09-01T00:00:00\", \"1985-10-01T00:00:00\", \"1985-11-01T00:00:00\", \"1985-12-01T00:00:00\", \"1986-01-01T00:00:00\", \"1986-02-01T00:00:00\", \"1986-03-01T00:00:00\", \"1986-04-01T00:00:00\", \"1986-05-01T00:00:00\", \"1986-06-01T00:00:00\", \"1986-07-01T00:00:00\", \"1986-08-01T00:00:00\", \"1986-09-01T00:00:00\", \"1986-10-01T00:00:00\", \"1986-11-01T00:00:00\", \"1986-12-01T00:00:00\", \"1987-01-01T00:00:00\", \"1987-02-01T00:00:00\", \"1987-03-01T00:00:00\", \"1987-04-01T00:00:00\", \"1987-05-01T00:00:00\", \"1987-06-01T00:00:00\", \"1987-07-01T00:00:00\", \"1987-08-01T00:00:00\", \"1987-09-01T00:00:00\", \"1987-10-01T00:00:00\", \"1987-11-01T00:00:00\", \"1987-12-01T00:00:00\", \"1988-01-01T00:00:00\", \"1988-02-01T00:00:00\", \"1988-03-01T00:00:00\", \"1988-04-01T00:00:00\", \"1988-05-01T00:00:00\", \"1988-06-01T00:00:00\", \"1988-07-01T00:00:00\", \"1988-08-01T00:00:00\", \"1988-09-01T00:00:00\", \"1988-10-01T00:00:00\", \"1988-11-01T00:00:00\", \"1988-12-01T00:00:00\", \"1989-01-01T00:00:00\", \"1989-02-01T00:00:00\", \"1989-03-01T00:00:00\", \"1989-04-01T00:00:00\", \"1989-05-01T00:00:00\", \"1989-06-01T00:00:00\", \"1989-07-01T00:00:00\", \"1989-08-01T00:00:00\", \"1989-09-01T00:00:00\", \"1989-10-01T00:00:00\", \"1989-11-01T00:00:00\", \"1989-12-01T00:00:00\", \"1990-01-01T00:00:00\", \"1990-02-01T00:00:00\", \"1990-03-01T00:00:00\", \"1990-04-01T00:00:00\", \"1990-05-01T00:00:00\", \"1990-06-01T00:00:00\", \"1990-07-01T00:00:00\", \"1990-08-01T00:00:00\", \"1990-09-01T00:00:00\", \"1990-10-01T00:00:00\", \"1990-11-01T00:00:00\", \"1990-12-01T00:00:00\", \"1991-01-01T00:00:00\", \"1991-02-01T00:00:00\", \"1991-03-01T00:00:00\", \"1991-04-01T00:00:00\", \"1991-05-01T00:00:00\", \"1991-06-01T00:00:00\", \"1991-07-01T00:00:00\", \"1991-08-01T00:00:00\", \"1991-09-01T00:00:00\", \"1991-10-01T00:00:00\", \"1991-11-01T00:00:00\", \"1991-12-01T00:00:00\", \"1992-01-01T00:00:00\", \"1992-02-01T00:00:00\", \"1992-03-01T00:00:00\", \"1992-04-01T00:00:00\", \"1992-05-01T00:00:00\", \"1992-06-01T00:00:00\", \"1992-07-01T00:00:00\", \"1992-08-01T00:00:00\", \"1992-09-01T00:00:00\", \"1992-10-01T00:00:00\", \"1992-11-01T00:00:00\", \"1992-12-01T00:00:00\", \"1993-01-01T00:00:00\", \"1993-02-01T00:00:00\", \"1993-03-01T00:00:00\", \"1993-04-01T00:00:00\", \"1993-05-01T00:00:00\", \"1993-06-01T00:00:00\", \"1993-07-01T00:00:00\", \"1993-08-01T00:00:00\", \"1993-09-01T00:00:00\", \"1993-10-01T00:00:00\", \"1993-11-01T00:00:00\", \"1993-12-01T00:00:00\", \"1994-01-01T00:00:00\", \"1994-02-01T00:00:00\", \"1994-03-01T00:00:00\", \"1994-04-01T00:00:00\", \"1994-05-01T00:00:00\", \"1994-06-01T00:00:00\", \"1994-07-01T00:00:00\", \"1994-08-01T00:00:00\", \"1994-09-01T00:00:00\", \"1994-10-01T00:00:00\", \"1994-11-01T00:00:00\", \"1994-12-01T00:00:00\", \"1995-01-01T00:00:00\", \"1995-02-01T00:00:00\", \"1995-03-01T00:00:00\", \"1995-04-01T00:00:00\", \"1995-05-01T00:00:00\", \"1995-06-01T00:00:00\", \"1995-07-01T00:00:00\", \"1995-08-01T00:00:00\", \"1995-09-01T00:00:00\", \"1995-10-01T00:00:00\", \"1995-11-01T00:00:00\", \"1995-12-01T00:00:00\", \"1996-01-01T00:00:00\", \"1996-02-01T00:00:00\", \"1996-03-01T00:00:00\", \"1996-04-01T00:00:00\", \"1996-05-01T00:00:00\", \"1996-06-01T00:00:00\", \"1996-07-01T00:00:00\", \"1996-08-01T00:00:00\", \"1996-09-01T00:00:00\", \"1996-10-01T00:00:00\", \"1996-11-01T00:00:00\", \"1996-12-01T00:00:00\", \"1997-01-01T00:00:00\", \"1997-02-01T00:00:00\", \"1997-03-01T00:00:00\", \"1997-04-01T00:00:00\", \"1997-05-01T00:00:00\", \"1997-06-01T00:00:00\", \"1997-07-01T00:00:00\", \"1997-08-01T00:00:00\", \"1997-09-01T00:00:00\", \"1997-10-01T00:00:00\", \"1997-11-01T00:00:00\", \"1997-12-01T00:00:00\", \"1998-01-01T00:00:00\", \"1998-02-01T00:00:00\", \"1998-03-01T00:00:00\", \"1998-04-01T00:00:00\", \"1998-05-01T00:00:00\", \"1998-06-01T00:00:00\", \"1998-07-01T00:00:00\", \"1998-08-01T00:00:00\", \"1998-09-01T00:00:00\", \"1998-10-01T00:00:00\", \"1998-11-01T00:00:00\", \"1998-12-01T00:00:00\", \"1999-01-01T00:00:00\", \"1999-02-01T00:00:00\", \"1999-03-01T00:00:00\", \"1999-04-01T00:00:00\", \"1999-05-01T00:00:00\", \"1999-06-01T00:00:00\", \"1999-07-01T00:00:00\", \"1999-08-01T00:00:00\", \"1999-09-01T00:00:00\", \"1999-10-01T00:00:00\", \"1999-11-01T00:00:00\", \"1999-12-01T00:00:00\", \"2000-01-01T00:00:00\", \"2000-02-01T00:00:00\", \"2000-03-01T00:00:00\", \"2000-04-01T00:00:00\", \"2000-05-01T00:00:00\", \"2000-06-01T00:00:00\", \"2000-07-01T00:00:00\", \"2000-08-01T00:00:00\", \"2000-09-01T00:00:00\", \"2000-10-01T00:00:00\", \"2000-11-01T00:00:00\", \"2000-12-01T00:00:00\", \"2001-01-01T00:00:00\", \"2001-02-01T00:00:00\", \"2001-03-01T00:00:00\", \"2001-04-01T00:00:00\", \"2001-05-01T00:00:00\", \"2001-06-01T00:00:00\", \"2001-07-01T00:00:00\", \"2001-08-01T00:00:00\", \"2001-09-01T00:00:00\", \"2001-10-01T00:00:00\", \"2001-11-01T00:00:00\", \"2001-12-01T00:00:00\", \"2002-01-01T00:00:00\", \"2002-02-01T00:00:00\", \"2002-03-01T00:00:00\", \"2002-04-01T00:00:00\", \"2002-05-01T00:00:00\", \"2002-06-01T00:00:00\", \"2002-07-01T00:00:00\", \"2002-08-01T00:00:00\", \"2002-09-01T00:00:00\", \"2002-10-01T00:00:00\", \"2002-11-01T00:00:00\", \"2002-12-01T00:00:00\", \"2003-01-01T00:00:00\", \"2003-02-01T00:00:00\", \"2003-03-01T00:00:00\", \"2003-04-01T00:00:00\", \"2003-05-01T00:00:00\", \"2003-06-01T00:00:00\", \"2003-07-01T00:00:00\", \"2003-08-01T00:00:00\", \"2003-09-01T00:00:00\", \"2003-10-01T00:00:00\", \"2003-11-01T00:00:00\", \"2003-12-01T00:00:00\", \"2004-01-01T00:00:00\", \"2004-02-01T00:00:00\", \"2004-03-01T00:00:00\", \"2004-04-01T00:00:00\", \"2004-05-01T00:00:00\", \"2004-06-01T00:00:00\", \"2004-07-01T00:00:00\", \"2004-08-01T00:00:00\", \"2004-09-01T00:00:00\", \"2004-10-01T00:00:00\", \"2004-11-01T00:00:00\", \"2004-12-01T00:00:00\", \"2005-01-01T00:00:00\", \"2005-02-01T00:00:00\", \"2005-03-01T00:00:00\", \"2005-04-01T00:00:00\", \"2005-05-01T00:00:00\", \"2005-06-01T00:00:00\", \"2005-07-01T00:00:00\", \"2005-08-01T00:00:00\", \"2005-09-01T00:00:00\", \"2005-10-01T00:00:00\", \"2005-11-01T00:00:00\", \"2005-12-01T00:00:00\", \"2006-01-01T00:00:00\", \"2006-02-01T00:00:00\", \"2006-03-01T00:00:00\", \"2006-04-01T00:00:00\", \"2006-05-01T00:00:00\", \"2006-06-01T00:00:00\", \"2006-07-01T00:00:00\", \"2006-08-01T00:00:00\", \"2006-09-01T00:00:00\", \"2006-10-01T00:00:00\", \"2006-11-01T00:00:00\", \"2006-12-01T00:00:00\", \"2007-01-01T00:00:00\", \"2007-02-01T00:00:00\", \"2007-03-01T00:00:00\", \"2007-04-01T00:00:00\", \"2007-05-01T00:00:00\", \"2007-06-01T00:00:00\", \"2007-07-01T00:00:00\", \"2007-08-01T00:00:00\", \"2007-09-01T00:00:00\", \"2007-10-01T00:00:00\", \"2007-11-01T00:00:00\", \"2007-12-01T00:00:00\", \"2008-01-01T00:00:00\", \"2008-02-01T00:00:00\", \"2008-03-01T00:00:00\", \"2008-04-01T00:00:00\", \"2008-05-01T00:00:00\", \"2008-06-01T00:00:00\", \"2008-07-01T00:00:00\", \"2008-08-01T00:00:00\", \"2008-09-01T00:00:00\", \"2008-10-01T00:00:00\", \"2008-11-01T00:00:00\", \"2008-12-01T00:00:00\", \"2009-01-01T00:00:00\", \"2009-02-01T00:00:00\", \"2009-03-01T00:00:00\", \"2009-04-01T00:00:00\", \"2009-05-01T00:00:00\", \"2009-06-01T00:00:00\", \"2009-07-01T00:00:00\", \"2009-08-01T00:00:00\", \"2009-09-01T00:00:00\", \"2009-10-01T00:00:00\", \"2009-11-01T00:00:00\", \"2009-12-01T00:00:00\", \"2010-01-01T00:00:00\", \"2010-02-01T00:00:00\", \"2010-03-01T00:00:00\", \"2010-04-01T00:00:00\", \"2010-05-01T00:00:00\", \"2010-06-01T00:00:00\", \"2010-07-01T00:00:00\", \"2010-08-01T00:00:00\", \"2010-09-01T00:00:00\", \"2010-10-01T00:00:00\", \"2010-11-01T00:00:00\", \"2010-12-01T00:00:00\", \"2011-01-01T00:00:00\", \"2011-02-01T00:00:00\", \"2011-03-01T00:00:00\", \"2011-04-01T00:00:00\", \"2011-05-01T00:00:00\", \"2011-06-01T00:00:00\", \"2011-07-01T00:00:00\", \"2011-08-01T00:00:00\", \"2011-09-01T00:00:00\", \"2011-10-01T00:00:00\", \"2011-11-01T00:00:00\", \"2011-12-01T00:00:00\", \"2012-01-01T00:00:00\", \"2012-02-01T00:00:00\", \"2012-03-01T00:00:00\", \"2012-04-01T00:00:00\", \"2012-05-01T00:00:00\", \"2012-06-01T00:00:00\", \"2012-07-01T00:00:00\", \"2012-08-01T00:00:00\", \"2012-09-01T00:00:00\", \"2012-10-01T00:00:00\", \"2012-11-01T00:00:00\", \"2012-12-01T00:00:00\", \"2013-01-01T00:00:00\", \"2013-02-01T00:00:00\", \"2013-03-01T00:00:00\", \"2013-04-01T00:00:00\", \"2013-05-01T00:00:00\", \"2013-06-01T00:00:00\", \"2013-07-01T00:00:00\", \"2013-08-01T00:00:00\", \"2013-09-01T00:00:00\", \"2013-10-01T00:00:00\", \"2013-11-01T00:00:00\", \"2013-12-01T00:00:00\", \"2014-01-01T00:00:00\", \"2014-02-01T00:00:00\", \"2014-03-01T00:00:00\", \"2014-04-01T00:00:00\", \"2014-05-01T00:00:00\", \"2014-06-01T00:00:00\", \"2014-07-01T00:00:00\", \"2014-08-01T00:00:00\", \"2014-09-01T00:00:00\", \"2014-10-01T00:00:00\", \"2014-11-01T00:00:00\", \"2014-12-01T00:00:00\", \"2015-01-01T00:00:00\", \"2015-02-01T00:00:00\", \"2015-03-01T00:00:00\", \"2015-04-01T00:00:00\", \"2015-05-01T00:00:00\", \"2015-06-01T00:00:00\", \"2015-07-01T00:00:00\", \"2015-08-01T00:00:00\", \"2015-09-01T00:00:00\", \"2015-10-01T00:00:00\", \"2015-11-01T00:00:00\", \"2015-12-01T00:00:00\", \"2016-01-01T00:00:00\", \"2016-02-01T00:00:00\", \"2016-03-01T00:00:00\", \"2016-04-01T00:00:00\", \"2016-05-01T00:00:00\", \"2016-06-01T00:00:00\", \"2016-07-01T00:00:00\", \"2016-08-01T00:00:00\", \"2016-09-01T00:00:00\", \"2016-10-01T00:00:00\", \"2016-11-01T00:00:00\", \"2016-12-01T00:00:00\", \"2017-01-01T00:00:00\", \"2017-02-01T00:00:00\", \"2017-03-01T00:00:00\", \"2017-04-01T00:00:00\", \"2017-05-01T00:00:00\", \"2017-06-01T00:00:00\", \"2017-07-01T00:00:00\", \"2017-08-01T00:00:00\", \"2017-09-01T00:00:00\", \"2017-10-01T00:00:00\", \"2017-11-01T00:00:00\", \"2017-12-01T00:00:00\", \"2018-01-01T00:00:00\", \"2018-02-01T00:00:00\", \"2018-03-01T00:00:00\", \"2018-04-01T00:00:00\", \"2018-05-01T00:00:00\", \"2018-06-01T00:00:00\", \"2018-07-01T00:00:00\", \"2018-08-01T00:00:00\", \"2018-09-01T00:00:00\", \"2018-10-01T00:00:00\", \"2018-11-01T00:00:00\", \"2018-12-01T00:00:00\"], \"y\": [null, null, null, null, null, null, null, null, null, null, null, null, null, null, null, null, null, null, null, null, null, null, null, null, null, null, null, null, null, null, null, null, null, null, null, 1082.406877254759, 1125.1987276413208, 1112.3184027011885, 1119.4697003388712, 1147.9196831040156, 1156.2342761259647, 1220.8051366081493, 1250.222259984318, 1248.3663853325506, 1269.9948212261634, 1242.895647076754, 1305.011828901605, 1310.728351357417, 1277.4665105828656, 1295.4234721756732, 1344.4713448992732, 1391.095225537904, 1430.5858122545724, 1446.7581663995375, 1500.4559677673028, 1535.0364507222316, 1536.1391900190015, 1410.4201791538567, 1424.334564142241, 1423.4472119634283, 1507.7676699869587, 1517.5273638234596, 1555.0169051816677, 1569.7062117751063, 1573.1981856741138, 1644.5960735535805, 1708.8211080646543, 1778.593925244747, 1778.6194817062367, 1679.725039953567, 1802.1130448104545, 1851.7098576003873, 1902.1125651727614, 1841.5826957294278, 1713.6468129173113, 1918.4922724573512, 2034.6140834673486, 2136.828610865186, 2189.6359431109677, 2188.1453085465355, 2214.1594090135773, 2254.866798847391, 2309.171304911492, 2300.424321698333, 2321.884563437452, 2323.682909809701, 2403.8400312229746, 2381.458917082446, 2432.0308194682057, 2496.997721108808, 2523.1378652309995, 2505.213879873836, 2397.5533235886573, 2516.040451691012, 2657.9171836938385, 2593.256668706097, 2606.3361440794697, 2596.8934849108264, 2635.71142138648, 2751.102002732003, 2735.874274784352, 2695.950130564493, 2651.2739641488256, 2860.891226802231, 2937.020383244533, 3157.101661542558, 3270.4864689434035, 3356.5873928190053, 3516.032811631832, 3642.2340296612406, 3762.5892204015076, 3942.6593439898447, 4104.231341697808, 4151.170879538958, 4208.164570203421, 4273.24889076374, 4444.230147574111, 4494.996116036864, 4528.377578050858, 4446.035686284256, 4576.8685260400935, 4467.759654619961, 4487.165609099831, 4458.960358957676, 4475.188152916999, 4524.943385989333, 4487.254221434665, 4787.826995427868, 4955.478035899235, 5050.482413475379, 5139.205221820661, 5229.18325610821, 5457.162899983501, 5566.110498660188, 5836.055139177867, 5910.537771938475, 6220.313556561961, 6409.995973015694, 6341.2371107064455, 6443.59065766685, 6233.639928959589, 6412.594821080281, 6777.83053541109, 7062.40092198522, 7242.0063122434185, 7609.87046228314, 7952.438947503216, 7914.24337594873, 8102.863405399916, 8346.404956933846, 8238.72656627271, 8682.033264403026, 8384.433778181037, 8584.731411881698, 8447.059641112015, 8348.190720891367, 9051.536983953198, 9352.414068122305, 9315.617413492475, 9097.614411030423, 9114.419270372284, 9322.276724813953, 9662.598650297672, 9886.175156345014, 9711.066908394598, 8519.067827238257, 8394.119412893635, 8530.091426507135, 9132.87349763445, 9351.573242429258, 9393.973740794396, 9424.392998285042, 9577.055294041735, 9868.533346131138, 9920.794104678713, 9864.375027491518, 9996.622349471754, 10148.8772006535, 10126.250646882949, 10198.950568009845, 10481.77890075201, 10437.495295203495, 10497.253210182686, 10715.766583805005, 11023.585271151518, 11282.763900270276, 11748.33364433374, 11819.800769881022, 11855.678051540248, 11861.524277066103, 12330.987996577454, 12748.73544304716, 12253.117153597015, 12386.99733616862, 12276.243142907872, 11688.151643455523, 12070.969040059377, 12020.615472488218, 12183.273684166166, 11534.05287789361, 11552.943392766263, 11245.48797290538, 11493.646336057152, 11657.053849397516, 11816.428877822127, 12553.969389806833, 12914.978158604754, 13037.070127019968, 13460.562245869078, 13225.862429280722, 13658.715053918879, 13936.967939276228, 14196.750196359339, 14471.007186329165, 14577.65777427633, 14848.672411591666, 15065.05038625059, 15209.01665963836, 15030.910730761687, 15083.728220611163, 15613.114699755295, 15609.022417906508, 16463.40920814036, 16610.976400164964, 16874.0111310661, 16733.8702005267, 16903.068419852738, 17360.686993041152, 17842.18702246476, 18644.563008815006, 19116.64356532325, 19370.243738620797, 19820.716431300105, 20218.574066962596, 20719.447543881477, 21258.664106107306, 21258.160069763064, 21446.005787276827, 20984.01624901521, 21375.17287293763, 21757.25479273551, 21407.966316004557, 20702.414484621713, 20781.312547424637, 20637.13571006703, 20188.39150186489, 20682.211178117013, 21193.22115313663, 21384.60825426872, 21295.029430783947, 20928.968363416352, 21131.496510422785, 21498.464299042094, 22233.864123769457, 22350.695780511847, 22544.86262282057, 23210.19146712361, 23704.17864089407, 24060.27031091977, 24520.07956286175, 25159.261468014105, 24838.90520524114, 25386.725874750337, 25679.091791026287, 26387.229880629275, 26603.514165184813, 26847.20008441858, 27151.783849414787, 28212.242196971605, 28228.32965957985, 27017.532520037777, 28069.1765187027, 28683.701497809045, 28970.76985577421, 29555.70288674083, 29642.26251656532, 30455.876166998532, 30894.673140098625, 30173.609630181247, 29974.140236420717, 31399.04287304631, 32373.908733047258, 33333.796928651325, 33577.867597097844, 35007.62811257986, 35236.7007641594, 36270.64694900454, 38064.647140642555, 38124.10974133735, 39251.91282321992, 41255.34472835145, 41346.10412932298, 41055.186826351965, 40944.07586438314, 39471.68703373765, 37948.65378832058, 40447.73251869701, 41273.26224537849, 41897.57555413346, 43042.915509275685, 41607.674664999344, 40155.118498315656, 40272.616927433504, 42823.86132657527, 44710.54992641627, 45146.67686682703, 46119.8994619775, 45534.165910568954, 44666.631785021826, 44927.57828618638, 44237.943813412974, 43992.09618266619, 45448.371690469954, 44820.77212615707, 46382.0489375962, 46768.90616310145, 47197.32895410222, 47041.94318998373, 49207.51084668591, 51255.796327708595, 52739.823390443955, 52684.6795575263, 53023.45129430796, 55379.040078870676, 56500.934612568126, 57213.03704186155, 57192.58663450785, 59208.64925976864, 60375.49702104475, 59422.97816867453, 58154.94170837362, 58801.7609461841, 56821.4329259743, 58013.439071295994, 58773.09761556273, 61047.92836255852, 61519.2244516364, 62515.30260046828, 66687.30446866255, 68429.31637977193, 68884.50081392209, 66812.36794554222, 61939.63986083898, 64067.49403598978, 61479.54132616389, 63552.78923520766, 65685.14278123912, 65927.19337327313, 66573.39237223996, 65749.1799131398, 65906.27126577591, 70174.51218363103, 73777.6253521586, 74890.32959709073, 78059.93020668693, 80175.41591501441, 81247.83734517242, 85544.55091757195, 89139.09716217803, 91380.84535567061, 94055.86412323047, 96766.91056049522, 97981.66439489154, 95245.08808890583, 98320.96197801603, 99943.80164093572, 98420.67070393646, 100304.18274664631, 102747.04426596142, 105890.05661296652, 111333.14374481642, 114338.8429405766, 113105.85239378382, 114346.38984201955, 112936.79482136379, 109662.20294322447, 113568.23698179102, 116371.64802424028, 120473.48644790954, 118903.57558975714, 119038.06099512652, 117006.3018260496, 119678.5043538408, 120559.12758822093, 124223.68562939158, 125159.53100189046, 128073.68484199105, 129879.53427588409, 128957.30521708493, 130924.99564049795, 133263.98603090405, 135393.48570498702, 135642.86562736036, 139441.21356314898, 141836.9057908093, 144247.7712600196, 145243.27760650427, 145111.83432320517, 146287.26702550115, 146196.37879625385, 148008.91672071477, 145583.35768387027, 138073.967597363, 141085.10273330184, 142255.3424355391, 142110.15638978322, 136623.0719230511, 135523.2767779312, 134705.65891515545, 133554.0635725955, 134099.49584284573, 135176.8334806502, 137694.32866175196, 127498.88063114946, 129399.95411237072, 132194.07241709778, 126101.87855022955, 113684.25677951382, 108227.7847388497, 107703.01607643925, 104666.60006063267, 98856.38153493976, 101919.47042171008, 109605.33995906461, 115440.94176432525, 117287.90629502849, 124174.81670780158, 126727.95764009607, 130453.18325741126, 127111.63924366815, 129318.68927087927, 135925.4354796551, 132188.41120318463, 133955.76061963427, 143949.553275746, 149588.83848726374, 141149.80130610566, 140665.80847866434, 149429.99572229892, 147229.54815181697, 155843.9621813997, 159889.09891006976, 159741.96711169873, 167053.26928622738, 167967.05195783012, 173552.1310731115, 177130.56152552075, 182580.88099790667, 182387.02264710452, 181024.05328639125, 178688.20354647143, 176132.99299743076, 168874.72149796676, 181174.93931368963, 181443.76934272342, 185211.26523214992, 184626.6852887393, 186125.17655935202, 187304.5507736418, 189173.03350230586, 186038.86490960777, 195147.34696965106, 199614.39002358037, 199088.77292274503, 204025.25182834352, 203757.97950913158, 201902.93271389857, 202987.5346184993, 212733.7906229096, 216914.08005712548, 228491.65336116037, 237401.65525770644, 231682.50645782895, 232460.22383029, 245602.47701231035, 237861.51957145002, 243446.25070623582, 252620.35951133113, 255677.30262673608, 260980.278222788, 262003.00736489292, 273919.9291269324, 278183.9551853027, 281184.02712242276, 281648.7788713152, 292088.9871726765, 277582.76668983256, 292887.13065875496, 291851.10102190427, 303240.7252823957, 309513.6394281054, 309787.20377737517, 312552.1323132605, 323048.54730092984, 320124.80720428494, 324897.9664243139, 329219.77822854056, 330703.0791174023, 337885.228797358, 335296.3034366557, 334329.3450566513, 347903.27304569463, 351432.6640399802, 347576.99733804626, 340254.211045773, 347161.7816512899, 361589.9117751423, 370704.7339869611, 370539.5441024014, 384616.96113017364, 400648.0044184533, 409613.7325840832, 406467.46760912694, 408195.8082051777, 431056.97838721605, 440099.102068375, 445861.5548635682, 461155.15403002745, 470900.3297557679, 473278.80912292, 480830.2777026683, 484987.60210103355, 486816.6017778322, 484046.9265569155, 495064.8901980803, 499849.08445290255, 511884.67131128866, 517156.19679617987, 518157.8772608757, 496818.0630800203, 503102.43969745265, 503026.2281666352, 520636.3280264959, 537063.1574053405, 542338.7358737533, 551523.2072492868, 559617.0810737081, 550513.6663823226, 547967.0570560276, 506448.98845558864]}, {\"name\": \"GMV_Const_Cov_wealth_index\", \"type\": \"scatter\", \"x\": [\"1974-01-01T00:00:00\", \"1974-02-01T00:00:00\", \"1974-03-01T00:00:00\", \"1974-04-01T00:00:00\", \"1974-05-01T00:00:00\", \"1974-06-01T00:00:00\", \"1974-07-01T00:00:00\", \"1974-08-01T00:00:00\", \"1974-09-01T00:00:00\", \"1974-10-01T00:00:00\", \"1974-11-01T00:00:00\", \"1974-12-01T00:00:00\", \"1975-01-01T00:00:00\", \"1975-02-01T00:00:00\", \"1975-03-01T00:00:00\", \"1975-04-01T00:00:00\", \"1975-05-01T00:00:00\", \"1975-06-01T00:00:00\", \"1975-07-01T00:00:00\", \"1975-08-01T00:00:00\", \"1975-09-01T00:00:00\", \"1975-10-01T00:00:00\", \"1975-11-01T00:00:00\", \"1975-12-01T00:00:00\", \"1976-01-01T00:00:00\", \"1976-02-01T00:00:00\", \"1976-03-01T00:00:00\", \"1976-04-01T00:00:00\", \"1976-05-01T00:00:00\", \"1976-06-01T00:00:00\", \"1976-07-01T00:00:00\", \"1976-08-01T00:00:00\", \"1976-09-01T00:00:00\", \"1976-10-01T00:00:00\", \"1976-11-01T00:00:00\", \"1976-12-01T00:00:00\", \"1977-01-01T00:00:00\", \"1977-02-01T00:00:00\", \"1977-03-01T00:00:00\", \"1977-04-01T00:00:00\", \"1977-05-01T00:00:00\", \"1977-06-01T00:00:00\", \"1977-07-01T00:00:00\", \"1977-08-01T00:00:00\", \"1977-09-01T00:00:00\", \"1977-10-01T00:00:00\", \"1977-11-01T00:00:00\", \"1977-12-01T00:00:00\", \"1978-01-01T00:00:00\", \"1978-02-01T00:00:00\", \"1978-03-01T00:00:00\", \"1978-04-01T00:00:00\", \"1978-05-01T00:00:00\", \"1978-06-01T00:00:00\", \"1978-07-01T00:00:00\", \"1978-08-01T00:00:00\", \"1978-09-01T00:00:00\", \"1978-10-01T00:00:00\", \"1978-11-01T00:00:00\", \"1978-12-01T00:00:00\", \"1979-01-01T00:00:00\", \"1979-02-01T00:00:00\", \"1979-03-01T00:00:00\", \"1979-04-01T00:00:00\", \"1979-05-01T00:00:00\", \"1979-06-01T00:00:00\", \"1979-07-01T00:00:00\", \"1979-08-01T00:00:00\", \"1979-09-01T00:00:00\", \"1979-10-01T00:00:00\", \"1979-11-01T00:00:00\", \"1979-12-01T00:00:00\", \"1980-01-01T00:00:00\", \"1980-02-01T00:00:00\", \"1980-03-01T00:00:00\", \"1980-04-01T00:00:00\", \"1980-05-01T00:00:00\", \"1980-06-01T00:00:00\", \"1980-07-01T00:00:00\", \"1980-08-01T00:00:00\", \"1980-09-01T00:00:00\", \"1980-10-01T00:00:00\", \"1980-11-01T00:00:00\", \"1980-12-01T00:00:00\", \"1981-01-01T00:00:00\", \"1981-02-01T00:00:00\", \"1981-03-01T00:00:00\", \"1981-04-01T00:00:00\", \"1981-05-01T00:00:00\", \"1981-06-01T00:00:00\", \"1981-07-01T00:00:00\", \"1981-08-01T00:00:00\", \"1981-09-01T00:00:00\", \"1981-10-01T00:00:00\", \"1981-11-01T00:00:00\", \"1981-12-01T00:00:00\", \"1982-01-01T00:00:00\", \"1982-02-01T00:00:00\", \"1982-03-01T00:00:00\", \"1982-04-01T00:00:00\", \"1982-05-01T00:00:00\", \"1982-06-01T00:00:00\", \"1982-07-01T00:00:00\", \"1982-08-01T00:00:00\", \"1982-09-01T00:00:00\", \"1982-10-01T00:00:00\", \"1982-11-01T00:00:00\", \"1982-12-01T00:00:00\", \"1983-01-01T00:00:00\", \"1983-02-01T00:00:00\", \"1983-03-01T00:00:00\", \"1983-04-01T00:00:00\", \"1983-05-01T00:00:00\", \"1983-06-01T00:00:00\", \"1983-07-01T00:00:00\", \"1983-08-01T00:00:00\", \"1983-09-01T00:00:00\", \"1983-10-01T00:00:00\", \"1983-11-01T00:00:00\", \"1983-12-01T00:00:00\", \"1984-01-01T00:00:00\", \"1984-02-01T00:00:00\", \"1984-03-01T00:00:00\", \"1984-04-01T00:00:00\", \"1984-05-01T00:00:00\", \"1984-06-01T00:00:00\", \"1984-07-01T00:00:00\", \"1984-08-01T00:00:00\", \"1984-09-01T00:00:00\", \"1984-10-01T00:00:00\", \"1984-11-01T00:00:00\", \"1984-12-01T00:00:00\", \"1985-01-01T00:00:00\", \"1985-02-01T00:00:00\", \"1985-03-01T00:00:00\", \"1985-04-01T00:00:00\", \"1985-05-01T00:00:00\", \"1985-06-01T00:00:00\", \"1985-07-01T00:00:00\", \"1985-08-01T00:00:00\", \"1985-09-01T00:00:00\", \"1985-10-01T00:00:00\", \"1985-11-01T00:00:00\", \"1985-12-01T00:00:00\", \"1986-01-01T00:00:00\", \"1986-02-01T00:00:00\", \"1986-03-01T00:00:00\", \"1986-04-01T00:00:00\", \"1986-05-01T00:00:00\", \"1986-06-01T00:00:00\", \"1986-07-01T00:00:00\", \"1986-08-01T00:00:00\", \"1986-09-01T00:00:00\", \"1986-10-01T00:00:00\", \"1986-11-01T00:00:00\", \"1986-12-01T00:00:00\", \"1987-01-01T00:00:00\", \"1987-02-01T00:00:00\", \"1987-03-01T00:00:00\", \"1987-04-01T00:00:00\", \"1987-05-01T00:00:00\", \"1987-06-01T00:00:00\", \"1987-07-01T00:00:00\", \"1987-08-01T00:00:00\", \"1987-09-01T00:00:00\", \"1987-10-01T00:00:00\", \"1987-11-01T00:00:00\", \"1987-12-01T00:00:00\", \"1988-01-01T00:00:00\", \"1988-02-01T00:00:00\", \"1988-03-01T00:00:00\", \"1988-04-01T00:00:00\", \"1988-05-01T00:00:00\", \"1988-06-01T00:00:00\", \"1988-07-01T00:00:00\", \"1988-08-01T00:00:00\", \"1988-09-01T00:00:00\", \"1988-10-01T00:00:00\", \"1988-11-01T00:00:00\", \"1988-12-01T00:00:00\", \"1989-01-01T00:00:00\", \"1989-02-01T00:00:00\", \"1989-03-01T00:00:00\", \"1989-04-01T00:00:00\", \"1989-05-01T00:00:00\", \"1989-06-01T00:00:00\", \"1989-07-01T00:00:00\", \"1989-08-01T00:00:00\", \"1989-09-01T00:00:00\", \"1989-10-01T00:00:00\", \"1989-11-01T00:00:00\", \"1989-12-01T00:00:00\", \"1990-01-01T00:00:00\", \"1990-02-01T00:00:00\", \"1990-03-01T00:00:00\", \"1990-04-01T00:00:00\", \"1990-05-01T00:00:00\", \"1990-06-01T00:00:00\", \"1990-07-01T00:00:00\", \"1990-08-01T00:00:00\", \"1990-09-01T00:00:00\", \"1990-10-01T00:00:00\", \"1990-11-01T00:00:00\", \"1990-12-01T00:00:00\", \"1991-01-01T00:00:00\", \"1991-02-01T00:00:00\", \"1991-03-01T00:00:00\", \"1991-04-01T00:00:00\", \"1991-05-01T00:00:00\", \"1991-06-01T00:00:00\", \"1991-07-01T00:00:00\", \"1991-08-01T00:00:00\", \"1991-09-01T00:00:00\", \"1991-10-01T00:00:00\", \"1991-11-01T00:00:00\", \"1991-12-01T00:00:00\", \"1992-01-01T00:00:00\", \"1992-02-01T00:00:00\", \"1992-03-01T00:00:00\", \"1992-04-01T00:00:00\", \"1992-05-01T00:00:00\", \"1992-06-01T00:00:00\", \"1992-07-01T00:00:00\", \"1992-08-01T00:00:00\", \"1992-09-01T00:00:00\", \"1992-10-01T00:00:00\", \"1992-11-01T00:00:00\", \"1992-12-01T00:00:00\", \"1993-01-01T00:00:00\", \"1993-02-01T00:00:00\", \"1993-03-01T00:00:00\", \"1993-04-01T00:00:00\", \"1993-05-01T00:00:00\", \"1993-06-01T00:00:00\", \"1993-07-01T00:00:00\", \"1993-08-01T00:00:00\", \"1993-09-01T00:00:00\", \"1993-10-01T00:00:00\", \"1993-11-01T00:00:00\", \"1993-12-01T00:00:00\", \"1994-01-01T00:00:00\", \"1994-02-01T00:00:00\", \"1994-03-01T00:00:00\", \"1994-04-01T00:00:00\", \"1994-05-01T00:00:00\", \"1994-06-01T00:00:00\", \"1994-07-01T00:00:00\", \"1994-08-01T00:00:00\", \"1994-09-01T00:00:00\", \"1994-10-01T00:00:00\", \"1994-11-01T00:00:00\", \"1994-12-01T00:00:00\", \"1995-01-01T00:00:00\", \"1995-02-01T00:00:00\", \"1995-03-01T00:00:00\", \"1995-04-01T00:00:00\", \"1995-05-01T00:00:00\", \"1995-06-01T00:00:00\", \"1995-07-01T00:00:00\", \"1995-08-01T00:00:00\", \"1995-09-01T00:00:00\", \"1995-10-01T00:00:00\", \"1995-11-01T00:00:00\", \"1995-12-01T00:00:00\", \"1996-01-01T00:00:00\", \"1996-02-01T00:00:00\", \"1996-03-01T00:00:00\", \"1996-04-01T00:00:00\", \"1996-05-01T00:00:00\", \"1996-06-01T00:00:00\", \"1996-07-01T00:00:00\", \"1996-08-01T00:00:00\", \"1996-09-01T00:00:00\", \"1996-10-01T00:00:00\", \"1996-11-01T00:00:00\", \"1996-12-01T00:00:00\", \"1997-01-01T00:00:00\", \"1997-02-01T00:00:00\", \"1997-03-01T00:00:00\", \"1997-04-01T00:00:00\", \"1997-05-01T00:00:00\", \"1997-06-01T00:00:00\", \"1997-07-01T00:00:00\", \"1997-08-01T00:00:00\", \"1997-09-01T00:00:00\", \"1997-10-01T00:00:00\", \"1997-11-01T00:00:00\", \"1997-12-01T00:00:00\", \"1998-01-01T00:00:00\", \"1998-02-01T00:00:00\", \"1998-03-01T00:00:00\", \"1998-04-01T00:00:00\", \"1998-05-01T00:00:00\", \"1998-06-01T00:00:00\", \"1998-07-01T00:00:00\", \"1998-08-01T00:00:00\", \"1998-09-01T00:00:00\", \"1998-10-01T00:00:00\", \"1998-11-01T00:00:00\", \"1998-12-01T00:00:00\", \"1999-01-01T00:00:00\", \"1999-02-01T00:00:00\", \"1999-03-01T00:00:00\", \"1999-04-01T00:00:00\", \"1999-05-01T00:00:00\", \"1999-06-01T00:00:00\", \"1999-07-01T00:00:00\", \"1999-08-01T00:00:00\", \"1999-09-01T00:00:00\", \"1999-10-01T00:00:00\", \"1999-11-01T00:00:00\", \"1999-12-01T00:00:00\", \"2000-01-01T00:00:00\", \"2000-02-01T00:00:00\", \"2000-03-01T00:00:00\", \"2000-04-01T00:00:00\", \"2000-05-01T00:00:00\", \"2000-06-01T00:00:00\", \"2000-07-01T00:00:00\", \"2000-08-01T00:00:00\", \"2000-09-01T00:00:00\", \"2000-10-01T00:00:00\", \"2000-11-01T00:00:00\", \"2000-12-01T00:00:00\", \"2001-01-01T00:00:00\", \"2001-02-01T00:00:00\", \"2001-03-01T00:00:00\", \"2001-04-01T00:00:00\", \"2001-05-01T00:00:00\", \"2001-06-01T00:00:00\", \"2001-07-01T00:00:00\", \"2001-08-01T00:00:00\", \"2001-09-01T00:00:00\", \"2001-10-01T00:00:00\", \"2001-11-01T00:00:00\", \"2001-12-01T00:00:00\", \"2002-01-01T00:00:00\", \"2002-02-01T00:00:00\", \"2002-03-01T00:00:00\", \"2002-04-01T00:00:00\", \"2002-05-01T00:00:00\", \"2002-06-01T00:00:00\", \"2002-07-01T00:00:00\", \"2002-08-01T00:00:00\", \"2002-09-01T00:00:00\", \"2002-10-01T00:00:00\", \"2002-11-01T00:00:00\", \"2002-12-01T00:00:00\", \"2003-01-01T00:00:00\", \"2003-02-01T00:00:00\", \"2003-03-01T00:00:00\", \"2003-04-01T00:00:00\", \"2003-05-01T00:00:00\", \"2003-06-01T00:00:00\", \"2003-07-01T00:00:00\", \"2003-08-01T00:00:00\", \"2003-09-01T00:00:00\", \"2003-10-01T00:00:00\", \"2003-11-01T00:00:00\", \"2003-12-01T00:00:00\", \"2004-01-01T00:00:00\", \"2004-02-01T00:00:00\", \"2004-03-01T00:00:00\", \"2004-04-01T00:00:00\", \"2004-05-01T00:00:00\", \"2004-06-01T00:00:00\", \"2004-07-01T00:00:00\", \"2004-08-01T00:00:00\", \"2004-09-01T00:00:00\", \"2004-10-01T00:00:00\", \"2004-11-01T00:00:00\", \"2004-12-01T00:00:00\", \"2005-01-01T00:00:00\", \"2005-02-01T00:00:00\", \"2005-03-01T00:00:00\", \"2005-04-01T00:00:00\", \"2005-05-01T00:00:00\", \"2005-06-01T00:00:00\", \"2005-07-01T00:00:00\", \"2005-08-01T00:00:00\", \"2005-09-01T00:00:00\", \"2005-10-01T00:00:00\", \"2005-11-01T00:00:00\", \"2005-12-01T00:00:00\", \"2006-01-01T00:00:00\", \"2006-02-01T00:00:00\", \"2006-03-01T00:00:00\", \"2006-04-01T00:00:00\", \"2006-05-01T00:00:00\", \"2006-06-01T00:00:00\", \"2006-07-01T00:00:00\", \"2006-08-01T00:00:00\", \"2006-09-01T00:00:00\", \"2006-10-01T00:00:00\", \"2006-11-01T00:00:00\", \"2006-12-01T00:00:00\", \"2007-01-01T00:00:00\", \"2007-02-01T00:00:00\", \"2007-03-01T00:00:00\", \"2007-04-01T00:00:00\", \"2007-05-01T00:00:00\", \"2007-06-01T00:00:00\", \"2007-07-01T00:00:00\", \"2007-08-01T00:00:00\", \"2007-09-01T00:00:00\", \"2007-10-01T00:00:00\", \"2007-11-01T00:00:00\", \"2007-12-01T00:00:00\", \"2008-01-01T00:00:00\", \"2008-02-01T00:00:00\", \"2008-03-01T00:00:00\", \"2008-04-01T00:00:00\", \"2008-05-01T00:00:00\", \"2008-06-01T00:00:00\", \"2008-07-01T00:00:00\", \"2008-08-01T00:00:00\", \"2008-09-01T00:00:00\", \"2008-10-01T00:00:00\", \"2008-11-01T00:00:00\", \"2008-12-01T00:00:00\", \"2009-01-01T00:00:00\", \"2009-02-01T00:00:00\", \"2009-03-01T00:00:00\", \"2009-04-01T00:00:00\", \"2009-05-01T00:00:00\", \"2009-06-01T00:00:00\", \"2009-07-01T00:00:00\", \"2009-08-01T00:00:00\", \"2009-09-01T00:00:00\", \"2009-10-01T00:00:00\", \"2009-11-01T00:00:00\", \"2009-12-01T00:00:00\", \"2010-01-01T00:00:00\", \"2010-02-01T00:00:00\", \"2010-03-01T00:00:00\", \"2010-04-01T00:00:00\", \"2010-05-01T00:00:00\", \"2010-06-01T00:00:00\", \"2010-07-01T00:00:00\", \"2010-08-01T00:00:00\", \"2010-09-01T00:00:00\", \"2010-10-01T00:00:00\", \"2010-11-01T00:00:00\", \"2010-12-01T00:00:00\", \"2011-01-01T00:00:00\", \"2011-02-01T00:00:00\", \"2011-03-01T00:00:00\", \"2011-04-01T00:00:00\", \"2011-05-01T00:00:00\", \"2011-06-01T00:00:00\", \"2011-07-01T00:00:00\", \"2011-08-01T00:00:00\", \"2011-09-01T00:00:00\", \"2011-10-01T00:00:00\", \"2011-11-01T00:00:00\", \"2011-12-01T00:00:00\", \"2012-01-01T00:00:00\", \"2012-02-01T00:00:00\", \"2012-03-01T00:00:00\", \"2012-04-01T00:00:00\", \"2012-05-01T00:00:00\", \"2012-06-01T00:00:00\", \"2012-07-01T00:00:00\", \"2012-08-01T00:00:00\", \"2012-09-01T00:00:00\", \"2012-10-01T00:00:00\", \"2012-11-01T00:00:00\", \"2012-12-01T00:00:00\", \"2013-01-01T00:00:00\", \"2013-02-01T00:00:00\", \"2013-03-01T00:00:00\", \"2013-04-01T00:00:00\", \"2013-05-01T00:00:00\", \"2013-06-01T00:00:00\", \"2013-07-01T00:00:00\", \"2013-08-01T00:00:00\", \"2013-09-01T00:00:00\", \"2013-10-01T00:00:00\", \"2013-11-01T00:00:00\", \"2013-12-01T00:00:00\", \"2014-01-01T00:00:00\", \"2014-02-01T00:00:00\", \"2014-03-01T00:00:00\", \"2014-04-01T00:00:00\", \"2014-05-01T00:00:00\", \"2014-06-01T00:00:00\", \"2014-07-01T00:00:00\", \"2014-08-01T00:00:00\", \"2014-09-01T00:00:00\", \"2014-10-01T00:00:00\", \"2014-11-01T00:00:00\", \"2014-12-01T00:00:00\", \"2015-01-01T00:00:00\", \"2015-02-01T00:00:00\", \"2015-03-01T00:00:00\", \"2015-04-01T00:00:00\", \"2015-05-01T00:00:00\", \"2015-06-01T00:00:00\", \"2015-07-01T00:00:00\", \"2015-08-01T00:00:00\", \"2015-09-01T00:00:00\", \"2015-10-01T00:00:00\", \"2015-11-01T00:00:00\", \"2015-12-01T00:00:00\", \"2016-01-01T00:00:00\", \"2016-02-01T00:00:00\", \"2016-03-01T00:00:00\", \"2016-04-01T00:00:00\", \"2016-05-01T00:00:00\", \"2016-06-01T00:00:00\", \"2016-07-01T00:00:00\", \"2016-08-01T00:00:00\", \"2016-09-01T00:00:00\", \"2016-10-01T00:00:00\", \"2016-11-01T00:00:00\", \"2016-12-01T00:00:00\", \"2017-01-01T00:00:00\", \"2017-02-01T00:00:00\", \"2017-03-01T00:00:00\", \"2017-04-01T00:00:00\", \"2017-05-01T00:00:00\", \"2017-06-01T00:00:00\", \"2017-07-01T00:00:00\", \"2017-08-01T00:00:00\", \"2017-09-01T00:00:00\", \"2017-10-01T00:00:00\", \"2017-11-01T00:00:00\", \"2017-12-01T00:00:00\", \"2018-01-01T00:00:00\", \"2018-02-01T00:00:00\", \"2018-03-01T00:00:00\", \"2018-04-01T00:00:00\", \"2018-05-01T00:00:00\", \"2018-06-01T00:00:00\", \"2018-07-01T00:00:00\", \"2018-08-01T00:00:00\", \"2018-09-01T00:00:00\", \"2018-10-01T00:00:00\", \"2018-11-01T00:00:00\", \"2018-12-01T00:00:00\"], \"y\": [null, null, null, null, null, null, null, null, null, null, null, null, null, null, null, null, null, null, null, null, null, null, null, null, null, null, null, null, null, null, null, null, null, null, null, 1075.6927385457268, 1100.5527811487564, 1090.932585808656, 1101.5465517933742, 1119.1614244468367, 1129.2269567043154, 1185.4512390220063, 1211.0849807523448, 1208.3213454993142, 1226.52645519579, 1206.9147869799203, 1273.4505236019204, 1277.2585570369704, 1243.8594740390852, 1266.7646270317043, 1312.5481621865922, 1367.9536014518667, 1407.7649255537851, 1428.9621114121426, 1469.4823835158327, 1508.6471371145965, 1515.8654317227522, 1405.5104282801797, 1437.27496396037, 1427.6452217021765, 1512.0731511217052, 1503.2516695175107, 1540.8116592944104, 1531.9995873328496, 1536.474297324208, 1617.7393017700392, 1680.0756851301132, 1728.0996199572937, 1700.7056057253815, 1592.8921831775888, 1703.0799924326323, 1698.7802338160673, 1721.5447157831748, 1656.9481807037591, 1544.9864803319197, 1737.7672430581656, 1837.5084100021038, 1923.8533906677526, 1936.7432083865979, 1910.984523717524, 1913.277705147143, 1935.2803987568702, 1981.9206563675307, 1986.4790738768907, 1993.8290464509046, 1988.4457080249324, 2043.1279649974301, 2009.2120407788489, 2050.400887615021, 2118.0641169001283, 2146.234369654164, 2137.8640556121236, 2048.073765272418, 2146.0832984828553, 2292.8726790735354, 2241.3150603568292, 2249.89237568803, 2253.16091000084, 2285.7864924744376, 2378.2027084703873, 2372.579057735934, 2335.8097501983425, 2289.3999309329593, 2475.7711702161873, 2544.160221074723, 2710.1216446451863, 2787.6184152968785, 2853.654106119491, 2971.2869164449817, 3051.9969934711803, 3141.520217516902, 3282.3922614745466, 3414.191606572038, 3423.773639031308, 3481.321457236558, 3543.2389772172132, 3682.064711722326, 3749.5392107381545, 3770.7213886357736, 3687.2560684057407, 3779.9489118732454, 3704.334285626213, 3707.022803423646, 3671.8201822746373, 3706.807595730386, 3742.8333691771354, 3725.990619007838, 3980.90549394113, 4129.813654301522, 4225.888719966954, 4323.5548792551945, 4407.691946474199, 4605.494031694121, 4665.238679641433, 4894.2629320024225, 4982.200315057729, 5252.177311043914, 5433.481572067097, 5298.820331923599, 5398.438154163896, 5211.524735636973, 5472.126596102103, 5717.840656745538, 5948.907365121659, 6143.478998514698, 6503.963264238473, 6845.158599466134, 6821.422143007735, 7087.079145754204, 7389.9027157959235, 7520.224374659624, 7969.737661140552, 7419.875528165539, 7716.1658327583145, 7713.479467597894, 7461.107834027388, 8080.172573747991, 8185.871866140843, 8220.968143992479, 7960.079870804493, 7879.059248406809, 8069.248137878198, 8195.447025863166, 8354.979668923823, 8170.536771862777, 7316.715679193414, 7201.111571461824, 7282.484132221144, 7876.734837410576, 8051.598350802155, 7992.016523006731, 8018.3901775327995, 8169.937751887982, 8468.95747360884, 8465.56989061939, 8451.178421804409, 8662.457882349705, 8820.11461580821, 8802.474386574982, 8911.6250689687, 9181.647308559086, 9099.930647512934, 9109.030578163172, 9374.103367988557, 9816.561046957871, 10055.10348039868, 10530.70987502464, 10572.832714525213, 10603.49392939713, 10588.64903789356, 10903.131914320507, 11381.779405354926, 10820.657680670742, 10942.93111246292, 10926.516715799386, 10417.341036840944, 10812.158262137833, 10846.75716857798, 10886.890170099405, 10333.836149441815, 10408.239769710623, 10622.487539155729, 11002.222336018265, 11080.354903849891, 11027.16920033511, 11633.663506412286, 11858.193212111048, 11893.76779175253, 12135.211277927317, 11788.144235360664, 12142.967376853176, 12569.18553177949, 12918.608889562263, 13050.37870024039, 13231.778964169425, 13690.921694248356, 13449.961472498515, 13449.961472500934, 13369.261703665146, 13501.617394475601, 13893.164298916006, 13927.89720965335, 14880.565378806956, 15087.405237571664, 15215.64818209249, 15170.001237556466, 15259.504244947808, 15648.621603194244, 16041.402005484955, 16864.32592836712, 17370.255706217344, 17510.95477739959, 17715.832948321193, 18213.647854167823, 18541.493515537513, 19199.716535394236, 19235.359609210624, 19074.852088650536, 18334.404875436237, 18530.516398248325, 18713.02939981812, 18331.691219229197, 17697.619155284523, 17880.215554475635, 17658.848238750616, 17405.075120983307, 17876.988965767927, 18314.798647309013, 18207.26063383975, 18143.346089503582, 17848.169811400458, 18026.129759831725, 18446.334308908838, 19075.899516043934, 19240.44838676439, 19609.334767158394, 19992.81440657927, 20401.952238033635, 20710.027209596556, 21151.312416191697, 21744.94392256862, 21421.644976193576, 21897.511341773745, 22116.508275657245, 22685.903239974014, 23008.71077456388, 23236.058718973956, 23396.177065655735, 24206.32711228515, 24136.579758941603, 23287.534489101126, 24051.25107112378, 24640.891632700957, 25127.934667857633, 25818.368521690998, 25924.864989788508, 26849.2777865125, 27138.88650182523, 26569.438530384148, 26407.630114576205, 27632.71182257833, 28817.572700471774, 29774.160741258303, 30023.107788160396, 31638.248368786994, 32050.530296220175, 33453.971503803004, 35582.069311212486, 34865.54016384469, 36186.40972020588, 38000.899980587, 38719.25122448046, 38017.13171288849, 38211.406128317874, 36811.1095618974, 36347.289581069475, 39376.419701805775, 39670.170063566125, 40397.559572346094, 41422.107000262826, 39535.473766909054, 38317.38620683766, 37842.518407637726, 40138.081575503405, 42365.12866785288, 42909.8885465014, 43596.842582565805, 43457.24317092406, 42293.59955638424, 43008.96772770631, 42325.96239478915, 41821.62048768978, 42226.2465363755, 41219.602148132835, 43063.16486010683, 43827.088601235635, 44497.667994975476, 44249.22383607244, 45653.11164052199, 48002.83157889958, 49112.47639850301, 48691.259138728696, 48455.1472051777, 51074.56510724443, 52289.572586086004, 52977.11054358134, 53076.07502726248, 54655.85995718833, 56833.943117863026, 57558.22347842345, 57974.38863585066, 58388.682360458675, 55303.64823918803, 56175.78820348711, 58232.4668545845, 60147.30252417422, 61122.50360965324, 61584.087069506204, 64693.03194918551, 67643.46389604086, 68250.03280655347, 66846.76085149708, 62188.69110017397, 63001.8054854352, 60180.6280356712, 61302.11489831061, 63333.261000220074, 63703.21465600334, 64146.859199483086, 63800.61822234299, 64413.49684264337, 68846.80418525945, 72614.5970552479, 74789.0847336632, 78676.79162897341, 80821.73794075931, 82190.01854828428, 86962.2611804102, 90381.67037514453, 92627.40037736803, 95654.89214024087, 97691.35796017009, 98248.05336838985, 94994.69884026458, 95578.530638972, 97308.28883664132, 96024.24000910993, 97445.02513885035, 99775.4630615448, 102156.5318182607, 107254.45508536717, 110051.6230048572, 107956.62199618925, 107375.01144910458, 104873.51275071315, 102213.53642840555, 105427.3926841435, 108013.21501663496, 112466.1413415593, 111082.67581799309, 111131.45013744877, 109675.50313791112, 111906.74721882145, 111880.95440126934, 115298.95025272212, 116148.69342361299, 118784.50217203339, 119299.86923001257, 118583.83144988658, 120143.73568199655, 122405.14225808762, 124500.83450925461, 124746.60883563329, 127940.05478208665, 130011.63224862384, 131682.32242742606, 131528.20698501007, 130821.39059303475, 130893.76399960389, 130188.92439780876, 131510.05569429483, 129506.86995660908, 122125.21285658132, 124656.01864959867, 125537.55772676048, 123612.98241457767, 117894.28357863448, 116704.88143423677, 113937.60552036052, 110467.21108022671, 109560.78197072868, 110884.49528566419, 111521.61076407485, 102718.83924704266, 104620.6022334081, 106976.70989289474, 99834.68128425659, 88689.15325019708, 85341.90634138731, 84576.82728190413, 82827.80083423432, 76194.68975177698, 77591.22892026568, 81689.58995542112, 84651.09742447478, 89578.60190658375, 94106.55683430634, 95087.24410805102, 97977.20044730545, 95372.14297541557, 98821.01434646013, 104442.85699457904, 100591.7441574671, 100832.64191627373, 105453.9619545858, 109350.55818019126, 102470.1777938603, 101363.49987364373, 107212.173816503, 106279.42790424539, 111540.25958558352, 114328.76607524106, 114214.43730917411, 118520.32159576289, 120712.94754527987, 124962.04329888722, 127723.70445579382, 131887.49722107046, 132256.78221328495, 131793.8834755305, 130357.33014561766, 130279.11574752591, 126110.18404360012, 134710.89859543197, 136111.89194081663, 139065.5199959468, 135769.6671722825, 137005.17114363477, 136621.55666447143, 138179.042410441, 136241.07640608886, 142246.8081862657, 146268.88031183297, 144243.7451658062, 148042.51563899103, 148630.07519194367, 145413.15703879722, 146303.98014998596, 153780.11353570723, 157163.276033585, 165414.34802587665, 172626.41359985527, 164668.2749768319, 164971.67847582325, 174704.00032225213, 166050.9324692314, 170178.0100562355, 176296.45406553854, 177060.68375439738, 180094.64633659954, 180523.1846207068, 187367.67750945746, 192236.4930895043, 194117.76502655612, 196867.85800440042, 205236.75637986898, 193210.396419857, 202206.3957885839, 200378.09952770115, 209322.923228044, 212383.62301941944, 216264.66689055046, 213562.39304794066, 223227.05375491214, 224443.32223399656, 224275.63040079767, 226428.79814345067, 227531.16774476063, 225743.29515864048, 215828.48728373347, 210675.2370281229, 218597.81806576517, 222295.81705428456, 219259.40265601827, 209838.697585062, 211864.92120866448, 222225.25509267207, 227311.8638185251, 228467.7982264092, 233746.4392661983, 241944.00459652435, 246183.0138399766, 244537.87648420827, 241624.4944131855, 248852.30771695427, 258033.27930338855, 257239.23696607535, 261248.02892614593, 262465.81246299023, 265713.17345578654, 263027.355951911, 262373.3535920446, 263595.8827098451, 259227.97722227528, 265029.4250563649, 268080.2372995368, 277770.0084966801, 277039.6079392679, 277036.95239090273, 264163.4530823494, 264764.64394747186, 263877.59168307646, 267652.3271918378, 279569.11000211677, 281561.1716460683, 289348.5601325082, 285937.35355698195, 282627.8025820051, 287633.35778260743, 265145.1062820969]}, {\"name\": \"GMV_Stat_Cov_wealth_index\", \"type\": \"scatter\", \"x\": [\"1974-01-01T00:00:00\", \"1974-02-01T00:00:00\", \"1974-03-01T00:00:00\", \"1974-04-01T00:00:00\", \"1974-05-01T00:00:00\", \"1974-06-01T00:00:00\", \"1974-07-01T00:00:00\", \"1974-08-01T00:00:00\", \"1974-09-01T00:00:00\", \"1974-10-01T00:00:00\", \"1974-11-01T00:00:00\", \"1974-12-01T00:00:00\", \"1975-01-01T00:00:00\", \"1975-02-01T00:00:00\", \"1975-03-01T00:00:00\", \"1975-04-01T00:00:00\", \"1975-05-01T00:00:00\", \"1975-06-01T00:00:00\", \"1975-07-01T00:00:00\", \"1975-08-01T00:00:00\", \"1975-09-01T00:00:00\", \"1975-10-01T00:00:00\", \"1975-11-01T00:00:00\", \"1975-12-01T00:00:00\", \"1976-01-01T00:00:00\", \"1976-02-01T00:00:00\", \"1976-03-01T00:00:00\", \"1976-04-01T00:00:00\", \"1976-05-01T00:00:00\", \"1976-06-01T00:00:00\", \"1976-07-01T00:00:00\", \"1976-08-01T00:00:00\", \"1976-09-01T00:00:00\", \"1976-10-01T00:00:00\", \"1976-11-01T00:00:00\", \"1976-12-01T00:00:00\", \"1977-01-01T00:00:00\", \"1977-02-01T00:00:00\", \"1977-03-01T00:00:00\", \"1977-04-01T00:00:00\", \"1977-05-01T00:00:00\", \"1977-06-01T00:00:00\", \"1977-07-01T00:00:00\", \"1977-08-01T00:00:00\", \"1977-09-01T00:00:00\", \"1977-10-01T00:00:00\", \"1977-11-01T00:00:00\", \"1977-12-01T00:00:00\", \"1978-01-01T00:00:00\", \"1978-02-01T00:00:00\", \"1978-03-01T00:00:00\", \"1978-04-01T00:00:00\", \"1978-05-01T00:00:00\", \"1978-06-01T00:00:00\", \"1978-07-01T00:00:00\", \"1978-08-01T00:00:00\", \"1978-09-01T00:00:00\", \"1978-10-01T00:00:00\", \"1978-11-01T00:00:00\", \"1978-12-01T00:00:00\", \"1979-01-01T00:00:00\", \"1979-02-01T00:00:00\", \"1979-03-01T00:00:00\", \"1979-04-01T00:00:00\", \"1979-05-01T00:00:00\", \"1979-06-01T00:00:00\", \"1979-07-01T00:00:00\", \"1979-08-01T00:00:00\", \"1979-09-01T00:00:00\", \"1979-10-01T00:00:00\", \"1979-11-01T00:00:00\", \"1979-12-01T00:00:00\", \"1980-01-01T00:00:00\", \"1980-02-01T00:00:00\", \"1980-03-01T00:00:00\", \"1980-04-01T00:00:00\", \"1980-05-01T00:00:00\", \"1980-06-01T00:00:00\", \"1980-07-01T00:00:00\", \"1980-08-01T00:00:00\", \"1980-09-01T00:00:00\", \"1980-10-01T00:00:00\", \"1980-11-01T00:00:00\", \"1980-12-01T00:00:00\", \"1981-01-01T00:00:00\", \"1981-02-01T00:00:00\", \"1981-03-01T00:00:00\", \"1981-04-01T00:00:00\", \"1981-05-01T00:00:00\", \"1981-06-01T00:00:00\", \"1981-07-01T00:00:00\", \"1981-08-01T00:00:00\", \"1981-09-01T00:00:00\", \"1981-10-01T00:00:00\", \"1981-11-01T00:00:00\", \"1981-12-01T00:00:00\", \"1982-01-01T00:00:00\", \"1982-02-01T00:00:00\", \"1982-03-01T00:00:00\", \"1982-04-01T00:00:00\", \"1982-05-01T00:00:00\", \"1982-06-01T00:00:00\", \"1982-07-01T00:00:00\", \"1982-08-01T00:00:00\", \"1982-09-01T00:00:00\", \"1982-10-01T00:00:00\", \"1982-11-01T00:00:00\", \"1982-12-01T00:00:00\", \"1983-01-01T00:00:00\", \"1983-02-01T00:00:00\", \"1983-03-01T00:00:00\", \"1983-04-01T00:00:00\", \"1983-05-01T00:00:00\", \"1983-06-01T00:00:00\", \"1983-07-01T00:00:00\", \"1983-08-01T00:00:00\", \"1983-09-01T00:00:00\", \"1983-10-01T00:00:00\", \"1983-11-01T00:00:00\", \"1983-12-01T00:00:00\", \"1984-01-01T00:00:00\", \"1984-02-01T00:00:00\", \"1984-03-01T00:00:00\", \"1984-04-01T00:00:00\", \"1984-05-01T00:00:00\", \"1984-06-01T00:00:00\", \"1984-07-01T00:00:00\", \"1984-08-01T00:00:00\", \"1984-09-01T00:00:00\", \"1984-10-01T00:00:00\", \"1984-11-01T00:00:00\", \"1984-12-01T00:00:00\", \"1985-01-01T00:00:00\", \"1985-02-01T00:00:00\", \"1985-03-01T00:00:00\", \"1985-04-01T00:00:00\", \"1985-05-01T00:00:00\", \"1985-06-01T00:00:00\", \"1985-07-01T00:00:00\", \"1985-08-01T00:00:00\", \"1985-09-01T00:00:00\", \"1985-10-01T00:00:00\", \"1985-11-01T00:00:00\", \"1985-12-01T00:00:00\", \"1986-01-01T00:00:00\", \"1986-02-01T00:00:00\", \"1986-03-01T00:00:00\", \"1986-04-01T00:00:00\", \"1986-05-01T00:00:00\", \"1986-06-01T00:00:00\", \"1986-07-01T00:00:00\", \"1986-08-01T00:00:00\", \"1986-09-01T00:00:00\", \"1986-10-01T00:00:00\", \"1986-11-01T00:00:00\", \"1986-12-01T00:00:00\", \"1987-01-01T00:00:00\", \"1987-02-01T00:00:00\", \"1987-03-01T00:00:00\", \"1987-04-01T00:00:00\", \"1987-05-01T00:00:00\", \"1987-06-01T00:00:00\", \"1987-07-01T00:00:00\", \"1987-08-01T00:00:00\", \"1987-09-01T00:00:00\", \"1987-10-01T00:00:00\", \"1987-11-01T00:00:00\", \"1987-12-01T00:00:00\", \"1988-01-01T00:00:00\", \"1988-02-01T00:00:00\", \"1988-03-01T00:00:00\", \"1988-04-01T00:00:00\", \"1988-05-01T00:00:00\", \"1988-06-01T00:00:00\", \"1988-07-01T00:00:00\", \"1988-08-01T00:00:00\", \"1988-09-01T00:00:00\", \"1988-10-01T00:00:00\", \"1988-11-01T00:00:00\", \"1988-12-01T00:00:00\", \"1989-01-01T00:00:00\", \"1989-02-01T00:00:00\", \"1989-03-01T00:00:00\", \"1989-04-01T00:00:00\", \"1989-05-01T00:00:00\", \"1989-06-01T00:00:00\", \"1989-07-01T00:00:00\", \"1989-08-01T00:00:00\", \"1989-09-01T00:00:00\", \"1989-10-01T00:00:00\", \"1989-11-01T00:00:00\", \"1989-12-01T00:00:00\", \"1990-01-01T00:00:00\", \"1990-02-01T00:00:00\", \"1990-03-01T00:00:00\", \"1990-04-01T00:00:00\", \"1990-05-01T00:00:00\", \"1990-06-01T00:00:00\", \"1990-07-01T00:00:00\", \"1990-08-01T00:00:00\", \"1990-09-01T00:00:00\", \"1990-10-01T00:00:00\", \"1990-11-01T00:00:00\", \"1990-12-01T00:00:00\", \"1991-01-01T00:00:00\", \"1991-02-01T00:00:00\", \"1991-03-01T00:00:00\", \"1991-04-01T00:00:00\", \"1991-05-01T00:00:00\", \"1991-06-01T00:00:00\", \"1991-07-01T00:00:00\", \"1991-08-01T00:00:00\", \"1991-09-01T00:00:00\", \"1991-10-01T00:00:00\", \"1991-11-01T00:00:00\", \"1991-12-01T00:00:00\", \"1992-01-01T00:00:00\", \"1992-02-01T00:00:00\", \"1992-03-01T00:00:00\", \"1992-04-01T00:00:00\", \"1992-05-01T00:00:00\", \"1992-06-01T00:00:00\", \"1992-07-01T00:00:00\", \"1992-08-01T00:00:00\", \"1992-09-01T00:00:00\", \"1992-10-01T00:00:00\", \"1992-11-01T00:00:00\", \"1992-12-01T00:00:00\", \"1993-01-01T00:00:00\", \"1993-02-01T00:00:00\", \"1993-03-01T00:00:00\", \"1993-04-01T00:00:00\", \"1993-05-01T00:00:00\", \"1993-06-01T00:00:00\", \"1993-07-01T00:00:00\", \"1993-08-01T00:00:00\", \"1993-09-01T00:00:00\", \"1993-10-01T00:00:00\", \"1993-11-01T00:00:00\", \"1993-12-01T00:00:00\", \"1994-01-01T00:00:00\", \"1994-02-01T00:00:00\", \"1994-03-01T00:00:00\", \"1994-04-01T00:00:00\", \"1994-05-01T00:00:00\", \"1994-06-01T00:00:00\", \"1994-07-01T00:00:00\", \"1994-08-01T00:00:00\", \"1994-09-01T00:00:00\", \"1994-10-01T00:00:00\", \"1994-11-01T00:00:00\", \"1994-12-01T00:00:00\", \"1995-01-01T00:00:00\", \"1995-02-01T00:00:00\", \"1995-03-01T00:00:00\", \"1995-04-01T00:00:00\", \"1995-05-01T00:00:00\", \"1995-06-01T00:00:00\", \"1995-07-01T00:00:00\", \"1995-08-01T00:00:00\", \"1995-09-01T00:00:00\", \"1995-10-01T00:00:00\", \"1995-11-01T00:00:00\", \"1995-12-01T00:00:00\", \"1996-01-01T00:00:00\", \"1996-02-01T00:00:00\", \"1996-03-01T00:00:00\", \"1996-04-01T00:00:00\", \"1996-05-01T00:00:00\", \"1996-06-01T00:00:00\", \"1996-07-01T00:00:00\", \"1996-08-01T00:00:00\", \"1996-09-01T00:00:00\", \"1996-10-01T00:00:00\", \"1996-11-01T00:00:00\", \"1996-12-01T00:00:00\", \"1997-01-01T00:00:00\", \"1997-02-01T00:00:00\", \"1997-03-01T00:00:00\", \"1997-04-01T00:00:00\", \"1997-05-01T00:00:00\", \"1997-06-01T00:00:00\", \"1997-07-01T00:00:00\", \"1997-08-01T00:00:00\", \"1997-09-01T00:00:00\", \"1997-10-01T00:00:00\", \"1997-11-01T00:00:00\", \"1997-12-01T00:00:00\", \"1998-01-01T00:00:00\", \"1998-02-01T00:00:00\", \"1998-03-01T00:00:00\", \"1998-04-01T00:00:00\", \"1998-05-01T00:00:00\", \"1998-06-01T00:00:00\", \"1998-07-01T00:00:00\", \"1998-08-01T00:00:00\", \"1998-09-01T00:00:00\", \"1998-10-01T00:00:00\", \"1998-11-01T00:00:00\", \"1998-12-01T00:00:00\", \"1999-01-01T00:00:00\", \"1999-02-01T00:00:00\", \"1999-03-01T00:00:00\", \"1999-04-01T00:00:00\", \"1999-05-01T00:00:00\", \"1999-06-01T00:00:00\", \"1999-07-01T00:00:00\", \"1999-08-01T00:00:00\", \"1999-09-01T00:00:00\", \"1999-10-01T00:00:00\", \"1999-11-01T00:00:00\", \"1999-12-01T00:00:00\", \"2000-01-01T00:00:00\", \"2000-02-01T00:00:00\", \"2000-03-01T00:00:00\", \"2000-04-01T00:00:00\", \"2000-05-01T00:00:00\", \"2000-06-01T00:00:00\", \"2000-07-01T00:00:00\", \"2000-08-01T00:00:00\", \"2000-09-01T00:00:00\", \"2000-10-01T00:00:00\", \"2000-11-01T00:00:00\", \"2000-12-01T00:00:00\", \"2001-01-01T00:00:00\", \"2001-02-01T00:00:00\", \"2001-03-01T00:00:00\", \"2001-04-01T00:00:00\", \"2001-05-01T00:00:00\", \"2001-06-01T00:00:00\", \"2001-07-01T00:00:00\", \"2001-08-01T00:00:00\", \"2001-09-01T00:00:00\", \"2001-10-01T00:00:00\", \"2001-11-01T00:00:00\", \"2001-12-01T00:00:00\", \"2002-01-01T00:00:00\", \"2002-02-01T00:00:00\", \"2002-03-01T00:00:00\", \"2002-04-01T00:00:00\", \"2002-05-01T00:00:00\", \"2002-06-01T00:00:00\", \"2002-07-01T00:00:00\", \"2002-08-01T00:00:00\", \"2002-09-01T00:00:00\", \"2002-10-01T00:00:00\", \"2002-11-01T00:00:00\", \"2002-12-01T00:00:00\", \"2003-01-01T00:00:00\", \"2003-02-01T00:00:00\", \"2003-03-01T00:00:00\", \"2003-04-01T00:00:00\", \"2003-05-01T00:00:00\", \"2003-06-01T00:00:00\", \"2003-07-01T00:00:00\", \"2003-08-01T00:00:00\", \"2003-09-01T00:00:00\", \"2003-10-01T00:00:00\", \"2003-11-01T00:00:00\", \"2003-12-01T00:00:00\", \"2004-01-01T00:00:00\", \"2004-02-01T00:00:00\", \"2004-03-01T00:00:00\", \"2004-04-01T00:00:00\", \"2004-05-01T00:00:00\", \"2004-06-01T00:00:00\", \"2004-07-01T00:00:00\", \"2004-08-01T00:00:00\", \"2004-09-01T00:00:00\", \"2004-10-01T00:00:00\", \"2004-11-01T00:00:00\", \"2004-12-01T00:00:00\", \"2005-01-01T00:00:00\", \"2005-02-01T00:00:00\", \"2005-03-01T00:00:00\", \"2005-04-01T00:00:00\", \"2005-05-01T00:00:00\", \"2005-06-01T00:00:00\", \"2005-07-01T00:00:00\", \"2005-08-01T00:00:00\", \"2005-09-01T00:00:00\", \"2005-10-01T00:00:00\", \"2005-11-01T00:00:00\", \"2005-12-01T00:00:00\", \"2006-01-01T00:00:00\", \"2006-02-01T00:00:00\", \"2006-03-01T00:00:00\", \"2006-04-01T00:00:00\", \"2006-05-01T00:00:00\", \"2006-06-01T00:00:00\", \"2006-07-01T00:00:00\", \"2006-08-01T00:00:00\", \"2006-09-01T00:00:00\", \"2006-10-01T00:00:00\", \"2006-11-01T00:00:00\", \"2006-12-01T00:00:00\", \"2007-01-01T00:00:00\", \"2007-02-01T00:00:00\", \"2007-03-01T00:00:00\", \"2007-04-01T00:00:00\", \"2007-05-01T00:00:00\", \"2007-06-01T00:00:00\", \"2007-07-01T00:00:00\", \"2007-08-01T00:00:00\", \"2007-09-01T00:00:00\", \"2007-10-01T00:00:00\", \"2007-11-01T00:00:00\", \"2007-12-01T00:00:00\", \"2008-01-01T00:00:00\", \"2008-02-01T00:00:00\", \"2008-03-01T00:00:00\", \"2008-04-01T00:00:00\", \"2008-05-01T00:00:00\", \"2008-06-01T00:00:00\", \"2008-07-01T00:00:00\", \"2008-08-01T00:00:00\", \"2008-09-01T00:00:00\", \"2008-10-01T00:00:00\", \"2008-11-01T00:00:00\", \"2008-12-01T00:00:00\", \"2009-01-01T00:00:00\", \"2009-02-01T00:00:00\", \"2009-03-01T00:00:00\", \"2009-04-01T00:00:00\", \"2009-05-01T00:00:00\", \"2009-06-01T00:00:00\", \"2009-07-01T00:00:00\", \"2009-08-01T00:00:00\", \"2009-09-01T00:00:00\", \"2009-10-01T00:00:00\", \"2009-11-01T00:00:00\", \"2009-12-01T00:00:00\", \"2010-01-01T00:00:00\", \"2010-02-01T00:00:00\", \"2010-03-01T00:00:00\", \"2010-04-01T00:00:00\", \"2010-05-01T00:00:00\", \"2010-06-01T00:00:00\", \"2010-07-01T00:00:00\", \"2010-08-01T00:00:00\", \"2010-09-01T00:00:00\", \"2010-10-01T00:00:00\", \"2010-11-01T00:00:00\", \"2010-12-01T00:00:00\", \"2011-01-01T00:00:00\", \"2011-02-01T00:00:00\", \"2011-03-01T00:00:00\", \"2011-04-01T00:00:00\", \"2011-05-01T00:00:00\", \"2011-06-01T00:00:00\", \"2011-07-01T00:00:00\", \"2011-08-01T00:00:00\", \"2011-09-01T00:00:00\", \"2011-10-01T00:00:00\", \"2011-11-01T00:00:00\", \"2011-12-01T00:00:00\", \"2012-01-01T00:00:00\", \"2012-02-01T00:00:00\", \"2012-03-01T00:00:00\", \"2012-04-01T00:00:00\", \"2012-05-01T00:00:00\", \"2012-06-01T00:00:00\", \"2012-07-01T00:00:00\", \"2012-08-01T00:00:00\", \"2012-09-01T00:00:00\", \"2012-10-01T00:00:00\", \"2012-11-01T00:00:00\", \"2012-12-01T00:00:00\", \"2013-01-01T00:00:00\", \"2013-02-01T00:00:00\", \"2013-03-01T00:00:00\", \"2013-04-01T00:00:00\", \"2013-05-01T00:00:00\", \"2013-06-01T00:00:00\", \"2013-07-01T00:00:00\", \"2013-08-01T00:00:00\", \"2013-09-01T00:00:00\", \"2013-10-01T00:00:00\", \"2013-11-01T00:00:00\", \"2013-12-01T00:00:00\", \"2014-01-01T00:00:00\", \"2014-02-01T00:00:00\", \"2014-03-01T00:00:00\", \"2014-04-01T00:00:00\", \"2014-05-01T00:00:00\", \"2014-06-01T00:00:00\", \"2014-07-01T00:00:00\", \"2014-08-01T00:00:00\", \"2014-09-01T00:00:00\", \"2014-10-01T00:00:00\", \"2014-11-01T00:00:00\", \"2014-12-01T00:00:00\", \"2015-01-01T00:00:00\", \"2015-02-01T00:00:00\", \"2015-03-01T00:00:00\", \"2015-04-01T00:00:00\", \"2015-05-01T00:00:00\", \"2015-06-01T00:00:00\", \"2015-07-01T00:00:00\", \"2015-08-01T00:00:00\", \"2015-09-01T00:00:00\", \"2015-10-01T00:00:00\", \"2015-11-01T00:00:00\", \"2015-12-01T00:00:00\", \"2016-01-01T00:00:00\", \"2016-02-01T00:00:00\", \"2016-03-01T00:00:00\", \"2016-04-01T00:00:00\", \"2016-05-01T00:00:00\", \"2016-06-01T00:00:00\", \"2016-07-01T00:00:00\", \"2016-08-01T00:00:00\", \"2016-09-01T00:00:00\", \"2016-10-01T00:00:00\", \"2016-11-01T00:00:00\", \"2016-12-01T00:00:00\", \"2017-01-01T00:00:00\", \"2017-02-01T00:00:00\", \"2017-03-01T00:00:00\", \"2017-04-01T00:00:00\", \"2017-05-01T00:00:00\", \"2017-06-01T00:00:00\", \"2017-07-01T00:00:00\", \"2017-08-01T00:00:00\", \"2017-09-01T00:00:00\", \"2017-10-01T00:00:00\", \"2017-11-01T00:00:00\", \"2017-12-01T00:00:00\", \"2018-01-01T00:00:00\", \"2018-02-01T00:00:00\", \"2018-03-01T00:00:00\", \"2018-04-01T00:00:00\", \"2018-05-01T00:00:00\", \"2018-06-01T00:00:00\", \"2018-07-01T00:00:00\", \"2018-08-01T00:00:00\", \"2018-09-01T00:00:00\", \"2018-10-01T00:00:00\", \"2018-11-01T00:00:00\", \"2018-12-01T00:00:00\"], \"y\": [null, null, null, null, null, null, null, null, null, null, null, null, null, null, null, null, null, null, null, null, null, null, null, null, null, null, null, null, null, null, null, null, null, null, null, 1077.465999980909, 1103.9717227381625, 1092.7449742762135, 1102.9509858928802, 1121.1992842087648, 1132.083217729525, 1189.1425136842572, 1216.1348934781986, 1214.5508268520541, 1233.6687978323228, 1213.2568691178767, 1282.0710455345545, 1286.0620850405387, 1252.011308197328, 1275.9056623741546, 1320.9070745476672, 1378.5678008664672, 1416.1700812828876, 1437.6017860277793, 1476.896101032608, 1516.9001681606242, 1521.0848785125959, 1403.9070138412656, 1438.8019135849293, 1432.0797805799043, 1510.396074134783, 1504.4212305605497, 1541.467452721359, 1534.959141509852, 1535.1040274035772, 1614.1504601568452, 1676.554463460196, 1730.973922947007, 1699.5779050260105, 1595.661780272124, 1706.390314903634, 1707.9903534379944, 1732.6100059046037, 1670.5364367558195, 1555.6861504657793, 1748.9926514874746, 1854.3116349991699, 1939.9334893633813, 1965.5800997139377, 1946.7307662382077, 1950.7255473719795, 1976.1704161638954, 2024.0710881589732, 2027.8772704412024, 2039.2932291391346, 2036.4079380576543, 2093.273989279514, 2063.666218211439, 2106.7429650504496, 2175.038120325761, 2201.6891726116714, 2193.1025848383047, 2100.992276273465, 2204.8148046222686, 2347.294331916959, 2293.5071843052406, 2300.2151424692183, 2297.026820784079, 2332.0038166519894, 2427.2515269950854, 2422.9204681062115, 2386.714664184188, 2340.9874401322772, 2528.3186999384584, 2605.8070242769263, 2782.258857453107, 2882.799131578493, 2947.5384778244265, 3071.878947262301, 3171.0913359686683, 3262.2813990582554, 3414.5212167963227, 3553.0898832554903, 3582.296048464634, 3635.3983852322453, 3685.34239079017, 3832.009902140887, 3886.13331615601, 3912.0462778678047, 3835.256129719449, 3942.959413126682, 3854.7212530239444, 3864.062862224577, 3835.1659645505783, 3857.891185812467, 3898.6442724398935, 3872.0682501300616, 4135.0534220444215, 4283.618366421524, 4372.071313918371, 4457.727127710213, 4535.890671756442, 4745.502261376248, 4814.96865225472, 5037.034173572719, 5106.182497931894, 5391.850305528554, 5563.931000803299, 5454.498210805875, 5554.71581699531, 5374.314545899268, 5575.982890783418, 5868.620008150361, 6109.43091161402, 6291.0343653748205, 6658.5271079770055, 7015.0118076161225, 6980.797508075307, 7186.542591949299, 7479.955057892137, 7540.562451957758, 7964.51204133337, 7569.9864301023745, 7804.731705512872, 7802.481933813563, 7597.8087639055175, 8189.711065212999, 8339.289582973683, 8331.6771231817, 8116.308522142541, 8078.838484716016, 8302.50052190015, 8487.65447213853, 8625.960876176292, 8435.182632567365, 7510.713085316261, 7386.646462460838, 7493.657691624208, 8092.7449706311045, 8299.294504091205, 8253.036963538998, 8279.82502614117, 8416.506230331004, 8733.162321219268, 8728.807735592389, 8713.3057114874, 8931.13835427449, 9093.685072322236, 9075.497702176923, 9188.033873684897, 9466.431300060221, 9382.180061489702, 9391.562241551297, 9664.856702780891, 10121.03793915306, 10366.9791610743, 10857.337275395032, 10900.766624496835, 10932.37884770785, 10917.073517320823, 11241.310600785222, 11734.804136159553, 11156.278292244297, 11282.344236947696, 11265.420720595328, 10740.452115016524, 11147.515250177294, 11183.187298977953, 11224.565091981975, 10654.35718530813, 10731.068557041786, 10725.313277400708, 11028.349355110247, 11010.692896521505, 10989.028014252794, 11638.418178502247, 11858.812556411036, 11917.332007712635, 12145.644115197578, 11780.860589987069, 12162.340962136816, 12584.752649968992, 12912.21516970722, 13042.6369062725, 13174.164851407484, 13552.431620080748, 13453.464485583963, 13500.625298978039, 13372.087515074081, 13469.109570553646, 13846.809616608723, 13828.532471019424, 14717.90574759902, 14904.780781387522, 15067.375502697949, 15035.708571116827, 15181.258257659108, 15536.743463355147, 15970.209040856938, 16755.95242224241, 17221.92408779158, 17364.69516424595, 17596.660905217414, 18060.066286561298, 18399.957006901284, 19016.646328400093, 19073.309728224507, 19075.02533617335, 18574.141446455807, 18831.818822587546, 19106.71800931181, 18745.074913469292, 18087.660959839766, 18259.54690561835, 18048.23435598485, 17732.24451509108, 18249.818879771665, 18741.800207009197, 18712.114796550624, 18642.223414377844, 18379.253752516568, 18587.097077925133, 18993.73424078317, 19686.818948213317, 19788.363083105654, 20107.63466597437, 20556.633920156666, 20910.710080500514, 21165.2147967027, 21543.1236089271, 22176.91899599407, 21942.903731026883, 22443.97821576466, 22653.72122239948, 23175.07464415891, 23417.18507362548, 23575.015310343777, 23823.823899912135, 24807.849958107716, 24760.041307009964, 23775.45133116144, 24592.91262763279, 25159.601578334954, 25580.905007810365, 26258.104679268414, 26350.37552518808, 27258.965270297835, 27505.143514282212, 26950.398521906158, 26791.33259246291, 28014.643174167348, 29212.059549817277, 30157.0016108845, 30419.145291170003, 31997.33914540273, 32391.709390302614, 33766.573188065246, 35683.73516377193, 35270.29478259364, 36512.93844295558, 38306.80007339555, 38749.124525261075, 38329.0910249106, 38470.611285279076, 36829.69615416408, 35963.5047789672, 38581.62669728583, 39076.158680686756, 39885.22783575508, 40879.980158392085, 39365.174006033674, 38151.61545446957, 37916.97145947557, 40098.70943700262, 42224.27699831011, 42829.83022517035, 43673.250563458074, 43534.05422395551, 42466.96176818943, 43103.25785663201, 42342.062450993224, 41947.69391384668, 42662.328241193, 41729.37340500845, 43347.32460215185, 44466.074171778775, 44856.38758291697, 44616.88809264881, 46227.616687237496, 48427.61236523228, 49438.22749216682, 48907.65542330975, 48894.361120359696, 51281.16676152691, 52066.91732673042, 52848.32432111016, 52959.602791802936, 54494.74149004307, 56111.2983488794, 56116.68406681111, 56203.77891310258, 56784.33778586806, 53939.70165445545, 55001.11333594564, 56242.38507587846, 58300.30298068039, 58658.36338126702, 59560.47632941757, 62857.4464203541, 65134.0120765568, 65612.67013526293, 64069.025334133614, 59433.866789320826, 60901.16970093447, 58286.51826799462, 59965.48222277653, 61781.46504745483, 62135.59837749411, 62658.05548963166, 62092.53207248361, 62418.57172360005, 66433.23192028991, 69778.51086623088, 71253.70671739952, 74751.95424725987, 76764.20648163815, 77839.92360528695, 82169.49340238738, 85608.20047493058, 87633.91106556766, 90018.8454900525, 92246.95452549982, 92981.47419326687, 89906.56234673236, 91240.34573483795, 92773.26010873372, 91738.30553563092, 93284.78932385682, 95577.55140070863, 98098.15103060575, 102966.19961926248, 105676.8198240127, 103927.48613027834, 104125.0326407172, 102028.6582706611, 99353.38469332227, 102521.92600247891, 105187.799429785, 109211.06592696003, 107746.42891196889, 107711.50076454946, 105993.00146096073, 108083.0054477498, 108570.3655310071, 111981.13828068733, 112991.43309544383, 115669.78489982877, 116649.06606165708, 115950.57770824422, 117640.85837249245, 120118.00593210083, 122071.18198067634, 122034.38457072983, 125209.88811621568, 127214.55786823791, 128889.36037167034, 129016.00972206691, 128641.4078838892, 129222.38561908256, 128584.93187545286, 129733.78263766889, 127604.99347018395, 120842.53137885962, 123483.37933926238, 124355.76928261605, 123476.86855062348, 118207.46810839864, 117322.71177626854, 114827.741974897, 111956.66735034352, 112307.62550355651, 113839.16456758848, 114824.81554631825, 105544.0921755353, 107027.31524365174, 108501.81260976828, 102150.48879771988, 91062.69149994738, 86689.3234716102, 85522.46562422925, 82115.45115935306, 76663.58507697165, 78265.08505884353, 83583.44870515943, 87503.73606118138, 91232.69761397557, 96280.33445764262, 97582.01717393652, 100562.8582963817, 97819.75011163503, 100598.66655883698, 105774.749146997, 102449.83082585801, 103046.31766473083, 108273.08394161434, 113558.25968875166, 106394.94938283923, 104780.75805660797, 110473.66160378451, 109101.57181353845, 114697.39573847823, 117768.82084408286, 117807.08771966831, 122766.0953611044, 124144.03857941841, 128356.05348271724, 131015.27080296153, 135211.93117983543, 135392.73400225723, 134786.36062220953, 133185.43420626034, 132588.73436994056, 128345.8948700799, 137320.22362283108, 138651.15393391965, 141629.7865801111, 139481.68016572777, 140750.96345532744, 140356.86075770253, 141964.2853784406, 139937.21757093462, 146148.25444404013, 149814.62697825953, 148792.97030985774, 152443.37909721828, 152837.066973244, 150654.9258022341, 151408.58930951654, 159348.50658397068, 162964.8649104206, 171832.75423991846, 178699.93327720635, 172902.19333681476, 173532.55266170044, 183611.3431916454, 175206.55343991515, 179524.10346395057, 186051.69703306223, 187621.62882091766, 190910.97466051736, 190873.60460889956, 198624.34861558193, 203178.66878398333, 204153.12310266675, 206920.97611902386, 214810.16754607888, 202880.73007355674, 212718.40316201694, 211327.6658937901, 221907.38105666428, 225888.70121813624, 229418.53587025605, 229700.61207209958, 238572.4548340906, 238432.02483920852, 239620.20973991806, 243164.0714973739, 244319.69835872878, 247500.33742062774, 237804.03652286058, 236432.73861586646, 246946.51595699834, 251057.40222661826, 250495.91775045556, 245611.41397626206, 246343.91364449987, 257600.83176724397, 261469.2500480619, 263116.064854231, 270874.51808510936, 279126.4690640674, 283391.36039945873, 280920.28702004603, 280499.27924662974, 290459.53765464784, 299914.6281014986, 301888.67408178205, 309598.64019579464, 313182.0604971759, 316088.28616527043, 316620.7162640052, 317689.6682992717, 317849.95070509904, 314526.96844853886, 321169.0253445922, 324697.7894795953, 336009.94459695905, 337692.0577745527, 337930.9412785644, 323315.1903763289, 325691.7411299814, 325777.91187372064, 331960.96827457513, 344776.5863208329, 348194.56220533047, 357170.2317532901, 356169.4415932574, 352424.67923271196, 356831.6129664414, 329336.00012312096]}],\n                        {\"template\": {\"data\": {\"bar\": [{\"error_x\": {\"color\": \"#2a3f5f\"}, \"error_y\": {\"color\": \"#2a3f5f\"}, \"marker\": {\"line\": {\"color\": \"#E5ECF6\", \"width\": 0.5}}, \"type\": \"bar\"}], \"barpolar\": [{\"marker\": {\"line\": {\"color\": \"#E5ECF6\", \"width\": 0.5}}, \"type\": \"barpolar\"}], \"carpet\": [{\"aaxis\": {\"endlinecolor\": \"#2a3f5f\", \"gridcolor\": \"white\", \"linecolor\": \"white\", \"minorgridcolor\": \"white\", \"startlinecolor\": \"#2a3f5f\"}, \"baxis\": {\"endlinecolor\": \"#2a3f5f\", \"gridcolor\": \"white\", \"linecolor\": \"white\", \"minorgridcolor\": \"white\", \"startlinecolor\": \"#2a3f5f\"}, \"type\": \"carpet\"}], \"choropleth\": [{\"colorbar\": {\"outlinewidth\": 0, \"ticks\": \"\"}, \"type\": \"choropleth\"}], \"contour\": [{\"colorbar\": {\"outlinewidth\": 0, \"ticks\": \"\"}, \"colorscale\": [[0.0, \"#0d0887\"], [0.1111111111111111, \"#46039f\"], [0.2222222222222222, \"#7201a8\"], [0.3333333333333333, \"#9c179e\"], [0.4444444444444444, \"#bd3786\"], [0.5555555555555556, \"#d8576b\"], [0.6666666666666666, \"#ed7953\"], [0.7777777777777778, \"#fb9f3a\"], [0.8888888888888888, \"#fdca26\"], [1.0, \"#f0f921\"]], \"type\": \"contour\"}], \"contourcarpet\": [{\"colorbar\": {\"outlinewidth\": 0, \"ticks\": \"\"}, \"type\": \"contourcarpet\"}], \"heatmap\": [{\"colorbar\": {\"outlinewidth\": 0, \"ticks\": \"\"}, \"colorscale\": [[0.0, \"#0d0887\"], [0.1111111111111111, \"#46039f\"], [0.2222222222222222, \"#7201a8\"], [0.3333333333333333, \"#9c179e\"], [0.4444444444444444, \"#bd3786\"], [0.5555555555555556, \"#d8576b\"], [0.6666666666666666, \"#ed7953\"], [0.7777777777777778, \"#fb9f3a\"], [0.8888888888888888, \"#fdca26\"], [1.0, \"#f0f921\"]], \"type\": \"heatmap\"}], \"heatmapgl\": [{\"colorbar\": {\"outlinewidth\": 0, \"ticks\": \"\"}, \"colorscale\": [[0.0, \"#0d0887\"], [0.1111111111111111, \"#46039f\"], [0.2222222222222222, \"#7201a8\"], [0.3333333333333333, \"#9c179e\"], [0.4444444444444444, \"#bd3786\"], [0.5555555555555556, \"#d8576b\"], [0.6666666666666666, \"#ed7953\"], [0.7777777777777778, \"#fb9f3a\"], [0.8888888888888888, \"#fdca26\"], [1.0, \"#f0f921\"]], \"type\": \"heatmapgl\"}], \"histogram\": [{\"marker\": {\"colorbar\": {\"outlinewidth\": 0, \"ticks\": \"\"}}, \"type\": \"histogram\"}], \"histogram2d\": [{\"colorbar\": {\"outlinewidth\": 0, \"ticks\": \"\"}, \"colorscale\": [[0.0, \"#0d0887\"], [0.1111111111111111, \"#46039f\"], [0.2222222222222222, \"#7201a8\"], [0.3333333333333333, \"#9c179e\"], [0.4444444444444444, \"#bd3786\"], [0.5555555555555556, \"#d8576b\"], [0.6666666666666666, \"#ed7953\"], [0.7777777777777778, \"#fb9f3a\"], [0.8888888888888888, \"#fdca26\"], [1.0, \"#f0f921\"]], \"type\": \"histogram2d\"}], \"histogram2dcontour\": [{\"colorbar\": {\"outlinewidth\": 0, \"ticks\": \"\"}, \"colorscale\": [[0.0, \"#0d0887\"], [0.1111111111111111, \"#46039f\"], [0.2222222222222222, \"#7201a8\"], [0.3333333333333333, \"#9c179e\"], [0.4444444444444444, \"#bd3786\"], [0.5555555555555556, \"#d8576b\"], [0.6666666666666666, \"#ed7953\"], [0.7777777777777778, \"#fb9f3a\"], [0.8888888888888888, \"#fdca26\"], [1.0, \"#f0f921\"]], \"type\": \"histogram2dcontour\"}], \"mesh3d\": [{\"colorbar\": {\"outlinewidth\": 0, \"ticks\": \"\"}, \"type\": \"mesh3d\"}], \"parcoords\": [{\"line\": {\"colorbar\": {\"outlinewidth\": 0, \"ticks\": \"\"}}, \"type\": \"parcoords\"}], \"pie\": [{\"automargin\": true, \"type\": \"pie\"}], \"scatter\": [{\"marker\": {\"colorbar\": {\"outlinewidth\": 0, \"ticks\": \"\"}}, \"type\": \"scatter\"}], \"scatter3d\": [{\"line\": {\"colorbar\": {\"outlinewidth\": 0, \"ticks\": \"\"}}, \"marker\": {\"colorbar\": {\"outlinewidth\": 0, \"ticks\": \"\"}}, \"type\": \"scatter3d\"}], \"scattercarpet\": [{\"marker\": {\"colorbar\": {\"outlinewidth\": 0, \"ticks\": \"\"}}, \"type\": \"scattercarpet\"}], \"scattergeo\": [{\"marker\": {\"colorbar\": {\"outlinewidth\": 0, \"ticks\": \"\"}}, \"type\": \"scattergeo\"}], \"scattergl\": [{\"marker\": {\"colorbar\": {\"outlinewidth\": 0, \"ticks\": \"\"}}, \"type\": \"scattergl\"}], \"scattermapbox\": [{\"marker\": {\"colorbar\": {\"outlinewidth\": 0, \"ticks\": \"\"}}, \"type\": \"scattermapbox\"}], \"scatterpolar\": [{\"marker\": {\"colorbar\": {\"outlinewidth\": 0, \"ticks\": \"\"}}, \"type\": \"scatterpolar\"}], \"scatterpolargl\": [{\"marker\": {\"colorbar\": {\"outlinewidth\": 0, \"ticks\": \"\"}}, \"type\": \"scatterpolargl\"}], \"scatterternary\": [{\"marker\": {\"colorbar\": {\"outlinewidth\": 0, \"ticks\": \"\"}}, \"type\": \"scatterternary\"}], \"surface\": [{\"colorbar\": {\"outlinewidth\": 0, \"ticks\": \"\"}, \"colorscale\": [[0.0, \"#0d0887\"], [0.1111111111111111, \"#46039f\"], [0.2222222222222222, \"#7201a8\"], [0.3333333333333333, \"#9c179e\"], [0.4444444444444444, \"#bd3786\"], [0.5555555555555556, \"#d8576b\"], [0.6666666666666666, \"#ed7953\"], [0.7777777777777778, \"#fb9f3a\"], [0.8888888888888888, \"#fdca26\"], [1.0, \"#f0f921\"]], \"type\": \"surface\"}], \"table\": [{\"cells\": {\"fill\": {\"color\": \"#EBF0F8\"}, \"line\": {\"color\": \"white\"}}, \"header\": {\"fill\": {\"color\": \"#C8D4E3\"}, \"line\": {\"color\": \"white\"}}, \"type\": \"table\"}]}, \"layout\": {\"annotationdefaults\": {\"arrowcolor\": \"#2a3f5f\", \"arrowhead\": 0, \"arrowwidth\": 1}, \"coloraxis\": {\"colorbar\": {\"outlinewidth\": 0, \"ticks\": \"\"}}, \"colorscale\": {\"diverging\": [[0, \"#8e0152\"], [0.1, \"#c51b7d\"], [0.2, \"#de77ae\"], [0.3, \"#f1b6da\"], [0.4, \"#fde0ef\"], [0.5, \"#f7f7f7\"], [0.6, \"#e6f5d0\"], [0.7, \"#b8e186\"], [0.8, \"#7fbc41\"], [0.9, \"#4d9221\"], [1, \"#276419\"]], \"sequential\": [[0.0, \"#0d0887\"], [0.1111111111111111, \"#46039f\"], [0.2222222222222222, \"#7201a8\"], [0.3333333333333333, \"#9c179e\"], [0.4444444444444444, \"#bd3786\"], [0.5555555555555556, \"#d8576b\"], [0.6666666666666666, \"#ed7953\"], [0.7777777777777778, \"#fb9f3a\"], [0.8888888888888888, \"#fdca26\"], [1.0, \"#f0f921\"]], \"sequentialminus\": [[0.0, \"#0d0887\"], [0.1111111111111111, \"#46039f\"], [0.2222222222222222, \"#7201a8\"], [0.3333333333333333, \"#9c179e\"], [0.4444444444444444, \"#bd3786\"], [0.5555555555555556, \"#d8576b\"], [0.6666666666666666, \"#ed7953\"], [0.7777777777777778, \"#fb9f3a\"], [0.8888888888888888, \"#fdca26\"], [1.0, \"#f0f921\"]]}, \"colorway\": [\"#636efa\", \"#EF553B\", \"#00cc96\", \"#ab63fa\", \"#FFA15A\", \"#19d3f3\", \"#FF6692\", \"#B6E880\", \"#FF97FF\", \"#FECB52\"], \"font\": {\"color\": \"#2a3f5f\"}, \"geo\": {\"bgcolor\": \"white\", \"lakecolor\": \"white\", \"landcolor\": \"#E5ECF6\", \"showlakes\": true, \"showland\": true, \"subunitcolor\": \"white\"}, \"hoverlabel\": {\"align\": \"left\"}, \"hovermode\": \"closest\", \"mapbox\": {\"style\": \"light\"}, \"paper_bgcolor\": \"white\", \"plot_bgcolor\": \"#E5ECF6\", \"polar\": {\"angularaxis\": {\"gridcolor\": \"white\", \"linecolor\": \"white\", \"ticks\": \"\"}, \"bgcolor\": \"#E5ECF6\", \"radialaxis\": {\"gridcolor\": \"white\", \"linecolor\": \"white\", \"ticks\": \"\"}}, \"scene\": {\"xaxis\": {\"backgroundcolor\": \"#E5ECF6\", \"gridcolor\": \"white\", \"gridwidth\": 2, \"linecolor\": \"white\", \"showbackground\": true, \"ticks\": \"\", \"zerolinecolor\": \"white\"}, \"yaxis\": {\"backgroundcolor\": \"#E5ECF6\", \"gridcolor\": \"white\", \"gridwidth\": 2, \"linecolor\": \"white\", \"showbackground\": true, \"ticks\": \"\", \"zerolinecolor\": \"white\"}, \"zaxis\": {\"backgroundcolor\": \"#E5ECF6\", \"gridcolor\": \"white\", \"gridwidth\": 2, \"linecolor\": \"white\", \"showbackground\": true, \"ticks\": \"\", \"zerolinecolor\": \"white\"}}, \"shapedefaults\": {\"line\": {\"color\": \"#2a3f5f\"}}, \"ternary\": {\"aaxis\": {\"gridcolor\": \"white\", \"linecolor\": \"white\", \"ticks\": \"\"}, \"baxis\": {\"gridcolor\": \"white\", \"linecolor\": \"white\", \"ticks\": \"\"}, \"bgcolor\": \"#E5ECF6\", \"caxis\": {\"gridcolor\": \"white\", \"linecolor\": \"white\", \"ticks\": \"\"}}, \"title\": {\"x\": 0.05}, \"xaxis\": {\"automargin\": true, \"gridcolor\": \"white\", \"linecolor\": \"white\", \"ticks\": \"\", \"title\": {\"standoff\": 15}, \"zerolinecolor\": \"white\", \"zerolinewidth\": 2}, \"yaxis\": {\"automargin\": true, \"gridcolor\": \"white\", \"linecolor\": \"white\", \"ticks\": \"\", \"title\": {\"standoff\": 15}, \"zerolinecolor\": \"white\", \"zerolinewidth\": 2}}}},\n                        {\"responsive\": true}\n                    ).then(function(){\n                            \nvar gd = document.getElementById('ec5989fb-653f-451c-aba9-4245a65c8344');\nvar x = new MutationObserver(function (mutations, observer) {{\n        var display = window.getComputedStyle(gd).display;\n        if (!display || display === 'none') {{\n            console.log([gd, 'removed!']);\n            Plotly.purge(gd);\n            observer.disconnect();\n        }}\n}});\n\n// Listen for the removal of the full notebook cells\nvar notebookContainer = gd.closest('#notebook-container');\nif (notebookContainer) {{\n    x.observe(notebookContainer, {childList: true});\n}}\n\n// Listen for the clearing of the current output cell\nvar outputEl = gd.closest('.output');\nif (outputEl) {{\n    x.observe(outputEl, {childList: true});\n}}\n\n                        })\n                };\n                });\n            </script>\n        </div>"
     },
     "metadata": {},
     "output_type": "display_data"
    },
    {
     "data": {
      "text/plain": "              GMV_Const_Cov  GMV_Stat_Cov  GMV_Sample_Cov\nann_ret            0.141794      0.147691        0.159488\nann_vol            0.102668      0.099442        0.097030\nsharpe_ratio       1.088885      1.183516        1.334516\nsemi_dev           0.021709      0.021724        0.021077\nKurtosis           1.458269      1.718804        2.054815\nSkew              -0.500369     -0.525175       -0.530828\nVaR               -0.042145     -0.040089       -0.037836\nCVaR              -0.061776     -0.060219       -0.057669\nDrawdown          -0.421375     -0.409070       -0.332092",
      "text/html": "<div>\n<style scoped>\n    .dataframe tbody tr th:only-of-type {\n        vertical-align: middle;\n    }\n\n    .dataframe tbody tr th {\n        vertical-align: top;\n    }\n\n    .dataframe thead th {\n        text-align: right;\n    }\n</style>\n<table border=\"1\" class=\"dataframe\">\n  <thead>\n    <tr style=\"text-align: right;\">\n      <th></th>\n      <th>GMV_Const_Cov</th>\n      <th>GMV_Stat_Cov</th>\n      <th>GMV_Sample_Cov</th>\n    </tr>\n  </thead>\n  <tbody>\n    <tr>\n      <th>ann_ret</th>\n      <td>0.141794</td>\n      <td>0.147691</td>\n      <td>0.159488</td>\n    </tr>\n    <tr>\n      <th>ann_vol</th>\n      <td>0.102668</td>\n      <td>0.099442</td>\n      <td>0.097030</td>\n    </tr>\n    <tr>\n      <th>sharpe_ratio</th>\n      <td>1.088885</td>\n      <td>1.183516</td>\n      <td>1.334516</td>\n    </tr>\n    <tr>\n      <th>semi_dev</th>\n      <td>0.021709</td>\n      <td>0.021724</td>\n      <td>0.021077</td>\n    </tr>\n    <tr>\n      <th>Kurtosis</th>\n      <td>1.458269</td>\n      <td>1.718804</td>\n      <td>2.054815</td>\n    </tr>\n    <tr>\n      <th>Skew</th>\n      <td>-0.500369</td>\n      <td>-0.525175</td>\n      <td>-0.530828</td>\n    </tr>\n    <tr>\n      <th>VaR</th>\n      <td>-0.042145</td>\n      <td>-0.040089</td>\n      <td>-0.037836</td>\n    </tr>\n    <tr>\n      <th>CVaR</th>\n      <td>-0.061776</td>\n      <td>-0.060219</td>\n      <td>-0.057669</td>\n    </tr>\n    <tr>\n      <th>Drawdown</th>\n      <td>-0.421375</td>\n      <td>-0.409070</td>\n      <td>-0.332092</td>\n    </tr>\n  </tbody>\n</table>\n</div>"
     },
     "execution_count": 7,
     "metadata": {},
     "output_type": "execute_result"
    }
   ],
   "source": [
    "plot_wealth_index(btr)\n",
    "\n"
   ],
   "metadata": {
    "collapsed": false,
    "pycharm": {
     "name": "#%%\n"
    }
   }
  },
  {
   "cell_type": "markdown",
   "source": [
    "PLOT STACKED BAR CHART WRT WEIGHTS UNDER EACH WEIGHTING SCHEME\n",
    "\n",
    "\n"
   ],
   "metadata": {
    "collapsed": false,
    "pycharm": {
     "name": "#%% md\n"
    }
   }
  },
  {
   "cell_type": "code",
   "execution_count": 3,
   "outputs": [],
   "source": [
    "r = ind_ew_74['1974':]\n",
    "cap_wts = ind_mkt_wts_74['1974':]\n",
    "wts = {\n",
    "    'EW': erk.weight_ew(r),\n",
    "    'EWT': erk.weight_ew(r, cap_wts=cap_wts, max_cw_mult=5, microcap_threshold=0.005),\n",
    "    'CW': erk.weight_cw(r, cap_wts=cap_wts),\n",
    "    'GMV_S_COV': erk.weight_gmv(r, cov_estimator=erk.sample_cov),\n",
    "    'GMV_C_COV': erk.weight_gmv(r, cov_estimator=erk.cc_cov),\n",
    "    'GMV_SHRINK_0.5': erk.weight_gmv(r, cov_estimator=erk.stat_shrinkage_cov)\n",
    "}\n",
    "wts = pd.DataFrame(wts)"
   ],
   "metadata": {
    "collapsed": false,
    "pycharm": {
     "name": "#%%\n"
    }
   }
  },
  {
   "cell_type": "code",
   "execution_count": 4,
   "outputs": [
    {
     "data": {
      "application/vnd.plotly.v1+json": {
       "config": {
        "linkText": "Export to plot.ly",
        "plotlyServerURL": "https://plot.ly",
        "showLink": false
       },
       "data": [
        {
         "name": "Agric",
         "type": "bar",
         "x": [
          "EW",
          "EWT",
          "CW",
          "GMV_S_COV",
          "GMV_C_COV",
          "GMV_SHRINK_0.5"
         ],
         "y": [
          0.02040816326530612,
          0.0,
          7.569480375776954E-4,
          0.0,
          5.945650787832405E-13,
          3.09019234738847E-12
         ]
        },
        {
         "name": "Food",
         "type": "bar",
         "x": [
          "EW",
          "EWT",
          "CW",
          "GMV_S_COV",
          "GMV_C_COV",
          "GMV_SHRINK_0.5"
         ],
         "y": [
          0.02040816326530612,
          0.03145561164994753,
          0.02387411159455578,
          0.22186273037638213,
          0.2223182508787364,
          0.2372923908544742
         ]
        },
        {
         "name": "Soda",
         "type": "bar",
         "x": [
          "EW",
          "EWT",
          "CW",
          "GMV_S_COV",
          "GMV_C_COV",
          "GMV_SHRINK_0.5"
         ],
         "y": [
          0.02040816326530612,
          0.03145561164994753,
          0.014288316416927122,
          0.015540589247849713,
          0.0,
          3.5493481932451407E-12
         ]
        },
        {
         "name": "Beer",
         "type": "bar",
         "x": [
          "EW",
          "EWT",
          "CW",
          "GMV_S_COV",
          "GMV_C_COV",
          "GMV_SHRINK_0.5"
         ],
         "y": [
          0.02040816326530612,
          0.03137942096164296,
          0.0062348614674162806,
          0.019933554552812607,
          0.0,
          1.1295848336438154E-11
         ]
        },
        {
         "name": "Smoke",
         "type": "bar",
         "x": [
          "EW",
          "EWT",
          "CW",
          "GMV_S_COV",
          "GMV_C_COV",
          "GMV_SHRINK_0.5"
         ],
         "y": [
          0.02040816326530612,
          0.03145561164994753,
          0.008434537498504374,
          0.004728862667347399,
          1.4640581004267996E-12,
          0.0
         ]
        },
        {
         "name": "Toys",
         "type": "bar",
         "x": [
          "EW",
          "EWT",
          "CW",
          "GMV_S_COV",
          "GMV_C_COV",
          "GMV_SHRINK_0.5"
         ],
         "y": [
          0.02040816326530612,
          0.0,
          0.004557023221214928,
          0.0,
          4.582052767614387E-13,
          0.0
         ]
        },
        {
         "name": "Fun",
         "type": "bar",
         "x": [
          "EW",
          "EWT",
          "CW",
          "GMV_S_COV",
          "GMV_C_COV",
          "GMV_SHRINK_0.5"
         ],
         "y": [
          0.02040816326530612,
          0.0,
          0.0029182338817140105,
          2.2297772842707271E-13,
          0.0,
          0.0
         ]
        },
        {
         "name": "Books",
         "type": "bar",
         "x": [
          "EW",
          "EWT",
          "CW",
          "GMV_S_COV",
          "GMV_C_COV",
          "GMV_SHRINK_0.5"
         ],
         "y": [
          0.02040816326530612,
          0.03145561164994753,
          0.006313512605406028,
          0.0,
          0.0,
          4.3950748907871396E-13
         ]
        },
        {
         "name": "Hshld",
         "type": "bar",
         "x": [
          "EW",
          "EWT",
          "CW",
          "GMV_S_COV",
          "GMV_C_COV",
          "GMV_SHRINK_0.5"
         ],
         "y": [
          0.02040816326530612,
          0.03145561164994753,
          0.08797070499375703,
          0.0,
          0.0,
          4.40162211678896E-12
         ]
        },
        {
         "name": "Clths",
         "type": "bar",
         "x": [
          "EW",
          "EWT",
          "CW",
          "GMV_S_COV",
          "GMV_C_COV",
          "GMV_SHRINK_0.5"
         ],
         "y": [
          0.02040816326530612,
          0.0,
          0.0034528244809347657,
          0.0,
          0.0,
          2.4835976132631964E-12
         ]
        },
        {
         "name": "Hlth",
         "type": "bar",
         "x": [
          "EW",
          "EWT",
          "CW",
          "GMV_S_COV",
          "GMV_C_COV",
          "GMV_SHRINK_0.5"
         ],
         "y": [
          0.02040816326530612,
          0.0,
          5.688176773610168E-4,
          1.1216700343045417E-12,
          1.6833356886028704E-13,
          0.0
         ]
        },
        {
         "name": "MedEq",
         "type": "bar",
         "x": [
          "EW",
          "EWT",
          "CW",
          "GMV_S_COV",
          "GMV_C_COV",
          "GMV_SHRINK_0.5"
         ],
         "y": [
          0.02040816326530612,
          0.03145561164994753,
          0.013566596711507648,
          0.0,
          0.0,
          1.988450157682505E-12
         ]
        },
        {
         "name": "Drugs",
         "type": "bar",
         "x": [
          "EW",
          "EWT",
          "CW",
          "GMV_S_COV",
          "GMV_C_COV",
          "GMV_SHRINK_0.5"
         ],
         "y": [
          0.02040816326530612,
          0.03145561164994753,
          0.054545341485192224,
          5.749139871510125E-13,
          3.138905245745102E-12,
          0.0
         ]
        },
        {
         "name": "Chems",
         "type": "bar",
         "x": [
          "EW",
          "EWT",
          "CW",
          "GMV_S_COV",
          "GMV_C_COV",
          "GMV_SHRINK_0.5"
         ],
         "y": [
          0.02040816326530612,
          0.03145561164994753,
          0.03994638600919303,
          1.8976429451545836E-13,
          0.0,
          3.6036514615926466E-12
         ]
        },
        {
         "name": "Rubbr",
         "type": "bar",
         "x": [
          "EW",
          "EWT",
          "CW",
          "GMV_S_COV",
          "GMV_C_COV",
          "GMV_SHRINK_0.5"
         ],
         "y": [
          0.02040816326530612,
          0.0,
          0.00101629917701926,
          4.772489793339658E-13,
          0.0,
          0.0
         ]
        },
        {
         "name": "Txtls",
         "type": "bar",
         "x": [
          "EW",
          "EWT",
          "CW",
          "GMV_S_COV",
          "GMV_C_COV",
          "GMV_SHRINK_0.5"
         ],
         "y": [
          0.02040816326530612,
          0.0,
          0.003284442538782849,
          8.869061560574649E-13,
          7.386291314995133E-13,
          0.0
         ]
        },
        {
         "name": "BldMt",
         "type": "bar",
         "x": [
          "EW",
          "EWT",
          "CW",
          "GMV_S_COV",
          "GMV_C_COV",
          "GMV_SHRINK_0.5"
         ],
         "y": [
          0.02040816326530612,
          0.03145561164994753,
          0.020239625381336154,
          6.279722127139809E-13,
          0.0,
          8.443717695271189E-15
         ]
        },
        {
         "name": "Cnstr",
         "type": "bar",
         "x": [
          "EW",
          "EWT",
          "CW",
          "GMV_S_COV",
          "GMV_C_COV",
          "GMV_SHRINK_0.5"
         ],
         "y": [
          0.02040816326530612,
          0.0,
          0.00360867757346721,
          2.159142686566032E-12,
          1.4563515856943823E-12,
          0.0
         ]
        },
        {
         "name": "Steel",
         "type": "bar",
         "x": [
          "EW",
          "EWT",
          "CW",
          "GMV_S_COV",
          "GMV_C_COV",
          "GMV_SHRINK_0.5"
         ],
         "y": [
          0.02040816326530612,
          0.03145561164994753,
          0.019814369085997624,
          7.985591881109544E-13,
          7.805251102114688E-13,
          0.0
         ]
        },
        {
         "name": "FabPr",
         "type": "bar",
         "x": [
          "EW",
          "EWT",
          "CW",
          "GMV_S_COV",
          "GMV_C_COV",
          "GMV_SHRINK_0.5"
         ],
         "y": [
          0.02040816326530612,
          0.0,
          0.0027154008967072885,
          3.71216096075267E-13,
          3.6811649970826783E-13,
          0.0
         ]
        },
        {
         "name": "Mach",
         "type": "bar",
         "x": [
          "EW",
          "EWT",
          "CW",
          "GMV_S_COV",
          "GMV_C_COV",
          "GMV_SHRINK_0.5"
         ],
         "y": [
          0.02040816326530612,
          0.03145561164994753,
          0.02847981420519652,
          2.147286799091702E-13,
          0.0,
          1.744060288139511E-12
         ]
        },
        {
         "name": "ElcEq",
         "type": "bar",
         "x": [
          "EW",
          "EWT",
          "CW",
          "GMV_S_COV",
          "GMV_C_COV",
          "GMV_SHRINK_0.5"
         ],
         "y": [
          0.02040816326530612,
          0.03145561164994753,
          0.010061680672849021,
          4.686537496360282E-13,
          0.0,
          0.0
         ]
        },
        {
         "name": "Autos",
         "type": "bar",
         "x": [
          "EW",
          "EWT",
          "CW",
          "GMV_S_COV",
          "GMV_C_COV",
          "GMV_SHRINK_0.5"
         ],
         "y": [
          0.02040816326530612,
          0.03145561164994753,
          0.03641002268973348,
          1.1599340176068527E-12,
          1.9566616828798825E-13,
          0.0
         ]
        },
        {
         "name": "Aero",
         "type": "bar",
         "x": [
          "EW",
          "EWT",
          "CW",
          "GMV_S_COV",
          "GMV_C_COV",
          "GMV_SHRINK_0.5"
         ],
         "y": [
          0.02040816326530612,
          0.0,
          0.0036874472810117147,
          7.419680215058936E-13,
          0.0,
          0.0
         ]
        },
        {
         "name": "Ships",
         "type": "bar",
         "x": [
          "EW",
          "EWT",
          "CW",
          "GMV_S_COV",
          "GMV_C_COV",
          "GMV_SHRINK_0.5"
         ],
         "y": [
          0.02040816326530612,
          0.0,
          0.002248223676564177,
          5.874157407262468E-13,
          2.310864522720352E-12,
          0.0
         ]
        },
        {
         "name": "Guns",
         "type": "bar",
         "x": [
          "EW",
          "EWT",
          "CW",
          "GMV_S_COV",
          "GMV_C_COV",
          "GMV_SHRINK_0.5"
         ],
         "y": [
          0.02040816326530612,
          0.0,
          6.528439684998108E-4,
          0.0,
          1.0188209934354491E-13,
          0.0
         ]
        },
        {
         "name": "Gold",
         "type": "bar",
         "x": [
          "EW",
          "EWT",
          "CW",
          "GMV_S_COV",
          "GMV_C_COV",
          "GMV_SHRINK_0.5"
         ],
         "y": [
          0.02040816326530612,
          0.0,
          0.0026144586824229615,
          0.00228056032107088,
          1.120867625198744E-11,
          0.0
         ]
        },
        {
         "name": "Mines",
         "type": "bar",
         "x": [
          "EW",
          "EWT",
          "CW",
          "GMV_S_COV",
          "GMV_C_COV",
          "GMV_SHRINK_0.5"
         ],
         "y": [
          0.02040816326530612,
          0.03145561164994753,
          0.008855090534837486,
          5.035896634721798E-13,
          3.418595821905426E-12,
          0.0
         ]
        },
        {
         "name": "Coal",
         "type": "bar",
         "x": [
          "EW",
          "EWT",
          "CW",
          "GMV_S_COV",
          "GMV_C_COV",
          "GMV_SHRINK_0.5"
         ],
         "y": [
          0.02040816326530612,
          0.0,
          0.0010592213558418045,
          1.2489481668827452E-12,
          9.796991938948956E-12,
          0.0
         ]
        },
        {
         "name": "Oil",
         "type": "bar",
         "x": [
          "EW",
          "EWT",
          "CW",
          "GMV_S_COV",
          "GMV_C_COV",
          "GMV_SHRINK_0.5"
         ],
         "y": [
          0.02040816326530612,
          0.03145561164994753,
          0.14337724350394954,
          1.7731762533914595E-12,
          2.96779111822025E-12,
          0.0
         ]
        },
        {
         "name": "Util",
         "type": "bar",
         "x": [
          "EW",
          "EWT",
          "CW",
          "GMV_S_COV",
          "GMV_C_COV",
          "GMV_SHRINK_0.5"
         ],
         "y": [
          0.02040816326530612,
          0.03145561164994753,
          0.0589685523766648,
          0.7166186800937031,
          0.7698170429126329,
          0.7437813626157088
         ]
        },
        {
         "name": "Telcm",
         "type": "bar",
         "x": [
          "EW",
          "EWT",
          "CW",
          "GMV_S_COV",
          "GMV_C_COV",
          "GMV_SHRINK_0.5"
         ],
         "y": [
          0.02040816326530612,
          0.03145561164994753,
          0.049462159277539365,
          2.1982698702605112E-13,
          1.1074675797010493E-12,
          0.0
         ]
        },
        {
         "name": "PerSv",
         "type": "bar",
         "x": [
          "EW",
          "EWT",
          "CW",
          "GMV_S_COV",
          "GMV_C_COV",
          "GMV_SHRINK_0.5"
         ],
         "y": [
          0.02040816326530612,
          0.0,
          0.001208408204517832,
          7.899413359315752E-14,
          0.0,
          2.2918805200522903E-12
         ]
        },
        {
         "name": "BusSv",
         "type": "bar",
         "x": [
          "EW",
          "EWT",
          "CW",
          "GMV_S_COV",
          "GMV_C_COV",
          "GMV_SHRINK_0.5"
         ],
         "y": [
          0.02040816326530612,
          0.03145561164994753,
          0.00860103550217513,
          0.0,
          0.0,
          2.9609436158310597E-12
         ]
        },
        {
         "name": "Hardw",
         "type": "bar",
         "x": [
          "EW",
          "EWT",
          "CW",
          "GMV_S_COV",
          "GMV_C_COV",
          "GMV_SHRINK_0.5"
         ],
         "y": [
          0.02040816326530612,
          0.03145561164994753,
          0.06148459832863827,
          3.7798465227795325E-13,
          4.176848679648782E-12,
          0.0
         ]
        },
        {
         "name": "Softw",
         "type": "bar",
         "x": [
          "EW",
          "EWT",
          "CW",
          "GMV_S_COV",
          "GMV_C_COV",
          "GMV_SHRINK_0.5"
         ],
         "y": [
          0.02040816326530612,
          0.0,
          5.782241953718508E-5,
          0.0,
          4.280455460610595E-12,
          0.0
         ]
        },
        {
         "name": "Chips",
         "type": "bar",
         "x": [
          "EW",
          "EWT",
          "CW",
          "GMV_S_COV",
          "GMV_C_COV",
          "GMV_SHRINK_0.5"
         ],
         "y": [
          0.02040816326530612,
          0.03145561164994753,
          0.019349168025100484,
          9.155215125077491E-13,
          3.2665224573865624E-12,
          0.0
         ]
        },
        {
         "name": "LabEq",
         "type": "bar",
         "x": [
          "EW",
          "EWT",
          "CW",
          "GMV_S_COV",
          "GMV_C_COV",
          "GMV_SHRINK_0.5"
         ],
         "y": [
          0.02040816326530612,
          0.0300277857022842,
          0.005966301425888481,
          2.5697897452911552E-14,
          3.2291066839910545E-13,
          0.0
         ]
        },
        {
         "name": "Paper",
         "type": "bar",
         "x": [
          "EW",
          "EWT",
          "CW",
          "GMV_S_COV",
          "GMV_C_COV",
          "GMV_SHRINK_0.5"
         ],
         "y": [
          0.02040816326530612,
          0.03145561164994753,
          0.010838443000466345,
          0.0,
          0.0,
          4.866562975554142E-12
         ]
        },
        {
         "name": "Boxes",
         "type": "bar",
         "x": [
          "EW",
          "EWT",
          "CW",
          "GMV_S_COV",
          "GMV_C_COV",
          "GMV_SHRINK_0.5"
         ],
         "y": [
          0.02040816326530612,
          0.03145561164994753,
          0.016799935772189623,
          0.0,
          0.0,
          5.027430468530979E-12
         ]
        },
        {
         "name": "Trans",
         "type": "bar",
         "x": [
          "EW",
          "EWT",
          "CW",
          "GMV_S_COV",
          "GMV_C_COV",
          "GMV_SHRINK_0.5"
         ],
         "y": [
          0.02040816326530612,
          0.03145561164994753,
          0.01433010559778198,
          0.0,
          0.0,
          4.623654109798115E-12
         ]
        },
        {
         "name": "Whlsl",
         "type": "bar",
         "x": [
          "EW",
          "EWT",
          "CW",
          "GMV_S_COV",
          "GMV_C_COV",
          "GMV_SHRINK_0.5"
         ],
         "y": [
          0.02040816326530612,
          0.026567639221556354,
          0.005278795624214295,
          0.0,
          0.0,
          6.7881247999825726E-12
         ]
        },
        {
         "name": "Rtail",
         "type": "bar",
         "x": [
          "EW",
          "EWT",
          "CW",
          "GMV_S_COV",
          "GMV_C_COV",
          "GMV_SHRINK_0.5"
         ],
         "y": [
          0.02040816326530612,
          0.03145561164994753,
          0.046935837297486814,
          7.351830744738625E-14,
          0.0,
          1.8124604670168452E-12
         ]
        },
        {
         "name": "Meals",
         "type": "bar",
         "x": [
          "EW",
          "EWT",
          "CW",
          "GMV_S_COV",
          "GMV_C_COV",
          "GMV_SHRINK_0.5"
         ],
         "y": [
          0.02040816326530612,
          0.031268027915985735,
          0.006212728483861379,
          0.0,
          0.0,
          5.416934805892055E-12
         ]
        },
        {
         "name": "Banks",
         "type": "bar",
         "x": [
          "EW",
          "EWT",
          "CW",
          "GMV_S_COV",
          "GMV_C_COV",
          "GMV_SHRINK_0.5"
         ],
         "y": [
          0.02040816326530612,
          0.03145561164994753,
          0.031837374636080384,
          0.019035022731437985,
          0.007864706195361207,
          0.01892624668900697
         ]
        },
        {
         "name": "Insur",
         "type": "bar",
         "x": [
          "EW",
          "EWT",
          "CW",
          "GMV_S_COV",
          "GMV_C_COV",
          "GMV_SHRINK_0.5"
         ],
         "y": [
          0.02040816326530612,
          0.03145561164994753,
          0.020093060237259784,
          0.0,
          0.0,
          1.0783842429797526E-11
         ]
        },
        {
         "name": "RlEst",
         "type": "bar",
         "x": [
          "EW",
          "EWT",
          "CW",
          "GMV_S_COV",
          "GMV_C_COV",
          "GMV_SHRINK_0.5"
         ],
         "y": [
          0.02040816326530612,
          0.0,
          0.0018070922352829949,
          1.1027407552746077E-12,
          5.557832482734551E-13,
          0.0
         ]
        },
        {
         "name": "Fin",
         "type": "bar",
         "x": [
          "EW",
          "EWT",
          "CW",
          "GMV_S_COV",
          "GMV_C_COV",
          "GMV_SHRINK_0.5"
         ],
         "y": [
          0.02040816326530612,
          0.03145561164994753,
          0.040328957264818534,
          0.0,
          0.0,
          1.2787463944223227E-11
         ]
        },
        {
         "name": "Other",
         "type": "bar",
         "x": [
          "EW",
          "EWT",
          "CW",
          "GMV_S_COV",
          "GMV_C_COV",
          "GMV_SHRINK_0.5"
         ],
         "y": [
          0.02040816326530612,
          0.03145561164994753,
          0.04488654698501731,
          0.0,
          0.0,
          7.345098760046193E-12
         ]
        }
       ],
       "layout": {
        "barmode": "stack",
        "template": {
         "data": {
          "bar": [
           {
            "error_x": {
             "color": "#2a3f5f"
            },
            "error_y": {
             "color": "#2a3f5f"
            },
            "marker": {
             "line": {
              "color": "#E5ECF6",
              "width": 0.5
             }
            },
            "type": "bar"
           }
          ],
          "barpolar": [
           {
            "marker": {
             "line": {
              "color": "#E5ECF6",
              "width": 0.5
             }
            },
            "type": "barpolar"
           }
          ],
          "carpet": [
           {
            "aaxis": {
             "endlinecolor": "#2a3f5f",
             "gridcolor": "white",
             "linecolor": "white",
             "minorgridcolor": "white",
             "startlinecolor": "#2a3f5f"
            },
            "baxis": {
             "endlinecolor": "#2a3f5f",
             "gridcolor": "white",
             "linecolor": "white",
             "minorgridcolor": "white",
             "startlinecolor": "#2a3f5f"
            },
            "type": "carpet"
           }
          ],
          "choropleth": [
           {
            "colorbar": {
             "outlinewidth": 0,
             "ticks": ""
            },
            "type": "choropleth"
           }
          ],
          "contour": [
           {
            "colorbar": {
             "outlinewidth": 0,
             "ticks": ""
            },
            "colorscale": [
             [
              0.0,
              "#0d0887"
             ],
             [
              0.1111111111111111,
              "#46039f"
             ],
             [
              0.2222222222222222,
              "#7201a8"
             ],
             [
              0.3333333333333333,
              "#9c179e"
             ],
             [
              0.4444444444444444,
              "#bd3786"
             ],
             [
              0.5555555555555556,
              "#d8576b"
             ],
             [
              0.6666666666666666,
              "#ed7953"
             ],
             [
              0.7777777777777778,
              "#fb9f3a"
             ],
             [
              0.8888888888888888,
              "#fdca26"
             ],
             [
              1.0,
              "#f0f921"
             ]
            ],
            "type": "contour"
           }
          ],
          "contourcarpet": [
           {
            "colorbar": {
             "outlinewidth": 0,
             "ticks": ""
            },
            "type": "contourcarpet"
           }
          ],
          "heatmap": [
           {
            "colorbar": {
             "outlinewidth": 0,
             "ticks": ""
            },
            "colorscale": [
             [
              0.0,
              "#0d0887"
             ],
             [
              0.1111111111111111,
              "#46039f"
             ],
             [
              0.2222222222222222,
              "#7201a8"
             ],
             [
              0.3333333333333333,
              "#9c179e"
             ],
             [
              0.4444444444444444,
              "#bd3786"
             ],
             [
              0.5555555555555556,
              "#d8576b"
             ],
             [
              0.6666666666666666,
              "#ed7953"
             ],
             [
              0.7777777777777778,
              "#fb9f3a"
             ],
             [
              0.8888888888888888,
              "#fdca26"
             ],
             [
              1.0,
              "#f0f921"
             ]
            ],
            "type": "heatmap"
           }
          ],
          "heatmapgl": [
           {
            "colorbar": {
             "outlinewidth": 0,
             "ticks": ""
            },
            "colorscale": [
             [
              0.0,
              "#0d0887"
             ],
             [
              0.1111111111111111,
              "#46039f"
             ],
             [
              0.2222222222222222,
              "#7201a8"
             ],
             [
              0.3333333333333333,
              "#9c179e"
             ],
             [
              0.4444444444444444,
              "#bd3786"
             ],
             [
              0.5555555555555556,
              "#d8576b"
             ],
             [
              0.6666666666666666,
              "#ed7953"
             ],
             [
              0.7777777777777778,
              "#fb9f3a"
             ],
             [
              0.8888888888888888,
              "#fdca26"
             ],
             [
              1.0,
              "#f0f921"
             ]
            ],
            "type": "heatmapgl"
           }
          ],
          "histogram": [
           {
            "marker": {
             "colorbar": {
              "outlinewidth": 0,
              "ticks": ""
             }
            },
            "type": "histogram"
           }
          ],
          "histogram2d": [
           {
            "colorbar": {
             "outlinewidth": 0,
             "ticks": ""
            },
            "colorscale": [
             [
              0.0,
              "#0d0887"
             ],
             [
              0.1111111111111111,
              "#46039f"
             ],
             [
              0.2222222222222222,
              "#7201a8"
             ],
             [
              0.3333333333333333,
              "#9c179e"
             ],
             [
              0.4444444444444444,
              "#bd3786"
             ],
             [
              0.5555555555555556,
              "#d8576b"
             ],
             [
              0.6666666666666666,
              "#ed7953"
             ],
             [
              0.7777777777777778,
              "#fb9f3a"
             ],
             [
              0.8888888888888888,
              "#fdca26"
             ],
             [
              1.0,
              "#f0f921"
             ]
            ],
            "type": "histogram2d"
           }
          ],
          "histogram2dcontour": [
           {
            "colorbar": {
             "outlinewidth": 0,
             "ticks": ""
            },
            "colorscale": [
             [
              0.0,
              "#0d0887"
             ],
             [
              0.1111111111111111,
              "#46039f"
             ],
             [
              0.2222222222222222,
              "#7201a8"
             ],
             [
              0.3333333333333333,
              "#9c179e"
             ],
             [
              0.4444444444444444,
              "#bd3786"
             ],
             [
              0.5555555555555556,
              "#d8576b"
             ],
             [
              0.6666666666666666,
              "#ed7953"
             ],
             [
              0.7777777777777778,
              "#fb9f3a"
             ],
             [
              0.8888888888888888,
              "#fdca26"
             ],
             [
              1.0,
              "#f0f921"
             ]
            ],
            "type": "histogram2dcontour"
           }
          ],
          "mesh3d": [
           {
            "colorbar": {
             "outlinewidth": 0,
             "ticks": ""
            },
            "type": "mesh3d"
           }
          ],
          "parcoords": [
           {
            "line": {
             "colorbar": {
              "outlinewidth": 0,
              "ticks": ""
             }
            },
            "type": "parcoords"
           }
          ],
          "pie": [
           {
            "automargin": true,
            "type": "pie"
           }
          ],
          "scatter": [
           {
            "marker": {
             "colorbar": {
              "outlinewidth": 0,
              "ticks": ""
             }
            },
            "type": "scatter"
           }
          ],
          "scatter3d": [
           {
            "line": {
             "colorbar": {
              "outlinewidth": 0,
              "ticks": ""
             }
            },
            "marker": {
             "colorbar": {
              "outlinewidth": 0,
              "ticks": ""
             }
            },
            "type": "scatter3d"
           }
          ],
          "scattercarpet": [
           {
            "marker": {
             "colorbar": {
              "outlinewidth": 0,
              "ticks": ""
             }
            },
            "type": "scattercarpet"
           }
          ],
          "scattergeo": [
           {
            "marker": {
             "colorbar": {
              "outlinewidth": 0,
              "ticks": ""
             }
            },
            "type": "scattergeo"
           }
          ],
          "scattergl": [
           {
            "marker": {
             "colorbar": {
              "outlinewidth": 0,
              "ticks": ""
             }
            },
            "type": "scattergl"
           }
          ],
          "scattermapbox": [
           {
            "marker": {
             "colorbar": {
              "outlinewidth": 0,
              "ticks": ""
             }
            },
            "type": "scattermapbox"
           }
          ],
          "scatterpolar": [
           {
            "marker": {
             "colorbar": {
              "outlinewidth": 0,
              "ticks": ""
             }
            },
            "type": "scatterpolar"
           }
          ],
          "scatterpolargl": [
           {
            "marker": {
             "colorbar": {
              "outlinewidth": 0,
              "ticks": ""
             }
            },
            "type": "scatterpolargl"
           }
          ],
          "scatterternary": [
           {
            "marker": {
             "colorbar": {
              "outlinewidth": 0,
              "ticks": ""
             }
            },
            "type": "scatterternary"
           }
          ],
          "surface": [
           {
            "colorbar": {
             "outlinewidth": 0,
             "ticks": ""
            },
            "colorscale": [
             [
              0.0,
              "#0d0887"
             ],
             [
              0.1111111111111111,
              "#46039f"
             ],
             [
              0.2222222222222222,
              "#7201a8"
             ],
             [
              0.3333333333333333,
              "#9c179e"
             ],
             [
              0.4444444444444444,
              "#bd3786"
             ],
             [
              0.5555555555555556,
              "#d8576b"
             ],
             [
              0.6666666666666666,
              "#ed7953"
             ],
             [
              0.7777777777777778,
              "#fb9f3a"
             ],
             [
              0.8888888888888888,
              "#fdca26"
             ],
             [
              1.0,
              "#f0f921"
             ]
            ],
            "type": "surface"
           }
          ],
          "table": [
           {
            "cells": {
             "fill": {
              "color": "#EBF0F8"
             },
             "line": {
              "color": "white"
             }
            },
            "header": {
             "fill": {
              "color": "#C8D4E3"
             },
             "line": {
              "color": "white"
             }
            },
            "type": "table"
           }
          ]
         },
         "layout": {
          "annotationdefaults": {
           "arrowcolor": "#2a3f5f",
           "arrowhead": 0,
           "arrowwidth": 1
          },
          "coloraxis": {
           "colorbar": {
            "outlinewidth": 0,
            "ticks": ""
           }
          },
          "colorscale": {
           "diverging": [
            [
             0,
             "#8e0152"
            ],
            [
             0.1,
             "#c51b7d"
            ],
            [
             0.2,
             "#de77ae"
            ],
            [
             0.3,
             "#f1b6da"
            ],
            [
             0.4,
             "#fde0ef"
            ],
            [
             0.5,
             "#f7f7f7"
            ],
            [
             0.6,
             "#e6f5d0"
            ],
            [
             0.7,
             "#b8e186"
            ],
            [
             0.8,
             "#7fbc41"
            ],
            [
             0.9,
             "#4d9221"
            ],
            [
             1,
             "#276419"
            ]
           ],
           "sequential": [
            [
             0.0,
             "#0d0887"
            ],
            [
             0.1111111111111111,
             "#46039f"
            ],
            [
             0.2222222222222222,
             "#7201a8"
            ],
            [
             0.3333333333333333,
             "#9c179e"
            ],
            [
             0.4444444444444444,
             "#bd3786"
            ],
            [
             0.5555555555555556,
             "#d8576b"
            ],
            [
             0.6666666666666666,
             "#ed7953"
            ],
            [
             0.7777777777777778,
             "#fb9f3a"
            ],
            [
             0.8888888888888888,
             "#fdca26"
            ],
            [
             1.0,
             "#f0f921"
            ]
           ],
           "sequentialminus": [
            [
             0.0,
             "#0d0887"
            ],
            [
             0.1111111111111111,
             "#46039f"
            ],
            [
             0.2222222222222222,
             "#7201a8"
            ],
            [
             0.3333333333333333,
             "#9c179e"
            ],
            [
             0.4444444444444444,
             "#bd3786"
            ],
            [
             0.5555555555555556,
             "#d8576b"
            ],
            [
             0.6666666666666666,
             "#ed7953"
            ],
            [
             0.7777777777777778,
             "#fb9f3a"
            ],
            [
             0.8888888888888888,
             "#fdca26"
            ],
            [
             1.0,
             "#f0f921"
            ]
           ]
          },
          "colorway": [
           "#636efa",
           "#EF553B",
           "#00cc96",
           "#ab63fa",
           "#FFA15A",
           "#19d3f3",
           "#FF6692",
           "#B6E880",
           "#FF97FF",
           "#FECB52"
          ],
          "font": {
           "color": "#2a3f5f"
          },
          "geo": {
           "bgcolor": "white",
           "lakecolor": "white",
           "landcolor": "#E5ECF6",
           "showlakes": true,
           "showland": true,
           "subunitcolor": "white"
          },
          "hoverlabel": {
           "align": "left"
          },
          "hovermode": "closest",
          "mapbox": {
           "style": "light"
          },
          "paper_bgcolor": "white",
          "plot_bgcolor": "#E5ECF6",
          "polar": {
           "angularaxis": {
            "gridcolor": "white",
            "linecolor": "white",
            "ticks": ""
           },
           "bgcolor": "#E5ECF6",
           "radialaxis": {
            "gridcolor": "white",
            "linecolor": "white",
            "ticks": ""
           }
          },
          "scene": {
           "xaxis": {
            "backgroundcolor": "#E5ECF6",
            "gridcolor": "white",
            "gridwidth": 2,
            "linecolor": "white",
            "showbackground": true,
            "ticks": "",
            "zerolinecolor": "white"
           },
           "yaxis": {
            "backgroundcolor": "#E5ECF6",
            "gridcolor": "white",
            "gridwidth": 2,
            "linecolor": "white",
            "showbackground": true,
            "ticks": "",
            "zerolinecolor": "white"
           },
           "zaxis": {
            "backgroundcolor": "#E5ECF6",
            "gridcolor": "white",
            "gridwidth": 2,
            "linecolor": "white",
            "showbackground": true,
            "ticks": "",
            "zerolinecolor": "white"
           }
          },
          "shapedefaults": {
           "line": {
            "color": "#2a3f5f"
           }
          },
          "ternary": {
           "aaxis": {
            "gridcolor": "white",
            "linecolor": "white",
            "ticks": ""
           },
           "baxis": {
            "gridcolor": "white",
            "linecolor": "white",
            "ticks": ""
           },
           "bgcolor": "#E5ECF6",
           "caxis": {
            "gridcolor": "white",
            "linecolor": "white",
            "ticks": ""
           }
          },
          "title": {
           "x": 0.05
          },
          "xaxis": {
           "automargin": true,
           "gridcolor": "white",
           "linecolor": "white",
           "ticks": "",
           "title": {
            "standoff": 15
           },
           "zerolinecolor": "white",
           "zerolinewidth": 2
          },
          "yaxis": {
           "automargin": true,
           "gridcolor": "white",
           "linecolor": "white",
           "ticks": "",
           "title": {
            "standoff": 15
           },
           "zerolinecolor": "white",
           "zerolinewidth": 2
          }
         }
        }
       }
      },
      "text/html": "<div>\n        \n        \n            <div id=\"912f08c8-8b05-4c20-90ba-6796f22786da\" class=\"plotly-graph-div\" style=\"height:525px; width:100%;\"></div>\n            <script type=\"text/javascript\">\n                require([\"plotly\"], function(Plotly) {\n                    window.PLOTLYENV=window.PLOTLYENV || {};\n                    \n                if (document.getElementById(\"912f08c8-8b05-4c20-90ba-6796f22786da\")) {\n                    Plotly.newPlot(\n                        '912f08c8-8b05-4c20-90ba-6796f22786da',\n                        [{\"name\": \"Agric\", \"type\": \"bar\", \"x\": [\"EW\", \"EWT\", \"CW\", \"GMV_S_COV\", \"GMV_C_COV\", \"GMV_SHRINK_0.5\"], \"y\": [0.02040816326530612, 0.0, 0.0007569480375776954, 0.0, 5.945650787832405e-13, 3.09019234738847e-12]}, {\"name\": \"Food\", \"type\": \"bar\", \"x\": [\"EW\", \"EWT\", \"CW\", \"GMV_S_COV\", \"GMV_C_COV\", \"GMV_SHRINK_0.5\"], \"y\": [0.02040816326530612, 0.03145561164994753, 0.02387411159455578, 0.22186273037638213, 0.2223182508787364, 0.2372923908544742]}, {\"name\": \"Soda\", \"type\": \"bar\", \"x\": [\"EW\", \"EWT\", \"CW\", \"GMV_S_COV\", \"GMV_C_COV\", \"GMV_SHRINK_0.5\"], \"y\": [0.02040816326530612, 0.03145561164994753, 0.014288316416927122, 0.015540589247849713, 0.0, 3.5493481932451407e-12]}, {\"name\": \"Beer\", \"type\": \"bar\", \"x\": [\"EW\", \"EWT\", \"CW\", \"GMV_S_COV\", \"GMV_C_COV\", \"GMV_SHRINK_0.5\"], \"y\": [0.02040816326530612, 0.03137942096164296, 0.0062348614674162806, 0.019933554552812607, 0.0, 1.1295848336438154e-11]}, {\"name\": \"Smoke\", \"type\": \"bar\", \"x\": [\"EW\", \"EWT\", \"CW\", \"GMV_S_COV\", \"GMV_C_COV\", \"GMV_SHRINK_0.5\"], \"y\": [0.02040816326530612, 0.03145561164994753, 0.008434537498504374, 0.004728862667347399, 1.4640581004267996e-12, 0.0]}, {\"name\": \"Toys\", \"type\": \"bar\", \"x\": [\"EW\", \"EWT\", \"CW\", \"GMV_S_COV\", \"GMV_C_COV\", \"GMV_SHRINK_0.5\"], \"y\": [0.02040816326530612, 0.0, 0.004557023221214928, 0.0, 4.582052767614387e-13, 0.0]}, {\"name\": \"Fun\", \"type\": \"bar\", \"x\": [\"EW\", \"EWT\", \"CW\", \"GMV_S_COV\", \"GMV_C_COV\", \"GMV_SHRINK_0.5\"], \"y\": [0.02040816326530612, 0.0, 0.0029182338817140105, 2.2297772842707271e-13, 0.0, 0.0]}, {\"name\": \"Books\", \"type\": \"bar\", \"x\": [\"EW\", \"EWT\", \"CW\", \"GMV_S_COV\", \"GMV_C_COV\", \"GMV_SHRINK_0.5\"], \"y\": [0.02040816326530612, 0.03145561164994753, 0.006313512605406028, 0.0, 0.0, 4.3950748907871396e-13]}, {\"name\": \"Hshld\", \"type\": \"bar\", \"x\": [\"EW\", \"EWT\", \"CW\", \"GMV_S_COV\", \"GMV_C_COV\", \"GMV_SHRINK_0.5\"], \"y\": [0.02040816326530612, 0.03145561164994753, 0.08797070499375703, 0.0, 0.0, 4.40162211678896e-12]}, {\"name\": \"Clths\", \"type\": \"bar\", \"x\": [\"EW\", \"EWT\", \"CW\", \"GMV_S_COV\", \"GMV_C_COV\", \"GMV_SHRINK_0.5\"], \"y\": [0.02040816326530612, 0.0, 0.0034528244809347657, 0.0, 0.0, 2.4835976132631964e-12]}, {\"name\": \"Hlth\", \"type\": \"bar\", \"x\": [\"EW\", \"EWT\", \"CW\", \"GMV_S_COV\", \"GMV_C_COV\", \"GMV_SHRINK_0.5\"], \"y\": [0.02040816326530612, 0.0, 0.0005688176773610168, 1.1216700343045417e-12, 1.6833356886028704e-13, 0.0]}, {\"name\": \"MedEq\", \"type\": \"bar\", \"x\": [\"EW\", \"EWT\", \"CW\", \"GMV_S_COV\", \"GMV_C_COV\", \"GMV_SHRINK_0.5\"], \"y\": [0.02040816326530612, 0.03145561164994753, 0.013566596711507648, 0.0, 0.0, 1.988450157682505e-12]}, {\"name\": \"Drugs\", \"type\": \"bar\", \"x\": [\"EW\", \"EWT\", \"CW\", \"GMV_S_COV\", \"GMV_C_COV\", \"GMV_SHRINK_0.5\"], \"y\": [0.02040816326530612, 0.03145561164994753, 0.054545341485192224, 5.749139871510125e-13, 3.138905245745102e-12, 0.0]}, {\"name\": \"Chems\", \"type\": \"bar\", \"x\": [\"EW\", \"EWT\", \"CW\", \"GMV_S_COV\", \"GMV_C_COV\", \"GMV_SHRINK_0.5\"], \"y\": [0.02040816326530612, 0.03145561164994753, 0.03994638600919303, 1.8976429451545836e-13, 0.0, 3.6036514615926466e-12]}, {\"name\": \"Rubbr\", \"type\": \"bar\", \"x\": [\"EW\", \"EWT\", \"CW\", \"GMV_S_COV\", \"GMV_C_COV\", \"GMV_SHRINK_0.5\"], \"y\": [0.02040816326530612, 0.0, 0.00101629917701926, 4.772489793339658e-13, 0.0, 0.0]}, {\"name\": \"Txtls\", \"type\": \"bar\", \"x\": [\"EW\", \"EWT\", \"CW\", \"GMV_S_COV\", \"GMV_C_COV\", \"GMV_SHRINK_0.5\"], \"y\": [0.02040816326530612, 0.0, 0.003284442538782849, 8.869061560574649e-13, 7.386291314995133e-13, 0.0]}, {\"name\": \"BldMt\", \"type\": \"bar\", \"x\": [\"EW\", \"EWT\", \"CW\", \"GMV_S_COV\", \"GMV_C_COV\", \"GMV_SHRINK_0.5\"], \"y\": [0.02040816326530612, 0.03145561164994753, 0.020239625381336154, 6.279722127139809e-13, 0.0, 8.443717695271189e-15]}, {\"name\": \"Cnstr\", \"type\": \"bar\", \"x\": [\"EW\", \"EWT\", \"CW\", \"GMV_S_COV\", \"GMV_C_COV\", \"GMV_SHRINK_0.5\"], \"y\": [0.02040816326530612, 0.0, 0.00360867757346721, 2.159142686566032e-12, 1.4563515856943823e-12, 0.0]}, {\"name\": \"Steel\", \"type\": \"bar\", \"x\": [\"EW\", \"EWT\", \"CW\", \"GMV_S_COV\", \"GMV_C_COV\", \"GMV_SHRINK_0.5\"], \"y\": [0.02040816326530612, 0.03145561164994753, 0.019814369085997624, 7.985591881109544e-13, 7.805251102114688e-13, 0.0]}, {\"name\": \"FabPr\", \"type\": \"bar\", \"x\": [\"EW\", \"EWT\", \"CW\", \"GMV_S_COV\", \"GMV_C_COV\", \"GMV_SHRINK_0.5\"], \"y\": [0.02040816326530612, 0.0, 0.0027154008967072885, 3.71216096075267e-13, 3.6811649970826783e-13, 0.0]}, {\"name\": \"Mach\", \"type\": \"bar\", \"x\": [\"EW\", \"EWT\", \"CW\", \"GMV_S_COV\", \"GMV_C_COV\", \"GMV_SHRINK_0.5\"], \"y\": [0.02040816326530612, 0.03145561164994753, 0.02847981420519652, 2.147286799091702e-13, 0.0, 1.744060288139511e-12]}, {\"name\": \"ElcEq\", \"type\": \"bar\", \"x\": [\"EW\", \"EWT\", \"CW\", \"GMV_S_COV\", \"GMV_C_COV\", \"GMV_SHRINK_0.5\"], \"y\": [0.02040816326530612, 0.03145561164994753, 0.010061680672849021, 4.686537496360282e-13, 0.0, 0.0]}, {\"name\": \"Autos\", \"type\": \"bar\", \"x\": [\"EW\", \"EWT\", \"CW\", \"GMV_S_COV\", \"GMV_C_COV\", \"GMV_SHRINK_0.5\"], \"y\": [0.02040816326530612, 0.03145561164994753, 0.03641002268973348, 1.1599340176068527e-12, 1.9566616828798825e-13, 0.0]}, {\"name\": \"Aero\", \"type\": \"bar\", \"x\": [\"EW\", \"EWT\", \"CW\", \"GMV_S_COV\", \"GMV_C_COV\", \"GMV_SHRINK_0.5\"], \"y\": [0.02040816326530612, 0.0, 0.0036874472810117147, 7.419680215058936e-13, 0.0, 0.0]}, {\"name\": \"Ships\", \"type\": \"bar\", \"x\": [\"EW\", \"EWT\", \"CW\", \"GMV_S_COV\", \"GMV_C_COV\", \"GMV_SHRINK_0.5\"], \"y\": [0.02040816326530612, 0.0, 0.002248223676564177, 5.874157407262468e-13, 2.310864522720352e-12, 0.0]}, {\"name\": \"Guns\", \"type\": \"bar\", \"x\": [\"EW\", \"EWT\", \"CW\", \"GMV_S_COV\", \"GMV_C_COV\", \"GMV_SHRINK_0.5\"], \"y\": [0.02040816326530612, 0.0, 0.0006528439684998108, 0.0, 1.0188209934354491e-13, 0.0]}, {\"name\": \"Gold\", \"type\": \"bar\", \"x\": [\"EW\", \"EWT\", \"CW\", \"GMV_S_COV\", \"GMV_C_COV\", \"GMV_SHRINK_0.5\"], \"y\": [0.02040816326530612, 0.0, 0.0026144586824229615, 0.00228056032107088, 1.120867625198744e-11, 0.0]}, {\"name\": \"Mines\", \"type\": \"bar\", \"x\": [\"EW\", \"EWT\", \"CW\", \"GMV_S_COV\", \"GMV_C_COV\", \"GMV_SHRINK_0.5\"], \"y\": [0.02040816326530612, 0.03145561164994753, 0.008855090534837486, 5.035896634721798e-13, 3.418595821905426e-12, 0.0]}, {\"name\": \"Coal\", \"type\": \"bar\", \"x\": [\"EW\", \"EWT\", \"CW\", \"GMV_S_COV\", \"GMV_C_COV\", \"GMV_SHRINK_0.5\"], \"y\": [0.02040816326530612, 0.0, 0.0010592213558418045, 1.2489481668827452e-12, 9.796991938948956e-12, 0.0]}, {\"name\": \"Oil\", \"type\": \"bar\", \"x\": [\"EW\", \"EWT\", \"CW\", \"GMV_S_COV\", \"GMV_C_COV\", \"GMV_SHRINK_0.5\"], \"y\": [0.02040816326530612, 0.03145561164994753, 0.14337724350394954, 1.7731762533914595e-12, 2.96779111822025e-12, 0.0]}, {\"name\": \"Util\", \"type\": \"bar\", \"x\": [\"EW\", \"EWT\", \"CW\", \"GMV_S_COV\", \"GMV_C_COV\", \"GMV_SHRINK_0.5\"], \"y\": [0.02040816326530612, 0.03145561164994753, 0.0589685523766648, 0.7166186800937031, 0.7698170429126329, 0.7437813626157088]}, {\"name\": \"Telcm\", \"type\": \"bar\", \"x\": [\"EW\", \"EWT\", \"CW\", \"GMV_S_COV\", \"GMV_C_COV\", \"GMV_SHRINK_0.5\"], \"y\": [0.02040816326530612, 0.03145561164994753, 0.049462159277539365, 2.1982698702605112e-13, 1.1074675797010493e-12, 0.0]}, {\"name\": \"PerSv\", \"type\": \"bar\", \"x\": [\"EW\", \"EWT\", \"CW\", \"GMV_S_COV\", \"GMV_C_COV\", \"GMV_SHRINK_0.5\"], \"y\": [0.02040816326530612, 0.0, 0.001208408204517832, 7.899413359315752e-14, 0.0, 2.2918805200522903e-12]}, {\"name\": \"BusSv\", \"type\": \"bar\", \"x\": [\"EW\", \"EWT\", \"CW\", \"GMV_S_COV\", \"GMV_C_COV\", \"GMV_SHRINK_0.5\"], \"y\": [0.02040816326530612, 0.03145561164994753, 0.00860103550217513, 0.0, 0.0, 2.9609436158310597e-12]}, {\"name\": \"Hardw\", \"type\": \"bar\", \"x\": [\"EW\", \"EWT\", \"CW\", \"GMV_S_COV\", \"GMV_C_COV\", \"GMV_SHRINK_0.5\"], \"y\": [0.02040816326530612, 0.03145561164994753, 0.06148459832863827, 3.7798465227795325e-13, 4.176848679648782e-12, 0.0]}, {\"name\": \"Softw\", \"type\": \"bar\", \"x\": [\"EW\", \"EWT\", \"CW\", \"GMV_S_COV\", \"GMV_C_COV\", \"GMV_SHRINK_0.5\"], \"y\": [0.02040816326530612, 0.0, 5.782241953718508e-05, 0.0, 4.280455460610595e-12, 0.0]}, {\"name\": \"Chips\", \"type\": \"bar\", \"x\": [\"EW\", \"EWT\", \"CW\", \"GMV_S_COV\", \"GMV_C_COV\", \"GMV_SHRINK_0.5\"], \"y\": [0.02040816326530612, 0.03145561164994753, 0.019349168025100484, 9.155215125077491e-13, 3.2665224573865624e-12, 0.0]}, {\"name\": \"LabEq\", \"type\": \"bar\", \"x\": [\"EW\", \"EWT\", \"CW\", \"GMV_S_COV\", \"GMV_C_COV\", \"GMV_SHRINK_0.5\"], \"y\": [0.02040816326530612, 0.0300277857022842, 0.005966301425888481, 2.5697897452911552e-14, 3.2291066839910545e-13, 0.0]}, {\"name\": \"Paper\", \"type\": \"bar\", \"x\": [\"EW\", \"EWT\", \"CW\", \"GMV_S_COV\", \"GMV_C_COV\", \"GMV_SHRINK_0.5\"], \"y\": [0.02040816326530612, 0.03145561164994753, 0.010838443000466345, 0.0, 0.0, 4.866562975554142e-12]}, {\"name\": \"Boxes\", \"type\": \"bar\", \"x\": [\"EW\", \"EWT\", \"CW\", \"GMV_S_COV\", \"GMV_C_COV\", \"GMV_SHRINK_0.5\"], \"y\": [0.02040816326530612, 0.03145561164994753, 0.016799935772189623, 0.0, 0.0, 5.027430468530979e-12]}, {\"name\": \"Trans\", \"type\": \"bar\", \"x\": [\"EW\", \"EWT\", \"CW\", \"GMV_S_COV\", \"GMV_C_COV\", \"GMV_SHRINK_0.5\"], \"y\": [0.02040816326530612, 0.03145561164994753, 0.01433010559778198, 0.0, 0.0, 4.623654109798115e-12]}, {\"name\": \"Whlsl\", \"type\": \"bar\", \"x\": [\"EW\", \"EWT\", \"CW\", \"GMV_S_COV\", \"GMV_C_COV\", \"GMV_SHRINK_0.5\"], \"y\": [0.02040816326530612, 0.026567639221556354, 0.005278795624214295, 0.0, 0.0, 6.7881247999825726e-12]}, {\"name\": \"Rtail\", \"type\": \"bar\", \"x\": [\"EW\", \"EWT\", \"CW\", \"GMV_S_COV\", \"GMV_C_COV\", \"GMV_SHRINK_0.5\"], \"y\": [0.02040816326530612, 0.03145561164994753, 0.046935837297486814, 7.351830744738625e-14, 0.0, 1.8124604670168452e-12]}, {\"name\": \"Meals\", \"type\": \"bar\", \"x\": [\"EW\", \"EWT\", \"CW\", \"GMV_S_COV\", \"GMV_C_COV\", \"GMV_SHRINK_0.5\"], \"y\": [0.02040816326530612, 0.031268027915985735, 0.006212728483861379, 0.0, 0.0, 5.416934805892055e-12]}, {\"name\": \"Banks\", \"type\": \"bar\", \"x\": [\"EW\", \"EWT\", \"CW\", \"GMV_S_COV\", \"GMV_C_COV\", \"GMV_SHRINK_0.5\"], \"y\": [0.02040816326530612, 0.03145561164994753, 0.031837374636080384, 0.019035022731437985, 0.007864706195361207, 0.01892624668900697]}, {\"name\": \"Insur\", \"type\": \"bar\", \"x\": [\"EW\", \"EWT\", \"CW\", \"GMV_S_COV\", \"GMV_C_COV\", \"GMV_SHRINK_0.5\"], \"y\": [0.02040816326530612, 0.03145561164994753, 0.020093060237259784, 0.0, 0.0, 1.0783842429797526e-11]}, {\"name\": \"RlEst\", \"type\": \"bar\", \"x\": [\"EW\", \"EWT\", \"CW\", \"GMV_S_COV\", \"GMV_C_COV\", \"GMV_SHRINK_0.5\"], \"y\": [0.02040816326530612, 0.0, 0.0018070922352829949, 1.1027407552746077e-12, 5.557832482734551e-13, 0.0]}, {\"name\": \"Fin\", \"type\": \"bar\", \"x\": [\"EW\", \"EWT\", \"CW\", \"GMV_S_COV\", \"GMV_C_COV\", \"GMV_SHRINK_0.5\"], \"y\": [0.02040816326530612, 0.03145561164994753, 0.040328957264818534, 0.0, 0.0, 1.2787463944223227e-11]}, {\"name\": \"Other\", \"type\": \"bar\", \"x\": [\"EW\", \"EWT\", \"CW\", \"GMV_S_COV\", \"GMV_C_COV\", \"GMV_SHRINK_0.5\"], \"y\": [0.02040816326530612, 0.03145561164994753, 0.04488654698501731, 0.0, 0.0, 7.345098760046193e-12]}],\n                        {\"barmode\": \"stack\", \"template\": {\"data\": {\"bar\": [{\"error_x\": {\"color\": \"#2a3f5f\"}, \"error_y\": {\"color\": \"#2a3f5f\"}, \"marker\": {\"line\": {\"color\": \"#E5ECF6\", \"width\": 0.5}}, \"type\": \"bar\"}], \"barpolar\": [{\"marker\": {\"line\": {\"color\": \"#E5ECF6\", \"width\": 0.5}}, \"type\": \"barpolar\"}], \"carpet\": [{\"aaxis\": {\"endlinecolor\": \"#2a3f5f\", \"gridcolor\": \"white\", \"linecolor\": \"white\", \"minorgridcolor\": \"white\", \"startlinecolor\": \"#2a3f5f\"}, \"baxis\": {\"endlinecolor\": \"#2a3f5f\", \"gridcolor\": \"white\", \"linecolor\": \"white\", \"minorgridcolor\": \"white\", \"startlinecolor\": \"#2a3f5f\"}, \"type\": \"carpet\"}], \"choropleth\": [{\"colorbar\": {\"outlinewidth\": 0, \"ticks\": \"\"}, \"type\": \"choropleth\"}], \"contour\": [{\"colorbar\": {\"outlinewidth\": 0, \"ticks\": \"\"}, \"colorscale\": [[0.0, \"#0d0887\"], [0.1111111111111111, \"#46039f\"], [0.2222222222222222, \"#7201a8\"], [0.3333333333333333, \"#9c179e\"], [0.4444444444444444, \"#bd3786\"], [0.5555555555555556, \"#d8576b\"], [0.6666666666666666, \"#ed7953\"], [0.7777777777777778, \"#fb9f3a\"], [0.8888888888888888, \"#fdca26\"], [1.0, \"#f0f921\"]], \"type\": \"contour\"}], \"contourcarpet\": [{\"colorbar\": {\"outlinewidth\": 0, \"ticks\": \"\"}, \"type\": \"contourcarpet\"}], \"heatmap\": [{\"colorbar\": {\"outlinewidth\": 0, \"ticks\": \"\"}, \"colorscale\": [[0.0, \"#0d0887\"], [0.1111111111111111, \"#46039f\"], [0.2222222222222222, \"#7201a8\"], [0.3333333333333333, \"#9c179e\"], [0.4444444444444444, \"#bd3786\"], [0.5555555555555556, \"#d8576b\"], [0.6666666666666666, \"#ed7953\"], [0.7777777777777778, \"#fb9f3a\"], [0.8888888888888888, \"#fdca26\"], [1.0, \"#f0f921\"]], \"type\": \"heatmap\"}], \"heatmapgl\": [{\"colorbar\": {\"outlinewidth\": 0, \"ticks\": \"\"}, \"colorscale\": [[0.0, \"#0d0887\"], [0.1111111111111111, \"#46039f\"], [0.2222222222222222, \"#7201a8\"], [0.3333333333333333, \"#9c179e\"], [0.4444444444444444, \"#bd3786\"], [0.5555555555555556, \"#d8576b\"], [0.6666666666666666, \"#ed7953\"], [0.7777777777777778, \"#fb9f3a\"], [0.8888888888888888, \"#fdca26\"], [1.0, \"#f0f921\"]], \"type\": \"heatmapgl\"}], \"histogram\": [{\"marker\": {\"colorbar\": {\"outlinewidth\": 0, \"ticks\": \"\"}}, \"type\": \"histogram\"}], \"histogram2d\": [{\"colorbar\": {\"outlinewidth\": 0, \"ticks\": \"\"}, \"colorscale\": [[0.0, \"#0d0887\"], [0.1111111111111111, \"#46039f\"], [0.2222222222222222, \"#7201a8\"], [0.3333333333333333, \"#9c179e\"], [0.4444444444444444, \"#bd3786\"], [0.5555555555555556, \"#d8576b\"], [0.6666666666666666, \"#ed7953\"], [0.7777777777777778, \"#fb9f3a\"], [0.8888888888888888, \"#fdca26\"], [1.0, \"#f0f921\"]], \"type\": \"histogram2d\"}], \"histogram2dcontour\": [{\"colorbar\": {\"outlinewidth\": 0, \"ticks\": \"\"}, \"colorscale\": [[0.0, \"#0d0887\"], [0.1111111111111111, \"#46039f\"], [0.2222222222222222, \"#7201a8\"], [0.3333333333333333, \"#9c179e\"], [0.4444444444444444, \"#bd3786\"], [0.5555555555555556, \"#d8576b\"], [0.6666666666666666, \"#ed7953\"], [0.7777777777777778, \"#fb9f3a\"], [0.8888888888888888, \"#fdca26\"], [1.0, \"#f0f921\"]], \"type\": \"histogram2dcontour\"}], \"mesh3d\": [{\"colorbar\": {\"outlinewidth\": 0, \"ticks\": \"\"}, \"type\": \"mesh3d\"}], \"parcoords\": [{\"line\": {\"colorbar\": {\"outlinewidth\": 0, \"ticks\": \"\"}}, \"type\": \"parcoords\"}], \"pie\": [{\"automargin\": true, \"type\": \"pie\"}], \"scatter\": [{\"marker\": {\"colorbar\": {\"outlinewidth\": 0, \"ticks\": \"\"}}, \"type\": \"scatter\"}], \"scatter3d\": [{\"line\": {\"colorbar\": {\"outlinewidth\": 0, \"ticks\": \"\"}}, \"marker\": {\"colorbar\": {\"outlinewidth\": 0, \"ticks\": \"\"}}, \"type\": \"scatter3d\"}], \"scattercarpet\": [{\"marker\": {\"colorbar\": {\"outlinewidth\": 0, \"ticks\": \"\"}}, \"type\": \"scattercarpet\"}], \"scattergeo\": [{\"marker\": {\"colorbar\": {\"outlinewidth\": 0, \"ticks\": \"\"}}, \"type\": \"scattergeo\"}], \"scattergl\": [{\"marker\": {\"colorbar\": {\"outlinewidth\": 0, \"ticks\": \"\"}}, \"type\": \"scattergl\"}], \"scattermapbox\": [{\"marker\": {\"colorbar\": {\"outlinewidth\": 0, \"ticks\": \"\"}}, \"type\": \"scattermapbox\"}], \"scatterpolar\": [{\"marker\": {\"colorbar\": {\"outlinewidth\": 0, \"ticks\": \"\"}}, \"type\": \"scatterpolar\"}], \"scatterpolargl\": [{\"marker\": {\"colorbar\": {\"outlinewidth\": 0, \"ticks\": \"\"}}, \"type\": \"scatterpolargl\"}], \"scatterternary\": [{\"marker\": {\"colorbar\": {\"outlinewidth\": 0, \"ticks\": \"\"}}, \"type\": \"scatterternary\"}], \"surface\": [{\"colorbar\": {\"outlinewidth\": 0, \"ticks\": \"\"}, \"colorscale\": [[0.0, \"#0d0887\"], [0.1111111111111111, \"#46039f\"], [0.2222222222222222, \"#7201a8\"], [0.3333333333333333, \"#9c179e\"], [0.4444444444444444, \"#bd3786\"], [0.5555555555555556, \"#d8576b\"], [0.6666666666666666, \"#ed7953\"], [0.7777777777777778, \"#fb9f3a\"], [0.8888888888888888, \"#fdca26\"], [1.0, \"#f0f921\"]], \"type\": \"surface\"}], \"table\": [{\"cells\": {\"fill\": {\"color\": \"#EBF0F8\"}, \"line\": {\"color\": \"white\"}}, \"header\": {\"fill\": {\"color\": \"#C8D4E3\"}, \"line\": {\"color\": \"white\"}}, \"type\": \"table\"}]}, \"layout\": {\"annotationdefaults\": {\"arrowcolor\": \"#2a3f5f\", \"arrowhead\": 0, \"arrowwidth\": 1}, \"coloraxis\": {\"colorbar\": {\"outlinewidth\": 0, \"ticks\": \"\"}}, \"colorscale\": {\"diverging\": [[0, \"#8e0152\"], [0.1, \"#c51b7d\"], [0.2, \"#de77ae\"], [0.3, \"#f1b6da\"], [0.4, \"#fde0ef\"], [0.5, \"#f7f7f7\"], [0.6, \"#e6f5d0\"], [0.7, \"#b8e186\"], [0.8, \"#7fbc41\"], [0.9, \"#4d9221\"], [1, \"#276419\"]], \"sequential\": [[0.0, \"#0d0887\"], [0.1111111111111111, \"#46039f\"], [0.2222222222222222, \"#7201a8\"], [0.3333333333333333, \"#9c179e\"], [0.4444444444444444, \"#bd3786\"], [0.5555555555555556, \"#d8576b\"], [0.6666666666666666, \"#ed7953\"], [0.7777777777777778, \"#fb9f3a\"], [0.8888888888888888, \"#fdca26\"], [1.0, \"#f0f921\"]], \"sequentialminus\": [[0.0, \"#0d0887\"], [0.1111111111111111, \"#46039f\"], [0.2222222222222222, \"#7201a8\"], [0.3333333333333333, \"#9c179e\"], [0.4444444444444444, \"#bd3786\"], [0.5555555555555556, \"#d8576b\"], [0.6666666666666666, \"#ed7953\"], [0.7777777777777778, \"#fb9f3a\"], [0.8888888888888888, \"#fdca26\"], [1.0, \"#f0f921\"]]}, \"colorway\": [\"#636efa\", \"#EF553B\", \"#00cc96\", \"#ab63fa\", \"#FFA15A\", \"#19d3f3\", \"#FF6692\", \"#B6E880\", \"#FF97FF\", \"#FECB52\"], \"font\": {\"color\": \"#2a3f5f\"}, \"geo\": {\"bgcolor\": \"white\", \"lakecolor\": \"white\", \"landcolor\": \"#E5ECF6\", \"showlakes\": true, \"showland\": true, \"subunitcolor\": \"white\"}, \"hoverlabel\": {\"align\": \"left\"}, \"hovermode\": \"closest\", \"mapbox\": {\"style\": \"light\"}, \"paper_bgcolor\": \"white\", \"plot_bgcolor\": \"#E5ECF6\", \"polar\": {\"angularaxis\": {\"gridcolor\": \"white\", \"linecolor\": \"white\", \"ticks\": \"\"}, \"bgcolor\": \"#E5ECF6\", \"radialaxis\": {\"gridcolor\": \"white\", \"linecolor\": \"white\", \"ticks\": \"\"}}, \"scene\": {\"xaxis\": {\"backgroundcolor\": \"#E5ECF6\", \"gridcolor\": \"white\", \"gridwidth\": 2, \"linecolor\": \"white\", \"showbackground\": true, \"ticks\": \"\", \"zerolinecolor\": \"white\"}, \"yaxis\": {\"backgroundcolor\": \"#E5ECF6\", \"gridcolor\": \"white\", \"gridwidth\": 2, \"linecolor\": \"white\", \"showbackground\": true, \"ticks\": \"\", \"zerolinecolor\": \"white\"}, \"zaxis\": {\"backgroundcolor\": \"#E5ECF6\", \"gridcolor\": \"white\", \"gridwidth\": 2, \"linecolor\": \"white\", \"showbackground\": true, \"ticks\": \"\", \"zerolinecolor\": \"white\"}}, \"shapedefaults\": {\"line\": {\"color\": \"#2a3f5f\"}}, \"ternary\": {\"aaxis\": {\"gridcolor\": \"white\", \"linecolor\": \"white\", \"ticks\": \"\"}, \"baxis\": {\"gridcolor\": \"white\", \"linecolor\": \"white\", \"ticks\": \"\"}, \"bgcolor\": \"#E5ECF6\", \"caxis\": {\"gridcolor\": \"white\", \"linecolor\": \"white\", \"ticks\": \"\"}}, \"title\": {\"x\": 0.05}, \"xaxis\": {\"automargin\": true, \"gridcolor\": \"white\", \"linecolor\": \"white\", \"ticks\": \"\", \"title\": {\"standoff\": 15}, \"zerolinecolor\": \"white\", \"zerolinewidth\": 2}, \"yaxis\": {\"automargin\": true, \"gridcolor\": \"white\", \"linecolor\": \"white\", \"ticks\": \"\", \"title\": {\"standoff\": 15}, \"zerolinecolor\": \"white\", \"zerolinewidth\": 2}}}},\n                        {\"responsive\": true}\n                    ).then(function(){\n                            \nvar gd = document.getElementById('912f08c8-8b05-4c20-90ba-6796f22786da');\nvar x = new MutationObserver(function (mutations, observer) {{\n        var display = window.getComputedStyle(gd).display;\n        if (!display || display === 'none') {{\n            console.log([gd, 'removed!']);\n            Plotly.purge(gd);\n            observer.disconnect();\n        }}\n}});\n\n// Listen for the removal of the full notebook cells\nvar notebookContainer = gd.closest('#notebook-container');\nif (notebookContainer) {{\n    x.observe(notebookContainer, {childList: true});\n}}\n\n// Listen for the clearing of the current output cell\nvar outputEl = gd.closest('.output');\nif (outputEl) {{\n    x.observe(outputEl, {childList: true});\n}}\n\n                        })\n                };\n                });\n            </script>\n        </div>"
     },
     "metadata": {},
     "output_type": "display_data"
    }
   ],
   "source": [
    "wts_data = [go.Bar(x=wts.columns,\n",
    "                   y=wts.loc[sector],\n",
    "                   name=sector) for sector in wts.index]\n",
    "fig = go.Figure(data=wts_data,\n",
    "                layout=dict(barmode='stack'))\n",
    "pyo.iplot(fig)"
   ],
   "metadata": {
    "collapsed": false,
    "pycharm": {
     "name": "#%%\n"
    }
   }
  },
  {
   "cell_type": "markdown",
   "source": [
    "TEST WEEK 2\n",
    "\n",
    "\n"
   ],
   "metadata": {
    "collapsed": false,
    "pycharm": {
     "name": "#%% md\n"
    }
   }
  },
  {
   "cell_type": "code",
   "execution_count": 2,
   "outputs": [],
   "source": [
    "ind_vw_97 = erk.get_df('data/ind30_m_vw_rets.csv', to_per=True, start_period='1997')\n",
    "ind_mkt_wts_97 = erk.plot_corr_mktret(ind_ret_filename='data/ind30_m_vw_rets.csv',\n",
    "                                       n_firms_filename='data/ind30_m_nfirms.csv',\n",
    "                                       size_filename='data/ind30_m_size.csv',\n",
    "                                       start_period='1997',\n",
    "                                       end_period=None,\n",
    "                                       to_per=True,\n",
    "                                       retrieve_mkt_cap_wts=True,\n",
    "                                       format='%Y%m')"
   ],
   "metadata": {
    "collapsed": false,
    "pycharm": {
     "name": "#%%\n"
    }
   }
  },
  {
   "cell_type": "code",
   "execution_count": 4,
   "outputs": [],
   "source": [
    "mw_pf = erk.bt_roll(ind_vw_97, weighting_scheme=erk.weight_cw, window=36, cap_wts=ind_mkt_wts_97)\n",
    "ew_pf = erk.bt_roll(ind_vw_97, weighting_scheme=erk.weight_ew, window=36, cap_wts=ind_mkt_wts_97)\n",
    "btr1 = {'EW': ew_pf,\n",
    "       'MW': mw_pf}"
   ],
   "metadata": {
    "collapsed": false,
    "pycharm": {
     "name": "#%%\n"
    }
   }
  },
  {
   "cell_type": "code",
   "execution_count": 10,
   "outputs": [
    {
     "data": {
      "application/vnd.plotly.v1+json": {
       "config": {
        "linkText": "Export to plot.ly",
        "plotlyServerURL": "https://plot.ly",
        "showLink": false
       },
       "data": [
        {
         "name": "EW_wealth_index",
         "type": "scatter",
         "x": [
          "1997-01-01T00:00:00",
          "1997-02-01T00:00:00",
          "1997-03-01T00:00:00",
          "1997-04-01T00:00:00",
          "1997-05-01T00:00:00",
          "1997-06-01T00:00:00",
          "1997-07-01T00:00:00",
          "1997-08-01T00:00:00",
          "1997-09-01T00:00:00",
          "1997-10-01T00:00:00",
          "1997-11-01T00:00:00",
          "1997-12-01T00:00:00",
          "1998-01-01T00:00:00",
          "1998-02-01T00:00:00",
          "1998-03-01T00:00:00",
          "1998-04-01T00:00:00",
          "1998-05-01T00:00:00",
          "1998-06-01T00:00:00",
          "1998-07-01T00:00:00",
          "1998-08-01T00:00:00",
          "1998-09-01T00:00:00",
          "1998-10-01T00:00:00",
          "1998-11-01T00:00:00",
          "1998-12-01T00:00:00",
          "1999-01-01T00:00:00",
          "1999-02-01T00:00:00",
          "1999-03-01T00:00:00",
          "1999-04-01T00:00:00",
          "1999-05-01T00:00:00",
          "1999-06-01T00:00:00",
          "1999-07-01T00:00:00",
          "1999-08-01T00:00:00",
          "1999-09-01T00:00:00",
          "1999-10-01T00:00:00",
          "1999-11-01T00:00:00",
          "1999-12-01T00:00:00",
          "2000-01-01T00:00:00",
          "2000-02-01T00:00:00",
          "2000-03-01T00:00:00",
          "2000-04-01T00:00:00",
          "2000-05-01T00:00:00",
          "2000-06-01T00:00:00",
          "2000-07-01T00:00:00",
          "2000-08-01T00:00:00",
          "2000-09-01T00:00:00",
          "2000-10-01T00:00:00",
          "2000-11-01T00:00:00",
          "2000-12-01T00:00:00",
          "2001-01-01T00:00:00",
          "2001-02-01T00:00:00",
          "2001-03-01T00:00:00",
          "2001-04-01T00:00:00",
          "2001-05-01T00:00:00",
          "2001-06-01T00:00:00",
          "2001-07-01T00:00:00",
          "2001-08-01T00:00:00",
          "2001-09-01T00:00:00",
          "2001-10-01T00:00:00",
          "2001-11-01T00:00:00",
          "2001-12-01T00:00:00",
          "2002-01-01T00:00:00",
          "2002-02-01T00:00:00",
          "2002-03-01T00:00:00",
          "2002-04-01T00:00:00",
          "2002-05-01T00:00:00",
          "2002-06-01T00:00:00",
          "2002-07-01T00:00:00",
          "2002-08-01T00:00:00",
          "2002-09-01T00:00:00",
          "2002-10-01T00:00:00",
          "2002-11-01T00:00:00",
          "2002-12-01T00:00:00",
          "2003-01-01T00:00:00",
          "2003-02-01T00:00:00",
          "2003-03-01T00:00:00",
          "2003-04-01T00:00:00",
          "2003-05-01T00:00:00",
          "2003-06-01T00:00:00",
          "2003-07-01T00:00:00",
          "2003-08-01T00:00:00",
          "2003-09-01T00:00:00",
          "2003-10-01T00:00:00",
          "2003-11-01T00:00:00",
          "2003-12-01T00:00:00",
          "2004-01-01T00:00:00",
          "2004-02-01T00:00:00",
          "2004-03-01T00:00:00",
          "2004-04-01T00:00:00",
          "2004-05-01T00:00:00",
          "2004-06-01T00:00:00",
          "2004-07-01T00:00:00",
          "2004-08-01T00:00:00",
          "2004-09-01T00:00:00",
          "2004-10-01T00:00:00",
          "2004-11-01T00:00:00",
          "2004-12-01T00:00:00",
          "2005-01-01T00:00:00",
          "2005-02-01T00:00:00",
          "2005-03-01T00:00:00",
          "2005-04-01T00:00:00",
          "2005-05-01T00:00:00",
          "2005-06-01T00:00:00",
          "2005-07-01T00:00:00",
          "2005-08-01T00:00:00",
          "2005-09-01T00:00:00",
          "2005-10-01T00:00:00",
          "2005-11-01T00:00:00",
          "2005-12-01T00:00:00",
          "2006-01-01T00:00:00",
          "2006-02-01T00:00:00",
          "2006-03-01T00:00:00",
          "2006-04-01T00:00:00",
          "2006-05-01T00:00:00",
          "2006-06-01T00:00:00",
          "2006-07-01T00:00:00",
          "2006-08-01T00:00:00",
          "2006-09-01T00:00:00",
          "2006-10-01T00:00:00",
          "2006-11-01T00:00:00",
          "2006-12-01T00:00:00",
          "2007-01-01T00:00:00",
          "2007-02-01T00:00:00",
          "2007-03-01T00:00:00",
          "2007-04-01T00:00:00",
          "2007-05-01T00:00:00",
          "2007-06-01T00:00:00",
          "2007-07-01T00:00:00",
          "2007-08-01T00:00:00",
          "2007-09-01T00:00:00",
          "2007-10-01T00:00:00",
          "2007-11-01T00:00:00",
          "2007-12-01T00:00:00",
          "2008-01-01T00:00:00",
          "2008-02-01T00:00:00",
          "2008-03-01T00:00:00",
          "2008-04-01T00:00:00",
          "2008-05-01T00:00:00",
          "2008-06-01T00:00:00",
          "2008-07-01T00:00:00",
          "2008-08-01T00:00:00",
          "2008-09-01T00:00:00",
          "2008-10-01T00:00:00",
          "2008-11-01T00:00:00",
          "2008-12-01T00:00:00",
          "2009-01-01T00:00:00",
          "2009-02-01T00:00:00",
          "2009-03-01T00:00:00",
          "2009-04-01T00:00:00",
          "2009-05-01T00:00:00",
          "2009-06-01T00:00:00",
          "2009-07-01T00:00:00",
          "2009-08-01T00:00:00",
          "2009-09-01T00:00:00",
          "2009-10-01T00:00:00",
          "2009-11-01T00:00:00",
          "2009-12-01T00:00:00",
          "2010-01-01T00:00:00",
          "2010-02-01T00:00:00",
          "2010-03-01T00:00:00",
          "2010-04-01T00:00:00",
          "2010-05-01T00:00:00",
          "2010-06-01T00:00:00",
          "2010-07-01T00:00:00",
          "2010-08-01T00:00:00",
          "2010-09-01T00:00:00",
          "2010-10-01T00:00:00",
          "2010-11-01T00:00:00",
          "2010-12-01T00:00:00",
          "2011-01-01T00:00:00",
          "2011-02-01T00:00:00",
          "2011-03-01T00:00:00",
          "2011-04-01T00:00:00",
          "2011-05-01T00:00:00",
          "2011-06-01T00:00:00",
          "2011-07-01T00:00:00",
          "2011-08-01T00:00:00",
          "2011-09-01T00:00:00",
          "2011-10-01T00:00:00",
          "2011-11-01T00:00:00",
          "2011-12-01T00:00:00",
          "2012-01-01T00:00:00",
          "2012-02-01T00:00:00",
          "2012-03-01T00:00:00",
          "2012-04-01T00:00:00",
          "2012-05-01T00:00:00",
          "2012-06-01T00:00:00",
          "2012-07-01T00:00:00",
          "2012-08-01T00:00:00",
          "2012-09-01T00:00:00",
          "2012-10-01T00:00:00",
          "2012-11-01T00:00:00",
          "2012-12-01T00:00:00",
          "2013-01-01T00:00:00",
          "2013-02-01T00:00:00",
          "2013-03-01T00:00:00",
          "2013-04-01T00:00:00",
          "2013-05-01T00:00:00",
          "2013-06-01T00:00:00",
          "2013-07-01T00:00:00",
          "2013-08-01T00:00:00",
          "2013-09-01T00:00:00",
          "2013-10-01T00:00:00",
          "2013-11-01T00:00:00",
          "2013-12-01T00:00:00",
          "2014-01-01T00:00:00",
          "2014-02-01T00:00:00",
          "2014-03-01T00:00:00",
          "2014-04-01T00:00:00",
          "2014-05-01T00:00:00",
          "2014-06-01T00:00:00",
          "2014-07-01T00:00:00",
          "2014-08-01T00:00:00",
          "2014-09-01T00:00:00",
          "2014-10-01T00:00:00",
          "2014-11-01T00:00:00",
          "2014-12-01T00:00:00",
          "2015-01-01T00:00:00",
          "2015-02-01T00:00:00",
          "2015-03-01T00:00:00",
          "2015-04-01T00:00:00",
          "2015-05-01T00:00:00",
          "2015-06-01T00:00:00",
          "2015-07-01T00:00:00",
          "2015-08-01T00:00:00",
          "2015-09-01T00:00:00",
          "2015-10-01T00:00:00",
          "2015-11-01T00:00:00",
          "2015-12-01T00:00:00",
          "2016-01-01T00:00:00",
          "2016-02-01T00:00:00",
          "2016-03-01T00:00:00",
          "2016-04-01T00:00:00",
          "2016-05-01T00:00:00",
          "2016-06-01T00:00:00",
          "2016-07-01T00:00:00",
          "2016-08-01T00:00:00",
          "2016-09-01T00:00:00",
          "2016-10-01T00:00:00",
          "2016-11-01T00:00:00",
          "2016-12-01T00:00:00",
          "2017-01-01T00:00:00",
          "2017-02-01T00:00:00",
          "2017-03-01T00:00:00",
          "2017-04-01T00:00:00",
          "2017-05-01T00:00:00",
          "2017-06-01T00:00:00",
          "2017-07-01T00:00:00",
          "2017-08-01T00:00:00",
          "2017-09-01T00:00:00",
          "2017-10-01T00:00:00",
          "2017-11-01T00:00:00",
          "2017-12-01T00:00:00",
          "2018-01-01T00:00:00",
          "2018-02-01T00:00:00",
          "2018-03-01T00:00:00",
          "2018-04-01T00:00:00",
          "2018-05-01T00:00:00",
          "2018-06-01T00:00:00",
          "2018-07-01T00:00:00",
          "2018-08-01T00:00:00",
          "2018-09-01T00:00:00",
          "2018-10-01T00:00:00",
          "2018-11-01T00:00:00",
          "2018-12-01T00:00:00"
         ],
         "y": [
          null,
          null,
          null,
          null,
          null,
          null,
          null,
          null,
          null,
          null,
          null,
          null,
          null,
          null,
          null,
          null,
          null,
          null,
          null,
          null,
          null,
          null,
          null,
          null,
          null,
          null,
          null,
          null,
          null,
          null,
          null,
          null,
          null,
          null,
          null,
          null,
          968.8633333333333,
          933.9390397111111,
          1007.3591007529338,
          1005.3040881873981,
          998.1496740931309,
          998.6520760957578,
          1001.2552291741141,
          1059.6784717964235,
          1035.5884478709183,
          1050.7874343241706,
          1010.8715223189764,
          1075.6582781843995,
          1101.4418071124796,
          1063.331920586388,
          1013.1001206578869,
          1087.8601555616344,
          1107.456143163818,
          1074.4428755361046,
          1060.7723806830336,
          1030.278710646332,
          917.9955024977259,
          949.7306070190723,
          1012.9098527666711,
          1045.279075294918,
          1051.7946481975896,
          1067.2981013120223,
          1121.5595367827254,
          1099.8162358962975,
          1097.7632455892913,
          1033.3794312354792,
          931.784454752615,
          937.620531387549,
          847.67146840977,
          890.8320740096342,
          946.0577237177381,
          913.4597280841705,
          876.610762653255,
          861.2876065220762,
          859.9813203188511,
          929.8462027815546,
          1004.1502128458286,
          1022.0073507976035,
          1042.607612298514,
          1083.5612393095994,
          1067.5606516757946,
          1146.5316716157586,
          1176.998839902828,
          1246.8537210510608,
          1246.9659378859556,
          1279.7694551586085,
          1275.5419500584014,
          1257.8586868240918,
          1266.831412123437,
          1313.5183724315593,
          1266.2273326294485,
          1268.6964759280756,
          1299.0225506910099,
          1316.2779002393554,
          1403.3321329681855,
          1450.2829483635244,
          1423.2448399295338,
          1469.0543471773992,
          1439.683053929499,
          1380.2577364068022,
          1436.9587242183936,
          1442.3473194342127,
          1518.5080657247374,
          1507.4229568449466,
          1523.4669618489665,
          1479.7840858295503,
          1541.4910822086426,
          1551.3001037950971,
          1618.5903312973824,
          1617.268482526823,
          1660.3471240063957,
          1696.9356401290834,
          1656.9445235433743,
          1659.1040745723926,
          1620.6460421238046,
          1651.1411984831009,
          1671.659379776251,
          1753.9718876364334,
          1806.7956743190841,
          1811.3487994183681,
          1862.5073273432745,
          1856.739762986268,
          1880.8711907725462,
          1964.1749758118622,
          2058.304787902686,
          2032.123151000564,
          1973.266090803751,
          1980.0278159415716,
          2060.3575444343214,
          2120.9663955330975,
          2035.053116738037,
          2025.3866144335313,
          1913.4502475425047,
          1886.6172969044671,
          1877.4546255658345,
          1962.365640098092,
          2031.1138496895285,
          1859.8164779862125,
          1821.9072187765937,
          1855.812912118026,
          1643.353263895714,
          1306.9478950878354,
          1187.5059269557582,
          1223.0915212335324,
          1114.2812225328598,
          990.5328642291023,
          1083.8146458297708,
          1267.4851011430562,
          1338.7726881816786,
          1323.4660537801349,
          1463.7490439273165,
          1511.6331543176589,
          1594.148169434679,
          1546.0899159534547,
          1644.0140975968934,
          1711.0789126848626,
          1647.7975108974008,
          1727.874977268645,
          1849.0566090077525,
          1903.7270494140816,
          1753.7197036770833,
          1640.598937057566,
          1777.7366022062079,
          1695.4333233127345,
          1871.4362566058296,
          1963.1678237837918,
          1999.5584113439972,
          2133.4221817887733,
          2157.9280912502536,
          2231.0027295136247,
          2264.244670183378,
          2330.0511677811405,
          2307.5661740120527,
          2271.8604334128395,
          2207.08969245624,
          2077.526170543417,
          1866.8442415886088,
          2115.9932740710246,
          2118.0881074123554,
          2108.902665319877,
          2227.099630035505,
          2300.3118185402054,
          2340.6056138949684,
          2326.772634716849,
          2168.5986310087974,
          2227.5339131375135,
          2226.4424215200756,
          2286.8680688401305,
          2347.7140052584036,
          2352.5346446825342,
          2379.9259897287884,
          2427.4769110035695,
          2562.290887051004,
          2582.1230185167788,
          2685.020620804673,
          2710.1166135404605,
          2772.910015476193,
          2714.8822518856614,
          2870.861286863999,
          2807.463100112419,
          2939.00210456302,
          3081.0538729502323,
          3148.9397599509025,
          3251.3222880127732,
          3120.7491849261805,
          3267.2371516666153,
          3284.542617779943,
          3305.83740241855,
          3353.4855388454093,
          3442.7665021746034,
          3333.0225819736174,
          3481.108775290705,
          3374.8653354688327,
          3441.068943799613,
          3535.4001137789733,
          3489.310280962342,
          3376.7102381956875,
          3600.4623142793275,
          3526.3647998514593,
          3557.6319010768084,
          3564.498130645887,
          3478.213512563386,
          3454.5152844977874,
          3282.906480214886,
          3126.541644562251,
          3333.883464624137,
          3341.406928309306,
          3250.5652119516703,
          3086.2599757048865,
          3156.9353291485286,
          3411.3948397956633,
          3495.3037815385046,
          3496.0494463452324,
          3530.683642860359,
          3701.5805001202775,
          3691.6972801849565,
          3690.4174917944924,
          3592.486112953906,
          3814.777178669783,
          3853.382723717922,
          3949.16497362047,
          4051.185068772332,
          4066.3094930290818,
          4088.4166623061838,
          4121.042227271388,
          4159.7113401706165,
          4236.679865668241,
          4218.673976239151,
          4332.184430693159,
          4413.254042006198,
          4585.164997789147,
          4705.846540530957,
          4903.460722922987,
          4686.54796540995,
          4608.173261601745,
          4554.165470975772,
          4668.945621395932,
          4708.538280265369,
          4817.588026836314,
          4862.568240380209,
          4856.457612958131,
          4495.0076610177,
          4578.9144706900315,
          4138.102374596701
         ]
        },
        {
         "name": "MW_wealth_index",
         "type": "scatter",
         "x": [
          "1997-01-01T00:00:00",
          "1997-02-01T00:00:00",
          "1997-03-01T00:00:00",
          "1997-04-01T00:00:00",
          "1997-05-01T00:00:00",
          "1997-06-01T00:00:00",
          "1997-07-01T00:00:00",
          "1997-08-01T00:00:00",
          "1997-09-01T00:00:00",
          "1997-10-01T00:00:00",
          "1997-11-01T00:00:00",
          "1997-12-01T00:00:00",
          "1998-01-01T00:00:00",
          "1998-02-01T00:00:00",
          "1998-03-01T00:00:00",
          "1998-04-01T00:00:00",
          "1998-05-01T00:00:00",
          "1998-06-01T00:00:00",
          "1998-07-01T00:00:00",
          "1998-08-01T00:00:00",
          "1998-09-01T00:00:00",
          "1998-10-01T00:00:00",
          "1998-11-01T00:00:00",
          "1998-12-01T00:00:00",
          "1999-01-01T00:00:00",
          "1999-02-01T00:00:00",
          "1999-03-01T00:00:00",
          "1999-04-01T00:00:00",
          "1999-05-01T00:00:00",
          "1999-06-01T00:00:00",
          "1999-07-01T00:00:00",
          "1999-08-01T00:00:00",
          "1999-09-01T00:00:00",
          "1999-10-01T00:00:00",
          "1999-11-01T00:00:00",
          "1999-12-01T00:00:00",
          "2000-01-01T00:00:00",
          "2000-02-01T00:00:00",
          "2000-03-01T00:00:00",
          "2000-04-01T00:00:00",
          "2000-05-01T00:00:00",
          "2000-06-01T00:00:00",
          "2000-07-01T00:00:00",
          "2000-08-01T00:00:00",
          "2000-09-01T00:00:00",
          "2000-10-01T00:00:00",
          "2000-11-01T00:00:00",
          "2000-12-01T00:00:00",
          "2001-01-01T00:00:00",
          "2001-02-01T00:00:00",
          "2001-03-01T00:00:00",
          "2001-04-01T00:00:00",
          "2001-05-01T00:00:00",
          "2001-06-01T00:00:00",
          "2001-07-01T00:00:00",
          "2001-08-01T00:00:00",
          "2001-09-01T00:00:00",
          "2001-10-01T00:00:00",
          "2001-11-01T00:00:00",
          "2001-12-01T00:00:00",
          "2002-01-01T00:00:00",
          "2002-02-01T00:00:00",
          "2002-03-01T00:00:00",
          "2002-04-01T00:00:00",
          "2002-05-01T00:00:00",
          "2002-06-01T00:00:00",
          "2002-07-01T00:00:00",
          "2002-08-01T00:00:00",
          "2002-09-01T00:00:00",
          "2002-10-01T00:00:00",
          "2002-11-01T00:00:00",
          "2002-12-01T00:00:00",
          "2003-01-01T00:00:00",
          "2003-02-01T00:00:00",
          "2003-03-01T00:00:00",
          "2003-04-01T00:00:00",
          "2003-05-01T00:00:00",
          "2003-06-01T00:00:00",
          "2003-07-01T00:00:00",
          "2003-08-01T00:00:00",
          "2003-09-01T00:00:00",
          "2003-10-01T00:00:00",
          "2003-11-01T00:00:00",
          "2003-12-01T00:00:00",
          "2004-01-01T00:00:00",
          "2004-02-01T00:00:00",
          "2004-03-01T00:00:00",
          "2004-04-01T00:00:00",
          "2004-05-01T00:00:00",
          "2004-06-01T00:00:00",
          "2004-07-01T00:00:00",
          "2004-08-01T00:00:00",
          "2004-09-01T00:00:00",
          "2004-10-01T00:00:00",
          "2004-11-01T00:00:00",
          "2004-12-01T00:00:00",
          "2005-01-01T00:00:00",
          "2005-02-01T00:00:00",
          "2005-03-01T00:00:00",
          "2005-04-01T00:00:00",
          "2005-05-01T00:00:00",
          "2005-06-01T00:00:00",
          "2005-07-01T00:00:00",
          "2005-08-01T00:00:00",
          "2005-09-01T00:00:00",
          "2005-10-01T00:00:00",
          "2005-11-01T00:00:00",
          "2005-12-01T00:00:00",
          "2006-01-01T00:00:00",
          "2006-02-01T00:00:00",
          "2006-03-01T00:00:00",
          "2006-04-01T00:00:00",
          "2006-05-01T00:00:00",
          "2006-06-01T00:00:00",
          "2006-07-01T00:00:00",
          "2006-08-01T00:00:00",
          "2006-09-01T00:00:00",
          "2006-10-01T00:00:00",
          "2006-11-01T00:00:00",
          "2006-12-01T00:00:00",
          "2007-01-01T00:00:00",
          "2007-02-01T00:00:00",
          "2007-03-01T00:00:00",
          "2007-04-01T00:00:00",
          "2007-05-01T00:00:00",
          "2007-06-01T00:00:00",
          "2007-07-01T00:00:00",
          "2007-08-01T00:00:00",
          "2007-09-01T00:00:00",
          "2007-10-01T00:00:00",
          "2007-11-01T00:00:00",
          "2007-12-01T00:00:00",
          "2008-01-01T00:00:00",
          "2008-02-01T00:00:00",
          "2008-03-01T00:00:00",
          "2008-04-01T00:00:00",
          "2008-05-01T00:00:00",
          "2008-06-01T00:00:00",
          "2008-07-01T00:00:00",
          "2008-08-01T00:00:00",
          "2008-09-01T00:00:00",
          "2008-10-01T00:00:00",
          "2008-11-01T00:00:00",
          "2008-12-01T00:00:00",
          "2009-01-01T00:00:00",
          "2009-02-01T00:00:00",
          "2009-03-01T00:00:00",
          "2009-04-01T00:00:00",
          "2009-05-01T00:00:00",
          "2009-06-01T00:00:00",
          "2009-07-01T00:00:00",
          "2009-08-01T00:00:00",
          "2009-09-01T00:00:00",
          "2009-10-01T00:00:00",
          "2009-11-01T00:00:00",
          "2009-12-01T00:00:00",
          "2010-01-01T00:00:00",
          "2010-02-01T00:00:00",
          "2010-03-01T00:00:00",
          "2010-04-01T00:00:00",
          "2010-05-01T00:00:00",
          "2010-06-01T00:00:00",
          "2010-07-01T00:00:00",
          "2010-08-01T00:00:00",
          "2010-09-01T00:00:00",
          "2010-10-01T00:00:00",
          "2010-11-01T00:00:00",
          "2010-12-01T00:00:00",
          "2011-01-01T00:00:00",
          "2011-02-01T00:00:00",
          "2011-03-01T00:00:00",
          "2011-04-01T00:00:00",
          "2011-05-01T00:00:00",
          "2011-06-01T00:00:00",
          "2011-07-01T00:00:00",
          "2011-08-01T00:00:00",
          "2011-09-01T00:00:00",
          "2011-10-01T00:00:00",
          "2011-11-01T00:00:00",
          "2011-12-01T00:00:00",
          "2012-01-01T00:00:00",
          "2012-02-01T00:00:00",
          "2012-03-01T00:00:00",
          "2012-04-01T00:00:00",
          "2012-05-01T00:00:00",
          "2012-06-01T00:00:00",
          "2012-07-01T00:00:00",
          "2012-08-01T00:00:00",
          "2012-09-01T00:00:00",
          "2012-10-01T00:00:00",
          "2012-11-01T00:00:00",
          "2012-12-01T00:00:00",
          "2013-01-01T00:00:00",
          "2013-02-01T00:00:00",
          "2013-03-01T00:00:00",
          "2013-04-01T00:00:00",
          "2013-05-01T00:00:00",
          "2013-06-01T00:00:00",
          "2013-07-01T00:00:00",
          "2013-08-01T00:00:00",
          "2013-09-01T00:00:00",
          "2013-10-01T00:00:00",
          "2013-11-01T00:00:00",
          "2013-12-01T00:00:00",
          "2014-01-01T00:00:00",
          "2014-02-01T00:00:00",
          "2014-03-01T00:00:00",
          "2014-04-01T00:00:00",
          "2014-05-01T00:00:00",
          "2014-06-01T00:00:00",
          "2014-07-01T00:00:00",
          "2014-08-01T00:00:00",
          "2014-09-01T00:00:00",
          "2014-10-01T00:00:00",
          "2014-11-01T00:00:00",
          "2014-12-01T00:00:00",
          "2015-01-01T00:00:00",
          "2015-02-01T00:00:00",
          "2015-03-01T00:00:00",
          "2015-04-01T00:00:00",
          "2015-05-01T00:00:00",
          "2015-06-01T00:00:00",
          "2015-07-01T00:00:00",
          "2015-08-01T00:00:00",
          "2015-09-01T00:00:00",
          "2015-10-01T00:00:00",
          "2015-11-01T00:00:00",
          "2015-12-01T00:00:00",
          "2016-01-01T00:00:00",
          "2016-02-01T00:00:00",
          "2016-03-01T00:00:00",
          "2016-04-01T00:00:00",
          "2016-05-01T00:00:00",
          "2016-06-01T00:00:00",
          "2016-07-01T00:00:00",
          "2016-08-01T00:00:00",
          "2016-09-01T00:00:00",
          "2016-10-01T00:00:00",
          "2016-11-01T00:00:00",
          "2016-12-01T00:00:00",
          "2017-01-01T00:00:00",
          "2017-02-01T00:00:00",
          "2017-03-01T00:00:00",
          "2017-04-01T00:00:00",
          "2017-05-01T00:00:00",
          "2017-06-01T00:00:00",
          "2017-07-01T00:00:00",
          "2017-08-01T00:00:00",
          "2017-09-01T00:00:00",
          "2017-10-01T00:00:00",
          "2017-11-01T00:00:00",
          "2017-12-01T00:00:00",
          "2018-01-01T00:00:00",
          "2018-02-01T00:00:00",
          "2018-03-01T00:00:00",
          "2018-04-01T00:00:00",
          "2018-05-01T00:00:00",
          "2018-06-01T00:00:00",
          "2018-07-01T00:00:00",
          "2018-08-01T00:00:00",
          "2018-09-01T00:00:00",
          "2018-10-01T00:00:00",
          "2018-11-01T00:00:00",
          "2018-12-01T00:00:00"
         ],
         "y": [
          null,
          null,
          null,
          null,
          null,
          null,
          null,
          null,
          null,
          null,
          null,
          null,
          null,
          null,
          null,
          null,
          null,
          null,
          null,
          null,
          null,
          null,
          null,
          null,
          null,
          null,
          null,
          null,
          null,
          null,
          null,
          null,
          null,
          null,
          null,
          null,
          966.3600853596627,
          950.5039546873941,
          1032.3089177811032,
          1015.0128993499561,
          1015.6937802343508,
          1031.9398997411029,
          1030.1060552552315,
          1095.882875075782,
          1070.8027392153585,
          1067.4609569390075,
          993.8366741154898,
          1029.4699825295493,
          1058.208882621857,
          982.5203982158894,
          921.4737858978255,
          988.1262262048887,
          1001.9611212724104,
          983.5738635621332,
          972.5364696115352,
          919.63112900822,
          836.2700599735845,
          863.6182482691878,
          933.9312397301024,
          949.5961357475628,
          941.3478887152879,
          918.1199827477942,
          962.1975567312762,
          913.4594927675078,
          904.14528593671,
          832.8099816490103,
          759.8627913889512,
          764.2410773051034,
          681.8006532743266,
          748.068018442908,
          808.6189341202834,
          753.0224209718655,
          733.7189048193575,
          723.6123568182246,
          724.9631943344519,
          790.089537927231,
          849.7592434065909,
          860.4433281388743,
          888.0937267607185,
          918.7682137096009,
          906.0905296102794,
          966.2912783523961,
          981.0702965979635,
          1025.1289471786274,
          1049.377071674059,
          1059.0634699500906,
          1044.1265839353157,
          1026.5650605691162,
          1041.581248910416,
          1063.4621322845867,
          1020.4996992910012,
          1020.3946545339658,
          1037.2742688809863,
          1053.5444118144776,
          1101.6419725009198,
          1142.8585020565001,
          1110.2197532630298,
          1128.4893385718149,
          1111.0355420644914,
          1086.2997178888775,
          1128.2508772324295,
          1134.5009222657532,
          1180.1386084139874,
          1167.333734838772,
          1172.733762440123,
          1157.3863989013635,
          1201.5507620187575,
          1201.9418589560828,
          1236.9136915530655,
          1241.7525293069853,
          1262.7762961450683,
          1273.8824617306784,
          1237.7407682925948,
          1238.3339194965074,
          1233.8278725522928,
          1266.8617766908087,
          1300.6370199997557,
          1346.0121391095468,
          1371.451961971325,
          1389.4020134735383,
          1416.5173816499082,
          1392.6522355970756,
          1405.9396659646582,
          1464.274603201039,
          1515.8192854813096,
          1492.5617603598887,
          1439.54406264409,
          1458.2064858967592,
          1505.933698307166,
          1533.571947494038,
          1464.211036737955,
          1449.781236005815,
          1368.5866117654593,
          1318.8102781410191,
          1310.6352584078113,
          1370.4310529895101,
          1393.0111382038795,
          1264.8483008354706,
          1273.7499637971882,
          1296.4137703925048,
          1181.6652288357134,
          973.0636130480569,
          888.2376126138873,
          907.6609793586883,
          823.0346602425936,
          737.8668025130711,
          809.7730972162467,
          909.2793714045816,
          959.9239549880768,
          961.2371342161927,
          1038.2989942349518,
          1080.8603524150708,
          1124.908747960289,
          1093.989018950404,
          1155.3976218991445,
          1188.8945169457477,
          1150.8569943654497,
          1188.667172619802,
          1266.5788400815284,
          1292.6943902088747,
          1190.0092692564722,
          1119.657641490734,
          1199.817979052159,
          1140.1053966507516,
          1249.6787263861843,
          1298.375325015315,
          1305.2738905315746,
          1397.3418309672936,
          1428.2866588286722,
          1479.4362400775212,
          1488.2011867163058,
          1533.0778476476053,
          1514.3980839922265,
          1488.929970382988,
          1456.1952682795284,
          1369.822811886844,
          1265.0950358791686,
          1408.9081870254042,
          1408.5773980873275,
          1421.3725036606158,
          1486.0147155928696,
          1550.0280093747863,
          1596.2193181036505,
          1587.0538449084252,
          1491.3947769037475,
          1551.2884018920831,
          1563.8770689846083,
          1603.3773682897004,
          1647.0465828412616,
          1620.4415025810952,
          1633.8912092967432,
          1652.3972899714038,
          1744.594981676337,
          1766.801842383371,
          1837.1861147177738,
          1862.9989800516641,
          1918.0063380280906,
          1892.3582590367282,
          2000.007152629436,
          1947.8203649431798,
          2019.7310963340965,
          2106.559909430225,
          2170.333964413202,
          2229.3573104363772,
          2153.57092547096,
          2254.7547076453934,
          2270.4893093973023,
          2275.4288246589545,
          2321.8983751485603,
          2381.614539781503,
          2332.02830371247,
          2432.392687868684,
          2381.7088510745534,
          2436.618844993359,
          2493.9788754582,
          2489.5510449360545,
          2413.421718378017,
          2561.6727881297015,
          2525.806576170415,
          2548.630526623039,
          2578.298371327333,
          2531.943347843635,
          2561.4990569553634,
          2412.1844947283053,
          2336.501092292382,
          2521.209053891836,
          2533.948096436692,
          2470.9379553830595,
          2333.4740281646555,
          2338.232342698629,
          2503.7196761839655,
          2535.126550071712,
          2573.1362676072686,
          2573.494558523216,
          2671.709438588219,
          2690.000964503385,
          2697.747464650396,
          2644.7258986572942,
          2781.931446480325,
          2833.0868555160323,
          2887.0589130237427,
          2990.567188106089,
          2994.597469268168,
          3024.744699501129,
          3050.383874014776,
          3079.4340313314133,
          3139.802325256062,
          3140.6708165327464,
          3230.5115159430825,
          3297.2765580886307,
          3405.221410771717,
          3447.8598735601086,
          3634.7184397868496,
          3494.903844076057,
          3424.2655401136144,
          3436.1980475242176,
          3523.1932570460986,
          3548.287854174245,
          3674.1083507776716,
          3802.4420558631136,
          3814.3598988750714,
          3548.983566700535,
          3622.985487696506,
          3282.96175181194
         ]
        },
        {
         "name": "EWT_wealth_index",
         "type": "scatter",
         "x": [
          "1997-01-01T00:00:00",
          "1997-02-01T00:00:00",
          "1997-03-01T00:00:00",
          "1997-04-01T00:00:00",
          "1997-05-01T00:00:00",
          "1997-06-01T00:00:00",
          "1997-07-01T00:00:00",
          "1997-08-01T00:00:00",
          "1997-09-01T00:00:00",
          "1997-10-01T00:00:00",
          "1997-11-01T00:00:00",
          "1997-12-01T00:00:00",
          "1998-01-01T00:00:00",
          "1998-02-01T00:00:00",
          "1998-03-01T00:00:00",
          "1998-04-01T00:00:00",
          "1998-05-01T00:00:00",
          "1998-06-01T00:00:00",
          "1998-07-01T00:00:00",
          "1998-08-01T00:00:00",
          "1998-09-01T00:00:00",
          "1998-10-01T00:00:00",
          "1998-11-01T00:00:00",
          "1998-12-01T00:00:00",
          "1999-01-01T00:00:00",
          "1999-02-01T00:00:00",
          "1999-03-01T00:00:00",
          "1999-04-01T00:00:00",
          "1999-05-01T00:00:00",
          "1999-06-01T00:00:00",
          "1999-07-01T00:00:00",
          "1999-08-01T00:00:00",
          "1999-09-01T00:00:00",
          "1999-10-01T00:00:00",
          "1999-11-01T00:00:00",
          "1999-12-01T00:00:00",
          "2000-01-01T00:00:00",
          "2000-02-01T00:00:00",
          "2000-03-01T00:00:00",
          "2000-04-01T00:00:00",
          "2000-05-01T00:00:00",
          "2000-06-01T00:00:00",
          "2000-07-01T00:00:00",
          "2000-08-01T00:00:00",
          "2000-09-01T00:00:00",
          "2000-10-01T00:00:00",
          "2000-11-01T00:00:00",
          "2000-12-01T00:00:00",
          "2001-01-01T00:00:00",
          "2001-02-01T00:00:00",
          "2001-03-01T00:00:00",
          "2001-04-01T00:00:00",
          "2001-05-01T00:00:00",
          "2001-06-01T00:00:00",
          "2001-07-01T00:00:00",
          "2001-08-01T00:00:00",
          "2001-09-01T00:00:00",
          "2001-10-01T00:00:00",
          "2001-11-01T00:00:00",
          "2001-12-01T00:00:00",
          "2002-01-01T00:00:00",
          "2002-02-01T00:00:00",
          "2002-03-01T00:00:00",
          "2002-04-01T00:00:00",
          "2002-05-01T00:00:00",
          "2002-06-01T00:00:00",
          "2002-07-01T00:00:00",
          "2002-08-01T00:00:00",
          "2002-09-01T00:00:00",
          "2002-10-01T00:00:00",
          "2002-11-01T00:00:00",
          "2002-12-01T00:00:00",
          "2003-01-01T00:00:00",
          "2003-02-01T00:00:00",
          "2003-03-01T00:00:00",
          "2003-04-01T00:00:00",
          "2003-05-01T00:00:00",
          "2003-06-01T00:00:00",
          "2003-07-01T00:00:00",
          "2003-08-01T00:00:00",
          "2003-09-01T00:00:00",
          "2003-10-01T00:00:00",
          "2003-11-01T00:00:00",
          "2003-12-01T00:00:00",
          "2004-01-01T00:00:00",
          "2004-02-01T00:00:00",
          "2004-03-01T00:00:00",
          "2004-04-01T00:00:00",
          "2004-05-01T00:00:00",
          "2004-06-01T00:00:00",
          "2004-07-01T00:00:00",
          "2004-08-01T00:00:00",
          "2004-09-01T00:00:00",
          "2004-10-01T00:00:00",
          "2004-11-01T00:00:00",
          "2004-12-01T00:00:00",
          "2005-01-01T00:00:00",
          "2005-02-01T00:00:00",
          "2005-03-01T00:00:00",
          "2005-04-01T00:00:00",
          "2005-05-01T00:00:00",
          "2005-06-01T00:00:00",
          "2005-07-01T00:00:00",
          "2005-08-01T00:00:00",
          "2005-09-01T00:00:00",
          "2005-10-01T00:00:00",
          "2005-11-01T00:00:00",
          "2005-12-01T00:00:00",
          "2006-01-01T00:00:00",
          "2006-02-01T00:00:00",
          "2006-03-01T00:00:00",
          "2006-04-01T00:00:00",
          "2006-05-01T00:00:00",
          "2006-06-01T00:00:00",
          "2006-07-01T00:00:00",
          "2006-08-01T00:00:00",
          "2006-09-01T00:00:00",
          "2006-10-01T00:00:00",
          "2006-11-01T00:00:00",
          "2006-12-01T00:00:00",
          "2007-01-01T00:00:00",
          "2007-02-01T00:00:00",
          "2007-03-01T00:00:00",
          "2007-04-01T00:00:00",
          "2007-05-01T00:00:00",
          "2007-06-01T00:00:00",
          "2007-07-01T00:00:00",
          "2007-08-01T00:00:00",
          "2007-09-01T00:00:00",
          "2007-10-01T00:00:00",
          "2007-11-01T00:00:00",
          "2007-12-01T00:00:00",
          "2008-01-01T00:00:00",
          "2008-02-01T00:00:00",
          "2008-03-01T00:00:00",
          "2008-04-01T00:00:00",
          "2008-05-01T00:00:00",
          "2008-06-01T00:00:00",
          "2008-07-01T00:00:00",
          "2008-08-01T00:00:00",
          "2008-09-01T00:00:00",
          "2008-10-01T00:00:00",
          "2008-11-01T00:00:00",
          "2008-12-01T00:00:00",
          "2009-01-01T00:00:00",
          "2009-02-01T00:00:00",
          "2009-03-01T00:00:00",
          "2009-04-01T00:00:00",
          "2009-05-01T00:00:00",
          "2009-06-01T00:00:00",
          "2009-07-01T00:00:00",
          "2009-08-01T00:00:00",
          "2009-09-01T00:00:00",
          "2009-10-01T00:00:00",
          "2009-11-01T00:00:00",
          "2009-12-01T00:00:00",
          "2010-01-01T00:00:00",
          "2010-02-01T00:00:00",
          "2010-03-01T00:00:00",
          "2010-04-01T00:00:00",
          "2010-05-01T00:00:00",
          "2010-06-01T00:00:00",
          "2010-07-01T00:00:00",
          "2010-08-01T00:00:00",
          "2010-09-01T00:00:00",
          "2010-10-01T00:00:00",
          "2010-11-01T00:00:00",
          "2010-12-01T00:00:00",
          "2011-01-01T00:00:00",
          "2011-02-01T00:00:00",
          "2011-03-01T00:00:00",
          "2011-04-01T00:00:00",
          "2011-05-01T00:00:00",
          "2011-06-01T00:00:00",
          "2011-07-01T00:00:00",
          "2011-08-01T00:00:00",
          "2011-09-01T00:00:00",
          "2011-10-01T00:00:00",
          "2011-11-01T00:00:00",
          "2011-12-01T00:00:00",
          "2012-01-01T00:00:00",
          "2012-02-01T00:00:00",
          "2012-03-01T00:00:00",
          "2012-04-01T00:00:00",
          "2012-05-01T00:00:00",
          "2012-06-01T00:00:00",
          "2012-07-01T00:00:00",
          "2012-08-01T00:00:00",
          "2012-09-01T00:00:00",
          "2012-10-01T00:00:00",
          "2012-11-01T00:00:00",
          "2012-12-01T00:00:00",
          "2013-01-01T00:00:00",
          "2013-02-01T00:00:00",
          "2013-03-01T00:00:00",
          "2013-04-01T00:00:00",
          "2013-05-01T00:00:00",
          "2013-06-01T00:00:00",
          "2013-07-01T00:00:00",
          "2013-08-01T00:00:00",
          "2013-09-01T00:00:00",
          "2013-10-01T00:00:00",
          "2013-11-01T00:00:00",
          "2013-12-01T00:00:00",
          "2014-01-01T00:00:00",
          "2014-02-01T00:00:00",
          "2014-03-01T00:00:00",
          "2014-04-01T00:00:00",
          "2014-05-01T00:00:00",
          "2014-06-01T00:00:00",
          "2014-07-01T00:00:00",
          "2014-08-01T00:00:00",
          "2014-09-01T00:00:00",
          "2014-10-01T00:00:00",
          "2014-11-01T00:00:00",
          "2014-12-01T00:00:00",
          "2015-01-01T00:00:00",
          "2015-02-01T00:00:00",
          "2015-03-01T00:00:00",
          "2015-04-01T00:00:00",
          "2015-05-01T00:00:00",
          "2015-06-01T00:00:00",
          "2015-07-01T00:00:00",
          "2015-08-01T00:00:00",
          "2015-09-01T00:00:00",
          "2015-10-01T00:00:00",
          "2015-11-01T00:00:00",
          "2015-12-01T00:00:00",
          "2016-01-01T00:00:00",
          "2016-02-01T00:00:00",
          "2016-03-01T00:00:00",
          "2016-04-01T00:00:00",
          "2016-05-01T00:00:00",
          "2016-06-01T00:00:00",
          "2016-07-01T00:00:00",
          "2016-08-01T00:00:00",
          "2016-09-01T00:00:00",
          "2016-10-01T00:00:00",
          "2016-11-01T00:00:00",
          "2016-12-01T00:00:00",
          "2017-01-01T00:00:00",
          "2017-02-01T00:00:00",
          "2017-03-01T00:00:00",
          "2017-04-01T00:00:00",
          "2017-05-01T00:00:00",
          "2017-06-01T00:00:00",
          "2017-07-01T00:00:00",
          "2017-08-01T00:00:00",
          "2017-09-01T00:00:00",
          "2017-10-01T00:00:00",
          "2017-11-01T00:00:00",
          "2017-12-01T00:00:00",
          "2018-01-01T00:00:00",
          "2018-02-01T00:00:00",
          "2018-03-01T00:00:00",
          "2018-04-01T00:00:00",
          "2018-05-01T00:00:00",
          "2018-06-01T00:00:00",
          "2018-07-01T00:00:00",
          "2018-08-01T00:00:00",
          "2018-09-01T00:00:00",
          "2018-10-01T00:00:00",
          "2018-11-01T00:00:00",
          "2018-12-01T00:00:00"
         ],
         "y": [
          null,
          null,
          null,
          null,
          null,
          null,
          null,
          null,
          null,
          null,
          null,
          null,
          null,
          null,
          null,
          null,
          null,
          null,
          null,
          null,
          null,
          null,
          null,
          null,
          null,
          null,
          null,
          null,
          null,
          null,
          null,
          null,
          null,
          null,
          null,
          null,
          957.4959850865765,
          923.9815011509834,
          997.7566781990337,
          996.97982474983,
          998.1822590413118,
          997.7676298435376,
          996.7696101032732,
          1045.222010912411,
          1023.1922229147026,
          1040.839048258751,
          990.0231930537678,
          1034.532849136457,
          1059.1345524901692,
          1011.8055924736146,
          952.4634839246195,
          1018.7380507757475,
          1037.0016143315122,
          1012.6420148632402,
          1007.413630263059,
          967.3773664189102,
          876.1916023270907,
          899.018320063953,
          963.9701108422703,
          985.7368343185907,
          987.069205118672,
          991.7471880656476,
          1041.976208801025,
          1015.5961166282943,
          1006.8997023527444,
          949.0732901856246,
          862.3325365665293,
          867.8586621444041,
          789.8835629946257,
          844.3316160081063,
          900.4081898723242,
          853.3464201095094,
          826.2401566616583,
          810.747491672175,
          816.5780530603266,
          882.6245073790506,
          938.7778875777758,
          949.420451037346,
          965.066973122645,
          995.055849208174,
          979.5556583874512,
          1031.4912028157728,
          1044.6837138108297,
          1098.2836470797577,
          1115.5752860801988,
          1131.0435428531275,
          1119.5323261500644,
          1113.1143768823365,
          1121.71043418232,
          1156.126862262363,
          1113.8978733250808,
          1113.2547345626533,
          1131.9173758337326,
          1153.3944635062994,
          1210.0251849671822,
          1251.1769789599516,
          1224.3404654703581,
          1256.6776038648122,
          1242.5959506773313,
          1212.6391864006453,
          1256.2699558273523,
          1257.8270675653553,
          1313.117825631427,
          1300.3713880712871,
          1310.445755690107,
          1282.3657137011414,
          1330.309525974078,
          1329.8260127100273,
          1372.8803622204327,
          1378.3891227050467,
          1405.2744499761304,
          1420.80167938668,
          1391.381206363629,
          1391.758906289954,
          1377.2027823610022,
          1410.93065013194,
          1440.033587359445,
          1493.181557011705,
          1527.7583752289884,
          1544.0948473078442,
          1574.252061860868,
          1556.5465499630127,
          1578.1759645800582,
          1641.400103208861,
          1699.8633673718261,
          1679.185963108241,
          1638.1686887745775,
          1658.3174949939153,
          1720.6868173773357,
          1754.9154245161599,
          1686.8203527936355,
          1683.2264445954615,
          1585.3497731084874,
          1552.1076865222824,
          1557.1038923536087,
          1612.6423620187197,
          1654.5017906354444,
          1515.935635830293,
          1518.4529524048885,
          1549.6323835176374,
          1403.923468346996,
          1161.1191604755368,
          1072.413923717783,
          1092.1865230371743,
          1005.0460703705933,
          899.5466361335339,
          974.8277757978043,
          1094.3684316891593,
          1149.1286306635714,
          1145.8184713175049,
          1244.7334944660392,
          1283.035436614373,
          1344.9057553236444,
          1308.9070173968032,
          1388.8250167921594,
          1427.0677505603596,
          1385.4534394146856,
          1435.3624637026178,
          1529.0701666609934,
          1572.9564534505448,
          1455.619853643753,
          1377.6448115599967,
          1484.7496259148502,
          1424.7071406220691,
          1556.1462394597734,
          1623.904263405234,
          1635.2231705152622,
          1733.756672314067,
          1763.6166220220507,
          1827.0996626199767,
          1850.9693105693477,
          1915.5980835141893,
          1905.24380915727,
          1880.0695800615254,
          1834.4629077043867,
          1750.4812246202705,
          1629.0449563435943,
          1800.038204407784,
          1813.2505275093329,
          1834.9985907907626,
          1903.06171683352,
          1977.0660159560127,
          2032.7805639515816,
          2031.0072160164907,
          1929.877439440059,
          2001.2757844535822,
          2023.767609681936,
          2055.6044283476317,
          2100.1800023784544,
          2069.39963380508,
          2095.075385671579,
          2112.851422519443,
          2238.1719176115134,
          2282.9933235085446,
          2374.1669968232504,
          2416.667638761678,
          2466.760423795157,
          2445.535014702333,
          2572.4843074209534,
          2500.5228369464407,
          2592.3211892610034,
          2706.94168335579,
          2769.5276426727014,
          2837.7042643024724,
          2734.7434110031595,
          2858.543932229645,
          2892.1441450224197,
          2920.84363038563,
          2984.1501003090793,
          3043.9542562449105,
          2958.015402712082,
          3095.1080998468256,
          3031.320503610223,
          3112.481872820662,
          3202.557256811608,
          3194.5916037391476,
          3113.685153729605,
          3285.5105107169593,
          3231.093928663182,
          3247.9546875995684,
          3277.3393687322823,
          3215.5070757406,
          3251.212506324353,
          3065.2587648326944,
          2977.181702185367,
          3210.4434356501392,
          3215.147779597469,
          3143.563653979843,
          2995.508910610142,
          3037.8952253595353,
          3247.7197450443805,
          3279.790604793254,
          3307.5469930081854,
          3338.3182554583345,
          3448.67753367023,
          3462.6842056404366,
          3465.2930114886904,
          3393.2900809098383,
          3560.2871673633786,
          3630.4161474050184,
          3706.3127122874544,
          3828.056575547392,
          3835.520600329112,
          3879.123074559143,
          3929.854102788673,
          3943.5796726499884,
          3997.1866889867147,
          3996.483545225554,
          4112.371236875501,
          4174.07753665957,
          4320.551149579075,
          4379.838834289806,
          4567.227897464989,
          4352.138144454659,
          4279.933629959892,
          4268.059899095568,
          4349.235854934158,
          4376.292411435586,
          4536.684357626544,
          4643.3858644052625,
          4675.481981004907,
          4391.240743210315,
          4504.5370555445,
          4081.845157601685
         ]
        },
        {
         "name": "GMV_Sample_Cov_wealth_index",
         "type": "scatter",
         "x": [
          "1997-01-01T00:00:00",
          "1997-02-01T00:00:00",
          "1997-03-01T00:00:00",
          "1997-04-01T00:00:00",
          "1997-05-01T00:00:00",
          "1997-06-01T00:00:00",
          "1997-07-01T00:00:00",
          "1997-08-01T00:00:00",
          "1997-09-01T00:00:00",
          "1997-10-01T00:00:00",
          "1997-11-01T00:00:00",
          "1997-12-01T00:00:00",
          "1998-01-01T00:00:00",
          "1998-02-01T00:00:00",
          "1998-03-01T00:00:00",
          "1998-04-01T00:00:00",
          "1998-05-01T00:00:00",
          "1998-06-01T00:00:00",
          "1998-07-01T00:00:00",
          "1998-08-01T00:00:00",
          "1998-09-01T00:00:00",
          "1998-10-01T00:00:00",
          "1998-11-01T00:00:00",
          "1998-12-01T00:00:00",
          "1999-01-01T00:00:00",
          "1999-02-01T00:00:00",
          "1999-03-01T00:00:00",
          "1999-04-01T00:00:00",
          "1999-05-01T00:00:00",
          "1999-06-01T00:00:00",
          "1999-07-01T00:00:00",
          "1999-08-01T00:00:00",
          "1999-09-01T00:00:00",
          "1999-10-01T00:00:00",
          "1999-11-01T00:00:00",
          "1999-12-01T00:00:00",
          "2000-01-01T00:00:00",
          "2000-02-01T00:00:00",
          "2000-03-01T00:00:00",
          "2000-04-01T00:00:00",
          "2000-05-01T00:00:00",
          "2000-06-01T00:00:00",
          "2000-07-01T00:00:00",
          "2000-08-01T00:00:00",
          "2000-09-01T00:00:00",
          "2000-10-01T00:00:00",
          "2000-11-01T00:00:00",
          "2000-12-01T00:00:00",
          "2001-01-01T00:00:00",
          "2001-02-01T00:00:00",
          "2001-03-01T00:00:00",
          "2001-04-01T00:00:00",
          "2001-05-01T00:00:00",
          "2001-06-01T00:00:00",
          "2001-07-01T00:00:00",
          "2001-08-01T00:00:00",
          "2001-09-01T00:00:00",
          "2001-10-01T00:00:00",
          "2001-11-01T00:00:00",
          "2001-12-01T00:00:00",
          "2002-01-01T00:00:00",
          "2002-02-01T00:00:00",
          "2002-03-01T00:00:00",
          "2002-04-01T00:00:00",
          "2002-05-01T00:00:00",
          "2002-06-01T00:00:00",
          "2002-07-01T00:00:00",
          "2002-08-01T00:00:00",
          "2002-09-01T00:00:00",
          "2002-10-01T00:00:00",
          "2002-11-01T00:00:00",
          "2002-12-01T00:00:00",
          "2003-01-01T00:00:00",
          "2003-02-01T00:00:00",
          "2003-03-01T00:00:00",
          "2003-04-01T00:00:00",
          "2003-05-01T00:00:00",
          "2003-06-01T00:00:00",
          "2003-07-01T00:00:00",
          "2003-08-01T00:00:00",
          "2003-09-01T00:00:00",
          "2003-10-01T00:00:00",
          "2003-11-01T00:00:00",
          "2003-12-01T00:00:00",
          "2004-01-01T00:00:00",
          "2004-02-01T00:00:00",
          "2004-03-01T00:00:00",
          "2004-04-01T00:00:00",
          "2004-05-01T00:00:00",
          "2004-06-01T00:00:00",
          "2004-07-01T00:00:00",
          "2004-08-01T00:00:00",
          "2004-09-01T00:00:00",
          "2004-10-01T00:00:00",
          "2004-11-01T00:00:00",
          "2004-12-01T00:00:00",
          "2005-01-01T00:00:00",
          "2005-02-01T00:00:00",
          "2005-03-01T00:00:00",
          "2005-04-01T00:00:00",
          "2005-05-01T00:00:00",
          "2005-06-01T00:00:00",
          "2005-07-01T00:00:00",
          "2005-08-01T00:00:00",
          "2005-09-01T00:00:00",
          "2005-10-01T00:00:00",
          "2005-11-01T00:00:00",
          "2005-12-01T00:00:00",
          "2006-01-01T00:00:00",
          "2006-02-01T00:00:00",
          "2006-03-01T00:00:00",
          "2006-04-01T00:00:00",
          "2006-05-01T00:00:00",
          "2006-06-01T00:00:00",
          "2006-07-01T00:00:00",
          "2006-08-01T00:00:00",
          "2006-09-01T00:00:00",
          "2006-10-01T00:00:00",
          "2006-11-01T00:00:00",
          "2006-12-01T00:00:00",
          "2007-01-01T00:00:00",
          "2007-02-01T00:00:00",
          "2007-03-01T00:00:00",
          "2007-04-01T00:00:00",
          "2007-05-01T00:00:00",
          "2007-06-01T00:00:00",
          "2007-07-01T00:00:00",
          "2007-08-01T00:00:00",
          "2007-09-01T00:00:00",
          "2007-10-01T00:00:00",
          "2007-11-01T00:00:00",
          "2007-12-01T00:00:00",
          "2008-01-01T00:00:00",
          "2008-02-01T00:00:00",
          "2008-03-01T00:00:00",
          "2008-04-01T00:00:00",
          "2008-05-01T00:00:00",
          "2008-06-01T00:00:00",
          "2008-07-01T00:00:00",
          "2008-08-01T00:00:00",
          "2008-09-01T00:00:00",
          "2008-10-01T00:00:00",
          "2008-11-01T00:00:00",
          "2008-12-01T00:00:00",
          "2009-01-01T00:00:00",
          "2009-02-01T00:00:00",
          "2009-03-01T00:00:00",
          "2009-04-01T00:00:00",
          "2009-05-01T00:00:00",
          "2009-06-01T00:00:00",
          "2009-07-01T00:00:00",
          "2009-08-01T00:00:00",
          "2009-09-01T00:00:00",
          "2009-10-01T00:00:00",
          "2009-11-01T00:00:00",
          "2009-12-01T00:00:00",
          "2010-01-01T00:00:00",
          "2010-02-01T00:00:00",
          "2010-03-01T00:00:00",
          "2010-04-01T00:00:00",
          "2010-05-01T00:00:00",
          "2010-06-01T00:00:00",
          "2010-07-01T00:00:00",
          "2010-08-01T00:00:00",
          "2010-09-01T00:00:00",
          "2010-10-01T00:00:00",
          "2010-11-01T00:00:00",
          "2010-12-01T00:00:00",
          "2011-01-01T00:00:00",
          "2011-02-01T00:00:00",
          "2011-03-01T00:00:00",
          "2011-04-01T00:00:00",
          "2011-05-01T00:00:00",
          "2011-06-01T00:00:00",
          "2011-07-01T00:00:00",
          "2011-08-01T00:00:00",
          "2011-09-01T00:00:00",
          "2011-10-01T00:00:00",
          "2011-11-01T00:00:00",
          "2011-12-01T00:00:00",
          "2012-01-01T00:00:00",
          "2012-02-01T00:00:00",
          "2012-03-01T00:00:00",
          "2012-04-01T00:00:00",
          "2012-05-01T00:00:00",
          "2012-06-01T00:00:00",
          "2012-07-01T00:00:00",
          "2012-08-01T00:00:00",
          "2012-09-01T00:00:00",
          "2012-10-01T00:00:00",
          "2012-11-01T00:00:00",
          "2012-12-01T00:00:00",
          "2013-01-01T00:00:00",
          "2013-02-01T00:00:00",
          "2013-03-01T00:00:00",
          "2013-04-01T00:00:00",
          "2013-05-01T00:00:00",
          "2013-06-01T00:00:00",
          "2013-07-01T00:00:00",
          "2013-08-01T00:00:00",
          "2013-09-01T00:00:00",
          "2013-10-01T00:00:00",
          "2013-11-01T00:00:00",
          "2013-12-01T00:00:00",
          "2014-01-01T00:00:00",
          "2014-02-01T00:00:00",
          "2014-03-01T00:00:00",
          "2014-04-01T00:00:00",
          "2014-05-01T00:00:00",
          "2014-06-01T00:00:00",
          "2014-07-01T00:00:00",
          "2014-08-01T00:00:00",
          "2014-09-01T00:00:00",
          "2014-10-01T00:00:00",
          "2014-11-01T00:00:00",
          "2014-12-01T00:00:00",
          "2015-01-01T00:00:00",
          "2015-02-01T00:00:00",
          "2015-03-01T00:00:00",
          "2015-04-01T00:00:00",
          "2015-05-01T00:00:00",
          "2015-06-01T00:00:00",
          "2015-07-01T00:00:00",
          "2015-08-01T00:00:00",
          "2015-09-01T00:00:00",
          "2015-10-01T00:00:00",
          "2015-11-01T00:00:00",
          "2015-12-01T00:00:00",
          "2016-01-01T00:00:00",
          "2016-02-01T00:00:00",
          "2016-03-01T00:00:00",
          "2016-04-01T00:00:00",
          "2016-05-01T00:00:00",
          "2016-06-01T00:00:00",
          "2016-07-01T00:00:00",
          "2016-08-01T00:00:00",
          "2016-09-01T00:00:00",
          "2016-10-01T00:00:00",
          "2016-11-01T00:00:00",
          "2016-12-01T00:00:00",
          "2017-01-01T00:00:00",
          "2017-02-01T00:00:00",
          "2017-03-01T00:00:00",
          "2017-04-01T00:00:00",
          "2017-05-01T00:00:00",
          "2017-06-01T00:00:00",
          "2017-07-01T00:00:00",
          "2017-08-01T00:00:00",
          "2017-09-01T00:00:00",
          "2017-10-01T00:00:00",
          "2017-11-01T00:00:00",
          "2017-12-01T00:00:00",
          "2018-01-01T00:00:00",
          "2018-02-01T00:00:00",
          "2018-03-01T00:00:00",
          "2018-04-01T00:00:00",
          "2018-05-01T00:00:00",
          "2018-06-01T00:00:00",
          "2018-07-01T00:00:00",
          "2018-08-01T00:00:00",
          "2018-09-01T00:00:00",
          "2018-10-01T00:00:00",
          "2018-11-01T00:00:00",
          "2018-12-01T00:00:00"
         ],
         "y": [
          null,
          null,
          null,
          null,
          null,
          null,
          null,
          null,
          null,
          null,
          null,
          null,
          null,
          null,
          null,
          null,
          null,
          null,
          null,
          null,
          null,
          null,
          null,
          null,
          null,
          null,
          null,
          null,
          null,
          null,
          null,
          null,
          null,
          null,
          null,
          null,
          1018.3314132078682,
          953.1581118407868,
          1029.4657562527639,
          1075.0492749889681,
          1077.2223929653835,
          1073.9785023489185,
          1080.7628455964768,
          1182.8134386297968,
          1215.7508764649094,
          1202.5681829573014,
          1179.3227493322931,
          1217.870316475605,
          1169.6170865318081,
          1148.6774318725184,
          1107.535642690166,
          1170.0140104297038,
          1181.310212001275,
          1137.0607531079816,
          1129.7088931295025,
          1109.8833952873047,
          1018.9822854527082,
          998.1499372786712,
          1030.617122524115,
          1050.5016227971676,
          1038.9374022212398,
          1038.0746944569394,
          1079.3545689407295,
          1045.8868819884647,
          1053.803469598332,
          971.271755121983,
          884.174780683345,
          899.0662231299025,
          834.9526051306067,
          873.732550044321,
          883.9496517910889,
          878.440294150347,
          854.3852452861145,
          823.2754639644764,
          840.82269411307,
          893.1152134850082,
          945.4114349481057,
          943.8136994714887,
          942.1201839719073,
          960.1902974382409,
          970.760324026727,
          1003.4324640951382,
          1012.8447325893964,
          1051.0765958006248,
          1071.1795028170377,
          1113.344900316859,
          1116.7901583788275,
          1145.505580448511,
          1152.2424317976627,
          1172.1876464265342,
          1107.7796169481016,
          1142.292315080751,
          1131.271765749839,
          1107.3339097019152,
          1151.9397242989921,
          1193.8770757769405,
          1178.9220101787107,
          1203.7978608886206,
          1193.1727648142873,
          1157.528319297485,
          1170.9672839237012,
          1156.0852618879399,
          1193.779465416321,
          1198.8992776405228,
          1208.2495186470628,
          1151.7287804810076,
          1176.1840850315953,
          1189.447433213307,
          1219.8257083090261,
          1225.9870981590152,
          1244.4390841077704,
          1252.97121173876,
          1246.4561593151673,
          1245.6013068884697,
          1268.7996835630677,
          1304.2173892943053,
          1321.7839387460926,
          1357.951608065475,
          1372.4469409338521,
          1398.0560829504127,
          1407.5205223954333,
          1402.8312015267948,
          1436.6819299531076,
          1498.2249997256613,
          1532.7920815635057,
          1501.0062847111403,
          1475.7348921105593,
          1498.3534086212665,
          1582.688641995702,
          1635.9868797105219,
          1606.4269781087323,
          1589.6756113407514,
          1521.92827258635,
          1479.8543122019746,
          1506.8770312776662,
          1514.2355535974114,
          1565.5513882597136,
          1435.4820209478532,
          1429.9837959029917,
          1469.9337080109563,
          1374.1249199545357,
          1182.4138708942264,
          1086.2090123827943,
          1087.345207457909,
          1025.1172366005849,
          946.7664963168038,
          1014.7692599144675,
          1053.4311990180493,
          1112.781060206555,
          1125.9183901503702,
          1195.5056232096586,
          1204.562341270788,
          1252.2136918600204,
          1243.4695282133237,
          1297.380495016723,
          1330.0667057150656,
          1291.0931945788432,
          1319.5870446167348,
          1388.7512633794868,
          1384.0416338529305,
          1305.1584530727312,
          1275.071472950423,
          1365.890290921847,
          1355.346346480057,
          1433.0153874268174,
          1487.0278194214322,
          1478.7496574320307,
          1543.6545160722123,
          1528.6030158515402,
          1573.8290487108584,
          1606.8873133340467,
          1672.2189895407444,
          1696.1971494049906,
          1696.1570269307813,
          1672.5316112257192,
          1670.8781430205452,
          1606.7373647653226,
          1695.1793823908142,
          1706.4499426031355,
          1743.007728743665,
          1744.3006448369445,
          1767.154504181869,
          1810.2142822988963,
          1833.6485557138,
          1808.4504873459668,
          1875.0286655855061,
          1914.7623660194006,
          1894.9826927483928,
          1921.3114760418346,
          1910.8683884097816,
          1919.2376459748407,
          1902.9346372722737,
          2014.3129531143588,
          2082.0986237763423,
          2203.1805119632404,
          2288.5914062111,
          2199.7380149557875,
          2214.6134555643143,
          2302.125361682207,
          2217.9495446327082,
          2253.8759343672377,
          2364.0891809411905,
          2390.3959529073018,
          2405.2360143065416,
          2371.7559030178727,
          2440.655333891415,
          2520.38559493845,
          2554.6345536206163,
          2604.751155235837,
          2688.540850225763,
          2598.066209023568,
          2729.091149600466,
          2727.10315554532,
          2777.342994292927,
          2893.6936698595678,
          2823.3677601284808,
          2764.498951510576,
          2874.773518774119,
          2829.635996910621,
          2851.7883020582053,
          2844.5492061485897,
          2778.426800122323,
          2836.314065431359,
          2728.5258467623325,
          2704.655767822667,
          2821.141698982834,
          2753.5140791223753,
          2667.9204278108546,
          2671.866229987188,
          2720.5847109329725,
          2890.7467808703113,
          2898.0354203765314,
          2857.3018661330825,
          2990.812773161746,
          3053.807838465801,
          3006.1442577327803,
          2974.957391564718,
          2895.222083584718,
          2904.466538573175,
          2970.4866201427276,
          2987.795243460321,
          3101.6997621198807,
          3117.198001854508,
          3105.914357119534,
          3105.605582670858,
          3203.4750722650692,
          3259.117327701252,
          3207.0640447766646,
          3235.816655972286,
          3315.606221013137,
          3456.0577953199654,
          3438.670508067521,
          3518.0063120888867,
          3364.7213594087343,
          3376.3768918816977,
          3384.3522435347263,
          3414.864159642388,
          3521.241520795657,
          3593.259881740918,
          3663.0004344318577,
          3682.2376843273423,
          3579.109588773907,
          3677.0832377148854,
          3386.6012967511683
         ]
        },
        {
         "name": "GMV_Stat_shrink_wealth_index",
         "type": "scatter",
         "x": [
          "1997-01-01T00:00:00",
          "1997-02-01T00:00:00",
          "1997-03-01T00:00:00",
          "1997-04-01T00:00:00",
          "1997-05-01T00:00:00",
          "1997-06-01T00:00:00",
          "1997-07-01T00:00:00",
          "1997-08-01T00:00:00",
          "1997-09-01T00:00:00",
          "1997-10-01T00:00:00",
          "1997-11-01T00:00:00",
          "1997-12-01T00:00:00",
          "1998-01-01T00:00:00",
          "1998-02-01T00:00:00",
          "1998-03-01T00:00:00",
          "1998-04-01T00:00:00",
          "1998-05-01T00:00:00",
          "1998-06-01T00:00:00",
          "1998-07-01T00:00:00",
          "1998-08-01T00:00:00",
          "1998-09-01T00:00:00",
          "1998-10-01T00:00:00",
          "1998-11-01T00:00:00",
          "1998-12-01T00:00:00",
          "1999-01-01T00:00:00",
          "1999-02-01T00:00:00",
          "1999-03-01T00:00:00",
          "1999-04-01T00:00:00",
          "1999-05-01T00:00:00",
          "1999-06-01T00:00:00",
          "1999-07-01T00:00:00",
          "1999-08-01T00:00:00",
          "1999-09-01T00:00:00",
          "1999-10-01T00:00:00",
          "1999-11-01T00:00:00",
          "1999-12-01T00:00:00",
          "2000-01-01T00:00:00",
          "2000-02-01T00:00:00",
          "2000-03-01T00:00:00",
          "2000-04-01T00:00:00",
          "2000-05-01T00:00:00",
          "2000-06-01T00:00:00",
          "2000-07-01T00:00:00",
          "2000-08-01T00:00:00",
          "2000-09-01T00:00:00",
          "2000-10-01T00:00:00",
          "2000-11-01T00:00:00",
          "2000-12-01T00:00:00",
          "2001-01-01T00:00:00",
          "2001-02-01T00:00:00",
          "2001-03-01T00:00:00",
          "2001-04-01T00:00:00",
          "2001-05-01T00:00:00",
          "2001-06-01T00:00:00",
          "2001-07-01T00:00:00",
          "2001-08-01T00:00:00",
          "2001-09-01T00:00:00",
          "2001-10-01T00:00:00",
          "2001-11-01T00:00:00",
          "2001-12-01T00:00:00",
          "2002-01-01T00:00:00",
          "2002-02-01T00:00:00",
          "2002-03-01T00:00:00",
          "2002-04-01T00:00:00",
          "2002-05-01T00:00:00",
          "2002-06-01T00:00:00",
          "2002-07-01T00:00:00",
          "2002-08-01T00:00:00",
          "2002-09-01T00:00:00",
          "2002-10-01T00:00:00",
          "2002-11-01T00:00:00",
          "2002-12-01T00:00:00",
          "2003-01-01T00:00:00",
          "2003-02-01T00:00:00",
          "2003-03-01T00:00:00",
          "2003-04-01T00:00:00",
          "2003-05-01T00:00:00",
          "2003-06-01T00:00:00",
          "2003-07-01T00:00:00",
          "2003-08-01T00:00:00",
          "2003-09-01T00:00:00",
          "2003-10-01T00:00:00",
          "2003-11-01T00:00:00",
          "2003-12-01T00:00:00",
          "2004-01-01T00:00:00",
          "2004-02-01T00:00:00",
          "2004-03-01T00:00:00",
          "2004-04-01T00:00:00",
          "2004-05-01T00:00:00",
          "2004-06-01T00:00:00",
          "2004-07-01T00:00:00",
          "2004-08-01T00:00:00",
          "2004-09-01T00:00:00",
          "2004-10-01T00:00:00",
          "2004-11-01T00:00:00",
          "2004-12-01T00:00:00",
          "2005-01-01T00:00:00",
          "2005-02-01T00:00:00",
          "2005-03-01T00:00:00",
          "2005-04-01T00:00:00",
          "2005-05-01T00:00:00",
          "2005-06-01T00:00:00",
          "2005-07-01T00:00:00",
          "2005-08-01T00:00:00",
          "2005-09-01T00:00:00",
          "2005-10-01T00:00:00",
          "2005-11-01T00:00:00",
          "2005-12-01T00:00:00",
          "2006-01-01T00:00:00",
          "2006-02-01T00:00:00",
          "2006-03-01T00:00:00",
          "2006-04-01T00:00:00",
          "2006-05-01T00:00:00",
          "2006-06-01T00:00:00",
          "2006-07-01T00:00:00",
          "2006-08-01T00:00:00",
          "2006-09-01T00:00:00",
          "2006-10-01T00:00:00",
          "2006-11-01T00:00:00",
          "2006-12-01T00:00:00",
          "2007-01-01T00:00:00",
          "2007-02-01T00:00:00",
          "2007-03-01T00:00:00",
          "2007-04-01T00:00:00",
          "2007-05-01T00:00:00",
          "2007-06-01T00:00:00",
          "2007-07-01T00:00:00",
          "2007-08-01T00:00:00",
          "2007-09-01T00:00:00",
          "2007-10-01T00:00:00",
          "2007-11-01T00:00:00",
          "2007-12-01T00:00:00",
          "2008-01-01T00:00:00",
          "2008-02-01T00:00:00",
          "2008-03-01T00:00:00",
          "2008-04-01T00:00:00",
          "2008-05-01T00:00:00",
          "2008-06-01T00:00:00",
          "2008-07-01T00:00:00",
          "2008-08-01T00:00:00",
          "2008-09-01T00:00:00",
          "2008-10-01T00:00:00",
          "2008-11-01T00:00:00",
          "2008-12-01T00:00:00",
          "2009-01-01T00:00:00",
          "2009-02-01T00:00:00",
          "2009-03-01T00:00:00",
          "2009-04-01T00:00:00",
          "2009-05-01T00:00:00",
          "2009-06-01T00:00:00",
          "2009-07-01T00:00:00",
          "2009-08-01T00:00:00",
          "2009-09-01T00:00:00",
          "2009-10-01T00:00:00",
          "2009-11-01T00:00:00",
          "2009-12-01T00:00:00",
          "2010-01-01T00:00:00",
          "2010-02-01T00:00:00",
          "2010-03-01T00:00:00",
          "2010-04-01T00:00:00",
          "2010-05-01T00:00:00",
          "2010-06-01T00:00:00",
          "2010-07-01T00:00:00",
          "2010-08-01T00:00:00",
          "2010-09-01T00:00:00",
          "2010-10-01T00:00:00",
          "2010-11-01T00:00:00",
          "2010-12-01T00:00:00",
          "2011-01-01T00:00:00",
          "2011-02-01T00:00:00",
          "2011-03-01T00:00:00",
          "2011-04-01T00:00:00",
          "2011-05-01T00:00:00",
          "2011-06-01T00:00:00",
          "2011-07-01T00:00:00",
          "2011-08-01T00:00:00",
          "2011-09-01T00:00:00",
          "2011-10-01T00:00:00",
          "2011-11-01T00:00:00",
          "2011-12-01T00:00:00",
          "2012-01-01T00:00:00",
          "2012-02-01T00:00:00",
          "2012-03-01T00:00:00",
          "2012-04-01T00:00:00",
          "2012-05-01T00:00:00",
          "2012-06-01T00:00:00",
          "2012-07-01T00:00:00",
          "2012-08-01T00:00:00",
          "2012-09-01T00:00:00",
          "2012-10-01T00:00:00",
          "2012-11-01T00:00:00",
          "2012-12-01T00:00:00",
          "2013-01-01T00:00:00",
          "2013-02-01T00:00:00",
          "2013-03-01T00:00:00",
          "2013-04-01T00:00:00",
          "2013-05-01T00:00:00",
          "2013-06-01T00:00:00",
          "2013-07-01T00:00:00",
          "2013-08-01T00:00:00",
          "2013-09-01T00:00:00",
          "2013-10-01T00:00:00",
          "2013-11-01T00:00:00",
          "2013-12-01T00:00:00",
          "2014-01-01T00:00:00",
          "2014-02-01T00:00:00",
          "2014-03-01T00:00:00",
          "2014-04-01T00:00:00",
          "2014-05-01T00:00:00",
          "2014-06-01T00:00:00",
          "2014-07-01T00:00:00",
          "2014-08-01T00:00:00",
          "2014-09-01T00:00:00",
          "2014-10-01T00:00:00",
          "2014-11-01T00:00:00",
          "2014-12-01T00:00:00",
          "2015-01-01T00:00:00",
          "2015-02-01T00:00:00",
          "2015-03-01T00:00:00",
          "2015-04-01T00:00:00",
          "2015-05-01T00:00:00",
          "2015-06-01T00:00:00",
          "2015-07-01T00:00:00",
          "2015-08-01T00:00:00",
          "2015-09-01T00:00:00",
          "2015-10-01T00:00:00",
          "2015-11-01T00:00:00",
          "2015-12-01T00:00:00",
          "2016-01-01T00:00:00",
          "2016-02-01T00:00:00",
          "2016-03-01T00:00:00",
          "2016-04-01T00:00:00",
          "2016-05-01T00:00:00",
          "2016-06-01T00:00:00",
          "2016-07-01T00:00:00",
          "2016-08-01T00:00:00",
          "2016-09-01T00:00:00",
          "2016-10-01T00:00:00",
          "2016-11-01T00:00:00",
          "2016-12-01T00:00:00",
          "2017-01-01T00:00:00",
          "2017-02-01T00:00:00",
          "2017-03-01T00:00:00",
          "2017-04-01T00:00:00",
          "2017-05-01T00:00:00",
          "2017-06-01T00:00:00",
          "2017-07-01T00:00:00",
          "2017-08-01T00:00:00",
          "2017-09-01T00:00:00",
          "2017-10-01T00:00:00",
          "2017-11-01T00:00:00",
          "2017-12-01T00:00:00",
          "2018-01-01T00:00:00",
          "2018-02-01T00:00:00",
          "2018-03-01T00:00:00",
          "2018-04-01T00:00:00",
          "2018-05-01T00:00:00",
          "2018-06-01T00:00:00",
          "2018-07-01T00:00:00",
          "2018-08-01T00:00:00",
          "2018-09-01T00:00:00",
          "2018-10-01T00:00:00",
          "2018-11-01T00:00:00",
          "2018-12-01T00:00:00"
         ],
         "y": [
          null,
          null,
          null,
          null,
          null,
          null,
          null,
          null,
          null,
          null,
          null,
          null,
          null,
          null,
          null,
          null,
          null,
          null,
          null,
          null,
          null,
          null,
          null,
          null,
          null,
          null,
          null,
          null,
          null,
          null,
          null,
          null,
          null,
          null,
          null,
          null,
          1012.1643883580198,
          942.7742294191066,
          1022.0515965095593,
          1064.6444703718637,
          1070.095313114841,
          1068.1692000812732,
          1070.2196708401584,
          1157.3294051431,
          1190.5615121975702,
          1190.2139531240698,
          1171.0398025550087,
          1225.0763524251192,
          1181.128752831886,
          1174.6123243773159,
          1128.8237352683186,
          1184.4988746417314,
          1204.2443306201365,
          1160.6978007742002,
          1160.761168090816,
          1141.1512296419992,
          1061.4795078020659,
          1042.1037961754114,
          1072.5178302056015,
          1094.1634015390594,
          1089.8869801189087,
          1090.7303924728246,
          1131.5777437842357,
          1104.1453100836934,
          1109.4824307514648,
          1031.7367151896665,
          945.802670366871,
          962.4224465176851,
          896.1061270128993,
          931.3785154205973,
          939.1830760732289,
          933.8222891943342,
          910.116561836984,
          876.5732338118686,
          895.4697485661266,
          944.3820454766445,
          995.3365704375403,
          991.6360644854891,
          988.0280133916674,
          1001.3677925702009,
          1012.0984602930915,
          1045.2842147400124,
          1054.6471181315476,
          1092.4626554053455,
          1112.3025748442292,
          1156.1309850778646,
          1160.3960202326966,
          1190.6101903980737,
          1196.0143381488172,
          1217.5292079509932,
          1148.48081547139,
          1182.8483591651016,
          1165.1387051537956,
          1142.5096142411458,
          1185.6720338514428,
          1231.328862537581,
          1210.9809903607902,
          1230.3081296953565,
          1219.7823285158672,
          1184.3383308738794,
          1197.1664841343045,
          1179.7463867102592,
          1218.412148124424,
          1221.101267571896,
          1223.7643578567136,
          1165.655199758376,
          1188.5995413060093,
          1198.988083508116,
          1224.2770401530033,
          1234.9511304197267,
          1246.5510679648191,
          1256.1737905012892,
          1249.5900726803336,
          1247.292547567813,
          1271.749765594955,
          1309.2888264550872,
          1325.8711033991697,
          1358.6337381650392,
          1376.098073575057,
          1404.0856383742234,
          1415.7123502517916,
          1408.846397309612,
          1436.4091905003195,
          1498.2477242911866,
          1532.9322809344658,
          1498.7740779116223,
          1457.0039777137886,
          1481.9442028965364,
          1563.0565160730225,
          1606.4921464627423,
          1583.6969270219276,
          1573.7911198104928,
          1491.2583768789868,
          1460.4379943665579,
          1484.5942996789643,
          1493.9297377868602,
          1537.4341616465601,
          1414.4728787227612,
          1443.9521049523678,
          1470.1263864811756,
          1372.0130862858887,
          1189.922041357257,
          1095.9055694852655,
          1109.7348049520401,
          1059.2945286038641,
          974.4918435240183,
          1041.9674002467602,
          1077.2495419118688,
          1140.8293672352615,
          1156.2418069553642,
          1228.3670719512083,
          1237.6243867601174,
          1283.5665653641638,
          1269.9665607018387,
          1328.936364035135,
          1362.4710055805651,
          1325.4061245972257,
          1353.8986131941429,
          1422.7206236656627,
          1414.0422482381675,
          1332.4345914755631,
          1304.1234038078014,
          1390.411614268663,
          1380.8578780331698,
          1451.1795500932174,
          1506.9508204743674,
          1494.9055069121532,
          1562.5248876184376,
          1548.5498496006944,
          1595.5504861468403,
          1629.025582802622,
          1695.6577640288133,
          1720.3675809674967,
          1720.181245648615,
          1696.7233544608935,
          1694.0657511623344,
          1629.4784504193683,
          1718.9322112439042,
          1730.389329396078,
          1768.2111665557732,
          1766.9396930545406,
          1788.1372662179692,
          1830.094588686552,
          1853.671159274315,
          1827.7081271848128,
          1894.1883497416227,
          1935.1061248746048,
          1912.9277848919817,
          1939.9236241104836,
          1927.9751169920878,
          1937.8992724252346,
          1921.1780426031764,
          2032.8886797533937,
          2101.010105640929,
          2223.3755882275786,
          2310.621087793948,
          2216.9276046171976,
          2231.8763832807604,
          2318.3619883508823,
          2231.814160489732,
          2263.878471526938,
          2378.7685454017073,
          2410.135953523504,
          2419.4403691391963,
          2360.005931285705,
          2429.5845606586167,
          2505.1379435019835,
          2544.3104369361263,
          2597.7370529589493,
          2675.7548719844617,
          2573.5584167020074,
          2709.682031210062,
          2701.8351472441973,
          2780.4450286356714,
          2896.1402159861404,
          2847.125428747386,
          2771.516843071715,
          2896.844719506247,
          2861.71278767304,
          2862.6951001255056,
          2886.203818170061,
          2819.904930216789,
          2898.895689278756,
          2768.9928021080927,
          2740.66119573121,
          2901.7302230715104,
          2868.8449195084636,
          2811.1988811759315,
          2787.486230466722,
          2803.5575585200554,
          2970.2717390213047,
          2943.149359355011,
          2916.2743912919304,
          3041.5861706605338,
          3096.304892667967,
          3063.8021900699937,
          3037.572927678471,
          2953.0694307508397,
          2949.4846629270864,
          3009.7618144177204,
          3038.0057270352804,
          3162.175812421411,
          3184.4589738921236,
          3210.1686304707378,
          3269.749391709227,
          3310.052352371991,
          3349.6431596850293,
          3316.2147678616047,
          3333.943621258222,
          3392.311657558536,
          3541.4158911472987,
          3536.7764560533737,
          3609.1571358861625,
          3432.5461800704375,
          3442.4557612718686,
          3444.8715657458956,
          3458.2035684596945,
          3557.089097415446,
          3640.069742306471,
          3724.966171377609,
          3746.1182303268306,
          3651.5368614345707,
          3807.6528208665045,
          3519.373168655914
         ]
        }
       ],
       "layout": {
        "template": {
         "data": {
          "bar": [
           {
            "error_x": {
             "color": "#2a3f5f"
            },
            "error_y": {
             "color": "#2a3f5f"
            },
            "marker": {
             "line": {
              "color": "#E5ECF6",
              "width": 0.5
             }
            },
            "type": "bar"
           }
          ],
          "barpolar": [
           {
            "marker": {
             "line": {
              "color": "#E5ECF6",
              "width": 0.5
             }
            },
            "type": "barpolar"
           }
          ],
          "carpet": [
           {
            "aaxis": {
             "endlinecolor": "#2a3f5f",
             "gridcolor": "white",
             "linecolor": "white",
             "minorgridcolor": "white",
             "startlinecolor": "#2a3f5f"
            },
            "baxis": {
             "endlinecolor": "#2a3f5f",
             "gridcolor": "white",
             "linecolor": "white",
             "minorgridcolor": "white",
             "startlinecolor": "#2a3f5f"
            },
            "type": "carpet"
           }
          ],
          "choropleth": [
           {
            "colorbar": {
             "outlinewidth": 0,
             "ticks": ""
            },
            "type": "choropleth"
           }
          ],
          "contour": [
           {
            "colorbar": {
             "outlinewidth": 0,
             "ticks": ""
            },
            "colorscale": [
             [
              0.0,
              "#0d0887"
             ],
             [
              0.1111111111111111,
              "#46039f"
             ],
             [
              0.2222222222222222,
              "#7201a8"
             ],
             [
              0.3333333333333333,
              "#9c179e"
             ],
             [
              0.4444444444444444,
              "#bd3786"
             ],
             [
              0.5555555555555556,
              "#d8576b"
             ],
             [
              0.6666666666666666,
              "#ed7953"
             ],
             [
              0.7777777777777778,
              "#fb9f3a"
             ],
             [
              0.8888888888888888,
              "#fdca26"
             ],
             [
              1.0,
              "#f0f921"
             ]
            ],
            "type": "contour"
           }
          ],
          "contourcarpet": [
           {
            "colorbar": {
             "outlinewidth": 0,
             "ticks": ""
            },
            "type": "contourcarpet"
           }
          ],
          "heatmap": [
           {
            "colorbar": {
             "outlinewidth": 0,
             "ticks": ""
            },
            "colorscale": [
             [
              0.0,
              "#0d0887"
             ],
             [
              0.1111111111111111,
              "#46039f"
             ],
             [
              0.2222222222222222,
              "#7201a8"
             ],
             [
              0.3333333333333333,
              "#9c179e"
             ],
             [
              0.4444444444444444,
              "#bd3786"
             ],
             [
              0.5555555555555556,
              "#d8576b"
             ],
             [
              0.6666666666666666,
              "#ed7953"
             ],
             [
              0.7777777777777778,
              "#fb9f3a"
             ],
             [
              0.8888888888888888,
              "#fdca26"
             ],
             [
              1.0,
              "#f0f921"
             ]
            ],
            "type": "heatmap"
           }
          ],
          "heatmapgl": [
           {
            "colorbar": {
             "outlinewidth": 0,
             "ticks": ""
            },
            "colorscale": [
             [
              0.0,
              "#0d0887"
             ],
             [
              0.1111111111111111,
              "#46039f"
             ],
             [
              0.2222222222222222,
              "#7201a8"
             ],
             [
              0.3333333333333333,
              "#9c179e"
             ],
             [
              0.4444444444444444,
              "#bd3786"
             ],
             [
              0.5555555555555556,
              "#d8576b"
             ],
             [
              0.6666666666666666,
              "#ed7953"
             ],
             [
              0.7777777777777778,
              "#fb9f3a"
             ],
             [
              0.8888888888888888,
              "#fdca26"
             ],
             [
              1.0,
              "#f0f921"
             ]
            ],
            "type": "heatmapgl"
           }
          ],
          "histogram": [
           {
            "marker": {
             "colorbar": {
              "outlinewidth": 0,
              "ticks": ""
             }
            },
            "type": "histogram"
           }
          ],
          "histogram2d": [
           {
            "colorbar": {
             "outlinewidth": 0,
             "ticks": ""
            },
            "colorscale": [
             [
              0.0,
              "#0d0887"
             ],
             [
              0.1111111111111111,
              "#46039f"
             ],
             [
              0.2222222222222222,
              "#7201a8"
             ],
             [
              0.3333333333333333,
              "#9c179e"
             ],
             [
              0.4444444444444444,
              "#bd3786"
             ],
             [
              0.5555555555555556,
              "#d8576b"
             ],
             [
              0.6666666666666666,
              "#ed7953"
             ],
             [
              0.7777777777777778,
              "#fb9f3a"
             ],
             [
              0.8888888888888888,
              "#fdca26"
             ],
             [
              1.0,
              "#f0f921"
             ]
            ],
            "type": "histogram2d"
           }
          ],
          "histogram2dcontour": [
           {
            "colorbar": {
             "outlinewidth": 0,
             "ticks": ""
            },
            "colorscale": [
             [
              0.0,
              "#0d0887"
             ],
             [
              0.1111111111111111,
              "#46039f"
             ],
             [
              0.2222222222222222,
              "#7201a8"
             ],
             [
              0.3333333333333333,
              "#9c179e"
             ],
             [
              0.4444444444444444,
              "#bd3786"
             ],
             [
              0.5555555555555556,
              "#d8576b"
             ],
             [
              0.6666666666666666,
              "#ed7953"
             ],
             [
              0.7777777777777778,
              "#fb9f3a"
             ],
             [
              0.8888888888888888,
              "#fdca26"
             ],
             [
              1.0,
              "#f0f921"
             ]
            ],
            "type": "histogram2dcontour"
           }
          ],
          "mesh3d": [
           {
            "colorbar": {
             "outlinewidth": 0,
             "ticks": ""
            },
            "type": "mesh3d"
           }
          ],
          "parcoords": [
           {
            "line": {
             "colorbar": {
              "outlinewidth": 0,
              "ticks": ""
             }
            },
            "type": "parcoords"
           }
          ],
          "pie": [
           {
            "automargin": true,
            "type": "pie"
           }
          ],
          "scatter": [
           {
            "marker": {
             "colorbar": {
              "outlinewidth": 0,
              "ticks": ""
             }
            },
            "type": "scatter"
           }
          ],
          "scatter3d": [
           {
            "line": {
             "colorbar": {
              "outlinewidth": 0,
              "ticks": ""
             }
            },
            "marker": {
             "colorbar": {
              "outlinewidth": 0,
              "ticks": ""
             }
            },
            "type": "scatter3d"
           }
          ],
          "scattercarpet": [
           {
            "marker": {
             "colorbar": {
              "outlinewidth": 0,
              "ticks": ""
             }
            },
            "type": "scattercarpet"
           }
          ],
          "scattergeo": [
           {
            "marker": {
             "colorbar": {
              "outlinewidth": 0,
              "ticks": ""
             }
            },
            "type": "scattergeo"
           }
          ],
          "scattergl": [
           {
            "marker": {
             "colorbar": {
              "outlinewidth": 0,
              "ticks": ""
             }
            },
            "type": "scattergl"
           }
          ],
          "scattermapbox": [
           {
            "marker": {
             "colorbar": {
              "outlinewidth": 0,
              "ticks": ""
             }
            },
            "type": "scattermapbox"
           }
          ],
          "scatterpolar": [
           {
            "marker": {
             "colorbar": {
              "outlinewidth": 0,
              "ticks": ""
             }
            },
            "type": "scatterpolar"
           }
          ],
          "scatterpolargl": [
           {
            "marker": {
             "colorbar": {
              "outlinewidth": 0,
              "ticks": ""
             }
            },
            "type": "scatterpolargl"
           }
          ],
          "scatterternary": [
           {
            "marker": {
             "colorbar": {
              "outlinewidth": 0,
              "ticks": ""
             }
            },
            "type": "scatterternary"
           }
          ],
          "surface": [
           {
            "colorbar": {
             "outlinewidth": 0,
             "ticks": ""
            },
            "colorscale": [
             [
              0.0,
              "#0d0887"
             ],
             [
              0.1111111111111111,
              "#46039f"
             ],
             [
              0.2222222222222222,
              "#7201a8"
             ],
             [
              0.3333333333333333,
              "#9c179e"
             ],
             [
              0.4444444444444444,
              "#bd3786"
             ],
             [
              0.5555555555555556,
              "#d8576b"
             ],
             [
              0.6666666666666666,
              "#ed7953"
             ],
             [
              0.7777777777777778,
              "#fb9f3a"
             ],
             [
              0.8888888888888888,
              "#fdca26"
             ],
             [
              1.0,
              "#f0f921"
             ]
            ],
            "type": "surface"
           }
          ],
          "table": [
           {
            "cells": {
             "fill": {
              "color": "#EBF0F8"
             },
             "line": {
              "color": "white"
             }
            },
            "header": {
             "fill": {
              "color": "#C8D4E3"
             },
             "line": {
              "color": "white"
             }
            },
            "type": "table"
           }
          ]
         },
         "layout": {
          "annotationdefaults": {
           "arrowcolor": "#2a3f5f",
           "arrowhead": 0,
           "arrowwidth": 1
          },
          "coloraxis": {
           "colorbar": {
            "outlinewidth": 0,
            "ticks": ""
           }
          },
          "colorscale": {
           "diverging": [
            [
             0,
             "#8e0152"
            ],
            [
             0.1,
             "#c51b7d"
            ],
            [
             0.2,
             "#de77ae"
            ],
            [
             0.3,
             "#f1b6da"
            ],
            [
             0.4,
             "#fde0ef"
            ],
            [
             0.5,
             "#f7f7f7"
            ],
            [
             0.6,
             "#e6f5d0"
            ],
            [
             0.7,
             "#b8e186"
            ],
            [
             0.8,
             "#7fbc41"
            ],
            [
             0.9,
             "#4d9221"
            ],
            [
             1,
             "#276419"
            ]
           ],
           "sequential": [
            [
             0.0,
             "#0d0887"
            ],
            [
             0.1111111111111111,
             "#46039f"
            ],
            [
             0.2222222222222222,
             "#7201a8"
            ],
            [
             0.3333333333333333,
             "#9c179e"
            ],
            [
             0.4444444444444444,
             "#bd3786"
            ],
            [
             0.5555555555555556,
             "#d8576b"
            ],
            [
             0.6666666666666666,
             "#ed7953"
            ],
            [
             0.7777777777777778,
             "#fb9f3a"
            ],
            [
             0.8888888888888888,
             "#fdca26"
            ],
            [
             1.0,
             "#f0f921"
            ]
           ],
           "sequentialminus": [
            [
             0.0,
             "#0d0887"
            ],
            [
             0.1111111111111111,
             "#46039f"
            ],
            [
             0.2222222222222222,
             "#7201a8"
            ],
            [
             0.3333333333333333,
             "#9c179e"
            ],
            [
             0.4444444444444444,
             "#bd3786"
            ],
            [
             0.5555555555555556,
             "#d8576b"
            ],
            [
             0.6666666666666666,
             "#ed7953"
            ],
            [
             0.7777777777777778,
             "#fb9f3a"
            ],
            [
             0.8888888888888888,
             "#fdca26"
            ],
            [
             1.0,
             "#f0f921"
            ]
           ]
          },
          "colorway": [
           "#636efa",
           "#EF553B",
           "#00cc96",
           "#ab63fa",
           "#FFA15A",
           "#19d3f3",
           "#FF6692",
           "#B6E880",
           "#FF97FF",
           "#FECB52"
          ],
          "font": {
           "color": "#2a3f5f"
          },
          "geo": {
           "bgcolor": "white",
           "lakecolor": "white",
           "landcolor": "#E5ECF6",
           "showlakes": true,
           "showland": true,
           "subunitcolor": "white"
          },
          "hoverlabel": {
           "align": "left"
          },
          "hovermode": "closest",
          "mapbox": {
           "style": "light"
          },
          "paper_bgcolor": "white",
          "plot_bgcolor": "#E5ECF6",
          "polar": {
           "angularaxis": {
            "gridcolor": "white",
            "linecolor": "white",
            "ticks": ""
           },
           "bgcolor": "#E5ECF6",
           "radialaxis": {
            "gridcolor": "white",
            "linecolor": "white",
            "ticks": ""
           }
          },
          "scene": {
           "xaxis": {
            "backgroundcolor": "#E5ECF6",
            "gridcolor": "white",
            "gridwidth": 2,
            "linecolor": "white",
            "showbackground": true,
            "ticks": "",
            "zerolinecolor": "white"
           },
           "yaxis": {
            "backgroundcolor": "#E5ECF6",
            "gridcolor": "white",
            "gridwidth": 2,
            "linecolor": "white",
            "showbackground": true,
            "ticks": "",
            "zerolinecolor": "white"
           },
           "zaxis": {
            "backgroundcolor": "#E5ECF6",
            "gridcolor": "white",
            "gridwidth": 2,
            "linecolor": "white",
            "showbackground": true,
            "ticks": "",
            "zerolinecolor": "white"
           }
          },
          "shapedefaults": {
           "line": {
            "color": "#2a3f5f"
           }
          },
          "ternary": {
           "aaxis": {
            "gridcolor": "white",
            "linecolor": "white",
            "ticks": ""
           },
           "baxis": {
            "gridcolor": "white",
            "linecolor": "white",
            "ticks": ""
           },
           "bgcolor": "#E5ECF6",
           "caxis": {
            "gridcolor": "white",
            "linecolor": "white",
            "ticks": ""
           }
          },
          "title": {
           "x": 0.05
          },
          "xaxis": {
           "automargin": true,
           "gridcolor": "white",
           "linecolor": "white",
           "ticks": "",
           "title": {
            "standoff": 15
           },
           "zerolinecolor": "white",
           "zerolinewidth": 2
          },
          "yaxis": {
           "automargin": true,
           "gridcolor": "white",
           "linecolor": "white",
           "ticks": "",
           "title": {
            "standoff": 15
           },
           "zerolinecolor": "white",
           "zerolinewidth": 2
          }
         }
        }
       }
      },
      "text/html": "<div>\n        \n        \n            <div id=\"a02f2af0-9c43-40bd-9d46-acbbca63a1be\" class=\"plotly-graph-div\" style=\"height:525px; width:100%;\"></div>\n            <script type=\"text/javascript\">\n                require([\"plotly\"], function(Plotly) {\n                    window.PLOTLYENV=window.PLOTLYENV || {};\n                    \n                if (document.getElementById(\"a02f2af0-9c43-40bd-9d46-acbbca63a1be\")) {\n                    Plotly.newPlot(\n                        'a02f2af0-9c43-40bd-9d46-acbbca63a1be',\n                        [{\"name\": \"EW_wealth_index\", \"type\": \"scatter\", \"x\": [\"1997-01-01T00:00:00\", \"1997-02-01T00:00:00\", \"1997-03-01T00:00:00\", \"1997-04-01T00:00:00\", \"1997-05-01T00:00:00\", \"1997-06-01T00:00:00\", \"1997-07-01T00:00:00\", \"1997-08-01T00:00:00\", \"1997-09-01T00:00:00\", \"1997-10-01T00:00:00\", \"1997-11-01T00:00:00\", \"1997-12-01T00:00:00\", \"1998-01-01T00:00:00\", \"1998-02-01T00:00:00\", \"1998-03-01T00:00:00\", \"1998-04-01T00:00:00\", \"1998-05-01T00:00:00\", \"1998-06-01T00:00:00\", \"1998-07-01T00:00:00\", \"1998-08-01T00:00:00\", \"1998-09-01T00:00:00\", \"1998-10-01T00:00:00\", \"1998-11-01T00:00:00\", \"1998-12-01T00:00:00\", \"1999-01-01T00:00:00\", \"1999-02-01T00:00:00\", \"1999-03-01T00:00:00\", \"1999-04-01T00:00:00\", \"1999-05-01T00:00:00\", \"1999-06-01T00:00:00\", \"1999-07-01T00:00:00\", \"1999-08-01T00:00:00\", \"1999-09-01T00:00:00\", \"1999-10-01T00:00:00\", \"1999-11-01T00:00:00\", \"1999-12-01T00:00:00\", \"2000-01-01T00:00:00\", \"2000-02-01T00:00:00\", \"2000-03-01T00:00:00\", \"2000-04-01T00:00:00\", \"2000-05-01T00:00:00\", \"2000-06-01T00:00:00\", \"2000-07-01T00:00:00\", \"2000-08-01T00:00:00\", \"2000-09-01T00:00:00\", \"2000-10-01T00:00:00\", \"2000-11-01T00:00:00\", \"2000-12-01T00:00:00\", \"2001-01-01T00:00:00\", \"2001-02-01T00:00:00\", \"2001-03-01T00:00:00\", \"2001-04-01T00:00:00\", \"2001-05-01T00:00:00\", \"2001-06-01T00:00:00\", \"2001-07-01T00:00:00\", \"2001-08-01T00:00:00\", \"2001-09-01T00:00:00\", \"2001-10-01T00:00:00\", \"2001-11-01T00:00:00\", \"2001-12-01T00:00:00\", \"2002-01-01T00:00:00\", \"2002-02-01T00:00:00\", \"2002-03-01T00:00:00\", \"2002-04-01T00:00:00\", \"2002-05-01T00:00:00\", \"2002-06-01T00:00:00\", \"2002-07-01T00:00:00\", \"2002-08-01T00:00:00\", \"2002-09-01T00:00:00\", \"2002-10-01T00:00:00\", \"2002-11-01T00:00:00\", \"2002-12-01T00:00:00\", \"2003-01-01T00:00:00\", \"2003-02-01T00:00:00\", \"2003-03-01T00:00:00\", \"2003-04-01T00:00:00\", \"2003-05-01T00:00:00\", \"2003-06-01T00:00:00\", \"2003-07-01T00:00:00\", \"2003-08-01T00:00:00\", \"2003-09-01T00:00:00\", \"2003-10-01T00:00:00\", \"2003-11-01T00:00:00\", \"2003-12-01T00:00:00\", \"2004-01-01T00:00:00\", \"2004-02-01T00:00:00\", \"2004-03-01T00:00:00\", \"2004-04-01T00:00:00\", \"2004-05-01T00:00:00\", \"2004-06-01T00:00:00\", \"2004-07-01T00:00:00\", \"2004-08-01T00:00:00\", \"2004-09-01T00:00:00\", \"2004-10-01T00:00:00\", \"2004-11-01T00:00:00\", \"2004-12-01T00:00:00\", \"2005-01-01T00:00:00\", \"2005-02-01T00:00:00\", \"2005-03-01T00:00:00\", \"2005-04-01T00:00:00\", \"2005-05-01T00:00:00\", \"2005-06-01T00:00:00\", \"2005-07-01T00:00:00\", \"2005-08-01T00:00:00\", \"2005-09-01T00:00:00\", \"2005-10-01T00:00:00\", \"2005-11-01T00:00:00\", \"2005-12-01T00:00:00\", \"2006-01-01T00:00:00\", \"2006-02-01T00:00:00\", \"2006-03-01T00:00:00\", \"2006-04-01T00:00:00\", \"2006-05-01T00:00:00\", \"2006-06-01T00:00:00\", \"2006-07-01T00:00:00\", \"2006-08-01T00:00:00\", \"2006-09-01T00:00:00\", \"2006-10-01T00:00:00\", \"2006-11-01T00:00:00\", \"2006-12-01T00:00:00\", \"2007-01-01T00:00:00\", \"2007-02-01T00:00:00\", \"2007-03-01T00:00:00\", \"2007-04-01T00:00:00\", \"2007-05-01T00:00:00\", \"2007-06-01T00:00:00\", \"2007-07-01T00:00:00\", \"2007-08-01T00:00:00\", \"2007-09-01T00:00:00\", \"2007-10-01T00:00:00\", \"2007-11-01T00:00:00\", \"2007-12-01T00:00:00\", \"2008-01-01T00:00:00\", \"2008-02-01T00:00:00\", \"2008-03-01T00:00:00\", \"2008-04-01T00:00:00\", \"2008-05-01T00:00:00\", \"2008-06-01T00:00:00\", \"2008-07-01T00:00:00\", \"2008-08-01T00:00:00\", \"2008-09-01T00:00:00\", \"2008-10-01T00:00:00\", \"2008-11-01T00:00:00\", \"2008-12-01T00:00:00\", \"2009-01-01T00:00:00\", \"2009-02-01T00:00:00\", \"2009-03-01T00:00:00\", \"2009-04-01T00:00:00\", \"2009-05-01T00:00:00\", \"2009-06-01T00:00:00\", \"2009-07-01T00:00:00\", \"2009-08-01T00:00:00\", \"2009-09-01T00:00:00\", \"2009-10-01T00:00:00\", \"2009-11-01T00:00:00\", \"2009-12-01T00:00:00\", \"2010-01-01T00:00:00\", \"2010-02-01T00:00:00\", \"2010-03-01T00:00:00\", \"2010-04-01T00:00:00\", \"2010-05-01T00:00:00\", \"2010-06-01T00:00:00\", \"2010-07-01T00:00:00\", \"2010-08-01T00:00:00\", \"2010-09-01T00:00:00\", \"2010-10-01T00:00:00\", \"2010-11-01T00:00:00\", \"2010-12-01T00:00:00\", \"2011-01-01T00:00:00\", \"2011-02-01T00:00:00\", \"2011-03-01T00:00:00\", \"2011-04-01T00:00:00\", \"2011-05-01T00:00:00\", \"2011-06-01T00:00:00\", \"2011-07-01T00:00:00\", \"2011-08-01T00:00:00\", \"2011-09-01T00:00:00\", \"2011-10-01T00:00:00\", \"2011-11-01T00:00:00\", \"2011-12-01T00:00:00\", \"2012-01-01T00:00:00\", \"2012-02-01T00:00:00\", \"2012-03-01T00:00:00\", \"2012-04-01T00:00:00\", \"2012-05-01T00:00:00\", \"2012-06-01T00:00:00\", \"2012-07-01T00:00:00\", \"2012-08-01T00:00:00\", \"2012-09-01T00:00:00\", \"2012-10-01T00:00:00\", \"2012-11-01T00:00:00\", \"2012-12-01T00:00:00\", \"2013-01-01T00:00:00\", \"2013-02-01T00:00:00\", \"2013-03-01T00:00:00\", \"2013-04-01T00:00:00\", \"2013-05-01T00:00:00\", \"2013-06-01T00:00:00\", \"2013-07-01T00:00:00\", \"2013-08-01T00:00:00\", \"2013-09-01T00:00:00\", \"2013-10-01T00:00:00\", \"2013-11-01T00:00:00\", \"2013-12-01T00:00:00\", \"2014-01-01T00:00:00\", \"2014-02-01T00:00:00\", \"2014-03-01T00:00:00\", \"2014-04-01T00:00:00\", \"2014-05-01T00:00:00\", \"2014-06-01T00:00:00\", \"2014-07-01T00:00:00\", \"2014-08-01T00:00:00\", \"2014-09-01T00:00:00\", \"2014-10-01T00:00:00\", \"2014-11-01T00:00:00\", \"2014-12-01T00:00:00\", \"2015-01-01T00:00:00\", \"2015-02-01T00:00:00\", \"2015-03-01T00:00:00\", \"2015-04-01T00:00:00\", \"2015-05-01T00:00:00\", \"2015-06-01T00:00:00\", \"2015-07-01T00:00:00\", \"2015-08-01T00:00:00\", \"2015-09-01T00:00:00\", \"2015-10-01T00:00:00\", \"2015-11-01T00:00:00\", \"2015-12-01T00:00:00\", \"2016-01-01T00:00:00\", \"2016-02-01T00:00:00\", \"2016-03-01T00:00:00\", \"2016-04-01T00:00:00\", \"2016-05-01T00:00:00\", \"2016-06-01T00:00:00\", \"2016-07-01T00:00:00\", \"2016-08-01T00:00:00\", \"2016-09-01T00:00:00\", \"2016-10-01T00:00:00\", \"2016-11-01T00:00:00\", \"2016-12-01T00:00:00\", \"2017-01-01T00:00:00\", \"2017-02-01T00:00:00\", \"2017-03-01T00:00:00\", \"2017-04-01T00:00:00\", \"2017-05-01T00:00:00\", \"2017-06-01T00:00:00\", \"2017-07-01T00:00:00\", \"2017-08-01T00:00:00\", \"2017-09-01T00:00:00\", \"2017-10-01T00:00:00\", \"2017-11-01T00:00:00\", \"2017-12-01T00:00:00\", \"2018-01-01T00:00:00\", \"2018-02-01T00:00:00\", \"2018-03-01T00:00:00\", \"2018-04-01T00:00:00\", \"2018-05-01T00:00:00\", \"2018-06-01T00:00:00\", \"2018-07-01T00:00:00\", \"2018-08-01T00:00:00\", \"2018-09-01T00:00:00\", \"2018-10-01T00:00:00\", \"2018-11-01T00:00:00\", \"2018-12-01T00:00:00\"], \"y\": [null, null, null, null, null, null, null, null, null, null, null, null, null, null, null, null, null, null, null, null, null, null, null, null, null, null, null, null, null, null, null, null, null, null, null, null, 968.8633333333333, 933.9390397111111, 1007.3591007529338, 1005.3040881873981, 998.1496740931309, 998.6520760957578, 1001.2552291741141, 1059.6784717964235, 1035.5884478709183, 1050.7874343241706, 1010.8715223189764, 1075.6582781843995, 1101.4418071124796, 1063.331920586388, 1013.1001206578869, 1087.8601555616344, 1107.456143163818, 1074.4428755361046, 1060.7723806830336, 1030.278710646332, 917.9955024977259, 949.7306070190723, 1012.9098527666711, 1045.279075294918, 1051.7946481975896, 1067.2981013120223, 1121.5595367827254, 1099.8162358962975, 1097.7632455892913, 1033.3794312354792, 931.784454752615, 937.620531387549, 847.67146840977, 890.8320740096342, 946.0577237177381, 913.4597280841705, 876.610762653255, 861.2876065220762, 859.9813203188511, 929.8462027815546, 1004.1502128458286, 1022.0073507976035, 1042.607612298514, 1083.5612393095994, 1067.5606516757946, 1146.5316716157586, 1176.998839902828, 1246.8537210510608, 1246.9659378859556, 1279.7694551586085, 1275.5419500584014, 1257.8586868240918, 1266.831412123437, 1313.5183724315593, 1266.2273326294485, 1268.6964759280756, 1299.0225506910099, 1316.2779002393554, 1403.3321329681855, 1450.2829483635244, 1423.2448399295338, 1469.0543471773992, 1439.683053929499, 1380.2577364068022, 1436.9587242183936, 1442.3473194342127, 1518.5080657247374, 1507.4229568449466, 1523.4669618489665, 1479.7840858295503, 1541.4910822086426, 1551.3001037950971, 1618.5903312973824, 1617.268482526823, 1660.3471240063957, 1696.9356401290834, 1656.9445235433743, 1659.1040745723926, 1620.6460421238046, 1651.1411984831009, 1671.659379776251, 1753.9718876364334, 1806.7956743190841, 1811.3487994183681, 1862.5073273432745, 1856.739762986268, 1880.8711907725462, 1964.1749758118622, 2058.304787902686, 2032.123151000564, 1973.266090803751, 1980.0278159415716, 2060.3575444343214, 2120.9663955330975, 2035.053116738037, 2025.3866144335313, 1913.4502475425047, 1886.6172969044671, 1877.4546255658345, 1962.365640098092, 2031.1138496895285, 1859.8164779862125, 1821.9072187765937, 1855.812912118026, 1643.353263895714, 1306.9478950878354, 1187.5059269557582, 1223.0915212335324, 1114.2812225328598, 990.5328642291023, 1083.8146458297708, 1267.4851011430562, 1338.7726881816786, 1323.4660537801349, 1463.7490439273165, 1511.6331543176589, 1594.148169434679, 1546.0899159534547, 1644.0140975968934, 1711.0789126848626, 1647.7975108974008, 1727.874977268645, 1849.0566090077525, 1903.7270494140816, 1753.7197036770833, 1640.598937057566, 1777.7366022062079, 1695.4333233127345, 1871.4362566058296, 1963.1678237837918, 1999.5584113439972, 2133.4221817887733, 2157.9280912502536, 2231.0027295136247, 2264.244670183378, 2330.0511677811405, 2307.5661740120527, 2271.8604334128395, 2207.08969245624, 2077.526170543417, 1866.8442415886088, 2115.9932740710246, 2118.0881074123554, 2108.902665319877, 2227.099630035505, 2300.3118185402054, 2340.6056138949684, 2326.772634716849, 2168.5986310087974, 2227.5339131375135, 2226.4424215200756, 2286.8680688401305, 2347.7140052584036, 2352.5346446825342, 2379.9259897287884, 2427.4769110035695, 2562.290887051004, 2582.1230185167788, 2685.020620804673, 2710.1166135404605, 2772.910015476193, 2714.8822518856614, 2870.861286863999, 2807.463100112419, 2939.00210456302, 3081.0538729502323, 3148.9397599509025, 3251.3222880127732, 3120.7491849261805, 3267.2371516666153, 3284.542617779943, 3305.83740241855, 3353.4855388454093, 3442.7665021746034, 3333.0225819736174, 3481.108775290705, 3374.8653354688327, 3441.068943799613, 3535.4001137789733, 3489.310280962342, 3376.7102381956875, 3600.4623142793275, 3526.3647998514593, 3557.6319010768084, 3564.498130645887, 3478.213512563386, 3454.5152844977874, 3282.906480214886, 3126.541644562251, 3333.883464624137, 3341.406928309306, 3250.5652119516703, 3086.2599757048865, 3156.9353291485286, 3411.3948397956633, 3495.3037815385046, 3496.0494463452324, 3530.683642860359, 3701.5805001202775, 3691.6972801849565, 3690.4174917944924, 3592.486112953906, 3814.777178669783, 3853.382723717922, 3949.16497362047, 4051.185068772332, 4066.3094930290818, 4088.4166623061838, 4121.042227271388, 4159.7113401706165, 4236.679865668241, 4218.673976239151, 4332.184430693159, 4413.254042006198, 4585.164997789147, 4705.846540530957, 4903.460722922987, 4686.54796540995, 4608.173261601745, 4554.165470975772, 4668.945621395932, 4708.538280265369, 4817.588026836314, 4862.568240380209, 4856.457612958131, 4495.0076610177, 4578.9144706900315, 4138.102374596701]}, {\"name\": \"MW_wealth_index\", \"type\": \"scatter\", \"x\": [\"1997-01-01T00:00:00\", \"1997-02-01T00:00:00\", \"1997-03-01T00:00:00\", \"1997-04-01T00:00:00\", \"1997-05-01T00:00:00\", \"1997-06-01T00:00:00\", \"1997-07-01T00:00:00\", \"1997-08-01T00:00:00\", \"1997-09-01T00:00:00\", \"1997-10-01T00:00:00\", \"1997-11-01T00:00:00\", \"1997-12-01T00:00:00\", \"1998-01-01T00:00:00\", \"1998-02-01T00:00:00\", \"1998-03-01T00:00:00\", \"1998-04-01T00:00:00\", \"1998-05-01T00:00:00\", \"1998-06-01T00:00:00\", \"1998-07-01T00:00:00\", \"1998-08-01T00:00:00\", \"1998-09-01T00:00:00\", \"1998-10-01T00:00:00\", \"1998-11-01T00:00:00\", \"1998-12-01T00:00:00\", \"1999-01-01T00:00:00\", \"1999-02-01T00:00:00\", \"1999-03-01T00:00:00\", \"1999-04-01T00:00:00\", \"1999-05-01T00:00:00\", \"1999-06-01T00:00:00\", \"1999-07-01T00:00:00\", \"1999-08-01T00:00:00\", \"1999-09-01T00:00:00\", \"1999-10-01T00:00:00\", \"1999-11-01T00:00:00\", \"1999-12-01T00:00:00\", \"2000-01-01T00:00:00\", \"2000-02-01T00:00:00\", \"2000-03-01T00:00:00\", \"2000-04-01T00:00:00\", \"2000-05-01T00:00:00\", \"2000-06-01T00:00:00\", \"2000-07-01T00:00:00\", \"2000-08-01T00:00:00\", \"2000-09-01T00:00:00\", \"2000-10-01T00:00:00\", \"2000-11-01T00:00:00\", \"2000-12-01T00:00:00\", \"2001-01-01T00:00:00\", \"2001-02-01T00:00:00\", \"2001-03-01T00:00:00\", \"2001-04-01T00:00:00\", \"2001-05-01T00:00:00\", \"2001-06-01T00:00:00\", \"2001-07-01T00:00:00\", \"2001-08-01T00:00:00\", \"2001-09-01T00:00:00\", \"2001-10-01T00:00:00\", \"2001-11-01T00:00:00\", \"2001-12-01T00:00:00\", \"2002-01-01T00:00:00\", \"2002-02-01T00:00:00\", \"2002-03-01T00:00:00\", \"2002-04-01T00:00:00\", \"2002-05-01T00:00:00\", \"2002-06-01T00:00:00\", \"2002-07-01T00:00:00\", \"2002-08-01T00:00:00\", \"2002-09-01T00:00:00\", \"2002-10-01T00:00:00\", \"2002-11-01T00:00:00\", \"2002-12-01T00:00:00\", \"2003-01-01T00:00:00\", \"2003-02-01T00:00:00\", \"2003-03-01T00:00:00\", \"2003-04-01T00:00:00\", \"2003-05-01T00:00:00\", \"2003-06-01T00:00:00\", \"2003-07-01T00:00:00\", \"2003-08-01T00:00:00\", \"2003-09-01T00:00:00\", \"2003-10-01T00:00:00\", \"2003-11-01T00:00:00\", \"2003-12-01T00:00:00\", \"2004-01-01T00:00:00\", \"2004-02-01T00:00:00\", \"2004-03-01T00:00:00\", \"2004-04-01T00:00:00\", \"2004-05-01T00:00:00\", \"2004-06-01T00:00:00\", \"2004-07-01T00:00:00\", \"2004-08-01T00:00:00\", \"2004-09-01T00:00:00\", \"2004-10-01T00:00:00\", \"2004-11-01T00:00:00\", \"2004-12-01T00:00:00\", \"2005-01-01T00:00:00\", \"2005-02-01T00:00:00\", \"2005-03-01T00:00:00\", \"2005-04-01T00:00:00\", \"2005-05-01T00:00:00\", \"2005-06-01T00:00:00\", \"2005-07-01T00:00:00\", \"2005-08-01T00:00:00\", \"2005-09-01T00:00:00\", \"2005-10-01T00:00:00\", \"2005-11-01T00:00:00\", \"2005-12-01T00:00:00\", \"2006-01-01T00:00:00\", \"2006-02-01T00:00:00\", \"2006-03-01T00:00:00\", \"2006-04-01T00:00:00\", \"2006-05-01T00:00:00\", \"2006-06-01T00:00:00\", \"2006-07-01T00:00:00\", \"2006-08-01T00:00:00\", \"2006-09-01T00:00:00\", \"2006-10-01T00:00:00\", \"2006-11-01T00:00:00\", \"2006-12-01T00:00:00\", \"2007-01-01T00:00:00\", \"2007-02-01T00:00:00\", \"2007-03-01T00:00:00\", \"2007-04-01T00:00:00\", \"2007-05-01T00:00:00\", \"2007-06-01T00:00:00\", \"2007-07-01T00:00:00\", \"2007-08-01T00:00:00\", \"2007-09-01T00:00:00\", \"2007-10-01T00:00:00\", \"2007-11-01T00:00:00\", \"2007-12-01T00:00:00\", \"2008-01-01T00:00:00\", \"2008-02-01T00:00:00\", \"2008-03-01T00:00:00\", \"2008-04-01T00:00:00\", \"2008-05-01T00:00:00\", \"2008-06-01T00:00:00\", \"2008-07-01T00:00:00\", \"2008-08-01T00:00:00\", \"2008-09-01T00:00:00\", \"2008-10-01T00:00:00\", \"2008-11-01T00:00:00\", \"2008-12-01T00:00:00\", \"2009-01-01T00:00:00\", \"2009-02-01T00:00:00\", \"2009-03-01T00:00:00\", \"2009-04-01T00:00:00\", \"2009-05-01T00:00:00\", \"2009-06-01T00:00:00\", \"2009-07-01T00:00:00\", \"2009-08-01T00:00:00\", \"2009-09-01T00:00:00\", \"2009-10-01T00:00:00\", \"2009-11-01T00:00:00\", \"2009-12-01T00:00:00\", \"2010-01-01T00:00:00\", \"2010-02-01T00:00:00\", \"2010-03-01T00:00:00\", \"2010-04-01T00:00:00\", \"2010-05-01T00:00:00\", \"2010-06-01T00:00:00\", \"2010-07-01T00:00:00\", \"2010-08-01T00:00:00\", \"2010-09-01T00:00:00\", \"2010-10-01T00:00:00\", \"2010-11-01T00:00:00\", \"2010-12-01T00:00:00\", \"2011-01-01T00:00:00\", \"2011-02-01T00:00:00\", \"2011-03-01T00:00:00\", \"2011-04-01T00:00:00\", \"2011-05-01T00:00:00\", \"2011-06-01T00:00:00\", \"2011-07-01T00:00:00\", \"2011-08-01T00:00:00\", \"2011-09-01T00:00:00\", \"2011-10-01T00:00:00\", \"2011-11-01T00:00:00\", \"2011-12-01T00:00:00\", \"2012-01-01T00:00:00\", \"2012-02-01T00:00:00\", \"2012-03-01T00:00:00\", \"2012-04-01T00:00:00\", \"2012-05-01T00:00:00\", \"2012-06-01T00:00:00\", \"2012-07-01T00:00:00\", \"2012-08-01T00:00:00\", \"2012-09-01T00:00:00\", \"2012-10-01T00:00:00\", \"2012-11-01T00:00:00\", \"2012-12-01T00:00:00\", \"2013-01-01T00:00:00\", \"2013-02-01T00:00:00\", \"2013-03-01T00:00:00\", \"2013-04-01T00:00:00\", \"2013-05-01T00:00:00\", \"2013-06-01T00:00:00\", \"2013-07-01T00:00:00\", \"2013-08-01T00:00:00\", \"2013-09-01T00:00:00\", \"2013-10-01T00:00:00\", \"2013-11-01T00:00:00\", \"2013-12-01T00:00:00\", \"2014-01-01T00:00:00\", \"2014-02-01T00:00:00\", \"2014-03-01T00:00:00\", \"2014-04-01T00:00:00\", \"2014-05-01T00:00:00\", \"2014-06-01T00:00:00\", \"2014-07-01T00:00:00\", \"2014-08-01T00:00:00\", \"2014-09-01T00:00:00\", \"2014-10-01T00:00:00\", \"2014-11-01T00:00:00\", \"2014-12-01T00:00:00\", \"2015-01-01T00:00:00\", \"2015-02-01T00:00:00\", \"2015-03-01T00:00:00\", \"2015-04-01T00:00:00\", \"2015-05-01T00:00:00\", \"2015-06-01T00:00:00\", \"2015-07-01T00:00:00\", \"2015-08-01T00:00:00\", \"2015-09-01T00:00:00\", \"2015-10-01T00:00:00\", \"2015-11-01T00:00:00\", \"2015-12-01T00:00:00\", \"2016-01-01T00:00:00\", \"2016-02-01T00:00:00\", \"2016-03-01T00:00:00\", \"2016-04-01T00:00:00\", \"2016-05-01T00:00:00\", \"2016-06-01T00:00:00\", \"2016-07-01T00:00:00\", \"2016-08-01T00:00:00\", \"2016-09-01T00:00:00\", \"2016-10-01T00:00:00\", \"2016-11-01T00:00:00\", \"2016-12-01T00:00:00\", \"2017-01-01T00:00:00\", \"2017-02-01T00:00:00\", \"2017-03-01T00:00:00\", \"2017-04-01T00:00:00\", \"2017-05-01T00:00:00\", \"2017-06-01T00:00:00\", \"2017-07-01T00:00:00\", \"2017-08-01T00:00:00\", \"2017-09-01T00:00:00\", \"2017-10-01T00:00:00\", \"2017-11-01T00:00:00\", \"2017-12-01T00:00:00\", \"2018-01-01T00:00:00\", \"2018-02-01T00:00:00\", \"2018-03-01T00:00:00\", \"2018-04-01T00:00:00\", \"2018-05-01T00:00:00\", \"2018-06-01T00:00:00\", \"2018-07-01T00:00:00\", \"2018-08-01T00:00:00\", \"2018-09-01T00:00:00\", \"2018-10-01T00:00:00\", \"2018-11-01T00:00:00\", \"2018-12-01T00:00:00\"], \"y\": [null, null, null, null, null, null, null, null, null, null, null, null, null, null, null, null, null, null, null, null, null, null, null, null, null, null, null, null, null, null, null, null, null, null, null, null, 966.3600853596627, 950.5039546873941, 1032.3089177811032, 1015.0128993499561, 1015.6937802343508, 1031.9398997411029, 1030.1060552552315, 1095.882875075782, 1070.8027392153585, 1067.4609569390075, 993.8366741154898, 1029.4699825295493, 1058.208882621857, 982.5203982158894, 921.4737858978255, 988.1262262048887, 1001.9611212724104, 983.5738635621332, 972.5364696115352, 919.63112900822, 836.2700599735845, 863.6182482691878, 933.9312397301024, 949.5961357475628, 941.3478887152879, 918.1199827477942, 962.1975567312762, 913.4594927675078, 904.14528593671, 832.8099816490103, 759.8627913889512, 764.2410773051034, 681.8006532743266, 748.068018442908, 808.6189341202834, 753.0224209718655, 733.7189048193575, 723.6123568182246, 724.9631943344519, 790.089537927231, 849.7592434065909, 860.4433281388743, 888.0937267607185, 918.7682137096009, 906.0905296102794, 966.2912783523961, 981.0702965979635, 1025.1289471786274, 1049.377071674059, 1059.0634699500906, 1044.1265839353157, 1026.5650605691162, 1041.581248910416, 1063.4621322845867, 1020.4996992910012, 1020.3946545339658, 1037.2742688809863, 1053.5444118144776, 1101.6419725009198, 1142.8585020565001, 1110.2197532630298, 1128.4893385718149, 1111.0355420644914, 1086.2997178888775, 1128.2508772324295, 1134.5009222657532, 1180.1386084139874, 1167.333734838772, 1172.733762440123, 1157.3863989013635, 1201.5507620187575, 1201.9418589560828, 1236.9136915530655, 1241.7525293069853, 1262.7762961450683, 1273.8824617306784, 1237.7407682925948, 1238.3339194965074, 1233.8278725522928, 1266.8617766908087, 1300.6370199997557, 1346.0121391095468, 1371.451961971325, 1389.4020134735383, 1416.5173816499082, 1392.6522355970756, 1405.9396659646582, 1464.274603201039, 1515.8192854813096, 1492.5617603598887, 1439.54406264409, 1458.2064858967592, 1505.933698307166, 1533.571947494038, 1464.211036737955, 1449.781236005815, 1368.5866117654593, 1318.8102781410191, 1310.6352584078113, 1370.4310529895101, 1393.0111382038795, 1264.8483008354706, 1273.7499637971882, 1296.4137703925048, 1181.6652288357134, 973.0636130480569, 888.2376126138873, 907.6609793586883, 823.0346602425936, 737.8668025130711, 809.7730972162467, 909.2793714045816, 959.9239549880768, 961.2371342161927, 1038.2989942349518, 1080.8603524150708, 1124.908747960289, 1093.989018950404, 1155.3976218991445, 1188.8945169457477, 1150.8569943654497, 1188.667172619802, 1266.5788400815284, 1292.6943902088747, 1190.0092692564722, 1119.657641490734, 1199.817979052159, 1140.1053966507516, 1249.6787263861843, 1298.375325015315, 1305.2738905315746, 1397.3418309672936, 1428.2866588286722, 1479.4362400775212, 1488.2011867163058, 1533.0778476476053, 1514.3980839922265, 1488.929970382988, 1456.1952682795284, 1369.822811886844, 1265.0950358791686, 1408.9081870254042, 1408.5773980873275, 1421.3725036606158, 1486.0147155928696, 1550.0280093747863, 1596.2193181036505, 1587.0538449084252, 1491.3947769037475, 1551.2884018920831, 1563.8770689846083, 1603.3773682897004, 1647.0465828412616, 1620.4415025810952, 1633.8912092967432, 1652.3972899714038, 1744.594981676337, 1766.801842383371, 1837.1861147177738, 1862.9989800516641, 1918.0063380280906, 1892.3582590367282, 2000.007152629436, 1947.8203649431798, 2019.7310963340965, 2106.559909430225, 2170.333964413202, 2229.3573104363772, 2153.57092547096, 2254.7547076453934, 2270.4893093973023, 2275.4288246589545, 2321.8983751485603, 2381.614539781503, 2332.02830371247, 2432.392687868684, 2381.7088510745534, 2436.618844993359, 2493.9788754582, 2489.5510449360545, 2413.421718378017, 2561.6727881297015, 2525.806576170415, 2548.630526623039, 2578.298371327333, 2531.943347843635, 2561.4990569553634, 2412.1844947283053, 2336.501092292382, 2521.209053891836, 2533.948096436692, 2470.9379553830595, 2333.4740281646555, 2338.232342698629, 2503.7196761839655, 2535.126550071712, 2573.1362676072686, 2573.494558523216, 2671.709438588219, 2690.000964503385, 2697.747464650396, 2644.7258986572942, 2781.931446480325, 2833.0868555160323, 2887.0589130237427, 2990.567188106089, 2994.597469268168, 3024.744699501129, 3050.383874014776, 3079.4340313314133, 3139.802325256062, 3140.6708165327464, 3230.5115159430825, 3297.2765580886307, 3405.221410771717, 3447.8598735601086, 3634.7184397868496, 3494.903844076057, 3424.2655401136144, 3436.1980475242176, 3523.1932570460986, 3548.287854174245, 3674.1083507776716, 3802.4420558631136, 3814.3598988750714, 3548.983566700535, 3622.985487696506, 3282.96175181194]}, {\"name\": \"EWT_wealth_index\", \"type\": \"scatter\", \"x\": [\"1997-01-01T00:00:00\", \"1997-02-01T00:00:00\", \"1997-03-01T00:00:00\", \"1997-04-01T00:00:00\", \"1997-05-01T00:00:00\", \"1997-06-01T00:00:00\", \"1997-07-01T00:00:00\", \"1997-08-01T00:00:00\", \"1997-09-01T00:00:00\", \"1997-10-01T00:00:00\", \"1997-11-01T00:00:00\", \"1997-12-01T00:00:00\", \"1998-01-01T00:00:00\", \"1998-02-01T00:00:00\", \"1998-03-01T00:00:00\", \"1998-04-01T00:00:00\", \"1998-05-01T00:00:00\", \"1998-06-01T00:00:00\", \"1998-07-01T00:00:00\", \"1998-08-01T00:00:00\", \"1998-09-01T00:00:00\", \"1998-10-01T00:00:00\", \"1998-11-01T00:00:00\", \"1998-12-01T00:00:00\", \"1999-01-01T00:00:00\", \"1999-02-01T00:00:00\", \"1999-03-01T00:00:00\", \"1999-04-01T00:00:00\", \"1999-05-01T00:00:00\", \"1999-06-01T00:00:00\", \"1999-07-01T00:00:00\", \"1999-08-01T00:00:00\", \"1999-09-01T00:00:00\", \"1999-10-01T00:00:00\", \"1999-11-01T00:00:00\", \"1999-12-01T00:00:00\", \"2000-01-01T00:00:00\", \"2000-02-01T00:00:00\", \"2000-03-01T00:00:00\", \"2000-04-01T00:00:00\", \"2000-05-01T00:00:00\", \"2000-06-01T00:00:00\", \"2000-07-01T00:00:00\", \"2000-08-01T00:00:00\", \"2000-09-01T00:00:00\", \"2000-10-01T00:00:00\", \"2000-11-01T00:00:00\", \"2000-12-01T00:00:00\", \"2001-01-01T00:00:00\", \"2001-02-01T00:00:00\", \"2001-03-01T00:00:00\", \"2001-04-01T00:00:00\", \"2001-05-01T00:00:00\", \"2001-06-01T00:00:00\", \"2001-07-01T00:00:00\", \"2001-08-01T00:00:00\", \"2001-09-01T00:00:00\", \"2001-10-01T00:00:00\", \"2001-11-01T00:00:00\", \"2001-12-01T00:00:00\", \"2002-01-01T00:00:00\", \"2002-02-01T00:00:00\", \"2002-03-01T00:00:00\", \"2002-04-01T00:00:00\", \"2002-05-01T00:00:00\", \"2002-06-01T00:00:00\", \"2002-07-01T00:00:00\", \"2002-08-01T00:00:00\", \"2002-09-01T00:00:00\", \"2002-10-01T00:00:00\", \"2002-11-01T00:00:00\", \"2002-12-01T00:00:00\", \"2003-01-01T00:00:00\", \"2003-02-01T00:00:00\", \"2003-03-01T00:00:00\", \"2003-04-01T00:00:00\", \"2003-05-01T00:00:00\", \"2003-06-01T00:00:00\", \"2003-07-01T00:00:00\", \"2003-08-01T00:00:00\", \"2003-09-01T00:00:00\", \"2003-10-01T00:00:00\", \"2003-11-01T00:00:00\", \"2003-12-01T00:00:00\", \"2004-01-01T00:00:00\", \"2004-02-01T00:00:00\", \"2004-03-01T00:00:00\", \"2004-04-01T00:00:00\", \"2004-05-01T00:00:00\", \"2004-06-01T00:00:00\", \"2004-07-01T00:00:00\", \"2004-08-01T00:00:00\", \"2004-09-01T00:00:00\", \"2004-10-01T00:00:00\", \"2004-11-01T00:00:00\", \"2004-12-01T00:00:00\", \"2005-01-01T00:00:00\", \"2005-02-01T00:00:00\", \"2005-03-01T00:00:00\", \"2005-04-01T00:00:00\", \"2005-05-01T00:00:00\", \"2005-06-01T00:00:00\", \"2005-07-01T00:00:00\", \"2005-08-01T00:00:00\", \"2005-09-01T00:00:00\", \"2005-10-01T00:00:00\", \"2005-11-01T00:00:00\", \"2005-12-01T00:00:00\", \"2006-01-01T00:00:00\", \"2006-02-01T00:00:00\", \"2006-03-01T00:00:00\", \"2006-04-01T00:00:00\", \"2006-05-01T00:00:00\", \"2006-06-01T00:00:00\", \"2006-07-01T00:00:00\", \"2006-08-01T00:00:00\", \"2006-09-01T00:00:00\", \"2006-10-01T00:00:00\", \"2006-11-01T00:00:00\", \"2006-12-01T00:00:00\", \"2007-01-01T00:00:00\", \"2007-02-01T00:00:00\", \"2007-03-01T00:00:00\", \"2007-04-01T00:00:00\", \"2007-05-01T00:00:00\", \"2007-06-01T00:00:00\", \"2007-07-01T00:00:00\", \"2007-08-01T00:00:00\", \"2007-09-01T00:00:00\", \"2007-10-01T00:00:00\", \"2007-11-01T00:00:00\", \"2007-12-01T00:00:00\", \"2008-01-01T00:00:00\", \"2008-02-01T00:00:00\", \"2008-03-01T00:00:00\", \"2008-04-01T00:00:00\", \"2008-05-01T00:00:00\", \"2008-06-01T00:00:00\", \"2008-07-01T00:00:00\", \"2008-08-01T00:00:00\", \"2008-09-01T00:00:00\", \"2008-10-01T00:00:00\", \"2008-11-01T00:00:00\", \"2008-12-01T00:00:00\", \"2009-01-01T00:00:00\", \"2009-02-01T00:00:00\", \"2009-03-01T00:00:00\", \"2009-04-01T00:00:00\", \"2009-05-01T00:00:00\", \"2009-06-01T00:00:00\", \"2009-07-01T00:00:00\", \"2009-08-01T00:00:00\", \"2009-09-01T00:00:00\", \"2009-10-01T00:00:00\", \"2009-11-01T00:00:00\", \"2009-12-01T00:00:00\", \"2010-01-01T00:00:00\", \"2010-02-01T00:00:00\", \"2010-03-01T00:00:00\", \"2010-04-01T00:00:00\", \"2010-05-01T00:00:00\", \"2010-06-01T00:00:00\", \"2010-07-01T00:00:00\", \"2010-08-01T00:00:00\", \"2010-09-01T00:00:00\", \"2010-10-01T00:00:00\", \"2010-11-01T00:00:00\", \"2010-12-01T00:00:00\", \"2011-01-01T00:00:00\", \"2011-02-01T00:00:00\", \"2011-03-01T00:00:00\", \"2011-04-01T00:00:00\", \"2011-05-01T00:00:00\", \"2011-06-01T00:00:00\", \"2011-07-01T00:00:00\", \"2011-08-01T00:00:00\", \"2011-09-01T00:00:00\", \"2011-10-01T00:00:00\", \"2011-11-01T00:00:00\", \"2011-12-01T00:00:00\", \"2012-01-01T00:00:00\", \"2012-02-01T00:00:00\", \"2012-03-01T00:00:00\", \"2012-04-01T00:00:00\", \"2012-05-01T00:00:00\", \"2012-06-01T00:00:00\", \"2012-07-01T00:00:00\", \"2012-08-01T00:00:00\", \"2012-09-01T00:00:00\", \"2012-10-01T00:00:00\", \"2012-11-01T00:00:00\", \"2012-12-01T00:00:00\", \"2013-01-01T00:00:00\", \"2013-02-01T00:00:00\", \"2013-03-01T00:00:00\", \"2013-04-01T00:00:00\", \"2013-05-01T00:00:00\", \"2013-06-01T00:00:00\", \"2013-07-01T00:00:00\", \"2013-08-01T00:00:00\", \"2013-09-01T00:00:00\", \"2013-10-01T00:00:00\", \"2013-11-01T00:00:00\", \"2013-12-01T00:00:00\", \"2014-01-01T00:00:00\", \"2014-02-01T00:00:00\", \"2014-03-01T00:00:00\", \"2014-04-01T00:00:00\", \"2014-05-01T00:00:00\", \"2014-06-01T00:00:00\", \"2014-07-01T00:00:00\", \"2014-08-01T00:00:00\", \"2014-09-01T00:00:00\", \"2014-10-01T00:00:00\", \"2014-11-01T00:00:00\", \"2014-12-01T00:00:00\", \"2015-01-01T00:00:00\", \"2015-02-01T00:00:00\", \"2015-03-01T00:00:00\", \"2015-04-01T00:00:00\", \"2015-05-01T00:00:00\", \"2015-06-01T00:00:00\", \"2015-07-01T00:00:00\", \"2015-08-01T00:00:00\", \"2015-09-01T00:00:00\", \"2015-10-01T00:00:00\", \"2015-11-01T00:00:00\", \"2015-12-01T00:00:00\", \"2016-01-01T00:00:00\", \"2016-02-01T00:00:00\", \"2016-03-01T00:00:00\", \"2016-04-01T00:00:00\", \"2016-05-01T00:00:00\", \"2016-06-01T00:00:00\", \"2016-07-01T00:00:00\", \"2016-08-01T00:00:00\", \"2016-09-01T00:00:00\", \"2016-10-01T00:00:00\", \"2016-11-01T00:00:00\", \"2016-12-01T00:00:00\", \"2017-01-01T00:00:00\", \"2017-02-01T00:00:00\", \"2017-03-01T00:00:00\", \"2017-04-01T00:00:00\", \"2017-05-01T00:00:00\", \"2017-06-01T00:00:00\", \"2017-07-01T00:00:00\", \"2017-08-01T00:00:00\", \"2017-09-01T00:00:00\", \"2017-10-01T00:00:00\", \"2017-11-01T00:00:00\", \"2017-12-01T00:00:00\", \"2018-01-01T00:00:00\", \"2018-02-01T00:00:00\", \"2018-03-01T00:00:00\", \"2018-04-01T00:00:00\", \"2018-05-01T00:00:00\", \"2018-06-01T00:00:00\", \"2018-07-01T00:00:00\", \"2018-08-01T00:00:00\", \"2018-09-01T00:00:00\", \"2018-10-01T00:00:00\", \"2018-11-01T00:00:00\", \"2018-12-01T00:00:00\"], \"y\": [null, null, null, null, null, null, null, null, null, null, null, null, null, null, null, null, null, null, null, null, null, null, null, null, null, null, null, null, null, null, null, null, null, null, null, null, 957.4959850865765, 923.9815011509834, 997.7566781990337, 996.97982474983, 998.1822590413118, 997.7676298435376, 996.7696101032732, 1045.222010912411, 1023.1922229147026, 1040.839048258751, 990.0231930537678, 1034.532849136457, 1059.1345524901692, 1011.8055924736146, 952.4634839246195, 1018.7380507757475, 1037.0016143315122, 1012.6420148632402, 1007.413630263059, 967.3773664189102, 876.1916023270907, 899.018320063953, 963.9701108422703, 985.7368343185907, 987.069205118672, 991.7471880656476, 1041.976208801025, 1015.5961166282943, 1006.8997023527444, 949.0732901856246, 862.3325365665293, 867.8586621444041, 789.8835629946257, 844.3316160081063, 900.4081898723242, 853.3464201095094, 826.2401566616583, 810.747491672175, 816.5780530603266, 882.6245073790506, 938.7778875777758, 949.420451037346, 965.066973122645, 995.055849208174, 979.5556583874512, 1031.4912028157728, 1044.6837138108297, 1098.2836470797577, 1115.5752860801988, 1131.0435428531275, 1119.5323261500644, 1113.1143768823365, 1121.71043418232, 1156.126862262363, 1113.8978733250808, 1113.2547345626533, 1131.9173758337326, 1153.3944635062994, 1210.0251849671822, 1251.1769789599516, 1224.3404654703581, 1256.6776038648122, 1242.5959506773313, 1212.6391864006453, 1256.2699558273523, 1257.8270675653553, 1313.117825631427, 1300.3713880712871, 1310.445755690107, 1282.3657137011414, 1330.309525974078, 1329.8260127100273, 1372.8803622204327, 1378.3891227050467, 1405.2744499761304, 1420.80167938668, 1391.381206363629, 1391.758906289954, 1377.2027823610022, 1410.93065013194, 1440.033587359445, 1493.181557011705, 1527.7583752289884, 1544.0948473078442, 1574.252061860868, 1556.5465499630127, 1578.1759645800582, 1641.400103208861, 1699.8633673718261, 1679.185963108241, 1638.1686887745775, 1658.3174949939153, 1720.6868173773357, 1754.9154245161599, 1686.8203527936355, 1683.2264445954615, 1585.3497731084874, 1552.1076865222824, 1557.1038923536087, 1612.6423620187197, 1654.5017906354444, 1515.935635830293, 1518.4529524048885, 1549.6323835176374, 1403.923468346996, 1161.1191604755368, 1072.413923717783, 1092.1865230371743, 1005.0460703705933, 899.5466361335339, 974.8277757978043, 1094.3684316891593, 1149.1286306635714, 1145.8184713175049, 1244.7334944660392, 1283.035436614373, 1344.9057553236444, 1308.9070173968032, 1388.8250167921594, 1427.0677505603596, 1385.4534394146856, 1435.3624637026178, 1529.0701666609934, 1572.9564534505448, 1455.619853643753, 1377.6448115599967, 1484.7496259148502, 1424.7071406220691, 1556.1462394597734, 1623.904263405234, 1635.2231705152622, 1733.756672314067, 1763.6166220220507, 1827.0996626199767, 1850.9693105693477, 1915.5980835141893, 1905.24380915727, 1880.0695800615254, 1834.4629077043867, 1750.4812246202705, 1629.0449563435943, 1800.038204407784, 1813.2505275093329, 1834.9985907907626, 1903.06171683352, 1977.0660159560127, 2032.7805639515816, 2031.0072160164907, 1929.877439440059, 2001.2757844535822, 2023.767609681936, 2055.6044283476317, 2100.1800023784544, 2069.39963380508, 2095.075385671579, 2112.851422519443, 2238.1719176115134, 2282.9933235085446, 2374.1669968232504, 2416.667638761678, 2466.760423795157, 2445.535014702333, 2572.4843074209534, 2500.5228369464407, 2592.3211892610034, 2706.94168335579, 2769.5276426727014, 2837.7042643024724, 2734.7434110031595, 2858.543932229645, 2892.1441450224197, 2920.84363038563, 2984.1501003090793, 3043.9542562449105, 2958.015402712082, 3095.1080998468256, 3031.320503610223, 3112.481872820662, 3202.557256811608, 3194.5916037391476, 3113.685153729605, 3285.5105107169593, 3231.093928663182, 3247.9546875995684, 3277.3393687322823, 3215.5070757406, 3251.212506324353, 3065.2587648326944, 2977.181702185367, 3210.4434356501392, 3215.147779597469, 3143.563653979843, 2995.508910610142, 3037.8952253595353, 3247.7197450443805, 3279.790604793254, 3307.5469930081854, 3338.3182554583345, 3448.67753367023, 3462.6842056404366, 3465.2930114886904, 3393.2900809098383, 3560.2871673633786, 3630.4161474050184, 3706.3127122874544, 3828.056575547392, 3835.520600329112, 3879.123074559143, 3929.854102788673, 3943.5796726499884, 3997.1866889867147, 3996.483545225554, 4112.371236875501, 4174.07753665957, 4320.551149579075, 4379.838834289806, 4567.227897464989, 4352.138144454659, 4279.933629959892, 4268.059899095568, 4349.235854934158, 4376.292411435586, 4536.684357626544, 4643.3858644052625, 4675.481981004907, 4391.240743210315, 4504.5370555445, 4081.845157601685]}, {\"name\": \"GMV_Sample_Cov_wealth_index\", \"type\": \"scatter\", \"x\": [\"1997-01-01T00:00:00\", \"1997-02-01T00:00:00\", \"1997-03-01T00:00:00\", \"1997-04-01T00:00:00\", \"1997-05-01T00:00:00\", \"1997-06-01T00:00:00\", \"1997-07-01T00:00:00\", \"1997-08-01T00:00:00\", \"1997-09-01T00:00:00\", \"1997-10-01T00:00:00\", \"1997-11-01T00:00:00\", \"1997-12-01T00:00:00\", \"1998-01-01T00:00:00\", \"1998-02-01T00:00:00\", \"1998-03-01T00:00:00\", \"1998-04-01T00:00:00\", \"1998-05-01T00:00:00\", \"1998-06-01T00:00:00\", \"1998-07-01T00:00:00\", \"1998-08-01T00:00:00\", \"1998-09-01T00:00:00\", \"1998-10-01T00:00:00\", \"1998-11-01T00:00:00\", \"1998-12-01T00:00:00\", \"1999-01-01T00:00:00\", \"1999-02-01T00:00:00\", \"1999-03-01T00:00:00\", \"1999-04-01T00:00:00\", \"1999-05-01T00:00:00\", \"1999-06-01T00:00:00\", \"1999-07-01T00:00:00\", \"1999-08-01T00:00:00\", \"1999-09-01T00:00:00\", \"1999-10-01T00:00:00\", \"1999-11-01T00:00:00\", \"1999-12-01T00:00:00\", \"2000-01-01T00:00:00\", \"2000-02-01T00:00:00\", \"2000-03-01T00:00:00\", \"2000-04-01T00:00:00\", \"2000-05-01T00:00:00\", \"2000-06-01T00:00:00\", \"2000-07-01T00:00:00\", \"2000-08-01T00:00:00\", \"2000-09-01T00:00:00\", \"2000-10-01T00:00:00\", \"2000-11-01T00:00:00\", \"2000-12-01T00:00:00\", \"2001-01-01T00:00:00\", \"2001-02-01T00:00:00\", \"2001-03-01T00:00:00\", \"2001-04-01T00:00:00\", \"2001-05-01T00:00:00\", \"2001-06-01T00:00:00\", \"2001-07-01T00:00:00\", \"2001-08-01T00:00:00\", \"2001-09-01T00:00:00\", \"2001-10-01T00:00:00\", \"2001-11-01T00:00:00\", \"2001-12-01T00:00:00\", \"2002-01-01T00:00:00\", \"2002-02-01T00:00:00\", \"2002-03-01T00:00:00\", \"2002-04-01T00:00:00\", \"2002-05-01T00:00:00\", \"2002-06-01T00:00:00\", \"2002-07-01T00:00:00\", \"2002-08-01T00:00:00\", \"2002-09-01T00:00:00\", \"2002-10-01T00:00:00\", \"2002-11-01T00:00:00\", \"2002-12-01T00:00:00\", \"2003-01-01T00:00:00\", \"2003-02-01T00:00:00\", \"2003-03-01T00:00:00\", \"2003-04-01T00:00:00\", \"2003-05-01T00:00:00\", \"2003-06-01T00:00:00\", \"2003-07-01T00:00:00\", \"2003-08-01T00:00:00\", \"2003-09-01T00:00:00\", \"2003-10-01T00:00:00\", \"2003-11-01T00:00:00\", \"2003-12-01T00:00:00\", \"2004-01-01T00:00:00\", \"2004-02-01T00:00:00\", \"2004-03-01T00:00:00\", \"2004-04-01T00:00:00\", \"2004-05-01T00:00:00\", \"2004-06-01T00:00:00\", \"2004-07-01T00:00:00\", \"2004-08-01T00:00:00\", \"2004-09-01T00:00:00\", \"2004-10-01T00:00:00\", \"2004-11-01T00:00:00\", \"2004-12-01T00:00:00\", \"2005-01-01T00:00:00\", \"2005-02-01T00:00:00\", \"2005-03-01T00:00:00\", \"2005-04-01T00:00:00\", \"2005-05-01T00:00:00\", \"2005-06-01T00:00:00\", \"2005-07-01T00:00:00\", \"2005-08-01T00:00:00\", \"2005-09-01T00:00:00\", \"2005-10-01T00:00:00\", \"2005-11-01T00:00:00\", \"2005-12-01T00:00:00\", \"2006-01-01T00:00:00\", \"2006-02-01T00:00:00\", \"2006-03-01T00:00:00\", \"2006-04-01T00:00:00\", \"2006-05-01T00:00:00\", \"2006-06-01T00:00:00\", \"2006-07-01T00:00:00\", \"2006-08-01T00:00:00\", \"2006-09-01T00:00:00\", \"2006-10-01T00:00:00\", \"2006-11-01T00:00:00\", \"2006-12-01T00:00:00\", \"2007-01-01T00:00:00\", \"2007-02-01T00:00:00\", \"2007-03-01T00:00:00\", \"2007-04-01T00:00:00\", \"2007-05-01T00:00:00\", \"2007-06-01T00:00:00\", \"2007-07-01T00:00:00\", \"2007-08-01T00:00:00\", \"2007-09-01T00:00:00\", \"2007-10-01T00:00:00\", \"2007-11-01T00:00:00\", \"2007-12-01T00:00:00\", \"2008-01-01T00:00:00\", \"2008-02-01T00:00:00\", \"2008-03-01T00:00:00\", \"2008-04-01T00:00:00\", \"2008-05-01T00:00:00\", \"2008-06-01T00:00:00\", \"2008-07-01T00:00:00\", \"2008-08-01T00:00:00\", \"2008-09-01T00:00:00\", \"2008-10-01T00:00:00\", \"2008-11-01T00:00:00\", \"2008-12-01T00:00:00\", \"2009-01-01T00:00:00\", \"2009-02-01T00:00:00\", \"2009-03-01T00:00:00\", \"2009-04-01T00:00:00\", \"2009-05-01T00:00:00\", \"2009-06-01T00:00:00\", \"2009-07-01T00:00:00\", \"2009-08-01T00:00:00\", \"2009-09-01T00:00:00\", \"2009-10-01T00:00:00\", \"2009-11-01T00:00:00\", \"2009-12-01T00:00:00\", \"2010-01-01T00:00:00\", \"2010-02-01T00:00:00\", \"2010-03-01T00:00:00\", \"2010-04-01T00:00:00\", \"2010-05-01T00:00:00\", \"2010-06-01T00:00:00\", \"2010-07-01T00:00:00\", \"2010-08-01T00:00:00\", \"2010-09-01T00:00:00\", \"2010-10-01T00:00:00\", \"2010-11-01T00:00:00\", \"2010-12-01T00:00:00\", \"2011-01-01T00:00:00\", \"2011-02-01T00:00:00\", \"2011-03-01T00:00:00\", \"2011-04-01T00:00:00\", \"2011-05-01T00:00:00\", \"2011-06-01T00:00:00\", \"2011-07-01T00:00:00\", \"2011-08-01T00:00:00\", \"2011-09-01T00:00:00\", \"2011-10-01T00:00:00\", \"2011-11-01T00:00:00\", \"2011-12-01T00:00:00\", \"2012-01-01T00:00:00\", \"2012-02-01T00:00:00\", \"2012-03-01T00:00:00\", \"2012-04-01T00:00:00\", \"2012-05-01T00:00:00\", \"2012-06-01T00:00:00\", \"2012-07-01T00:00:00\", \"2012-08-01T00:00:00\", \"2012-09-01T00:00:00\", \"2012-10-01T00:00:00\", \"2012-11-01T00:00:00\", \"2012-12-01T00:00:00\", \"2013-01-01T00:00:00\", \"2013-02-01T00:00:00\", \"2013-03-01T00:00:00\", \"2013-04-01T00:00:00\", \"2013-05-01T00:00:00\", \"2013-06-01T00:00:00\", \"2013-07-01T00:00:00\", \"2013-08-01T00:00:00\", \"2013-09-01T00:00:00\", \"2013-10-01T00:00:00\", \"2013-11-01T00:00:00\", \"2013-12-01T00:00:00\", \"2014-01-01T00:00:00\", \"2014-02-01T00:00:00\", \"2014-03-01T00:00:00\", \"2014-04-01T00:00:00\", \"2014-05-01T00:00:00\", \"2014-06-01T00:00:00\", \"2014-07-01T00:00:00\", \"2014-08-01T00:00:00\", \"2014-09-01T00:00:00\", \"2014-10-01T00:00:00\", \"2014-11-01T00:00:00\", \"2014-12-01T00:00:00\", \"2015-01-01T00:00:00\", \"2015-02-01T00:00:00\", \"2015-03-01T00:00:00\", \"2015-04-01T00:00:00\", \"2015-05-01T00:00:00\", \"2015-06-01T00:00:00\", \"2015-07-01T00:00:00\", \"2015-08-01T00:00:00\", \"2015-09-01T00:00:00\", \"2015-10-01T00:00:00\", \"2015-11-01T00:00:00\", \"2015-12-01T00:00:00\", \"2016-01-01T00:00:00\", \"2016-02-01T00:00:00\", \"2016-03-01T00:00:00\", \"2016-04-01T00:00:00\", \"2016-05-01T00:00:00\", \"2016-06-01T00:00:00\", \"2016-07-01T00:00:00\", \"2016-08-01T00:00:00\", \"2016-09-01T00:00:00\", \"2016-10-01T00:00:00\", \"2016-11-01T00:00:00\", \"2016-12-01T00:00:00\", \"2017-01-01T00:00:00\", \"2017-02-01T00:00:00\", \"2017-03-01T00:00:00\", \"2017-04-01T00:00:00\", \"2017-05-01T00:00:00\", \"2017-06-01T00:00:00\", \"2017-07-01T00:00:00\", \"2017-08-01T00:00:00\", \"2017-09-01T00:00:00\", \"2017-10-01T00:00:00\", \"2017-11-01T00:00:00\", \"2017-12-01T00:00:00\", \"2018-01-01T00:00:00\", \"2018-02-01T00:00:00\", \"2018-03-01T00:00:00\", \"2018-04-01T00:00:00\", \"2018-05-01T00:00:00\", \"2018-06-01T00:00:00\", \"2018-07-01T00:00:00\", \"2018-08-01T00:00:00\", \"2018-09-01T00:00:00\", \"2018-10-01T00:00:00\", \"2018-11-01T00:00:00\", \"2018-12-01T00:00:00\"], \"y\": [null, null, null, null, null, null, null, null, null, null, null, null, null, null, null, null, null, null, null, null, null, null, null, null, null, null, null, null, null, null, null, null, null, null, null, null, 1018.3314132078682, 953.1581118407868, 1029.4657562527639, 1075.0492749889681, 1077.2223929653835, 1073.9785023489185, 1080.7628455964768, 1182.8134386297968, 1215.7508764649094, 1202.5681829573014, 1179.3227493322931, 1217.870316475605, 1169.6170865318081, 1148.6774318725184, 1107.535642690166, 1170.0140104297038, 1181.310212001275, 1137.0607531079816, 1129.7088931295025, 1109.8833952873047, 1018.9822854527082, 998.1499372786712, 1030.617122524115, 1050.5016227971676, 1038.9374022212398, 1038.0746944569394, 1079.3545689407295, 1045.8868819884647, 1053.803469598332, 971.271755121983, 884.174780683345, 899.0662231299025, 834.9526051306067, 873.732550044321, 883.9496517910889, 878.440294150347, 854.3852452861145, 823.2754639644764, 840.82269411307, 893.1152134850082, 945.4114349481057, 943.8136994714887, 942.1201839719073, 960.1902974382409, 970.760324026727, 1003.4324640951382, 1012.8447325893964, 1051.0765958006248, 1071.1795028170377, 1113.344900316859, 1116.7901583788275, 1145.505580448511, 1152.2424317976627, 1172.1876464265342, 1107.7796169481016, 1142.292315080751, 1131.271765749839, 1107.3339097019152, 1151.9397242989921, 1193.8770757769405, 1178.9220101787107, 1203.7978608886206, 1193.1727648142873, 1157.528319297485, 1170.9672839237012, 1156.0852618879399, 1193.779465416321, 1198.8992776405228, 1208.2495186470628, 1151.7287804810076, 1176.1840850315953, 1189.447433213307, 1219.8257083090261, 1225.9870981590152, 1244.4390841077704, 1252.97121173876, 1246.4561593151673, 1245.6013068884697, 1268.7996835630677, 1304.2173892943053, 1321.7839387460926, 1357.951608065475, 1372.4469409338521, 1398.0560829504127, 1407.5205223954333, 1402.8312015267948, 1436.6819299531076, 1498.2249997256613, 1532.7920815635057, 1501.0062847111403, 1475.7348921105593, 1498.3534086212665, 1582.688641995702, 1635.9868797105219, 1606.4269781087323, 1589.6756113407514, 1521.92827258635, 1479.8543122019746, 1506.8770312776662, 1514.2355535974114, 1565.5513882597136, 1435.4820209478532, 1429.9837959029917, 1469.9337080109563, 1374.1249199545357, 1182.4138708942264, 1086.2090123827943, 1087.345207457909, 1025.1172366005849, 946.7664963168038, 1014.7692599144675, 1053.4311990180493, 1112.781060206555, 1125.9183901503702, 1195.5056232096586, 1204.562341270788, 1252.2136918600204, 1243.4695282133237, 1297.380495016723, 1330.0667057150656, 1291.0931945788432, 1319.5870446167348, 1388.7512633794868, 1384.0416338529305, 1305.1584530727312, 1275.071472950423, 1365.890290921847, 1355.346346480057, 1433.0153874268174, 1487.0278194214322, 1478.7496574320307, 1543.6545160722123, 1528.6030158515402, 1573.8290487108584, 1606.8873133340467, 1672.2189895407444, 1696.1971494049906, 1696.1570269307813, 1672.5316112257192, 1670.8781430205452, 1606.7373647653226, 1695.1793823908142, 1706.4499426031355, 1743.007728743665, 1744.3006448369445, 1767.154504181869, 1810.2142822988963, 1833.6485557138, 1808.4504873459668, 1875.0286655855061, 1914.7623660194006, 1894.9826927483928, 1921.3114760418346, 1910.8683884097816, 1919.2376459748407, 1902.9346372722737, 2014.3129531143588, 2082.0986237763423, 2203.1805119632404, 2288.5914062111, 2199.7380149557875, 2214.6134555643143, 2302.125361682207, 2217.9495446327082, 2253.8759343672377, 2364.0891809411905, 2390.3959529073018, 2405.2360143065416, 2371.7559030178727, 2440.655333891415, 2520.38559493845, 2554.6345536206163, 2604.751155235837, 2688.540850225763, 2598.066209023568, 2729.091149600466, 2727.10315554532, 2777.342994292927, 2893.6936698595678, 2823.3677601284808, 2764.498951510576, 2874.773518774119, 2829.635996910621, 2851.7883020582053, 2844.5492061485897, 2778.426800122323, 2836.314065431359, 2728.5258467623325, 2704.655767822667, 2821.141698982834, 2753.5140791223753, 2667.9204278108546, 2671.866229987188, 2720.5847109329725, 2890.7467808703113, 2898.0354203765314, 2857.3018661330825, 2990.812773161746, 3053.807838465801, 3006.1442577327803, 2974.957391564718, 2895.222083584718, 2904.466538573175, 2970.4866201427276, 2987.795243460321, 3101.6997621198807, 3117.198001854508, 3105.914357119534, 3105.605582670858, 3203.4750722650692, 3259.117327701252, 3207.0640447766646, 3235.816655972286, 3315.606221013137, 3456.0577953199654, 3438.670508067521, 3518.0063120888867, 3364.7213594087343, 3376.3768918816977, 3384.3522435347263, 3414.864159642388, 3521.241520795657, 3593.259881740918, 3663.0004344318577, 3682.2376843273423, 3579.109588773907, 3677.0832377148854, 3386.6012967511683]}, {\"name\": \"GMV_Stat_shrink_wealth_index\", \"type\": \"scatter\", \"x\": [\"1997-01-01T00:00:00\", \"1997-02-01T00:00:00\", \"1997-03-01T00:00:00\", \"1997-04-01T00:00:00\", \"1997-05-01T00:00:00\", \"1997-06-01T00:00:00\", \"1997-07-01T00:00:00\", \"1997-08-01T00:00:00\", \"1997-09-01T00:00:00\", \"1997-10-01T00:00:00\", \"1997-11-01T00:00:00\", \"1997-12-01T00:00:00\", \"1998-01-01T00:00:00\", \"1998-02-01T00:00:00\", \"1998-03-01T00:00:00\", \"1998-04-01T00:00:00\", \"1998-05-01T00:00:00\", \"1998-06-01T00:00:00\", \"1998-07-01T00:00:00\", \"1998-08-01T00:00:00\", \"1998-09-01T00:00:00\", \"1998-10-01T00:00:00\", \"1998-11-01T00:00:00\", \"1998-12-01T00:00:00\", \"1999-01-01T00:00:00\", \"1999-02-01T00:00:00\", \"1999-03-01T00:00:00\", \"1999-04-01T00:00:00\", \"1999-05-01T00:00:00\", \"1999-06-01T00:00:00\", \"1999-07-01T00:00:00\", \"1999-08-01T00:00:00\", \"1999-09-01T00:00:00\", \"1999-10-01T00:00:00\", \"1999-11-01T00:00:00\", \"1999-12-01T00:00:00\", \"2000-01-01T00:00:00\", \"2000-02-01T00:00:00\", \"2000-03-01T00:00:00\", \"2000-04-01T00:00:00\", \"2000-05-01T00:00:00\", \"2000-06-01T00:00:00\", \"2000-07-01T00:00:00\", \"2000-08-01T00:00:00\", \"2000-09-01T00:00:00\", \"2000-10-01T00:00:00\", \"2000-11-01T00:00:00\", \"2000-12-01T00:00:00\", \"2001-01-01T00:00:00\", \"2001-02-01T00:00:00\", \"2001-03-01T00:00:00\", \"2001-04-01T00:00:00\", \"2001-05-01T00:00:00\", \"2001-06-01T00:00:00\", \"2001-07-01T00:00:00\", \"2001-08-01T00:00:00\", \"2001-09-01T00:00:00\", \"2001-10-01T00:00:00\", \"2001-11-01T00:00:00\", \"2001-12-01T00:00:00\", \"2002-01-01T00:00:00\", \"2002-02-01T00:00:00\", \"2002-03-01T00:00:00\", \"2002-04-01T00:00:00\", \"2002-05-01T00:00:00\", \"2002-06-01T00:00:00\", \"2002-07-01T00:00:00\", \"2002-08-01T00:00:00\", \"2002-09-01T00:00:00\", \"2002-10-01T00:00:00\", \"2002-11-01T00:00:00\", \"2002-12-01T00:00:00\", \"2003-01-01T00:00:00\", \"2003-02-01T00:00:00\", \"2003-03-01T00:00:00\", \"2003-04-01T00:00:00\", \"2003-05-01T00:00:00\", \"2003-06-01T00:00:00\", \"2003-07-01T00:00:00\", \"2003-08-01T00:00:00\", \"2003-09-01T00:00:00\", \"2003-10-01T00:00:00\", \"2003-11-01T00:00:00\", \"2003-12-01T00:00:00\", \"2004-01-01T00:00:00\", \"2004-02-01T00:00:00\", \"2004-03-01T00:00:00\", \"2004-04-01T00:00:00\", \"2004-05-01T00:00:00\", \"2004-06-01T00:00:00\", \"2004-07-01T00:00:00\", \"2004-08-01T00:00:00\", \"2004-09-01T00:00:00\", \"2004-10-01T00:00:00\", \"2004-11-01T00:00:00\", \"2004-12-01T00:00:00\", \"2005-01-01T00:00:00\", \"2005-02-01T00:00:00\", \"2005-03-01T00:00:00\", \"2005-04-01T00:00:00\", \"2005-05-01T00:00:00\", \"2005-06-01T00:00:00\", \"2005-07-01T00:00:00\", \"2005-08-01T00:00:00\", \"2005-09-01T00:00:00\", \"2005-10-01T00:00:00\", \"2005-11-01T00:00:00\", \"2005-12-01T00:00:00\", \"2006-01-01T00:00:00\", \"2006-02-01T00:00:00\", \"2006-03-01T00:00:00\", \"2006-04-01T00:00:00\", \"2006-05-01T00:00:00\", \"2006-06-01T00:00:00\", \"2006-07-01T00:00:00\", \"2006-08-01T00:00:00\", \"2006-09-01T00:00:00\", \"2006-10-01T00:00:00\", \"2006-11-01T00:00:00\", \"2006-12-01T00:00:00\", \"2007-01-01T00:00:00\", \"2007-02-01T00:00:00\", \"2007-03-01T00:00:00\", \"2007-04-01T00:00:00\", \"2007-05-01T00:00:00\", \"2007-06-01T00:00:00\", \"2007-07-01T00:00:00\", \"2007-08-01T00:00:00\", \"2007-09-01T00:00:00\", \"2007-10-01T00:00:00\", \"2007-11-01T00:00:00\", \"2007-12-01T00:00:00\", \"2008-01-01T00:00:00\", \"2008-02-01T00:00:00\", \"2008-03-01T00:00:00\", \"2008-04-01T00:00:00\", \"2008-05-01T00:00:00\", \"2008-06-01T00:00:00\", \"2008-07-01T00:00:00\", \"2008-08-01T00:00:00\", \"2008-09-01T00:00:00\", \"2008-10-01T00:00:00\", \"2008-11-01T00:00:00\", \"2008-12-01T00:00:00\", \"2009-01-01T00:00:00\", \"2009-02-01T00:00:00\", \"2009-03-01T00:00:00\", \"2009-04-01T00:00:00\", \"2009-05-01T00:00:00\", \"2009-06-01T00:00:00\", \"2009-07-01T00:00:00\", \"2009-08-01T00:00:00\", \"2009-09-01T00:00:00\", \"2009-10-01T00:00:00\", \"2009-11-01T00:00:00\", \"2009-12-01T00:00:00\", \"2010-01-01T00:00:00\", \"2010-02-01T00:00:00\", \"2010-03-01T00:00:00\", \"2010-04-01T00:00:00\", \"2010-05-01T00:00:00\", \"2010-06-01T00:00:00\", \"2010-07-01T00:00:00\", \"2010-08-01T00:00:00\", \"2010-09-01T00:00:00\", \"2010-10-01T00:00:00\", \"2010-11-01T00:00:00\", \"2010-12-01T00:00:00\", \"2011-01-01T00:00:00\", \"2011-02-01T00:00:00\", \"2011-03-01T00:00:00\", \"2011-04-01T00:00:00\", \"2011-05-01T00:00:00\", \"2011-06-01T00:00:00\", \"2011-07-01T00:00:00\", \"2011-08-01T00:00:00\", \"2011-09-01T00:00:00\", \"2011-10-01T00:00:00\", \"2011-11-01T00:00:00\", \"2011-12-01T00:00:00\", \"2012-01-01T00:00:00\", \"2012-02-01T00:00:00\", \"2012-03-01T00:00:00\", \"2012-04-01T00:00:00\", \"2012-05-01T00:00:00\", \"2012-06-01T00:00:00\", \"2012-07-01T00:00:00\", \"2012-08-01T00:00:00\", \"2012-09-01T00:00:00\", \"2012-10-01T00:00:00\", \"2012-11-01T00:00:00\", \"2012-12-01T00:00:00\", \"2013-01-01T00:00:00\", \"2013-02-01T00:00:00\", \"2013-03-01T00:00:00\", \"2013-04-01T00:00:00\", \"2013-05-01T00:00:00\", \"2013-06-01T00:00:00\", \"2013-07-01T00:00:00\", \"2013-08-01T00:00:00\", \"2013-09-01T00:00:00\", \"2013-10-01T00:00:00\", \"2013-11-01T00:00:00\", \"2013-12-01T00:00:00\", \"2014-01-01T00:00:00\", \"2014-02-01T00:00:00\", \"2014-03-01T00:00:00\", \"2014-04-01T00:00:00\", \"2014-05-01T00:00:00\", \"2014-06-01T00:00:00\", \"2014-07-01T00:00:00\", \"2014-08-01T00:00:00\", \"2014-09-01T00:00:00\", \"2014-10-01T00:00:00\", \"2014-11-01T00:00:00\", \"2014-12-01T00:00:00\", \"2015-01-01T00:00:00\", \"2015-02-01T00:00:00\", \"2015-03-01T00:00:00\", \"2015-04-01T00:00:00\", \"2015-05-01T00:00:00\", \"2015-06-01T00:00:00\", \"2015-07-01T00:00:00\", \"2015-08-01T00:00:00\", \"2015-09-01T00:00:00\", \"2015-10-01T00:00:00\", \"2015-11-01T00:00:00\", \"2015-12-01T00:00:00\", \"2016-01-01T00:00:00\", \"2016-02-01T00:00:00\", \"2016-03-01T00:00:00\", \"2016-04-01T00:00:00\", \"2016-05-01T00:00:00\", \"2016-06-01T00:00:00\", \"2016-07-01T00:00:00\", \"2016-08-01T00:00:00\", \"2016-09-01T00:00:00\", \"2016-10-01T00:00:00\", \"2016-11-01T00:00:00\", \"2016-12-01T00:00:00\", \"2017-01-01T00:00:00\", \"2017-02-01T00:00:00\", \"2017-03-01T00:00:00\", \"2017-04-01T00:00:00\", \"2017-05-01T00:00:00\", \"2017-06-01T00:00:00\", \"2017-07-01T00:00:00\", \"2017-08-01T00:00:00\", \"2017-09-01T00:00:00\", \"2017-10-01T00:00:00\", \"2017-11-01T00:00:00\", \"2017-12-01T00:00:00\", \"2018-01-01T00:00:00\", \"2018-02-01T00:00:00\", \"2018-03-01T00:00:00\", \"2018-04-01T00:00:00\", \"2018-05-01T00:00:00\", \"2018-06-01T00:00:00\", \"2018-07-01T00:00:00\", \"2018-08-01T00:00:00\", \"2018-09-01T00:00:00\", \"2018-10-01T00:00:00\", \"2018-11-01T00:00:00\", \"2018-12-01T00:00:00\"], \"y\": [null, null, null, null, null, null, null, null, null, null, null, null, null, null, null, null, null, null, null, null, null, null, null, null, null, null, null, null, null, null, null, null, null, null, null, null, 1012.1643883580198, 942.7742294191066, 1022.0515965095593, 1064.6444703718637, 1070.095313114841, 1068.1692000812732, 1070.2196708401584, 1157.3294051431, 1190.5615121975702, 1190.2139531240698, 1171.0398025550087, 1225.0763524251192, 1181.128752831886, 1174.6123243773159, 1128.8237352683186, 1184.4988746417314, 1204.2443306201365, 1160.6978007742002, 1160.761168090816, 1141.1512296419992, 1061.4795078020659, 1042.1037961754114, 1072.5178302056015, 1094.1634015390594, 1089.8869801189087, 1090.7303924728246, 1131.5777437842357, 1104.1453100836934, 1109.4824307514648, 1031.7367151896665, 945.802670366871, 962.4224465176851, 896.1061270128993, 931.3785154205973, 939.1830760732289, 933.8222891943342, 910.116561836984, 876.5732338118686, 895.4697485661266, 944.3820454766445, 995.3365704375403, 991.6360644854891, 988.0280133916674, 1001.3677925702009, 1012.0984602930915, 1045.2842147400124, 1054.6471181315476, 1092.4626554053455, 1112.3025748442292, 1156.1309850778646, 1160.3960202326966, 1190.6101903980737, 1196.0143381488172, 1217.5292079509932, 1148.48081547139, 1182.8483591651016, 1165.1387051537956, 1142.5096142411458, 1185.6720338514428, 1231.328862537581, 1210.9809903607902, 1230.3081296953565, 1219.7823285158672, 1184.3383308738794, 1197.1664841343045, 1179.7463867102592, 1218.412148124424, 1221.101267571896, 1223.7643578567136, 1165.655199758376, 1188.5995413060093, 1198.988083508116, 1224.2770401530033, 1234.9511304197267, 1246.5510679648191, 1256.1737905012892, 1249.5900726803336, 1247.292547567813, 1271.749765594955, 1309.2888264550872, 1325.8711033991697, 1358.6337381650392, 1376.098073575057, 1404.0856383742234, 1415.7123502517916, 1408.846397309612, 1436.4091905003195, 1498.2477242911866, 1532.9322809344658, 1498.7740779116223, 1457.0039777137886, 1481.9442028965364, 1563.0565160730225, 1606.4921464627423, 1583.6969270219276, 1573.7911198104928, 1491.2583768789868, 1460.4379943665579, 1484.5942996789643, 1493.9297377868602, 1537.4341616465601, 1414.4728787227612, 1443.9521049523678, 1470.1263864811756, 1372.0130862858887, 1189.922041357257, 1095.9055694852655, 1109.7348049520401, 1059.2945286038641, 974.4918435240183, 1041.9674002467602, 1077.2495419118688, 1140.8293672352615, 1156.2418069553642, 1228.3670719512083, 1237.6243867601174, 1283.5665653641638, 1269.9665607018387, 1328.936364035135, 1362.4710055805651, 1325.4061245972257, 1353.8986131941429, 1422.7206236656627, 1414.0422482381675, 1332.4345914755631, 1304.1234038078014, 1390.411614268663, 1380.8578780331698, 1451.1795500932174, 1506.9508204743674, 1494.9055069121532, 1562.5248876184376, 1548.5498496006944, 1595.5504861468403, 1629.025582802622, 1695.6577640288133, 1720.3675809674967, 1720.181245648615, 1696.7233544608935, 1694.0657511623344, 1629.4784504193683, 1718.9322112439042, 1730.389329396078, 1768.2111665557732, 1766.9396930545406, 1788.1372662179692, 1830.094588686552, 1853.671159274315, 1827.7081271848128, 1894.1883497416227, 1935.1061248746048, 1912.9277848919817, 1939.9236241104836, 1927.9751169920878, 1937.8992724252346, 1921.1780426031764, 2032.8886797533937, 2101.010105640929, 2223.3755882275786, 2310.621087793948, 2216.9276046171976, 2231.8763832807604, 2318.3619883508823, 2231.814160489732, 2263.878471526938, 2378.7685454017073, 2410.135953523504, 2419.4403691391963, 2360.005931285705, 2429.5845606586167, 2505.1379435019835, 2544.3104369361263, 2597.7370529589493, 2675.7548719844617, 2573.5584167020074, 2709.682031210062, 2701.8351472441973, 2780.4450286356714, 2896.1402159861404, 2847.125428747386, 2771.516843071715, 2896.844719506247, 2861.71278767304, 2862.6951001255056, 2886.203818170061, 2819.904930216789, 2898.895689278756, 2768.9928021080927, 2740.66119573121, 2901.7302230715104, 2868.8449195084636, 2811.1988811759315, 2787.486230466722, 2803.5575585200554, 2970.2717390213047, 2943.149359355011, 2916.2743912919304, 3041.5861706605338, 3096.304892667967, 3063.8021900699937, 3037.572927678471, 2953.0694307508397, 2949.4846629270864, 3009.7618144177204, 3038.0057270352804, 3162.175812421411, 3184.4589738921236, 3210.1686304707378, 3269.749391709227, 3310.052352371991, 3349.6431596850293, 3316.2147678616047, 3333.943621258222, 3392.311657558536, 3541.4158911472987, 3536.7764560533737, 3609.1571358861625, 3432.5461800704375, 3442.4557612718686, 3444.8715657458956, 3458.2035684596945, 3557.089097415446, 3640.069742306471, 3724.966171377609, 3746.1182303268306, 3651.5368614345707, 3807.6528208665045, 3519.373168655914]}],\n                        {\"template\": {\"data\": {\"bar\": [{\"error_x\": {\"color\": \"#2a3f5f\"}, \"error_y\": {\"color\": \"#2a3f5f\"}, \"marker\": {\"line\": {\"color\": \"#E5ECF6\", \"width\": 0.5}}, \"type\": \"bar\"}], \"barpolar\": [{\"marker\": {\"line\": {\"color\": \"#E5ECF6\", \"width\": 0.5}}, \"type\": \"barpolar\"}], \"carpet\": [{\"aaxis\": {\"endlinecolor\": \"#2a3f5f\", \"gridcolor\": \"white\", \"linecolor\": \"white\", \"minorgridcolor\": \"white\", \"startlinecolor\": \"#2a3f5f\"}, \"baxis\": {\"endlinecolor\": \"#2a3f5f\", \"gridcolor\": \"white\", \"linecolor\": \"white\", \"minorgridcolor\": \"white\", \"startlinecolor\": \"#2a3f5f\"}, \"type\": \"carpet\"}], \"choropleth\": [{\"colorbar\": {\"outlinewidth\": 0, \"ticks\": \"\"}, \"type\": \"choropleth\"}], \"contour\": [{\"colorbar\": {\"outlinewidth\": 0, \"ticks\": \"\"}, \"colorscale\": [[0.0, \"#0d0887\"], [0.1111111111111111, \"#46039f\"], [0.2222222222222222, \"#7201a8\"], [0.3333333333333333, \"#9c179e\"], [0.4444444444444444, \"#bd3786\"], [0.5555555555555556, \"#d8576b\"], [0.6666666666666666, \"#ed7953\"], [0.7777777777777778, \"#fb9f3a\"], [0.8888888888888888, \"#fdca26\"], [1.0, \"#f0f921\"]], \"type\": \"contour\"}], \"contourcarpet\": [{\"colorbar\": {\"outlinewidth\": 0, \"ticks\": \"\"}, \"type\": \"contourcarpet\"}], \"heatmap\": [{\"colorbar\": {\"outlinewidth\": 0, \"ticks\": \"\"}, \"colorscale\": [[0.0, \"#0d0887\"], [0.1111111111111111, \"#46039f\"], [0.2222222222222222, \"#7201a8\"], [0.3333333333333333, \"#9c179e\"], [0.4444444444444444, \"#bd3786\"], [0.5555555555555556, \"#d8576b\"], [0.6666666666666666, \"#ed7953\"], [0.7777777777777778, \"#fb9f3a\"], [0.8888888888888888, \"#fdca26\"], [1.0, \"#f0f921\"]], \"type\": \"heatmap\"}], \"heatmapgl\": [{\"colorbar\": {\"outlinewidth\": 0, \"ticks\": \"\"}, \"colorscale\": [[0.0, \"#0d0887\"], [0.1111111111111111, \"#46039f\"], [0.2222222222222222, \"#7201a8\"], [0.3333333333333333, \"#9c179e\"], [0.4444444444444444, \"#bd3786\"], [0.5555555555555556, \"#d8576b\"], [0.6666666666666666, \"#ed7953\"], [0.7777777777777778, \"#fb9f3a\"], [0.8888888888888888, \"#fdca26\"], [1.0, \"#f0f921\"]], \"type\": \"heatmapgl\"}], \"histogram\": [{\"marker\": {\"colorbar\": {\"outlinewidth\": 0, \"ticks\": \"\"}}, \"type\": \"histogram\"}], \"histogram2d\": [{\"colorbar\": {\"outlinewidth\": 0, \"ticks\": \"\"}, \"colorscale\": [[0.0, \"#0d0887\"], [0.1111111111111111, \"#46039f\"], [0.2222222222222222, \"#7201a8\"], [0.3333333333333333, \"#9c179e\"], [0.4444444444444444, \"#bd3786\"], [0.5555555555555556, \"#d8576b\"], [0.6666666666666666, \"#ed7953\"], [0.7777777777777778, \"#fb9f3a\"], [0.8888888888888888, \"#fdca26\"], [1.0, \"#f0f921\"]], \"type\": \"histogram2d\"}], \"histogram2dcontour\": [{\"colorbar\": {\"outlinewidth\": 0, \"ticks\": \"\"}, \"colorscale\": [[0.0, \"#0d0887\"], [0.1111111111111111, \"#46039f\"], [0.2222222222222222, \"#7201a8\"], [0.3333333333333333, \"#9c179e\"], [0.4444444444444444, \"#bd3786\"], [0.5555555555555556, \"#d8576b\"], [0.6666666666666666, \"#ed7953\"], [0.7777777777777778, \"#fb9f3a\"], [0.8888888888888888, \"#fdca26\"], [1.0, \"#f0f921\"]], \"type\": \"histogram2dcontour\"}], \"mesh3d\": [{\"colorbar\": {\"outlinewidth\": 0, \"ticks\": \"\"}, \"type\": \"mesh3d\"}], \"parcoords\": [{\"line\": {\"colorbar\": {\"outlinewidth\": 0, \"ticks\": \"\"}}, \"type\": \"parcoords\"}], \"pie\": [{\"automargin\": true, \"type\": \"pie\"}], \"scatter\": [{\"marker\": {\"colorbar\": {\"outlinewidth\": 0, \"ticks\": \"\"}}, \"type\": \"scatter\"}], \"scatter3d\": [{\"line\": {\"colorbar\": {\"outlinewidth\": 0, \"ticks\": \"\"}}, \"marker\": {\"colorbar\": {\"outlinewidth\": 0, \"ticks\": \"\"}}, \"type\": \"scatter3d\"}], \"scattercarpet\": [{\"marker\": {\"colorbar\": {\"outlinewidth\": 0, \"ticks\": \"\"}}, \"type\": \"scattercarpet\"}], \"scattergeo\": [{\"marker\": {\"colorbar\": {\"outlinewidth\": 0, \"ticks\": \"\"}}, \"type\": \"scattergeo\"}], \"scattergl\": [{\"marker\": {\"colorbar\": {\"outlinewidth\": 0, \"ticks\": \"\"}}, \"type\": \"scattergl\"}], \"scattermapbox\": [{\"marker\": {\"colorbar\": {\"outlinewidth\": 0, \"ticks\": \"\"}}, \"type\": \"scattermapbox\"}], \"scatterpolar\": [{\"marker\": {\"colorbar\": {\"outlinewidth\": 0, \"ticks\": \"\"}}, \"type\": \"scatterpolar\"}], \"scatterpolargl\": [{\"marker\": {\"colorbar\": {\"outlinewidth\": 0, \"ticks\": \"\"}}, \"type\": \"scatterpolargl\"}], \"scatterternary\": [{\"marker\": {\"colorbar\": {\"outlinewidth\": 0, \"ticks\": \"\"}}, \"type\": \"scatterternary\"}], \"surface\": [{\"colorbar\": {\"outlinewidth\": 0, \"ticks\": \"\"}, \"colorscale\": [[0.0, \"#0d0887\"], [0.1111111111111111, \"#46039f\"], [0.2222222222222222, \"#7201a8\"], [0.3333333333333333, \"#9c179e\"], [0.4444444444444444, \"#bd3786\"], [0.5555555555555556, \"#d8576b\"], [0.6666666666666666, \"#ed7953\"], [0.7777777777777778, \"#fb9f3a\"], [0.8888888888888888, \"#fdca26\"], [1.0, \"#f0f921\"]], \"type\": \"surface\"}], \"table\": [{\"cells\": {\"fill\": {\"color\": \"#EBF0F8\"}, \"line\": {\"color\": \"white\"}}, \"header\": {\"fill\": {\"color\": \"#C8D4E3\"}, \"line\": {\"color\": \"white\"}}, \"type\": \"table\"}]}, \"layout\": {\"annotationdefaults\": {\"arrowcolor\": \"#2a3f5f\", \"arrowhead\": 0, \"arrowwidth\": 1}, \"coloraxis\": {\"colorbar\": {\"outlinewidth\": 0, \"ticks\": \"\"}}, \"colorscale\": {\"diverging\": [[0, \"#8e0152\"], [0.1, \"#c51b7d\"], [0.2, \"#de77ae\"], [0.3, \"#f1b6da\"], [0.4, \"#fde0ef\"], [0.5, \"#f7f7f7\"], [0.6, \"#e6f5d0\"], [0.7, \"#b8e186\"], [0.8, \"#7fbc41\"], [0.9, \"#4d9221\"], [1, \"#276419\"]], \"sequential\": [[0.0, \"#0d0887\"], [0.1111111111111111, \"#46039f\"], [0.2222222222222222, \"#7201a8\"], [0.3333333333333333, \"#9c179e\"], [0.4444444444444444, \"#bd3786\"], [0.5555555555555556, \"#d8576b\"], [0.6666666666666666, \"#ed7953\"], [0.7777777777777778, \"#fb9f3a\"], [0.8888888888888888, \"#fdca26\"], [1.0, \"#f0f921\"]], \"sequentialminus\": [[0.0, \"#0d0887\"], [0.1111111111111111, \"#46039f\"], [0.2222222222222222, \"#7201a8\"], [0.3333333333333333, \"#9c179e\"], [0.4444444444444444, \"#bd3786\"], [0.5555555555555556, \"#d8576b\"], [0.6666666666666666, \"#ed7953\"], [0.7777777777777778, \"#fb9f3a\"], [0.8888888888888888, \"#fdca26\"], [1.0, \"#f0f921\"]]}, \"colorway\": [\"#636efa\", \"#EF553B\", \"#00cc96\", \"#ab63fa\", \"#FFA15A\", \"#19d3f3\", \"#FF6692\", \"#B6E880\", \"#FF97FF\", \"#FECB52\"], \"font\": {\"color\": \"#2a3f5f\"}, \"geo\": {\"bgcolor\": \"white\", \"lakecolor\": \"white\", \"landcolor\": \"#E5ECF6\", \"showlakes\": true, \"showland\": true, \"subunitcolor\": \"white\"}, \"hoverlabel\": {\"align\": \"left\"}, \"hovermode\": \"closest\", \"mapbox\": {\"style\": \"light\"}, \"paper_bgcolor\": \"white\", \"plot_bgcolor\": \"#E5ECF6\", \"polar\": {\"angularaxis\": {\"gridcolor\": \"white\", \"linecolor\": \"white\", \"ticks\": \"\"}, \"bgcolor\": \"#E5ECF6\", \"radialaxis\": {\"gridcolor\": \"white\", \"linecolor\": \"white\", \"ticks\": \"\"}}, \"scene\": {\"xaxis\": {\"backgroundcolor\": \"#E5ECF6\", \"gridcolor\": \"white\", \"gridwidth\": 2, \"linecolor\": \"white\", \"showbackground\": true, \"ticks\": \"\", \"zerolinecolor\": \"white\"}, \"yaxis\": {\"backgroundcolor\": \"#E5ECF6\", \"gridcolor\": \"white\", \"gridwidth\": 2, \"linecolor\": \"white\", \"showbackground\": true, \"ticks\": \"\", \"zerolinecolor\": \"white\"}, \"zaxis\": {\"backgroundcolor\": \"#E5ECF6\", \"gridcolor\": \"white\", \"gridwidth\": 2, \"linecolor\": \"white\", \"showbackground\": true, \"ticks\": \"\", \"zerolinecolor\": \"white\"}}, \"shapedefaults\": {\"line\": {\"color\": \"#2a3f5f\"}}, \"ternary\": {\"aaxis\": {\"gridcolor\": \"white\", \"linecolor\": \"white\", \"ticks\": \"\"}, \"baxis\": {\"gridcolor\": \"white\", \"linecolor\": \"white\", \"ticks\": \"\"}, \"bgcolor\": \"#E5ECF6\", \"caxis\": {\"gridcolor\": \"white\", \"linecolor\": \"white\", \"ticks\": \"\"}}, \"title\": {\"x\": 0.05}, \"xaxis\": {\"automargin\": true, \"gridcolor\": \"white\", \"linecolor\": \"white\", \"ticks\": \"\", \"title\": {\"standoff\": 15}, \"zerolinecolor\": \"white\", \"zerolinewidth\": 2}, \"yaxis\": {\"automargin\": true, \"gridcolor\": \"white\", \"linecolor\": \"white\", \"ticks\": \"\", \"title\": {\"standoff\": 15}, \"zerolinecolor\": \"white\", \"zerolinewidth\": 2}}}},\n                        {\"responsive\": true}\n                    ).then(function(){\n                            \nvar gd = document.getElementById('a02f2af0-9c43-40bd-9d46-acbbca63a1be');\nvar x = new MutationObserver(function (mutations, observer) {{\n        var display = window.getComputedStyle(gd).display;\n        if (!display || display === 'none') {{\n            console.log([gd, 'removed!']);\n            Plotly.purge(gd);\n            observer.disconnect();\n        }}\n}});\n\n// Listen for the removal of the full notebook cells\nvar notebookContainer = gd.closest('#notebook-container');\nif (notebookContainer) {{\n    x.observe(notebookContainer, {childList: true});\n}}\n\n// Listen for the clearing of the current output cell\nvar outputEl = gd.closest('.output');\nif (outputEl) {{\n    x.observe(outputEl, {childList: true});\n}}\n\n                        })\n                };\n                });\n            </script>\n        </div>"
     },
     "metadata": {},
     "output_type": "display_data"
    },
    {
     "data": {
      "text/plain": "                    MW  GMV_Sample_Cov  GMV_Stat_shrink       EWT        EW\nann_ret       0.064564        0.066307         0.068468  0.076838  0.077614\nann_vol       0.151274        0.117410         0.114571  0.140774  0.158685\nsharpe_ratio  0.228488        0.309233         0.335752  0.332717  0.300054\nsemi_dev      0.032552        0.026149         0.025509  0.031184  0.034696\nKurtosis      1.248421        1.469165         1.264935  1.664374  2.317042\nSkew         -0.552933       -0.741107        -0.731286 -0.649872 -0.538531\nVaR          -0.073620       -0.057504        -0.055881 -0.067937 -0.075253\nCVaR         -0.096591       -0.082707        -0.076098 -0.093766 -0.106220\nDrawdown     -0.518857       -0.421287        -0.393404 -0.487413 -0.532980",
      "text/html": "<div>\n<style scoped>\n    .dataframe tbody tr th:only-of-type {\n        vertical-align: middle;\n    }\n\n    .dataframe tbody tr th {\n        vertical-align: top;\n    }\n\n    .dataframe thead th {\n        text-align: right;\n    }\n</style>\n<table border=\"1\" class=\"dataframe\">\n  <thead>\n    <tr style=\"text-align: right;\">\n      <th></th>\n      <th>MW</th>\n      <th>GMV_Sample_Cov</th>\n      <th>GMV_Stat_shrink</th>\n      <th>EWT</th>\n      <th>EW</th>\n    </tr>\n  </thead>\n  <tbody>\n    <tr>\n      <th>ann_ret</th>\n      <td>0.064564</td>\n      <td>0.066307</td>\n      <td>0.068468</td>\n      <td>0.076838</td>\n      <td>0.077614</td>\n    </tr>\n    <tr>\n      <th>ann_vol</th>\n      <td>0.151274</td>\n      <td>0.117410</td>\n      <td>0.114571</td>\n      <td>0.140774</td>\n      <td>0.158685</td>\n    </tr>\n    <tr>\n      <th>sharpe_ratio</th>\n      <td>0.228488</td>\n      <td>0.309233</td>\n      <td>0.335752</td>\n      <td>0.332717</td>\n      <td>0.300054</td>\n    </tr>\n    <tr>\n      <th>semi_dev</th>\n      <td>0.032552</td>\n      <td>0.026149</td>\n      <td>0.025509</td>\n      <td>0.031184</td>\n      <td>0.034696</td>\n    </tr>\n    <tr>\n      <th>Kurtosis</th>\n      <td>1.248421</td>\n      <td>1.469165</td>\n      <td>1.264935</td>\n      <td>1.664374</td>\n      <td>2.317042</td>\n    </tr>\n    <tr>\n      <th>Skew</th>\n      <td>-0.552933</td>\n      <td>-0.741107</td>\n      <td>-0.731286</td>\n      <td>-0.649872</td>\n      <td>-0.538531</td>\n    </tr>\n    <tr>\n      <th>VaR</th>\n      <td>-0.073620</td>\n      <td>-0.057504</td>\n      <td>-0.055881</td>\n      <td>-0.067937</td>\n      <td>-0.075253</td>\n    </tr>\n    <tr>\n      <th>CVaR</th>\n      <td>-0.096591</td>\n      <td>-0.082707</td>\n      <td>-0.076098</td>\n      <td>-0.093766</td>\n      <td>-0.106220</td>\n    </tr>\n    <tr>\n      <th>Drawdown</th>\n      <td>-0.518857</td>\n      <td>-0.421287</td>\n      <td>-0.393404</td>\n      <td>-0.487413</td>\n      <td>-0.532980</td>\n    </tr>\n  </tbody>\n</table>\n</div>"
     },
     "execution_count": 10,
     "metadata": {},
     "output_type": "execute_result"
    }
   ],
   "source": [
    "plot_wealth_index(btr1)\n",
    "\n"
   ],
   "metadata": {
    "collapsed": false,
    "pycharm": {
     "name": "#%%\n"
    }
   }
  },
  {
   "cell_type": "code",
   "execution_count": 5,
   "outputs": [],
   "source": [
    "ewt_pf = erk.bt_roll(ind_vw_97, weighting_scheme=erk.weight_ew, window=36, cap_wts=ind_mkt_wts_97, max_cw_mult=2, microcap_threshold=0.01)\n",
    "btr1.update(EWT=ewt_pf)"
   ],
   "metadata": {
    "collapsed": false,
    "pycharm": {
     "name": "#%%\n"
    }
   }
  },
  {
   "cell_type": "code",
   "execution_count": 6,
   "outputs": [],
   "source": [
    "te_ew_mw = erk.tracking_error(act_rets=ew_pf, exp_rets=mw_pf)\n",
    "te_ewt_mw = erk.tracking_error(act_rets=ewt_pf, exp_rets=mw_pf)"
   ],
   "metadata": {
    "collapsed": false,
    "pycharm": {
     "name": "#%%\n"
    }
   }
  },
  {
   "cell_type": "code",
   "execution_count": 7,
   "outputs": [],
   "source": [
    "gmv_sample_cov = erk.bt_roll(ind_vw_97, weighting_scheme=erk.weight_gmv, window=36)\n",
    "btr1.update(GMV_Sample_Cov=gmv_sample_cov)"
   ],
   "metadata": {
    "collapsed": false,
    "pycharm": {
     "name": "#%%\n"
    }
   }
  },
  {
   "cell_type": "code",
   "execution_count": 8,
   "outputs": [],
   "source": [
    "gmv_stat_cov = erk.bt_roll(ind_vw_97, weighting_scheme=erk.weight_gmv, window=36, cov_estimator=erk.stat_shrinkage_cov, delta=0.25)\n",
    "btr1.update(GMV_Stat_shrink=gmv_stat_cov)"
   ],
   "metadata": {
    "collapsed": false,
    "pycharm": {
     "name": "#%%\n"
    }
   }
  },
  {
   "cell_type": "markdown",
   "source": [
    "BLACK LITTERMAN MODEL\n",
    "\n",
    "\n"
   ],
   "metadata": {
    "collapsed": false,
    "pycharm": {
     "name": "#%% md\n"
    }
   }
  },
  {
   "cell_type": "code",
   "execution_count": 4,
   "outputs": [
    {
     "name": "stdout",
     "output_type": "stream",
     "text": [
      "Dash app running on http://127.0.0.1:8050/\n"
     ]
    }
   ],
   "source": [
    "app = dash.Dash()\n",
    "cg = CallbackGrouper()\n",
    "checkoptions = [\n",
    "    {'label': 'Weights', 'value': 0},\n",
    "    {'label': 'Cov_Mat', 'value': 1}\n",
    "]\n",
    "\n",
    "\n",
    "def get_bl_results(wts_prior: pd.Series, sigma_prior: pd.DataFrame, delta, tau, p: pd.DataFrame = None,\n",
    "                   q: pd.Series = None, omega=None, scale=True, wts_he=False):\n",
    "    pi = erk.rev_opt_implied_returns(delta, sigma_prior, wts_prior).to_numpy()\n",
    "    omega = omega.to_numpy()\n",
    "    diag_el = np.diag(omega)\n",
    "    if not diag_el.any():\n",
    "        omega = None\n",
    "    bl_mu, bl_sigma, omega = erk.black_litterman(wts_prior, sigma_prior, p, q, omega, delta, tau)\n",
    "    prior_wts, posterior_wts, wts_diff = erk.get_optimal_wts(sigma_prior, bl_sigma, pi, bl_mu, delta, tau,\n",
    "                                                             wts_he=wts_he, scale=scale)\n",
    "    wts = [prior_wts, posterior_wts, wts_diff]\n",
    "    return pi, bl_mu, bl_sigma, wts, omega\n",
    "\n",
    "\n",
    "def percent_format(col: pd.Series):\n",
    "    return col.map('{:.4%}'.format)\n",
    "\n",
    "\n",
    "app.layout = html.Div(\n",
    "    [html.Div([html.Div([dcc.Checklist(id='local_file', options=[{'label': 'Y', 'value': 1}], value=[],\n",
    "                                       labelStyle={'display': 'inline-block'}),\n",
    "                         dcc.Checklist(id='hard_coded', options=[{'label': 'H', 'value': 1}], value=[],\n",
    "                                       labelStyle={'display': 'inline-block'})\n",
    "                         ]),\n",
    "               html.Label(children='Enter list of asset names: '),\n",
    "               dcc.Input(id='asset_list', value='', type='text')], style={'display': 'inline-block'}),\n",
    "     html.Div([dcc.Checklist(id='display_table', options=checkoptions, value=[],\n",
    "                             labelStyle={'display': 'inline-block'})]),\n",
    "     html.Div(id='dump_vw_df', style={'display': 'none'}),\n",
    "     html.Div(id='dump_wt_df', style={'display': 'none'}),\n",
    "     html.Div(id='dump_wt_hc_df', style={'display': 'none'}),\n",
    "     html.Div(id='dump_sigma_hc_df', style={'display': 'none'}),\n",
    "     html.Div(id='dump_no', style={'display': 'none'}),\n",
    "     html.Button(id='proceed_to_views', children='PROCEED', n_clicks=0, style={'display': 'inline-block'}),\n",
    "     html.Div(id='wts_table_container', children=[dt.DataTable(id='wts_table', editable=True)],\n",
    "              style={'display': 'none'}),\n",
    "     html.Div(id='rhos_table_container', children=[dt.DataTable(id='rhos_table', editable=True)],\n",
    "              style={'display': 'none'}),\n",
    "     html.Div(id='vol_table_container', children=[dt.DataTable(id='vol_table', editable=True)],\n",
    "              style={'display': 'none'}),\n",
    "     html.Div(id='cov_table_container', children=[dt.DataTable(id='cov_table', editable=True)],\n",
    "              style={'display': 'none'}),\n",
    "     html.Div(id='view_params', children=[html.Label(children='Enter no of views: '),\n",
    "                                          dcc.Input(id='no_views', value='', type='number'),\n",
    "                                          html.Label(children='Enter tau: '),\n",
    "                                          dcc.Input(id='tau', value=0.02, type='number'),\n",
    "                                          html.Label(children='Enter delta: '),\n",
    "                                          dcc.Input(id='delta', value=2.5, type='number'),\n",
    "                                          html.Button(id='update_views', children='UPDATE VIEWS', n_clicks=0)],\n",
    "              style={'display': 'none'}),\n",
    "     html.Div(id='view_table_container', children=[dt.DataTable(id='view_table', editable=True)],\n",
    "              style={'display': 'none'}),\n",
    "     html.Div(id='pick_table_container', children=[dt.DataTable(id='pick_table', editable=True)],\n",
    "              style={'display': 'none'}),\n",
    "     html.Div(id='omega_table_container', children=[dt.DataTable(id='omega_table', editable=True)],\n",
    "              style={'display': 'none'}),\n",
    "     html.Button(id='update', children='UPDATE', n_clicks=0, style={'display': 'none'}),\n",
    "     html.Div(dt.DataTable(id='bl_results_table'),\n",
    "              style={'display': 'flex', 'justify-content': 'space-evenly', 'padding-top': '25px'}),\n",
    "     html.Div(html.Pre(id='disp_bl_cov', style={'display': 'block'}),\n",
    "              style={'display': 'flex', 'justify-content': 'space-evenly', 'padding-top': '25px'}),\n",
    "     html.Div(html.Pre(id='disp_omega', style={'display': 'block'}),\n",
    "              style={'display': 'flex', 'justify-content': 'space-evenly', 'padding-top': '25px'})\n",
    "     ])\n",
    "\n",
    "\n",
    "@cg.callback([Output('asset_list', 'value'),\n",
    "              Output('dump_no', 'children'),\n",
    "              Output('dump_vw_df', 'children'),\n",
    "              Output('dump_wt_df', 'children'),\n",
    "              Output('display_table', 'options')],\n",
    "             [Input('local_file', 'value')])\n",
    "def upd_asset_list(localfile):\n",
    "    if localfile:\n",
    "        ind_vw_2014 = erk.get_df('data/ind49_m_vw_rets.csv', to_per=True, start_period='2013', reqd_strategies=['Hlth', 'Fin', 'Whlsl', 'Rtail', 'Food'])\n",
    "        ind_mkt_wts_2014 = erk.plot_corr_mktret(ind_ret_filename='data/ind49_m_vw_rets.csv',\n",
    "                                                n_firms_filename='data/ind49_m_nfirms.csv',\n",
    "                                                size_filename='data/ind49_m_size.csv',\n",
    "                                                start_period='2014',\n",
    "                                                end_period=None,\n",
    "                                                to_per=True,\n",
    "                                                retrieve_mkt_cap_wts=True,\n",
    "                                                format='%Y%m',\n",
    "                                                reqd_strategies=['Hlth', 'Fin', 'Whlsl', 'Rtail', 'Food'])\n",
    "        a = ind_vw_2014.columns\n",
    "        asset_list = [' '.join(list(ind_vw_2014.columns))]\n",
    "        json_vw = ind_vw_2014.to_json(date_format='iso', orient='table')\n",
    "        json_wts = ind_mkt_wts_2014.to_json(date_format='iso', orient='table')\n",
    "        checkoptions = []\n",
    "        return asset_list, len(ind_vw_2014.columns), json_vw, json_wts, checkoptions\n",
    "\n",
    "\n",
    "@cg.callback([Output('dump_wt_hc_df', 'children'),\n",
    "              Output('dump_sigma_hc_df', 'children'),\n",
    "              Output('dump_no', 'children'),\n",
    "              Output('asset_list', 'value'),\n",
    "              Output('display_table', 'options')],\n",
    "             [Input('hard_coded', 'value')])\n",
    "def hard_code_cov(hard_coded):\n",
    "    if hard_coded:\n",
    "        countries = ['AU', 'CA', 'FR', 'DE', 'JP', 'UK', 'US']\n",
    "        asset_list = [' '.join(countries)]\n",
    "        wts_prior = pd.Series([0.016, 0.022, 0.052, 0.055, 0.116, 0.124, 0.615], index=countries, name='wts_prior')\n",
    "        rhos_prior = pd.DataFrame([[1.000, 0.488, 0.478, 0.515, 0.439, 0.512, 0.491],\n",
    "                                   [0.488, 1.000, 0.664, 0.655, 0.310, 0.608, 0.779],\n",
    "                                   [0.478, 0.664, 1.000, 0.861, 0.355, 0.783, 0.668],\n",
    "                                   [0.515, 0.655, 0.861, 1.000, 0.354, 0.777, 0.653],\n",
    "                                   [0.439, 0.310, 0.355, 0.354, 1.000, 0.405, 0.306],\n",
    "                                   [0.512, 0.608, 0.783, 0.777, 0.405, 1.000, 0.652],\n",
    "                                   [0.491, 0.779, 0.668, 0.653, 0.306, 0.652, 1.000]], index=countries,\n",
    "                                  columns=countries)\n",
    "        vol_prior = pd.DataFrame([0.160, 0.203, 0.248, 0.271, 0.210, 0.200, 0.187], index=countries, columns=['vol'])\n",
    "        sigma_prior = vol_prior @ vol_prior.T * rhos_prior\n",
    "        checkoptions = []\n",
    "        return wts_prior.to_json(orient='table'), sigma_prior.to_json(orient='table'), len(\n",
    "            countries), asset_list, checkoptions\n",
    "\n",
    "\n",
    "@app.callback([Output('no_views', 'max')],\n",
    "              [Input('dump_no', 'children')])\n",
    "def max_views(max):\n",
    "    return [int(max)]\n",
    "\n",
    "\n",
    "@cg.callback([Output('wts_table_container', 'style'),\n",
    "              Output('rhos_table_container', 'style'),\n",
    "              Output('vol_table_container', 'style'),\n",
    "              Output('cov_table_container', 'style'),\n",
    "              Output('wts_table', 'columns'),\n",
    "              Output('wts_table', 'data'),\n",
    "              Output('rhos_table', 'columns'),\n",
    "              Output('rhos_table', 'data'),\n",
    "              Output('vol_table', 'columns'),\n",
    "              Output('vol_table', 'data'),\n",
    "              Output('cov_table', 'columns'),\n",
    "              Output('cov_table', 'data'),\n",
    "              Output('view_params', 'style'),\n",
    "              Output('dump_no', 'children')],\n",
    "             [Input('proceed_to_views', 'n_clicks')],\n",
    "             [State('display_table', 'value'),\n",
    "              State('asset_list', 'value')])\n",
    "def upd_visibility(n_clicks, value, asset_list):\n",
    "    if isinstance(asset_list, list):\n",
    "        asset_list = asset_list[0]\n",
    "    asset_list = list(asset_list.split(' '))\n",
    "    disp_wts = disp_rhos = disp_vol = 'block' if 0 in value else 'none'\n",
    "    if 1 in value:\n",
    "        disp_rhos = disp_vol = 'none'\n",
    "    disp_cov = 'block' if 1 in value else 'none'\n",
    "    col_wts = [{'id': 'asset_name_wts', 'name': 'Assets'}] + [{'id': 'wts', 'name': 'Prior_weights'}]\n",
    "    data_wts = [dict(asset_name_wts=asset) for asset in asset_list]\n",
    "    col_vol = [{'id': 'asset_name_wts', 'name': 'Assets'}] + [{'id': 'vol', 'name': 'Prior_volatility'}]\n",
    "    data_vol = [dict(asset_name_wts=asset) for asset in asset_list]\n",
    "    col_rhos = [{'id': 'rhos', 'name': 'Rhos'}] + [{'id': asset, 'name': asset} for asset in asset_list]\n",
    "    data_rhos = [dict(rhos=asset) for asset in asset_list]\n",
    "    col_cov = [{'id': 'cov', 'name': 'cov_mat'}] + [{'id': asset, 'name': asset} for asset in asset_list]\n",
    "    data_cov = [dict(cov=asset) for asset in asset_list]\n",
    "    if n_clicks and n_clicks > 0:\n",
    "        return {'display': disp_wts}, {'display': disp_rhos}, {'display': disp_vol}, {'display': disp_cov}, \\\n",
    "               col_wts, data_wts, col_rhos, data_rhos, col_vol, data_vol, col_cov, data_cov, {'display': 'flex',\n",
    "                                                                                              'justify-content': 'space-evenly',\n",
    "                                                                                              'padding-top': '25px'}, \\\n",
    "               len(asset_list)\n",
    "\n",
    "\n",
    "@app.callback([Output('update', 'style'),\n",
    "               Output('view_table_container', 'style'),\n",
    "               Output('pick_table_container', 'style'),\n",
    "               Output('omega_table_container', 'style'),\n",
    "               Output('view_table', 'columns'),\n",
    "               Output('view_table', 'data'),\n",
    "               Output('pick_table', 'columns'),\n",
    "               Output('pick_table', 'data'),\n",
    "               Output('omega_table', 'columns'),\n",
    "               Output('omega_table', 'data')],\n",
    "              [Input('update_views', 'n_clicks')],\n",
    "              [State('no_views', 'value'),\n",
    "               State('asset_list', 'value')])\n",
    "def upd_view_tables(n_clicks, no_views, asset_list):\n",
    "    if isinstance(asset_list, list):\n",
    "        asset_list = asset_list[0]\n",
    "    asset_list = list(asset_list.split(' '))\n",
    "    col_views = [{'id': 'views_no', 'name': 'Views'}] + [{'id': 'views', 'name': 'views'}]\n",
    "    data_views = [dict(views_no=k) for k in range(1, no_views + 1)]\n",
    "    col_pick = [{'id': 'pick', 'name': 'pick_mat'}] + [{'id': asset, 'name': asset} for asset in asset_list]\n",
    "    data_pick = [dict(pick=k) for k in range(1, no_views + 1)]\n",
    "    col_omega = [{'id': 'omega', 'name': 'Omega'}] + [{'id': k, 'name': k} for k in range(no_views)]\n",
    "    data_omega = [dict(omega=k) for k in range(no_views)]\n",
    "    if n_clicks and n_clicks > 0:\n",
    "        return {'display': 'block'}, {'display': 'block'}, {\n",
    "            'display': 'block'}, {'display': 'block'}, col_views, data_views, col_pick, data_pick, col_omega, data_omega\n",
    "\n",
    "\n",
    "@app.callback([Output('disp_bl_cov', 'children'),\n",
    "               Output('disp_omega', 'children'),\n",
    "               Output('bl_results_table', 'columns'),\n",
    "               Output('bl_results_table', 'data')],\n",
    "              [Input('update', 'n_clicks')],\n",
    "              [State('wts_table', 'data'),\n",
    "               State('cov_table', 'data'),\n",
    "               State('rhos_table', 'data'),\n",
    "               State('vol_table', 'data'),\n",
    "               State('view_table', 'data'),\n",
    "               State('pick_table', 'data'),\n",
    "               State('omega_table', 'data'),\n",
    "               State('asset_list', 'value'),\n",
    "               State('display_table', 'value'),\n",
    "               State('dump_vw_df', 'children'),\n",
    "               State('dump_wt_df', 'children'),\n",
    "               State('dump_wt_hc_df', 'children'),\n",
    "               State('dump_sigma_hc_df', 'children'),\n",
    "               State('tau', 'value'),\n",
    "               State('delta', 'value')])\n",
    "def update_values(n_clicks, wts, cov, rhos, vol, views, pick_mat, omega_mat, asset_list, value, ind_vw_2014,\n",
    "                  ind_mkt_wts_2014, wts_hc, sigma_hc, tau, delta):\n",
    "    if isinstance(asset_list, list):\n",
    "        asset_list = asset_list[0]\n",
    "    asset_list = list(asset_list.split(' '))\n",
    "    if ind_vw_2014 is not None and ind_mkt_wts_2014 is not None:\n",
    "        ind_vw_2014 = pd.read_json(ind_vw_2014, orient='table').to_period('M')\n",
    "        ind_mkt_wts_2014 = pd.read_json(ind_mkt_wts_2014, orient='table').to_period('M').iloc[0].rename('wts_prior')\n",
    "        wts_prior = ind_mkt_wts_2014\n",
    "        # corr_results = erk.get_corr_mat(ind_vw_2014, window=36)\n",
    "        # corr_mat_group = corr_results[0]\n",
    "        rhos_prior = ind_vw_2014.corr()\n",
    "        vol_prior = erk.get_ann_vol(ind_vw_2014)\n",
    "        sigma_prior = vol_prior @ vol_prior.T * rhos_prior\n",
    "    elif wts_hc is not None and sigma_hc is not None:\n",
    "        wts_prior = pd.read_json(wts_hc, orient='table').squeeze()\n",
    "        sigma_prior = pd.read_json(sigma_hc, orient='table')\n",
    "    else:\n",
    "        wts_prior = pd.DataFrame(wts).set_index('asset_name_wts').squeeze().rename('wts_prior').fillna(0)\n",
    "        wts_prior = wts_prior.astype('float')\n",
    "        rhos_prior = 0\n",
    "        vol_prior = 0\n",
    "        if 1 not in value:\n",
    "            rhos_prior = pd.DataFrame(rhos, columns=[asset for asset in asset_list]).astype('float')\n",
    "            vol_prior = pd.DataFrame(vol)\n",
    "            vol_prior = vol_prior.astype('float').fillna(0)\n",
    "            sigma_prior = vol_prior @ vol_prior.T * rhos_prior\n",
    "        else:\n",
    "            sigma_prior = pd.DataFrame(cov, columns=[asset for asset in asset_list]).astype('float').fillna(0)\n",
    "    views = pd.DataFrame(views)['views']\n",
    "    views = views.astype('float').fillna(0)\n",
    "    pick_df = pd.DataFrame(pick_mat, columns=[asset for asset in asset_list], index=views.index).astype('float').fillna(\n",
    "        0)\n",
    "    omega_df = pd.DataFrame(omega_mat).astype('float').fillna(0)\n",
    "    omega_df.drop(axis=1, columns=['omega'], inplace=True)\n",
    "    pi, bl_mu, bl_sigma, wts, omega_df = get_bl_results(wts_prior, sigma_prior, delta, tau, pick_df, views,\n",
    "                                                        omega_df, scale=False, wts_he=True)\n",
    "    bl_results_df = pd.DataFrame({'Asset': asset_list,\n",
    "                                  'Cur_wts': wts_prior,\n",
    "                                  'Equil_wts': wts[0],\n",
    "                                  'Wts_Optimal': wts[1],\n",
    "                                  'Wts_Diff': wts[2],\n",
    "                                  'pi': pi,\n",
    "                                  'bl_mu': bl_mu})\n",
    "    float_cols = ['Cur_wts', 'Equil_wts', 'Wts_Optimal', 'Wts_Diff', 'pi', 'bl_mu']\n",
    "    for col in float_cols:\n",
    "        bl_results_df[col] = percent_format(bl_results_df[col])\n",
    "    disp_bl_cov = 'Posterior cov: \\n{}'.format(bl_sigma)\n",
    "    disp_omega = 'Omega Matrix: \\n{}'.format(omega_df)\n",
    "    bl_results_columns = [{'name': col, 'id': col} for col in bl_results_df.columns]\n",
    "    bl_results_data = bl_results_df.to_dict('records')\n",
    "    if n_clicks and n_clicks > 0:\n",
    "        return disp_bl_cov, disp_omega, bl_results_columns, bl_results_data\n",
    "\n",
    "\n",
    "cg.register(app)\n",
    "app.run_server()\n",
    "\n"
   ],
   "metadata": {
    "collapsed": false,
    "pycharm": {
     "name": "#%%\n"
    }
   }
  },
  {
   "cell_type": "code",
   "execution_count": null,
   "outputs": [],
   "source": [
    "\n"
   ],
   "metadata": {
    "collapsed": false,
    "pycharm": {
     "name": "#%%\n"
    }
   }
  }
 ],
 "metadata": {
  "kernelspec": {
   "display_name": "Python 3",
   "language": "python",
   "name": "python3"
  },
  "language_info": {
   "codemirror_mode": {
    "name": "ipython",
    "version": 2
   },
   "file_extension": ".py",
   "mimetype": "text/x-python",
   "name": "python",
   "nbconvert_exporter": "python",
   "pygments_lexer": "ipython2",
   "version": "2.7.6"
  }
 },
 "nbformat": 4,
 "nbformat_minor": 0
}